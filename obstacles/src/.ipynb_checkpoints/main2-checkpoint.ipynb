{
 "cells": [
  {
   "cell_type": "markdown",
   "metadata": {},
   "source": [
    "# インポート"
   ]
  },
  {
   "cell_type": "code",
   "execution_count": 1,
   "metadata": {},
   "outputs": [],
   "source": [
    "import create_population\n",
    "import create_population3\n",
    "import preprocessing\n",
    "from feature_engineering import FeatureCreator\n",
    "from feature_engineering_prediction import PredictionFeatureCreator\n",
    "\n",
    "import prediction\n",
    "from train_lgbm_rank_niti_cross import Trainer_lightgbm_rank_niti_cv\n",
    "from train_lgbm_rank_kaiki_cross import Trainer_lightgbm_rank_kaiki_cv\n",
    "from train_lgbm_time_cross import Trainer_lightgbm_time_cv\n",
    "\n",
    "from evaluation_lgbm_rank_niti_cross import Evaluator_lightgbm_rank_niti_cross\n",
    "\n",
    "import pandas as pd\n",
    "\n",
    "\n",
    "import condition_prediction\n",
    "\n",
    "\n",
    "from train_lightgbm_rank_niti import Trainer_lightgbm_rank_niti\n",
    "from train_lightgbm_time import Trainer_lightgbm_time\n",
    "from train_lightgbm_rank_kaiki import Trainer_lightgbm_rank_kaiki\n",
    "\n",
    "from evaluation_lightgbm_rank_niti import Evaluator_lightgbm_rank_niti\n",
    "from evaluation_lightgbm_time_kaiki import Evaluator_lightgbm_time_kaiki\n",
    "from evaluation_lightgbm_rank_kaiki import Evaluator_lightgbm_rank_kaiki\n",
    "from evaluation_pop import Evaluator_pop\n",
    "\n",
    "%load_ext autoreload"
   ]
  },
  {
   "cell_type": "code",
   "execution_count": 2,
   "metadata": {},
   "outputs": [],
   "source": [
    "%autoreload"
   ]
  },
  {
   "cell_type": "code",
   "execution_count": 3,
   "metadata": {},
   "outputs": [],
   "source": [
    "pd.set_option('display.max_columns', None)\n",
    "pd.set_option('display.max_rows', 100)"
   ]
  },
  {
   "cell_type": "markdown",
   "metadata": {},
   "source": [
    "# 学習母集団の作成\n",
    "- ここで何年までのデータを使うか設定してください\n",
    "- 2016-01-01から、2024-11-30まではスクレイピングしてあります\n",
    "- 特徴量が多いため、あまり年月が嵩むと処理が止まる恐れがあります"
   ]
  },
  {
   "cell_type": "code",
   "execution_count": 4,
   "metadata": {},
   "outputs": [],
   "source": [
    "# population = create_population.create(from_=\"2016-01-01\", to_=\"2023-12-31\")\n",
    "# population = create_population.create(from_=\"2020-01-01\", to_=\"2023-12-31\")\n",
    "# population = create_population.create(from_=\"2016-01-01\", to_=\"2023-12-31\")\n",
    "#テスト用\n",
    "# population = create_population.create(from_=\"2022-01-01\", to_=\"2023-12-31\")\n",
    "population = create_population.create(from_=\"2016-01-01\", to_=\"2024-11-30\")"
   ]
  },
  {
   "cell_type": "code",
   "execution_count": 5,
   "metadata": {
    "scrolled": true
   },
   "outputs": [
    {
     "data": {
      "text/html": [
       "<div>\n",
       "<style scoped>\n",
       "    .dataframe tbody tr th:only-of-type {\n",
       "        vertical-align: middle;\n",
       "    }\n",
       "\n",
       "    .dataframe tbody tr th {\n",
       "        vertical-align: top;\n",
       "    }\n",
       "\n",
       "    .dataframe thead th {\n",
       "        text-align: right;\n",
       "    }\n",
       "</style>\n",
       "<table border=\"1\" class=\"dataframe\">\n",
       "  <thead>\n",
       "    <tr style=\"text-align: right;\">\n",
       "      <th></th>\n",
       "      <th>race_id</th>\n",
       "      <th>date</th>\n",
       "      <th>horse_id</th>\n",
       "    </tr>\n",
       "  </thead>\n",
       "  <tbody>\n",
       "    <tr>\n",
       "      <th>0</th>\n",
       "      <td>201606010208</td>\n",
       "      <td>2016-01-09</td>\n",
       "      <td>2010103225</td>\n",
       "    </tr>\n",
       "    <tr>\n",
       "      <th>1</th>\n",
       "      <td>201606010208</td>\n",
       "      <td>2016-01-09</td>\n",
       "      <td>2012100619</td>\n",
       "    </tr>\n",
       "    <tr>\n",
       "      <th>2</th>\n",
       "      <td>201606010208</td>\n",
       "      <td>2016-01-09</td>\n",
       "      <td>2010104479</td>\n",
       "    </tr>\n",
       "    <tr>\n",
       "      <th>3</th>\n",
       "      <td>201606010208</td>\n",
       "      <td>2016-01-09</td>\n",
       "      <td>2010100880</td>\n",
       "    </tr>\n",
       "    <tr>\n",
       "      <th>4</th>\n",
       "      <td>201606010208</td>\n",
       "      <td>2016-01-09</td>\n",
       "      <td>2011102192</td>\n",
       "    </tr>\n",
       "    <tr>\n",
       "      <th>...</th>\n",
       "      <td>...</td>\n",
       "      <td>...</td>\n",
       "      <td>...</td>\n",
       "    </tr>\n",
       "    <tr>\n",
       "      <th>13185</th>\n",
       "      <td>202408060704</td>\n",
       "      <td>2024-11-23</td>\n",
       "      <td>2019104908</td>\n",
       "    </tr>\n",
       "    <tr>\n",
       "      <th>13186</th>\n",
       "      <td>202408060704</td>\n",
       "      <td>2024-11-23</td>\n",
       "      <td>2021102960</td>\n",
       "    </tr>\n",
       "    <tr>\n",
       "      <th>13187</th>\n",
       "      <td>202408060704</td>\n",
       "      <td>2024-11-23</td>\n",
       "      <td>2017103293</td>\n",
       "    </tr>\n",
       "    <tr>\n",
       "      <th>13188</th>\n",
       "      <td>202408060704</td>\n",
       "      <td>2024-11-23</td>\n",
       "      <td>2019106701</td>\n",
       "    </tr>\n",
       "    <tr>\n",
       "      <th>13189</th>\n",
       "      <td>202408060704</td>\n",
       "      <td>2024-11-23</td>\n",
       "      <td>2021103057</td>\n",
       "    </tr>\n",
       "  </tbody>\n",
       "</table>\n",
       "<p>13190 rows × 3 columns</p>\n",
       "</div>"
      ],
      "text/plain": [
       "            race_id       date    horse_id\n",
       "0      201606010208 2016-01-09  2010103225\n",
       "1      201606010208 2016-01-09  2012100619\n",
       "2      201606010208 2016-01-09  2010104479\n",
       "3      201606010208 2016-01-09  2010100880\n",
       "4      201606010208 2016-01-09  2011102192\n",
       "...             ...        ...         ...\n",
       "13185  202408060704 2024-11-23  2019104908\n",
       "13186  202408060704 2024-11-23  2021102960\n",
       "13187  202408060704 2024-11-23  2017103293\n",
       "13188  202408060704 2024-11-23  2019106701\n",
       "13189  202408060704 2024-11-23  2021103057\n",
       "\n",
       "[13190 rows x 3 columns]"
      ]
     },
     "execution_count": 5,
     "metadata": {},
     "output_type": "execute_result"
    }
   ],
   "source": [
    "population"
   ]
  },
  {
   "cell_type": "markdown",
   "metadata": {},
   "source": [
    "# データ加工"
   ]
  },
  {
   "cell_type": "code",
   "execution_count": 6,
   "metadata": {},
   "outputs": [
    {
     "name": "stderr",
     "output_type": "stream",
     "text": [
      "/Users/iniad/Documents/kenkyu_4/obstacles/src/preprocessing.py:520: FutureWarning: Downcasting object dtype arrays on .fillna, .ffill, .bfill is deprecated and will change in a future version. Call result.infer_objects(copy=False) instead. To opt-in to the future behavior, set `pd.set_option('future.no_silent_downcasting', True)`\n",
      "  df[\"place_course_category\"] = df[\"place_course_category\"].fillna(-1).astype(int)\n"
     ]
    }
   ],
   "source": [
    "#まとめて実行\n",
    "# レース結果テーブルの前処理\n",
    "results_preprocessed = preprocessing.process_results()\n",
    "# 馬の過去成績テーブルの加工\n",
    "horse_results_preprocessed = preprocessing.process_horse_results()\n",
    "# レース情報テーブルの前処理\n",
    "race_info_preprocessed = preprocessing.process_race_info()\n",
    "# 騎手リーディングテーブルの前処理\n",
    "jockey_leading_preprocessed = preprocessing.process_jockey_leading()\n",
    "# 調教師リーディングテーブルの前処理\n",
    "trainer_leading_preprocessed = preprocessing.process_trainer_leading()\n",
    "# 血統テーブルの前処理\n",
    "peds_preprocessed = preprocessing.process_peds()\n",
    "# 種牡馬リーディングテーブルの前処理\n",
    "sire_leading_preprocessed = preprocessing.process_sire_leading()\n",
    "bms_leading_preprocessed = preprocessing.process_sire_leading(\n",
    "    input_filename=\"bms_leading.csv\",\n",
    "    output_filename = \"bms_leading.csv\",\n",
    "    id_col = \"bms_id\",\n",
    ")\n",
    "# 払い戻しテーブルの前処理_２度目をするならcsvファイルを消さないとダメ\n",
    "return_tables_preprocessed = preprocessing.process_return_tables()"
   ]
  },
  {
   "cell_type": "code",
   "execution_count": null,
   "metadata": {},
   "outputs": [],
   "source": [
    "# 重複チェック\n",
    "results_preprocessed.duplicated(subset=[\"race_id\", \"horse_id\"]).sum()"
   ]
  },
  {
   "cell_type": "code",
   "execution_count": null,
   "metadata": {},
   "outputs": [],
   "source": [
    "# 欠損チェック\n",
    "results_preprocessed.isnull().sum()"
   ]
  },
  {
   "cell_type": "code",
   "execution_count": null,
   "metadata": {},
   "outputs": [],
   "source": [
    "# 欠損チェック\n",
    "horse_results_preprocessed.isnull().sum()"
   ]
  },
  {
   "cell_type": "code",
   "execution_count": null,
   "metadata": {},
   "outputs": [],
   "source": [
    "# 重複チェック\n",
    "horse_results_preprocessed.duplicated(subset=[\"horse_id\", \"date\"]).sum()"
   ]
  },
  {
   "cell_type": "code",
   "execution_count": null,
   "metadata": {},
   "outputs": [],
   "source": []
  },
  {
   "cell_type": "markdown",
   "metadata": {},
   "source": [
    "#  特徴量作成"
   ]
  },
  {
   "cell_type": "code",
   "execution_count": 7,
   "metadata": {},
   "outputs": [
    {
     "data": {
      "application/vnd.jupyter.widget-view+json": {
       "model_id": "906a385a93c74edbabbbac4f2c7174eb",
       "version_major": 2,
       "version_minor": 0
      },
      "text/plain": [
       "agg_horse_n_races_relative:   0%|          | 0/4 [00:00<?, ?it/s]"
      ]
     },
     "metadata": {},
     "output_type": "display_data"
    },
    {
     "name": "stdout",
     "output_type": "stream",
     "text": [
      "running agg_jockey()...\n",
      "running agg_jockey()...comp\n",
      "running agg_trainer()...\n",
      "running agg_trainer()...comp\n"
     ]
    },
    {
     "data": {
      "application/vnd.jupyter.widget-view+json": {
       "model_id": "3dae1056ab1c445f9d1940363519cdb6",
       "version_major": 2,
       "version_minor": 0
      },
      "text/plain": [
       "agg_horse_per_course_len:   0%|          | 0/4 [00:00<?, ?it/s]"
      ]
     },
     "metadata": {},
     "output_type": "display_data"
    },
    {
     "name": "stdout",
     "output_type": "stream",
     "text": [
      "running cross_features()...comp\n",
      "running agg_interval()...comp\n",
      "running cross_features_2()...comp\n"
     ]
    },
    {
     "data": {
      "application/vnd.jupyter.widget-view+json": {
       "model_id": "ea3b08c4b3214c1dba226293b18f36a9",
       "version_major": 2,
       "version_minor": 0
      },
      "text/plain": [
       "agg_cross_encoded:   0%|          | 0/4 [00:00<?, ?it/s]"
      ]
     },
     "metadata": {},
     "output_type": "display_data"
    },
    {
     "name": "stdout",
     "output_type": "stream",
     "text": [
      "running cross_features_3()...comp\n"
     ]
    },
    {
     "data": {
      "application/vnd.jupyter.widget-view+json": {
       "model_id": "9c788eae31d34a168c4fbdf949380e8e",
       "version_major": 2,
       "version_minor": 0
      },
      "text/plain": [
       "agg_cross_zizoku_syunpatu:   0%|          | 0/4 [00:00<?, ?it/s]"
      ]
     },
     "metadata": {},
     "output_type": "display_data"
    },
    {
     "name": "stdout",
     "output_type": "stream",
     "text": [
      "running cross_features_4()...comp\n",
      "running cross_features_5()...comp\n",
      "running cross_features_6()...comp\n"
     ]
    },
    {
     "data": {
      "application/vnd.jupyter.widget-view+json": {
       "model_id": "023269fcde8b43019d32de133a7c9b7a",
       "version_major": 2,
       "version_minor": 0
      },
      "text/plain": [
       "pace_category_win_1:   0%|          | 0/4 [00:00<?, ?it/s]"
      ]
     },
     "metadata": {},
     "output_type": "display_data"
    },
    {
     "data": {
      "application/vnd.jupyter.widget-view+json": {
       "model_id": "50eb443aed0f44dfa3f4324980229715",
       "version_major": 2,
       "version_minor": 0
      },
      "text/plain": [
       "pace_category_win_2:   0%|          | 0/4 [00:00<?, ?it/s]"
      ]
     },
     "metadata": {},
     "output_type": "display_data"
    },
    {
     "data": {
      "application/vnd.jupyter.widget-view+json": {
       "model_id": "7ebf30de87ba4c3385315faf64b5d251",
       "version_major": 2,
       "version_minor": 0
      },
      "text/plain": [
       "pace_category_win_3:   0%|          | 0/4 [00:00<?, ?it/s]"
      ]
     },
     "metadata": {},
     "output_type": "display_data"
    },
    {
     "data": {
      "application/vnd.jupyter.widget-view+json": {
       "model_id": "89ad9ff4a208468ca1d0ba07b1353355",
       "version_major": 2,
       "version_minor": 0
      },
      "text/plain": [
       "pace_category_win_4:   0%|          | 0/4 [00:00<?, ?it/s]"
      ]
     },
     "metadata": {},
     "output_type": "display_data"
    },
    {
     "name": "stdout",
     "output_type": "stream",
     "text": [
      "running cross_features_7()...comp\n"
     ]
    },
    {
     "data": {
      "application/vnd.jupyter.widget-view+json": {
       "model_id": "af86023e93624bc395ea676255549059",
       "version_major": 2,
       "version_minor": 0
      },
      "text/plain": [
       "agg_pace_per_score:   0%|          | 0/4 [00:00<?, ?it/s]"
      ]
     },
     "metadata": {},
     "output_type": "display_data"
    },
    {
     "name": "stdout",
     "output_type": "stream",
     "text": [
      "running cross_features_8()...comp\n"
     ]
    },
    {
     "data": {
      "application/vnd.jupyter.widget-view+json": {
       "model_id": "c423de16503d4f1d9d7ad3fa94dd991b",
       "version_major": 2,
       "version_minor": 0
      },
      "text/plain": [
       "agg_goal_per_score:   0%|          | 0/4 [00:00<?, ?it/s]"
      ]
     },
     "metadata": {},
     "output_type": "display_data"
    },
    {
     "name": "stdout",
     "output_type": "stream",
     "text": [
      "running cross_features_9()...comp\n"
     ]
    },
    {
     "data": {
      "application/vnd.jupyter.widget-view+json": {
       "model_id": "2092612d4c1d4d2dac2f037d7875085a",
       "version_major": 2,
       "version_minor": 0
      },
      "text/plain": [
       "agg_curve_per_score:   0%|          | 0/4 [00:00<?, ?it/s]"
      ]
     },
     "metadata": {},
     "output_type": "display_data"
    },
    {
     "name": "stdout",
     "output_type": "stream",
     "text": [
      "running cross_features_10()...comp\n"
     ]
    },
    {
     "data": {
      "application/vnd.jupyter.widget-view+json": {
       "model_id": "8982cfc14b734d0999b4f8232154d735",
       "version_major": 2,
       "version_minor": 0
      },
      "text/plain": [
       "agg_goal_slope_per_score:   0%|          | 0/4 [00:00<?, ?it/s]"
      ]
     },
     "metadata": {},
     "output_type": "display_data"
    },
    {
     "name": "stdout",
     "output_type": "stream",
     "text": [
      "running cross_features_11()...comp\n"
     ]
    },
    {
     "data": {
      "application/vnd.jupyter.widget-view+json": {
       "model_id": "485a1bf42ea44ef6a0adbaa0e310ab9e",
       "version_major": 2,
       "version_minor": 0
      },
      "text/plain": [
       "agg_stamina_per_score:   0%|          | 0/4 [00:00<?, ?it/s]"
      ]
     },
     "metadata": {},
     "output_type": "display_data"
    },
    {
     "name": "stdout",
     "output_type": "stream",
     "text": [
      "running cross_features_12()...comp\n"
     ]
    },
    {
     "data": {
      "application/vnd.jupyter.widget-view+json": {
       "model_id": "3b33d522ecac4c1a9f6ebd83277f7bf2",
       "version_major": 2,
       "version_minor": 0
      },
      "text/plain": [
       "agg_pace_per_score:   0%|          | 0/4 [00:00<?, ?it/s]"
      ]
     },
     "metadata": {},
     "output_type": "display_data"
    },
    {
     "data": {
      "application/vnd.jupyter.widget-view+json": {
       "model_id": "653a4e803bdf49f3bec8f99c87813bf4",
       "version_major": 2,
       "version_minor": 0
      },
      "text/plain": [
       "agg_goal_per_score:   0%|          | 0/4 [00:00<?, ?it/s]"
      ]
     },
     "metadata": {},
     "output_type": "display_data"
    },
    {
     "data": {
      "application/vnd.jupyter.widget-view+json": {
       "model_id": "1743b19d6ee941899208d606158ea040",
       "version_major": 2,
       "version_minor": 0
      },
      "text/plain": [
       "agg_curve_per_score:   0%|          | 0/4 [00:00<?, ?it/s]"
      ]
     },
     "metadata": {},
     "output_type": "display_data"
    },
    {
     "data": {
      "application/vnd.jupyter.widget-view+json": {
       "model_id": "e4cb6ce96af744b8bd4760d09e408bdb",
       "version_major": 2,
       "version_minor": 0
      },
      "text/plain": [
       "agg_goal_slope_per_score:   0%|          | 0/4 [00:00<?, ?it/s]"
      ]
     },
     "metadata": {},
     "output_type": "display_data"
    },
    {
     "data": {
      "application/vnd.jupyter.widget-view+json": {
       "model_id": "c77cda83e6ef4f8a93f6d6b7012f0173",
       "version_major": 2,
       "version_minor": 0
      },
      "text/plain": [
       "agg_stamina_per_score:   0%|          | 0/4 [00:00<?, ?it/s]"
      ]
     },
     "metadata": {},
     "output_type": "display_data"
    },
    {
     "name": "stdout",
     "output_type": "stream",
     "text": [
      "running cross_features_13()...comp\n"
     ]
    },
    {
     "data": {
      "application/vnd.jupyter.widget-view+json": {
       "model_id": "37399694fce349beac4592e4b053740f",
       "version_major": 2,
       "version_minor": 0
      },
      "text/plain": [
       "agg_raceclass_rankdiff_per_score:   0%|          | 0/4 [00:00<?, ?it/s]"
      ]
     },
     "metadata": {},
     "output_type": "display_data"
    },
    {
     "name": "stdout",
     "output_type": "stream",
     "text": [
      "running cross_features_14()...comp\n"
     ]
    },
    {
     "data": {
      "application/vnd.jupyter.widget-view+json": {
       "model_id": "d2fb0827882a44e9a3ed254aa68e1dd8",
       "version_major": 2,
       "version_minor": 0
      },
      "text/plain": [
       "speed_index:   0%|          | 0/4 [00:00<?, ?it/s]"
      ]
     },
     "metadata": {},
     "output_type": "display_data"
    },
    {
     "name": "stdout",
     "output_type": "stream",
     "text": [
      "running cross_features_15()...comp\n"
     ]
    },
    {
     "data": {
      "application/vnd.jupyter.widget-view+json": {
       "model_id": "5201a15f345b4335b03b411009fcede8",
       "version_major": 2,
       "version_minor": 0
      },
      "text/plain": [
       "agg_horse_per_ground_state_race_type:   0%|          | 0/4 [00:00<?, ?it/s]"
      ]
     },
     "metadata": {},
     "output_type": "display_data"
    },
    {
     "data": {
      "application/vnd.jupyter.widget-view+json": {
       "model_id": "8595041a21584b2297b95edcf8862a4e",
       "version_major": 2,
       "version_minor": 0
      },
      "text/plain": [
       "agg_horse_per_race_grade:   0%|          | 0/4 [00:00<?, ?it/s]"
      ]
     },
     "metadata": {},
     "output_type": "display_data"
    },
    {
     "data": {
      "application/vnd.jupyter.widget-view+json": {
       "model_id": "227dc5498ab0475aa881e9b5226b2f53",
       "version_major": 2,
       "version_minor": 0
      },
      "text/plain": [
       "agg_horse_per_race_type:   0%|          | 0/4 [00:00<?, ?it/s]"
      ]
     },
     "metadata": {},
     "output_type": "display_data"
    },
    {
     "data": {
      "application/vnd.jupyter.widget-view+json": {
       "model_id": "2f79e983dc07408bb86f449db0344651",
       "version_major": 2,
       "version_minor": 0
      },
      "text/plain": [
       "agg_horse_per_race_place_len:   0%|          | 0/4 [00:00<?, ?it/s]"
      ]
     },
     "metadata": {},
     "output_type": "display_data"
    },
    {
     "data": {
      "application/vnd.jupyter.widget-view+json": {
       "model_id": "c2ad473a696648989ee8a626b7d0889a",
       "version_major": 2,
       "version_minor": 0
      },
      "text/plain": [
       "agg_horse_per_race_place:   0%|          | 0/4 [00:00<?, ?it/s]"
      ]
     },
     "metadata": {},
     "output_type": "display_data"
    },
    {
     "data": {
      "application/vnd.jupyter.widget-view+json": {
       "model_id": "f031a2cca1e2452d999fefb3852c821a",
       "version_major": 2,
       "version_minor": 0
      },
      "text/plain": [
       "agg_horse_per_weather:   0%|          | 0/4 [00:00<?, ?it/s]"
      ]
     },
     "metadata": {},
     "output_type": "display_data"
    },
    {
     "name": "stdout",
     "output_type": "stream",
     "text": [
      "running agg_sire()...\n",
      "running agg_sire()...comp\n",
      "running agg_bms()...\n",
      "running agg_bms()...comp\n",
      "merging all features...\n",
      "merging all features...comp\n"
     ]
    }
   ],
   "source": [
    "fc = FeatureCreator()\n",
    "features = fc.create_features()"
   ]
  },
  {
   "cell_type": "code",
   "execution_count": null,
   "metadata": {},
   "outputs": [],
   "source": [
    "#もしもカーネルがリセットした場合、ここからfeatureをとる\n",
    "features = pd.read_csv(\"../data/02_features/features.csv\", sep=\"\\t\")"
   ]
  },
  {
   "cell_type": "code",
   "execution_count": null,
   "metadata": {},
   "outputs": [],
   "source": [
    "# 重複チェック\n",
    "features.duplicated(subset=[\"race_id\", \"horse_id\"]).sum()"
   ]
  },
  {
   "cell_type": "code",
   "execution_count": null,
   "metadata": {},
   "outputs": [],
   "source": [
    "#特徴量を変更した場合に実行、\"config_lightgbm_niti_new.yaml\"に特徴量リストが入る\n",
    "list(features.columns)\n",
    "import yaml\n",
    "feature_cols = {\n",
    "    \"features\": features.columns.drop(\n",
    "        [\"date\",\"rank\",\"rank_per_horse\",\"time\",\"nobori\",\"corner_1\",\"corner_2\",\"corner_3\",\"corner_4\",\n",
    "                        \"corner_1_per_horse\",\"corner_2_per_horse\",\n",
    "                        \"corner_3_per_horse\",\n",
    "                        \"corner_4_per_horse\", \"owner_id\"]\n",
    "    ).to_list()\n",
    "}\n",
    "print(feature_cols)\n",
    "with open(\"config_lightgbm_niti_new.yaml\",\"w\") as file:\n",
    "    yaml.dump(feature_cols,file\n",
    "              )"
   ]
  },
  {
   "cell_type": "code",
   "execution_count": null,
   "metadata": {},
   "outputs": [],
   "source": []
  },
  {
   "cell_type": "markdown",
   "metadata": {},
   "source": [
    "# 学習\n",
    "- 特徴量にオッズを利用したもの、利用していないもの\n",
    "- rank列を二値分類で予測したもの、回帰で予測したもの、time列を予測したもの\n",
    "- ホールドアウト法、cv(クロスバリデーション)を利用したもの\n",
    "- その他、独自の特徴量のみを利用したものなど、さまざまな学習モデルを作成する段階です\n",
    "- config_filepath=\"config_lightgbm_kaiki_odds_removed.yaml\"の部分を変更することで、特徴量やハイパーパラメータを変更できます\n",
    "- 好きな特徴量を選んで、学習させてください（保存先のファイル名の変更も忘れずに）"
   ]
  },
  {
   "cell_type": "code",
   "execution_count": 7,
   "metadata": {},
   "outputs": [
    {
     "name": "stdout",
     "output_type": "stream",
     "text": [
      "Training until validation scores don't improve for 100 rounds\n",
      "[100]\tvalid_0's binary_logloss: 0.259009\n",
      "[200]\tvalid_0's binary_logloss: 0.250677\n",
      "[300]\tvalid_0's binary_logloss: 0.249368\n",
      "[400]\tvalid_0's binary_logloss: 0.251441\n",
      "Early stopping, best iteration is:\n",
      "[300]\tvalid_0's binary_logloss: 0.249368\n"
     ]
    },
    {
     "data": {
      "text/html": [
       "<div>\n",
       "<style scoped>\n",
       "    .dataframe tbody tr th:only-of-type {\n",
       "        vertical-align: middle;\n",
       "    }\n",
       "\n",
       "    .dataframe tbody tr th {\n",
       "        vertical-align: top;\n",
       "    }\n",
       "\n",
       "    .dataframe thead th {\n",
       "        text-align: right;\n",
       "    }\n",
       "</style>\n",
       "<table border=\"1\" class=\"dataframe\">\n",
       "  <thead>\n",
       "    <tr style=\"text-align: right;\">\n",
       "      <th></th>\n",
       "      <th>race_id</th>\n",
       "      <th>horse_id</th>\n",
       "      <th>target</th>\n",
       "      <th>rank</th>\n",
       "      <th>tansho_odds</th>\n",
       "      <th>popularity</th>\n",
       "      <th>umaban</th>\n",
       "      <th>pred</th>\n",
       "    </tr>\n",
       "  </thead>\n",
       "  <tbody>\n",
       "    <tr>\n",
       "      <th>10073</th>\n",
       "      <td>202306010208</td>\n",
       "      <td>2016100158</td>\n",
       "      <td>1</td>\n",
       "      <td>1</td>\n",
       "      <td>4.4</td>\n",
       "      <td>2</td>\n",
       "      <td>11</td>\n",
       "      <td>0.093207</td>\n",
       "    </tr>\n",
       "    <tr>\n",
       "      <th>10074</th>\n",
       "      <td>202306010208</td>\n",
       "      <td>2016100569</td>\n",
       "      <td>0</td>\n",
       "      <td>2</td>\n",
       "      <td>6.5</td>\n",
       "      <td>4</td>\n",
       "      <td>10</td>\n",
       "      <td>0.159314</td>\n",
       "    </tr>\n",
       "    <tr>\n",
       "      <th>10075</th>\n",
       "      <td>202306010208</td>\n",
       "      <td>2016103252</td>\n",
       "      <td>0</td>\n",
       "      <td>3</td>\n",
       "      <td>3.9</td>\n",
       "      <td>1</td>\n",
       "      <td>9</td>\n",
       "      <td>0.162027</td>\n",
       "    </tr>\n",
       "    <tr>\n",
       "      <th>10076</th>\n",
       "      <td>202306010208</td>\n",
       "      <td>2014102394</td>\n",
       "      <td>0</td>\n",
       "      <td>4</td>\n",
       "      <td>76.6</td>\n",
       "      <td>11</td>\n",
       "      <td>6</td>\n",
       "      <td>0.010448</td>\n",
       "    </tr>\n",
       "    <tr>\n",
       "      <th>10077</th>\n",
       "      <td>202306010208</td>\n",
       "      <td>2018102953</td>\n",
       "      <td>0</td>\n",
       "      <td>5</td>\n",
       "      <td>5.0</td>\n",
       "      <td>3</td>\n",
       "      <td>5</td>\n",
       "      <td>0.130441</td>\n",
       "    </tr>\n",
       "    <tr>\n",
       "      <th>...</th>\n",
       "      <td>...</td>\n",
       "      <td>...</td>\n",
       "      <td>...</td>\n",
       "      <td>...</td>\n",
       "      <td>...</td>\n",
       "      <td>...</td>\n",
       "      <td>...</td>\n",
       "      <td>...</td>\n",
       "    </tr>\n",
       "    <tr>\n",
       "      <th>12498</th>\n",
       "      <td>202408060704</td>\n",
       "      <td>2017105602</td>\n",
       "      <td>0</td>\n",
       "      <td>6</td>\n",
       "      <td>3.5</td>\n",
       "      <td>2</td>\n",
       "      <td>5</td>\n",
       "      <td>0.076501</td>\n",
       "    </tr>\n",
       "    <tr>\n",
       "      <th>12499</th>\n",
       "      <td>202408060704</td>\n",
       "      <td>2019104908</td>\n",
       "      <td>0</td>\n",
       "      <td>7</td>\n",
       "      <td>14.0</td>\n",
       "      <td>6</td>\n",
       "      <td>11</td>\n",
       "      <td>0.043336</td>\n",
       "    </tr>\n",
       "    <tr>\n",
       "      <th>12500</th>\n",
       "      <td>202408060704</td>\n",
       "      <td>2021102960</td>\n",
       "      <td>0</td>\n",
       "      <td>8</td>\n",
       "      <td>30.2</td>\n",
       "      <td>8</td>\n",
       "      <td>4</td>\n",
       "      <td>0.025734</td>\n",
       "    </tr>\n",
       "    <tr>\n",
       "      <th>12501</th>\n",
       "      <td>202408060704</td>\n",
       "      <td>2017103293</td>\n",
       "      <td>0</td>\n",
       "      <td>9</td>\n",
       "      <td>6.4</td>\n",
       "      <td>4</td>\n",
       "      <td>7</td>\n",
       "      <td>0.076404</td>\n",
       "    </tr>\n",
       "    <tr>\n",
       "      <th>12502</th>\n",
       "      <td>202408060704</td>\n",
       "      <td>2019106701</td>\n",
       "      <td>0</td>\n",
       "      <td>10</td>\n",
       "      <td>25.2</td>\n",
       "      <td>7</td>\n",
       "      <td>10</td>\n",
       "      <td>0.035341</td>\n",
       "    </tr>\n",
       "  </tbody>\n",
       "</table>\n",
       "<p>2430 rows × 8 columns</p>\n",
       "</div>"
      ],
      "text/plain": [
       "            race_id    horse_id  target  rank  tansho_odds  popularity  \\\n",
       "10073  202306010208  2016100158       1     1          4.4           2   \n",
       "10074  202306010208  2016100569       0     2          6.5           4   \n",
       "10075  202306010208  2016103252       0     3          3.9           1   \n",
       "10076  202306010208  2014102394       0     4         76.6          11   \n",
       "10077  202306010208  2018102953       0     5          5.0           3   \n",
       "...             ...         ...     ...   ...          ...         ...   \n",
       "12498  202408060704  2017105602       0     6          3.5           2   \n",
       "12499  202408060704  2019104908       0     7         14.0           6   \n",
       "12500  202408060704  2021102960       0     8         30.2           8   \n",
       "12501  202408060704  2017103293       0     9          6.4           4   \n",
       "12502  202408060704  2019106701       0    10         25.2           7   \n",
       "\n",
       "       umaban      pred  \n",
       "10073      11  0.093207  \n",
       "10074      10  0.159314  \n",
       "10075       9  0.162027  \n",
       "10076       6  0.010448  \n",
       "10077       5  0.130441  \n",
       "...       ...       ...  \n",
       "12498       5  0.076501  \n",
       "12499      11  0.043336  \n",
       "12500       4  0.025734  \n",
       "12501       7  0.076404  \n",
       "12502      10  0.035341  \n",
       "\n",
       "[2430 rows x 8 columns]"
      ]
     },
     "metadata": {},
     "output_type": "display_data"
    },
    {
     "name": "stdout",
     "output_type": "stream",
     "text": [
      "-------------------- Metrics --------------------\n",
      "Log Loss: 0.2501\n",
      "Accuracy: 0.7000\n",
      "Precision: 0.2106\n",
      "Recall: 0.7948\n",
      "F1 Score: 0.3330\n",
      "ROC AUC: 0.8253\n",
      "test_df's binary_logloss: 0.2500968403616628\n"
     ]
    }
   ],
   "source": [
    "#オッズあり、ランク二値、ホールドアウト法\n",
    "trainer = Trainer_lightgbm_rank_niti()\n",
    "evaluation_df = trainer.run(\n",
    "    valid_start_date=\"2021-01-01\",\n",
    "    test_start_date=\"2023-01-01\"\n",
    ")"
   ]
  },
  {
   "cell_type": "code",
   "execution_count": 8,
   "metadata": {
    "scrolled": true
   },
   "outputs": [
    {
     "name": "stdout",
     "output_type": "stream",
     "text": [
      "Training until validation scores don't improve for 100 rounds\n",
      "[100]\tvalid_0's rmse: 2.83664\n",
      "[200]\tvalid_0's rmse: 2.70297\n",
      "[300]\tvalid_0's rmse: 2.6385\n",
      "[400]\tvalid_0's rmse: 2.59624\n",
      "[500]\tvalid_0's rmse: 2.57307\n",
      "[600]\tvalid_0's rmse: 2.56208\n",
      "[700]\tvalid_0's rmse: 2.55543\n",
      "[800]\tvalid_0's rmse: 2.55023\n",
      "[900]\tvalid_0's rmse: 2.54804\n",
      "[1000]\tvalid_0's rmse: 2.54489\n",
      "[1100]\tvalid_0's rmse: 2.54501\n",
      "[1200]\tvalid_0's rmse: 2.54406\n",
      "[1300]\tvalid_0's rmse: 2.54314\n",
      "[1400]\tvalid_0's rmse: 2.54331\n",
      "Early stopping, best iteration is:\n",
      "[1342]\tvalid_0's rmse: 2.54273\n"
     ]
    },
    {
     "data": {
      "text/html": [
       "<div>\n",
       "<style scoped>\n",
       "    .dataframe tbody tr th:only-of-type {\n",
       "        vertical-align: middle;\n",
       "    }\n",
       "\n",
       "    .dataframe tbody tr th {\n",
       "        vertical-align: top;\n",
       "    }\n",
       "\n",
       "    .dataframe thead th {\n",
       "        text-align: right;\n",
       "    }\n",
       "</style>\n",
       "<table border=\"1\" class=\"dataframe\">\n",
       "  <thead>\n",
       "    <tr style=\"text-align: right;\">\n",
       "      <th></th>\n",
       "      <th>race_id</th>\n",
       "      <th>horse_id</th>\n",
       "      <th>target</th>\n",
       "      <th>rank</th>\n",
       "      <th>tansho_odds</th>\n",
       "      <th>popularity</th>\n",
       "      <th>umaban</th>\n",
       "      <th>pred</th>\n",
       "    </tr>\n",
       "  </thead>\n",
       "  <tbody>\n",
       "    <tr>\n",
       "      <th>10073</th>\n",
       "      <td>202306010208</td>\n",
       "      <td>2016100158</td>\n",
       "      <td>1</td>\n",
       "      <td>1</td>\n",
       "      <td>4.4</td>\n",
       "      <td>2</td>\n",
       "      <td>11</td>\n",
       "      <td>4.008649</td>\n",
       "    </tr>\n",
       "    <tr>\n",
       "      <th>10074</th>\n",
       "      <td>202306010208</td>\n",
       "      <td>2016100569</td>\n",
       "      <td>2</td>\n",
       "      <td>2</td>\n",
       "      <td>6.5</td>\n",
       "      <td>4</td>\n",
       "      <td>10</td>\n",
       "      <td>6.223834</td>\n",
       "    </tr>\n",
       "    <tr>\n",
       "      <th>10075</th>\n",
       "      <td>202306010208</td>\n",
       "      <td>2016103252</td>\n",
       "      <td>3</td>\n",
       "      <td>3</td>\n",
       "      <td>3.9</td>\n",
       "      <td>1</td>\n",
       "      <td>9</td>\n",
       "      <td>4.686322</td>\n",
       "    </tr>\n",
       "    <tr>\n",
       "      <th>10076</th>\n",
       "      <td>202306010208</td>\n",
       "      <td>2014102394</td>\n",
       "      <td>4</td>\n",
       "      <td>4</td>\n",
       "      <td>76.6</td>\n",
       "      <td>11</td>\n",
       "      <td>6</td>\n",
       "      <td>6.545256</td>\n",
       "    </tr>\n",
       "    <tr>\n",
       "      <th>10077</th>\n",
       "      <td>202306010208</td>\n",
       "      <td>2018102953</td>\n",
       "      <td>5</td>\n",
       "      <td>5</td>\n",
       "      <td>5.0</td>\n",
       "      <td>3</td>\n",
       "      <td>5</td>\n",
       "      <td>3.268558</td>\n",
       "    </tr>\n",
       "    <tr>\n",
       "      <th>...</th>\n",
       "      <td>...</td>\n",
       "      <td>...</td>\n",
       "      <td>...</td>\n",
       "      <td>...</td>\n",
       "      <td>...</td>\n",
       "      <td>...</td>\n",
       "      <td>...</td>\n",
       "      <td>...</td>\n",
       "    </tr>\n",
       "    <tr>\n",
       "      <th>12498</th>\n",
       "      <td>202408060704</td>\n",
       "      <td>2017105602</td>\n",
       "      <td>6</td>\n",
       "      <td>6</td>\n",
       "      <td>3.5</td>\n",
       "      <td>2</td>\n",
       "      <td>5</td>\n",
       "      <td>4.759968</td>\n",
       "    </tr>\n",
       "    <tr>\n",
       "      <th>12499</th>\n",
       "      <td>202408060704</td>\n",
       "      <td>2019104908</td>\n",
       "      <td>7</td>\n",
       "      <td>7</td>\n",
       "      <td>14.0</td>\n",
       "      <td>6</td>\n",
       "      <td>11</td>\n",
       "      <td>5.435130</td>\n",
       "    </tr>\n",
       "    <tr>\n",
       "      <th>12500</th>\n",
       "      <td>202408060704</td>\n",
       "      <td>2021102960</td>\n",
       "      <td>8</td>\n",
       "      <td>8</td>\n",
       "      <td>30.2</td>\n",
       "      <td>8</td>\n",
       "      <td>4</td>\n",
       "      <td>5.506498</td>\n",
       "    </tr>\n",
       "    <tr>\n",
       "      <th>12501</th>\n",
       "      <td>202408060704</td>\n",
       "      <td>2017103293</td>\n",
       "      <td>9</td>\n",
       "      <td>9</td>\n",
       "      <td>6.4</td>\n",
       "      <td>4</td>\n",
       "      <td>7</td>\n",
       "      <td>5.710846</td>\n",
       "    </tr>\n",
       "    <tr>\n",
       "      <th>12502</th>\n",
       "      <td>202408060704</td>\n",
       "      <td>2019106701</td>\n",
       "      <td>10</td>\n",
       "      <td>10</td>\n",
       "      <td>25.2</td>\n",
       "      <td>7</td>\n",
       "      <td>10</td>\n",
       "      <td>7.996150</td>\n",
       "    </tr>\n",
       "  </tbody>\n",
       "</table>\n",
       "<p>2430 rows × 8 columns</p>\n",
       "</div>"
      ],
      "text/plain": [
       "            race_id    horse_id  target  rank  tansho_odds  popularity  \\\n",
       "10073  202306010208  2016100158       1     1          4.4           2   \n",
       "10074  202306010208  2016100569       2     2          6.5           4   \n",
       "10075  202306010208  2016103252       3     3          3.9           1   \n",
       "10076  202306010208  2014102394       4     4         76.6          11   \n",
       "10077  202306010208  2018102953       5     5          5.0           3   \n",
       "...             ...         ...     ...   ...          ...         ...   \n",
       "12498  202408060704  2017105602       6     6          3.5           2   \n",
       "12499  202408060704  2019104908       7     7         14.0           6   \n",
       "12500  202408060704  2021102960       8     8         30.2           8   \n",
       "12501  202408060704  2017103293       9     9          6.4           4   \n",
       "12502  202408060704  2019106701      10    10         25.2           7   \n",
       "\n",
       "       umaban      pred  \n",
       "10073      11  4.008649  \n",
       "10074      10  6.223834  \n",
       "10075       9  4.686322  \n",
       "10076       6  6.545256  \n",
       "10077       5  3.268558  \n",
       "...       ...       ...  \n",
       "12498       5  4.759968  \n",
       "12499      11  5.435130  \n",
       "12500       4  5.506498  \n",
       "12501       7  5.710846  \n",
       "12502      10  7.996150  \n",
       "\n",
       "[2430 rows x 8 columns]"
      ]
     },
     "metadata": {},
     "output_type": "display_data"
    },
    {
     "name": "stderr",
     "output_type": "stream",
     "text": [
      "/Users/iniad/miniconda3/envs/kenkyu4/lib/python3.11/site-packages/sklearn/metrics/_regression.py:492: FutureWarning: 'squared' is deprecated in version 1.4 and will be removed in 1.6. To calculate the root mean squared error, use the function'root_mean_squared_error'.\n",
      "  warnings.warn(\n",
      "/Users/iniad/miniconda3/envs/kenkyu4/lib/python3.11/site-packages/sklearn/metrics/_regression.py:492: FutureWarning: 'squared' is deprecated in version 1.4 and will be removed in 1.6. To calculate the root mean squared error, use the function'root_mean_squared_error'.\n",
      "  warnings.warn(\n"
     ]
    },
    {
     "ename": "NameError",
     "evalue": "name 'r2_score' is not defined",
     "output_type": "error",
     "traceback": [
      "\u001b[0;31m---------------------------------------------------------------------------\u001b[0m",
      "\u001b[0;31mNameError\u001b[0m                                 Traceback (most recent call last)",
      "Cell \u001b[0;32mIn[8], line 3\u001b[0m\n\u001b[1;32m      1\u001b[0m \u001b[38;5;66;03m#オッズあり、ランク回帰、ホールドアウト法\u001b[39;00m\n\u001b[1;32m      2\u001b[0m trainer \u001b[38;5;241m=\u001b[39m Trainer_lightgbm_rank_kaiki()\n\u001b[0;32m----> 3\u001b[0m evaluation_df \u001b[38;5;241m=\u001b[39m trainer\u001b[38;5;241m.\u001b[39mrun(\n\u001b[1;32m      4\u001b[0m     valid_start_date\u001b[38;5;241m=\u001b[39m\u001b[38;5;124m\"\u001b[39m\u001b[38;5;124m2022-01-01\u001b[39m\u001b[38;5;124m\"\u001b[39m,\n\u001b[1;32m      5\u001b[0m     test_start_date\u001b[38;5;241m=\u001b[39m\u001b[38;5;124m\"\u001b[39m\u001b[38;5;124m2023-01-01\u001b[39m\u001b[38;5;124m\"\u001b[39m\n\u001b[1;32m      6\u001b[0m )\n",
      "File \u001b[0;32m~/Documents/kenkyu_4/obstacles/src/train_lightgbm_rank_kaiki.py:168\u001b[0m, in \u001b[0;36mTrainer_lightgbm_rank_kaiki.run\u001b[0;34m(self, valid_start_date, test_start_date, importance_filename, model_filename, evaluation_filename)\u001b[0m\n\u001b[1;32m    161\u001b[0m \u001b[38;5;250m\u001b[39m\u001b[38;5;124;03m\"\"\"\u001b[39;00m\n\u001b[1;32m    162\u001b[0m \u001b[38;5;124;03m学習処理を実行する。\u001b[39;00m\n\u001b[1;32m    163\u001b[0m \u001b[38;5;124;03mtest_start_dateをYYYY-MM-DD形式で指定すると、 \u001b[39;00m\n\u001b[1;32m    164\u001b[0m \u001b[38;5;124;03mその日付以降のデータをテストデータに、\u001b[39;00m\n\u001b[1;32m    165\u001b[0m \u001b[38;5;124;03mそれより前のデータを学習データに分割する\u001b[39;00m\n\u001b[1;32m    166\u001b[0m \u001b[38;5;124;03m\"\"\"\u001b[39;00m\n\u001b[1;32m    167\u001b[0m \u001b[38;5;28mself\u001b[39m\u001b[38;5;241m.\u001b[39mcreate_dataset(valid_start_date, test_start_date)\n\u001b[0;32m--> 168\u001b[0m evaluation_df \u001b[38;5;241m=\u001b[39m \u001b[38;5;28mself\u001b[39m\u001b[38;5;241m.\u001b[39mtrain(\n\u001b[1;32m    169\u001b[0m     \u001b[38;5;28mself\u001b[39m\u001b[38;5;241m.\u001b[39mtrain_df,\n\u001b[1;32m    170\u001b[0m     \u001b[38;5;28mself\u001b[39m\u001b[38;5;241m.\u001b[39mvalid_df,\n\u001b[1;32m    171\u001b[0m     \u001b[38;5;28mself\u001b[39m\u001b[38;5;241m.\u001b[39mtest_df,\n\u001b[1;32m    172\u001b[0m     importance_filename,\n\u001b[1;32m    173\u001b[0m     model_filename,\n\u001b[1;32m    174\u001b[0m )\n\u001b[1;32m    175\u001b[0m evaluation_df\u001b[38;5;241m.\u001b[39mto_csv(\n\u001b[1;32m    176\u001b[0m     \u001b[38;5;28mself\u001b[39m\u001b[38;5;241m.\u001b[39moutput_dir \u001b[38;5;241m/\u001b[39m evaluation_filename, sep\u001b[38;5;241m=\u001b[39m\u001b[38;5;124m\"\u001b[39m\u001b[38;5;130;01m\\t\u001b[39;00m\u001b[38;5;124m\"\u001b[39m, index\u001b[38;5;241m=\u001b[39m\u001b[38;5;28;01mFalse\u001b[39;00m\n\u001b[1;32m    177\u001b[0m )\n\u001b[1;32m    178\u001b[0m \u001b[38;5;28;01mreturn\u001b[39;00m evaluation_df\n",
      "File \u001b[0;32m~/Documents/kenkyu_4/obstacles/src/train_lightgbm_rank_kaiki.py:139\u001b[0m, in \u001b[0;36mTrainer_lightgbm_rank_kaiki.train\u001b[0;34m(self, train_df, valid_df, test_df, importance_filename, model_filename)\u001b[0m\n\u001b[1;32m    136\u001b[0m \u001b[38;5;66;03m# 評価指標の計算\u001b[39;00m\n\u001b[1;32m    137\u001b[0m rmse \u001b[38;5;241m=\u001b[39m mean_squared_error(evaluation_df[\u001b[38;5;124m\"\u001b[39m\u001b[38;5;124mtarget\u001b[39m\u001b[38;5;124m\"\u001b[39m], evaluation_df[\u001b[38;5;124m\"\u001b[39m\u001b[38;5;124mpred\u001b[39m\u001b[38;5;124m\"\u001b[39m], squared\u001b[38;5;241m=\u001b[39m\u001b[38;5;28;01mFalse\u001b[39;00m)\n\u001b[0;32m--> 139\u001b[0m r2 \u001b[38;5;241m=\u001b[39m r2_score(evaluation_df[\u001b[38;5;124m\"\u001b[39m\u001b[38;5;124mtarget\u001b[39m\u001b[38;5;124m\"\u001b[39m], evaluation_df[\u001b[38;5;124m\"\u001b[39m\u001b[38;5;124mpred\u001b[39m\u001b[38;5;124m\"\u001b[39m])\n\u001b[1;32m    143\u001b[0m \u001b[38;5;66;03m# 結果を出力\u001b[39;00m\n\u001b[1;32m    144\u001b[0m \u001b[38;5;28mprint\u001b[39m(\u001b[38;5;124m\"\u001b[39m\u001b[38;5;124m-\u001b[39m\u001b[38;5;124m\"\u001b[39m \u001b[38;5;241m*\u001b[39m \u001b[38;5;241m20\u001b[39m \u001b[38;5;241m+\u001b[39m \u001b[38;5;124m\"\u001b[39m\u001b[38;5;124m Metrics \u001b[39m\u001b[38;5;124m\"\u001b[39m \u001b[38;5;241m+\u001b[39m \u001b[38;5;124m\"\u001b[39m\u001b[38;5;124m-\u001b[39m\u001b[38;5;124m\"\u001b[39m \u001b[38;5;241m*\u001b[39m \u001b[38;5;241m20\u001b[39m)\n",
      "\u001b[0;31mNameError\u001b[0m: name 'r2_score' is not defined"
     ]
    }
   ],
   "source": [
    "#オッズあり、ランク回帰、ホールドアウト法\n",
    "trainer = Trainer_lightgbm_rank_kaiki()\n",
    "evaluation_df = trainer.run(\n",
    "    valid_start_date=\"2021-01-01\",\n",
    "    test_start_date=\"2023-01-01\"\n",
    ")"
   ]
  },
  {
   "cell_type": "code",
   "execution_count": 4,
   "metadata": {
    "collapsed": true,
    "jupyter": {
     "outputs_hidden": true
    },
    "scrolled": true
   },
   "outputs": [
    {
     "ename": "KeyboardInterrupt",
     "evalue": "",
     "output_type": "error",
     "traceback": [
      "\u001b[0;31m---------------------------------------------------------------------------\u001b[0m",
      "\u001b[0;31mKeyboardInterrupt\u001b[0m                         Traceback (most recent call last)",
      "Cell \u001b[0;32mIn[4], line 2\u001b[0m\n\u001b[1;32m      1\u001b[0m \u001b[38;5;66;03m#オッズあり、time回帰、ホールドアウト法\u001b[39;00m\n\u001b[0;32m----> 2\u001b[0m trainer \u001b[38;5;241m=\u001b[39m Trainer_lightgbm_time()\n\u001b[1;32m      3\u001b[0m evaluation_df \u001b[38;5;241m=\u001b[39m trainer\u001b[38;5;241m.\u001b[39mrun(\n\u001b[1;32m      4\u001b[0m     valid_start_date\u001b[38;5;241m=\u001b[39m\u001b[38;5;124m\"\u001b[39m\u001b[38;5;124m2021-01-01\u001b[39m\u001b[38;5;124m\"\u001b[39m,\n\u001b[1;32m      5\u001b[0m     test_start_date\u001b[38;5;241m=\u001b[39m\u001b[38;5;124m\"\u001b[39m\u001b[38;5;124m2023-01-01\u001b[39m\u001b[38;5;124m\"\u001b[39m\n\u001b[1;32m      6\u001b[0m )\n",
      "File \u001b[0;32m~/Documents/kenkyu_4/obstacles/src/train_lightgbm_time.py:36\u001b[0m, in \u001b[0;36mTrainer_lightgbm_time.__init__\u001b[0;34m(self, input_dir, features_filename, config_filepath, output_dir)\u001b[0m\n\u001b[1;32m     29\u001b[0m \u001b[38;5;28;01mdef\u001b[39;00m \u001b[38;5;21m__init__\u001b[39m(\n\u001b[1;32m     30\u001b[0m     \u001b[38;5;28mself\u001b[39m,\n\u001b[1;32m     31\u001b[0m     input_dir: Path \u001b[38;5;241m=\u001b[39m INPUT_DIR,\n\u001b[0;32m   (...)\u001b[0m\n\u001b[1;32m     34\u001b[0m     output_dir: Path \u001b[38;5;241m=\u001b[39m OUTPUT_DIR,\n\u001b[1;32m     35\u001b[0m ):\n\u001b[0;32m---> 36\u001b[0m     \u001b[38;5;28mself\u001b[39m\u001b[38;5;241m.\u001b[39mfeatures \u001b[38;5;241m=\u001b[39m pd\u001b[38;5;241m.\u001b[39mread_csv(input_dir \u001b[38;5;241m/\u001b[39m features_filename, sep\u001b[38;5;241m=\u001b[39m\u001b[38;5;124m\"\u001b[39m\u001b[38;5;130;01m\\t\u001b[39;00m\u001b[38;5;124m\"\u001b[39m)\n\u001b[1;32m     37\u001b[0m     \u001b[38;5;28;01mwith\u001b[39;00m \u001b[38;5;28mopen\u001b[39m(config_filepath, \u001b[38;5;124m\"\u001b[39m\u001b[38;5;124mr\u001b[39m\u001b[38;5;124m\"\u001b[39m) \u001b[38;5;28;01mas\u001b[39;00m f:\n\u001b[1;32m     38\u001b[0m         config \u001b[38;5;241m=\u001b[39m yaml\u001b[38;5;241m.\u001b[39msafe_load(f)\n",
      "File \u001b[0;32m~/miniconda3/envs/kenkyu4/lib/python3.11/site-packages/pandas/io/parsers/readers.py:1026\u001b[0m, in \u001b[0;36mread_csv\u001b[0;34m(filepath_or_buffer, sep, delimiter, header, names, index_col, usecols, dtype, engine, converters, true_values, false_values, skipinitialspace, skiprows, skipfooter, nrows, na_values, keep_default_na, na_filter, verbose, skip_blank_lines, parse_dates, infer_datetime_format, keep_date_col, date_parser, date_format, dayfirst, cache_dates, iterator, chunksize, compression, thousands, decimal, lineterminator, quotechar, quoting, doublequote, escapechar, comment, encoding, encoding_errors, dialect, on_bad_lines, delim_whitespace, low_memory, memory_map, float_precision, storage_options, dtype_backend)\u001b[0m\n\u001b[1;32m   1013\u001b[0m kwds_defaults \u001b[38;5;241m=\u001b[39m _refine_defaults_read(\n\u001b[1;32m   1014\u001b[0m     dialect,\n\u001b[1;32m   1015\u001b[0m     delimiter,\n\u001b[0;32m   (...)\u001b[0m\n\u001b[1;32m   1022\u001b[0m     dtype_backend\u001b[38;5;241m=\u001b[39mdtype_backend,\n\u001b[1;32m   1023\u001b[0m )\n\u001b[1;32m   1024\u001b[0m kwds\u001b[38;5;241m.\u001b[39mupdate(kwds_defaults)\n\u001b[0;32m-> 1026\u001b[0m \u001b[38;5;28;01mreturn\u001b[39;00m _read(filepath_or_buffer, kwds)\n",
      "File \u001b[0;32m~/miniconda3/envs/kenkyu4/lib/python3.11/site-packages/pandas/io/parsers/readers.py:626\u001b[0m, in \u001b[0;36m_read\u001b[0;34m(filepath_or_buffer, kwds)\u001b[0m\n\u001b[1;32m    623\u001b[0m     \u001b[38;5;28;01mreturn\u001b[39;00m parser\n\u001b[1;32m    625\u001b[0m \u001b[38;5;28;01mwith\u001b[39;00m parser:\n\u001b[0;32m--> 626\u001b[0m     \u001b[38;5;28;01mreturn\u001b[39;00m parser\u001b[38;5;241m.\u001b[39mread(nrows)\n",
      "File \u001b[0;32m~/miniconda3/envs/kenkyu4/lib/python3.11/site-packages/pandas/io/parsers/readers.py:1923\u001b[0m, in \u001b[0;36mTextFileReader.read\u001b[0;34m(self, nrows)\u001b[0m\n\u001b[1;32m   1916\u001b[0m nrows \u001b[38;5;241m=\u001b[39m validate_integer(\u001b[38;5;124m\"\u001b[39m\u001b[38;5;124mnrows\u001b[39m\u001b[38;5;124m\"\u001b[39m, nrows)\n\u001b[1;32m   1917\u001b[0m \u001b[38;5;28;01mtry\u001b[39;00m:\n\u001b[1;32m   1918\u001b[0m     \u001b[38;5;66;03m# error: \"ParserBase\" has no attribute \"read\"\u001b[39;00m\n\u001b[1;32m   1919\u001b[0m     (\n\u001b[1;32m   1920\u001b[0m         index,\n\u001b[1;32m   1921\u001b[0m         columns,\n\u001b[1;32m   1922\u001b[0m         col_dict,\n\u001b[0;32m-> 1923\u001b[0m     ) \u001b[38;5;241m=\u001b[39m \u001b[38;5;28mself\u001b[39m\u001b[38;5;241m.\u001b[39m_engine\u001b[38;5;241m.\u001b[39mread(  \u001b[38;5;66;03m# type: ignore[attr-defined]\u001b[39;00m\n\u001b[1;32m   1924\u001b[0m         nrows\n\u001b[1;32m   1925\u001b[0m     )\n\u001b[1;32m   1926\u001b[0m \u001b[38;5;28;01mexcept\u001b[39;00m \u001b[38;5;167;01mException\u001b[39;00m:\n\u001b[1;32m   1927\u001b[0m     \u001b[38;5;28mself\u001b[39m\u001b[38;5;241m.\u001b[39mclose()\n",
      "File \u001b[0;32m~/miniconda3/envs/kenkyu4/lib/python3.11/site-packages/pandas/io/parsers/c_parser_wrapper.py:234\u001b[0m, in \u001b[0;36mCParserWrapper.read\u001b[0;34m(self, nrows)\u001b[0m\n\u001b[1;32m    232\u001b[0m \u001b[38;5;28;01mtry\u001b[39;00m:\n\u001b[1;32m    233\u001b[0m     \u001b[38;5;28;01mif\u001b[39;00m \u001b[38;5;28mself\u001b[39m\u001b[38;5;241m.\u001b[39mlow_memory:\n\u001b[0;32m--> 234\u001b[0m         chunks \u001b[38;5;241m=\u001b[39m \u001b[38;5;28mself\u001b[39m\u001b[38;5;241m.\u001b[39m_reader\u001b[38;5;241m.\u001b[39mread_low_memory(nrows)\n\u001b[1;32m    235\u001b[0m         \u001b[38;5;66;03m# destructive to chunks\u001b[39;00m\n\u001b[1;32m    236\u001b[0m         data \u001b[38;5;241m=\u001b[39m _concatenate_chunks(chunks)\n",
      "File \u001b[0;32mparsers.pyx:838\u001b[0m, in \u001b[0;36mpandas._libs.parsers.TextReader.read_low_memory\u001b[0;34m()\u001b[0m\n",
      "File \u001b[0;32mparsers.pyx:921\u001b[0m, in \u001b[0;36mpandas._libs.parsers.TextReader._read_rows\u001b[0;34m()\u001b[0m\n",
      "File \u001b[0;32mparsers.pyx:1083\u001b[0m, in \u001b[0;36mpandas._libs.parsers.TextReader._convert_column_data\u001b[0;34m()\u001b[0m\n",
      "File \u001b[0;32mparsers.pyx:1456\u001b[0m, in \u001b[0;36mpandas._libs.parsers._maybe_upcast\u001b[0;34m()\u001b[0m\n",
      "File \u001b[0;32m~/miniconda3/envs/kenkyu4/lib/python3.11/site-packages/numpy/_core/multiarray.py:1153\u001b[0m, in \u001b[0;36mputmask\u001b[0;34m(a, mask, values)\u001b[0m\n\u001b[1;32m   1103\u001b[0m \u001b[38;5;250m    \u001b[39m\u001b[38;5;124;03m\"\"\"\u001b[39;00m\n\u001b[1;32m   1104\u001b[0m \u001b[38;5;124;03m    copyto(dst, src, casting='same_kind', where=True)\u001b[39;00m\n\u001b[1;32m   1105\u001b[0m \n\u001b[0;32m   (...)\u001b[0m\n\u001b[1;32m   1148\u001b[0m \n\u001b[1;32m   1149\u001b[0m \u001b[38;5;124;03m    \"\"\"\u001b[39;00m\n\u001b[1;32m   1150\u001b[0m     \u001b[38;5;28;01mreturn\u001b[39;00m (dst, src, where)\n\u001b[0;32m-> 1153\u001b[0m \u001b[38;5;129m@array_function_from_c_func_and_dispatcher\u001b[39m(_multiarray_umath\u001b[38;5;241m.\u001b[39mputmask)\n\u001b[1;32m   1154\u001b[0m \u001b[38;5;28;01mdef\u001b[39;00m \u001b[38;5;21mputmask\u001b[39m(a, \u001b[38;5;241m/\u001b[39m, mask, values):\n\u001b[1;32m   1155\u001b[0m \u001b[38;5;250m    \u001b[39m\u001b[38;5;124;03m\"\"\"\u001b[39;00m\n\u001b[1;32m   1156\u001b[0m \u001b[38;5;124;03m    putmask(a, mask, values)\u001b[39;00m\n\u001b[1;32m   1157\u001b[0m \n\u001b[0;32m   (...)\u001b[0m\n\u001b[1;32m   1194\u001b[0m \n\u001b[1;32m   1195\u001b[0m \u001b[38;5;124;03m    \"\"\"\u001b[39;00m\n\u001b[1;32m   1196\u001b[0m     \u001b[38;5;28;01mreturn\u001b[39;00m (a, mask, values)\n",
      "\u001b[0;31mKeyboardInterrupt\u001b[0m: "
     ]
    }
   ],
   "source": [
    "#オッズあり、time回帰、ホールドアウト法\n",
    "trainer = Trainer_lightgbm_time()\n",
    "evaluation_df = trainer.run(\n",
    "    valid_start_date=\"2021-01-01\",\n",
    "    test_start_date=\"2023-01-01\"\n",
    ")"
   ]
  },
  {
   "cell_type": "code",
   "execution_count": null,
   "metadata": {},
   "outputs": [],
   "source": [
    "# オッズと人気を特徴量から省いたランク、二値、ホールドアウト法\n",
    "trainer = Trainer_lightgbm_rank_niti(config_filepath=\"config_lightgbm_niti_odds_removed.yaml\")\n",
    "evaluation_df = trainer.run(\n",
    "    valid_start_date=\"2021-01-01\",\n",
    "    test_start_date=\"2023-01-01\",\n",
    "    importance_filename=\"importance_lightgbm_rank_niti_odds_removed\",\n",
    "    model_filename=\"model_lightgbm_rank_niti_odds_removed.pkl\",\n",
    "    evaluation_filename=\"evaluation_lightgbm_rank_niti_odds_removed.csv\"\n",
    ")"
   ]
  },
  {
   "cell_type": "code",
   "execution_count": 5,
   "metadata": {
    "collapsed": true,
    "jupyter": {
     "outputs_hidden": true
    }
   },
   "outputs": [
    {
     "name": "stdout",
     "output_type": "stream",
     "text": [
      "[LightGBM] [Info] Auto-choosing col-wise multi-threading, the overhead of testing was 0.230809 seconds.\n",
      "You can set `force_col_wise=true` to remove the overhead.\n",
      "[LightGBM] [Info] Total Bins 677498\n",
      "[LightGBM] [Info] Number of data points in the train set: 7344, number of used features: 2853\n",
      "[LightGBM] [Info] Start training from score 204.093587\n",
      "Training until validation scores don't improve for 100 rounds\n",
      "[100]\tvalid_0's rmse: 7.33183\n",
      "[200]\tvalid_0's rmse: 3.65035\n",
      "[300]\tvalid_0's rmse: 2.84005\n",
      "[400]\tvalid_0's rmse: 2.71584\n",
      "[500]\tvalid_0's rmse: 2.69879\n",
      "[600]\tvalid_0's rmse: 2.69975\n",
      "Early stopping, best iteration is:\n",
      "[505]\tvalid_0's rmse: 2.69813\n"
     ]
    },
    {
     "data": {
      "text/html": [
       "<div>\n",
       "<style scoped>\n",
       "    .dataframe tbody tr th:only-of-type {\n",
       "        vertical-align: middle;\n",
       "    }\n",
       "\n",
       "    .dataframe tbody tr th {\n",
       "        vertical-align: top;\n",
       "    }\n",
       "\n",
       "    .dataframe thead th {\n",
       "        text-align: right;\n",
       "    }\n",
       "</style>\n",
       "<table border=\"1\" class=\"dataframe\">\n",
       "  <thead>\n",
       "    <tr style=\"text-align: right;\">\n",
       "      <th></th>\n",
       "      <th>race_id</th>\n",
       "      <th>horse_id</th>\n",
       "      <th>target</th>\n",
       "      <th>rank</th>\n",
       "      <th>tansho_odds</th>\n",
       "      <th>popularity</th>\n",
       "      <th>umaban</th>\n",
       "      <th>pred</th>\n",
       "    </tr>\n",
       "  </thead>\n",
       "  <tbody>\n",
       "    <tr>\n",
       "      <th>10073</th>\n",
       "      <td>202306010208</td>\n",
       "      <td>2016100158</td>\n",
       "      <td>218.4</td>\n",
       "      <td>1</td>\n",
       "      <td>4.4</td>\n",
       "      <td>2</td>\n",
       "      <td>11</td>\n",
       "      <td>216.181652</td>\n",
       "    </tr>\n",
       "    <tr>\n",
       "      <th>10074</th>\n",
       "      <td>202306010208</td>\n",
       "      <td>2016100569</td>\n",
       "      <td>218.5</td>\n",
       "      <td>2</td>\n",
       "      <td>6.5</td>\n",
       "      <td>4</td>\n",
       "      <td>10</td>\n",
       "      <td>216.561197</td>\n",
       "    </tr>\n",
       "    <tr>\n",
       "      <th>10075</th>\n",
       "      <td>202306010208</td>\n",
       "      <td>2016103252</td>\n",
       "      <td>218.7</td>\n",
       "      <td>3</td>\n",
       "      <td>3.9</td>\n",
       "      <td>1</td>\n",
       "      <td>9</td>\n",
       "      <td>217.373587</td>\n",
       "    </tr>\n",
       "    <tr>\n",
       "      <th>10076</th>\n",
       "      <td>202306010208</td>\n",
       "      <td>2014102394</td>\n",
       "      <td>218.9</td>\n",
       "      <td>4</td>\n",
       "      <td>76.6</td>\n",
       "      <td>11</td>\n",
       "      <td>6</td>\n",
       "      <td>216.620418</td>\n",
       "    </tr>\n",
       "    <tr>\n",
       "      <th>10077</th>\n",
       "      <td>202306010208</td>\n",
       "      <td>2018102953</td>\n",
       "      <td>219.1</td>\n",
       "      <td>5</td>\n",
       "      <td>5.0</td>\n",
       "      <td>3</td>\n",
       "      <td>5</td>\n",
       "      <td>216.497761</td>\n",
       "    </tr>\n",
       "    <tr>\n",
       "      <th>...</th>\n",
       "      <td>...</td>\n",
       "      <td>...</td>\n",
       "      <td>...</td>\n",
       "      <td>...</td>\n",
       "      <td>...</td>\n",
       "      <td>...</td>\n",
       "      <td>...</td>\n",
       "      <td>...</td>\n",
       "    </tr>\n",
       "    <tr>\n",
       "      <th>12498</th>\n",
       "      <td>202408060704</td>\n",
       "      <td>2017105602</td>\n",
       "      <td>202.2</td>\n",
       "      <td>6</td>\n",
       "      <td>3.5</td>\n",
       "      <td>2</td>\n",
       "      <td>5</td>\n",
       "      <td>205.792623</td>\n",
       "    </tr>\n",
       "    <tr>\n",
       "      <th>12499</th>\n",
       "      <td>202408060704</td>\n",
       "      <td>2019104908</td>\n",
       "      <td>205.0</td>\n",
       "      <td>7</td>\n",
       "      <td>14.0</td>\n",
       "      <td>6</td>\n",
       "      <td>11</td>\n",
       "      <td>202.970840</td>\n",
       "    </tr>\n",
       "    <tr>\n",
       "      <th>12500</th>\n",
       "      <td>202408060704</td>\n",
       "      <td>2021102960</td>\n",
       "      <td>205.5</td>\n",
       "      <td>8</td>\n",
       "      <td>30.2</td>\n",
       "      <td>8</td>\n",
       "      <td>4</td>\n",
       "      <td>202.571526</td>\n",
       "    </tr>\n",
       "    <tr>\n",
       "      <th>12501</th>\n",
       "      <td>202408060704</td>\n",
       "      <td>2017103293</td>\n",
       "      <td>208.8</td>\n",
       "      <td>9</td>\n",
       "      <td>6.4</td>\n",
       "      <td>4</td>\n",
       "      <td>7</td>\n",
       "      <td>202.713665</td>\n",
       "    </tr>\n",
       "    <tr>\n",
       "      <th>12502</th>\n",
       "      <td>202408060704</td>\n",
       "      <td>2019106701</td>\n",
       "      <td>217.0</td>\n",
       "      <td>10</td>\n",
       "      <td>25.2</td>\n",
       "      <td>7</td>\n",
       "      <td>10</td>\n",
       "      <td>209.125598</td>\n",
       "    </tr>\n",
       "  </tbody>\n",
       "</table>\n",
       "<p>2430 rows × 8 columns</p>\n",
       "</div>"
      ],
      "text/plain": [
       "            race_id    horse_id  target  rank  tansho_odds  popularity  \\\n",
       "10073  202306010208  2016100158   218.4     1          4.4           2   \n",
       "10074  202306010208  2016100569   218.5     2          6.5           4   \n",
       "10075  202306010208  2016103252   218.7     3          3.9           1   \n",
       "10076  202306010208  2014102394   218.9     4         76.6          11   \n",
       "10077  202306010208  2018102953   219.1     5          5.0           3   \n",
       "...             ...         ...     ...   ...          ...         ...   \n",
       "12498  202408060704  2017105602   202.2     6          3.5           2   \n",
       "12499  202408060704  2019104908   205.0     7         14.0           6   \n",
       "12500  202408060704  2021102960   205.5     8         30.2           8   \n",
       "12501  202408060704  2017103293   208.8     9          6.4           4   \n",
       "12502  202408060704  2019106701   217.0    10         25.2           7   \n",
       "\n",
       "       umaban        pred  \n",
       "10073      11  216.181652  \n",
       "10074      10  216.561197  \n",
       "10075       9  217.373587  \n",
       "10076       6  216.620418  \n",
       "10077       5  216.497761  \n",
       "...       ...         ...  \n",
       "12498       5  205.792623  \n",
       "12499      11  202.970840  \n",
       "12500       4  202.571526  \n",
       "12501       7  202.713665  \n",
       "12502      10  209.125598  \n",
       "\n",
       "[2430 rows x 8 columns]"
      ]
     },
     "metadata": {},
     "output_type": "display_data"
    },
    {
     "name": "stdout",
     "output_type": "stream",
     "text": [
      "-------------------- Metrics --------------------\n",
      "RMSE: 2.9141\n",
      "値が1に近いほど良いR²: 0.9766\n",
      "test_df's root_mean_squared_error: 2.914062095929303\n"
     ]
    },
    {
     "name": "stderr",
     "output_type": "stream",
     "text": [
      "/Users/iniad/miniconda3/envs/kenkyu4/lib/python3.11/site-packages/sklearn/metrics/_regression.py:492: FutureWarning: 'squared' is deprecated in version 1.4 and will be removed in 1.6. To calculate the root mean squared error, use the function'root_mean_squared_error'.\n",
      "  warnings.warn(\n",
      "/Users/iniad/miniconda3/envs/kenkyu4/lib/python3.11/site-packages/sklearn/metrics/_regression.py:492: FutureWarning: 'squared' is deprecated in version 1.4 and will be removed in 1.6. To calculate the root mean squared error, use the function'root_mean_squared_error'.\n",
      "  warnings.warn(\n"
     ]
    },
    {
     "data": {
      "image/png": "[encoded data removed]",
      "text/plain": [
       "<Figure size 640x480 with 1 Axes>"
      ]
     },
     "metadata": {},
     "output_type": "display_data"
    }
   ],
   "source": [
    "# オッズと人気を特徴量から省いた場合,time回帰,ホールドアウト法\n",
    "trainer = Trainer_lightgbm_time(config_filepath=\"config_lightgbm_kaiki_odds_removed.yaml\")\n",
    "evaluation_df = trainer.run(\n",
    "    valid_start_date=\"2021-01-01\",\n",
    "    test_start_date=\"2023-01-01\",\n",
    "    importance_filename=\"importance_lightgbm_time_odds_removed\",\n",
    "    model_filename=\"model_lightgbm_time_odds_removed.pkl\",\n",
    "    evaluation_filename=\"evaluation_lightgbm_time_odds_removed.csv\"\n",
    ")"
   ]
  },
  {
   "cell_type": "code",
   "execution_count": null,
   "metadata": {},
   "outputs": [],
   "source": [
    "# オッズと人気を特徴量から省いたランク、回帰、ホールドアウト法\n",
    "trainer = Trainer_lightgbm_rank_kaiki(config_filepath=\"config_lightgbm_kaiki_odds_removed.yaml\")\n",
    "evaluation_df = trainer.run(\n",
    "    valid_start_date=\"2021-01-01\",\n",
    "    test_start_date=\"2023-01-01\",\n",
    "    importance_filename=\"importance_lightgbm_rank_kaiki_odds_removed\",\n",
    "    model_filename=\"model_lightgbm_rank_kaiki_odds_removed.pkl\",\n",
    "    evaluation_filename=\"evaluation_lightgbm_rank_kaiki_odds_removed.csv\"\n",
    ")"
   ]
  },
  {
   "cell_type": "code",
   "execution_count": null,
   "metadata": {},
   "outputs": [],
   "source": [
    "# オッズと人気を特徴量から省いたランク、二値、クロスバリデーション\n",
    "trainer = Trainer_lightgbm_rank_niti_cv(config_filepath=\"config_lightgbm_niti_odds_removed.yaml\")\n",
    "evaluation_df = trainer.run(\n",
    "    n_splits = 3,\n",
    "    importance_filename=\"importance_lightgbm_rank_niti_cv_odds_removed\",\n",
    "    model_filename=\"model_lightgbm_rank_niti_cv_odds_removed.pkl\",\n",
    "    evaluation_filename=\"evaluation_lightgbm_rank_niti_cv_odds_removed.csv\",\n",
    "    final_model_filename = \"model_lightgbm_rank_niti_cv_full_odds_removed.pkl\"\n",
    ")"
   ]
  },
  {
   "cell_type": "code",
   "execution_count": null,
   "metadata": {},
   "outputs": [],
   "source": [
    "#全体のレースを学習した際、最後のブースト回数よりも多いか確認\n",
    "import lightgbm as lgb\n",
    "import pickle\n",
    "\n",
    "from pathlib import Path\n",
    "DATA_DIR = Path(\"..\", \"data\")\n",
    "INPUT_DIR = DATA_DIR / \"02_features\"\n",
    "OUTPUT_DIR = DATA_DIR / \"03_train\"\n",
    "\n",
    "# モデルの読み込み\n",
    "with open(OUTPUT_DIR/\"model_lightgbm_rank_niti_cv_full_odds_removed.pkl\", \"rb\") as f:\n",
    "    model = pickle.load(f)\n",
    "\n",
    "# ブースト回数の取得\n",
    "num_trees = model.num_trees()\n",
    "\n",
    "print(f\"ブースト回数（num_boost_round）: {num_trees}\")"
   ]
  },
  {
   "cell_type": "code",
   "execution_count": null,
   "metadata": {},
   "outputs": [],
   "source": [
    "# オッズと人気を特徴量から省いたランク、回帰、クロスバリデーション\n",
    "trainer = Trainer_lightgbm_rank_kaiki_cv(config_filepath=\"config_lightgbm_kaiki_odds_removed.yaml\")\n",
    "evaluation_df = trainer.run(\n",
    "    n_splits = 3,\n",
    "    importance_filename=\"importance_lightgbm_rank_kaiki_cv_odds_removed\",\n",
    "    model_filename=\"model_lightgbm_rank_kaiki_cv_odds_removed.pkl\",\n",
    "    evaluation_filename=\"evaluation_lightgbm_rank_kaiki_cv_odds_removed.csv\",\n",
    "    final_model_filename = \"model_lightgbm_rank_kaiki_cv_full_odds_removed.pkl\"\n",
    ")"
   ]
  },
  {
   "cell_type": "code",
   "execution_count": 6,
   "metadata": {},
   "outputs": [
    {
     "name": "stdout",
     "output_type": "stream",
     "text": [
      "Training fold 1/3...\n",
      "[LightGBM] [Info] Auto-choosing col-wise multi-threading, the overhead of testing was 0.111973 seconds.\n",
      "You can set `force_col_wise=true` to remove the overhead.\n",
      "[LightGBM] [Info] Total Bins 669403\n",
      "[LightGBM] [Info] Number of data points in the train set: 4167, number of used features: 2850\n",
      "[LightGBM] [Info] Start training from score 203.518838\n",
      "Training until validation scores don't improve for 100 rounds\n",
      "[100]\tvalid_0's rmse: 7.45141\n",
      "[200]\tvalid_0's rmse: 3.93545\n",
      "[300]\tvalid_0's rmse: 3.15786\n",
      "[400]\tvalid_0's rmse: 3.01094\n",
      "[500]\tvalid_0's rmse: 2.97518\n",
      "[600]\tvalid_0's rmse: 2.9678\n",
      "[700]\tvalid_0's rmse: 2.96655\n",
      "[800]\tvalid_0's rmse: 2.96723\n",
      "Early stopping, best iteration is:\n",
      "[751]\tvalid_0's rmse: 2.96642\n"
     ]
    },
    {
     "name": "stderr",
     "output_type": "stream",
     "text": [
      "/Users/iniad/miniconda3/envs/kenkyu4/lib/python3.11/site-packages/sklearn/metrics/_regression.py:492: FutureWarning: 'squared' is deprecated in version 1.4 and will be removed in 1.6. To calculate the root mean squared error, use the function'root_mean_squared_error'.\n",
      "  warnings.warn(\n",
      "/Users/iniad/miniconda3/envs/kenkyu4/lib/python3.11/site-packages/sklearn/metrics/_regression.py:492: FutureWarning: 'squared' is deprecated in version 1.4 and will be removed in 1.6. To calculate the root mean squared error, use the function'root_mean_squared_error'.\n",
      "  warnings.warn(\n"
     ]
    },
    {
     "name": "stdout",
     "output_type": "stream",
     "text": [
      "-------------------- Metrics --------------------\n",
      "RMSE: 2.9664\n",
      "値が1に近いほど良いR²: 0.9749\n",
      "test_df's root_mean_squared_error: 2.9664158632775943\n",
      "Training fold 2/3...\n",
      "[LightGBM] [Info] Auto-choosing col-wise multi-threading, the overhead of testing was 0.192027 seconds.\n",
      "You can set `force_col_wise=true` to remove the overhead.\n",
      "[LightGBM] [Info] Total Bins 679522\n",
      "[LightGBM] [Info] Number of data points in the train set: 8334, number of used features: 2865\n",
      "Training until validation scores don't improve for 100 rounds\n",
      "[800]\tvalid_0's rmse: 2.93014\n",
      "[900]\tvalid_0's rmse: 2.94362\n",
      "Early stopping, best iteration is:\n",
      "[815]\tvalid_0's rmse: 2.9271\n"
     ]
    },
    {
     "name": "stderr",
     "output_type": "stream",
     "text": [
      "/Users/iniad/miniconda3/envs/kenkyu4/lib/python3.11/site-packages/sklearn/metrics/_regression.py:492: FutureWarning: 'squared' is deprecated in version 1.4 and will be removed in 1.6. To calculate the root mean squared error, use the function'root_mean_squared_error'.\n",
      "  warnings.warn(\n",
      "/Users/iniad/miniconda3/envs/kenkyu4/lib/python3.11/site-packages/sklearn/metrics/_regression.py:492: FutureWarning: 'squared' is deprecated in version 1.4 and will be removed in 1.6. To calculate the root mean squared error, use the function'root_mean_squared_error'.\n",
      "  warnings.warn(\n"
     ]
    },
    {
     "name": "stdout",
     "output_type": "stream",
     "text": [
      "-------------------- Metrics --------------------\n",
      "RMSE: 2.9271\n",
      "値が1に近いほど良いR²: 0.9767\n",
      "test_df's root_mean_squared_error: 2.9271012327400974\n",
      "Training final model using all data...\n",
      "[LightGBM] [Info] Auto-choosing col-wise multi-threading, the overhead of testing was 0.324718 seconds.\n",
      "You can set `force_col_wise=true` to remove the overhead.\n",
      "[LightGBM] [Info] Total Bins 684223\n",
      "[LightGBM] [Info] Number of data points in the train set: 12503, number of used features: 2867\n",
      "Final model training completed.\n"
     ]
    }
   ],
   "source": [
    "# オッズと人気を特徴量から省いたランク、回帰、クロスバリデーション\n",
    "trainer = Trainer_lightgbm_time_cv(config_filepath=\"config_lightgbm_kaiki_odds_removed.yaml\")\n",
    "evaluation_df = trainer.run(\n",
    "    n_splits = 3,\n",
    "    importance_filename=\"importance_lightgbm_time_cv_odds_removed\",\n",
    "    model_filename=\"model_lightgbm_time_cv_odds_removed.pkl\",\n",
    "    evaluation_filename=\"evaluation_lightgbm_time_cv_odds_removed.csv\",\n",
    "    final_model_filename = \"model_lightgbm_time_cv_full_odds_removed.pkl\"\n",
    ")"
   ]
  },
  {
   "cell_type": "code",
   "execution_count": null,
   "metadata": {},
   "outputs": [],
   "source": []
  },
  {
   "cell_type": "code",
   "execution_count": null,
   "metadata": {},
   "outputs": [],
   "source": []
  },
  {
   "cell_type": "markdown",
   "metadata": {},
   "source": [
    "# 精度評価\n",
    "- popは人気列にかけた場合の回収率、的中率です\n",
    "- topnはそのモデルが評価した上からn番目にかけた場合の的中回収です\n",
    "- 例えばtop4の馬単にかけた場合上から4つの馬をかけた、4*3=12通りの的中率、回収率を計算します\n",
    "- なので、馬単と馬連などの的中率は同じになりますが、回収率は変わります"
   ]
  },
  {
   "cell_type": "code",
   "execution_count": null,
   "metadata": {},
   "outputs": [],
   "source": []
  },
  {
   "cell_type": "code",
   "execution_count": null,
   "metadata": {},
   "outputs": [],
   "source": [
    "#オッズあり、ランク、二値、ホールドアウト\n",
    "evaluator = Evaluator_lightgbm_rank_niti()\n",
    "summary_df_gbm = evaluator.summarize_box_exp(exp_name=\"lightgbm_rank_niti\")\n",
    "summary_df_gbm"
   ]
  },
  {
   "cell_type": "code",
   "execution_count": null,
   "metadata": {},
   "outputs": [],
   "source": [
    "# オッズあり、ランク、回帰、ホールドアウト\n",
    "evaluator = Evaluator_lightgbm_rank_kaiki(evaluation_filename=\"evaluation_lightgbm_rank_kaiki.csv\")\n",
    "summary_df_noodds_time = evaluator.summarize_box_exp(exp_name=\"lightgbm_rank_kaiki\")\n",
    "summary_df_noodds_time"
   ]
  },
  {
   "cell_type": "code",
   "execution_count": null,
   "metadata": {},
   "outputs": [],
   "source": [
    "# オッズあり、タイム、回帰、ホールドアウト\n",
    "evaluator = Evaluator_lightgbm_time_kaiki(evaluation_filename=\"evaluation_lightgbm_time.csv\")\n",
    "summary_df_time = evaluator.summarize_box_exp(exp_name=\"lightgbm_time\")\n",
    "summary_df_time"
   ]
  },
  {
   "cell_type": "code",
   "execution_count": null,
   "metadata": {},
   "outputs": [],
   "source": [
    "# オッズと人気を特徴量から省いた場合、ランク、二値、ホールドアウト\n",
    "evaluator = Evaluator_lightgbm_rank_niti(evaluation_filename=\"evaluation_lightgbm_rank_niti_odds_removed.csv\")\n",
    "summary_df_noodds_gbm = evaluator.summarize_box_exp(exp_name=\"lightgbm_rank_niti_noodds\")\n",
    "summary_df_noodds_gbm"
   ]
  },
  {
   "cell_type": "code",
   "execution_count": null,
   "metadata": {},
   "outputs": [],
   "source": [
    "# オッズと人気を特徴量から省いた場合,ランク、回帰、ホールドアウト\n",
    "evaluator = Evaluator_lightgbm_rank_kaiki(evaluation_filename=\"evaluation_lightgbm_rank_kaiki_odds_removed.csv\")\n",
    "summary_df_noodds_time = evaluator.summarize_box_exp(exp_name=\"lightgbm_rank_kaiki_noodds\")\n",
    "summary_df_noodds_time"
   ]
  },
  {
   "cell_type": "code",
   "execution_count": null,
   "metadata": {},
   "outputs": [],
   "source": [
    "# オッズと人気を特徴量から省いた場合,タイム、回帰、ホールドアウト\n",
    "evaluator = Evaluator_lightgbm_time_kaiki(evaluation_filename=\"evaluation_lightgbm_time_odds_removed.csv\")\n",
    "evaluator.summarize_box_top_n(n=3,save_filename=\"box_summary_time_noodds_top3.csv\")\n",
    "summary_df_noodds_time = evaluator.summarize_box_exp(exp_name=\"lightgbm_time_noodds\")\n",
    "summary_df_noodds_time"
   ]
  },
  {
   "cell_type": "code",
   "execution_count": null,
   "metadata": {},
   "outputs": [],
   "source": []
  },
  {
   "cell_type": "code",
   "execution_count": null,
   "metadata": {},
   "outputs": [],
   "source": [
    "# オッズと人気を特徴量から省いた場合_ランク、二値、クロスバリデーション（最終番目）\n",
    "evaluator = Evaluator_lightgbm_rank_niti_cross(evaluation_filename=\"evaluation_lightgbm_rank_niti_cv_odds_removed.csv\")\n",
    "evaluator.summarize_box_top_n(n=3,save_filename=\"box_summary_rank_niti_cross_noodds_top3.csv\")\n",
    "summary_df_noodds_gbm = evaluator.summarize_box_exp(exp_name=\"lightgbm_rank_niti_cross_noodds\")\n",
    "summary_df_noodds_gbm"
   ]
  },
  {
   "cell_type": "code",
   "execution_count": null,
   "metadata": {},
   "outputs": [],
   "source": [
    "# オッズと人気を特徴量から省いた場合_ランク、回帰、クロスバリデーション（最終番目）\n",
    "evaluator = Evaluator_lightgbm_rank_kaiki(evaluation_filename=\"evaluation_lightgbm_rank_kaiki_cv_odds_removed.csv\")\n",
    "evaluator.summarize_box_top_n(n=3,save_filename=\"box_summary_rank_kaiki_cross_noodds_top3.csv\")\n",
    "summary_df_noodds_gbm = evaluator.summarize_box_exp(exp_name=\"lightgbm_rank_kaiki_cross_noodds\")\n",
    "summary_df_noodds_gbm"
   ]
  },
  {
   "cell_type": "code",
   "execution_count": 7,
   "metadata": {
    "scrolled": true
   },
   "outputs": [
    {
     "data": {
      "text/html": [
       "<div>\n",
       "<style scoped>\n",
       "    .dataframe tbody tr th:only-of-type {\n",
       "        vertical-align: middle;\n",
       "    }\n",
       "\n",
       "    .dataframe tbody tr th {\n",
       "        vertical-align: top;\n",
       "    }\n",
       "\n",
       "    .dataframe thead th {\n",
       "        text-align: right;\n",
       "    }\n",
       "</style>\n",
       "<table border=\"1\" class=\"dataframe\">\n",
       "  <thead>\n",
       "    <tr style=\"text-align: right;\">\n",
       "      <th></th>\n",
       "      <th>topn</th>\n",
       "      <th>bet_type</th>\n",
       "      <th>hitrate_lightgbm_time_cross_noodds</th>\n",
       "      <th>returnrate_lightgbm_time_cross_noodds</th>\n",
       "      <th>hitrate_pop</th>\n",
       "      <th>returnrate_pop</th>\n",
       "    </tr>\n",
       "  </thead>\n",
       "  <tbody>\n",
       "    <tr>\n",
       "      <th>0</th>\n",
       "      <td>1</td>\n",
       "      <td>単勝</td>\n",
       "      <td>0.344459</td>\n",
       "      <td>1.350734</td>\n",
       "      <td>0.371162</td>\n",
       "      <td>0.851001</td>\n",
       "    </tr>\n",
       "    <tr>\n",
       "      <th>1</th>\n",
       "      <td>1</td>\n",
       "      <td>複勝</td>\n",
       "      <td>0.690254</td>\n",
       "      <td>1.189720</td>\n",
       "      <td>0.703605</td>\n",
       "      <td>0.891722</td>\n",
       "    </tr>\n",
       "    <tr>\n",
       "      <th>2</th>\n",
       "      <td>2</td>\n",
       "      <td>ワイド</td>\n",
       "      <td>0.372497</td>\n",
       "      <td>1.991589</td>\n",
       "      <td>0.369826</td>\n",
       "      <td>0.903738</td>\n",
       "    </tr>\n",
       "    <tr>\n",
       "      <th>3</th>\n",
       "      <td>2</td>\n",
       "      <td>単勝</td>\n",
       "      <td>0.526035</td>\n",
       "      <td>1.168358</td>\n",
       "      <td>0.576769</td>\n",
       "      <td>0.852537</td>\n",
       "    </tr>\n",
       "    <tr>\n",
       "      <th>4</th>\n",
       "      <td>2</td>\n",
       "      <td>複勝</td>\n",
       "      <td>0.898531</td>\n",
       "      <td>1.197330</td>\n",
       "      <td>0.885180</td>\n",
       "      <td>0.882109</td>\n",
       "    </tr>\n",
       "    <tr>\n",
       "      <th>5</th>\n",
       "      <td>2</td>\n",
       "      <td>馬単</td>\n",
       "      <td>0.180240</td>\n",
       "      <td>2.541455</td>\n",
       "      <td>0.189586</td>\n",
       "      <td>1.040053</td>\n",
       "    </tr>\n",
       "    <tr>\n",
       "      <th>6</th>\n",
       "      <td>2</td>\n",
       "      <td>馬連</td>\n",
       "      <td>0.180240</td>\n",
       "      <td>2.711081</td>\n",
       "      <td>0.189586</td>\n",
       "      <td>1.056876</td>\n",
       "    </tr>\n",
       "    <tr>\n",
       "      <th>7</th>\n",
       "      <td>3</td>\n",
       "      <td>ワイド</td>\n",
       "      <td>0.623498</td>\n",
       "      <td>1.849043</td>\n",
       "      <td>0.630174</td>\n",
       "      <td>0.899377</td>\n",
       "    </tr>\n",
       "    <tr>\n",
       "      <th>8</th>\n",
       "      <td>3</td>\n",
       "      <td>三連単</td>\n",
       "      <td>0.126836</td>\n",
       "      <td>3.569693</td>\n",
       "      <td>0.109479</td>\n",
       "      <td>0.775412</td>\n",
       "    </tr>\n",
       "    <tr>\n",
       "      <th>9</th>\n",
       "      <td>3</td>\n",
       "      <td>三連複</td>\n",
       "      <td>0.126836</td>\n",
       "      <td>4.197864</td>\n",
       "      <td>0.109479</td>\n",
       "      <td>0.978104</td>\n",
       "    </tr>\n",
       "    <tr>\n",
       "      <th>10</th>\n",
       "      <td>3</td>\n",
       "      <td>単勝</td>\n",
       "      <td>0.643525</td>\n",
       "      <td>1.065065</td>\n",
       "      <td>0.695594</td>\n",
       "      <td>0.806943</td>\n",
       "    </tr>\n",
       "    <tr>\n",
       "      <th>11</th>\n",
       "      <td>3</td>\n",
       "      <td>複勝</td>\n",
       "      <td>0.961282</td>\n",
       "      <td>1.151224</td>\n",
       "      <td>0.957276</td>\n",
       "      <td>0.862439</td>\n",
       "    </tr>\n",
       "    <tr>\n",
       "      <th>12</th>\n",
       "      <td>3</td>\n",
       "      <td>馬単</td>\n",
       "      <td>0.361816</td>\n",
       "      <td>2.225478</td>\n",
       "      <td>0.357810</td>\n",
       "      <td>0.858545</td>\n",
       "    </tr>\n",
       "    <tr>\n",
       "      <th>13</th>\n",
       "      <td>3</td>\n",
       "      <td>馬連</td>\n",
       "      <td>0.361816</td>\n",
       "      <td>2.335336</td>\n",
       "      <td>0.357810</td>\n",
       "      <td>0.888206</td>\n",
       "    </tr>\n",
       "    <tr>\n",
       "      <th>14</th>\n",
       "      <td>4</td>\n",
       "      <td>ワイド</td>\n",
       "      <td>0.795728</td>\n",
       "      <td>1.667868</td>\n",
       "      <td>0.778371</td>\n",
       "      <td>0.892234</td>\n",
       "    </tr>\n",
       "    <tr>\n",
       "      <th>15</th>\n",
       "      <td>4</td>\n",
       "      <td>三連単</td>\n",
       "      <td>0.287049</td>\n",
       "      <td>2.697352</td>\n",
       "      <td>0.271028</td>\n",
       "      <td>0.894515</td>\n",
       "    </tr>\n",
       "    <tr>\n",
       "      <th>16</th>\n",
       "      <td>4</td>\n",
       "      <td>三連複</td>\n",
       "      <td>0.287049</td>\n",
       "      <td>2.842891</td>\n",
       "      <td>0.271028</td>\n",
       "      <td>1.007944</td>\n",
       "    </tr>\n",
       "    <tr>\n",
       "      <th>17</th>\n",
       "      <td>4</td>\n",
       "      <td>単勝</td>\n",
       "      <td>0.757009</td>\n",
       "      <td>1.087250</td>\n",
       "      <td>0.789052</td>\n",
       "      <td>0.803338</td>\n",
       "    </tr>\n",
       "    <tr>\n",
       "      <th>18</th>\n",
       "      <td>4</td>\n",
       "      <td>複勝</td>\n",
       "      <td>0.983979</td>\n",
       "      <td>1.114252</td>\n",
       "      <td>0.986649</td>\n",
       "      <td>0.845360</td>\n",
       "    </tr>\n",
       "    <tr>\n",
       "      <th>19</th>\n",
       "      <td>4</td>\n",
       "      <td>馬単</td>\n",
       "      <td>0.520694</td>\n",
       "      <td>1.848242</td>\n",
       "      <td>0.516689</td>\n",
       "      <td>0.830696</td>\n",
       "    </tr>\n",
       "    <tr>\n",
       "      <th>20</th>\n",
       "      <td>4</td>\n",
       "      <td>馬連</td>\n",
       "      <td>0.520694</td>\n",
       "      <td>1.872230</td>\n",
       "      <td>0.516689</td>\n",
       "      <td>0.863462</td>\n",
       "    </tr>\n",
       "    <tr>\n",
       "      <th>21</th>\n",
       "      <td>5</td>\n",
       "      <td>ワイド</td>\n",
       "      <td>0.882510</td>\n",
       "      <td>1.460841</td>\n",
       "      <td>0.889186</td>\n",
       "      <td>0.902830</td>\n",
       "    </tr>\n",
       "    <tr>\n",
       "      <th>22</th>\n",
       "      <td>5</td>\n",
       "      <td>三連単</td>\n",
       "      <td>0.441923</td>\n",
       "      <td>2.484597</td>\n",
       "      <td>0.448598</td>\n",
       "      <td>0.918467</td>\n",
       "    </tr>\n",
       "    <tr>\n",
       "      <th>23</th>\n",
       "      <td>5</td>\n",
       "      <td>三連複</td>\n",
       "      <td>0.441923</td>\n",
       "      <td>2.441322</td>\n",
       "      <td>0.448598</td>\n",
       "      <td>0.959372</td>\n",
       "    </tr>\n",
       "    <tr>\n",
       "      <th>24</th>\n",
       "      <td>5</td>\n",
       "      <td>単勝</td>\n",
       "      <td>0.831776</td>\n",
       "      <td>1.054953</td>\n",
       "      <td>0.862483</td>\n",
       "      <td>0.840347</td>\n",
       "    </tr>\n",
       "    <tr>\n",
       "      <th>25</th>\n",
       "      <td>5</td>\n",
       "      <td>複勝</td>\n",
       "      <td>0.989319</td>\n",
       "      <td>1.084433</td>\n",
       "      <td>0.994660</td>\n",
       "      <td>0.852737</td>\n",
       "    </tr>\n",
       "    <tr>\n",
       "      <th>26</th>\n",
       "      <td>5</td>\n",
       "      <td>馬単</td>\n",
       "      <td>0.642190</td>\n",
       "      <td>1.518071</td>\n",
       "      <td>0.659546</td>\n",
       "      <td>0.843992</td>\n",
       "    </tr>\n",
       "    <tr>\n",
       "      <th>27</th>\n",
       "      <td>5</td>\n",
       "      <td>馬連</td>\n",
       "      <td>0.642190</td>\n",
       "      <td>1.536702</td>\n",
       "      <td>0.659546</td>\n",
       "      <td>0.856142</td>\n",
       "    </tr>\n",
       "  </tbody>\n",
       "</table>\n",
       "</div>"
      ],
      "text/plain": [
       "    topn bet_type  hitrate_lightgbm_time_cross_noodds  \\\n",
       "0      1       単勝                            0.344459   \n",
       "1      1       複勝                            0.690254   \n",
       "2      2      ワイド                            0.372497   \n",
       "3      2       単勝                            0.526035   \n",
       "4      2       複勝                            0.898531   \n",
       "5      2       馬単                            0.180240   \n",
       "6      2       馬連                            0.180240   \n",
       "7      3      ワイド                            0.623498   \n",
       "8      3      三連単                            0.126836   \n",
       "9      3      三連複                            0.126836   \n",
       "10     3       単勝                            0.643525   \n",
       "11     3       複勝                            0.961282   \n",
       "12     3       馬単                            0.361816   \n",
       "13     3       馬連                            0.361816   \n",
       "14     4      ワイド                            0.795728   \n",
       "15     4      三連単                            0.287049   \n",
       "16     4      三連複                            0.287049   \n",
       "17     4       単勝                            0.757009   \n",
       "18     4       複勝                            0.983979   \n",
       "19     4       馬単                            0.520694   \n",
       "20     4       馬連                            0.520694   \n",
       "21     5      ワイド                            0.882510   \n",
       "22     5      三連単                            0.441923   \n",
       "23     5      三連複                            0.441923   \n",
       "24     5       単勝                            0.831776   \n",
       "25     5       複勝                            0.989319   \n",
       "26     5       馬単                            0.642190   \n",
       "27     5       馬連                            0.642190   \n",
       "\n",
       "    returnrate_lightgbm_time_cross_noodds  hitrate_pop  returnrate_pop  \n",
       "0                                1.350734     0.371162        0.851001  \n",
       "1                                1.189720     0.703605        0.891722  \n",
       "2                                1.991589     0.369826        0.903738  \n",
       "3                                1.168358     0.576769        0.852537  \n",
       "4                                1.197330     0.885180        0.882109  \n",
       "5                                2.541455     0.189586        1.040053  \n",
       "6                                2.711081     0.189586        1.056876  \n",
       "7                                1.849043     0.630174        0.899377  \n",
       "8                                3.569693     0.109479        0.775412  \n",
       "9                                4.197864     0.109479        0.978104  \n",
       "10                               1.065065     0.695594        0.806943  \n",
       "11                               1.151224     0.957276        0.862439  \n",
       "12                               2.225478     0.357810        0.858545  \n",
       "13                               2.335336     0.357810        0.888206  \n",
       "14                               1.667868     0.778371        0.892234  \n",
       "15                               2.697352     0.271028        0.894515  \n",
       "16                               2.842891     0.271028        1.007944  \n",
       "17                               1.087250     0.789052        0.803338  \n",
       "18                               1.114252     0.986649        0.845360  \n",
       "19                               1.848242     0.516689        0.830696  \n",
       "20                               1.872230     0.516689        0.863462  \n",
       "21                               1.460841     0.889186        0.902830  \n",
       "22                               2.484597     0.448598        0.918467  \n",
       "23                               2.441322     0.448598        0.959372  \n",
       "24                               1.054953     0.862483        0.840347  \n",
       "25                               1.084433     0.994660        0.852737  \n",
       "26                               1.518071     0.659546        0.843992  \n",
       "27                               1.536702     0.659546        0.856142  "
      ]
     },
     "execution_count": 7,
     "metadata": {},
     "output_type": "execute_result"
    }
   ],
   "source": [
    "# オッズと人気を特徴量から省いた場合_time、回帰、クロスバリデーション（最終番目）\n",
    "evaluator = Evaluator_lightgbm_time_kaiki(evaluation_filename=\"evaluation_lightgbm_time_cv_odds_removed.csv\")\n",
    "evaluator.summarize_box_top_n(n=3,save_filename=\"box_summary_time_cross_noodds_top3.csv\")\n",
    "summary_df_noodds_gbm = evaluator.summarize_box_exp(exp_name=\"lightgbm_time_cross_noodds\")\n",
    "summary_df_noodds_gbm"
   ]
  },
  {
   "cell_type": "code",
   "execution_count": null,
   "metadata": {},
   "outputs": [],
   "source": []
  },
  {
   "cell_type": "markdown",
   "metadata": {},
   "source": [
    "# 予測当日の処理"
   ]
  },
  {
   "cell_type": "markdown",
   "metadata": {},
   "source": [
    "## 事前準備\n",
    "**当日出走馬が確定した時点**で実行できる"
   ]
  },
  {
   "cell_type": "code",
   "execution_count": null,
   "metadata": {},
   "outputs": [],
   "source": [
    "pd.set_option('display.max_columns', None)\n",
    "pd.set_option('display.max_rows', 100)"
   ]
  },
  {
   "cell_type": "code",
   "execution_count": null,
   "metadata": {},
   "outputs": [],
   "source": [
    "# 当日出走馬の過去成績テーブルの前処理_そのままで使えない未加工のデータを加工する\n",
    "horse_results_preprocessed = preprocessing.process_horse_results(\n",
    "    input_filename=\"horse_results_prediction.csv\",\n",
    "    output_filename=\"horse_results_prediction.csv\"\n",
    ")\n",
    "horse_results_preprocessed"
   ]
  },
  {
   "cell_type": "code",
   "execution_count": null,
   "metadata": {},
   "outputs": [],
   "source": [
    "population = create_population.create(from_=\"2016-01-01\", to_=\"2024-11-31\")"
   ]
  },
  {
   "cell_type": "code",
   "execution_count": null,
   "metadata": {},
   "outputs": [],
   "source": [
    "# 当日出走馬の血統テーブルの前処理\n",
    "peds_preprocessed = preprocessing.process_peds(\n",
    "    input_filename=\"peds_prediction.csv\",\n",
    "    output_filename=\"peds_prediction.csv\"\n",
    ")\n",
    "peds_preprocessed"
   ]
  },
  {
   "cell_type": "code",
   "execution_count": null,
   "metadata": {},
   "outputs": [],
   "source": [
    "pfc = PredictionFeatureCreator()\n",
    "# 過去成績集計は事前に行うことができる\n",
    "pfc.create_baselog()\n",
    "pfc.agg_horse_n_races()\n",
    "pfc.agg_horse_n_races_relative()\n",
    "pfc.agg_horse_n_races_df"
   ]
  },
  {
   "cell_type": "code",
   "execution_count": null,
   "metadata": {},
   "outputs": [],
   "source": [
    "# レース結果テーブルの前処理\n",
    "results_preprocessed = condition_prediction.process_results()\n",
    "# レース情報テーブルの前処理\n",
    "race_info_preprocessed = condition_prediction.process_race_info()\n",
    "create_race_grade_preprocessed = condition_prediction.create_race_grade()\n"
   ]
  },
  {
   "cell_type": "code",
   "execution_count": null,
   "metadata": {},
   "outputs": [],
   "source": []
  },
  {
   "cell_type": "markdown",
   "metadata": {},
   "source": [
    "## 当日の予測処理\n",
    "レース直前出走直前に実行する"
   ]
  },
  {
   "cell_type": "code",
   "execution_count": null,
   "metadata": {},
   "outputs": [],
   "source": [
    "#当日にやらないと、天気や馬場状態がわからないので、当日に実行してください、\n",
    "# 特徴量の更新\n",
    "features = pfc.create_features(\n",
    "    race_id=\"202408060411\",  # 予測するレースidを指定\n",
    "    date_content_a = \"2024年11月10日\", #\"%Y年%m月%d日\"形式で該当レース当日の日付を入れてください    \n",
    "    skip_agg_horse=True  # 事前に集計した場合はスキップできる\n",
    ")"
   ]
  },
  {
   "cell_type": "code",
   "execution_count": null,
   "metadata": {},
   "outputs": [],
   "source": [
    "pfc.results"
   ]
  },
  {
   "cell_type": "code",
   "execution_count": null,
   "metadata": {},
   "outputs": [],
   "source": [
    "pfc.race_info"
   ]
  },
  {
   "cell_type": "code",
   "execution_count": null,
   "metadata": {},
   "outputs": [],
   "source": []
  },
  {
   "cell_type": "markdown",
   "metadata": {},
   "source": [
    "### pred列は全て降順（大きい順）で表示されます\n",
    "### 二値予測のrankはpred列が大きい順で評価がよく、回帰のrankとtimeは小さい順で評価が良いです\n",
    "### 順番が逆になっているので気をつけてください"
   ]
  },
  {
   "cell_type": "code",
   "execution_count": null,
   "metadata": {},
   "outputs": [],
   "source": []
  },
  {
   "cell_type": "code",
   "execution_count": null,
   "metadata": {},
   "outputs": [],
   "source": [
    "# 予測/オッズあり、ランク、二値、ホールドアウト\n",
    "prediction.predict(features)"
   ]
  },
  {
   "cell_type": "code",
   "execution_count": null,
   "metadata": {},
   "outputs": [],
   "source": [
    "# オッズ除外モデルでの予測、ランク、二値、ホールドアウト\n",
    "prediction.predict(\n",
    "    features,\n",
    "    model_filename=\"model_lightgbm_rank_niti_odds_removed.pkl\",\n",
    "    config_filepath=\"config_lightgbm_niti_odds_removed.yaml\"\n",
    ")"
   ]
  },
  {
   "cell_type": "code",
   "execution_count": null,
   "metadata": {},
   "outputs": [],
   "source": [
    "# オッズあり予測、ランク、二値、ホールドアウト\n",
    "prediction.predict(\n",
    "    features,\n",
    "    model_filename=\"model_lightgbm_rank_kaiki.pkl\",\n",
    "    config_filepath=\"config_lightgbm_kaiki.yaml\"\n",
    ")"
   ]
  },
  {
   "cell_type": "code",
   "execution_count": null,
   "metadata": {},
   "outputs": [],
   "source": [
    "# オッズ除外モデルでの予測、ランク、回帰、ホールドアウト\n",
    "prediction.predict(\n",
    "    features,\n",
    "    model_filename=\"model_lightgbm_rank_kaiki_odds_removed.pkl\",\n",
    "    config_filepath=\"config_lightgbm_kaiki_odds_removed.yaml\"\n",
    ")"
   ]
  },
  {
   "cell_type": "code",
   "execution_count": null,
   "metadata": {},
   "outputs": [],
   "source": [
    "# オッズありtimeモデルでの予測、ホールドアウト\n",
    "prediction.predict(\n",
    "    features,\n",
    "    model_filename=\"model_lightgbm_time.pkl\",\n",
    "    config_filepath=\"config_lightgbm_kaiki.yaml\"\n",
    ")"
   ]
  },
  {
   "cell_type": "code",
   "execution_count": null,
   "metadata": {},
   "outputs": [],
   "source": [
    "# オッズ除外モデルでの予測、time、ホールドアウト\n",
    "prediction.predict(\n",
    "    features,\n",
    "    model_filename=\"model_lightgbm_time_odds_removed.pkl\",\n",
    "    config_filepath=\"config_lightgbm_kaiki_odds_removed.yaml\"\n",
    ")"
   ]
  },
  {
   "cell_type": "code",
   "execution_count": null,
   "metadata": {},
   "outputs": [],
   "source": [
    "# オッズ除外モデルでの予測、ランク、二値、クロスバリデーション\n",
    "prediction.predict(\n",
    "    features,\n",
    "    model_filename=\"model_lightgbm_rank_niti_cv_full_odds_removed.pkl\",\n",
    "    config_filepath=\"config_lightgbm_niti_odds_removed.yaml\"\n",
    ")"
   ]
  },
  {
   "cell_type": "code",
   "execution_count": null,
   "metadata": {},
   "outputs": [],
   "source": [
    "# オッズ除外モデルでの予測、ランク、回帰、クロスバリデーション\n",
    "prediction.predict(\n",
    "    features,\n",
    "    model_filename=\"model_lightgbm_rank_kaiki_cv_full_odds_removed.pkl\",\n",
    "    config_filepath=\"config_lightgbm_kaiki_odds_removed.yaml\"\n",
    ")"
   ]
  },
  {
   "cell_type": "code",
   "execution_count": null,
   "metadata": {},
   "outputs": [],
   "source": [
    "# オッズ除外モデルでの予測、time、クロスバリデーション\n",
    "prediction.predict(\n",
    "    features,\n",
    "    model_filename=\"model_lightgbm_time_cv_full_odds_removed.pkl\",\n",
    "    config_filepath=\"config_lightgbm_kaiki_odds_removed.yaml\"\n",
    ")"
   ]
  },
  {
   "cell_type": "code",
   "execution_count": null,
   "metadata": {},
   "outputs": [],
   "source": []
  },
  {
   "cell_type": "code",
   "execution_count": null,
   "metadata": {},
   "outputs": [],
   "source": []
  },
  {
   "cell_type": "code",
   "execution_count": null,
   "metadata": {},
   "outputs": [],
   "source": []
  },
  {
   "cell_type": "code",
   "execution_count": null,
   "metadata": {},
   "outputs": [],
   "source": []
  },
  {
   "cell_type": "code",
   "execution_count": null,
   "metadata": {},
   "outputs": [],
   "source": []
  }
 ],
 "metadata": {
  "kernelspec": {
   "display_name": "Python 3 (ipykernel)",
   "language": "python",
   "name": "python3"
  },
  "language_info": {
   "codemirror_mode": {
    "name": "ipython",
    "version": 3
   },
   "file_extension": ".py",
   "mimetype": "text/x-python",
   "name": "python",
   "nbconvert_exporter": "python",
   "pygments_lexer": "ipython3",
   "version": "3.11.8"
  }
 },
 "nbformat": 4,
 "nbformat_minor": 4
}
