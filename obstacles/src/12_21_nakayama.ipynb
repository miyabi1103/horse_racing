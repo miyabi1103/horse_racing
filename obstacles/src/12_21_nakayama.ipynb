{
 "cells": [
  {
   "cell_type": "code",
   "execution_count": 8,
   "id": "c87a29e0-c7d7-42ef-a369-f166ffa43edb",
   "metadata": {},
   "outputs": [
    {
     "name": "stdout",
     "output_type": "stream",
     "text": [
      "The autoreload extension is already loaded. To reload it, use:\n",
      "  %reload_ext autoreload\n"
     ]
    }
   ],
   "source": [
    "import create_population\n",
    "import create_population3\n",
    "import preprocessing\n",
    "from feature_engineering import FeatureCreator\n",
    "from feature_engineering_prediction import PredictionFeatureCreator\n",
    "\n",
    "import prediction\n",
    "from train_lgbm_rank_niti_cross import Trainer_lightgbm_rank_niti_cv\n",
    "from train_lgbm_rank_kaiki_cross import Trainer_lightgbm_rank_kaiki_cv\n",
    "from train_lgbm_time_cross import Trainer_lightgbm_time_cv\n",
    "\n",
    "from evaluation_lgbm_rank_niti_cross import Evaluator_lightgbm_rank_niti_cross\n",
    "\n",
    "import pandas as pd\n",
    "\n",
    "\n",
    "import condition_prediction\n",
    "\n",
    "\n",
    "from train_lightgbm_rank_niti import Trainer_lightgbm_rank_niti\n",
    "from train_lightgbm_time import Trainer_lightgbm_time\n",
    "from train_lightgbm_rank_kaiki import Trainer_lightgbm_rank_kaiki\n",
    "\n",
    "from evaluation_lightgbm_rank_niti import Evaluator_lightgbm_rank_niti\n",
    "from evaluation_lightgbm_time_kaiki import Evaluator_lightgbm_time_kaiki\n",
    "from evaluation_lightgbm_rank_kaiki import Evaluator_lightgbm_rank_kaiki\n",
    "from evaluation_pop import Evaluator_pop\n",
    "\n",
    "%load_ext autoreload"
   ]
  },
  {
   "cell_type": "code",
   "execution_count": 21,
   "id": "04abaacc-ef13-498c-beae-acc5c35555fa",
   "metadata": {},
   "outputs": [],
   "source": [
    "%autoreload"
   ]
  },
  {
   "cell_type": "code",
   "execution_count": 10,
   "id": "14f6778c-5ec8-4514-a080-dffd3e5077eb",
   "metadata": {},
   "outputs": [],
   "source": [
    "pd.set_option('display.max_columns', None)\n",
    "pd.set_option('display.max_rows', 100)"
   ]
  },
  {
   "cell_type": "code",
   "execution_count": 4,
   "id": "14926bdf-0196-45d9-90ed-1b696f1ca2a3",
   "metadata": {},
   "outputs": [],
   "source": [
    "population = create_population.create(from_=\"2016-01-01\", to_=\"2024-11-30\")"
   ]
  },
  {
   "cell_type": "code",
   "execution_count": null,
   "id": "3a82b4a7-2f0e-4a59-a724-c3f9ac3d1cd1",
   "metadata": {},
   "outputs": [],
   "source": []
  },
  {
   "cell_type": "code",
   "execution_count": 13,
   "id": "f67eb745-b619-41c7-9035-d18801933fc7",
   "metadata": {},
   "outputs": [
    {
     "data": {
      "application/vnd.jupyter.widget-view+json": {
       "model_id": "30fd3063c00e4568910c159a6f5621a9",
       "version_major": 2,
       "version_minor": 0
      },
      "text/plain": [
       "agg_horse_n_races_relative:   0%|          | 0/4 [00:00<?, ?it/s]"
      ]
     },
     "metadata": {},
     "output_type": "display_data"
    }
   ],
   "source": [
    "# 当日出走馬の過去成績テーブルの前処理_そのままで使えない未加工のデータを加工する\n",
    "horse_results_preprocessed = preprocessing.process_horse_results(\n",
    "    input_filename=\"horse_results_prediction.csv\",\n",
    "    output_filename=\"horse_results_prediction.csv\"\n",
    ")\n",
    "horse_results_preprocessed\n",
    "\n",
    "# 当日出走馬の血統テーブルの前処理\n",
    "peds_preprocessed = preprocessing.process_peds(\n",
    "    input_filename=\"peds_prediction.csv\",\n",
    "    output_filename=\"peds_prediction.csv\"\n",
    ")\n",
    "peds_preprocessed\n",
    "\n",
    "pfc = PredictionFeatureCreator()\n",
    "# 過去成績集計は事前に行うことができる\n",
    "pfc.create_baselog()\n",
    "pfc.agg_horse_n_races()\n",
    "pfc.agg_horse_n_races_relative()\n",
    "pfc.agg_horse_n_races_df\n",
    "\n",
    "# レース結果テーブルの前処理\n",
    "results_preprocessed = condition_prediction.process_results()\n",
    "# レース情報テーブルの前処理\n",
    "race_info_preprocessed = condition_prediction.process_race_info()\n",
    "create_race_grade_preprocessed = condition_prediction.create_race_grade()\n"
   ]
  },
  {
   "cell_type": "markdown",
   "id": "c4a85c56-eada-4eef-a65e-8e29891e5f38",
   "metadata": {},
   "source": [
    "###　12/21 第10回目レース 中山大障害"
   ]
  },
  {
   "cell_type": "code",
   "execution_count": 22,
   "id": "059825b0-535c-49bd-840d-f1b5ab69254f",
   "metadata": {},
   "outputs": [
    {
     "name": "stdout",
     "output_type": "stream",
     "text": [
      "fetching shutuba page html...\n",
      "fetching shutuba page html...comp\n",
      "0    2023\n",
      "Name: date_year, dtype: int32\n",
      "running cross_features()...comp\n",
      "running agg_interval()...comp\n"
     ]
    },
    {
     "name": "stderr",
     "output_type": "stream",
     "text": [
      "/Users/iniad/Documents/kenkyu_4/obstacles/src/feature_engineering_prediction.py:641: FutureWarning: Downcasting object dtype arrays on .fillna, .ffill, .bfill is deprecated and will change in a future version. Call result.infer_objects(copy=False) instead. To opt-in to the future behavior, set `pd.set_option('future.no_silent_downcasting', True)`\n",
      "  df[\"place_course_category\"] = df[\"place_course_category\"].fillna(-1).astype(int)\n",
      "/Users/iniad/Documents/kenkyu_4/obstacles/src/feature_engineering_prediction.py:823: FutureWarning: Downcasting object dtype arrays on .fillna, .ffill, .bfill is deprecated and will change in a future version. Call result.infer_objects(copy=False) instead. To opt-in to the future behavior, set `pd.set_option('future.no_silent_downcasting', True)`\n",
      "  df[['goal_range', 'curve', 'goal_slope']] = df[['goal_range', 'curve', 'goal_slope']].fillna(-1).astype(int)\n"
     ]
    },
    {
     "name": "stdout",
     "output_type": "stream",
     "text": [
      "running cross_features_2()...comp\n"
     ]
    },
    {
     "data": {
      "application/vnd.jupyter.widget-view+json": {
       "model_id": "ad69239caeff47be800a2969ad99890e",
       "version_major": 2,
       "version_minor": 0
      },
      "text/plain": [
       "agg_cross_encoded:   0%|          | 0/4 [00:00<?, ?it/s]"
      ]
     },
     "metadata": {},
     "output_type": "display_data"
    },
    {
     "name": "stdout",
     "output_type": "stream",
     "text": [
      "running cross_features_3()...comp\n"
     ]
    },
    {
     "data": {
      "application/vnd.jupyter.widget-view+json": {
       "model_id": "7267ea889e0f4e148e6a6f00f19d0933",
       "version_major": 2,
       "version_minor": 0
      },
      "text/plain": [
       "agg_cross_zizoku_syunpatu:   0%|          | 0/4 [00:00<?, ?it/s]"
      ]
     },
     "metadata": {},
     "output_type": "display_data"
    },
    {
     "name": "stdout",
     "output_type": "stream",
     "text": [
      "running cross_features_4()...comp\n",
      "running cross_features_5()...comp\n",
      "running cross_features_6()...comp\n"
     ]
    },
    {
     "data": {
      "application/vnd.jupyter.widget-view+json": {
       "model_id": "d7a9f40a78a2402b9b41a7edb76fa7d9",
       "version_major": 2,
       "version_minor": 0
      },
      "text/plain": [
       "pace_category_win_1:   0%|          | 0/4 [00:00<?, ?it/s]"
      ]
     },
     "metadata": {},
     "output_type": "display_data"
    },
    {
     "data": {
      "application/vnd.jupyter.widget-view+json": {
       "model_id": "f0d183338784423ebc75a099969006a0",
       "version_major": 2,
       "version_minor": 0
      },
      "text/plain": [
       "pace_category_win_2:   0%|          | 0/4 [00:00<?, ?it/s]"
      ]
     },
     "metadata": {},
     "output_type": "display_data"
    },
    {
     "data": {
      "application/vnd.jupyter.widget-view+json": {
       "model_id": "517af0d74d084754b31ab15ebefa31d6",
       "version_major": 2,
       "version_minor": 0
      },
      "text/plain": [
       "pace_category_win_3:   0%|          | 0/4 [00:00<?, ?it/s]"
      ]
     },
     "metadata": {},
     "output_type": "display_data"
    },
    {
     "data": {
      "application/vnd.jupyter.widget-view+json": {
       "model_id": "8d51f3fba0cb4c0ba023f3c76ec2a9d7",
       "version_major": 2,
       "version_minor": 0
      },
      "text/plain": [
       "pace_category_win_4:   0%|          | 0/4 [00:00<?, ?it/s]"
      ]
     },
     "metadata": {},
     "output_type": "display_data"
    },
    {
     "name": "stdout",
     "output_type": "stream",
     "text": [
      "running cross_features_7()...comp\n"
     ]
    },
    {
     "data": {
      "application/vnd.jupyter.widget-view+json": {
       "model_id": "4cf76ab1d8364989a053ce3c8b6cf559",
       "version_major": 2,
       "version_minor": 0
      },
      "text/plain": [
       "agg_pace_per_score:   0%|          | 0/4 [00:00<?, ?it/s]"
      ]
     },
     "metadata": {},
     "output_type": "display_data"
    },
    {
     "name": "stdout",
     "output_type": "stream",
     "text": [
      "running cross_features_8()...comp\n"
     ]
    },
    {
     "data": {
      "application/vnd.jupyter.widget-view+json": {
       "model_id": "8cd482f13ba54f2d98d5c5adc4818ed6",
       "version_major": 2,
       "version_minor": 0
      },
      "text/plain": [
       "agg_goal_per_score:   0%|          | 0/4 [00:00<?, ?it/s]"
      ]
     },
     "metadata": {},
     "output_type": "display_data"
    },
    {
     "name": "stdout",
     "output_type": "stream",
     "text": [
      "running cross_features_9()...comp\n"
     ]
    },
    {
     "data": {
      "application/vnd.jupyter.widget-view+json": {
       "model_id": "fe953951fefd46899784235bc3155b04",
       "version_major": 2,
       "version_minor": 0
      },
      "text/plain": [
       "agg_curve_per_score:   0%|          | 0/4 [00:00<?, ?it/s]"
      ]
     },
     "metadata": {},
     "output_type": "display_data"
    },
    {
     "name": "stdout",
     "output_type": "stream",
     "text": [
      "running cross_features_10()...comp\n"
     ]
    },
    {
     "data": {
      "application/vnd.jupyter.widget-view+json": {
       "model_id": "80c76254d6254af0b3a23ad4d6e96f09",
       "version_major": 2,
       "version_minor": 0
      },
      "text/plain": [
       "agg_goal_slope_per_score:   0%|          | 0/4 [00:00<?, ?it/s]"
      ]
     },
     "metadata": {},
     "output_type": "display_data"
    },
    {
     "name": "stdout",
     "output_type": "stream",
     "text": [
      "running cross_features_11()...comp\n"
     ]
    },
    {
     "data": {
      "application/vnd.jupyter.widget-view+json": {
       "model_id": "49aad516f82847b5be420ae47f8c1eff",
       "version_major": 2,
       "version_minor": 0
      },
      "text/plain": [
       "agg_stamina_per_score:   0%|          | 0/4 [00:00<?, ?it/s]"
      ]
     },
     "metadata": {},
     "output_type": "display_data"
    },
    {
     "name": "stdout",
     "output_type": "stream",
     "text": [
      "running cross_features_12()...comp\n"
     ]
    },
    {
     "data": {
      "application/vnd.jupyter.widget-view+json": {
       "model_id": "0a2277fd36064b81bc1377b9577e3599",
       "version_major": 2,
       "version_minor": 0
      },
      "text/plain": [
       "agg_pace_per_score:   0%|          | 0/4 [00:00<?, ?it/s]"
      ]
     },
     "metadata": {},
     "output_type": "display_data"
    },
    {
     "data": {
      "application/vnd.jupyter.widget-view+json": {
       "model_id": "d64eef6cbdf14762a46cb851601127a6",
       "version_major": 2,
       "version_minor": 0
      },
      "text/plain": [
       "agg_goal_per_score:   0%|          | 0/4 [00:00<?, ?it/s]"
      ]
     },
     "metadata": {},
     "output_type": "display_data"
    },
    {
     "data": {
      "application/vnd.jupyter.widget-view+json": {
       "model_id": "14c5536debce40b79c76e7857872cded",
       "version_major": 2,
       "version_minor": 0
      },
      "text/plain": [
       "agg_curve_per_score:   0%|          | 0/4 [00:00<?, ?it/s]"
      ]
     },
     "metadata": {},
     "output_type": "display_data"
    },
    {
     "data": {
      "application/vnd.jupyter.widget-view+json": {
       "model_id": "7ef7dc5a27ba4477b8e1c0737d4a7229",
       "version_major": 2,
       "version_minor": 0
      },
      "text/plain": [
       "agg_goal_slope_per_score:   0%|          | 0/4 [00:00<?, ?it/s]"
      ]
     },
     "metadata": {},
     "output_type": "display_data"
    },
    {
     "data": {
      "application/vnd.jupyter.widget-view+json": {
       "model_id": "994532541d394534918b789e2a439e94",
       "version_major": 2,
       "version_minor": 0
      },
      "text/plain": [
       "agg_stamina_per_score:   0%|          | 0/4 [00:00<?, ?it/s]"
      ]
     },
     "metadata": {},
     "output_type": "display_data"
    },
    {
     "name": "stdout",
     "output_type": "stream",
     "text": [
      "running cross_features_13()...comp\n"
     ]
    },
    {
     "data": {
      "application/vnd.jupyter.widget-view+json": {
       "model_id": "833b9bcde02049c0bfdc55d7c10a17a3",
       "version_major": 2,
       "version_minor": 0
      },
      "text/plain": [
       "agg_raceclass_rankdiff_per_score:   0%|          | 0/4 [00:00<?, ?it/s]"
      ]
     },
     "metadata": {},
     "output_type": "display_data"
    },
    {
     "name": "stdout",
     "output_type": "stream",
     "text": [
      "running cross_features_14()...comp\n"
     ]
    },
    {
     "data": {
      "application/vnd.jupyter.widget-view+json": {
       "model_id": "95a36afd8d7e4f7b93fb6c5679fb82ba",
       "version_major": 2,
       "version_minor": 0
      },
      "text/plain": [
       "speed_index:   0%|          | 0/4 [00:00<?, ?it/s]"
      ]
     },
     "metadata": {},
     "output_type": "display_data"
    },
    {
     "name": "stdout",
     "output_type": "stream",
     "text": [
      "running cross_features_15()...comp\n"
     ]
    },
    {
     "data": {
      "application/vnd.jupyter.widget-view+json": {
       "model_id": "1224c356729f4e1da5e014a6dbf7c119",
       "version_major": 2,
       "version_minor": 0
      },
      "text/plain": [
       "agg_horse_per_course_len:   0%|          | 0/4 [00:00<?, ?it/s]"
      ]
     },
     "metadata": {},
     "output_type": "display_data"
    },
    {
     "data": {
      "application/vnd.jupyter.widget-view+json": {
       "model_id": "d03c3cf55465474da7cbba2f691fe8b0",
       "version_major": 2,
       "version_minor": 0
      },
      "text/plain": [
       "agg_horse_per_ground_state_race_type:   0%|          | 0/4 [00:00<?, ?it/s]"
      ]
     },
     "metadata": {},
     "output_type": "display_data"
    },
    {
     "data": {
      "application/vnd.jupyter.widget-view+json": {
       "model_id": "d0e2371b148f4842975e13a4d71eedaf",
       "version_major": 2,
       "version_minor": 0
      },
      "text/plain": [
       "agg_horse_per_race_grade:   0%|          | 0/4 [00:00<?, ?it/s]"
      ]
     },
     "metadata": {},
     "output_type": "display_data"
    },
    {
     "data": {
      "application/vnd.jupyter.widget-view+json": {
       "model_id": "d13c9bf6fc2f4e1bbee37431b05dd48f",
       "version_major": 2,
       "version_minor": 0
      },
      "text/plain": [
       "agg_horse_per_race_type:   0%|          | 0/4 [00:00<?, ?it/s]"
      ]
     },
     "metadata": {},
     "output_type": "display_data"
    },
    {
     "data": {
      "application/vnd.jupyter.widget-view+json": {
       "model_id": "d51ade9e78df4789a050cdde85847674",
       "version_major": 2,
       "version_minor": 0
      },
      "text/plain": [
       "agg_horse_per_race_place_len:   0%|          | 0/4 [00:00<?, ?it/s]"
      ]
     },
     "metadata": {},
     "output_type": "display_data"
    },
    {
     "data": {
      "application/vnd.jupyter.widget-view+json": {
       "model_id": "74e6c5b833634da7a63fe2fba8142652",
       "version_major": 2,
       "version_minor": 0
      },
      "text/plain": [
       "agg_horse_per_race_place:   0%|          | 0/4 [00:00<?, ?it/s]"
      ]
     },
     "metadata": {},
     "output_type": "display_data"
    },
    {
     "data": {
      "application/vnd.jupyter.widget-view+json": {
       "model_id": "174a69dc7a9847aba26dc0f97562ab76",
       "version_major": 2,
       "version_minor": 0
      },
      "text/plain": [
       "agg_horse_per_weather:   0%|          | 0/4 [00:00<?, ?it/s]"
      ]
     },
     "metadata": {},
     "output_type": "display_data"
    },
    {
     "name": "stdout",
     "output_type": "stream",
     "text": [
      "running agg_jockey()...\n",
      "running agg_trainer()...\n",
      "running agg_sire()...\n",
      "running agg_bms()...\n",
      "running agg_bms()...comp\n",
      "merging all features...\n",
      "merging all features...comp\n"
     ]
    },
    {
     "name": "stderr",
     "output_type": "stream",
     "text": [
      "/Users/iniad/Documents/kenkyu_4/obstacles/src/feature_engineering_prediction.py:6383: FutureWarning: Downcasting object dtype arrays on .fillna, .ffill, .bfill is deprecated and will change in a future version. Call result.infer_objects(copy=False) instead. To opt-in to the future behavior, set `pd.set_option('future.no_silent_downcasting', True)`\n"
     ]
    }
   ],
   "source": [
    "# 特徴量の更新\n",
    "features = pfc.create_features(\n",
    "    race_id=\"202406050710\",  # 予測するレースidを指定\n",
    "    date_content_a = \"2024年12月21日\", #\"%Y年%m月%d日\"形式で該当レース当日の日付を入れてください    \n",
    "    skip_agg_horse=True  # 事前に集計した場合はスキップできる\n",
    ")"
   ]
  },
  {
   "cell_type": "code",
   "execution_count": 24,
   "id": "8e861e83-9c61-471b-ad57-260428916769",
   "metadata": {},
   "outputs": [
    {
     "data": {
      "text/html": [
       "<div>\n",
       "<style scoped>\n",
       "    .dataframe tbody tr th:only-of-type {\n",
       "        vertical-align: middle;\n",
       "    }\n",
       "\n",
       "    .dataframe tbody tr th {\n",
       "        vertical-align: top;\n",
       "    }\n",
       "\n",
       "    .dataframe thead th {\n",
       "        text-align: right;\n",
       "    }\n",
       "</style>\n",
       "<table border=\"1\" class=\"dataframe\">\n",
       "  <thead>\n",
       "    <tr style=\"text-align: right;\">\n",
       "      <th></th>\n",
       "      <th>race_id</th>\n",
       "      <th>horse_id</th>\n",
       "      <th>jockey_id</th>\n",
       "      <th>trainer_id</th>\n",
       "      <th>umaban</th>\n",
       "      <th>wakuban</th>\n",
       "      <th>tansho_odds</th>\n",
       "      <th>popularity</th>\n",
       "      <th>impost</th>\n",
       "      <th>sex</th>\n",
       "      <th>age</th>\n",
       "      <th>weight</th>\n",
       "      <th>weight_diff</th>\n",
       "      <th>n_horses</th>\n",
       "      <th>mean_age</th>\n",
       "      <th>median_age</th>\n",
       "      <th>mean_age_kirisute</th>\n",
       "    </tr>\n",
       "  </thead>\n",
       "  <tbody>\n",
       "    <tr>\n",
       "      <th>0</th>\n",
       "      <td>202406050710</td>\n",
       "      <td>2018102170</td>\n",
       "      <td>1059</td>\n",
       "      <td>1156</td>\n",
       "      <td>1</td>\n",
       "      <td>1</td>\n",
       "      <td>3.2</td>\n",
       "      <td>2</td>\n",
       "      <td>63.0</td>\n",
       "      <td>0</td>\n",
       "      <td>6</td>\n",
       "      <td>NaN</td>\n",
       "      <td>NaN</td>\n",
       "      <td>9</td>\n",
       "      <td>6.333333</td>\n",
       "      <td>6.0</td>\n",
       "      <td>6</td>\n",
       "    </tr>\n",
       "    <tr>\n",
       "      <th>1</th>\n",
       "      <td>202406050710</td>\n",
       "      <td>2019101614</td>\n",
       "      <td>1113</td>\n",
       "      <td>1051</td>\n",
       "      <td>2</td>\n",
       "      <td>2</td>\n",
       "      <td>4.6</td>\n",
       "      <td>3</td>\n",
       "      <td>63.0</td>\n",
       "      <td>0</td>\n",
       "      <td>5</td>\n",
       "      <td>NaN</td>\n",
       "      <td>NaN</td>\n",
       "      <td>9</td>\n",
       "      <td>6.333333</td>\n",
       "      <td>6.0</td>\n",
       "      <td>6</td>\n",
       "    </tr>\n",
       "    <tr>\n",
       "      <th>2</th>\n",
       "      <td>202406050710</td>\n",
       "      <td>2016100158</td>\n",
       "      <td>1087</td>\n",
       "      <td>1054</td>\n",
       "      <td>3</td>\n",
       "      <td>3</td>\n",
       "      <td>51.2</td>\n",
       "      <td>8</td>\n",
       "      <td>63.0</td>\n",
       "      <td>2</td>\n",
       "      <td>8</td>\n",
       "      <td>NaN</td>\n",
       "      <td>NaN</td>\n",
       "      <td>9</td>\n",
       "      <td>6.333333</td>\n",
       "      <td>6.0</td>\n",
       "      <td>6</td>\n",
       "    </tr>\n",
       "    <tr>\n",
       "      <th>3</th>\n",
       "      <td>202406050710</td>\n",
       "      <td>2018103677</td>\n",
       "      <td>1196</td>\n",
       "      <td>429</td>\n",
       "      <td>4</td>\n",
       "      <td>4</td>\n",
       "      <td>11.9</td>\n",
       "      <td>5</td>\n",
       "      <td>63.0</td>\n",
       "      <td>0</td>\n",
       "      <td>6</td>\n",
       "      <td>NaN</td>\n",
       "      <td>NaN</td>\n",
       "      <td>9</td>\n",
       "      <td>6.333333</td>\n",
       "      <td>6.0</td>\n",
       "      <td>6</td>\n",
       "    </tr>\n",
       "    <tr>\n",
       "      <th>4</th>\n",
       "      <td>202406050710</td>\n",
       "      <td>2018103308</td>\n",
       "      <td>1046</td>\n",
       "      <td>1161</td>\n",
       "      <td>5</td>\n",
       "      <td>5</td>\n",
       "      <td>2.6</td>\n",
       "      <td>1</td>\n",
       "      <td>63.0</td>\n",
       "      <td>0</td>\n",
       "      <td>6</td>\n",
       "      <td>NaN</td>\n",
       "      <td>NaN</td>\n",
       "      <td>9</td>\n",
       "      <td>6.333333</td>\n",
       "      <td>6.0</td>\n",
       "      <td>6</td>\n",
       "    </tr>\n",
       "    <tr>\n",
       "      <th>5</th>\n",
       "      <td>202406050710</td>\n",
       "      <td>2018103563</td>\n",
       "      <td>1149</td>\n",
       "      <td>1141</td>\n",
       "      <td>6</td>\n",
       "      <td>6</td>\n",
       "      <td>54.1</td>\n",
       "      <td>9</td>\n",
       "      <td>63.0</td>\n",
       "      <td>2</td>\n",
       "      <td>6</td>\n",
       "      <td>NaN</td>\n",
       "      <td>NaN</td>\n",
       "      <td>9</td>\n",
       "      <td>6.333333</td>\n",
       "      <td>6.0</td>\n",
       "      <td>6</td>\n",
       "    </tr>\n",
       "    <tr>\n",
       "      <th>6</th>\n",
       "      <td>202406050710</td>\n",
       "      <td>2018105349</td>\n",
       "      <td>1120</td>\n",
       "      <td>1102</td>\n",
       "      <td>7</td>\n",
       "      <td>7</td>\n",
       "      <td>30.4</td>\n",
       "      <td>6</td>\n",
       "      <td>63.0</td>\n",
       "      <td>2</td>\n",
       "      <td>6</td>\n",
       "      <td>NaN</td>\n",
       "      <td>NaN</td>\n",
       "      <td>9</td>\n",
       "      <td>6.333333</td>\n",
       "      <td>6.0</td>\n",
       "      <td>6</td>\n",
       "    </tr>\n",
       "    <tr>\n",
       "      <th>7</th>\n",
       "      <td>202406050710</td>\n",
       "      <td>2016103444</td>\n",
       "      <td>1069</td>\n",
       "      <td>1088</td>\n",
       "      <td>8</td>\n",
       "      <td>8</td>\n",
       "      <td>5.9</td>\n",
       "      <td>4</td>\n",
       "      <td>63.0</td>\n",
       "      <td>0</td>\n",
       "      <td>8</td>\n",
       "      <td>NaN</td>\n",
       "      <td>NaN</td>\n",
       "      <td>9</td>\n",
       "      <td>6.333333</td>\n",
       "      <td>6.0</td>\n",
       "      <td>6</td>\n",
       "    </tr>\n",
       "    <tr>\n",
       "      <th>8</th>\n",
       "      <td>202406050710</td>\n",
       "      <td>2018104463</td>\n",
       "      <td>1105</td>\n",
       "      <td>1161</td>\n",
       "      <td>9</td>\n",
       "      <td>8</td>\n",
       "      <td>34.1</td>\n",
       "      <td>7</td>\n",
       "      <td>63.0</td>\n",
       "      <td>0</td>\n",
       "      <td>6</td>\n",
       "      <td>NaN</td>\n",
       "      <td>NaN</td>\n",
       "      <td>9</td>\n",
       "      <td>6.333333</td>\n",
       "      <td>6.0</td>\n",
       "      <td>6</td>\n",
       "    </tr>\n",
       "  </tbody>\n",
       "</table>\n",
       "</div>"
      ],
      "text/plain": [
       "        race_id    horse_id  jockey_id  trainer_id  umaban  wakuban  \\\n",
       "0  202406050710  2018102170       1059        1156       1        1   \n",
       "1  202406050710  2019101614       1113        1051       2        2   \n",
       "2  202406050710  2016100158       1087        1054       3        3   \n",
       "3  202406050710  2018103677       1196         429       4        4   \n",
       "4  202406050710  2018103308       1046        1161       5        5   \n",
       "5  202406050710  2018103563       1149        1141       6        6   \n",
       "6  202406050710  2018105349       1120        1102       7        7   \n",
       "7  202406050710  2016103444       1069        1088       8        8   \n",
       "8  202406050710  2018104463       1105        1161       9        8   \n",
       "\n",
       "   tansho_odds  popularity  impost  sex  age  weight  weight_diff  n_horses  \\\n",
       "0          3.2           2    63.0    0    6     NaN          NaN         9   \n",
       "1          4.6           3    63.0    0    5     NaN          NaN         9   \n",
       "2         51.2           8    63.0    2    8     NaN          NaN         9   \n",
       "3         11.9           5    63.0    0    6     NaN          NaN         9   \n",
       "4          2.6           1    63.0    0    6     NaN          NaN         9   \n",
       "5         54.1           9    63.0    2    6     NaN          NaN         9   \n",
       "6         30.4           6    63.0    2    6     NaN          NaN         9   \n",
       "7          5.9           4    63.0    0    8     NaN          NaN         9   \n",
       "8         34.1           7    63.0    0    6     NaN          NaN         9   \n",
       "\n",
       "   mean_age  median_age  mean_age_kirisute  \n",
       "0  6.333333         6.0                  6  \n",
       "1  6.333333         6.0                  6  \n",
       "2  6.333333         6.0                  6  \n",
       "3  6.333333         6.0                  6  \n",
       "4  6.333333         6.0                  6  \n",
       "5  6.333333         6.0                  6  \n",
       "6  6.333333         6.0                  6  \n",
       "7  6.333333         6.0                  6  \n",
       "8  6.333333         6.0                  6  "
      ]
     },
     "execution_count": 24,
     "metadata": {},
     "output_type": "execute_result"
    }
   ],
   "source": [
    "pfc.results"
   ]
  },
  {
   "cell_type": "code",
   "execution_count": 25,
   "id": "f19f7ea7-056d-49c8-9ce8-188ac535be34",
   "metadata": {},
   "outputs": [
    {
     "data": {
      "text/html": [
       "<div>\n",
       "<style scoped>\n",
       "    .dataframe tbody tr th:only-of-type {\n",
       "        vertical-align: middle;\n",
       "    }\n",
       "\n",
       "    .dataframe tbody tr th {\n",
       "        vertical-align: top;\n",
       "    }\n",
       "\n",
       "    .dataframe thead th {\n",
       "        text-align: right;\n",
       "    }\n",
       "</style>\n",
       "<table border=\"1\" class=\"dataframe\">\n",
       "  <thead>\n",
       "    <tr style=\"text-align: right;\">\n",
       "      <th></th>\n",
       "      <th>race_id</th>\n",
       "      <th>race_type</th>\n",
       "      <th>around</th>\n",
       "      <th>course_len</th>\n",
       "      <th>weather</th>\n",
       "      <th>ground_state</th>\n",
       "      <th>race_class</th>\n",
       "      <th>place</th>\n",
       "      <th>race_day_count</th>\n",
       "      <th>race_date_day_count</th>\n",
       "      <th>season</th>\n",
       "      <th>place_season</th>\n",
       "      <th>place_season_type</th>\n",
       "      <th>kaisai_race</th>\n",
       "      <th>kaisai_race_type</th>\n",
       "      <th>day</th>\n",
       "      <th>day_type</th>\n",
       "      <th>kaisai_count</th>\n",
       "      <th>kaisai_count_type</th>\n",
       "      <th>place_season_day_type</th>\n",
       "      <th>day_condition</th>\n",
       "      <th>place_season_condition_type</th>\n",
       "      <th>place_season_condition_type_categori</th>\n",
       "      <th>place_course_category</th>\n",
       "      <th>place_course_tough</th>\n",
       "      <th>goal_range</th>\n",
       "      <th>curve</th>\n",
       "      <th>goal_slope</th>\n",
       "      <th>goal_range_100</th>\n",
       "      <th>place_season_type_course_len</th>\n",
       "      <th>lap_type</th>\n",
       "      <th>age_season</th>\n",
       "      <th>race_grade</th>\n",
       "      <th>race_grade_scaled</th>\n",
       "    </tr>\n",
       "  </thead>\n",
       "  <tbody>\n",
       "    <tr>\n",
       "      <th>0</th>\n",
       "      <td>202406050710</td>\n",
       "      <td>2</td>\n",
       "      <td>3</td>\n",
       "      <td>4100</td>\n",
       "      <td>1</td>\n",
       "      <td>0</td>\n",
       "      <td>5</td>\n",
       "      <td>6</td>\n",
       "      <td>10</td>\n",
       "      <td>73875010</td>\n",
       "      <td>4</td>\n",
       "      <td>64</td>\n",
       "      <td>642</td>\n",
       "      <td>10</td>\n",
       "      <td>102</td>\n",
       "      <td>7</td>\n",
       "      <td>72</td>\n",
       "      <td>5</td>\n",
       "      <td>52</td>\n",
       "      <td>64072</td>\n",
       "      <td>2</td>\n",
       "      <td>6422</td>\n",
       "      <td>NaN</td>\n",
       "      <td>-1</td>\n",
       "      <td>-1</td>\n",
       "      <td>-1</td>\n",
       "      <td>-1</td>\n",
       "      <td>-1</td>\n",
       "      <td>NaN</td>\n",
       "      <td>6424100</td>\n",
       "      <td>-1</td>\n",
       "      <td>64</td>\n",
       "      <td>89</td>\n",
       "      <td>3.9</td>\n",
       "    </tr>\n",
       "  </tbody>\n",
       "</table>\n",
       "</div>"
      ],
      "text/plain": [
       "        race_id  race_type  around  course_len  weather  ground_state  \\\n",
       "0  202406050710          2       3        4100        1             0   \n",
       "\n",
       "   race_class  place  race_day_count  race_date_day_count  season  \\\n",
       "0           5      6              10             73875010       4   \n",
       "\n",
       "   place_season  place_season_type  kaisai_race  kaisai_race_type  day  \\\n",
       "0            64                642           10               102    7   \n",
       "\n",
       "   day_type  kaisai_count  kaisai_count_type  place_season_day_type  \\\n",
       "0        72             5                 52                  64072   \n",
       "\n",
       "   day_condition  place_season_condition_type  \\\n",
       "0              2                         6422   \n",
       "\n",
       "   place_season_condition_type_categori  place_course_category  \\\n",
       "0                                   NaN                     -1   \n",
       "\n",
       "   place_course_tough  goal_range  curve  goal_slope goal_range_100  \\\n",
       "0                  -1          -1     -1          -1            NaN   \n",
       "\n",
       "   place_season_type_course_len  lap_type  age_season  race_grade  \\\n",
       "0                       6424100        -1          64          89   \n",
       "\n",
       "   race_grade_scaled  \n",
       "0                3.9  "
      ]
     },
     "execution_count": 25,
     "metadata": {},
     "output_type": "execute_result"
    }
   ],
   "source": [
    "pfc.race_info"
   ]
  },
  {
   "cell_type": "code",
   "execution_count": null,
   "id": "bc1aee51-9e3b-4949-81ba-867958a73a87",
   "metadata": {},
   "outputs": [],
   "source": [
    "# オッズ除外モデルでの予測、time、ホールドアウト\n",
    "prediction.pre\n",
    "dict(\n",
    "    features,\n",
    "    model_filename=\"model_lightgbm_time_odds_removed.pkl\",\n",
    "    config_filepath=\"config_lightgbm_kaiki_odds_removed.yaml\"\n",
    ")"
   ]
  },
  {
   "cell_type": "code",
   "execution_count": 23,
   "id": "38e647c1-5a50-4e01-9a8e-ab24a7862696",
   "metadata": {},
   "outputs": [
    {
     "data": {
      "text/html": [
       "<div>\n",
       "<style scoped>\n",
       "    .dataframe tbody tr th:only-of-type {\n",
       "        vertical-align: middle;\n",
       "    }\n",
       "\n",
       "    .dataframe tbody tr th {\n",
       "        vertical-align: top;\n",
       "    }\n",
       "\n",
       "    .dataframe thead th {\n",
       "        text-align: right;\n",
       "    }\n",
       "</style>\n",
       "<table border=\"1\" class=\"dataframe\">\n",
       "  <thead>\n",
       "    <tr style=\"text-align: right;\">\n",
       "      <th></th>\n",
       "      <th>race_id</th>\n",
       "      <th>umaban</th>\n",
       "      <th>tansho_odds</th>\n",
       "      <th>popularity</th>\n",
       "      <th>mean_fukusho_rate_wakuban</th>\n",
       "      <th>mean_fukusho_rate_umaban</th>\n",
       "      <th>distance_place_type_ground_state_encoded_time_diff_mean_3races_cross_encoded_relative</th>\n",
       "      <th>distance_place_type_ground_state_encoded_time_diff_min_3races_cross_encoded_relative</th>\n",
       "      <th>syunpatu_mean_3races_encoded</th>\n",
       "      <th>zizoku_mean_3races_encoded</th>\n",
       "      <th>dominant_position_category</th>\n",
       "      <th>pace_category</th>\n",
       "      <th>ground_state_level</th>\n",
       "      <th>rentai_for_pace_category_n5_relative</th>\n",
       "      <th>score_pace_potision_mean_3races_per_score_raw_relative</th>\n",
       "      <th>mean_5races_sum_relative</th>\n",
       "      <th>tenkai_combined_standardized</th>\n",
       "      <th>tenkai_all_combined_standardized</th>\n",
       "      <th>race_grade_rank_diff_sum_mean_3races_grade_rankdiff_score_plus_tenkai_combined_standardized</th>\n",
       "      <th>race_grade_rank_diff_multi_mean_3races_grade_rankdiff_score_plus_tenkai_combined_standardized</th>\n",
       "      <th>race_grade_rank_diff_sum_mean_3races_grade_rankdiff_score_plus_tenkai_all_combined_standardized</th>\n",
       "      <th>race_grade_rank_diff_multi_mean_3races_grade_rankdiff_score_plus_tenkai_all_combined_standardized</th>\n",
       "      <th>race_grade_rank_diff_sum_mean_3races_grade_rankdiff_score_px_tenkai_combined_standardized</th>\n",
       "      <th>race_grade_rank_diff_multi_mean_3races_grade_rankdiff_score_px_tenkai_combined_standardized</th>\n",
       "      <th>race_grade_rank_diff_sum_mean_3races_grade_rankdiff_score_px_tenkai_all_combined_standardized</th>\n",
       "      <th>race_grade_rank_diff_multi_mean_3races_grade_rankdiff_score_px_tenkai_all_combined_standardized</th>\n",
       "      <th>speed_index_mean_3races</th>\n",
       "      <th>nobori_index_mean_3races</th>\n",
       "      <th>speed_index_min_5races</th>\n",
       "      <th>nobori_index_min_5races</th>\n",
       "      <th>speed_index_mean_3races_relative</th>\n",
       "      <th>nobori_index_mean_3races_relative</th>\n",
       "      <th>pred</th>\n",
       "    </tr>\n",
       "  </thead>\n",
       "  <tbody>\n",
       "    <tr>\n",
       "      <th>3</th>\n",
       "      <td>202406050710</td>\n",
       "      <td>4</td>\n",
       "      <td>11.9</td>\n",
       "      <td>5</td>\n",
       "      <td>NaN</td>\n",
       "      <td>NaN</td>\n",
       "      <td>-1.099931</td>\n",
       "      <td>-0.389280</td>\n",
       "      <td>NaN</td>\n",
       "      <td>NaN</td>\n",
       "      <td>2</td>\n",
       "      <td>4</td>\n",
       "      <td>NaN</td>\n",
       "      <td>-0.184900</td>\n",
       "      <td>-0.663711</td>\n",
       "      <td>-1.045858</td>\n",
       "      <td>0.333333</td>\n",
       "      <td>NaN</td>\n",
       "      <td>0.559923</td>\n",
       "      <td>0.462735</td>\n",
       "      <td>NaN</td>\n",
       "      <td>NaN</td>\n",
       "      <td>0.479440</td>\n",
       "      <td>0.447943</td>\n",
       "      <td>NaN</td>\n",
       "      <td>NaN</td>\n",
       "      <td>NaN</td>\n",
       "      <td>NaN</td>\n",
       "      <td>NaN</td>\n",
       "      <td>NaN</td>\n",
       "      <td>NaN</td>\n",
       "      <td>NaN</td>\n",
       "      <td>291.225172</td>\n",
       "    </tr>\n",
       "    <tr>\n",
       "      <th>2</th>\n",
       "      <td>202406050710</td>\n",
       "      <td>3</td>\n",
       "      <td>51.2</td>\n",
       "      <td>8</td>\n",
       "      <td>NaN</td>\n",
       "      <td>NaN</td>\n",
       "      <td>-1.780484</td>\n",
       "      <td>-1.539247</td>\n",
       "      <td>NaN</td>\n",
       "      <td>-7.669710</td>\n",
       "      <td>4</td>\n",
       "      <td>4</td>\n",
       "      <td>NaN</td>\n",
       "      <td>-0.184900</td>\n",
       "      <td>-0.663711</td>\n",
       "      <td>-1.045858</td>\n",
       "      <td>-2.666667</td>\n",
       "      <td>NaN</td>\n",
       "      <td>-1.817484</td>\n",
       "      <td>-1.792933</td>\n",
       "      <td>NaN</td>\n",
       "      <td>NaN</td>\n",
       "      <td>-2.472344</td>\n",
       "      <td>-2.331004</td>\n",
       "      <td>NaN</td>\n",
       "      <td>NaN</td>\n",
       "      <td>111.058275</td>\n",
       "      <td>117.629837</td>\n",
       "      <td>111.058275</td>\n",
       "      <td>117.629837</td>\n",
       "      <td>-0.707107</td>\n",
       "      <td>0.707107</td>\n",
       "      <td>288.170382</td>\n",
       "    </tr>\n",
       "    <tr>\n",
       "      <th>5</th>\n",
       "      <td>202406050710</td>\n",
       "      <td>6</td>\n",
       "      <td>54.1</td>\n",
       "      <td>9</td>\n",
       "      <td>NaN</td>\n",
       "      <td>NaN</td>\n",
       "      <td>-0.015691</td>\n",
       "      <td>0.419688</td>\n",
       "      <td>NaN</td>\n",
       "      <td>NaN</td>\n",
       "      <td>2</td>\n",
       "      <td>4</td>\n",
       "      <td>NaN</td>\n",
       "      <td>-0.184900</td>\n",
       "      <td>-0.663711</td>\n",
       "      <td>0.707843</td>\n",
       "      <td>0.333333</td>\n",
       "      <td>NaN</td>\n",
       "      <td>-0.492763</td>\n",
       "      <td>-0.579061</td>\n",
       "      <td>NaN</td>\n",
       "      <td>NaN</td>\n",
       "      <td>-0.059648</td>\n",
       "      <td>-0.235623</td>\n",
       "      <td>NaN</td>\n",
       "      <td>NaN</td>\n",
       "      <td>NaN</td>\n",
       "      <td>NaN</td>\n",
       "      <td>119.022093</td>\n",
       "      <td>111.900000</td>\n",
       "      <td>NaN</td>\n",
       "      <td>NaN</td>\n",
       "      <td>287.152791</td>\n",
       "    </tr>\n",
       "    <tr>\n",
       "      <th>6</th>\n",
       "      <td>202406050710</td>\n",
       "      <td>7</td>\n",
       "      <td>30.4</td>\n",
       "      <td>6</td>\n",
       "      <td>NaN</td>\n",
       "      <td>NaN</td>\n",
       "      <td>0.815055</td>\n",
       "      <td>-1.219036</td>\n",
       "      <td>NaN</td>\n",
       "      <td>NaN</td>\n",
       "      <td>2</td>\n",
       "      <td>4</td>\n",
       "      <td>NaN</td>\n",
       "      <td>-0.184900</td>\n",
       "      <td>-0.663711</td>\n",
       "      <td>0.707843</td>\n",
       "      <td>0.333333</td>\n",
       "      <td>NaN</td>\n",
       "      <td>0.461916</td>\n",
       "      <td>0.365705</td>\n",
       "      <td>NaN</td>\n",
       "      <td>NaN</td>\n",
       "      <td>0.429250</td>\n",
       "      <td>0.384278</td>\n",
       "      <td>NaN</td>\n",
       "      <td>NaN</td>\n",
       "      <td>NaN</td>\n",
       "      <td>NaN</td>\n",
       "      <td>145.251254</td>\n",
       "      <td>112.700000</td>\n",
       "      <td>NaN</td>\n",
       "      <td>NaN</td>\n",
       "      <td>286.097243</td>\n",
       "    </tr>\n",
       "    <tr>\n",
       "      <th>8</th>\n",
       "      <td>202406050710</td>\n",
       "      <td>9</td>\n",
       "      <td>34.1</td>\n",
       "      <td>7</td>\n",
       "      <td>NaN</td>\n",
       "      <td>NaN</td>\n",
       "      <td>0.202446</td>\n",
       "      <td>0.530459</td>\n",
       "      <td>NaN</td>\n",
       "      <td>NaN</td>\n",
       "      <td>2</td>\n",
       "      <td>4</td>\n",
       "      <td>NaN</td>\n",
       "      <td>1.479201</td>\n",
       "      <td>1.110208</td>\n",
       "      <td>0.707843</td>\n",
       "      <td>0.333333</td>\n",
       "      <td>NaN</td>\n",
       "      <td>1.097516</td>\n",
       "      <td>0.989878</td>\n",
       "      <td>NaN</td>\n",
       "      <td>NaN</td>\n",
       "      <td>0.754746</td>\n",
       "      <td>0.793823</td>\n",
       "      <td>NaN</td>\n",
       "      <td>NaN</td>\n",
       "      <td>127.727477</td>\n",
       "      <td>111.400000</td>\n",
       "      <td>127.727477</td>\n",
       "      <td>111.400000</td>\n",
       "      <td>0.707107</td>\n",
       "      <td>-0.707107</td>\n",
       "      <td>284.368738</td>\n",
       "    </tr>\n",
       "    <tr>\n",
       "      <th>0</th>\n",
       "      <td>202406050710</td>\n",
       "      <td>1</td>\n",
       "      <td>3.2</td>\n",
       "      <td>2</td>\n",
       "      <td>NaN</td>\n",
       "      <td>NaN</td>\n",
       "      <td>0.200061</td>\n",
       "      <td>0.902434</td>\n",
       "      <td>NaN</td>\n",
       "      <td>-6.745207</td>\n",
       "      <td>2</td>\n",
       "      <td>4</td>\n",
       "      <td>NaN</td>\n",
       "      <td>-0.184900</td>\n",
       "      <td>-0.663711</td>\n",
       "      <td>-1.045858</td>\n",
       "      <td>0.333333</td>\n",
       "      <td>NaN</td>\n",
       "      <td>-0.320015</td>\n",
       "      <td>-0.314659</td>\n",
       "      <td>NaN</td>\n",
       "      <td>NaN</td>\n",
       "      <td>0.028817</td>\n",
       "      <td>-0.062138</td>\n",
       "      <td>NaN</td>\n",
       "      <td>NaN</td>\n",
       "      <td>NaN</td>\n",
       "      <td>NaN</td>\n",
       "      <td>NaN</td>\n",
       "      <td>NaN</td>\n",
       "      <td>NaN</td>\n",
       "      <td>NaN</td>\n",
       "      <td>284.327309</td>\n",
       "    </tr>\n",
       "    <tr>\n",
       "      <th>1</th>\n",
       "      <td>202406050710</td>\n",
       "      <td>2</td>\n",
       "      <td>4.6</td>\n",
       "      <td>3</td>\n",
       "      <td>NaN</td>\n",
       "      <td>NaN</td>\n",
       "      <td>0.218259</td>\n",
       "      <td>0.232185</td>\n",
       "      <td>NaN</td>\n",
       "      <td>NaN</td>\n",
       "      <td>2</td>\n",
       "      <td>4</td>\n",
       "      <td>NaN</td>\n",
       "      <td>-1.849001</td>\n",
       "      <td>-0.663711</td>\n",
       "      <td>-1.045858</td>\n",
       "      <td>0.333333</td>\n",
       "      <td>NaN</td>\n",
       "      <td>-0.195570</td>\n",
       "      <td>-0.095186</td>\n",
       "      <td>NaN</td>\n",
       "      <td>NaN</td>\n",
       "      <td>0.092547</td>\n",
       "      <td>0.081868</td>\n",
       "      <td>NaN</td>\n",
       "      <td>NaN</td>\n",
       "      <td>NaN</td>\n",
       "      <td>NaN</td>\n",
       "      <td>NaN</td>\n",
       "      <td>NaN</td>\n",
       "      <td>NaN</td>\n",
       "      <td>NaN</td>\n",
       "      <td>283.708866</td>\n",
       "    </tr>\n",
       "    <tr>\n",
       "      <th>7</th>\n",
       "      <td>202406050710</td>\n",
       "      <td>8</td>\n",
       "      <td>5.9</td>\n",
       "      <td>4</td>\n",
       "      <td>NaN</td>\n",
       "      <td>NaN</td>\n",
       "      <td>-0.208103</td>\n",
       "      <td>-0.493917</td>\n",
       "      <td>NaN</td>\n",
       "      <td>NaN</td>\n",
       "      <td>1</td>\n",
       "      <td>4</td>\n",
       "      <td>NaN</td>\n",
       "      <td>-0.184900</td>\n",
       "      <td>1.436030</td>\n",
       "      <td>1.029951</td>\n",
       "      <td>0.333333</td>\n",
       "      <td>NaN</td>\n",
       "      <td>-0.726646</td>\n",
       "      <td>-0.647420</td>\n",
       "      <td>NaN</td>\n",
       "      <td>NaN</td>\n",
       "      <td>-0.179421</td>\n",
       "      <td>-0.280476</td>\n",
       "      <td>NaN</td>\n",
       "      <td>NaN</td>\n",
       "      <td>NaN</td>\n",
       "      <td>NaN</td>\n",
       "      <td>NaN</td>\n",
       "      <td>NaN</td>\n",
       "      <td>NaN</td>\n",
       "      <td>NaN</td>\n",
       "      <td>282.387844</td>\n",
       "    </tr>\n",
       "    <tr>\n",
       "      <th>4</th>\n",
       "      <td>202406050710</td>\n",
       "      <td>5</td>\n",
       "      <td>2.6</td>\n",
       "      <td>1</td>\n",
       "      <td>NaN</td>\n",
       "      <td>NaN</td>\n",
       "      <td>1.668387</td>\n",
       "      <td>1.556714</td>\n",
       "      <td>NaN</td>\n",
       "      <td>NaN</td>\n",
       "      <td>2</td>\n",
       "      <td>4</td>\n",
       "      <td>NaN</td>\n",
       "      <td>1.479201</td>\n",
       "      <td>1.436030</td>\n",
       "      <td>1.029951</td>\n",
       "      <td>0.333333</td>\n",
       "      <td>NaN</td>\n",
       "      <td>1.433124</td>\n",
       "      <td>1.610942</td>\n",
       "      <td>NaN</td>\n",
       "      <td>NaN</td>\n",
       "      <td>0.926613</td>\n",
       "      <td>1.201330</td>\n",
       "      <td>NaN</td>\n",
       "      <td>NaN</td>\n",
       "      <td>NaN</td>\n",
       "      <td>NaN</td>\n",
       "      <td>NaN</td>\n",
       "      <td>NaN</td>\n",
       "      <td>NaN</td>\n",
       "      <td>NaN</td>\n",
       "      <td>282.070402</td>\n",
       "    </tr>\n",
       "  </tbody>\n",
       "</table>\n",
       "</div>"
      ],
      "text/plain": [
       "        race_id  umaban  tansho_odds  popularity  mean_fukusho_rate_wakuban  \\\n",
       "3  202406050710       4         11.9           5                        NaN   \n",
       "2  202406050710       3         51.2           8                        NaN   \n",
       "5  202406050710       6         54.1           9                        NaN   \n",
       "6  202406050710       7         30.4           6                        NaN   \n",
       "8  202406050710       9         34.1           7                        NaN   \n",
       "0  202406050710       1          3.2           2                        NaN   \n",
       "1  202406050710       2          4.6           3                        NaN   \n",
       "7  202406050710       8          5.9           4                        NaN   \n",
       "4  202406050710       5          2.6           1                        NaN   \n",
       "\n",
       "   mean_fukusho_rate_umaban  \\\n",
       "3                       NaN   \n",
       "2                       NaN   \n",
       "5                       NaN   \n",
       "6                       NaN   \n",
       "8                       NaN   \n",
       "0                       NaN   \n",
       "1                       NaN   \n",
       "7                       NaN   \n",
       "4                       NaN   \n",
       "\n",
       "   distance_place_type_ground_state_encoded_time_diff_mean_3races_cross_encoded_relative  \\\n",
       "3                                          -1.099931                                       \n",
       "2                                          -1.780484                                       \n",
       "5                                          -0.015691                                       \n",
       "6                                           0.815055                                       \n",
       "8                                           0.202446                                       \n",
       "0                                           0.200061                                       \n",
       "1                                           0.218259                                       \n",
       "7                                          -0.208103                                       \n",
       "4                                           1.668387                                       \n",
       "\n",
       "   distance_place_type_ground_state_encoded_time_diff_min_3races_cross_encoded_relative  \\\n",
       "3                                          -0.389280                                      \n",
       "2                                          -1.539247                                      \n",
       "5                                           0.419688                                      \n",
       "6                                          -1.219036                                      \n",
       "8                                           0.530459                                      \n",
       "0                                           0.902434                                      \n",
       "1                                           0.232185                                      \n",
       "7                                          -0.493917                                      \n",
       "4                                           1.556714                                      \n",
       "\n",
       "   syunpatu_mean_3races_encoded  zizoku_mean_3races_encoded  \\\n",
       "3                           NaN                         NaN   \n",
       "2                           NaN                   -7.669710   \n",
       "5                           NaN                         NaN   \n",
       "6                           NaN                         NaN   \n",
       "8                           NaN                         NaN   \n",
       "0                           NaN                   -6.745207   \n",
       "1                           NaN                         NaN   \n",
       "7                           NaN                         NaN   \n",
       "4                           NaN                         NaN   \n",
       "\n",
       "   dominant_position_category  pace_category  ground_state_level  \\\n",
       "3                           2              4                 NaN   \n",
       "2                           4              4                 NaN   \n",
       "5                           2              4                 NaN   \n",
       "6                           2              4                 NaN   \n",
       "8                           2              4                 NaN   \n",
       "0                           2              4                 NaN   \n",
       "1                           2              4                 NaN   \n",
       "7                           1              4                 NaN   \n",
       "4                           2              4                 NaN   \n",
       "\n",
       "   rentai_for_pace_category_n5_relative  \\\n",
       "3                             -0.184900   \n",
       "2                             -0.184900   \n",
       "5                             -0.184900   \n",
       "6                             -0.184900   \n",
       "8                              1.479201   \n",
       "0                             -0.184900   \n",
       "1                             -1.849001   \n",
       "7                             -0.184900   \n",
       "4                              1.479201   \n",
       "\n",
       "   score_pace_potision_mean_3races_per_score_raw_relative  \\\n",
       "3                                          -0.663711        \n",
       "2                                          -0.663711        \n",
       "5                                          -0.663711        \n",
       "6                                          -0.663711        \n",
       "8                                           1.110208        \n",
       "0                                          -0.663711        \n",
       "1                                          -0.663711        \n",
       "7                                           1.436030        \n",
       "4                                           1.436030        \n",
       "\n",
       "   mean_5races_sum_relative  tenkai_combined_standardized  \\\n",
       "3                 -1.045858                      0.333333   \n",
       "2                 -1.045858                     -2.666667   \n",
       "5                  0.707843                      0.333333   \n",
       "6                  0.707843                      0.333333   \n",
       "8                  0.707843                      0.333333   \n",
       "0                 -1.045858                      0.333333   \n",
       "1                 -1.045858                      0.333333   \n",
       "7                  1.029951                      0.333333   \n",
       "4                  1.029951                      0.333333   \n",
       "\n",
       "   tenkai_all_combined_standardized  \\\n",
       "3                               NaN   \n",
       "2                               NaN   \n",
       "5                               NaN   \n",
       "6                               NaN   \n",
       "8                               NaN   \n",
       "0                               NaN   \n",
       "1                               NaN   \n",
       "7                               NaN   \n",
       "4                               NaN   \n",
       "\n",
       "   race_grade_rank_diff_sum_mean_3races_grade_rankdiff_score_plus_tenkai_combined_standardized  \\\n",
       "3                                           0.559923                                             \n",
       "2                                          -1.817484                                             \n",
       "5                                          -0.492763                                             \n",
       "6                                           0.461916                                             \n",
       "8                                           1.097516                                             \n",
       "0                                          -0.320015                                             \n",
       "1                                          -0.195570                                             \n",
       "7                                          -0.726646                                             \n",
       "4                                           1.433124                                             \n",
       "\n",
       "   race_grade_rank_diff_multi_mean_3races_grade_rankdiff_score_plus_tenkai_combined_standardized  \\\n",
       "3                                           0.462735                                               \n",
       "2                                          -1.792933                                               \n",
       "5                                          -0.579061                                               \n",
       "6                                           0.365705                                               \n",
       "8                                           0.989878                                               \n",
       "0                                          -0.314659                                               \n",
       "1                                          -0.095186                                               \n",
       "7                                          -0.647420                                               \n",
       "4                                           1.610942                                               \n",
       "\n",
       "   race_grade_rank_diff_sum_mean_3races_grade_rankdiff_score_plus_tenkai_all_combined_standardized  \\\n",
       "3                                                NaN                                                 \n",
       "2                                                NaN                                                 \n",
       "5                                                NaN                                                 \n",
       "6                                                NaN                                                 \n",
       "8                                                NaN                                                 \n",
       "0                                                NaN                                                 \n",
       "1                                                NaN                                                 \n",
       "7                                                NaN                                                 \n",
       "4                                                NaN                                                 \n",
       "\n",
       "   race_grade_rank_diff_multi_mean_3races_grade_rankdiff_score_plus_tenkai_all_combined_standardized  \\\n",
       "3                                                NaN                                                   \n",
       "2                                                NaN                                                   \n",
       "5                                                NaN                                                   \n",
       "6                                                NaN                                                   \n",
       "8                                                NaN                                                   \n",
       "0                                                NaN                                                   \n",
       "1                                                NaN                                                   \n",
       "7                                                NaN                                                   \n",
       "4                                                NaN                                                   \n",
       "\n",
       "   race_grade_rank_diff_sum_mean_3races_grade_rankdiff_score_px_tenkai_combined_standardized  \\\n",
       "3                                           0.479440                                           \n",
       "2                                          -2.472344                                           \n",
       "5                                          -0.059648                                           \n",
       "6                                           0.429250                                           \n",
       "8                                           0.754746                                           \n",
       "0                                           0.028817                                           \n",
       "1                                           0.092547                                           \n",
       "7                                          -0.179421                                           \n",
       "4                                           0.926613                                           \n",
       "\n",
       "   race_grade_rank_diff_multi_mean_3races_grade_rankdiff_score_px_tenkai_combined_standardized  \\\n",
       "3                                           0.447943                                             \n",
       "2                                          -2.331004                                             \n",
       "5                                          -0.235623                                             \n",
       "6                                           0.384278                                             \n",
       "8                                           0.793823                                             \n",
       "0                                          -0.062138                                             \n",
       "1                                           0.081868                                             \n",
       "7                                          -0.280476                                             \n",
       "4                                           1.201330                                             \n",
       "\n",
       "   race_grade_rank_diff_sum_mean_3races_grade_rankdiff_score_px_tenkai_all_combined_standardized  \\\n",
       "3                                                NaN                                               \n",
       "2                                                NaN                                               \n",
       "5                                                NaN                                               \n",
       "6                                                NaN                                               \n",
       "8                                                NaN                                               \n",
       "0                                                NaN                                               \n",
       "1                                                NaN                                               \n",
       "7                                                NaN                                               \n",
       "4                                                NaN                                               \n",
       "\n",
       "   race_grade_rank_diff_multi_mean_3races_grade_rankdiff_score_px_tenkai_all_combined_standardized  \\\n",
       "3                                                NaN                                                 \n",
       "2                                                NaN                                                 \n",
       "5                                                NaN                                                 \n",
       "6                                                NaN                                                 \n",
       "8                                                NaN                                                 \n",
       "0                                                NaN                                                 \n",
       "1                                                NaN                                                 \n",
       "7                                                NaN                                                 \n",
       "4                                                NaN                                                 \n",
       "\n",
       "   speed_index_mean_3races  nobori_index_mean_3races  speed_index_min_5races  \\\n",
       "3                      NaN                       NaN                     NaN   \n",
       "2               111.058275                117.629837              111.058275   \n",
       "5                      NaN                       NaN              119.022093   \n",
       "6                      NaN                       NaN              145.251254   \n",
       "8               127.727477                111.400000              127.727477   \n",
       "0                      NaN                       NaN                     NaN   \n",
       "1                      NaN                       NaN                     NaN   \n",
       "7                      NaN                       NaN                     NaN   \n",
       "4                      NaN                       NaN                     NaN   \n",
       "\n",
       "   nobori_index_min_5races  speed_index_mean_3races_relative  \\\n",
       "3                      NaN                               NaN   \n",
       "2               117.629837                         -0.707107   \n",
       "5               111.900000                               NaN   \n",
       "6               112.700000                               NaN   \n",
       "8               111.400000                          0.707107   \n",
       "0                      NaN                               NaN   \n",
       "1                      NaN                               NaN   \n",
       "7                      NaN                               NaN   \n",
       "4                      NaN                               NaN   \n",
       "\n",
       "   nobori_index_mean_3races_relative        pred  \n",
       "3                                NaN  291.225172  \n",
       "2                           0.707107  288.170382  \n",
       "5                                NaN  287.152791  \n",
       "6                                NaN  286.097243  \n",
       "8                          -0.707107  284.368738  \n",
       "0                                NaN  284.327309  \n",
       "1                                NaN  283.708866  \n",
       "7                                NaN  282.387844  \n",
       "4                                NaN  282.070402  "
      ]
     },
     "execution_count": 23,
     "metadata": {},
     "output_type": "execute_result"
    }
   ],
   "source": [
    "# オッズ除外モデルでの予測、time、クロスバリデーション\n",
    "prediction.predict(\n",
    "    features,\n",
    "    model_filename=\"model_lightgbm_time_cv_full_odds_removed.pkl\",\n",
    "    config_filepath=\"config_lightgbm_kaiki_odds_removed.yaml\"\n",
    ")"
   ]
  },
  {
   "cell_type": "code",
   "execution_count": null,
   "id": "f1f3d9da-c6ac-4726-adb3-c972794f6ebe",
   "metadata": {},
   "outputs": [],
   "source": []
  },
  {
   "cell_type": "code",
   "execution_count": null,
   "id": "f14c65c5-31e1-4865-9e60-02daa8f5f78d",
   "metadata": {},
   "outputs": [],
   "source": []
  },
  {
   "cell_type": "markdown",
   "id": "5d399698-7154-4353-8d27-6a34f2c53341",
   "metadata": {},
   "source": [
    "###　12/21 第n回目レース"
   ]
  },
  {
   "cell_type": "code",
   "execution_count": null,
   "id": "ba36207d-e43f-4b5b-82c8-fdd2dda6f0bf",
   "metadata": {},
   "outputs": [],
   "source": [
    "# 特徴量の更新\n",
    "features = pfc.create_features(\n",
    "    race_id=\"202408060411\",  # 予測するレースidを指定\n",
    "    date_content_a = \"2024年12月21日\", #\"%Y年%m月%d日\"形式で該当レース当日の日付を入れてください    \n",
    "    skip_agg_horse=True  # 事前に集計した場合はスキップできる\n",
    ")"
   ]
  },
  {
   "cell_type": "code",
   "execution_count": null,
   "id": "779ad66f-f36e-4c0f-9201-f0c694f08e29",
   "metadata": {},
   "outputs": [],
   "source": [
    "pfc.results"
   ]
  },
  {
   "cell_type": "code",
   "execution_count": null,
   "id": "cb5a4510-d5f0-4af0-bf9a-38d70fb3f2ae",
   "metadata": {},
   "outputs": [],
   "source": [
    "pfc.race_info"
   ]
  },
  {
   "cell_type": "code",
   "execution_count": null,
   "id": "ef0f266f-3cdf-4728-9592-2b9dee7a2895",
   "metadata": {},
   "outputs": [],
   "source": [
    "# オッズ除外モデルでの予測、time、ホールドアウト\n",
    "prediction.predict(\n",
    "    features,\n",
    "    model_filename=\"model_lightgbm_time_odds_removed.pkl\",\n",
    "    config_filepath=\"config_lightgbm_kaiki_odds_removed.yaml\"\n",
    ")"
   ]
  },
  {
   "cell_type": "code",
   "execution_count": null,
   "id": "f8605b44-2851-4bad-8355-164f46d85d5a",
   "metadata": {},
   "outputs": [],
   "source": [
    "# オッズ除外モデルでの予測、time、クロスバリデーション\n",
    "prediction.predict(\n",
    "    features,\n",
    "    model_filename=\"model_lightgbm_time_cv_full_odds_removed.pkl\",\n",
    "    config_filepath=\"config_lightgbm_kaiki_odds_removed.yaml\"\n",
    ")"
   ]
  },
  {
   "cell_type": "code",
   "execution_count": null,
   "id": "fb473c87-a471-428e-a489-03598faf5f45",
   "metadata": {},
   "outputs": [],
   "source": []
  },
  {
   "cell_type": "code",
   "execution_count": null,
   "id": "e9ac381d-af83-45b4-ae92-0b76cb6f07c6",
   "metadata": {},
   "outputs": [],
   "source": []
  },
  {
   "cell_type": "markdown",
   "id": "e0bb2bd6-71aa-4389-a06e-d9edb11c3c27",
   "metadata": {},
   "source": [
    "### 12/21 第n回目レース"
   ]
  },
  {
   "cell_type": "code",
   "execution_count": null,
   "id": "5846d2b3-b5d7-484e-94e8-c563fe95f5f3",
   "metadata": {},
   "outputs": [],
   "source": [
    "# 特徴量の更新\n",
    "features = pfc.create_features(\n",
    "    race_id=\"202408060411\",  # 予測するレースidを指定\n",
    "    date_content_a = \"2024年12月21日\", #\"%Y年%m月%d日\"形式で該当レース当日の日付を入れてください    \n",
    "    skip_agg_horse=True  # 事前に集計した場合はスキップできる\n",
    ")"
   ]
  },
  {
   "cell_type": "code",
   "execution_count": null,
   "id": "c57427a3-15c6-45cf-a0e3-ce5dfab20a2c",
   "metadata": {},
   "outputs": [],
   "source": [
    "pfc.results"
   ]
  },
  {
   "cell_type": "code",
   "execution_count": null,
   "id": "1d813074-3af5-4de6-9778-cb6f43a6e979",
   "metadata": {},
   "outputs": [],
   "source": [
    "pfc.race_info"
   ]
  },
  {
   "cell_type": "code",
   "execution_count": null,
   "id": "19586e04-c3e1-4818-b742-ac9e8844b362",
   "metadata": {},
   "outputs": [],
   "source": [
    "# オッズ除外モデルでの予測、time、ホールドアウト\n",
    "prediction.predict(\n",
    "    features,\n",
    "    model_filename=\"model_lightgbm_time_odds_removed.pkl\",\n",
    "    config_filepath=\"config_lightgbm_kaiki_odds_removed.yaml\"\n",
    ")"
   ]
  },
  {
   "cell_type": "code",
   "execution_count": null,
   "id": "43002470-ee0c-41ef-a09b-b1bcaed53ad7",
   "metadata": {},
   "outputs": [],
   "source": [
    "# オッズ除外モデルでの予測、time、クロスバリデーション\n",
    "prediction.predict(\n",
    "    features,\n",
    "    model_filename=\"model_lightgbm_time_cv_full_odds_removed.pkl\",\n",
    "    config_filepath=\"config_lightgbm_kaiki_odds_removed.yaml\"\n",
    ")"
   ]
  }
 ],
 "metadata": {
  "kernelspec": {
   "display_name": "Python 3 (ipykernel)",
   "language": "python",
   "name": "python3"
  },
  "language_info": {
   "codemirror_mode": {
    "name": "ipython",
    "version": 3
   },
   "file_extension": ".py",
   "mimetype": "text/x-python",
   "name": "python",
   "nbconvert_exporter": "python",
   "pygments_lexer": "ipython3",
   "version": "3.11.8"
  }
 },
 "nbformat": 4,
 "nbformat_minor": 5
}
