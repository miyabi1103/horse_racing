{
 "cells": [
  {
   "cell_type": "code",
   "execution_count": 1,
   "id": "66ff341f-1b1b-4d71-96b2-0f3a1d6a6fee",
   "metadata": {},
   "outputs": [],
   "source": [
    "import re\n",
    "import time\n",
    "from urllib.request import urlopen\n",
    "\n",
    "import pandas as pd\n",
    "from bs4 import BeautifulSoup\n",
    "from tqdm.notebook import tqdm\n",
    "\n",
    "def scrape_kaisai_date(from_, to_):  # 引数名を修正\n",
    "    kaisai_date_list = []\n",
    "    for date in tqdm(pd.date_range(from_, to_, freq=\"MS\")):  # to_を使用\n",
    "        year = date.year\n",
    "        month = date.month\n",
    "        url = f\"https://race.netkeiba.com/top/calendar.html?year={year}&month={month}\"\n",
    "        html = urlopen(url).read()  # スクレイピング\n",
    "        time.sleep(1)\n",
    "\n",
    "        soup = BeautifulSoup(html, \"lxml\")\n",
    "        a_list = soup.find(\"table\", class_=\"Calendar_Table\").find_all(\"a\")\n",
    "        for a in a_list:\n",
    "            kaisai_date = re.findall(r\"kaisai_date=(\\d{8})\", a[\"href\"])[0]\n",
    "            kaisai_date_list.append(kaisai_date)\n",
    "    return kaisai_date_list\n",
    "\n"
   ]
  },
  {
   "cell_type": "code",
   "execution_count": 2,
   "id": "a68f4e64-cf24-4a53-bf9a-1436beab31de",
   "metadata": {},
   "outputs": [
    {
     "data": {
      "application/vnd.jupyter.widget-view+json": {
       "model_id": "c4d8330fb9684602835a987034743aee",
       "version_major": 2,
       "version_minor": 0
      },
      "text/plain": [
       "  0%|          | 0/24 [00:00<?, ?it/s]"
      ]
     },
     "metadata": {},
     "output_type": "display_data"
    }
   ],
   "source": [
    "kaisai_date_list = scrape_kaisai_date(from_=\"2022-01\",to_=\"2023-12\")"
   ]
  },
  {
   "cell_type": "code",
   "execution_count": 2,
   "id": "558e0660-9386-487e-a6da-f53b4e173e92",
   "metadata": {},
   "outputs": [],
   "source": [
    "\n",
    "import scraping\n",
    "%load_ext autoreload"
   ]
  },
  {
   "cell_type": "code",
   "execution_count": 10,
   "id": "aac1f5f4-3387-42e5-addf-fc6b2c2f2d6c",
   "metadata": {},
   "outputs": [
    {
     "name": "stderr",
     "output_type": "stream",
     "text": [
      "UsageError: Line magic function `%autoreload` not found.\n"
     ]
    }
   ],
   "source": [
    "%autoreload"
   ]
  },
  {
   "cell_type": "code",
   "execution_count": 5,
   "id": "a8de4873-a436-47e3-8d54-e6dc6338d4c6",
   "metadata": {},
   "outputs": [
    {
     "data": {
      "application/vnd.jupyter.widget-view+json": {
       "model_id": "ab90a768879b4af2bd2ef0d5717257f1",
       "version_major": 2,
       "version_minor": 0
      },
      "text/plain": [
       "  0%|          | 0/10 [00:00<?, ?it/s]"
      ]
     },
     "metadata": {},
     "output_type": "display_data"
    }
   ],
   "source": [
    "race_id_list = scraping.scrape_race_id_list(kaisai_date_list[:10])"
   ]
  },
  {
   "cell_type": "code",
   "execution_count": 8,
   "id": "1db8ccb2-cbfd-45f1-bbf8-0f19a1818125",
   "metadata": {
    "collapsed": true,
    "jupyter": {
     "outputs_hidden": true
    },
    "scrolled": true
   },
   "outputs": [
    {
     "data": {
      "text/plain": [
       "['202206010101',\n",
       " '202206010102',\n",
       " '202206010103',\n",
       " '202206010104',\n",
       " '202206010105',\n",
       " '202206010106',\n",
       " '202206010107',\n",
       " '202206010108',\n",
       " '202206010109',\n",
       " '202206010110',\n",
       " '202206010111',\n",
       " '202206010112',\n",
       " '202207010101',\n",
       " '202207010102',\n",
       " '202207010103',\n",
       " '202207010104',\n",
       " '202207010105',\n",
       " '202207010106',\n",
       " '202207010107',\n",
       " '202207010108',\n",
       " '202207010109',\n",
       " '202207010110',\n",
       " '202207010111',\n",
       " '202207010112',\n",
       " '202206010201',\n",
       " '202206010202',\n",
       " '202206010203',\n",
       " '202206010204',\n",
       " '202206010205',\n",
       " '202206010206',\n",
       " '202206010207',\n",
       " '202206010208',\n",
       " '202206010209',\n",
       " '202206010210',\n",
       " '202206010211',\n",
       " '202206010212',\n",
       " '202207010201',\n",
       " '202207010202',\n",
       " '202207010203',\n",
       " '202207010204',\n",
       " '202207010205',\n",
       " '202207010206',\n",
       " '202207010207',\n",
       " '202207010208',\n",
       " '202207010209',\n",
       " '202207010210',\n",
       " '202207010211',\n",
       " '202207010212',\n",
       " '202206010301',\n",
       " '202206010302',\n",
       " '202206010303',\n",
       " '202206010304',\n",
       " '202206010305',\n",
       " '202206010306',\n",
       " '202206010307',\n",
       " '202206010308',\n",
       " '202206010309',\n",
       " '202206010310',\n",
       " '202206010311',\n",
       " '202206010312',\n",
       " '202207010301',\n",
       " '202207010302',\n",
       " '202207010303',\n",
       " '202207010304',\n",
       " '202207010305',\n",
       " '202207010306',\n",
       " '202207010307',\n",
       " '202207010308',\n",
       " '202207010309',\n",
       " '202207010310',\n",
       " '202207010311',\n",
       " '202207010312',\n",
       " '202206010401',\n",
       " '202206010402',\n",
       " '202206010403',\n",
       " '202206010404',\n",
       " '202206010405',\n",
       " '202206010406',\n",
       " '202206010407',\n",
       " '202206010408',\n",
       " '202206010409',\n",
       " '202206010410',\n",
       " '202206010411',\n",
       " '202206010412',\n",
       " '202207010401',\n",
       " '202207010402',\n",
       " '202207010403',\n",
       " '202207010404',\n",
       " '202207010405',\n",
       " '202207010406',\n",
       " '202207010407',\n",
       " '202207010408',\n",
       " '202207010409',\n",
       " '202207010410',\n",
       " '202207010411',\n",
       " '202207010412',\n",
       " '202206010501',\n",
       " '202206010502',\n",
       " '202206010503',\n",
       " '202206010504',\n",
       " '202206010505',\n",
       " '202206010506',\n",
       " '202206010507',\n",
       " '202206010508',\n",
       " '202206010509',\n",
       " '202206010510',\n",
       " '202206010511',\n",
       " '202206010512',\n",
       " '202207010501',\n",
       " '202207010502',\n",
       " '202207010503',\n",
       " '202207010504',\n",
       " '202207010505',\n",
       " '202207010506',\n",
       " '202207010507',\n",
       " '202207010508',\n",
       " '202207010509',\n",
       " '202207010510',\n",
       " '202207010511',\n",
       " '202207010512',\n",
       " '202210010101',\n",
       " '202210010102',\n",
       " '202210010103',\n",
       " '202210010104',\n",
       " '202210010105',\n",
       " '202210010106',\n",
       " '202210010107',\n",
       " '202210010108',\n",
       " '202210010109',\n",
       " '202210010110',\n",
       " '202210010111',\n",
       " '202210010112',\n",
       " '202206010601',\n",
       " '202206010602',\n",
       " '202206010603',\n",
       " '202206010604',\n",
       " '202206010605',\n",
       " '202206010606',\n",
       " '202206010607',\n",
       " '202206010608',\n",
       " '202206010609',\n",
       " '202206010610',\n",
       " '202206010611',\n",
       " '202206010612',\n",
       " '202207010601',\n",
       " '202207010602',\n",
       " '202207010603',\n",
       " '202207010604',\n",
       " '202207010605',\n",
       " '202207010606',\n",
       " '202207010607',\n",
       " '202207010608',\n",
       " '202207010609',\n",
       " '202207010610',\n",
       " '202207010611',\n",
       " '202207010612',\n",
       " '202210010201',\n",
       " '202210010202',\n",
       " '202210010203',\n",
       " '202210010204',\n",
       " '202210010205',\n",
       " '202210010206',\n",
       " '202210010207',\n",
       " '202210010208',\n",
       " '202210010209',\n",
       " '202210010210',\n",
       " '202210010211',\n",
       " '202210010212',\n",
       " '202206010701',\n",
       " '202206010702',\n",
       " '202206010703',\n",
       " '202206010704',\n",
       " '202206010705',\n",
       " '202206010706',\n",
       " '202206010707',\n",
       " '202206010708',\n",
       " '202206010709',\n",
       " '202206010710',\n",
       " '202206010711',\n",
       " '202206010712',\n",
       " '202207010701',\n",
       " '202207010702',\n",
       " '202207010703',\n",
       " '202207010704',\n",
       " '202207010705',\n",
       " '202207010706',\n",
       " '202207010707',\n",
       " '202207010708',\n",
       " '202207010709',\n",
       " '202207010710',\n",
       " '202207010711',\n",
       " '202207010712',\n",
       " '202210010301',\n",
       " '202210010302',\n",
       " '202210010303',\n",
       " '202210010304',\n",
       " '202210010305',\n",
       " '202210010306',\n",
       " '202210010307',\n",
       " '202210010308',\n",
       " '202210010309',\n",
       " '202210010310',\n",
       " '202210010311',\n",
       " '202210010312',\n",
       " '202206010801',\n",
       " '202206010802',\n",
       " '202206010803',\n",
       " '202206010804',\n",
       " '202206010805',\n",
       " '202206010806',\n",
       " '202206010807',\n",
       " '202206010808',\n",
       " '202206010809',\n",
       " '202206010810',\n",
       " '202206010811',\n",
       " '202206010812',\n",
       " '202207010801',\n",
       " '202207010802',\n",
       " '202207010803',\n",
       " '202207010804',\n",
       " '202207010805',\n",
       " '202207010806',\n",
       " '202207010807',\n",
       " '202207010808',\n",
       " '202207010809',\n",
       " '202207010810',\n",
       " '202207010811',\n",
       " '202207010812',\n",
       " '202210010401',\n",
       " '202210010402',\n",
       " '202210010403',\n",
       " '202210010404',\n",
       " '202210010405',\n",
       " '202210010406',\n",
       " '202210010407',\n",
       " '202210010408',\n",
       " '202210010409',\n",
       " '202210010410',\n",
       " '202210010411',\n",
       " '202210010412',\n",
       " '202205010101',\n",
       " '202205010102',\n",
       " '202205010103',\n",
       " '202205010104',\n",
       " '202205010105',\n",
       " '202205010106',\n",
       " '202205010107',\n",
       " '202205010108',\n",
       " '202205010109',\n",
       " '202205010110',\n",
       " '202205010111',\n",
       " '202205010112',\n",
       " '202207010901',\n",
       " '202207010902',\n",
       " '202207010903',\n",
       " '202207010904',\n",
       " '202207010905',\n",
       " '202207010906',\n",
       " '202207010907',\n",
       " '202207010908',\n",
       " '202207010909',\n",
       " '202207010910',\n",
       " '202207010911',\n",
       " '202207010912',\n",
       " '202210010501',\n",
       " '202210010502',\n",
       " '202210010503',\n",
       " '202210010504',\n",
       " '202210010505',\n",
       " '202210010506',\n",
       " '202210010507',\n",
       " '202210010508',\n",
       " '202210010509',\n",
       " '202210010510',\n",
       " '202210010511',\n",
       " '202210010512',\n",
       " '202205010201',\n",
       " '202205010202',\n",
       " '202205010203',\n",
       " '202205010204',\n",
       " '202205010205',\n",
       " '202205010206',\n",
       " '202205010207',\n",
       " '202205010208',\n",
       " '202205010209',\n",
       " '202205010210',\n",
       " '202205010211',\n",
       " '202205010212',\n",
       " '202207011001',\n",
       " '202207011002',\n",
       " '202207011003',\n",
       " '202207011004',\n",
       " '202207011005',\n",
       " '202207011006',\n",
       " '202207011007',\n",
       " '202207011008',\n",
       " '202207011009',\n",
       " '202207011010',\n",
       " '202207011011',\n",
       " '202207011012',\n",
       " '202210010601',\n",
       " '202210010602',\n",
       " '202210010603',\n",
       " '202210010604',\n",
       " '202210010605',\n",
       " '202210010606',\n",
       " '202210010607',\n",
       " '202210010608',\n",
       " '202210010609',\n",
       " '202210010610',\n",
       " '202210010611',\n",
       " '202210010612']"
      ]
     },
     "execution_count": 8,
     "metadata": {},
     "output_type": "execute_result"
    }
   ],
   "source": [
    "race_id_list\n",
    "len(race_id_list)"
   ]
  },
  {
   "cell_type": "code",
   "execution_count": null,
   "id": "36e48e49-3fff-461b-a317-d790b353be73",
   "metadata": {},
   "outputs": [],
   "source": []
  },
  {
   "cell_type": "markdown",
   "id": "25b9acbf-a696-499d-a795-4ad05df70e6d",
   "metadata": {},
   "source": [
    "#　レース前日準備"
   ]
  },
  {
   "cell_type": "markdown",
   "id": "35ac1ef7-2a81-41be-bb3a-0c541e34afe4",
   "metadata": {},
   "source": [
    "#　予測したい日の（日付、race_id,horse_idのペアをつくる"
   ]
  },
  {
   "cell_type": "code",
   "execution_count": 18,
   "id": "a74c13d0-3f90-4dc8-a11a-9575333ca54e",
   "metadata": {},
   "outputs": [],
   "source": [
    "import scraping\n",
    "%load_ext autoreload"
   ]
  },
  {
   "cell_type": "code",
   "execution_count": null,
   "id": "7cd0aa7a-4e1d-4b75-8497-09dd88b1cac1",
   "metadata": {},
   "outputs": [
    {
     "data": {
      "application/vnd.jupyter.widget-view+json": {
       "model_id": "e2232d1c28fb4edf9cec03b6bab8ce5c",
       "version_major": 2,
       "version_minor": 0
      },
      "text/plain": [
       "  0%|          | 0/1 [00:00<?, ?it/s]"
      ]
     },
     "metadata": {},
     "output_type": "display_data"
    }
   ],
   "source": [
    "race_id_list = scraping.scrape_race_id_list([\"20240601\"])"
   ]
  },
  {
   "cell_type": "code",
   "execution_count": 6,
   "id": "aa0a6b7f-4c04-4344-921d-d1e3f95949a4",
   "metadata": {},
   "outputs": [
    {
     "data": {
      "text/plain": [
       "36"
      ]
     },
     "execution_count": 6,
     "metadata": {},
     "output_type": "execute_result"
    }
   ],
   "source": [
    "len(race_id_list)"
   ]
  },
  {
   "cell_type": "code",
   "execution_count": 1,
   "id": "438bb2fe-e327-46f6-821c-6d0281f55b16",
   "metadata": {},
   "outputs": [],
   "source": [
    "url = \"https://race.netkeiba.com/race/shutuba.html?race_id=20240601\"\n",
    "\n",
    "from urllib.request import urlopen\n",
    "html = urlopen(url).read() #スクレイピング"
   ]
  },
  {
   "cell_type": "code",
   "execution_count": 2,
   "id": "ce830ade-41c4-48fd-b96d-0a3f490bbd3e",
   "metadata": {
    "collapsed": true,
    "jupyter": {
     "outputs_hidden": true
    },
    "scrolled": true
   },
   "outputs": [
    {
     "data": {
      "text/plain": [
       "b'<!DOCTYPE html>\\n<html>\\n<head>\\n<meta charset=\"EUC-JP\">\\n\\n<!-- block=common__meta_tag_each_race (cp) -->\\n<meta http-equiv=\"content-language\" content=\"ja\">\\n<meta http-equiv=\"X-UA-Compatible\" content=\"IE=edge\"/>\\n<meta name=\"viewport\" content=\"width=1000\">\\n<meta name=\"format-detection\" content=\"telephone=no\" />\\n<meta name=\"description\" content=\"  \\xa4\\xce\\xa4\\xc7\\xa4\\xb9\\xa1\\xa3\" />\\n<meta name=\"keywords\" content=\"\\xb6\\xa5\\xc7\\xcf,keiba,\\xbd\\xd0\\xc7\\xcf\\xc9\\xbd,\\xa5\\xaa\\xa5\\xc3\\xa5\\xba,\\xcd\\xbd\\xc1\\xdb,\\xa5\\xec\\xa1\\xbc\\xa5\\xb9\\xb7\\xeb\\xb2\\xcc,\\xca\\xa7\\xcc\\xe1\\xa4\\xb7,\\xb7\\xeb\\xb2\\xccR\\xca\\xf3,\\xb6\\xa5\\xc7\\xcf?\\xc1\\xdb,\\xa5\\xcd\\xa5\\xc3\\xa5\\xc8\\xb6\\xa5\\xc7\\xcf,netkeiba\" />\\n<meta name=\"thumbnail\" content=\"https://www.netkeiba.com/style/netkeiba.ja/image/netkeiba.png\" />\\n<!-- ogp\\xcd\\xd1 -->\\n<meta property=\"og:site_name\" content=\"netkeiba\" />\\n<meta property=\"og:type\" content=\"article\" />\\n<meta property=\"og:title\" content=\"  |    - netkeiba\" />\\n<meta property=\"og:url\" content=\"https://race.netkeiba.com/race/shutuba.html?race_id=20240601\" />\\n<meta property=\"og:description\" content=\"  \\xa4\\xce\\xa4\\xc7\\xa4\\xb9\\xa1\\xa3\" />\\n<meta property=\"og:image\" content=\"https://www.netkeiba.com/style/netkeiba.ja/image/netkeiba.png\" />\\n<!-- Twitter\\xcd\\xd1 -->\\n<meta property=\"twitter:card\" content=\"summary\">\\n<meta property=\"twitter:site\" content=\"@netkeiba\">\\n<link rel=\"canonical\" href=\"https://race.netkeiba.com/race/shutuba.html?race_id=20240601\" />\\n<link rel=\"alternate\" media=\"only screen and (max-width: 640px)\" href=\"https://race.sp.netkeiba.com/race/shutuba.html?race_id=20240601\" />\\n<link rel=\"alternate\" type=\"application/rss+xml\" href=\"https://rss.netkeiba.com?pid=rss_netkeiba&site=netkeiba\" />\\n<!-- \\xa5\\xa2\\xa5\\xce\\xa5\\xc6\\xa1\\xbc\\xa5\\xb7\\xa5\\xe7\\xa5\\xf3 -->\\n<title>  |    - netkeiba</title>\\n\\n<!-- block=common__advertisement_taboola_head (d) -->\\n<script type=\"text/javascript\">\\nwindow._taboola = window._taboola || [];\\n_taboola.push({article:\\'auto\\'});\\n!function (e, f, u, i) {\\nif (!document.getElementById(i)){\\ne.async = 1;\\ne.src = u;\\ne.id = i;\\nf.parentNode.insertBefore(e, f);\\n}\\n}(document.createElement(\\'script\\'),\\ndocument.getElementsByTagName(\\'script\\')[0],\\n\\'//cdn.taboola.com/libtrc/netkeiba/loader.js\\',\\n\\'tb_loader_script\\');\\nif(window.performance && typeof window.performance.mark == \\'function\\') {window.performance.mark(\\'tbl_ic\\');}\\n</script>\\n<!-- \\xb6\\xa6\\xc4\\xcccss include -->\\n<!-- block=common__css (d) -->\\n<link rel=\\'stylesheet\\' href=\"https://cdn.netkeiba.com/img.race/common/css/race_pc_new.css?2024912\" type=\\'text/css\\' media=\"all\">\\n<link rel=\\'stylesheet\\' href=\"https://cdn.netkeiba.com/img.race/common/css/colorbox.css\" type=\\'text/css\\' media=\"all\">\\n<!-- \\xb6\\xa6\\xc4\\xccjs include -->\\n<!-- block=common__js (d) -->\\n<script type=\"text/javascript\" src=\"https://ajax.googleapis.com/ajax/libs/jquery/1.12.0/jquery.min.js\"></script>\\n<script type=\"text/javascript\" src=\"https://cdn.netkeiba.com/img.race/common/js/slick.min.js?2019080501\"></script>\\n<script type=\"text/javascript\" src=\"https://cdn.netkeiba.com/img.race/common/js/raceapi.action.js?2019073001\"></script>\\n<script type=\"text/javascript\" src=\"https://cdn.netkeiba.com/img.yoso/common/js/yoso/YosoJraNar.js?20240521\" type=\"text/javascript\"></script>\\n<script type=\"text/javascript\" src=\"https://cdn.netkeiba.com/img.race/common/js/sweetalert.min.js?2019073001\" type=\"text/javascript\"></script>\\n<script type=\"text/javascript\" src=\"https://cdn.netkeiba.com/img.race/common/js/jquery.colorbox.js?2019073001\"></script>\\n<script type=\"text/javascript\" src=\"https://cdn.netkeiba.com/img.regist.sp/common/js/monthly_goods_link.js?2019101001\"></script>\\n<script type=\"text/javascript\" src=\"https://cdn.netkeiba.com/img.race/common/js/common_pc_new.js?2019073001\" type=\"text/javascript\"></script>\\n<script type=\"text/javascript\">\\n// $Id: race_common_js.html 20040 2019-02-28 07:05:48Z m-ashizawa $\\n//window.console = {};\\n//window.console.log = function(i){return;};\\n</script>\\n<!-- Geniee Wrapper Head Tag -->\\n<script>\\nwindow.gnshbrequest = window.gnshbrequest || {cmd:[]};\\ngnshbrequest.cmd.push(function(){\\ngnshbrequest.registerPassback(\"1491440\");\\ngnshbrequest.registerPassback(\"1492791\");\\ngnshbrequest.registerPassback(\"1491441\");\\ngnshbrequest.registerPassback(\"1491442\");\\ngnshbrequest.registerPassback(\"1491463\");\\ngnshbrequest.forceInternalRequest();\\n});\\n</script>\\n<script async src=\"https://cpt.geniee.jp/hb/v1/211239/47/wrapper.min.js\"></script>\\n<!-- /Geniee Wrapper Head Tag -->\\n<script type=\"text/javascript\" src=\"https://cdn.netkeiba.com/img.race/common/js/jquery.lazyscript.js\"></script>\\n<!-- \\xa4\\xbd\\xa4\\xce\\xc2\\xbe include -->\\n<!-- block=race_common_other (d) -->\\n\\n<!-- Google Tag Manager -->\\n<script>\\nwindow.dataLayer = window.dataLayer || [];\\ndataLayer.push({\\n\\'itemInfo\\': \\'\\',\\'memberRank\\': \\'NotLogin\\',\\'memberId\\': \\'\\'\\n});\\n</script>\\n\\n<script>(function(w,d,s,l,i){w[l]=w[l]||[];w[l].push({\\'gtm.start\\':\\nnew Date().getTime(),event:\\'gtm.js\\'});var f=d.getElementsByTagName(s)[0],\\nj=d.createElement(s),dl=l!=\\'dataLayer\\'?\\'&l=\\'+l:\\'\\';j.async=true;j.src=\\n\\'//www.googletagmanager.com/gtm.js?id=\\'+i+dl;f.parentNode.insertBefore(j,f);\\n})(window,document,\\'script\\',\\'dataLayer\\',\\'GTM-K6PJT6\\');</script>\\n<!-- End Google Tag Manager -->\\n</head>\\n<body class=\"race page_race_shutuba\" id=\"race_top\">\\n<div id=\"page\">\\n<noscript>\\n\\xa4\\xaa\\xb5\\xd2\\xcd\\xcd\\xa4\\xce\\xa5\\xd6\\xa5\\xe9\\xa5\\xa6\\xa5\\xb6\\xa4\\xcf\\xa5\\xb8\\xa5\\xe3\\xa5\\xd0\\xa5\\xb9\\xa5\\xaf\\xa5\\xea\\xa5\\xd7\\xa5\\xc8\\xa1\\xcaJavaScript\\xa1\\xcb\\xa4\\xcb\\xc2\\xd0\\xb1\\xfe\\xa4\\xb7\\xa4\\xc6\\xa4\\xa4\\xa4\\xca\\xa4\\xa4\\xa4\\xab\\xcc\\xb5\\xb8\\xfa\\xa4\\xcb\\xa4\\xca\\xa4\\xc3\\xa4\\xc6\\xa4\\xa4\\xa4\\xde\\xa4\\xb9\\xa1\\xa3\\n</noscript>\\n<!-- block=common__race_header (d) -->\\n<link rel=\"stylesheet\" href=\"https://cdn.netkeiba.com/img.www/style/netkeiba.ja/css/pc_header.css?20240729\" type=\"text/css\" media=\"all\" />\\n\\n<header class=\"Header_Area fc\">\\n<div class=\"Header_Inner\">\\n<h1>\\n<a href=\"https://www.netkeiba.com/?rf=logo\" title=\"netkeiba\">\\n<img src=\"https://cdn.netkeiba.com/img.www/style/netkeiba.ja/image/common/netkeiba_logo02.png?20231003\" alt=\"netkeiba\">\\n</a>\\n</h1>\\n<div class=\"DB_Search_Input\">\\n<form class=\"Search_Box\" action=\"https://www.netkeiba.com/\" method=\"POST\">\\n<input type=\"hidden\" name=\"pid\" value=\"search\">\\n<input type=\"hidden\" name=\"type\" value=\"db\">\\n<div class=\"InputTxt_Form_Box\">\\n\\n<input class=\"Txt_Form\" placeholder=\"\\xc7\\xcf\\xcc\\xbe\\xa4\\xc7\\xb8\\xa1\\xba\\xf7\" value=\"\" type=\"text\" name=\"word\" id=\"keywords\">\\n</div><!-- / .InputTxt_Form -->\\n<div class=\"Submit_Btn_Box\">\\n<svg xmlns=\"http://www.w3.org/2000/svg\" width=\"41.05\" height=\"41.05\" viewBox=\"0 0 41.05 41.05\" class=\"IconInput01\">\\n<g id=\"icon_search\" transform=\"translate(-234.6 -459.7)\">\\n<circle cx=\"15.6\" cy=\"15.6\" r=\"15.6\" transform=\"translate(236.1 461.2)\" class=\"st0\"/>\\n<g>\\n<path d=\"M275.2,498.2a1.335,1.335,0,0,1,0,2l-.1.1a1.335,1.335,0,0,1-2,0l-11.2-11.2a1.335,1.335,0,0,1,0-2l.1-.1a1.335,1.335,0,0,1,2,0Z\" class=\"st1\"/>\\n</g>\\n</g>\\n</svg>\\n<input class=\"Submit_Btn\" type=\"submit\" name=\"submit\" value=\"\\xb8\\xa1 \\xba\\xf7\">\\n</div><!-- / .Submit_Btn_Box -->\\n</form>\\n</div><!-- / .DB_Search_Input -->\\n<div class=\"MyMenuWrap\">\\n<ul class=\"UserMyMenu fc\">\\n\\n<li>\\n<a href=\"https://regist.netkeiba.com/?pid=premium&rf=header\">\\n<span>\\xa5\\xd7\\xa5\\xec\\xa5\\xdf\\xa5\\xa2\\xa5\\xe0\\xa5\\xb5\\xa1\\xbc\\xa5\\xd3\\xa5\\xb9</span>\\n</a>\\n</li>\\n<li>\\n<a href=\"https://race.netkeiba.com/bookmark/bookmark.html?rf=navi\" class=\"Icon_Header Icon_MyfavHorse\">\\n<span>\\xa4\\xaa\\xb5\\xa4\\xa4\\xcb\\xc6\\xfe\\xa4\\xea\\xc7\\xcf</span>\\n</a>\\n</li>\\n<!-- <li>\\n<a href=\"https://race.netkeiba.com/notes/schedule.html?rf=navi\" class=\"Icon_Header Icon_Note\">\\n<span>\\xa5\\xe1\\xa5\\xe2</span>\\n</a>\\n</li> -->\\n<li>\\n<a href=\"https://regist.netkeiba.com/account/?pid=login\" class=\"Icon_Header Icon_Login\">\\n<span>\\xa5\\xed\\xa5\\xb0\\xa5\\xa4\\xa5\\xf3/\\xb2\\xf1\\xb0\\xf7\\xc5\\xd0\\xcf\\xbf</span>\\n</a>\\n</li>\\n<li class=\"disp_none header_stage_area no_login_show\">\\n<a href=\"https://regist.netkeiba.com?pid=stage_login&action=login&return_url=https://regist.netkeiba.com\">\\n<span>(s)\\xa5\\xed\\xa5\\xb0\\xa5\\xa4\\xa5\\xf3</span>\\n</a>\\n</li>\\n<li class=\"disp_none header_stage_area no_login_show\">\\n<a href=\"https://regist.netkeiba.com?pid=user_add_form&payment=nk_user&goods_cd=310409&opt=init\">\\n<span>(s)\\xcc\\xb5\\xce\\xc1\\xb2\\xf1\\xb0\\xf7\\xc5\\xd0\\xcf\\xbf</span>\\n</a>\\n<li class=\"disp_none header_stage_area login_show\">\\n<a href=\"https://regist.netkeiba.com?pid=stage_login&action=logout&return_url=https://regist.netkeiba.com\">\\n<span>(s)\\xa5\\xed\\xa5\\xb0\\xa5\\xa2\\xa5\\xa6\\xa5\\xc8</span>\\n</a>\\n</li>\\n</ul>\\n<div class=\"SiteToggleBtn01 Keirin\">\\n<a href=\"https://keirin.netkeiba.com/?rf=nk_pc_header\">\\n<span class=\"LiveRace\">LIVE</span>\\n<img src=\"https://cdn.netkeiba.com/img.www/style/netkeiba.ja/image/common/icon_keirin01.png\" alt=\"\" width=\"21\" height=\"16\" class=\"KeirinLogoMark01\">\\xb6\\xa5\\xce\\xd8\\n</a>\\n</div><!-- /.SiteToggleBtn01 -->\\n</div>\\n</div><!-- /.Header_Inner -->\\n</header>\\n<nav class=\"ContentNavi01\">\\n<ul class=\"fc\">\\n<li class=\"Top\">\\n<a href=\"https://www.netkeiba.com/?rf=navi\" title=\"\\xa5\\xc8\\xa5\\xc3\\xa5\\xd7\" id=\"navi_link_top\">\\xa5\\xc8\\xa5\\xc3\\xa5\\xd7</a>\\n</li>\\n<li class=\"News\">\\n<a href=\"https://news.netkeiba.com?rf=navi\" title=\"\\xa5\\xcb\\xa5\\xe5\\xa1\\xbc\\xa5\\xb9\" id=\"navi_link_news\">\\xa5\\xcb\\xa5\\xe5\\xa1\\xbc\\xa5\\xb9</a>\\n</li>\\n<li class=\"Race\">\\n<a href=\"../top/\" title=\"\\xa5\\xec\\xa1\\xbc\\xa5\\xb9\" id=\"navi_link_race\">\\xa5\\xec\\xa1\\xbc\\xa5\\xb9</a>\\n</li>\\n<li class=\"Yoso\">\\n<a href=\"https://yoso.netkeiba.com?access=init&rf=navi\" title=\"\\xcd\\xbd\\xc1\\xdb\" id=\"navi_link_yoso\">\\xcd\\xbd\\xc1\\xdb</a>\\n</li>\\n<!-- <li class=\"Special\">\\n<a href=\"https://race.netkeiba.com/special/index.html?id=0059&rf=navi\" title=\"\\xc6\\xfc\\xcb\\xdc\\xa5\\xc0\\xa1\\xbc\\xa5\\xd3\\xa1\\xbc\" id=\"navi_link_Special\">\\xc6\\xfc\\xcb\\xdc\\xa5\\xc0\\xa1\\xbc\\xa5\\xd3\\xa1\\xbc</a>\\n</li> -->\\n<li class=\"Column\">\\n<a href=\"https://news.netkeiba.com?pid=column_top&rf=navi\" title=\"\\xa5\\xb3\\xa5\\xe9\\xa5\\xe0\" id=\"navi_link_column\">\\xa5\\xb3\\xa5\\xe9\\xa5\\xe0</a>\\n</li>\\n<li class=\"Tv\">\\n<a href=\"https://tv.netkeiba.com/?rf=navi\" title=\"netkeibaTV\" id=\"navi_link_tv\">netkeibaTV</a>\\n</li>\\n<li class=\"Local\">\\n<a href=\"https://nar.netkeiba.com/top/?rf=navi\" title=\"\\xc3\\xcf\\xca\\xfd\\xb6\\xa5\\xc7\\xcf\" id=\"navi_link_nar\">\\xc3\\xcf\\xca\\xfd\\xb6\\xa5\\xc7\\xcf</a>\\n</li>\\n<li class=\"Db\">\\n<a href=\"https://db.netkeiba.com?rf=navi\" title=\"\\xa5\\xc7\\xa1\\xbc\\xa5\\xbf\\xa5\\xd9\\xa1\\xbc\\xa5\\xb9\" id=\"navi_link_db\">\\xa5\\xc7\\xa1\\xbc\\xa5\\xbf\\xa5\\xd9\\xa1\\xbc\\xa5\\xb9</a>\\n</li>\\n<li class=\"Shop New\">\\n<a href=\"https://shop.netkeiba.com/?utm_source=netkeiba&utm_medium=+referral&utm_campaign=pcgnavi_20240425\" title=\"\\xa5\\xb7\\xa5\\xe7\\xa5\\xc3\\xa5\\xd7\" id=\"navi_link_shop\">\\xa5\\xb7\\xa5\\xe7\\xa5\\xc3\\xa5\\xd7</a>\\n</li>\\n<li class=\"Paper\">\\n<a href=\"https://yoso.netkeiba.com/senmonshi/?rf=navi\" title=\"\\xb6\\xa5\\xc7\\xcf\\xbf\\xb7\\xca\\xb9\" id=\"navi_link_senmonshi\">\\xb6\\xa5\\xc7\\xcf\\xbf\\xb7\\xca\\xb9</a>\\n</li>\\n<li class=\"YosoCS\">\\n<a href=\"https://orepro.netkeiba.com?rf=navi\" title=\"\\xb2\\xb6\\xa5\\xd7\\xa5\\xed\" id=\"navi_link_orepro\">\\xb2\\xb6\\xa5\\xd7\\xa5\\xed</a>\\n</li>\\n<li class=\"Owner\">\\n<a href=\"https://owner.netkeiba.com?rf=navi\" title=\"\\xb0\\xec\\xb8\\xfd\\xc7\\xcf\\xbc\\xe7\" id=\"navi_link_owner\">\\xb0\\xec\\xb8\\xfd\\xc7\\xcf\\xbc\\xe7</a>\\n</li>\\n<li class=\"Pog\">\\n<a href=\"https://pog.netkeiba.com?rf=navi\" title=\"POG\" id=\"navi_link_pog\">POG</a>\\n</li>\\n<li class=\"Matome\">\\n<a href=\"https://dir.netkeiba.com//keibamatome/index.html?rf=navi\" title=\"\\xa4\\xde\\xa4\\xc8\\xa4\\xe1\" id=\"navi_link_keibamatome\">\\xa4\\xde\\xa4\\xc8\\xa4\\xe1</a>\\n</li>\\n</ul>\\n</nav><!-- /.ContentNavi01 -->\\n<!-- \\xb9\\xad\\xb9\\xf0\\xc7\\xdb\\xbf\\xae\\xcd\\xd1 -->\\n<script>\\nvar googletag = googletag || {};\\ngoogletag.cmd = googletag.cmd || [];\\n</script>\\n<!-- /\\xb9\\xad\\xb9\\xf0\\xc7\\xdb\\xbf\\xae\\xcd\\xd1 -->\\n<script async src=\"https://cdn.netkeiba.com/img.racev4.sp/common/js/nd_util.min.js\"></script>\\n<script type=\"text/javascript\">\\n$(document).ready(function() {\\nshow_user();\\n});\\nfunction show_user(){\\nvar is_stage = \\'\\';\\nvar is_user  = \\'\\';\\nvar is_alert = \\'\\';\\nvar is_sp    = \\'\\';\\nvar nickname = \\'\\';\\nvar user_img = \\'\\';\\nif(is_sp) {\\n$(\\'.sp_nk_btn\\').show();\\n}\\nif(! is_stage) {\\n$(\\'.header_stage_area\\').remove();\\n}\\nif(is_user){\\n//\\xa5\\xed\\xa5\\xb0\\xa5\\xa4\\xa5\\xf3\\xc3\\xe6\\n$(\\'.login_show\\').show();\\nif(is_alert) {\\n$(\\'.Alert_New\\').show();\\n}\\n} else {\\n//\\xcc\\xa4\\xa5\\xed\\xa5\\xb0\\xa5\\xa4\\xa5\\xf3\\n$(\\'.no_login_show\\').show();\\n$(\\'.login_show\\').remove();\\n}\\n}\\n</script>\\n<!-- block=shutuba__race_title (cp) -->\\n\\n<!-- block=shutuba__change_session (d) -->\\n<script type=\"text/javascript\">\\nvar _action_api_url_change_session = \\'/api/api_post_change_session.html\\';\\n</script>\\n\\n<div class=\"RaceColumn01\">\\n<div class=\"RaceColumnWrap fc\">\\n<div class=\"RaceMainColumn\">\\n<!-- block=shutuba__race_kaisai_navi (cp) -->\\n\\n<!-- block=shutuba__race_kaisai_wrap (cp) -->\\n\\n<!-- block=shutuba__race_main_column (cp) -->\\n\\n</div><!-- /.RaceMainColumn -->\\n<div class=\"RaceSideColumn\">\\n\\n<!-- block=common__advertisement (d) -->\\n<script src=\"https://cdn.netkeiba.com/img.sp/common/js/loadFif.js?ver=20200228\"></script>\\n<div class=\"nk_AdvBox_pc new_race_rectangle race_shutuba  \">\\n<div id=\"new_race_rectangle\"></div>\\n<script language=\"JavaScript\" type=\"text/javascript\">\\nif(typeof loadDuraFiF !== \"undefined\") {\\nloadDuraFiF(\"new_race_rectangle\",23);\\n}\\n</script>\\n</div>\\n</div>\\n</div><!-- /.RaceColumnWrap -->\\n</div><!-- /.RaceColumn01 -->\\n<div class=\"RaceColumn02\">\\n<!-- block=shutuba__race_menu (d) -->\\n\\n<!-- block=shutuba__race_content (cp) -->\\n<style>\\n.sort_icon { display:none; }\\nth {\\noutline:none;\\n-webkit-tap-highlight-color: rgba(0,0,0,0);\\ntap-highlight-color: rgba(0, 0, 0, 0);\\n-webkit-box-shadow: none;\\nbox-shadow: none;\\noutline: none;\\n}\\n</style>\\n<script>\\n$(function(){\\n//   var ua = window.navigator.userAgent;\\n//   if(ua.indexOf(\\'Edge\\') != -1 || ua.indexOf(\\'Trident\\') != -1 || ua.indexOf(\\'MSIE\\') != -1) {\\n//     var style = \\'<link rel=\"stylesheet\" href=\"https://use.fontawesome.com/releases/v5.6.1/css/all.css\">\\';\\n//     $(\\'head link:last\\').after(style);\\n//   } else {\\n//     // var style =\\'<style>.sort_icon { padding-right: 18px;position: relative;}.sort_icon::before,.sort_icon::after {border: 4px solid transparent;content: \"\";display: block;height: 0;right: 5px;top: 70%;position: absolute;width: 0;}.sort_icon::before {border-bottom-color: #66666687;margin-top: -9px;}.sort_icon::after {border-top-color: #66666687;margin-top: 1px;}</style>\\';\\n//     $(\\'head link:last\\').after(style);\\n//   }\\n});\\n</script>\\n<link rel=\\'stylesheet\\' href=\"https://cdn.netkeiba.com/img.race/common/css/jquery-ui-1.12.1.css?2019102501\" type=\\'text/css\\'>\\n<script type=\"text/javascript\" src=\"https://cdn.netkeiba.com/img.race/common/js/jquery-ui-1.12.1.js?2019102501\"></script>\\n<script type=\"text/javascript\">\\n// $Id: shutuba.html 18964 2018-12-17 10:00:57Z t-kaizuka $\\nvar _action_api_url = \\'https://race.netkeiba.com\\'+\\'/api/api_post_social_cart.html\\';\\nvar _action_api_url_myhorse = \\'https://race.netkeiba.com\\'+\\'/api/api_get_myhorse_entry.html\\';\\nvar _race_location_url = \\'https://race.netkeiba.com\\';\\nvar _shutuba_cart_group = \\'horse_20240601\\';\\nvar _shutuba_race_id = \\'20240601\\';\\nvar _race_cookie_domain_ = \\'.netkeiba.com\\';\\n</script>\\n<script type=\"text/javascript\" src=\"https://cdn.netkeiba.com/img.race/common/js/social_cart.js?2019073001\"></script>\\n<script type=\"text/javascript\" src=\"https://cdn.netkeiba.com/img.race/common/js/race/shutuba.js?2020061101\"></script>\\n<script type=\"text/javascript\" src=\"https://cdn.netkeiba.com/img.race/common/js/race/api_myhorse.action.js?2019073001\"></script>\\n<script type=\"text/javascript\" src=\"https://cdn.netkeiba.com/img.race/common/js/jquery.odds_update.js?2019073001\"></script>\\n<script type=\"text/javascript\" src=\"https://cdn.netkeiba.com/img.race/common/js/ndcommon.min.js?2019073001\"></script>\\n<script type=\"text/javascript\" src=\"https://cdn.netkeiba.com/img.race/common/js/zlib.min.js?2019073001\"></script>\\n<script type=\"text/javascript\" src=\"https://cdn.netkeiba.com/img.race/common/js/jquery.tablesorter.js?2019103101\"></script>\\n<div class=\"RaceTableArea\">\\n<table class=\"Shutuba_Table RaceTable01 ShutubaTable\">\\n<thead>\\n<tr class=\"Header\">\\n<th rowspan=\"2\" class=\"Waku\">\\xcf\\xc8</th>\\n<th rowspan=\"2\" class=\"Umaban sort_common\"><div class=\"Inner_Shutuba\">\\xc7\\xcf<br>\\xc8\\xd6<span class=\"sort_icon\"></span></div></th>\\n<th rowspan=\"2\" class=\"CheckMark\">\\xb0\\xf5\\n<div class=\"ChangeMarkBtn\">\\n<div class=\"BtnInput\">\\n<input type=\"button\" class=\"BtnInputLabel\" value=\"\\xc0\\xda\\xc2\\xd8\" class=\"\" onclick=\"change_mark_mode(\\'shutuba\\',\\'20240601\\', _race_cookie_domain_);\">\\n</div>\\n\\n</div><!-- /.ChangeMarkBtn -->\\n</th>\\n<th rowspan=\"2\" class=\"HorseInfo sort_common \" id=\"sort_cell_name\">\\n<div class=\"Inner_Shutuba\">\\n<span class=\"HorseName\">\\xc7\\xcf\\xcc\\xbe</span><span class=\"sort_icon\"></span>\\n</div>\\n</th>\\n<th rowspan=\"2\" class=\"Barei\">\\xc0\\xad\\xce\\xf0</th>\\n<th rowspan=\"2\" class=\"Dredging sort_common \"><div class=\"Inner_Shutuba\">\\xb6\\xd4\\xce\\xcc<span class=\"sort_icon\"></span></div></th>\\n<th rowspan=\"2\" class=\"Jockey\">\\xb5\\xb3\\xbc\\xea</th>\\n<th rowspan=\"2\" class=\"Trainer\">\\xb1\\xb9\\xbc\\xcb</th>\\n<th rowspan=\"2\" class=\"Weight sort_common \" id=\"sort_cell_weight\"><div class=\"Inner_Shutuba\">\\xc7\\xcf\\xc2\\xce\\xbd\\xc5<br/><small>(\\xc1\\xfd\\xb8\\xba)</small><span class=\"sort_icon\"></span></div></th>\\n<th rowspan=\"2\" class=\"Popular\" id=\"sort_cell_odds\">\\n<div id=\"odds_update_info\" class=\"Tooltip_OddsUpLimit_Wrap\">\\n<span id=\"odds_title\"></span>\\n<button type=\"button\" id=\"act-manual_update\" class=\"BtnInputLabel OddsUpdataBtn LiveOddsUpdate\" style=\"display:none\">\\n<span class=\"OddsUpLimitTxt01\">\\xb9\\xb9\\xbf\\xb7</span>\\n</button>\\n</div></th>\\n<th rowspan=\"2\" class=\"Popular Popular_Ninki Txt_C sort_common \" id=\"sort_cell_ninki\"><div class=\"Inner_Shutuba\">\\xbf\\xcd\\xb5\\xa4<span class=\"sort_icon\"></span></div></th>\\n<th colspan=\"2\" class=\"FavHorse\"><a href=\"https://db.netkeiba.com/bookmark/horse_bookmark_list.html\">\\xa4\\xaa\\xb5\\xa4\\xa4\\xcb\\xc6\\xfe\\xa4\\xea\\xc7\\xcf</a></th>\\n</tr>\\n<tr class=\"Header FavHorseSub\">\\n<th class=\"FavRegist\">\\xc5\\xd0\\xcf\\xbf</th>\\n<th class=\"Memo\">\\xa5\\xe1\\xa5\\xe2</th>\\n</tr>\\n</thead>\\n\\n</tbody>\\n</table>\\n<div class=\"ShutubaTableFormWrap clearfix\">\\n<!-- \\xa5\\xaa\\xa5\\xc3\\xa5\\xba -->\\n<form id=\"shutuba_form\" method=\"get\" action=\"\" class=\"Contents_Box\">\\n\\n<input type=\"hidden\" name=\"race_id\" value=\"20240601\">\\n<div class=\"Shutuba_Form_Footer Phase01_Btn\">\\n<button class=\"SubmitBtn\" type=\"submit\"><span class=\"Icon_Sprite_Nk Icon_RaceInfo32_3\"></span>\\xc1\\xaa\\xa4\\xf3\\xa4\\xc0\\xc7\\xcf\\xa4\\xce\\xa5\\xaa\\xa5\\xc3\\xa5\\xba\\xa4\\xf2\\xb8\\xab\\xa4\\xeb</button>\\n</div>\\n</form><!-- /.shutuba_form -->\\n<style>\\n.apl_conductor {\\n}\\n.apl_conductor a{\\ndisplay: block;\\nmargin:auto;\\n}\\n.apl_conductor a img {\\ndisplay: block;\\nmax-width: 100%;\\nmargin:auto;\\n}\\n</style>\\n<div class=\"apl_conductor\">\\n<script language=\"JavaScript\" type=\"text/javascript\">\\nnoCacheParam=Math.random()*10000000000;document.write(\\'<scr\\'+\\'ipt type=\"text/javascript\" src=\"https://netdreamersad.durasite.net/A-affiliate2/mobile?site=23&keyword=nd_contents_race&isJS=true&encoding=EUC-JP&ord=\\' + noCacheParam + \\'\"></scr\\'+\\'ipt>\\');\\n</script>\\n</div>\\n<div class=\"OnOffArea OddsAutoCheck ToggleCheck LiveOddsUpdate Unfloat\" style=\"display:none\">\\n<label class=\"OddsAutoCheckLabel\">\\n<span class=\"OddsAutoTxt\">\\xa5\\xaa\\xa5\\xc3\\xa5\\xba\\xa4\\xce\\xbc\\xab\\xc6\\xb0\\xb9\\xb9\\xbf\\xb7\\xa4\\xf2ON\\xa4\\xcb\\xa4\\xb9\\xa4\\xeb(\\xba\\xc7\\xbd\\xaa\\xb9\\xb9\\xbf\\xb7 <span id=\"official_time\"></span>)</span>\\n<input type=\"checkbox\" id=\"act-auto_update\">\\n<span class=\"CheckLabelTxt\"></span>\\n</label>\\n</div><!-- /.OddsAutoCheck ToggleCheck -->\\n<div class=\"MyRace_Registration_Block\">\\n<span class=\"MyRace_Registration_Item MyRace-Item-20240601\"></span>\\n\\n<a href=\"https://regist.netkeiba.com/account/?pid=login\" class=\"MyRace_UnLogin\">My\\xa5\\xec\\xa1\\xbc\\xa5\\xb9\\xa4\\xcb\\xc5\\xd0\\xcf\\xbf\\xa4\\xb9\\xa4\\xeb</a>\\n</div><!-- /.MyRace_Registration_Block -->\\n</div>\\n<div style=\"display:none;\" id=\"free_odds_limit_overlay\"></div>\\n<script type=\"text/javascript\">\\n//TODO: \\xba\\xef\\xbd\\xfc\\n//# sourceURL=http://debug/test1223.js\\nvar is_logined = 0;\\nvar update_myrace_item = function(race_id) {\\nvar _action_api_url = \\'https://race.netkeiba.com/api/api_post_my_race.html\\';\\nvar _data = { pid : \\'api_post_my_race\\' };\\n_data.input       = \\'UTF-8\\';\\n_data.output      = \\'json\\';\\n_data.race_id     = race_id;\\n$.ajax( { type     : \\'POST\\',\\nurl      : _action_api_url,\\ndata     : _data,\\ndataType : _data.output,\\ncache    : false,\\nsuccess  : function( json )\\n{\\nif (json.status == \\'NG\\') {\\nconsole.log(\\'status:NG reason:\\'+ json.reason);\\n} else {\\nif ($(\".MyRace-Item-\"+race_id).hasClass(\"Active\"))\\n{\\n$(\\'.MyRace-Item-\\'+race_id).removeClass(\"Active\");\\n$(\\'.MyRace-Registration-Btn-\\'+race_id).text(\"My\\xa5\\xec\\xa1\\xbc\\xa5\\xb9\\xa4\\xcb\\xc5\\xd0\\xcf\\xbf\\xa4\\xb9\\xa4\\xeb\");\\n} else {\\n$(\\'.MyRace-Item-\\'+race_id).addClass(\"Active\");\\n$(\\'.MyRace-Registration-Btn-\\'+race_id).text(\"My\\xa5\\xec\\xa1\\xbc\\xa5\\xb9\\xa4\\xf2\\xb2\\xf2\\xbd\\xfc\\xa4\\xb9\\xa4\\xeb\");\\n}\\n}\\n},\\nerror  : function(XMLHttpRequest, textStatus, errorThrown)\\n{\\nconsole.log(\\'XMLHttpRequest: %O\\',XMLHttpRequest);\\nconsole.log(\\'textStatus: %s\\',textStatus);\\n}\\n});\\n};\\n$(function(){\\n//tablesorter\\xa4\\xce\\xc9\\xd4\\xb6\\xf1\\xb9\\xe7\\xa4\\xce\\xa4\\xbf\\xa4\\xe1\\xa1\\xa2\\xc7\\xcf\\xc8\\xd6\\xa4\\xacNULL\\xa4\\xce\\xbe\\xec\\xb9\\xe7\\xa4\\xcb\\xc7\\xcf\\xcc\\xbe\\xa4\\xce\\xa5\\xbd\\xa1\\xbc\\xa5\\xc8\\xa4\\xce\\xbf\\xb6\\xa4\\xeb\\xc9\\xf1\\xa4\\xa4\\xa4\\xf2\\xca\\xd1\\xb9\\xb9\\xa4\\xb9\\xa4\\xeb\\n$(\"tbody .HorseInfo\").each( function() {\\nvar rowIndex = $(this).parent().index();\\nif ($(\"tbody [class^=Umaban]\").eq(rowIndex).text() == \"\") {\\n$(this).attr(\"data-sort-value\", rowIndex+1);\\n}\\n});\\n// \\xa5\\xaa\\xa5\\xc3\\xa5\\xba\\xb9\\xb9\\xbf\\xb7click\\n$(\".OddsUpdataBtn\").on({\"click\":\\nfunction(){\\n$(\".OddsUpdataBtn\").removeClass(\"OddsUpdataClick\");\\n$(\".OddsUpdataBtn\").addClass(\"OddsUpdataClick\");\\n}\\n});\\n$(document).on(\"click\", \".MyRace_Registration_Btn\", function() {\\nif ($(\".MyRace_Registration_Item\").hasClass(\"Active\"))\\n{\\nupdate_myrace_item(20240601);\\n} else {\\nupdate_myrace_item(20240601);\\n}\\n});\\n$(document).on(\"click\", \".MyRace_Registration_Item\", function() {\\nif (is_logined == 1)\\n{\\nif ($(\".MyRace_Registration_Item\").hasClass(\"Active\"))\\n{\\nupdate_myrace_item(20240601);\\n} else {\\nupdate_myrace_item(20240601);\\n}\\n} else {\\n$(\".MyRace_UnLogin\")[0].click();\\n}\\n});\\n});\\n</script>\\n<script>\\n\"use strict\"\\nfunction bamei_sort(str) {\\nconst table = {\\n\\'\\xa5\\xa1\\': \\'\\xa5\\xa2\\', \\'\\xa5\\xa3\\': \\'\\xa5\\xa4\\', \\'\\xa5\\xa5\\': \\'\\xa5\\xa6\\', \\'\\xa5\\xf4\\': \\'\\xa5\\xa6\\', \\'\\xa5\\xa7\\': \\'\\xa5\\xa8\\', \\'\\xa5\\xa9\\': \\'\\xa5\\xaa\\',\\n\\'\\xa5\\xac\\': \\'\\xa5\\xab\\', \\'\\xa5\\xae\\': \\'\\xa5\\xad\\', \\'\\xa5\\xb0\\': \\'\\xa5\\xaf\\', \\'\\xa5\\xb2\\': \\'\\xa5\\xb1\\', \\'\\xa5\\xb4\\': \\'\\xa5\\xb3\\',\\n\\'\\xa5\\xb6\\': \\'\\xa5\\xb5\\', \\'\\xa5\\xb8\\': \\'\\xa5\\xb7\\', \\'\\xa5\\xba\\': \\'\\xa5\\xb9\\', \\'\\xa5\\xbc\\': \\'\\xa5\\xbb\\', \\'\\xa5\\xbe\\': \\'\\xa5\\xbd\\',\\n\\'\\xa5\\xc0\\': \\'\\xa5\\xbf\\', \\'\\xa5\\xc2\\': \\'\\xa5\\xc1\\', \\'\\xa5\\xc5\\': \\'\\xa5\\xc4\\', \\'\\xa5\\xc3\\': \\'\\xa5\\xc4\\', \\'\\xa5\\xc7\\': \\'\\xa5\\xc6\\', \\'\\xa5\\xc9\\': \\'\\xa5\\xc8\\',\\n\\'\\xa5\\xd0\\': \\'\\xa5\\xcf\\', \\'\\xa5\\xd3\\': \\'\\xa5\\xd2\\', \\'\\xa5\\xd6\\': \\'\\xa5\\xd5\\', \\'\\xa5\\xd9\\': \\'\\xa5\\xd8\\', \\'\\xa5\\xdc\\': \\'\\xa5\\xdb\\',\\n\\'\\xa5\\xd1\\': \\'\\xa5\\xcf\\', \\'\\xa5\\xd4\\': \\'\\xa5\\xd2\\', \\'\\xa5\\xd7\\': \\'\\xa5\\xd5\\', \\'\\xa5\\xda\\': \\'\\xa5\\xd8\\', \\'\\xa5\\xdd\\': \\'\\xa5\\xdb\\',\\n\\'\\xa5\\xe3\\': \\'\\xa5\\xe4\\', \\'\\xa5\\xe5\\': \\'\\xa5\\xe6\\', \\'\\xa5\\xe7\\': \\'\\xa5\\xe8\\',\\n\\'\\xa5\\xee\\': \\'\\xa5\\xef\\', \\'\\xa1\\xbc\\': \\'\\xa5\\xf5\\',\\n};\\nlet result = \\'\\';\\nfor (let i = 0; i < str.length; i++){\\nconst char = str[i];\\nif (table[char]){\\nresult += table[char];\\n} else {\\nresult += char;\\n}\\n}\\nreturn result;\\n}\\n$.tablesorter.addParser({\\nid: \\'jra_sort\\',\\nis: function(s) {\\nreturn false;\\n},\\nformat: function(s1) {\\nconst regex = /[\\\\u30A0-\\\\u30FF]+.*(?:\\\\r?\\\\n|$)/; // \\xba\\xc7\\xbd\\xe9\\xa4\\xce\\xa5\\xab\\xa5\\xbf\\xa5\\xab\\xa5\\xca\\xa4\\xab\\xa4\\xe9\\xbc\\xa1\\xa4\\xce\\xb4\\xc1\\xbb\\xfa\\xa4\\xde\\xa4\\xc7\\xa4\\xce\\xa5\\xd1\\xa5\\xbf\\xa1\\xbc\\xa5\\xf3\\nvar tmp1 = s1.match(regex);\\nif(tmp1){\\ntmp1 = bamei_sort(tmp1[0]);\\nreturn tmp1;\\n}\\nreturn s1;\\n},\\ntype: \\'text\\'\\n});\\n$(function(){\\n/* Area created in the intern Start */\\nconst nullCheak = function(date){ return !date[0] ? true : false };\\nvar firstTime = true;\\nconst table_sorte = function(t_header_flg){\\n$(\\'.Shutuba_Table th\\').unbind();\\n$.tablesorter.destroy( $(\\'.Shutuba_Table\\'), true, function(table) {});\\n$(\\'.Shutuba_Table\\').tablesorter({\\nheaders: {\\n0: { sorter: \"false\" },\\n1: { sorter: t_header_flg[1] },\\n2: { sorter: \"false\" },\\n3: { sorter: \"jra_sort\"},\\n4: { sorter: \"false\" },\\n5: { sorter: t_header_flg[5]  },\\n6: { sorter: \"false\" },\\n7: { sorter: \"false\" },\\n8: { sorter: t_header_flg[8]  },\\n9: { sorter: \"false\" },\\n10: { sorter: t_header_flg[10] },\\n11: { sorter: \"false\" },\\n12: { sorter: \"false\" },\\n13: { sorter: \"false\" },\\n},\\n//tablesorter\\xa4\\xce\\xc9\\xd4\\xb6\\xf1\\xb9\\xe7\\xa4\\xce\\xa4\\xbf\\xa4\\xe1\\xa1\\xa2\\xc7\\xcf\\xc8\\xd6\\xa4\\xacNULL\\xa4\\xce\\xbe\\xec\\xb9\\xe7\\xa4\\xcb\\xc7\\xcf\\xcc\\xbe\\xa4\\xce\\xa5\\xbd\\xa1\\xbc\\xa5\\xc8\\xa4\\xce\\xbf\\xb6\\xa4\\xeb\\xc9\\xf1\\xa4\\xa4\\xa4\\xf2\\xca\\xd1\\xb9\\xb9\\xa4\\xb9\\xa4\\xeb\\ntextExtraction: function(node) {\\nvar attr = $(node).attr(\\'data-sort-value\\');\\nif (typeof attr !== \\'undefined\\' && attr !== false) {\\nreturn attr;\\n}\\nreturn $(node).text();\\n}\\n});\\n};\\n// $(window).load(function(){\\nvar tableSorteAction = function() {\\nconst Umaban = $(\\'td.Umaban\\');\\nconst weight = $(\\'td.Weight small\\');\\nconst t_header_icons = $(\\'.sort_icon\\');\\n// sort flag [0:\\xcf\\xc8,1:\\xb0\\xf5,2:\\xcc\\xbe,3:\\xa5\\xaa\\xa5\\xc3\\xa5\\xba,4:\\xc2\\xce\\xbd\\xc5]\\nvar t_sorts_flg = [true,true,true,true,true,true,true,true, true, true, true, false ];\\n// sort Icon generation\\nconst icon = $(\\'<i></i>\\',{\\n\\'class\\' : \\'fas fa-sort\\',\\n});\\nt_header_icons.append(icon);\\n// Empty check in frame order\\nif($(\\'td\\').hasClass(\\'Umaban\\')){\\nt_header_icons[0].remove();\\nt_sorts_flg[1] = false;\\n}\\n// Empty check of horse weight\\nif(!weight.length){\\nt_header_icons[3].remove();\\n// t_sorts_flg[3] = false;\\nt_sorts_flg[8] = false;\\n}\\ntable_sorte(t_sorts_flg);\\n$(\\'.sort_icon\\').css(\"display\", \"block\");\\n$(\\'.sort_icon\\').show();\\n};\\n/* Area created in the intern End */\\n$.oddsUpdate({\\napiUrl:\\'https://race.netkeiba.com/api/api_get_jra_odds.html\\',\\nraceId:\\'20240601\\',\\nisPremium:0,\\ndisplayDiffTime:false,\\nPremiumLinkReturnUrl : \\'http%3A%2F%2Frace.netkeiba.com%2Frace%2Fshutuba.html%3Frace_id%3D20240601\\',\\nPremiumLinkReturnRf : \\'shutuba\\',\\nisBrackets : false,\\ncompress:true,\\ncallbackApiComplete:function(_this,_odds_status,_data){\\n// \\xa5\\xaa\\xa5\\xc3\\xa5\\xba\\xb8\\xab\\xbd\\xd0\\xa4\\xb7\\nif(_odds_status==\\'yoso\\'){\\n$(\\'#odds_title\\').html(\\'\\xcd\\xbd\\xc1\\xdb<br />\\xa5\\xaa\\xa5\\xc3\\xa5\\xba\\');\\n} else if(_odds_status==\\'result\\'){\\n$(\\'#odds_title\\').html(\\'\\xa5\\xaa\\xa5\\xc3\\xa5\\xba\\');\\n} else if(_odds_status==\\'middle\\') {\\n$(\\'#premium_guide\\').show();\\n$(\\'#odds_title\\').html(\\'\\xa5\\xaa\\xa5\\xc3\\xa5\\xba\\');\\n} else {\\n$(\\'#odds_title\\').html(\\'\\xa5\\xaa\\xa5\\xc3\\xa5\\xba\\');\\n}\\n// \\xa5\\xde\\xa5\\xa4\\xa5\\xaa\\xa5\\xc3\\xa5\\xba\\xc1\\xab\\xb0\\xdc\\xc0\\xe8\\nvar action = \\'https://race.netkeiba.com\\';\\nvar action_form_pid = \\'../odds/myodds\\';\\nif(_odds_status==\\'yoso\\'){\\naction = \\'\\';\\naction_form_pid = \\'../odds/index\\';\\n}\\n$(\\'#shutuba_form\\').attr(\\'action\\',action_form_pid+\".html\");\\n// \\xa5\\xaa\\xa5\\xc3\\xa5\\xba\\xc3\\xe5\\xbf\\xa7\\n$(\\'[id^=\"odds-1_\"]\\').each(function(){\\nvar data_key = $(this).prop(\\'id\\').replace(\\'odds-\\',\\'\\').split(\\'_\\');\\nvar type = data_key[0];\\nvar no = data_key[1];\\nif (_data) {\\nif(!$.isEmptyObject(_data[\\'odds\\'][type])){\\nvar ary_row = _data[\\'odds\\'][type];\\nvar row = ary_row[no];\\nif (row) {\\n$(this).text(row[0]);\\nif(type==1){\\n$(this).parent().parent().find(\".Popular_Ninki\")\\n.removeClass(\"BgYellow\")\\n.removeClass(\"BgBlue02\")\\n.removeClass(\"BgOrange\");\\nif (row[2] == 1) {\\n$(this).parent().parent().find(\".Popular_Ninki\").addClass(\"BgYellow\")\\n} else if (row[2] ==2) {\\n$(this).parent().parent().find(\".Popular_Ninki\").addClass(\"BgBlue02\")\\n} else if (row[2] ==3) {\\n$(this).parent().parent().find(\".Popular_Ninki\").addClass(\"BgOrange\")\\n}\\n}\\n}\\n}\\n}\\n$(this).parent().removeClass(\\'Odds_Ninki\\');\\n$(this).removeClass(\\'Odds_Ninki\\');\\nif($(this).text()<10){\\n$(this).parent().removeClass(\\'Odds_Ninki\\');\\n$(this).addClass(\\'Odds_Ninki\\');\\n}\\n});\\nvar tmDeleteUpdateOddsClass = setTimeout(function(){\\nclearTimeout(tmDeleteUpdateOddsClass);\\n$(\".Shutuba_Table tr .UpdateOdds\").removeClass(\"UpdateOdds\");\\n}, 700);\\nif (firstTime) {\\nfirstTime = false;\\ntableSorteAction();\\n} else {\\n$(\".Shutuba_Table\").trigger(\\'update\\', [true])\\n}\\n},\\n});\\n});\\n</script>\\n</div><!-- /.RaceTableArea -->\\n<!-- <div class=\"diary_snap_write_box\">\\n<p><a href=\"/diary_snapshot.html?snap=aHR0cDovL3JhY2UubmV0a2VpYmEuY29tLz9waWQ9cmFjZSZpZD1wMjAxOTA1MDIwMTAxJm1vZGU9dG9w&meta=race_result\" title=\"\\xa4\\xd2\\xa4\\xc8\\xa4\\xb3\\xa4\\xc8\\xc6\\xfc\\xb5\\xad\\xa4\\xf2\\xbd\\xf1\\xa4\\xaf\">\\xa4\\xd2\\xa4\\xc8\\xa4\\xb3\\xa4\\xc8\\xc6\\xfc\\xb5\\xad\\xa4\\xf2\\xbd\\xf1\\xa4\\xaf</a></p>\\n</div> -->\\n<!-- dev2 -->\\n<div class=\"Result_Guide\" id=\\'premium_guide\\' style=\"display: none;\">\\n<p>\\xa5\\xd7\\xa5\\xec\\xa5\\xdf\\xa5\\xa2\\xa5\\xe0\\xa5\\xb5\\xa1\\xbc\\xa5\\xd3\\xa5\\xb9\\xa4\\xce\\xa4\\xb4\\xcd\\xf8\\xcd\\xd1\\xa4\\xc7<br>\\n\\xba\\xc7\\xbf\\xb7\\xa5\\xaa\\xa5\\xc3\\xa5\\xba\\xa4\\xf2\\xa4\\xa4\\xa4\\xc1\\xc1\\xe1\\xa4\\xaf\\xa4\\xaa\\xc6\\xcf\\xa4\\xb1\\xa1\\xaa</p>\\n<a href=\"https://regist.netkeiba.com/account/?pid=login\" class=\"mb20\">\\xc5\\xd0\\xcf\\xbf\\xba\\xd1\\xa4\\xdf\\xa4\\xce\\xca\\xfd\\xa4\\xcf\\xa4\\xb3\\xa4\\xc1\\xa4\\xe9\\xa4\\xab\\xa4\\xe9\\xa5\\xed\\xa5\\xb0\\xa5\\xa4\\xa5\\xf3</a>\\n<div class=\"MoreLinkBtn Detail\"><a href=\"https://regist.netkeiba.com?pid=premium&service=p16&return_url=http%3A%2F%2Frace.netkeiba.com%2Frace%2Fshutuba.html%3Frace_id%3D20240601\" id=\"a_monthly_goods_link_12\" data-theme=\"01022\">\\xa5\\xd7\\xa5\\xec\\xa5\\xdf\\xa5\\xa2\\xa5\\xe0\\xa5\\xb5\\xa1\\xbc\\xa5\\xd3\\xa5\\xb9\\xa4\\xce<br />\\xbe\\xdc\\xba\\xd9\\xa4\\xcf\\xa4\\xb3\\xa4\\xc1\\xa4\\xe9</a></div>\\n</div>\\n\\n<div class=\"RaceInfo_Notice RaceInfo_Notice01\">\\n<p>\\n\\xa2\\xa8\\xb7\\xeb\\xb2\\xcc\\xa1\\xa6\\xc0\\xae\\xc0\\xd3\\xa1\\xa6\\xa5\\xaa\\xa5\\xc3\\xa5\\xba\\xa4\\xca\\xa4\\xc9\\xa4\\xce\\xa5\\xc7\\xa1\\xbc\\xa5\\xbf\\xa4\\xcf\\xa1\\xa2\\xc9\\xac\\xa4\\xba\\xbc\\xe7\\xba\\xc5\\xbc\\xd4\\xc8\\xaf\\xc9\\xbd\\xa4\\xce\\xa4\\xe2\\xa4\\xce\\xa4\\xc8\\xbe\\xc8\\xb9\\xe7\\xa4\\xb7\\xa4\\xb4\\xb3\\xce\\xc7\\xa7\\xa4\\xaf\\xa4\\xc0\\xa4\\xb5\\xa4\\xa4\\xa1\\xa3\\n<br>\\xa2\\xa8\\xcd\\xbd\\xc1\\xdb\\xa5\\xaa\\xa5\\xc3\\xa5\\xba\\xa4\\xcf\\xc0\\xef\\xc0\\xd3\\xa4\\xe4\\xb2\\xb6\\xa5\\xd7\\xa5\\xed\\xa4\\xce\\xc5\\xea\\xc9\\xbc\\xa4\\xca\\xa4\\xc9\\xa4\\xf2\\xb8\\xb5\\xa4\\xcbnetkeiba\\xa4\\xac\\xc6\\xc8\\xbc\\xab\\xa4\\xcb\\xb3\\xab\\xc8\\xaf\\xa4\\xb7\\xa4\\xbfAI\\xa4\\xcb\\xa4\\xe8\\xa4\\xc3\\xa4\\xc6\\xbb\\xbb\\xbd\\xd0\\xa4\\xb5\\xa4\\xec\\xa4\\xde\\xa4\\xb9\\xa1\\xa3\\xc2\\xd0\\xbe\\xdd\\xa4\\xcf\\xc1\\xb4\\xa5\\xec\\xa1\\xbc\\xa5\\xb9\\xa4\\xc7\\xa4\\xb9\\xa1\\xa3 \\xbd\\xd0\\xc7\\xcf\\xc9\\xbd\\xb7\\xc7\\xba\\xdc\\xb3\\xab\\xbb\\xcf\\xb8\\xe5\\xa4\\xe8\\xa4\\xea\\xa4\\xb4\\xcd\\xf7\\xa4\\xa4\\xa4\\xbf\\xa4\\xc0\\xa4\\xb1\\xa4\\xde\\xa4\\xb9\\xa1\\xa3 \\xa4\\xca\\xa4\\xaa\\xa1\\xa2\\xc7\\xcf\\xb7\\xf4\\xc8\\xaf\\xc7\\xe4\\xb3\\xab\\xbb\\xcf\\xb8\\xe5\\xa4\\xcf\\xbc\\xc2\\xba\\xdd\\xa4\\xce\\xa5\\xaa\\xa5\\xc3\\xa5\\xba\\xa4\\xcb\\xc0\\xda\\xa4\\xea\\xc2\\xd8\\xa4\\xef\\xa4\\xea\\xa4\\xde\\xa4\\xb9\\xa1\\xa3\\n</p>\\n</div><!-- /.RaceInfo_Notice01 -->\\n<!--<div class=\"RaceInfo_Notice RaceInfo_Notice02\"></div>&lt;!&ndash; /.RaceInfo_Notice02 &ndash;&gt;-->\\n<script type=\"text/javascript\">\\n$(function () {\\n$(\".ShutubaTable td.FavMemo a\").tooltip({\\nhide: false,\\nshow: false,\\nposition: {\\nmy: \"left top\",\\nat: \"left bottom\",\\nusing: function (position, feedback) {\\nconsole.log(feedback);\\nvar isIE = /*@cc_on!@*/false || !!document.documentMode;\\nif (isIE) {\\nposition.top = feedback.target.top - (feedback.element.height);\\nposition.left = feedback.target.left\\n}\\n$(this).css(position);\\n}\\n}\\n});\\n});\\n</script>\\n<!-- BEGIN _b_shutuba__race_info_notice01 -->\\n\\n<!-- END _b_shutuba__race_info_notice -->\\n<!-- block=shutuba__race_info_notice02 (d) -->\\n\\n<div class=\"CapAlertLink\"><a href=\"//info.netkeiba.com/?pid=secondary_guide&rf=shutsuba\"><span class=\"Icon\"></span>\\xb2\\xe8\\xcc\\xcc\\xa5\\xad\\xa5\\xe3\\xa5\\xd7\\xa5\\xc1\\xa5\\xe3\\xa4\\xceSNS\\xcd\\xf8\\xcd\\xd1\\xa4\\xcb\\xa4\\xc4\\xa4\\xa4\\xa4\\xc6</a></div>\\n<!-- block=shutuba__race_surf (d) -->\\n<div class=\"RaceHeadlineAll\">\\n<div class=\"RaceHeadline\" id=\"race_message_box\">\\n<div class=\"ListHeadlineWrapper\">\\n</div>\\n</div>\\n</div>\\n<!--<script type=\"text/javascript\" src=\"https://cdn.netkeiba.com/img.race/common/js/raceapi.action.js?2019073001\"></script>-->\\n<script type=\"text/javascript\">\\nvar _raceapi_action_api_url = \"https://race.netkeiba.com\"+\\'/api/api_get_racev3_surf.html\\';\\n$( document ).ready( function() {\\nshowRaceV3Surf( \"race_message_box\", \"20240601\" );\\n} );\\n/**\\n* \\xb6\\xf5\\xa4\\xc7\\xa4\\xa2\\xa4\\xeb\\xa4\\xab\\xa4\\xc9\\xa4\\xa6\\xa4\\xab\\n*\\n* @param  mixd    _var \\xca\\xd1\\xbf\\xf4\\n* @return boolean      true=\\xb6\\xf5\\xa4\\xc7\\xa4\\xa2\\xa4\\xeb false=\\xb6\\xf5\\xa4\\xc7\\xa4\\xcf\\xa4\\xca\\xa4\\xa4\\n*/\\nfunction _empty( _var )\\n{\\nif ( undefined == _var || null == _var || \\'\\' == _var )\\n{\\nreturn true;\\n}\\nreturn false;\\n}\\n</script>\\n\\n<!-- block=live_commerce_link (d) -->\\n<link rel=\"stylesheet\" href=\"__CDN_CSS__/common/css/live_commerce_link.css\" type=\"text/css\" media=\"screen\" />\\n<div id=\"live_commerce_link\" style=\"display:none\"></div>\\n<script>\\n$(document).ready( function(){\\nconsole.log(\"api_get_live_commerce_link\");\\nvar _data = { pid : \\'api_get_live_commerce_link\\' };\\n_data.input     = \\'UTF-8\\';\\n_data.output    = \\'jsonp\\';\\n_data.syusai = \"jra\";\\n_data.device = \"pc\";\\n_data.mode = \"video_banner\";\\n_data.ref  = \\'race_pc_shutuba\\';\\njQuery.ajax( {type  :\\'GET\\',\\nurl      : \"https://yoso.sp.netkeiba.com\",\\ndata     : _data,\\ndataType : _data.output,\\nsuccess  : function( data )\\n{\\n$(\"#live_commerce_link\").html(data);\\n$(\"#live_commerce_link\").show();\\n},\\nerror  : function(XMLHttpRequest, textStatus, errorThrown)\\n{\\nconsole.log(\"view data not exiest\");\\n}\\n});\\n});\\n</script>\\n<div class=\"shutuba_movie\">\\n<div class=\"special_step_new\">\\n<!-- block=special_step_new (cp) -->\\n\\n<script>\\n$(document).ready(function () {\\nvar currentUrl = window.location.href;\\nif (currentUrl.indexOf(\"yoso/mark_list.html\") !== -1) {\\n$(\\'.Title_Sec.Border_Bottom\\').removeClass(\\'Border_Bottom\\').addClass(\\'TitleHeading Special_Step_New\\');\\n}\\n});\\n</script>\\n</div>\\n<div class=\"advertisement_news\">\\n\\n<!-- block=common__advertisement_gam (d) -->\\n<div class=\"nk_AdvBox_pc mt30\">\\n\\n\\n<!-- Geniee Wrapper Body Tag 1491441 -->\\n<div data-cptid=\"1491441\" id=\"1491441\">\\n<script>\\ngnshbrequest.cmd.push(function() {\\ngnshbrequest.applyPassback(\"1491441\", \"[data-cptid=\\'1491441\\']\");\\n});\\nif($(\\'.Special_Step_New\\').length<1){\\n$(\\'#1491441\\').parent(\\'.nk_AdvBox_pc\\').remove();\\n}\\n</script>\\n</div>\\n<!-- /Geniee Wrapper Body Tag 1491441 -->\\n\\n\\n</div>\\n</div>\\n</div>\\n<!-- block=race_expect (cp) -->\\n<!-- empty race expect -->\\n<!-- block=top3data (cp) -->\\n<!-- no data -->\\n\\n<!-- block=shutuba__race_kyaku_type (d) -->\\n\\n\\n<!-- block=common__advertisement_gam (d) -->\\n<div class=\"nk_AdvBox_pc mt30\">\\n<!-- Geniee Wrapper Body Tag 1491440 -->\\n<div data-cptid=\"1491440\">\\n<script>\\ngnshbrequest.cmd.push(function() {\\ngnshbrequest.applyPassback(\"1491440\", \"[data-cptid=\\'1491440\\']\");\\n});\\n</script>\\n</div>\\n<!-- /Geniee Wrapper Body Tag 1491440 -->\\n\\n\\n\\n\\n</div>\\n<!-- block=shutuba__race_yos_gensen_list_box (d) -->\\n<!-- race\\xa5\\xc9\\xa5\\xe1\\xa5\\xa4\\xa5\\xf3\\xc6\\xe2\\xa1\\xa1\\xa5\\xa6\\xa5\\xde\\xa4\\xa4\\xa5\\xd6\\xa5\\xed\\xa5\\xc3\\xa5\\xaf\\xa1\\xa1\\xc0\\xec\\xcd\\xd1css -->\\n<link rel=\\'stylesheet\\' href=\"https://cdn.netkeiba.com/img.race/common/css/race_pc_umai_new.css?20200205\" type=\\'text/css\\' media=\"all\">\\n<div class=\"Contents_Box YosoGensenListBox padd_bottom\">\\n<link href=\"https://cdn.netkeiba.com/img.yoso/common/css/umai_area01.css?2019073001\" rel=\"stylesheet\" type=\"text/css\" media=\"all\">\\n<div class=\"GensenYosoTitle\">\\n<h2 class=\"TitleHeading  CardBackground\"><span>\\xb8\\xb7\\xc1\\xaa\\xcd\\xbd\\xc1\\xdb \\xa5\\xa6\\xa5\\xde\\xa4\\xa4\\xc7\\xcf\\xb7\\xf4</span></h2>\\n</div><!-- /.GensenYosoTitle -->\\n<div id=\"ow_bunner_view\" style=\"display: none; text-align: center; margin: 10px 0;\"></div>\\n<div id=\"delay_umai_baken\">\\n<div id=\"goods_view\">\\n<div class=\"FileLoader\"><img src=\"https://cdn.netkeiba.com/img.race/common/img/common/gif-load.gif?2019073001\"></div>\\n</div>\\n</div>\\n</div><!-- /.Contents_Box.YosoGensenListBox -->\\n<script src=\"https://cdn.netkeiba.com/img.yoso/common/js/social_cart.js?2019073001\" type=\"text/javascript\"></script>\\n<script src=\"https://cdn.netkeiba.com/img.yoso/common/js/yoso/YosoJraNar.js?2020012904\" type=\"text/javascript\"></script>\\n<script src=\"https://cdn.netkeiba.com/img.race/common/js/jquery.lazyscript.js?2019073001\" type=\"text/javascript\"></script>\\n<script type=\"text/javascript\">\\n$(document).ready( function(){\\nvar yoso_jra_nar = new YosoJraNar(\\'https://yoso.netkeiba.com\\');\\nvar _show_id = \\'goods_view\\';\\nvar _race_id = \\'20240601\\';\\nvar _sort = \\'\\'; // defualt\\nvar _limit =100;\\nvar _device = \\'1\\'; // defualt\\nvar _return_url = encodeURIComponent(location.href);\\nvar _mode = \\'sendmsg\\';\\nvar options = {\\ntype: \"visible\",\\nid: \"delay_umai_baken\",\\nscripts: [\\n],\\nsuccess: function () {\\n\\nyoso_jra_nar.ShowGoodsListRace(_show_id, _race_id, _sort, _limit, _device, _return_url, _mode, function(data){\\n$(\"#\" + _show_id).html( data.html );\\n});\\n}\\n};\\nif(isNaN(_race_id*1)){\\noptions.success() // \\xb3\\xa4\\xb3\\xb0\\xa4\\xcf\\xc3\\xd9\\xb1\\xe4\\xa4\\xca\\xa4\\xb7\\n} else {\\n$.lazyscript(options);\\n}\\n});\\n</script>\\n\\n<!-- block=umai_goods_list_f (d) -->\\n<div id=\"delay_umai_goods_f\">\\n<div class=\"Senmonshi_Box mb00\" id=\"sec_umai_goods_f\" style=\"display:none;\">\\n<h3 class=\"TitleHeading TitleHeading_Senmonshi_Box\">\\n<span>\\xb6\\xa5\\xc7\\xcf\\xc0\\xec\\xcc\\xe7\\xbb\\xe6<i class=\"icon_netkeiba\"></i></span>\\n<em class=\"Subtitle\" style=\"display: none\"></em>\\n<a href=\"https://yoso.netkeiba.com/senmonshi/jra/?rf=pcrace_shutuba\" title=\"\\xb6\\xa5\\xc7\\xcf\\xc0\\xec\\xcc\\xe7\\xbb\\xe6\\xb0\\xec\\xcd\\xf7\" class=\"LinkMore Heading_Win\">\\xc8\\xce\\xc7\\xe4\\xb0\\xec\\xcd\\xf7</a>\\n</h3>\\n<div id=\"umai_goods_list_f_view\">\\n<div class=\"FileLoader\"><img src=\"https://cdn.netkeiba.com/img.race/common/img/common/gif-load.gif?20190116\" alt=\"\"></div>\\n</div>\\n</div>\\n</div>\\n<script src=\"https://cdn.netkeiba.com/img.race/common/js/jquery.lazyscript.js\"></script>\\n<script type=\"text/javascript\">\\n$(document).ready(function() {\\nvar _race_id = \\'20240601\\';\\nvar _show_id = \\'umai_goods_list_f_view\\';\\nvar _is_apppli = \\'\\';\\nvar options = {\\ntype: \"visible\",\\nid: \"delay_umai_goods_f\",\\nscripts: [\\n],\\nsuccess: function () {\\nget_umai_goods_f_data(_race_id, _show_id, function(data) {\\n// console.log(data);\\nif (data.status == \\'OK\\') {\\n$(\"#sec_umai_goods_f\").css(\"display\", \"block\");\\n$(\"#\" + _show_id).html( data.html );\\n}\\n});\\n}\\n};\\n$.lazyscript(options);\\n// ------------------------------------------------------------------------\\nfunction get_umai_goods_f_data(_race_id, _show_id, _callback)\\n{\\nconsole.log(\\'get_umai_goods_f_data\\');\\nvar _data = {};\\n_data.input       = \\'UTF-8\\';\\n_data.output      = \\'jsonp\\';\\n_data.race_id     = _race_id;\\n_data.show_id     = _show_id;\\n_data.rf_param    = \\'pcrace_shutuba\\';\\nif(_is_apppli === \\'1\\'){\\n_data.appli_modal     = _is_apppli;\\n}\\n$.ajax({\\ntype     : \\'GET\\',\\nurl      : \\'https://yoso.netkeiba.com/senmonshi/api/api_get_goods_list_f.html\\',\\ndata     : _data,\\ndataType : _data.output,\\nsuccess  : function( data ){\\nif (undefined != _callback) {\\n_callback( data );\\n}\\n},\\nerror    : function(XMLHttpRequest, textStatus, errorThrown) {\\nconsole.log(\\'XMLHttpRequest: %O\\',XMLHttpRequest);\\nconsole.log(\\'textStatus: %O\\',textStatus);\\n}\\n});\\n}\\n});\\n</script>\\n<!-- block=common__advertisement_taboola_main (d) -->\\n<div id=\"taboola-below-article-thumbnails_race\"></div>\\n<script type=\"text/javascript\">\\nwindow._taboola = window._taboola || [];\\n_taboola.push({\\nmode: \\'alternating-thumbnails-a-race\\',\\ncontainer: \\'taboola-below-article-thumbnails_race\\',\\nplacement: \\'Below Article Thumbnails_race\\',\\ntarget_type: \\'mix\\'\\n});\\n</script>\\n\\n<!-- block=common__advertisement_gam (d) -->\\n<div class=\"nk_AdvBox_pc mt30\">\\n\\n<!-- Geniee Wrapper Body Tag 1492791 -->\\n<div data-cptid=\"1492791\">\\n<script>\\ngnshbrequest.cmd.push(function() {\\ngnshbrequest.applyPassback(\"1492791\", \"[data-cptid=\\'1492791\\']\");\\n});\\n</script>\\n</div>\\n<!-- /Geniee Wrapper Body Tag 1492791 -->\\n\\n\\n\\n</div>\\n</div><!-- / .RaceColumn02 -->\\n</div><!-- / #page -->\\n<footer>\\n<!-- block=common__race_footer (cp) -->\\n<div class=\"NkFooterArea\">\\n<div class=\"BtnPagetop\">\\n<a href=\"javascript:void(0)\" title=\"\\xa5\\xda\\xa1\\xbc\\xa5\\xb8\\xa5\\xc8\\xa5\\xc3\\xa5\\xd7\\xa4\\xd8\"></a>\\n</div><!-- /.BtnPagetop -->\\n<script type=\"text/javascript\">\\n$(function() {\\n$(\\'.BtnPagetop a\\').click(function () {\\n$(\\'body,html\\').animate({\\nscrollTop: 0\\n}, 400);\\nreturn false;\\n});\\n});\\n</script>\\n<div class=\"KeirinLink01\">\\n<a href=\"//keirin.netkeiba.com/?rf=nk_pc_footer\" title=\"netkeirin\"><img src=\"https://cdn.netkeiba.com/img.www/style/netkeiba.ja/image/common/PC_footer_bnr01.png\" alt=\"\\xa4\\xa4\\xa4\\xde\\xb6\\xa5\\xce\\xd8\\xa4\\xac\\xc7\\xae\\xa4\\xa4\\xa1\\xaanerkeirin\\xa4\\xc7\\xb6\\xa5\\xce\\xd8\\xa4\\xf2\\xb5\\xa4\\xb7\\xda\\xa4\\xcb\\xb3\\xda\\xa4\\xb7\\xa4\\xe2\\xa4\\xa6\" /></a>\\n</div><!-- /.KeirinLink01 -->\\n<dl class=\"FootSiteTitle fc\">\\n<dt>\\n<a href=\"https://www.netkeiba.com/?rf=footer\" title=\"netkeiba\">\\n<img src=\"https://cdn.netkeiba.com/img.www/style/netkeiba.ja/image/common/netkeiba_logo01.png?2019073001\" alt=\"netkeiba\" />\\n</a>\\n</dt>\\n<dd>\\n<p>\\xcd\\xf8\\xcd\\xd1\\xbc\\xd4\\xbf\\xf4<strong>1700</strong>\\xcb\\xfc\\xbf\\xcd\\xc6\\xcd\\xc7\\xcb\\xa1\\xaa<strong>No.1</strong>\\xb6\\xa5\\xc7\\xcf\\xa5\\xb5\\xa5\\xa4\\xa5\\xc8</p>\\n</dd>\\n</dl>\\n<div class=\"FootWrap\">\\n<dl class=\"NkFoot01 NkFootCateLink\">\\n<dt>\\xa5\\xab\\xa5\\xc6\\xa5\\xb4\\xa5\\xea</dt>\\n<dd class=\"fc\">\\n<ul>\\n<li>\\n<a href=\"https://news.netkeiba.com?rf=footer\" title=\"\\xa5\\xcb\\xa5\\xe5\\xa1\\xbc\\xa5\\xb9\">\\xa5\\xcb\\xa5\\xe5\\xa1\\xbc\\xa5\\xb9</a>\\n</li>\\n<li>\\n<a href=\"https://race.netkeiba.com/top/?rf=footer\" title=\"\\xa5\\xec\\xa1\\xbc\\xa5\\xb9\">\\xa5\\xec\\xa1\\xbc\\xa5\\xb9</a>\\n</li>\\n<li>\\n<a href=\"https://yoso.netkeiba.com?rf=footer\" title=\"\\xa5\\xa6\\xa5\\xde\\xa4\\xa4\\xc7\\xcf\\xb7\\xf4\">\\xa5\\xa6\\xa5\\xde\\xa4\\xa4\\xc7\\xcf\\xb7\\xf4</a>\\n</li>\\n<li>\\n<a href=\"https://news.netkeiba.com?pid=column_top&rf=footer\" title=\"\\xa5\\xb3\\xa5\\xe9\\xa5\\xe0\">\\xa5\\xb3\\xa5\\xe9\\xa5\\xe0</a>\\n</li>\\n<li>\\n<a href=\"https://tv.netkeiba.com/?rf=footer\" title=\"netkeibaTV\">netkeibaTV</a>\\n</li>\\n<li>\\n<a href=\"https://nar.netkeiba.com/top/?rf=footer\" title=\"\\xc3\\xcf\\xca\\xfd\\xb6\\xa5\\xc7\\xcf\">\\xc3\\xcf\\xca\\xfd\\xb6\\xa5\\xc7\\xcf</a>\\n</li>\\n<li>\\n<a href=\"https://db.netkeiba.com?rf=footer\" title=\"\\xa5\\xc7\\xa1\\xbc\\xa5\\xbf\\xa5\\xd9\\xa1\\xbc\\xa5\\xb9\">\\xa5\\xc7\\xa1\\xbc\\xa5\\xbf\\xa5\\xd9\\xa1\\xbc\\xa5\\xb9</a>\\n</li>\\n<li>\\n<a href=\"https://orepro.netkeiba.com?rf=footer\" title=\"\\xb2\\xb6\\xa5\\xd7\\xa5\\xed\">\\xb2\\xb6\\xa5\\xd7\\xa5\\xed</a>\\n</li>\\n</ul>\\n<ul>\\n<li>\\n<a href=\"https://owner.netkeiba.com?rf=footer\" title=\"\\xb0\\xec\\xb8\\xfd\\xc7\\xcf\\xbc\\xe7\">\\xb0\\xec\\xb8\\xfd\\xc7\\xcf\\xbc\\xe7</a>\\n</li>\\n<li>\\n<a href=\"https://pog.netkeiba.com?rf=footer\" title=\"POG\">POG</a>\\n</li>\\n<li>\\n<a href=\"https://bbs.pc.keiba.findfriends.jp?rf=footer\" title=\"\\xb6\\xa5\\xc7\\xcf\\xb9\\xad\\xbe\\xec\">\\xb6\\xa5\\xc7\\xcf\\xb9\\xad\\xbe\\xec</a>\\n</li>\\n<li>\\n<a href=\"https://dir.netkeiba.com//keibamatome/index.html?rf=footer\" title=\"\\xa4\\xde\\xa4\\xc8\\xa4\\xe1\">\\xa4\\xde\\xa4\\xc8\\xa4\\xe1</a>\\n</li>\\n<li>\\n<a href=\"https://yoso.netkeiba.com/senmonshi/?rf=footer\" title=\"\\xb6\\xa5\\xc7\\xcf\\xbf\\xb7\\xca\\xb9\">\\xb6\\xa5\\xc7\\xcf\\xbf\\xb7\\xca\\xb9</a>\\n</li>\\n<li>\\n<a href=\"https://race.netkeiba.com/bookmark/bookmark.html?rf=footer\" title=\"\\xa4\\xaa\\xb5\\xa4\\xa4\\xcb\\xc6\\xfe\\xa4\\xea\\xc7\\xcf\">\\xa4\\xaa\\xb5\\xa4\\xa4\\xcb\\xc6\\xfe\\xa4\\xea\\xc7\\xcf</a>\\n</li>\\n<li>\\n<a href=\"https://regist.netkeiba.com?rf=footer\" title=\"\\xa5\\xa2\\xa5\\xab\\xa5\\xa6\\xa5\\xf3\\xa5\\xc8\">\\xa5\\xa2\\xa5\\xab\\xa5\\xa6\\xa5\\xf3\\xa5\\xc8</a>\\n</li>\\n</ul>\\n</dd>\\n</dl>\\n<dl class=\"NkFoot01\">\\n<dt>\\xa5\\xd8\\xa5\\xeb\\xa5\\xd7\\xa1\\xf5\\xa5\\xac\\xa5\\xa4\\xa5\\xc9</dt>\\n<dd>\\n<ul>\\n<li>\\n<a href=\"https://info.netkeiba.com//?rf=footer\" title=\"\\xa4\\xaa\\xc3\\xce\\xa4\\xe9\\xa4\\xbb\">\\xa4\\xaa\\xc3\\xce\\xa4\\xe9\\xa4\\xbb</a>\\n</li>\\n<li>\\n<a href=\"https://regist.netkeiba.com?pid=premium&rf=footer\" title=\"\\xa5\\xd7\\xa5\\xec\\xa5\\xdf\\xa5\\xa2\\xa5\\xe0\\xa5\\xb5\\xa1\\xbc\\xa5\\xd3\\xa5\\xb9\\xa4\\xce\\xa4\\xb4\\xb0\\xc6\\xc6\\xe2\">\\xa5\\xd7\\xa5\\xec\\xa5\\xdf\\xa5\\xa2\\xa5\\xe0\\xa5\\xb5\\xa1\\xbc\\xa5\\xd3\\xa5\\xb9\\xa4\\xce\\xa4\\xb4\\xb0\\xc6\\xc6\\xe2</a>\\n</li>\\n<li>\\n<a href=\"https://regist.netkeiba.com?pid=help&rf=footer\" title=\"\\xa4\\xe8\\xa4\\xaf\\xa4\\xa2\\xa4\\xeb\\xbc\\xc1\\xcc\\xe4\\xa1\\xa6\\xa4\\xaa\\xcc\\xe4\\xa4\\xa4\\xb9\\xe7\\xa4\\xef\\xa4\\xbb\">\\xa4\\xe8\\xa4\\xaf\\xa4\\xa2\\xa4\\xeb\\xbc\\xc1\\xcc\\xe4\\xa1\\xa6\\xa4\\xaa\\xcc\\xe4\\xa4\\xa4\\xb9\\xe7\\xa4\\xef\\xa4\\xbb</a>\\n</li>\\n<li>\\n<a href=\"https://info.netkeiba.com/?pid=info_detail&id=1172\" title=\"\\xa4\\xce\\xa4\\xe1\\xa4\\xea\\xb9\\xfe\\xa4\\xe0\\xc9\\xd4\\xb0\\xc2\\xa4\\xce\\xa4\\xa2\\xa4\\xeb\\xca\\xfd\\xa4\\xd8\">\\xa4\\xce\\xa4\\xe1\\xa4\\xea\\xb9\\xfe\\xa4\\xe0\\xc9\\xd4\\xb0\\xc2\\xa4\\xce\\xa4\\xa2\\xa4\\xeb\\xca\\xfd\\xa4\\xd8</a>\\n</li>\\n</ul>\\n</dd>\\n</dl>\\n<dl class=\"NkFoot01\">\\n<dt>netkeiba\\xa4\\xcb\\xa4\\xc4\\xa4\\xa4\\xa4\\xc6</dt>\\n<dd>\\n<ul>\\n<li>\\n<a href=\"https://www.netkeiba.com/recruit/?rf=footer\" title=\"\\xba\\xce\\xcd\\xd1\\xbe\\xf0\\xca\\xf3\">\\xba\\xce\\xcd\\xd1\\xbe\\xf0\\xca\\xf3</a>\\n</li>\\n<li>\\n<a href=\"https://www.netkeiba.com/info/ad/?rf=footer\" title=\"\\xb9\\xad\\xb9\\xf0\\xb7\\xc7\\xba\\xdc\\xa4\\xcb\\xa4\\xc4\\xa4\\xa4\\xa4\\xc6\">\\xb9\\xad\\xb9\\xf0\\xb7\\xc7\\xba\\xdc\\xa4\\xcb\\xa4\\xc4\\xa4\\xa4\\xa4\\xc6</a>\\n</li>\\n<li>\\n<a href=\"https://www.netkeiba.com/info/kiyaku.html?rf=footer\" title=\"\\xcd\\xf8\\xcd\\xd1\\xb5\\xac\\xcc\\xf3\">\\xcd\\xf8\\xcd\\xd1\\xb5\\xac\\xcc\\xf3</a>\\n</li>\\n<li>\\n<a href=\"https://www.netdreamers.co.jp/company/about/privacy.html?rf=footer\" title=\"\\xa5\\xd7\\xa5\\xe9\\xa5\\xa4\\xa5\\xd0\\xa5\\xb7\\xa1\\xbc\\xa5\\xdd\\xa5\\xea\\xa5\\xb7\\xa1\\xbc\">\\xa5\\xd7\\xa5\\xe9\\xa5\\xa4\\xa5\\xd0\\xa5\\xb7\\xa1\\xbc\\xa5\\xdd\\xa5\\xea\\xa5\\xb7\\xa1\\xbc</a>\\n</li>\\n<li>\\n<a href=\"https://www.netkeiba.com/info/guide.html?rf=footer\" title=\"\\xc5\\xea\\xb9\\xc6\\xa5\\xac\\xa5\\xa4\\xa5\\xc9\\xa5\\xe9\\xa5\\xa4\\xa5\\xf3\">\\xc5\\xea\\xb9\\xc6\\xa5\\xac\\xa5\\xa4\\xa5\\xc9\\xa5\\xe9\\xa5\\xa4\\xa5\\xf3</a>\\n</li>\\n<li>\\n<a href=\"https://www.netkeiba.com/info/tokusyo.html?rf=footer\" title=\"\\xc6\\xc3\\xc4\\xea\\xbe\\xa6\\xbc\\xe8\\xb0\\xfa\\xcb\\xa1\\xa4\\xcb\\xb4\\xf0\\xa4\\xc5\\xa4\\xaf\\xc9\\xbd\\xb5\\xad\">\\xc6\\xc3\\xc4\\xea\\xbe\\xa6\\xbc\\xe8\\xb0\\xfa\\xcb\\xa1\\xa4\\xcb\\xb4\\xf0\\xa4\\xc5\\xa4\\xaf\\xc9\\xbd\\xb5\\xad</a>\\n</li>\\n<li>\\n<a href=\"https://www.netkeiba.com/info/license.html?rf=footer\">\\xa5\\xe9\\xa5\\xa4\\xa5\\xbb\\xa5\\xf3\\xa5\\xb9</a>\\n</li>\\n<li>\\n<a href=\"https://www.netdreamers.co.jp/?rf=footer\" title=\"\\xb1\\xbf\\xb1\\xc4\\xb2\\xf1\\xbc\\xd2\">\\xb1\\xbf\\xb1\\xc4\\xb2\\xf1\\xbc\\xd2</a>\\n</li>\\n</ul>\\n</dd>\\n</dl>\\n<dl class=\"NkFoot01\">\\n<dt>\\xa5\\xb9\\xa5\\xde\\xa5\\xdb\\xa4\\xc7netkeiba</dt>\\n<dd class=\"SpNkInfoImg\">\\n<img src=\"https://cdn.netkeiba.com/img.www/style/netkeiba.ja/image/common/img_nk_searchimg01.png?2019073001\" alt=\"\\xb8\\xa1\\xba\\xf7\" class=\"SearchImg01\" />\\n<img src=\"https://cdn.netkeiba.com/img.www/style/netkeiba.ja/image/common/img_nk_qr01.png?2019073001\" alt=\"\\xa5\\xd0\\xa1\\xbc\\xa5\\xb3\\xa1\\xbc\\xa5\\xc9\" class=\"QrImg01\" />\\n</dd>\\n<dt>\\xa5\\xa2\\xa5\\xd7\\xa5\\xea\\xa4\\xc7\\xa5\\xb5\\xa5\\xaf\\xa5\\xb5\\xa5\\xafnetkeiba</dt>\\n<dd>\\n<ul class=\"AprStoreList fc\">\\n<li>\\n<a href=\"https://itunes.apple.com/jp/app/id464562684/\" title=\"Appstore\"><img src=\"https://cdn.netkeiba.com/img.www/style/netkeiba.ja/image/common/bnr_appstore_01.png?2019073001\" alt=\"Appstore\" class=\"\" /></a>\\n</li>\\n<li>\\n<a href=\"https://play.google.com/store/apps/details?id=jp.co.netdreamers.netkeiba\" title=\"googleplay\"><img src=\"https://cdn.netkeiba.com/img.www/style/netkeiba.ja/image/common/bnr_googleplay_01.png?20210728\" alt=\"googleplay\" class=\"\" /></a>\\n</li>\\n</ul>\\n</dd>\\n<dd class=\"Nk_Sns\">\\n<ul class=\"fc\">\\n<li>\\n<a href=\"https://twitter.com/netkeiba\" title=\"\\xb8\\xf8\\xbc\\xb0 X\" class=\"Tw\"></a>\\n</li>\\n<li>\\n<a href=\"https://ja-jp.facebook.com/netkeiba\" title=\"\\xb8\\xf8\\xbc\\xb0 Facebook\" class=\"Fb\"></a>\\n</li>\\n<li>\\n<a href=\"https://line.me/R/ti/p/%40oa-netkeiba\" title=\"LINE\" class=\"Line\"></a>\\n</li>\\n<li>\\n<a href=\"http://www.youtube.com/user/netkeibaTV\" title=\"netkeiba\\xa5\\xc1\\xa5\\xe3\\xa5\\xf3\\xa5\\xcd\\xa5\\xeb\" class=\"Yt\"></a>\\n</li>\\n<li>\\n<a href=\"https://www.instagram.com/netkeiba/\" title=\"Instagram\" class=\"Ig\"></a>\\n</li>\\n<li>\\n<a href=\"https://www.netkeiba.com/?pid=rss\" title=\"RSS\" class=\"Rss\"></a>\\n</li>\\n</ul>\\n</dd>\\n</dl>\\n</div><!-- /.FootWrap -->\\n</div><!-- /.NkFooterArea -->\\n<div class=\"GlobalFooterArea\">\\n<div class=\"FootWrap\">\\n<dl class=\"NkFoot02\">\\n<dt class=\"GfootIcon01 IconGame01\">netkeiba \\xb8\\xf8\\xbc\\xb0\\xb6\\xa5\\xc7\\xcf\\xa5\\xb2\\xa1\\xbc\\xa5\\xe0</dt>\\n<dd>\\n<ul>\\n<li>\\n<a href=\"https://www.netkeiba.com/game/umasta.html?rf=footer\" target=\\'_blank\\' title=\"\\xa4\\xa6\\xa4\\xde\\xa4\\xa4\\xa4\\xeb\\xa5\\xb9\\xa5\\xbf\\xa5\\xb8\\xa5\\xa2\\xa5\\xe0\">\\xa4\\xdf\\xa4\\xf3\\xa4\\xca\\xa4\\xce\\xb0\\xa6\\xc7\\xcf\\xa4\\xc8\\xa5\\xd0\\xa5\\xc8\\xa5\\xeb\\xa1\\xaa <strong>\\xa4\\xa6\\xa4\\xde\\xa4\\xa4\\xa4\\xeb\\xa5\\xb9\\xa5\\xbf\\xa5\\xb8\\xa5\\xa2\\xa5\\xe0</strong></a>\\n</li>\\n</ul>\\n</dd>\\n<dt class=\"GfootIcon01 IconSisterSite01\">netkeiba \\xbb\\xd0\\xcb\\xe5\\xa5\\xb5\\xa5\\xa4\\xa5\\xc8</dt>\\n<dd>\\n<ul>\\n<li>\\n<a href=\"//keirin.netkeiba.com/?rf=footer\" target=\\'_blank\\'>\\xb6\\xa5\\xce\\xd8\\xc1\\xed\\xb9\\xe7\\xa5\\xe1\\xa5\\xc7\\xa5\\xa3\\xa5\\xa2 <strong>netkeirin(\\xa5\\xcd\\xa5\\xc3\\xa5\\xc8\\xa5\\xb1\\xa5\\xa4\\xa5\\xea\\xa5\\xf3)</strong></a>\\n</li>\\n</ul>\\n</dd>\\n</dl>\\n<dl class=\"NkFoot02\">\\n<dt class=\"GfootIcon01 IconMedia01\">\\xb4\\xd8\\xcf\\xa2\\xa5\\xe1\\xa5\\xc7\\xa5\\xa3\\xa5\\xa2</dt>\\n<dd>\\n<ul>\\n<li>\\n<a href=\"https://sp.baseball.findfriends.jp/?rf=footer\" target=\\'_blank\\' title=\"\\xbd\\xb5\\xb4\\xa9\\xa5\\xd9\\xa1\\xbc\\xa5\\xb9\\xa5\\xdc\\xa1\\xbc\\xa5\\xebONLINE\">\\xc5\\xb0\\xc4\\xec\\xbc\\xe8\\xba\\xe0\\xa1\\xaa\\xcc\\xee\\xb5\\xe5\\xbe\\xf0\\xca\\xf3\\xa4\\xcf <strong>\\xbd\\xb5\\xb4\\xa9\\xa5\\xd9\\xa1\\xbc\\xa5\\xb9\\xa5\\xdc\\xa1\\xbc\\xa5\\xebONLINE</strong></a>\\n</li>\\n<li>\\n<a href=\"https://sp.golf.findfriends.jp/?rf=footer\" target=\\'_blank\\' title=\"\\xa5\\xef\\xa5\\xc3\\xa5\\xb0\\xa5\\xeb\\xa5\\xaa\\xa5\\xf3\\xa5\\xe9\\xa5\\xa4\\xa5\\xf3\">\\xa5\\xb4\\xa5\\xeb\\xa5\\xd5\\xa5\\xec\\xa5\\xc3\\xa5\\xb9\\xa5\\xf3\\xbe\\xf0\\xca\\xf3\\xa5\\xb5\\xa5\\xa4\\xa5\\xc8 <strong>\\xa5\\xef\\xa5\\xc3\\xa5\\xb0\\xa5\\xeb\\xa5\\xaa\\xa5\\xf3\\xa5\\xe9\\xa5\\xa4\\xa5\\xf3</strong></a>\\n</li>\\n<li>\\n<a href=\"https://recipe.sp.findfriends.jp/?rf=footer\" target=\\'_blank\\' title=\"KATSUYO\\xa5\\xec\\xa5\\xb7\\xa5\\xd4\">\\xbe\\xae\\xce\\xd3\\xa5\\xab\\xa5\\xc4\\xc2\\xe5\\xc4\\xbe\\xc5\\xc1\\xa1\\xaa <strong>KATSUYO\\xa5\\xec\\xa5\\xb7\\xa5\\xd4</strong></a>\\n</li>\\n</ul>\\n</dd>\\n</dl>\\n<dl class=\"NkFoot02\">\\n<dt class=\"GfootIcon01 IconSoftware01\">\\xa5\\xbd\\xa5\\xd5\\xa5\\xc8\\xa5\\xa6\\xa5\\xa7\\xa5\\xa2\\xa1\\xa6\\xa5\\xd7\\xa5\\xed\\xa5\\xc0\\xa5\\xaf\\xa5\\xc8</dt>\\n<dd>\\n<ul>\\n<li>\\n<a href=\"https://smart.lets-ktai.jp/?rf=footer\" target=\\'_blank\\' title=\"SMART\\xb2\\xf1\\xb0\\xf7\\xbe\\xda\">\\xa4\\xe2\\xa4\\xc3\\xa4\\xc8\\xa4\\xe2\\xa5\\xbb\\xa5\\xad\\xa5\\xe5\\xa5\\xa2\\xa4\\xca\\xc5\\xb9\\xca\\xde\\xc7\\xe4\\xbe\\xe5\\xb8\\xfe\\xbe\\xe5\\xa5\\xa2\\xa5\\xd7\\xa5\\xea <strong>SMART\\xb2\\xf1\\xb0\\xf7\\xbe\\xda</strong></a>\\n</li>\\n<li>\\n<a href=\"https://lets-ktai.jp/?rf=footer\" target=\\'_blank\\' title=\"Let\\'s\\xa5\\xb1\\xa1\\xbc\\xa5\\xbf\\xa5\\xa4\\xa1\\xaa\">\\xa5\\xb9\\xa5\\xde\\xa5\\xdb\\xa5\\xb5\\xa5\\xa4\\xa5\\xc8\\xc0\\xa9\\xba\\xeeASP <strong>Let\\'s\\xa5\\xb1\\xa1\\xbc\\xa5\\xbf\\xa5\\xa4\\xa1\\xaa</strong></a>\\n</li>\\n<li>\\n<a href=\"https://webspiral.jp/?rf=footer\" target=\\'_blank\\' title=\"WEB SPIRAL\">\\xa5\\xb5\\xa5\\xa4\\xa5\\xc8\\xb1\\xbf\\xb1\\xc4\\xa4\\xf2\\xb7\\xe0\\xc5\\xaa\\xa4\\xcb\\xb8\\xfa\\xce\\xa8\\xb2\\xbd\\xa4\\xb9\\xa4\\xebCMS <strong>WEB SPIRAL</strong></a>\\n</li>\\n</ul>\\n</dd>\\n</dl>\\n</div><!-- /.FootWrap -->\\n<p class=\"CopyRight\">\\n<small>&copy; NET DREAMERS, Co., Ltd. All Rights Reserved.</small>\\n</p>\\n</div><!-- /.GlobalFooterArea -->\\n<!-- Google Tag Manager -->\\n<!-- remove gtm_20220924 -->\\n<!-- End Google Tag Manager -->\\n\\n<!-- block=common__advertisement_gam (d) -->\\n<div class=\"nk_AdvBox_pc mt30\">\\n\\n\\n\\n\\n<div id=\"geniee_overlay_outer\" style=\"position:fixed; bottom: 0px; width:100%; height:90px; left:0px; right:0px; margin:auto; z-index:1000000000; text-align: center;background-color: rgba(40, 40, 40, 0.2);\">    <img src=\"https://js.gsspcln.jp/i/7c087a913cb9d4e76b672c4dc767c1a2.png\" id=\"gn_interstitial_close_icon\" style=\"height: 29px; width: 29px; display: block; position: absolute; top: 0px; left: 0px; right:0px; margin: 0px auto; z-index: 999999; transform: translateX(-378.5px);\" onclick=\"document.getElementById(\\'geniee_overlay_outer\\').style.display=\\'none\\';\">\\n<!-- Geniee Wrapper Body Tag 1491463 -->\\n<div data-cptid=\"1491463\" style=\"text-align: center;\">\\n<script>\\ngnshbrequest.cmd.push(function() {\\ngnshbrequest.applyPassback(\"1491463\", \"[data-cptid=\\'1491463\\']\");\\n});\\n</script>\\n</div>\\n<!-- /Geniee Wrapper Body Tag 1491463 -->\\n</div>\\n</div>\\n</footer>\\n<!-- block=common__advertisement_taboola_bottom (d) -->\\n<script type=\"text/javascript\">\\nwindow._taboola = window._taboola || [];\\n_taboola.push({flush: true});\\n</script>\\n<!-- block=lazyload_js (d) -->\\n<script>\\n/* Disable minification (remove `.min` from URL path) for more info */\\n(function(undefined) {}).call(\\'object\\' === typeof window && window || \\'object\\' === typeof self && self || \\'object\\' === typeof global && global || {});\\n(function (root, factory) {\\nif (typeof exports === \"object\") {\\nmodule.exports = factory(root);\\n} else if (typeof define === \"function\" && define.amd) {\\ndefine([], factory(root));\\n} else {\\nroot.LazyLoad = factory(root);\\n}\\n}) (typeof global !== \"undefined\" ? global : this.window || this.global, function (root) {\\n\"use strict\";\\nconst defaults = {\\nsrc: \"data-src\",\\nsrcset: \"data-srcset\",\\nselector: \".lazyload\"\\n};\\n/**\\n* Merge two or more objects. Returns a new object.\\n* @private\\n* @param   deep     If true, do a deep (or recursive) merge [optional]\\n* @param    objects  The objects to merge together\\n* @returns           Merged values of defaults and options\\n*/\\nconst extend = function ()  {\\nlet extended = {};\\nlet deep = false;\\nlet i = 0;\\nlet length = arguments.length;\\n/* Check if a deep merge */\\nif (Object.prototype.toString.call(arguments[0]) === \"[object Boolean]\") {\\ndeep = arguments[0];\\ni++;\\n}\\n/* Merge the object into the extended object */\\nlet merge = function (obj) {\\nfor (let prop in obj) {\\nif (Object.prototype.hasOwnProperty.call(obj, prop)) {\\n/* If deep merge and property is an object, merge properties */\\nif (deep && Object.prototype.toString.call(obj[prop]) === \"[object Object]\") {\\nextended[prop] = extend(true, extended[prop], obj[prop]);\\n} else {\\nextended[prop] = obj[prop];\\n}\\n}\\n}\\n};\\n/* Loop through each object and conduct a merge */\\nfor (; i < length; i++) {\\nlet obj = arguments[i];\\nmerge(obj);\\n}\\nreturn extended;\\n};\\nfunction LazyLoad(images, options) {\\nthis.settings = extend(defaults, options || {});\\nthis.images = images || document.querySelectorAll(this.settings.selector);\\nthis.observer = null;\\nthis.init();\\n}\\nLazyLoad.prototype = {\\ninit: function() {\\n/* Without observers load everything and bail out early. */\\nif (!root.IntersectionObserver) {\\nthis.loadImages();\\nreturn;\\n}\\nlet self = this;\\nlet observerConfig = {\\nroot: null,\\nrootMargin: \"0px\",\\nthreshold: [0, 0.5, 1.0]\\n};\\nthis.observer = new IntersectionObserver(function(entries) {\\nentries.forEach(function (entry) {\\nif (entry.intersectionRatio > 0) {\\nself.observer.unobserve(entry.target);\\nlet src = entry.target.getAttribute(self.settings.src);\\nlet srcset = entry.target.getAttribute(self.settings.srcset);\\nif (\"img\" === entry.target.tagName.toLowerCase()) {\\nif (src) {\\nentry.target.src = src;\\n}\\nif (srcset) {\\nentry.target.srcset = srcset;\\n}\\n} else {\\nentry.target.style.backgroundImage = \"url(\" + src + \")\";\\n}\\nentry.target.classList.remove(\"lazyload\");\\n}\\n});\\n}, observerConfig);\\nthis.images.forEach(function (image) {\\nself.observer.observe(image);\\n});\\n},\\nloadAndDestroy: function () {\\nif (!this.settings) { return; }\\nthis.loadImages();\\nthis.destroy();\\n},\\nloadImages: function () {\\nif (!this.settings) { return; }\\nlet self = this;\\nthis.images.forEach(function (image) {\\nlet src = image.getAttribute(self.settings.src);\\nlet srcset = image.getAttribute(self.settings.srcset);\\nif (\"img\" === image.tagName.toLowerCase()) {\\nif (src) {\\nimage.src = src;\\n}\\nif (srcset) {\\nimage.srcset = srcset;\\n}\\n} else {\\nimage.style.backgroundImage = \"url(\" + src + \")\";\\n}\\n});\\n},\\ndestroy: function () {\\nif (!this.settings) { return; }\\nthis.observer.disconnect();\\nthis.settings = null;\\n}\\n};\\nroot.lazyload = function(images, options) {\\nreturn new LazyLoad(images, options);\\n};\\nif (root.jQuery) {\\nconst $ = root.jQuery;\\n$.fn.lazyload = function (options) {\\noptions = options || {};\\noptions.attribute = options.attribute || \"data-src\";\\nnew LazyLoad($.makeArray(this), options);\\nreturn this;\\n};\\n}\\nreturn LazyLoad;\\n});\\n</script>\\n<script>\\n$(function() {\\nif (typeof lazyload === \\'function\\') {\\n$(\\'.lazyload\\').lazyload();\\n} else {\\nvar lazyImages = [].slice.call(document.querySelectorAll(\".lazyload\"));\\nlazyImages.forEach(function(lazyImage) {\\nconsole.log(lazyImage.tagName);\\nif (lazyImage.tagName == \\'DIV\\') {\\nlazyImage.style.backgroundImage = \"url(\" + lazyImage.dataset.src + \")\";\\n} else {\\nlazyImage.src = lazyImage.dataset.src;\\n}\\nlazyImage.classList.remove(\"lazyload\");\\n});\\n}\\n});\\n</script>\\n<!-- Google Tag Manager -->\\n<noscript><iframe src=\"//www.googletagmanager.com/ns.html?id=GTM-K6PJT6\"\\nheight=\"0\" width=\"0\" style=\"display:none;visibility:hidden\"></iframe></noscript>\\n<!-- End Google Tag Manager -->\\n</body>\\n</html>'"
      ]
     },
     "execution_count": 2,
     "metadata": {},
     "output_type": "execute_result"
    }
   ],
   "source": [
    "html"
   ]
  },
  {
   "cell_type": "code",
   "execution_count": 4,
   "id": "797fb305-56e9-4a5c-b75c-6075d1e5aeec",
   "metadata": {
    "scrolled": true
   },
   "outputs": [
    {
     "ename": "IndexError",
     "evalue": "list index out of range",
     "output_type": "error",
     "traceback": [
      "\u001b[0;31m---------------------------------------------------------------------------\u001b[0m",
      "\u001b[0;31mIndexError\u001b[0m                                Traceback (most recent call last)",
      "Cell \u001b[0;32mIn[4], line 6\u001b[0m\n\u001b[1;32m      4\u001b[0m td_list \u001b[38;5;241m=\u001b[39m soup\u001b[38;5;241m.\u001b[39mfind_all(\u001b[38;5;124m\"\u001b[39m\u001b[38;5;124mtd\u001b[39m\u001b[38;5;124m\"\u001b[39m, class_\u001b[38;5;241m=\u001b[39m \u001b[38;5;124m\"\u001b[39m\u001b[38;5;124mHorseInfo\u001b[39m\u001b[38;5;124m\"\u001b[39m)\n\u001b[1;32m      5\u001b[0m td_list\n\u001b[0;32m----> 6\u001b[0m td \u001b[38;5;241m=\u001b[39m \u001b[43mtd_list\u001b[49m\u001b[43m[\u001b[49m\u001b[38;5;241;43m0\u001b[39;49m\u001b[43m]\u001b[49m\n\u001b[1;32m      7\u001b[0m td\n",
      "\u001b[0;31mIndexError\u001b[0m: list index out of range"
     ]
    }
   ],
   "source": [
    "from bs4 import BeautifulSoup\n",
    "soup = BeautifulSoup(html,\"lxml\")\n",
    "\n",
    "td_list = soup.find_all(\"td\", class_= \"HorseInfo\")\n",
    "td_list\n",
    "td = td_list[0]\n",
    "td"
   ]
  },
  {
   "cell_type": "code",
   "execution_count": 9,
   "id": "2ed76375-60cc-495b-ba6e-81dea212ad89",
   "metadata": {},
   "outputs": [
    {
     "data": {
      "text/plain": [
       "'2021100930'"
      ]
     },
     "execution_count": 9,
     "metadata": {},
     "output_type": "execute_result"
    }
   ],
   "source": [
    "import re\n",
    "\n",
    "re.findall(r\"\\d{10}\",td.find(\"a\")[\"href\"])[0]"
   ]
  },
  {
   "cell_type": "code",
   "execution_count": 10,
   "id": "5a5473f8-31cb-469c-9c01-14613acce018",
   "metadata": {},
   "outputs": [
    {
     "name": "stdout",
     "output_type": "stream",
     "text": [
      "The autoreload extension is already loaded. To reload it, use:\n",
      "  %reload_ext autoreload\n"
     ]
    }
   ],
   "source": [
    "import create_prediction_population\n",
    "%load_ext autoreload"
   ]
  },
  {
   "cell_type": "code",
   "execution_count": 33,
   "id": "4c993d2b-8edc-4004-a707-d3586d8efd56",
   "metadata": {},
   "outputs": [],
   "source": [
    "%autoreload"
   ]
  },
  {
   "cell_type": "code",
   "execution_count": 11,
   "id": "1eb543e0-808a-4d1c-b56b-125c5200c119",
   "metadata": {},
   "outputs": [
    {
     "data": {
      "text/plain": [
       "'202305040501'"
      ]
     },
     "execution_count": 11,
     "metadata": {},
     "output_type": "execute_result"
    }
   ],
   "source": [
    "race_id_list[0]"
   ]
  },
  {
   "cell_type": "code",
   "execution_count": 12,
   "id": "b9069bcd-c85e-4a5b-b898-73fb392d7a48",
   "metadata": {},
   "outputs": [
    {
     "data": {
      "text/plain": [
       "['2021100930',\n",
       " '2021102784',\n",
       " '2021100625',\n",
       " '2021106047',\n",
       " '2021104618',\n",
       " '2021101168',\n",
       " '2021101635',\n",
       " '2021103039',\n",
       " '2021102107',\n",
       " '2021107294',\n",
       " '2021100461',\n",
       " '2021100746',\n",
       " '2021102371']"
      ]
     },
     "execution_count": 12,
     "metadata": {},
     "output_type": "execute_result"
    }
   ],
   "source": [
    "create_prediction_population.scrape_horse_id_list(race_id_list[0])"
   ]
  },
  {
   "cell_type": "code",
   "execution_count": 34,
   "id": "452acc1e-9deb-4cfa-9004-37cc793e8d94",
   "metadata": {
    "collapsed": true,
    "jupyter": {
     "outputs_hidden": true
    }
   },
   "outputs": [
    {
     "name": "stdout",
     "output_type": "stream",
     "text": [
      "scraping race_id_list...\n"
     ]
    },
    {
     "data": {
      "application/vnd.jupyter.widget-view+json": {
       "model_id": "eed2430fa464456396547b5996e3d747",
       "version_major": 2,
       "version_minor": 0
      },
      "text/plain": [
       "  0%|          | 0/1 [00:00<?, ?it/s]"
      ]
     },
     "metadata": {},
     "output_type": "display_data"
    },
    {
     "name": "stdout",
     "output_type": "stream",
     "text": [
      "stoppd at https://race.netkeiba.com/top/race_list.html?kaisai_date=202305040501\n",
      "Traceback (most recent call last):\n",
      "  File \"/Users/iniad/Documents/kenkyu/common/src/scraping.py\", line 58, in scrape_race_id_list\n",
      "    driver.get(url)\n",
      "  File \"/Users/iniad/miniconda3/envs/myenv/lib/python3.11/site-packages/selenium/webdriver/remote/webdriver.py\", line 363, in get\n",
      "    self.execute(Command.GET, {\"url\": url})\n",
      "  File \"/Users/iniad/miniconda3/envs/myenv/lib/python3.11/site-packages/selenium/webdriver/remote/webdriver.py\", line 352, in execute\n",
      "    response = self.command_executor.execute(driver_command, params)\n",
      "               ^^^^^^^^^^^^^^^^^^^^^^^^^^^^^^^^^^^^^^^^^^^^^^^^^^^^^\n",
      "  File \"/Users/iniad/miniconda3/envs/myenv/lib/python3.11/site-packages/selenium/webdriver/remote/remote_connection.py\", line 306, in execute\n",
      "    return self._request(command_info[0], url, body=data)\n",
      "           ^^^^^^^^^^^^^^^^^^^^^^^^^^^^^^^^^^^^^^^^^^^^^^\n",
      "  File \"/Users/iniad/miniconda3/envs/myenv/lib/python3.11/site-packages/selenium/webdriver/remote/remote_connection.py\", line 326, in _request\n",
      "    response = self._conn.request(method, url, body=body, headers=headers)\n",
      "               ^^^^^^^^^^^^^^^^^^^^^^^^^^^^^^^^^^^^^^^^^^^^^^^^^^^^^^^^^^^\n",
      "  File \"/Users/iniad/miniconda3/envs/myenv/lib/python3.11/site-packages/urllib3/_request_methods.py\", line 143, in request\n",
      "    return self.request_encode_body(\n",
      "           ^^^^^^^^^^^^^^^^^^^^^^^^^\n",
      "  File \"/Users/iniad/miniconda3/envs/myenv/lib/python3.11/site-packages/urllib3/_request_methods.py\", line 278, in request_encode_body\n",
      "    return self.urlopen(method, url, **extra_kw)\n",
      "           ^^^^^^^^^^^^^^^^^^^^^^^^^^^^^^^^^^^^^\n",
      "  File \"/Users/iniad/miniconda3/envs/myenv/lib/python3.11/site-packages/urllib3/poolmanager.py\", line 443, in urlopen\n",
      "    response = conn.urlopen(method, u.request_uri, **kw)\n",
      "               ^^^^^^^^^^^^^^^^^^^^^^^^^^^^^^^^^^^^^^^^^\n",
      "  File \"/Users/iniad/miniconda3/envs/myenv/lib/python3.11/site-packages/urllib3/connectionpool.py\", line 789, in urlopen\n",
      "    response = self._make_request(\n",
      "               ^^^^^^^^^^^^^^^^^^^\n",
      "  File \"/Users/iniad/miniconda3/envs/myenv/lib/python3.11/site-packages/urllib3/connectionpool.py\", line 536, in _make_request\n",
      "    response = conn.getresponse()\n",
      "               ^^^^^^^^^^^^^^^^^^\n",
      "  File \"/Users/iniad/miniconda3/envs/myenv/lib/python3.11/site-packages/urllib3/connection.py\", line 507, in getresponse\n",
      "    httplib_response = super().getresponse()\n",
      "                       ^^^^^^^^^^^^^^^^^^^^^\n",
      "  File \"/Users/iniad/miniconda3/envs/myenv/lib/python3.11/http/client.py\", line 1395, in getresponse\n",
      "    response.begin()\n",
      "  File \"/Users/iniad/miniconda3/envs/myenv/lib/python3.11/http/client.py\", line 325, in begin\n",
      "    version, status, reason = self._read_status()\n",
      "                              ^^^^^^^^^^^^^^^^^^^\n",
      "  File \"/Users/iniad/miniconda3/envs/myenv/lib/python3.11/http/client.py\", line 286, in _read_status\n",
      "    line = str(self.fp.readline(_MAXLINE + 1), \"iso-8859-1\")\n",
      "               ^^^^^^^^^^^^^^^^^^^^^^^^^^^^^^\n",
      "  File \"/Users/iniad/miniconda3/envs/myenv/lib/python3.11/socket.py\", line 718, in readinto\n",
      "    return self._sock.recv_into(b)\n",
      "           ^^^^^^^^^^^^^^^^^^^^^^^\n",
      "KeyboardInterrupt\n",
      "\n",
      "scraping horse_id_list...\n"
     ]
    },
    {
     "data": {
      "application/vnd.jupyter.widget-view+json": {
       "model_id": "b3e34b92b3cf470aa9069b036aac08eb",
       "version_major": 2,
       "version_minor": 0
      },
      "text/plain": [
       "0it [00:00, ?it/s]"
      ]
     },
     "metadata": {},
     "output_type": "display_data"
    },
    {
     "ename": "ValueError",
     "evalue": "No objects to concatenate",
     "output_type": "error",
     "traceback": [
      "\u001b[0;31m---------------------------------------------------------------------------\u001b[0m",
      "\u001b[0;31mValueError\u001b[0m                                Traceback (most recent call last)",
      "Cell \u001b[0;32mIn[34], line 1\u001b[0m\n\u001b[0;32m----> 1\u001b[0m create_prediction_population\u001b[38;5;241m.\u001b[39mcreate(kaisai_date\u001b[38;5;241m=\u001b[39m\u001b[38;5;124m\"\u001b[39m\u001b[38;5;124m202305040501\u001b[39m\u001b[38;5;124m\"\u001b[39m)\n",
      "File \u001b[0;32m~/Documents/kenkyu/common/src/create_prediction_population.py:54\u001b[0m, in \u001b[0;36mcreate\u001b[0;34m(kaisai_date, save_dir, save_filename)\u001b[0m\n\u001b[1;32m     50\u001b[0m     dfs[race_id] \u001b[38;5;241m=\u001b[39m df\n\u001b[1;32m     53\u001b[0m \u001b[38;5;66;03m#これをやるとデータがどんどん縦に繋がってくれる\u001b[39;00m\n\u001b[0;32m---> 54\u001b[0m concat_df \u001b[38;5;241m=\u001b[39m pd\u001b[38;5;241m.\u001b[39mconcat(dfs\u001b[38;5;241m.\u001b[39mvalues())\n\u001b[1;32m     55\u001b[0m concat_df[\u001b[38;5;124m\"\u001b[39m\u001b[38;5;124mdate\u001b[39m\u001b[38;5;124m\"\u001b[39m] \u001b[38;5;241m=\u001b[39m pd\u001b[38;5;241m.\u001b[39mto_datetime(concat_df[\u001b[38;5;124m\"\u001b[39m\u001b[38;5;124mdate\u001b[39m\u001b[38;5;124m\"\u001b[39m])\n\u001b[1;32m     56\u001b[0m concat_df\u001b[38;5;241m.\u001b[39mto_csv(save_dir \u001b[38;5;241m/\u001b[39m save_filename,index \u001b[38;5;241m=\u001b[39m \u001b[38;5;28;01mFalse\u001b[39;00m,sep\u001b[38;5;241m=\u001b[39m\u001b[38;5;124m\"\u001b[39m\u001b[38;5;130;01m\\t\u001b[39;00m\u001b[38;5;124m\"\u001b[39m)\n",
      "File \u001b[0;32m~/miniconda3/envs/myenv/lib/python3.11/site-packages/pandas/core/reshape/concat.py:382\u001b[0m, in \u001b[0;36mconcat\u001b[0;34m(objs, axis, join, ignore_index, keys, levels, names, verify_integrity, sort, copy)\u001b[0m\n\u001b[1;32m    379\u001b[0m \u001b[38;5;28;01melif\u001b[39;00m copy \u001b[38;5;129;01mand\u001b[39;00m using_copy_on_write():\n\u001b[1;32m    380\u001b[0m     copy \u001b[38;5;241m=\u001b[39m \u001b[38;5;28;01mFalse\u001b[39;00m\n\u001b[0;32m--> 382\u001b[0m op \u001b[38;5;241m=\u001b[39m _Concatenator(\n\u001b[1;32m    383\u001b[0m     objs,\n\u001b[1;32m    384\u001b[0m     axis\u001b[38;5;241m=\u001b[39maxis,\n\u001b[1;32m    385\u001b[0m     ignore_index\u001b[38;5;241m=\u001b[39mignore_index,\n\u001b[1;32m    386\u001b[0m     join\u001b[38;5;241m=\u001b[39mjoin,\n\u001b[1;32m    387\u001b[0m     keys\u001b[38;5;241m=\u001b[39mkeys,\n\u001b[1;32m    388\u001b[0m     levels\u001b[38;5;241m=\u001b[39mlevels,\n\u001b[1;32m    389\u001b[0m     names\u001b[38;5;241m=\u001b[39mnames,\n\u001b[1;32m    390\u001b[0m     verify_integrity\u001b[38;5;241m=\u001b[39mverify_integrity,\n\u001b[1;32m    391\u001b[0m     copy\u001b[38;5;241m=\u001b[39mcopy,\n\u001b[1;32m    392\u001b[0m     sort\u001b[38;5;241m=\u001b[39msort,\n\u001b[1;32m    393\u001b[0m )\n\u001b[1;32m    395\u001b[0m \u001b[38;5;28;01mreturn\u001b[39;00m op\u001b[38;5;241m.\u001b[39mget_result()\n",
      "File \u001b[0;32m~/miniconda3/envs/myenv/lib/python3.11/site-packages/pandas/core/reshape/concat.py:445\u001b[0m, in \u001b[0;36m_Concatenator.__init__\u001b[0;34m(self, objs, axis, join, keys, levels, names, ignore_index, verify_integrity, copy, sort)\u001b[0m\n\u001b[1;32m    442\u001b[0m \u001b[38;5;28mself\u001b[39m\u001b[38;5;241m.\u001b[39mverify_integrity \u001b[38;5;241m=\u001b[39m verify_integrity\n\u001b[1;32m    443\u001b[0m \u001b[38;5;28mself\u001b[39m\u001b[38;5;241m.\u001b[39mcopy \u001b[38;5;241m=\u001b[39m copy\n\u001b[0;32m--> 445\u001b[0m objs, keys \u001b[38;5;241m=\u001b[39m \u001b[38;5;28mself\u001b[39m\u001b[38;5;241m.\u001b[39m_clean_keys_and_objs(objs, keys)\n\u001b[1;32m    447\u001b[0m \u001b[38;5;66;03m# figure out what our result ndim is going to be\u001b[39;00m\n\u001b[1;32m    448\u001b[0m ndims \u001b[38;5;241m=\u001b[39m \u001b[38;5;28mself\u001b[39m\u001b[38;5;241m.\u001b[39m_get_ndims(objs)\n",
      "File \u001b[0;32m~/miniconda3/envs/myenv/lib/python3.11/site-packages/pandas/core/reshape/concat.py:507\u001b[0m, in \u001b[0;36m_Concatenator._clean_keys_and_objs\u001b[0;34m(self, objs, keys)\u001b[0m\n\u001b[1;32m    504\u001b[0m     objs_list \u001b[38;5;241m=\u001b[39m \u001b[38;5;28mlist\u001b[39m(objs)\n\u001b[1;32m    506\u001b[0m \u001b[38;5;28;01mif\u001b[39;00m \u001b[38;5;28mlen\u001b[39m(objs_list) \u001b[38;5;241m==\u001b[39m \u001b[38;5;241m0\u001b[39m:\n\u001b[0;32m--> 507\u001b[0m     \u001b[38;5;28;01mraise\u001b[39;00m \u001b[38;5;167;01mValueError\u001b[39;00m(\u001b[38;5;124m\"\u001b[39m\u001b[38;5;124mNo objects to concatenate\u001b[39m\u001b[38;5;124m\"\u001b[39m)\n\u001b[1;32m    509\u001b[0m \u001b[38;5;28;01mif\u001b[39;00m keys \u001b[38;5;129;01mis\u001b[39;00m \u001b[38;5;28;01mNone\u001b[39;00m:\n\u001b[1;32m    510\u001b[0m     objs_list \u001b[38;5;241m=\u001b[39m \u001b[38;5;28mlist\u001b[39m(com\u001b[38;5;241m.\u001b[39mnot_none(\u001b[38;5;241m*\u001b[39mobjs_list))\n",
      "\u001b[0;31mValueError\u001b[0m: No objects to concatenate"
     ]
    }
   ],
   "source": [
    "create_prediction_population.create(kaisai_date=\"20240601\")"
   ]
  },
  {
   "cell_type": "code",
   "execution_count": 36,
   "id": "a0146031-d9be-48db-b087-55a52d719b4d",
   "metadata": {},
   "outputs": [
    {
     "name": "stdout",
     "output_type": "stream",
     "text": [
      "scraping race_id_list...\n"
     ]
    },
    {
     "data": {
      "application/vnd.jupyter.widget-view+json": {
       "model_id": "d3410b597804468a9584c8a4489faee4",
       "version_major": 2,
       "version_minor": 0
      },
      "text/plain": [
       "  0%|          | 0/1 [00:00<?, ?it/s]"
      ]
     },
     "metadata": {},
     "output_type": "display_data"
    },
    {
     "name": "stdout",
     "output_type": "stream",
     "text": [
      "scraping horse_id_list...\n"
     ]
    },
    {
     "data": {
      "application/vnd.jupyter.widget-view+json": {
       "model_id": "3039fdaaa34848b79a41be28ec7bc38a",
       "version_major": 2,
       "version_minor": 0
      },
      "text/plain": [
       "  0%|          | 0/24 [00:00<?, ?it/s]"
      ]
     },
     "metadata": {},
     "output_type": "display_data"
    }
   ],
   "source": [
    "prediction_population = create_prediction_population.create(kaisai_date=\"20240601\")"
   ]
  },
  {
   "cell_type": "code",
   "execution_count": 37,
   "id": "718df61a-78c2-4c10-b938-1e02be0a156d",
   "metadata": {},
   "outputs": [
    {
     "data": {
      "text/html": [
       "<div>\n",
       "<style scoped>\n",
       "    .dataframe tbody tr th:only-of-type {\n",
       "        vertical-align: middle;\n",
       "    }\n",
       "\n",
       "    .dataframe tbody tr th {\n",
       "        vertical-align: top;\n",
       "    }\n",
       "\n",
       "    .dataframe thead th {\n",
       "        text-align: right;\n",
       "    }\n",
       "</style>\n",
       "<table border=\"1\" class=\"dataframe\">\n",
       "  <thead>\n",
       "    <tr style=\"text-align: right;\">\n",
       "      <th></th>\n",
       "      <th>date</th>\n",
       "      <th>race_id</th>\n",
       "      <th>horse_id</th>\n",
       "    </tr>\n",
       "  </thead>\n",
       "  <tbody>\n",
       "    <tr>\n",
       "      <th>0</th>\n",
       "      <td>2024-06-01</td>\n",
       "      <td>202405030101</td>\n",
       "      <td>2019100108</td>\n",
       "    </tr>\n",
       "    <tr>\n",
       "      <th>1</th>\n",
       "      <td>2024-06-01</td>\n",
       "      <td>202405030101</td>\n",
       "      <td>2019104899</td>\n",
       "    </tr>\n",
       "    <tr>\n",
       "      <th>2</th>\n",
       "      <td>2024-06-01</td>\n",
       "      <td>202405030101</td>\n",
       "      <td>2016103092</td>\n",
       "    </tr>\n",
       "    <tr>\n",
       "      <th>3</th>\n",
       "      <td>2024-06-01</td>\n",
       "      <td>202405030101</td>\n",
       "      <td>2020102800</td>\n",
       "    </tr>\n",
       "    <tr>\n",
       "      <th>4</th>\n",
       "      <td>2024-06-01</td>\n",
       "      <td>202405030101</td>\n",
       "      <td>2019105143</td>\n",
       "    </tr>\n",
       "    <tr>\n",
       "      <th>...</th>\n",
       "      <td>...</td>\n",
       "      <td>...</td>\n",
       "      <td>...</td>\n",
       "    </tr>\n",
       "    <tr>\n",
       "      <th>9</th>\n",
       "      <td>2024-06-01</td>\n",
       "      <td>202408040112</td>\n",
       "      <td>2019104288</td>\n",
       "    </tr>\n",
       "    <tr>\n",
       "      <th>10</th>\n",
       "      <td>2024-06-01</td>\n",
       "      <td>202408040112</td>\n",
       "      <td>2018104208</td>\n",
       "    </tr>\n",
       "    <tr>\n",
       "      <th>11</th>\n",
       "      <td>2024-06-01</td>\n",
       "      <td>202408040112</td>\n",
       "      <td>2020104845</td>\n",
       "    </tr>\n",
       "    <tr>\n",
       "      <th>12</th>\n",
       "      <td>2024-06-01</td>\n",
       "      <td>202408040112</td>\n",
       "      <td>2021100161</td>\n",
       "    </tr>\n",
       "    <tr>\n",
       "      <th>13</th>\n",
       "      <td>2024-06-01</td>\n",
       "      <td>202408040112</td>\n",
       "      <td>2020101230</td>\n",
       "    </tr>\n",
       "  </tbody>\n",
       "</table>\n",
       "<p>328 rows × 3 columns</p>\n",
       "</div>"
      ],
      "text/plain": [
       "         date       race_id    horse_id\n",
       "0  2024-06-01  202405030101  2019100108\n",
       "1  2024-06-01  202405030101  2019104899\n",
       "2  2024-06-01  202405030101  2016103092\n",
       "3  2024-06-01  202405030101  2020102800\n",
       "4  2024-06-01  202405030101  2019105143\n",
       "..        ...           ...         ...\n",
       "9  2024-06-01  202408040112  2019104288\n",
       "10 2024-06-01  202408040112  2018104208\n",
       "11 2024-06-01  202408040112  2020104845\n",
       "12 2024-06-01  202408040112  2021100161\n",
       "13 2024-06-01  202408040112  2020101230\n",
       "\n",
       "[328 rows x 3 columns]"
      ]
     },
     "execution_count": 37,
     "metadata": {},
     "output_type": "execute_result"
    }
   ],
   "source": [
    "\n",
    "prediction_population "
   ]
  },
  {
   "cell_type": "markdown",
   "id": "750ede36-1c8c-4846-9913-cfd3f92d77c7",
   "metadata": {},
   "source": [
    "##　馬の過去成績の取得"
   ]
  },
  {
   "cell_type": "code",
   "execution_count": 38,
   "id": "a5c299bc-18b6-4895-b98a-f184d217f0d2",
   "metadata": {},
   "outputs": [
    {
     "data": {
      "application/vnd.jupyter.widget-view+json": {
       "model_id": "63c7506ba0f44da8845b0d73a5e3945f",
       "version_major": 2,
       "version_minor": 0
      },
      "text/plain": [
       "  0%|          | 0/328 [00:00<?, ?it/s]"
      ]
     },
     "metadata": {},
     "output_type": "display_data"
    }
   ],
   "source": [
    "html_path_horse = scraping.scrape_html_horse(\n",
    "    horse_id_list=prediction_population[\"horse_id\"].unique(),\n",
    "    skip=False,\n",
    ")"
   ]
  },
  {
   "cell_type": "code",
   "execution_count": 39,
   "id": "18c7b9ae-50ed-4976-aa69-f237a4874e70",
   "metadata": {},
   "outputs": [
    {
     "data": {
      "text/plain": [
       "328"
      ]
     },
     "execution_count": 39,
     "metadata": {},
     "output_type": "execute_result"
    }
   ],
   "source": [
    "len(html_path_horse)"
   ]
  },
  {
   "cell_type": "code",
   "execution_count": 40,
   "id": "6b51d3f9-850a-4b7a-a5fb-971f50a9e39d",
   "metadata": {},
   "outputs": [
    {
     "data": {
      "application/vnd.jupyter.widget-view+json": {
       "model_id": "2a0ce405f9d64990bd788b3928c43000",
       "version_major": 2,
       "version_minor": 0
      },
      "text/plain": [
       "  0%|          | 0/328 [00:00<?, ?it/s]"
      ]
     },
     "metadata": {},
     "output_type": "display_data"
    }
   ],
   "source": [
    "import create_rawdf\n",
    "\n",
    "horse_results_prediction = create_rawdf.create_horse_results(\n",
    "    html_path_list = html_path_horse,\n",
    "    save_filename = \"horse_results_prediction_prediction.csv\",\n",
    ")"
   ]
  },
  {
   "cell_type": "code",
   "execution_count": null,
   "id": "52ac84e9-033d-4e4c-8bcf-1a0bdbb3e838",
   "metadata": {},
   "outputs": [],
   "source": []
  }
 ],
 "metadata": {
  "kernelspec": {
   "display_name": "Python 3 (ipykernel)",
   "language": "python",
   "name": "python3"
  },
  "language_info": {
   "codemirror_mode": {
    "name": "ipython",
    "version": 3
   },
   "file_extension": ".py",
   "mimetype": "text/x-python",
   "name": "python",
   "nbconvert_exporter": "python",
   "pygments_lexer": "ipython3",
   "version": "3.11.8"
  }
 },
 "nbformat": 4,
 "nbformat_minor": 5
}
