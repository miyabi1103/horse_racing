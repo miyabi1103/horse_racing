import create_population_turf
import create_population

import create_population_turf_newbie
import create_population_turf_nowin
import create_population_obstract
import create_population_dirt
import create_population_dirt_newbie
import create_population_dirt_nowin
import preprocessing
from feature_engineering import FeatureCreator
from feature_engineering_prediction import PredictionFeatureCreator

import prediction


import pandas as pd



import condition_prediction

import odds_prediction

from train_lightgbm_time import Trainer_lightgbm_time
from train_lgbm_time_cross import Trainer_lightgbm_time_cv

from evaluation_lightgbm_time_kaiki import Evaluator_lightgbm_time_kaiki

from evaluation_shaft_time_kaiki_cross import Evaluator_lightgbm_time_kaiki_shaft

import json
from pathlib import Path


import re

import pandas as pd
import numpy as np
import ast

from pathlib import Path

COMMON_DATA_DIR = Path("..", "..","..", "common", "data")
POPULATION_DIR_NEW = COMMON_DATA_DIR / "prediction_population"
%load_ext autoreload


%autoreload


pd.set_option('display.max_columns', None)
pd.set_option('display.max_rows', 100)





COMMON_DATA_DIR = Path("..", "..", "common", "data")
RAWDF_DIR = COMMON_DATA_DIR / "rawdf"
MAPPING_DIR = COMMON_DATA_DIR / "mapping"
POPULATION_DIR = Path("..", "data", "00_population")
OUTPUT_DIR = Path("..", "data", "01_preprocessed")
OUTPUT_DIR.mkdir(exist_ok=True, parents=True)


POPULATION_DIR_NEW = COMMON_DATA_DIR / "prediction_population"

# カテゴリ変数を数値に変換するためのマッピング
with open(MAPPING_DIR / "sex.json", "r") as f:
    sex_mapping = json.load(f)
with open(MAPPING_DIR / "race_type.json", "r") as f:
    race_type_mapping = json.load(f)
with open(MAPPING_DIR / "around.json", "r") as f:
    around_mapping = json.load(f)
with open(MAPPING_DIR / "weather.json", "r") as f:
    weather_mapping = json.load(f)
with open(MAPPING_DIR / "ground_state.json", "r") as f:
    ground_state_mapping = json.load(f)
with open(MAPPING_DIR / "race_class.json", "r") as f:
    race_class_mapping = json.load(f)
with open(MAPPING_DIR / "place.json", "r") as f:
    place_mapping = json.load(f)
populaton_filename = "population_turf.csv"
    
population_dir = POPULATION_DIR
input_dir = RAWDF_DIR
output_dir = OUTPUT_DIR
input_filename = "race_info.csv"
output_filename = "race_info.csv"
race_type_mapping = race_type_mapping
around_mapping = around_mapping
weather_mapping = weather_mapping
ground_state_mapping = ground_state_mapping
race_class_mapping = race_class_mapping


population = pd.read_csv(population_dir / populaton_filename, sep="\t")

# df = pd.read_csv(input_dir / input_filename, sep="\t").query(
#     "race_id in @population['race_id']"
# )
# `race_id`のリストを作成
population_race_ids = population['race_id'].tolist()

# クエリでリストを直接使用
df = pd.read_csv(input_dir / input_filename, sep="\t").query(
    "race_id in @population_race_ids"
)

df



# evalで文字列型の列をリスト型に変換し、一時的な列を作成
df["tmp"] = df["info1"].map(lambda x: eval(x)[0])

# info1 列からコースの長さを取り出して tmp 列を作成
df["tmp2"] = df["info1"].map(lambda x: ast.literal_eval(x))

# tmp 列から距離の部分を抽出
def extract_course_len(info_list):
    for item in info_list:
        match = re.search(r"(\d+)m", item)
        if match:
            return match.group(1)  # マッチした数字部分を返す
    return None  # 該当がなければ None を返す

# コース長を新しい列に追加
df["course_len_1"] = df["tmp2"].apply(extract_course_len)
df["course_len_2"] = df["tmp2"].map(lambda x: x[1]).str.extract(r"(\d+)")
df["combined_course_len"] = df["course_len_1"].fillna(df["course_len_2"])


# ダートor芝or障害
df["race_type"] = df["tmp"].str[0].map(race_type_mapping)

# 右or左or直線
df["around"] = df["tmp"].str[1].map(around_mapping)

# 条件に基づいて course_type を設定
df["course_len_type"] = df["tmp"].apply(
    lambda x: 1 if "内" in str(x[2:3]) else 2 if "外" in str(x[2:3]) else 1
)

df["course_len"] = df["course_len_1"].fillna(df["course_len_2"])
# df["course_len"] = df["tmp"].str.extract(r"(\d+)")
# df["course_len"] = df["tmp"].str.extract(r"(\d+)(?=m)")


df["weather"] = df["info1"].str.extract(r"天候:(\w+)")[0].map(weather_mapping)
df["ground_state"] = (
    df["info1"].str.extract(r"(芝|ダート|障害):(\w+)")[1].map(ground_state_mapping)
)
df["date"] = pd.to_datetime(
    df["info2"].map(lambda x: eval(x)[0]), format="%Y年%m月%d日"
)
regex_race_class = "|".join(race_class_mapping)
df["race_class"] = (
    df["title"]
    .str.extract(rf"({regex_race_class})")
    # タイトルからレース階級情報が取れない場合はinfo2から取得
    .fillna(df["info2"].str.extract(rf"({regex_race_class})"))[0]
    .map(race_class_mapping)
)
df["place"] = df["race_id"].astype(str).str[4:6].astype(int)
df.dropna(subset=["place"], inplace=True)

df["course_type"] = df["place"].astype(str) + df["course_len"].astype(str) + df["course_len_type"].astype(str)


# 年、月、日をそれぞれ抽出
df["date_year"] = df["date"].dt.year
df["date_month"] = df["date"].dt.month
df["date_day"] = df["date"].dt.day


df



