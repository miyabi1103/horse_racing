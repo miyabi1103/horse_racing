{
 "cells": [
  {
   "cell_type": "markdown",
   "metadata": {},
   "source": [
    "# インポート"
   ]
  },
  {
   "cell_type": "code",
   "execution_count": 2,
   "metadata": {},
   "outputs": [],
   "source": [
    "import create_population_turf\n",
    "import create_population_turf_newbie\n",
    "import create_population_turf_nowin\n",
    "import create_population_obstract\n",
    "import create_population_dirt\n",
    "import create_population\n",
    "import create_population_dirt_newbie\n",
    "import create_population_dirt_nowin\n",
    "import preprocessing\n",
    "from feature_engineering import FeatureCreator\n",
    "\n",
    "\n",
    "import pandas as pd\n",
    "import numpy as np\n",
    "import race_grade_maker\n",
    "\n",
    "\n",
    "from train_lgbm_rank_niti_cross import Trainer_lightgbm_rank_niti_cv\n",
    "from train_lgbm_rank_niti_cross_in3 import Trainer_lightgbm_rank_niti_cv_in3\n",
    "\n",
    "from train_lightgbm_time import Trainer_lightgbm_time\n",
    "from train_lgbm_time_cross import Trainer_lightgbm_time_cv\n",
    "\n",
    "from evaluation_lightgbm_time_kaiki import Evaluator_lightgbm_time_kaiki\n",
    "\n",
    "from evaluation_shaft_time_kaiki_cross import Evaluator_lightgbm_time_kaiki_shaft\n",
    "\n",
    "from evaluation_lgbm_rank_niti_cross import Evaluator_lightgbm_rank_niti_cross\n",
    "from evaluation_shaft_rank_cross import Evaluator_lightgbm_rank_niti_shaft\n",
    "\n",
    "from evaluation_lgbm_rank_niti_cross_ex_value import Evaluator_lightgbm_rank_niti_cross_ex_value\n",
    "\n",
    "from evaluation_lgbm_rank_niti_cross_in3 import Evaluator_lightgbm_rank_niti_cross_in3\n",
    "\n",
    "%load_ext autoreload"
   ]
  },
  {
   "cell_type": "code",
   "execution_count": 3,
   "metadata": {},
   "outputs": [],
   "source": [
    "%autoreload"
   ]
  },
  {
   "cell_type": "code",
   "execution_count": 4,
   "metadata": {},
   "outputs": [],
   "source": [
    "pd.set_option('display.max_columns', None)\n",
    "pd.set_option('display.max_rows', 800)"
   ]
  },
  {
   "cell_type": "markdown",
   "metadata": {
    "jp-MarkdownHeadingCollapsed": true
   },
   "source": [
    "# 学習母集団の作成\n",
    "- ここで何年までのデータを使うか設定してください\n",
    "- 2016-01-01から、2024-11-30まではスクレイピングしてあります\n",
    "- 特徴量が多いため、あまり年月が嵩むと処理が止まる恐れがあります"
   ]
  },
  {
   "cell_type": "code",
   "execution_count": null,
   "metadata": {},
   "outputs": [],
   "source": [
    "# population_turf = create_population_turf.create(from_=\"2016-01-01\", to_=\"2023-12-31\")\n",
    "# population_turf = create_population_turf.create(from_=\"2020-01-01\", to_=\"2023-12-31\")\n",
    "# population_turf = create_population_turf.create(from_=\"2016-01-01\", to_=\"2023-12-31\")\n",
    "# population_turf = create_population_turf.create(from_=\"2023-01-01\", to_=\"2023-12-31\")\n",
    "population_turf = create_population_turf.create(from_=\"2016-01-01\", to_=\"2025-02-28\")\n",
    "population_turf"
   ]
  },
  {
   "cell_type": "code",
   "execution_count": null,
   "metadata": {},
   "outputs": [],
   "source": [
    "population_all = create_population.create(from_=\"2016-01-01\", to_=\"2025-02-28\")\n",
    "population_all"
   ]
  },
  {
   "cell_type": "code",
   "execution_count": null,
   "metadata": {
    "collapsed": true,
    "jupyter": {
     "outputs_hidden": true,
     "source_hidden": true
    }
   },
   "outputs": [],
   "source": [
    "# # population_turf_newbie = create_population_turf_newbie.create(from_=\"2016-01-01\", to_=\"2023-12-31\")\n",
    "# # population_turf_newbie = create_population_turf_newbie.create(from_=\"2020-01-01\", to_=\"2023-12-31\")\n",
    "# # population_turf_newbie = create_population_turf_newbie.create(from_=\"2016-01-01\", to_=\"2023-12-31\")\n",
    "# # population_turf_newbie = create_population_turf_newbie.create(from_=\"2023-01-01\", to_=\"2023-12-31\")\n",
    "# population_turf_newbie = create_population_turf_newbie.create(from_=\"2016-01-01\", to_=\"2024-12-31\")\n",
    "# population_turf_newbie"
   ]
  },
  {
   "cell_type": "code",
   "execution_count": null,
   "metadata": {},
   "outputs": [],
   "source": [
    "# population_turf_nowin = create_population_turf_nowin.create(from_=\"2016-01-01\", to_=\"2023-12-31\")\n",
    "# population_turf_nowin = create_population_turf_nowin.create(from_=\"2020-01-01\", to_=\"2023-12-31\")\n",
    "# population_turf_nowin = create_population_turf_nowin.create(from_=\"2016-01-01\", to_=\"2023-12-31\")\n",
    "# population_turf_nowin = create_population_turf_nowin.create(from_=\"2023-01-01\", to_=\"2023-12-31\")\n",
    "population_turf_nowin = create_population_turf_nowin.create(from_=\"2016-01-01\", to_=\"2025-02-28\")\n",
    "population_turf_nowin"
   ]
  },
  {
   "cell_type": "code",
   "execution_count": null,
   "metadata": {
    "collapsed": true,
    "jupyter": {
     "outputs_hidden": true,
     "source_hidden": true
    }
   },
   "outputs": [],
   "source": [
    "# # population_dirt_newbie = create_population_dirt_newbie.create(from_=\"2016-01-01\", to_=\"2023-12-31\")\n",
    "# # population_dirt_newbie = create_population_dirt_newbie.create(from_=\"2020-01-01\", to_=\"2023-12-31\")\n",
    "# # population_dirt_newbie = create_population_dirt_newbie.create(from_=\"2016-01-01\", to_=\"2023-12-31\")\n",
    "# # population_dirt_newbie = create_population_dirt_newbie.create(from_=\"2023-01-01\", to_=\"2023-12-31\")\n",
    "# population_dirt_newbie = create_population_dirt_newbie.create(from_=\"2016-01-01\",to_=\"2024-12-31\")\n",
    "# population_dirt_newbie"
   ]
  },
  {
   "cell_type": "code",
   "execution_count": null,
   "metadata": {},
   "outputs": [],
   "source": [
    "# population_dirt_nowin = create_population_dirt_nowin.create(from_=\"2016-01-01\", to_=\"2023-12-31\")\n",
    "# population_dirt_nowin = create_population_dirt_nowin.create(from_=\"2020-01-01\", to_=\"2023-12-31\")\n",
    "# population_dirt_nowin = create_population_dirt_nowin.create(from_=\"2016-01-01\", to_=\"2023-12-31\")\n",
    "# population_dirt_nowin = create_population_dirt_nowin.create(from_=\"2023-01-01\", to_=\"2023-12-31\")\n",
    "population_dirt_nowin = create_population_dirt_nowin.create(from_=\"2016-01-01\", to_=\"2025-02-28\")\n",
    "population_dirt_nowin"
   ]
  },
  {
   "cell_type": "code",
   "execution_count": null,
   "metadata": {},
   "outputs": [],
   "source": [
    "# population_dirt_nowin = create_population_dirt_nowin.create(from_=\"2016-01-01\", to_=\"2023-12-31\")\n",
    "# population_dirt_nowin = create_population_dirt_nowin.create(from_=\"2020-01-01\", to_=\"2023-12-31\")\n",
    "# population_dirt_nowin = create_population_dirt_nowin.create(from_=\"2016-01-01\", to_=\"2023-12-31\")\n",
    "# population_dirt_nowin = create_population_dirt_nowin.create(from_=\"2023-01-01\", to_=\"2023-12-31\")\n",
    "population_dirt = create_population_dirt.create(from_=\"2016-01-01\",  to_=\"2025-02-28\")\n",
    "population_dirt"
   ]
  },
  {
   "cell_type": "code",
   "execution_count": null,
   "metadata": {},
   "outputs": [],
   "source": [
    "# population_obstract = create_population_obstract.create(from_=\"2016-01-01\", to_=\"2023-12-31\")\n",
    "# population_obstract = create_population_obstract.create(from_=\"2020-01-01\", to_=\"2023-12-31\")\n",
    "# population_obstract = create_population_obstract.create(from_=\"2016-01-01\", to_=\"2023-12-31\")\n",
    "# population_obstract = create_population_obstract.create(from_=\"2023-01-01\", to_=\"2023-12-31\")\n",
    "population_obstract = create_population_obstract.create(from_=\"2016-01-01\",  to_=\"2025-02-28\")\n",
    "population_obstract"
   ]
  },
  {
   "cell_type": "code",
   "execution_count": null,
   "metadata": {
    "collapsed": true,
    "jupyter": {
     "outputs_hidden": true,
     "source_hidden": true
    }
   },
   "outputs": [],
   "source": [
    "# population_dirt_newbie = create_population_dirt_newbie.create(from_=\"2016-01-01\", to_=\"2023-12-31\")\n",
    "# population_dirt_newbie = create_population_dirt_newbie.create(from_=\"2020-01-01\", to_=\"2023-12-31\")\n",
    "# population_dirt_newbie = create_population_dirt_newbie.create(from_=\"2016-01-01\", to_=\"2023-12-31\")\n",
    "# population_dirt_newbie = create_population_dirt_newbie.create(from_=\"2023-01-01\", to_=\"2023-12-31\")\n",
    "population_dirt = create_population_dirt.create(from_=\"2016-01-01\",to_=\"2024-12-31\")\n",
    "population_dirt"
   ]
  },
  {
   "cell_type": "code",
   "execution_count": null,
   "metadata": {},
   "outputs": [],
   "source": []
  },
  {
   "cell_type": "code",
   "execution_count": null,
   "metadata": {},
   "outputs": [],
   "source": []
  },
  {
   "cell_type": "code",
   "execution_count": null,
   "metadata": {
    "collapsed": true,
    "jupyter": {
     "outputs_hidden": true
    }
   },
   "outputs": [],
   "source": []
  },
  {
   "cell_type": "markdown",
   "metadata": {},
   "source": [
    "# データ加工"
   ]
  },
  {
   "cell_type": "code",
   "execution_count": null,
   "metadata": {},
   "outputs": [],
   "source": [
    "#まとめて実行_turf\n",
    "# レース結果テーブルの前処理\n",
    "results_preprocessed_turf = preprocessing.process_results(\n",
    "    populaton_filename = \"population_turf.csv\",\n",
    "    output_filename = \"results_turf.csv\",\n",
    ")\n",
    "# 馬の過去成績テーブルの加工\n",
    "horse_results_preprocessed_turf = preprocessing.process_horse_results(\n",
    "    populaton_filename = \"population_turf.csv\",\n",
    "    output_filename = \"horse_results_turf.csv\",    \n",
    ")\n",
    "# レース情報テーブルの前処理\n",
    "race_info_preprocessed_turf = preprocessing.process_race_info(\n",
    "    populaton_filename = \"population_turf.csv\",\n",
    "    output_filename = \"race_info_turf_before.csv\",       \n",
    ")\n",
    "# 騎手リーディングテーブルの前処理\n",
    "jockey_leading_preprocessed = preprocessing.process_jockey_leading()\n",
    "# 調教師リーディングテーブルの前処理\n",
    "trainer_leading_preprocessed = preprocessing.process_trainer_leading()\n",
    "# 血統テーブルの前処理\n",
    "peds_preprocessed = preprocessing.process_peds(\n",
    "    populaton_filename = \"population_turf.csv\",  \n",
    "    output_filename= \"peds_turf.csv\",    \n",
    ")\n",
    "# 種牡馬リーディングテーブルの前処理\n",
    "sire_leading_preprocessed = preprocessing.process_sire_leading()\n",
    "bms_leading_preprocessed = preprocessing.process_sire_leading(\n",
    "    input_filename=\"bms_leading.csv\",\n",
    "    output_filename = \"bms_leading.csv\",\n",
    "    id_col = \"bms_id\",\n",
    ")\n",
    "# 払い戻しテーブルの前処理_２度目をするならcsvファイルを消さないとダメ\n",
    "return_tables_preprocessed_turf = preprocessing.process_return_tables(\n",
    "    populaton_filename = \"population_turf.csv\",\n",
    "    output_filename = \"return_tables_turf.pickle\",    \n",
    ")"
   ]
  },
  {
   "cell_type": "code",
   "execution_count": null,
   "metadata": {},
   "outputs": [],
   "source": [
    "# 重複チェック\n",
    "results_preprocessed_turf.duplicated(subset=[\"race_id\", \"horse_id\"]).sum()"
   ]
  },
  {
   "cell_type": "code",
   "execution_count": null,
   "metadata": {},
   "outputs": [],
   "source": [
    "# 欠損チェック\n",
    "results_preprocessed_turf.isnull().sum()"
   ]
  },
  {
   "cell_type": "code",
   "execution_count": null,
   "metadata": {},
   "outputs": [],
   "source": [
    "# 欠損チェック\n",
    "horse_results_preprocessed_turf.isnull().sum()"
   ]
  },
  {
   "cell_type": "code",
   "execution_count": null,
   "metadata": {},
   "outputs": [],
   "source": [
    "# 重複チェック\n",
    "horse_results_preprocessed_turf.duplicated(subset=[\"horse_id\", \"date\"]).sum()"
   ]
  },
  {
   "cell_type": "code",
   "execution_count": null,
   "metadata": {},
   "outputs": [],
   "source": []
  },
  {
   "cell_type": "code",
   "execution_count": null,
   "metadata": {
    "collapsed": true,
    "jupyter": {
     "outputs_hidden": true,
     "source_hidden": true
    }
   },
   "outputs": [],
   "source": [
    "from pathlib import Path\n",
    "from tqdm.notebook import tqdm\n",
    "import json\n",
    "import re\n",
    "from pathlib import Path\n",
    "\n",
    "import numpy as np\n",
    "import pandas as pd\n",
    "from bs4 import BeautifulSoup\n",
    "from selenium import webdriver\n",
    "from selenium.webdriver.chrome.options import Options\n",
    "from selenium.webdriver.chrome.service import Service\n",
    "from tqdm.notebook import tqdm\n",
    "from webdriver_manager.chrome import ChromeDriverManager\n",
    "from io import StringIO \n",
    "\n",
    "DATA_DIR = Path(\"..\", \"data\")\n",
    "POPULATION_DIR = DATA_DIR / \"00_population\"\n",
    "INPUT_DIR = DATA_DIR / \"01_preprocessed\"\n",
    "OUTPUT_DIR = DATA_DIR / \"02_features\"\n",
    "OUTPUT_INFO_DIR = Path(\"..\", \"data\", \"01_preprocessed\")\n",
    "\n",
    "OUTPUT_DIR.mkdir(exist_ok=True, parents=True)\n",
    "output_dir_info: Path = OUTPUT_INFO_DIR  # カンマを削除\n",
    "output_filename_info: str = \"race_info_turf.csv\"\n",
    "\n",
    "features_s = pd.read_csv(output_dir_info / output_filename_info, sep=\"\\t\")\n",
    "\n",
    "features_s.head(100)"
   ]
  },
  {
   "cell_type": "code",
   "execution_count": null,
   "metadata": {},
   "outputs": [],
   "source": []
  },
  {
   "cell_type": "code",
   "execution_count": null,
   "metadata": {},
   "outputs": [],
   "source": []
  },
  {
   "cell_type": "code",
   "execution_count": null,
   "metadata": {
    "jupyter": {
     "source_hidden": true
    }
   },
   "outputs": [],
   "source": [
    "# #まとめて実行_turf_newbie\n",
    "# # レース結果テーブルの前処理\n",
    "# results_preprocessed_turf_newbie = preprocessing.process_results(\n",
    "#     populaton_filename = \"population_turf_newbie.csv\",\n",
    "#     output_filename = \"results_turf_newbie.csv\",\n",
    "# )\n",
    "# # 馬の過去成績テーブルの加工\n",
    "# horse_results_preprocessed_turf_newbie = preprocessing.process_horse_results(\n",
    "#     populaton_filename = \"population_turf_newbie.csv\",\n",
    "#     output_filename = \"horse_results_turf_newbie.csv\",    \n",
    "# )\n",
    "# # レース情報テーブルの前処理\n",
    "# race_info_preprocessed_turf_newbie = preprocessing.process_race_info(\n",
    "#     populaton_filename = \"population_turf_newbie.csv\",\n",
    "#     output_filename = \"race_info_turf_newbie.csv\",       \n",
    "# )\n",
    "# # 騎手リーディングテーブルの前処理\n",
    "# jockey_leading_preprocessed = preprocessing.process_jockey_leading()\n",
    "# # 調教師リーディングテーブルの前処理\n",
    "# trainer_leading_preprocessed = preprocessing.process_trainer_leading()\n",
    "# # 血統テーブルの前処理\n",
    "# peds_preprocessed = preprocessing.process_peds(\n",
    "#     populaton_filename = \"population_turf_newbie.csv\", \n",
    "#     output_filename= \"peds_turf_newbie.csv\",    \n",
    "# )\n",
    "# # 種牡馬リーディングテーブルの前処理\n",
    "# sire_leading_preprocessed = preprocessing.process_sire_leading()\n",
    "# bms_leading_preprocessed = preprocessing.process_sire_leading(\n",
    "#     input_filename=\"bms_leading.csv\",\n",
    "#     output_filename = \"bms_leading.csv\",\n",
    "#     id_col = \"bms_id\",\n",
    "# )\n",
    "# # 払い戻しテーブルの前処理_２度目をするならcsvファイルを消さないとダメ\n",
    "# return_tables_preprocessed_turf_newbie = preprocessing.process_return_tables(\n",
    "#     populaton_filename = \"population_turf_newbie.csv\",\n",
    "#     output_filename = \"return_tables_turf_newbie.pickle\",\n",
    "# )"
   ]
  },
  {
   "cell_type": "code",
   "execution_count": null,
   "metadata": {},
   "outputs": [],
   "source": [
    "#まとめて実行_turf_nowin\n",
    "# レース結果テーブルの前処理\n",
    "results_preprocessed_turf_nowin = preprocessing.process_results(\n",
    "    populaton_filename = \"population_turf_nowin.csv\",\n",
    "    output_filename = \"results_turf_nowin.csv\",\n",
    ")\n",
    "# 馬の過去成績テーブルの加工\n",
    "horse_results_preprocessed_turf_nowin = preprocessing.process_horse_results(\n",
    "    populaton_filename = \"population_turf_nowin.csv\",\n",
    "    output_filename = \"horse_results_turf_nowin.csv\",    \n",
    ")\n",
    "# レース情報テーブルの前処理\n",
    "race_info_preprocessed_turf_nowin = preprocessing.process_race_info(\n",
    "    populaton_filename = \"population_turf_nowin.csv\",\n",
    "    output_filename = \"race_info_turf_nowin_before.csv\",       \n",
    ")\n",
    "# 騎手リーディングテーブルの前処理\n",
    "jockey_leading_preprocessed = preprocessing.process_jockey_leading()\n",
    "# 調教師リーディングテーブルの前処理\n",
    "trainer_leading_preprocessed = preprocessing.process_trainer_leading()\n",
    "# 血統テーブルの前処理\n",
    "peds_preprocessed = preprocessing.process_peds(\n",
    "    populaton_filename = \"population_turf_nowin.csv\",    \n",
    "    output_filename= \"peds_turf_nowin.csv\",    \n",
    ")\n",
    "# 種牡馬リーディングテーブルの前処理\n",
    "sire_leading_preprocessed = preprocessing.process_sire_leading()\n",
    "bms_leading_preprocessed = preprocessing.process_sire_leading(\n",
    "    input_filename=\"bms_leading.csv\",\n",
    "    output_filename = \"bms_leading.csv\",\n",
    "    id_col = \"bms_id\",\n",
    ")\n",
    "# 払い戻しテーブルの前処理_２度目をするならcsvファイルを消さないとダメ\n",
    "return_tables_preprocessed_turf_nowin = preprocessing.process_return_tables(\n",
    "    populaton_filename = \"population_turf_nowin.csv\",\n",
    "    output_filename = \"return_tables_turf_nowin.pickle\",    \n",
    ") \n",
    "\n"
   ]
  },
  {
   "cell_type": "code",
   "execution_count": null,
   "metadata": {},
   "outputs": [],
   "source": []
  },
  {
   "cell_type": "code",
   "execution_count": null,
   "metadata": {},
   "outputs": [],
   "source": [
    "#まとめて実行_dirt\n",
    "# レース結果テーブルの前処理\n",
    "results_preprocessed_dirt = preprocessing.process_results(\n",
    "    populaton_filename = \"population_dirt.csv\",\n",
    "    output_filename = \"results_dirt.csv\",\n",
    ")\n",
    "# 馬の過去成績テーブルの加工\n",
    "horse_results_preprocessed_dirt = preprocessing.process_horse_results(\n",
    "    populaton_filename = \"population_dirt.csv\",\n",
    "    output_filename = \"horse_results_dirt.csv\",    \n",
    ")\n",
    "# レース情報テーブルの前処理\n",
    "race_info_preprocessed_dirt = preprocessing.process_race_info(\n",
    "    populaton_filename = \"population_dirt.csv\",\n",
    "    output_filename = \"race_info_dirt_before.csv\",       \n",
    ")\n",
    "# 騎手リーディングテーブルの前処理\n",
    "jockey_leading_preprocessed = preprocessing.process_jockey_leading()\n",
    "# 調教師リーディングテーブルの前処理\n",
    "trainer_leading_preprocessed = preprocessing.process_trainer_leading()\n",
    "# 血統テーブルの前処理\n",
    "peds_preprocessed = preprocessing.process_peds(\n",
    "    populaton_filename = \"population_dirt.csv\",  \n",
    "    output_filename= \"peds_dirt.csv\",  \n",
    ")\n",
    "# 種牡馬リーディングテーブルの前処理\n",
    "sire_leading_preprocessed = preprocessing.process_sire_leading()\n",
    "bms_leading_preprocessed = preprocessing.process_sire_leading(\n",
    "    input_filename=\"bms_leading.csv\",\n",
    "    output_filename = \"bms_leading.csv\",\n",
    "    id_col = \"bms_id\",\n",
    ")\n",
    "# 払い戻しテーブルの前処理_２度目をするならcsvファイルを消さないとダメ\n",
    "return_tables_preprocessed_dirt = preprocessing.process_return_tables(\n",
    "    populaton_filename = \"population_dirt.csv\",\n",
    "    output_filename = \"return_tables_dirt.pickle\",    \n",
    ") \n",
    "\n"
   ]
  },
  {
   "cell_type": "code",
   "execution_count": null,
   "metadata": {
    "jupyter": {
     "source_hidden": true
    }
   },
   "outputs": [],
   "source": [
    "# #まとめて実行_dirt_newbie\n",
    "# # レース結果テーブルの前処理\n",
    "# results_preprocessed_dirt_newbie = preprocessing.process_results(\n",
    "#     populaton_filename = \"population_dirt_newbie.csv\",\n",
    "#     output_filename = \"results_dirt_newbie.csv\",\n",
    "# )\n",
    "# # 馬の過去成績テーブルの加工\n",
    "# horse_results_preprocessed_dirt_newbie = preprocessing.process_horse_results(\n",
    "#     populaton_filename = \"population_dirt_newbie.csv\",\n",
    "#     output_filename = \"horse_results_dirt_newbie.csv\",    \n",
    "# )\n",
    "# # レース情報テーブルの前処理\n",
    "# race_info_preprocessed_dirt_newbie = preprocessing.process_race_info(\n",
    "#     populaton_filename = \"population_dirt_newbie.csv\",\n",
    "#     output_filename = \"race_info_dirt_newbie.csv\",       \n",
    "# )\n",
    "# # 騎手リーディングテーブルの前処理\n",
    "# jockey_leading_preprocessed = preprocessing.process_jockey_leading()\n",
    "# # 調教師リーディングテーブルの前処理\n",
    "# trainer_leading_preprocessed = preprocessing.process_trainer_leading()\n",
    "# # 血統テーブルの前処理\n",
    "# peds_preprocessed = preprocessing.process_peds(\n",
    "#     populaton_filename = \"population_dirt_newbie.csv\",  \n",
    "#     output_filename= \"peds_dirt_newbie.csv\",  \n",
    "# )\n",
    "# # 種牡馬リーディングテーブルの前処理\n",
    "# sire_leading_preprocessed = preprocessing.process_sire_leading()\n",
    "# bms_leading_preprocessed = preprocessing.process_sire_leading(\n",
    "#     input_filename=\"bms_leading.csv\",\n",
    "#     output_filename = \"bms_leading.csv\",\n",
    "#     id_col = \"bms_id\",\n",
    "# )\n",
    "# # 払い戻しテーブルの前処理_２度目をするならcsvファイルを消さないとダメ\n",
    "# return_tables_preprocessed_dirt_newbie = preprocessing.process_return_tables(\n",
    "#     populaton_filename = \"population_dirt_newbie.csv\",\n",
    "#     output_filename = \"return_tables_dirt_newbie.pickle\",    \n",
    "# ) \n",
    "\n"
   ]
  },
  {
   "cell_type": "code",
   "execution_count": null,
   "metadata": {},
   "outputs": [],
   "source": [
    "#まとめて実行_dirt_nowin\n",
    "# レース結果テーブルの前処理\n",
    "results_preprocessed_dirt_nowin = preprocessing.process_results(\n",
    "    populaton_filename = \"population_dirt_nowin.csv\",\n",
    "    output_filename = \"results_dirt_nowin.csv\",\n",
    ")\n",
    "# 馬の過去成績テーブルの加工\n",
    "horse_results_preprocessed_dirt_nowin = preprocessing.process_horse_results(\n",
    "    populaton_filename = \"population_dirt_nowin.csv\",\n",
    "    output_filename = \"horse_results_dirt_nowin.csv\",    \n",
    ")\n",
    "# レース情報テーブルの前処理\n",
    "race_info_preprocessed_dirt_nowin = preprocessing.process_race_info(\n",
    "    populaton_filename = \"population_dirt_nowin.csv\",\n",
    "    output_filename = \"race_info_dirt_nowin_before.csv\",       \n",
    ")\n",
    "# 騎手リーディングテーブルの前処理\n",
    "jockey_leading_preprocessed = preprocessing.process_jockey_leading()\n",
    "# 調教師リーディングテーブルの前処理\n",
    "trainer_leading_preprocessed = preprocessing.process_trainer_leading()\n",
    "# 血統テーブルの前処理\n",
    "peds_preprocessed = preprocessing.process_peds(\n",
    "    populaton_filename = \"population_dirt_nowin.csv\",  \n",
    "    output_filename= \"peds_dirt_nowin.csv\",  \n",
    ")\n",
    "# 種牡馬リーディングテーブルの前処理\n",
    "sire_leading_preprocessed = preprocessing.process_sire_leading()\n",
    "bms_leading_preprocessed = preprocessing.process_sire_leading(\n",
    "    input_filename=\"bms_leading.csv\",\n",
    "    output_filename = \"bms_leading.csv\",\n",
    "    id_col = \"bms_id\",\n",
    ")\n",
    "# 払い戻しテーブルの前処理_２度目をするならcsvファイルを消さないとダメ\n",
    "return_tables_preprocessed_dirt_nowin = preprocessing.process_return_tables(\n",
    "    populaton_filename = \"population_dirt_nowin.csv\",\n",
    "    output_filename = \"return_tables_dirt_nowin.pickle\",    \n",
    ") \n",
    "\n"
   ]
  },
  {
   "cell_type": "code",
   "execution_count": null,
   "metadata": {},
   "outputs": [],
   "source": [
    "#まとめて実行_obstract\n",
    "# レース結果テーブルの前処理\n",
    "results_preprocessed_obstract = preprocessing.process_results(\n",
    "    populaton_filename = \"population_obstract.csv\",\n",
    "    output_filename = \"results_obstract.csv\",\n",
    ")\n",
    "# 馬の過去成績テーブルの加工\n",
    "horse_results_preprocessed_obstract = preprocessing.process_horse_results(\n",
    "    populaton_filename = \"population_obstract.csv\",\n",
    "    output_filename = \"horse_results_obstract.csv\",    \n",
    ")\n",
    "# レース情報テーブルの前処理\n",
    "race_info_preprocessed_obstract = preprocessing.process_race_info(\n",
    "    populaton_filename = \"population_obstract.csv\",\n",
    "    output_filename = \"race_info_obstract_before.csv\",       \n",
    ")\n",
    "# 騎手リーディングテーブルの前処理\n",
    "jockey_leading_preprocessed = preprocessing.process_jockey_leading()\n",
    "# 調教師リーディングテーブルの前処理\n",
    "trainer_leading_preprocessed = preprocessing.process_trainer_leading()\n",
    "# 血統テーブルの前処理\n",
    "peds_preprocessed = preprocessing.process_peds(\n",
    "    populaton_filename = \"population_obstract.csv\",  \n",
    "    output_filename= \"peds_obstract.csv\",  \n",
    ")\n",
    "# 種牡馬リーディングテーブルの前処理\n",
    "sire_leading_preprocessed = preprocessing.process_sire_leading()\n",
    "bms_leading_preprocessed = preprocessing.process_sire_leading(\n",
    "    input_filename=\"bms_leading.csv\",\n",
    "    output_filename = \"bms_leading.csv\",\n",
    "    id_col = \"bms_id\",\n",
    ")\n",
    "# 払い戻しテーブルの前処理_２度目をするならcsvファイルを消さないとダメ\n",
    "return_tables_preprocessed_obstract = preprocessing.process_return_tables(\n",
    "    populaton_filename = \"population_obstract.csv\",\n",
    "    output_filename = \"return_tables_obstract.pickle\",    \n",
    ") \n",
    "\n"
   ]
  },
  {
   "cell_type": "code",
   "execution_count": null,
   "metadata": {},
   "outputs": [],
   "source": []
  },
  {
   "cell_type": "code",
   "execution_count": null,
   "metadata": {},
   "outputs": [],
   "source": [
    "#まとめて実行_all\n",
    "# レース結果テーブルの前処理\n",
    "results_preprocessed_all = preprocessing.process_results(\n",
    "    populaton_filename = \"population_all.csv\",\n",
    "    output_filename = \"results_all.csv\",\n",
    ")\n",
    "# 馬の過去成績テーブルの加工\n",
    "horse_results_preprocessed_all = preprocessing.process_horse_results(\n",
    "    populaton_filename = \"population_all.csv\",\n",
    "    output_filename = \"horse_results_all.csv\",    \n",
    ")\n",
    "# レース情報テーブルの前処理\n",
    "race_info_preprocessed_all = preprocessing.process_race_info(\n",
    "    populaton_filename = \"population_all.csv\",\n",
    "    output_filename = \"race_info_all_before.csv\",       \n",
    ")\n",
    "# 騎手リーディングテーブルの前処理\n",
    "jockey_leading_preprocessed = preprocessing.process_jockey_leading()\n",
    "# 調教師リーディングテーブルの前処理\n",
    "trainer_leading_preprocessed = preprocessing.process_trainer_leading()\n",
    "# 血統テーブルの前処理\n",
    "peds_preprocessed = preprocessing.process_peds(\n",
    "    populaton_filename = \"population_all.csv\",  \n",
    "    output_filename= \"peds_all.csv\",    \n",
    ")\n",
    "# 払い戻しテーブルの前処理_２度目をするならcsvファイルを消さないとダメ\n",
    "return_tables_preprocessed_all = preprocessing.process_return_tables(\n",
    "    populaton_filename = \"population_all.csv\",\n",
    "    output_filename = \"return_tables_all.pickle\",    \n",
    ")\n",
    "\n"
   ]
  },
  {
   "cell_type": "code",
   "execution_count": null,
   "metadata": {},
   "outputs": [],
   "source": [
    "fc_grade = race_grade_maker.create_race_grade(\n",
    "    poplation_filename=\"population_all.csv\",\n",
    "    results_filename=\"results_all.csv\",\n",
    "    race_info_filename=\"race_info_all_before.csv\",\n",
    "    # peds_filename = \"peds_all.csv\",\n",
    "    output_filename_info = \"race_info_all.csv\",\n",
    ")\n",
    "fc_grade = race_grade_maker.create_race_grade(\n",
    "    poplation_filename=\"population_turf.csv\",\n",
    "    results_filename=\"results_turf.csv\",\n",
    "    race_info_filename=\"race_info_turf_before.csv\",\n",
    "    # peds_filename = \"peds_all.csv\",\n",
    "    output_filename_info = \"race_info_turf.csv\",\n",
    ")\n",
    "fc_grade = race_grade_maker.create_race_grade(\n",
    "    poplation_filename=\"population_dirt.csv\",\n",
    "    results_filename=\"results_dirt.csv\",\n",
    "    race_info_filename=\"race_info_dirt_before.csv\",\n",
    "    # peds_filename = \"peds_all.csv\",\n",
    "    output_filename_info = \"race_info_dirt.csv\",\n",
    ")\n",
    "fc_grade = race_grade_maker.create_race_grade(\n",
    "    poplation_filename=\"population_turf_nowin.csv\",\n",
    "    results_filename=\"results_turf_nowin.csv\",\n",
    "    race_info_filename=\"race_info_turf_nowin_before.csv\",\n",
    "    # peds_filename = \"peds_all.csv\",\n",
    "    output_filename_info = \"race_info_turf_nowin.csv\",\n",
    ")\n",
    "fc_grade = race_grade_maker.create_race_grade(\n",
    "    poplation_filename=\"population_dirt_nowin.csv\",\n",
    "    results_filename=\"results_dirt_nowin.csv\",\n",
    "    race_info_filename=\"race_info_dirt_nowin_before.csv\",\n",
    "    # peds_filename = \"peds_all.csv\",\n",
    "    output_filename_info = \"race_info_dirt_nowin.csv\",\n",
    ")\n",
    "fc_grade = race_grade_maker.create_race_grade(\n",
    "    poplation_filename=\"population_obstract.csv\",\n",
    "    results_filename=\"results_obstract.csv\",\n",
    "    race_info_filename=\"race_info_obstract_before.csv\",\n",
    "    # peds_filename = \"peds_all.csv\",\n",
    "    output_filename_info = \"race_info_obstract.csv\",\n",
    ")"
   ]
  },
  {
   "cell_type": "code",
   "execution_count": null,
   "metadata": {},
   "outputs": [],
   "source": []
  },
  {
   "cell_type": "code",
   "execution_count": null,
   "metadata": {
    "collapsed": true,
    "jupyter": {
     "outputs_hidden": true,
     "source_hidden": true
    }
   },
   "outputs": [],
   "source": [
    "# horse_results_preprocessed_turf"
   ]
  },
  {
   "cell_type": "code",
   "execution_count": null,
   "metadata": {
    "collapsed": true,
    "jupyter": {
     "outputs_hidden": true
    }
   },
   "outputs": [],
   "source": [
    "print(race_info_preprocessed_all.dtypes)"
   ]
  },
  {
   "cell_type": "code",
   "execution_count": null,
   "metadata": {},
   "outputs": [],
   "source": []
  },
  {
   "cell_type": "code",
   "execution_count": null,
   "metadata": {},
   "outputs": [],
   "source": []
  },
  {
   "cell_type": "markdown",
   "metadata": {},
   "source": [
    "#  特徴量作成"
   ]
  },
  {
   "cell_type": "code",
   "execution_count": null,
   "metadata": {},
   "outputs": [],
   "source": [
    "#_turfの特徴量作成\n",
    "fc_turf = FeatureCreator(\n",
    "    poplation_filename=\"population_turf.csv\",\n",
    "    results_filename=\"results_turf.csv\",\n",
    "    race_info_filename=\"race_info_turf.csv\",\n",
    "    horse_results_filename=\"horse_results_turf.csv\",\n",
    "    output_filename = \"features_turf.csv\",\n",
    "    peds_filename = \"peds_turf.csv\",\n",
    "    output_filename_info = \"race_info_turf.csv\",\n",
    "    \n",
    "    poplation_all_filename = \"population_turf.csv\",    \n",
    "    results_all_filename = \"results_turf.csv\",\n",
    "    race_info_all_filename = \"race_info_turf.csv\",\n",
    "    horse_results_all_filename = \"horse_results_turf.csv\",  \n",
    "    peds_all_filename = \"peds_turf.csv\",  \n",
    ")\n",
    "features_turf = fc_turf.create_features()"
   ]
  },
  {
   "cell_type": "code",
   "execution_count": null,
   "metadata": {},
   "outputs": [],
   "source": [
    "# 重複チェック\n",
    "features_turf.duplicated(subset=[\"race_id\", \"horse_id\"]).sum()"
   ]
  },
  {
   "cell_type": "code",
   "execution_count": null,
   "metadata": {},
   "outputs": [],
   "source": [
    "#特徴量を変更した場合に実行、\"config_lightgbm_niti_new.yaml\"に特徴量リストが入る\n",
    "list(features_turf.columns)\n",
    "import yaml\n",
    "feature_cols = {\n",
    "    \"features\": features_turf.columns.drop(\n",
    "        [\"date\",\"rank\",\"rank_per_horse\",\"time\",\"nobori\",\"corner_1\",\"corner_2\",\"corner_3\",\"corner_4\",\n",
    "                        \"corner_1_per_horse\",\"corner_2_per_horse\",\n",
    "                        \"corner_3_per_horse\",\n",
    "                        \"corner_4_per_horse\", \"owner_id\"]\n",
    "    ).to_list()\n",
    "}\n",
    "print(feature_cols)\n",
    "with open(\"config_lightgbm_niti_new.yaml\",\"w\") as file:\n",
    "    yaml.dump(feature_cols,file\n",
    "              )\n",
    "                        #     'time_diff_sp',\n",
    "                        # 'nobori_diff_sp',\n",
    "                        # 'time_points_course_index',\n",
    "                        # 'nobori_points_course_index',\n",
    "                        # 'time_points_impost',\n",
    "                        # 'nobori_points_impost',\n",
    "                        # 'time_diff_grade',\n",
    "                        # 'nobori_diff_grade',\n",
    "                        # 'time_points_grade_index',\n",
    "                        # 'nobori_points_grade_index',\n",
    "                        # 'time_condition_index',\n",
    "                        # 'nobori_condition_index',\n",
    "                        # 'speed_index',\n",
    "                        # 'nobori_index',"
   ]
  },
  {
   "cell_type": "code",
   "execution_count": null,
   "metadata": {
    "collapsed": true,
    "jupyter": {
     "outputs_hidden": true
    }
   },
   "outputs": [],
   "source": [
    "features_turf.head(100)"
   ]
  },
  {
   "cell_type": "code",
   "execution_count": null,
   "metadata": {
    "collapsed": true,
    "jupyter": {
     "outputs_hidden": true
    }
   },
   "outputs": [],
   "source": [
    "features_dirt.head(100)"
   ]
  },
  {
   "cell_type": "code",
   "execution_count": null,
   "metadata": {},
   "outputs": [],
   "source": [
    "#もしもカーネルがリセットした場合、ここからfeatureをとる\n",
    "features_turf = pd.read_csv(\"../data/02_features/features_turf.csv\", sep=\"\\t\")"
   ]
  },
  {
   "cell_type": "code",
   "execution_count": null,
   "metadata": {},
   "outputs": [],
   "source": [
    "#もしもカーネルがリセットした場合、ここからfeatureをとる\n",
    "features_dirt = pd.read_csv(\"../data/02_features/features_dirt.csv\", sep=\"\\t\")"
   ]
  },
  {
   "cell_type": "code",
   "execution_count": null,
   "metadata": {},
   "outputs": [],
   "source": [
    "#もしもカーネルがリセットした場合、ここからfeatureをとる\n",
    "features_obstract = pd.read_csv(\"../data/02_features/features_obstract.csv\", sep=\"\\t\")"
   ]
  },
  {
   "cell_type": "code",
   "execution_count": null,
   "metadata": {},
   "outputs": [],
   "source": []
  },
  {
   "cell_type": "code",
   "execution_count": null,
   "metadata": {},
   "outputs": [],
   "source": []
  },
  {
   "cell_type": "code",
   "execution_count": null,
   "metadata": {},
   "outputs": [],
   "source": []
  },
  {
   "cell_type": "code",
   "execution_count": null,
   "metadata": {
    "collapsed": true,
    "jupyter": {
     "outputs_hidden": true,
     "source_hidden": true
    }
   },
   "outputs": [],
   "source": [
    "# rank_1races 列が None の行を抽出\n",
    "none_rows = features_turf[features_turf[\"rank_1races\"].isna()]\n",
    "# none_rows の行数を確認\n",
    "num_rows = none_rows.shape[0]\n",
    "print(f\"rank_1races が None の行数: {num_rows}\")\n",
    "# 表示したい列を指定\n",
    "columns_to_display = [\"horse_id\", \"date\",\"rank_1races\", \"race_id\"]  # 必要な列名をリストで指定\n",
    "filtered_none_rows = none_rows[columns_to_display]\n",
    "\n",
    "filtered_none_rows \n",
    "# horse_id 列をリストに変換\n",
    "horse_id_list = filtered_none_rows[\"horse_id\"].tolist()\n",
    "\n",
    "# 結果を表示\n",
    "print(horse_id_list)"
   ]
  },
  {
   "cell_type": "code",
   "execution_count": null,
   "metadata": {},
   "outputs": [],
   "source": []
  },
  {
   "cell_type": "code",
   "execution_count": null,
   "metadata": {
    "collapsed": true,
    "jupyter": {
     "outputs_hidden": true,
     "source_hidden": true
    }
   },
   "outputs": [],
   "source": [
    "# rank_1races 列が None の行を抽出\n",
    "none_rows = features_dirt[features_dirt[\"rank_1races\"].isna()]\n",
    "# none_rows の行数を確認\n",
    "num_rows = none_rows.shape[0]\n",
    "print(f\"rank_1races が None の行数: {num_rows}\")\n",
    "# 表示したい列を指定\n",
    "columns_to_display = [\"horse_id\", \"date\",\"rank_1races\", \"race_id\"]  # 必要な列名をリストで指定\n",
    "filtered_none_rows = none_rows[columns_to_display]\n",
    "\n",
    "filtered_none_rows \n",
    "# horse_id 列をリストに変換\n",
    "horse_id_list = filtered_none_rows[\"horse_id\"].tolist()\n",
    "\n",
    "# 結果を表示\n",
    "print(horse_id_list)"
   ]
  },
  {
   "cell_type": "code",
   "execution_count": null,
   "metadata": {},
   "outputs": [],
   "source": []
  },
  {
   "cell_type": "code",
   "execution_count": null,
   "metadata": {
    "collapsed": true,
    "jupyter": {
     "outputs_hidden": true,
     "source_hidden": true
    }
   },
   "outputs": [],
   "source": [
    "# rank_1races 列が None の行を抽出\n",
    "none_rows = features_obstract[features_obstract[\"rank_1races\"].isna()]\n",
    "# none_rows の行数を確認\n",
    "num_rows = none_rows.shape[0]\n",
    "print(f\"rank_1races が None の行数: {num_rows}\")\n",
    "# 表示したい列を指定\n",
    "columns_to_display = [\"horse_id\", \"date\",\"rank_1races\", \"race_id\"]  # 必要な列名をリストで指定\n",
    "filtered_none_rows = none_rows[columns_to_display]\n",
    "\n",
    "filtered_none_rows \n",
    "# horse_id 列をリストに変換\n",
    "horse_id_list = filtered_none_rows[\"horse_id\"].tolist()\n",
    "\n",
    "# 結果を表示\n",
    "print(horse_id_list)\n"
   ]
  },
  {
   "cell_type": "code",
   "execution_count": null,
   "metadata": {},
   "outputs": [],
   "source": []
  },
  {
   "cell_type": "code",
   "execution_count": null,
   "metadata": {},
   "outputs": [],
   "source": []
  },
  {
   "cell_type": "code",
   "execution_count": null,
   "metadata": {},
   "outputs": [],
   "source": []
  },
  {
   "cell_type": "code",
   "execution_count": null,
   "metadata": {},
   "outputs": [],
   "source": []
  },
  {
   "cell_type": "code",
   "execution_count": null,
   "metadata": {},
   "outputs": [],
   "source": []
  },
  {
   "cell_type": "code",
   "execution_count": null,
   "metadata": {
    "collapsed": true,
    "jupyter": {
     "outputs_hidden": true,
     "source_hidden": true
    }
   },
   "outputs": [],
   "source": [
    "# #_turf_newbieの特徴量作成\n",
    "# fc_turf_newbie = FeatureCreator(\n",
    "#     poplation_filename=\"population_turf_newbie.csv\",\n",
    "#     results_filename=\"results_turf_newbie.csv\",\n",
    "#     race_info_filename=\"race_info_turf_newbie.csv\",\n",
    "#     horse_results_filename=\"horse_results_turf_newbie.csv\",\n",
    "#     output_filename = \"features_turf_newbie.csv\",\n",
    "#     peds_filename = \"peds_turf_newbie.csv\",\n",
    "#     output_filename_info = \"race_info_turf_newbie.csv\",\n",
    "# )\n",
    "# features_turf_newbie = fc_turf_newbie.create_features()"
   ]
  },
  {
   "cell_type": "code",
   "execution_count": null,
   "metadata": {},
   "outputs": [],
   "source": [
    "#_turf_nowinの特徴量作成\n",
    "fc_turf_nowin = FeatureCreator(\n",
    "    poplation_filename=\"population_turf_nowin.csv\",\n",
    "    results_filename=\"results_turf_nowin.csv\",\n",
    "    race_info_filename=\"race_info_turf_nowin.csv\",\n",
    "    horse_results_filename=\"horse_results_turf_nowin.csv\",\n",
    "    output_filename = \"features_turf_nowin.csv\",\n",
    "    peds_filename = \"peds_turf_nowin.csv\",\n",
    "    output_filename_info = \"race_info_turf_nowin.csv\",\n",
    ")\n",
    "features_turf_nowin = fc_turf_nowin.create_features()"
   ]
  },
  {
   "cell_type": "code",
   "execution_count": null,
   "metadata": {
    "jupyter": {
     "source_hidden": true
    }
   },
   "outputs": [],
   "source": [
    "# #_dirtの特徴量作成\n",
    "# fc_dirt = FeatureCreator(\n",
    "#     poplation_filename=\"population_dirt.csv\",\n",
    "#     results_filename=\"results_dirt.csv\",\n",
    "#     race_info_filename=\"race_info_dirt.csv\",\n",
    "#     horse_results_filename=\"horse_results_dirt.csv\",\n",
    "#     output_filename = \"features_dirt.csv\",\n",
    "#     peds_filename = \"peds_dirt.csv\",\n",
    "#     output_filename_info = \"race_info_dirt.csv\",\n",
    "# )\n",
    "# features_d = fc_dirt.create_race_grade()"
   ]
  },
  {
   "cell_type": "code",
   "execution_count": 4,
   "metadata": {},
   "outputs": [
    {
     "data": {
      "application/vnd.jupyter.widget-view+json": {
       "model_id": "cf2586045e9841d19f4035fd55155086",
       "version_major": 2,
       "version_minor": 0
      },
      "text/plain": [
       "course_len_relative:   0%|          | 0/4 [00:00<?, ?it/s]"
      ]
     },
     "metadata": {},
     "output_type": "display_data"
    },
    {
     "data": {
      "application/vnd.jupyter.widget-view+json": {
       "model_id": "923fed2d638a4bc8ba64647fdbeb43ab",
       "version_major": 2,
       "version_minor": 0
      },
      "text/plain": [
       "rank_diff:   0%|          | 0/4 [00:00<?, ?it/s]"
      ]
     },
     "metadata": {},
     "output_type": "display_data"
    },
    {
     "name": "stdout",
     "output_type": "stream",
     "text": [
      "agg_rank_diff ...comp\n"
     ]
    },
    {
     "data": {
      "application/vnd.jupyter.widget-view+json": {
       "model_id": "efe30824b3d347f2b7cb7091dedf4f7e",
       "version_major": 2,
       "version_minor": 0
      },
      "text/plain": [
       "rank_diff:   0%|          | 0/4 [00:00<?, ?it/s]"
      ]
     },
     "metadata": {},
     "output_type": "display_data"
    },
    {
     "name": "stdout",
     "output_type": "stream",
     "text": [
      "agg_cross_time ...comp\n"
     ]
    },
    {
     "data": {
      "application/vnd.jupyter.widget-view+json": {
       "model_id": "ce66af43a56b46a69b8debd5a25bf531",
       "version_major": 2,
       "version_minor": 0
      },
      "text/plain": [
       "計算中:   0%|          | 0/4 [00:00<?, ?it/s]"
      ]
     },
     "metadata": {},
     "output_type": "display_data"
    },
    {
     "data": {
      "application/vnd.jupyter.widget-view+json": {
       "model_id": "e7504b9bfe5f4e5082310d163cb59161",
       "version_major": 2,
       "version_minor": 0
      },
      "text/plain": [
       "agg_race_type_True:   0%|          | 0/4 [00:00<?, ?it/s]"
      ]
     },
     "metadata": {},
     "output_type": "display_data"
    },
    {
     "data": {
      "application/vnd.jupyter.widget-view+json": {
       "model_id": "76b3b4543d5a47a99b80a2496e515d33",
       "version_major": 2,
       "version_minor": 0
      },
      "text/plain": [
       "agg_horse_per_course_len:   0%|          | 0/4 [00:00<?, ?it/s]"
      ]
     },
     "metadata": {},
     "output_type": "display_data"
    },
    {
     "name": "stdout",
     "output_type": "stream",
     "text": [
      "running cross_features()...comp\n",
      "running agg_interval()...comp\n",
      "running cross_features_2()...comp\n"
     ]
    },
    {
     "data": {
      "application/vnd.jupyter.widget-view+json": {
       "model_id": "d9c165547ae64b7ba7582e9b7443fdc5",
       "version_major": 2,
       "version_minor": 0
      },
      "text/plain": [
       "agg_cross_encoded:   0%|          | 0/4 [00:00<?, ?it/s]"
      ]
     },
     "metadata": {},
     "output_type": "display_data"
    },
    {
     "name": "stdout",
     "output_type": "stream",
     "text": [
      "running cross_features_3()...comp\n"
     ]
    },
    {
     "data": {
      "application/vnd.jupyter.widget-view+json": {
       "model_id": "b7d2032efc5541cb86938f3aec47ffd6",
       "version_major": 2,
       "version_minor": 0
      },
      "text/plain": [
       "agg_cross_zizoku_syunpatu:   0%|          | 0/4 [00:00<?, ?it/s]"
      ]
     },
     "metadata": {},
     "output_type": "display_data"
    },
    {
     "name": "stdout",
     "output_type": "stream",
     "text": [
      "running cross_features_4()...comp\n",
      "running cross_features_5()...comp\n",
      "running cross_features_6()...comp\n"
     ]
    },
    {
     "data": {
      "application/vnd.jupyter.widget-view+json": {
       "model_id": "66797f89005c42148da5ee04ca1b32fa",
       "version_major": 2,
       "version_minor": 0
      },
      "text/plain": [
       "pace_category_win_1:   0%|          | 0/4 [00:00<?, ?it/s]"
      ]
     },
     "metadata": {},
     "output_type": "display_data"
    },
    {
     "data": {
      "application/vnd.jupyter.widget-view+json": {
       "model_id": "c044a672f2264c30a7617e82fcc699cb",
       "version_major": 2,
       "version_minor": 0
      },
      "text/plain": [
       "pace_category_win_2:   0%|          | 0/4 [00:00<?, ?it/s]"
      ]
     },
     "metadata": {},
     "output_type": "display_data"
    },
    {
     "data": {
      "application/vnd.jupyter.widget-view+json": {
       "model_id": "bd555ef6f5f9499dbda2aeb9dce364f2",
       "version_major": 2,
       "version_minor": 0
      },
      "text/plain": [
       "pace_category_win_3:   0%|          | 0/4 [00:00<?, ?it/s]"
      ]
     },
     "metadata": {},
     "output_type": "display_data"
    },
    {
     "data": {
      "application/vnd.jupyter.widget-view+json": {
       "model_id": "3f8f136f2e0b47e2b5b4a329fce9cc9a",
       "version_major": 2,
       "version_minor": 0
      },
      "text/plain": [
       "pace_category_win_4:   0%|          | 0/4 [00:00<?, ?it/s]"
      ]
     },
     "metadata": {},
     "output_type": "display_data"
    },
    {
     "name": "stdout",
     "output_type": "stream",
     "text": [
      "running cross_features_7()...comp\n"
     ]
    },
    {
     "data": {
      "application/vnd.jupyter.widget-view+json": {
       "model_id": "266bf95aa5634a989d00310bba61d318",
       "version_major": 2,
       "version_minor": 0
      },
      "text/plain": [
       "agg_pace_per_score:   0%|          | 0/4 [00:00<?, ?it/s]"
      ]
     },
     "metadata": {},
     "output_type": "display_data"
    },
    {
     "name": "stdout",
     "output_type": "stream",
     "text": [
      "running cross_features_8()...comp\n"
     ]
    },
    {
     "data": {
      "application/vnd.jupyter.widget-view+json": {
       "model_id": "4e994bd597454219a8d8884fa33a43e2",
       "version_major": 2,
       "version_minor": 0
      },
      "text/plain": [
       "agg_goal_per_score:   0%|          | 0/4 [00:00<?, ?it/s]"
      ]
     },
     "metadata": {},
     "output_type": "display_data"
    },
    {
     "name": "stdout",
     "output_type": "stream",
     "text": [
      "running cross_features_9()...comp\n"
     ]
    },
    {
     "data": {
      "application/vnd.jupyter.widget-view+json": {
       "model_id": "5e1d81f37a974d81923e15bcc11d2f79",
       "version_major": 2,
       "version_minor": 0
      },
      "text/plain": [
       "agg_curve_per_score:   0%|          | 0/4 [00:00<?, ?it/s]"
      ]
     },
     "metadata": {},
     "output_type": "display_data"
    },
    {
     "name": "stdout",
     "output_type": "stream",
     "text": [
      "running cross_features_10()...comp\n"
     ]
    },
    {
     "data": {
      "application/vnd.jupyter.widget-view+json": {
       "model_id": "41da4702548c4c328a78c27f48d2bd2e",
       "version_major": 2,
       "version_minor": 0
      },
      "text/plain": [
       "agg_goal_slope_per_score:   0%|          | 0/4 [00:00<?, ?it/s]"
      ]
     },
     "metadata": {},
     "output_type": "display_data"
    },
    {
     "name": "stdout",
     "output_type": "stream",
     "text": [
      "running cross_features_11()...comp\n"
     ]
    },
    {
     "data": {
      "application/vnd.jupyter.widget-view+json": {
       "model_id": "b20777b8d7634ef681263e6fab5a9d0e",
       "version_major": 2,
       "version_minor": 0
      },
      "text/plain": [
       "agg_stamina_per_score:   0%|          | 0/4 [00:00<?, ?it/s]"
      ]
     },
     "metadata": {},
     "output_type": "display_data"
    },
    {
     "name": "stdout",
     "output_type": "stream",
     "text": [
      "running cross_features_12()...comp\n"
     ]
    },
    {
     "data": {
      "application/vnd.jupyter.widget-view+json": {
       "model_id": "e2c2645b4a6846159b1caa586ad70136",
       "version_major": 2,
       "version_minor": 0
      },
      "text/plain": [
       "agg_pace_per_score:   0%|          | 0/4 [00:00<?, ?it/s]"
      ]
     },
     "metadata": {},
     "output_type": "display_data"
    },
    {
     "data": {
      "application/vnd.jupyter.widget-view+json": {
       "model_id": "579dea4fdf0a45e8addfc073f2c1655a",
       "version_major": 2,
       "version_minor": 0
      },
      "text/plain": [
       "agg_goal_per_score:   0%|          | 0/4 [00:00<?, ?it/s]"
      ]
     },
     "metadata": {},
     "output_type": "display_data"
    },
    {
     "data": {
      "application/vnd.jupyter.widget-view+json": {
       "model_id": "de7db8bd8b1046adb4919d9bf05135b6",
       "version_major": 2,
       "version_minor": 0
      },
      "text/plain": [
       "agg_curve_per_score:   0%|          | 0/4 [00:00<?, ?it/s]"
      ]
     },
     "metadata": {},
     "output_type": "display_data"
    },
    {
     "data": {
      "application/vnd.jupyter.widget-view+json": {
       "model_id": "b84e67be79a14f45a9d731aa20ce8335",
       "version_major": 2,
       "version_minor": 0
      },
      "text/plain": [
       "agg_goal_slope_per_score:   0%|          | 0/4 [00:00<?, ?it/s]"
      ]
     },
     "metadata": {},
     "output_type": "display_data"
    },
    {
     "data": {
      "application/vnd.jupyter.widget-view+json": {
       "model_id": "cf6cae88a4004c7db2afd2d65a53e4bd",
       "version_major": 2,
       "version_minor": 0
      },
      "text/plain": [
       "agg_stamina_per_score:   0%|          | 0/4 [00:00<?, ?it/s]"
      ]
     },
     "metadata": {},
     "output_type": "display_data"
    },
    {
     "name": "stdout",
     "output_type": "stream",
     "text": [
      "running cross_features_13()...comp\n"
     ]
    },
    {
     "data": {
      "application/vnd.jupyter.widget-view+json": {
       "model_id": "e37691f2cf2641dd95079ce7137462dc",
       "version_major": 2,
       "version_minor": 0
      },
      "text/plain": [
       "agg_raceclass_rankdiff_per_score:   0%|          | 0/4 [00:00<?, ?it/s]"
      ]
     },
     "metadata": {},
     "output_type": "display_data"
    },
    {
     "name": "stdout",
     "output_type": "stream",
     "text": [
      "running cross_features_14()...comp\n"
     ]
    },
    {
     "data": {
      "application/vnd.jupyter.widget-view+json": {
       "model_id": "b030da18b6124bd4b0536138c89cd010",
       "version_major": 2,
       "version_minor": 0
      },
      "text/plain": [
       "speed_index:   0%|          | 0/4 [00:00<?, ?it/s]"
      ]
     },
     "metadata": {},
     "output_type": "display_data"
    },
    {
     "name": "stdout",
     "output_type": "stream",
     "text": [
      "running cross_features_15()...comp\n",
      "running cross_features_17()...comp\n",
      "running agg_position_results()...comp\n",
      "running agg_weight_weather()...comp\n",
      "running agg_umaban_good()...comp\n"
     ]
    },
    {
     "data": {
      "application/vnd.jupyter.widget-view+json": {
       "model_id": "462cc31a92b0428dbd81bb913dbfd0e9",
       "version_major": 2,
       "version_minor": 0
      },
      "text/plain": [
       "agg_horse_per_ground_state_race_type:   0%|          | 0/4 [00:00<?, ?it/s]"
      ]
     },
     "metadata": {},
     "output_type": "display_data"
    },
    {
     "data": {
      "application/vnd.jupyter.widget-view+json": {
       "model_id": "17dee420a1d64b68af127962b3e15d2a",
       "version_major": 2,
       "version_minor": 0
      },
      "text/plain": [
       "agg_horse_per_race_type:   0%|          | 0/4 [00:00<?, ?it/s]"
      ]
     },
     "metadata": {},
     "output_type": "display_data"
    },
    {
     "data": {
      "application/vnd.jupyter.widget-view+json": {
       "model_id": "587c4c2c41e844a68630ba9c846b5046",
       "version_major": 2,
       "version_minor": 0
      },
      "text/plain": [
       "agg_horse_per_race_place_len:   0%|          | 0/4 [00:00<?, ?it/s]"
      ]
     },
     "metadata": {},
     "output_type": "display_data"
    },
    {
     "name": "stdout",
     "output_type": "stream",
     "text": [
      "merging all features...\n",
      "merging all features...comp\n"
     ]
    }
   ],
   "source": [
    "#_dirtの特徴量作成\n",
    "fc_dirt = FeatureCreator(\n",
    "    poplation_filename=\"population_dirt.csv\",\n",
    "    results_filename=\"results_dirt.csv\",\n",
    "    race_info_filename=\"race_info_dirt.csv\",\n",
    "    horse_results_filename=\"horse_results_dirt.csv\",\n",
    "    output_filename = \"features_dirt.csv\",\n",
    "    peds_filename = \"peds_dirt.csv\",\n",
    "    output_filename_info = \"race_info_dirt.csv\",\n",
    ")\n",
    "features_dirt = fc_dirt.create_features()"
   ]
  },
  {
   "cell_type": "code",
   "execution_count": 5,
   "metadata": {},
   "outputs": [
    {
     "data": {
      "application/vnd.jupyter.widget-view+json": {
       "model_id": "8e259cb9b76a4cfd9c2d8181d0d856b2",
       "version_major": 2,
       "version_minor": 0
      },
      "text/plain": [
       "course_len_relative:   0%|          | 0/4 [00:00<?, ?it/s]"
      ]
     },
     "metadata": {},
     "output_type": "display_data"
    },
    {
     "data": {
      "application/vnd.jupyter.widget-view+json": {
       "model_id": "f527d930ff944d03b9f254777efb208f",
       "version_major": 2,
       "version_minor": 0
      },
      "text/plain": [
       "rank_diff:   0%|          | 0/4 [00:00<?, ?it/s]"
      ]
     },
     "metadata": {},
     "output_type": "display_data"
    },
    {
     "name": "stdout",
     "output_type": "stream",
     "text": [
      "agg_rank_diff ...comp\n"
     ]
    },
    {
     "data": {
      "application/vnd.jupyter.widget-view+json": {
       "model_id": "1030d779ea06432abc817d9b3f19ecbb",
       "version_major": 2,
       "version_minor": 0
      },
      "text/plain": [
       "rank_diff:   0%|          | 0/4 [00:00<?, ?it/s]"
      ]
     },
     "metadata": {},
     "output_type": "display_data"
    },
    {
     "name": "stdout",
     "output_type": "stream",
     "text": [
      "agg_cross_time ...comp\n"
     ]
    },
    {
     "data": {
      "application/vnd.jupyter.widget-view+json": {
       "model_id": "87d80a75be694092b7e79db728817be6",
       "version_major": 2,
       "version_minor": 0
      },
      "text/plain": [
       "計算中:   0%|          | 0/4 [00:00<?, ?it/s]"
      ]
     },
     "metadata": {},
     "output_type": "display_data"
    },
    {
     "data": {
      "application/vnd.jupyter.widget-view+json": {
       "model_id": "efbaaa9d14684cd8a7cdab8c4ff60997",
       "version_major": 2,
       "version_minor": 0
      },
      "text/plain": [
       "agg_race_type_True:   0%|          | 0/4 [00:00<?, ?it/s]"
      ]
     },
     "metadata": {},
     "output_type": "display_data"
    },
    {
     "data": {
      "application/vnd.jupyter.widget-view+json": {
       "model_id": "8a317301a50e49aab96b2ff76f75f970",
       "version_major": 2,
       "version_minor": 0
      },
      "text/plain": [
       "agg_horse_per_course_len:   0%|          | 0/4 [00:00<?, ?it/s]"
      ]
     },
     "metadata": {},
     "output_type": "display_data"
    },
    {
     "name": "stdout",
     "output_type": "stream",
     "text": [
      "running cross_features()...comp\n",
      "running agg_interval()...comp\n",
      "running cross_features_2()...comp\n"
     ]
    },
    {
     "data": {
      "application/vnd.jupyter.widget-view+json": {
       "model_id": "3463814f0c1d421baea066809b873627",
       "version_major": 2,
       "version_minor": 0
      },
      "text/plain": [
       "agg_cross_encoded:   0%|          | 0/4 [00:00<?, ?it/s]"
      ]
     },
     "metadata": {},
     "output_type": "display_data"
    },
    {
     "name": "stdout",
     "output_type": "stream",
     "text": [
      "running cross_features_3()...comp\n"
     ]
    },
    {
     "data": {
      "application/vnd.jupyter.widget-view+json": {
       "model_id": "72c54601c7844f98a32d64e1623476b8",
       "version_major": 2,
       "version_minor": 0
      },
      "text/plain": [
       "agg_cross_zizoku_syunpatu:   0%|          | 0/4 [00:00<?, ?it/s]"
      ]
     },
     "metadata": {},
     "output_type": "display_data"
    },
    {
     "name": "stdout",
     "output_type": "stream",
     "text": [
      "running cross_features_4()...comp\n",
      "running cross_features_5()...comp\n",
      "running cross_features_6()...comp\n"
     ]
    },
    {
     "data": {
      "application/vnd.jupyter.widget-view+json": {
       "model_id": "92c78ea8089243ba85ea691f80b0df50",
       "version_major": 2,
       "version_minor": 0
      },
      "text/plain": [
       "pace_category_win_1:   0%|          | 0/4 [00:00<?, ?it/s]"
      ]
     },
     "metadata": {},
     "output_type": "display_data"
    },
    {
     "data": {
      "application/vnd.jupyter.widget-view+json": {
       "model_id": "2576e414563946cfb903f5618363935f",
       "version_major": 2,
       "version_minor": 0
      },
      "text/plain": [
       "pace_category_win_2:   0%|          | 0/4 [00:00<?, ?it/s]"
      ]
     },
     "metadata": {},
     "output_type": "display_data"
    },
    {
     "data": {
      "application/vnd.jupyter.widget-view+json": {
       "model_id": "3ae30fbd27b942fbb4e48f99398919dd",
       "version_major": 2,
       "version_minor": 0
      },
      "text/plain": [
       "pace_category_win_3:   0%|          | 0/4 [00:00<?, ?it/s]"
      ]
     },
     "metadata": {},
     "output_type": "display_data"
    },
    {
     "data": {
      "application/vnd.jupyter.widget-view+json": {
       "model_id": "7a53db8cc10845a3a632ff3b6e46b941",
       "version_major": 2,
       "version_minor": 0
      },
      "text/plain": [
       "pace_category_win_4:   0%|          | 0/4 [00:00<?, ?it/s]"
      ]
     },
     "metadata": {},
     "output_type": "display_data"
    },
    {
     "name": "stdout",
     "output_type": "stream",
     "text": [
      "running cross_features_7()...comp\n"
     ]
    },
    {
     "data": {
      "application/vnd.jupyter.widget-view+json": {
       "model_id": "f0e82a5f99504a58b74328022b53e86f",
       "version_major": 2,
       "version_minor": 0
      },
      "text/plain": [
       "agg_pace_per_score:   0%|          | 0/4 [00:00<?, ?it/s]"
      ]
     },
     "metadata": {},
     "output_type": "display_data"
    },
    {
     "name": "stdout",
     "output_type": "stream",
     "text": [
      "running cross_features_8()...comp\n"
     ]
    },
    {
     "data": {
      "application/vnd.jupyter.widget-view+json": {
       "model_id": "abb241264ba54cb8b7f73fbef6dece6b",
       "version_major": 2,
       "version_minor": 0
      },
      "text/plain": [
       "agg_goal_per_score:   0%|          | 0/4 [00:00<?, ?it/s]"
      ]
     },
     "metadata": {},
     "output_type": "display_data"
    },
    {
     "name": "stdout",
     "output_type": "stream",
     "text": [
      "running cross_features_9()...comp\n"
     ]
    },
    {
     "data": {
      "application/vnd.jupyter.widget-view+json": {
       "model_id": "0f5a338c9c334e4eb4ccc1ca4ea5d74e",
       "version_major": 2,
       "version_minor": 0
      },
      "text/plain": [
       "agg_curve_per_score:   0%|          | 0/4 [00:00<?, ?it/s]"
      ]
     },
     "metadata": {},
     "output_type": "display_data"
    },
    {
     "name": "stdout",
     "output_type": "stream",
     "text": [
      "running cross_features_10()...comp\n"
     ]
    },
    {
     "data": {
      "application/vnd.jupyter.widget-view+json": {
       "model_id": "32bb9810fac24575a68bc22d1e1f5a27",
       "version_major": 2,
       "version_minor": 0
      },
      "text/plain": [
       "agg_goal_slope_per_score:   0%|          | 0/4 [00:00<?, ?it/s]"
      ]
     },
     "metadata": {},
     "output_type": "display_data"
    },
    {
     "name": "stdout",
     "output_type": "stream",
     "text": [
      "running cross_features_11()...comp\n"
     ]
    },
    {
     "data": {
      "application/vnd.jupyter.widget-view+json": {
       "model_id": "74608736427e444bb1b9cfd417b16a20",
       "version_major": 2,
       "version_minor": 0
      },
      "text/plain": [
       "agg_stamina_per_score:   0%|          | 0/4 [00:00<?, ?it/s]"
      ]
     },
     "metadata": {},
     "output_type": "display_data"
    },
    {
     "name": "stdout",
     "output_type": "stream",
     "text": [
      "running cross_features_12()...comp\n"
     ]
    },
    {
     "data": {
      "application/vnd.jupyter.widget-view+json": {
       "model_id": "8f040fb2bc4045d2bb8984db6d8381b6",
       "version_major": 2,
       "version_minor": 0
      },
      "text/plain": [
       "agg_pace_per_score:   0%|          | 0/4 [00:00<?, ?it/s]"
      ]
     },
     "metadata": {},
     "output_type": "display_data"
    },
    {
     "data": {
      "application/vnd.jupyter.widget-view+json": {
       "model_id": "2cb9926e83da4ad2b4079f0182be0f9a",
       "version_major": 2,
       "version_minor": 0
      },
      "text/plain": [
       "agg_goal_per_score:   0%|          | 0/4 [00:00<?, ?it/s]"
      ]
     },
     "metadata": {},
     "output_type": "display_data"
    },
    {
     "data": {
      "application/vnd.jupyter.widget-view+json": {
       "model_id": "b5e0fa7c7d2d4bdd945e856db9bc481f",
       "version_major": 2,
       "version_minor": 0
      },
      "text/plain": [
       "agg_curve_per_score:   0%|          | 0/4 [00:00<?, ?it/s]"
      ]
     },
     "metadata": {},
     "output_type": "display_data"
    },
    {
     "data": {
      "application/vnd.jupyter.widget-view+json": {
       "model_id": "7568dcdc26254750a2ec7c274b0d74b6",
       "version_major": 2,
       "version_minor": 0
      },
      "text/plain": [
       "agg_goal_slope_per_score:   0%|          | 0/4 [00:00<?, ?it/s]"
      ]
     },
     "metadata": {},
     "output_type": "display_data"
    },
    {
     "data": {
      "application/vnd.jupyter.widget-view+json": {
       "model_id": "858eb8025d104e4ba76fed88d99ebc5f",
       "version_major": 2,
       "version_minor": 0
      },
      "text/plain": [
       "agg_stamina_per_score:   0%|          | 0/4 [00:00<?, ?it/s]"
      ]
     },
     "metadata": {},
     "output_type": "display_data"
    },
    {
     "name": "stdout",
     "output_type": "stream",
     "text": [
      "running cross_features_13()...comp\n"
     ]
    },
    {
     "data": {
      "application/vnd.jupyter.widget-view+json": {
       "model_id": "c0b837304d1f477490c69d07e29b2293",
       "version_major": 2,
       "version_minor": 0
      },
      "text/plain": [
       "agg_raceclass_rankdiff_per_score:   0%|          | 0/4 [00:00<?, ?it/s]"
      ]
     },
     "metadata": {},
     "output_type": "display_data"
    },
    {
     "name": "stdout",
     "output_type": "stream",
     "text": [
      "running cross_features_14()...comp\n"
     ]
    },
    {
     "data": {
      "application/vnd.jupyter.widget-view+json": {
       "model_id": "57f01083c1c04333b1f67109483c6ba5",
       "version_major": 2,
       "version_minor": 0
      },
      "text/plain": [
       "speed_index:   0%|          | 0/4 [00:00<?, ?it/s]"
      ]
     },
     "metadata": {},
     "output_type": "display_data"
    },
    {
     "name": "stdout",
     "output_type": "stream",
     "text": [
      "running cross_features_15()...comp\n",
      "running cross_features_17()...comp\n",
      "running agg_position_results()...comp\n",
      "running agg_weight_weather()...comp\n",
      "running agg_umaban_good()...comp\n"
     ]
    },
    {
     "data": {
      "application/vnd.jupyter.widget-view+json": {
       "model_id": "2870518f44524d459a6031f6068e4f2f",
       "version_major": 2,
       "version_minor": 0
      },
      "text/plain": [
       "agg_horse_per_ground_state_race_type:   0%|          | 0/4 [00:00<?, ?it/s]"
      ]
     },
     "metadata": {},
     "output_type": "display_data"
    },
    {
     "data": {
      "application/vnd.jupyter.widget-view+json": {
       "model_id": "89e353e269be4ad5821affe9b8a4449e",
       "version_major": 2,
       "version_minor": 0
      },
      "text/plain": [
       "agg_horse_per_race_type:   0%|          | 0/4 [00:00<?, ?it/s]"
      ]
     },
     "metadata": {},
     "output_type": "display_data"
    },
    {
     "data": {
      "application/vnd.jupyter.widget-view+json": {
       "model_id": "4c2275a6e5e946d39598e2c34a808996",
       "version_major": 2,
       "version_minor": 0
      },
      "text/plain": [
       "agg_horse_per_race_place_len:   0%|          | 0/4 [00:00<?, ?it/s]"
      ]
     },
     "metadata": {},
     "output_type": "display_data"
    },
    {
     "name": "stdout",
     "output_type": "stream",
     "text": [
      "merging all features...\n",
      "merging all features...comp\n"
     ]
    }
   ],
   "source": [
    "#_dirt_nowinの特徴量作成\n",
    "fc_dirt_nowin = FeatureCreator(\n",
    "    poplation_filename=\"population_dirt_nowin.csv\",\n",
    "    results_filename=\"results_dirt_nowin.csv\",\n",
    "    race_info_filename=\"race_info_dirt_nowin.csv\",\n",
    "    horse_results_filename=\"horse_results_dirt_nowin.csv\",\n",
    "    output_filename = \"features_dirt_nowin.csv\",\n",
    "    peds_filename = \"peds_dirt_nowin.csv\",\n",
    "    output_filename_info = \"race_info_dirt_nowin.csv\",\n",
    ")\n",
    "features_dirt_nowin = fc_dirt_nowin.create_features()"
   ]
  },
  {
   "cell_type": "code",
   "execution_count": null,
   "metadata": {
    "jupyter": {
     "source_hidden": true
    }
   },
   "outputs": [],
   "source": [
    "# #_dirt_newbieの特徴量作成\n",
    "# fc_dirt_newbie = FeatureCreator(\n",
    "#     poplation_filename=\"population_dirt_newbie.csv\",\n",
    "#     results_filename=\"results_dirt_newbie.csv\",\n",
    "#     race_info_filename=\"race_info_dirt_newbie.csv\",\n",
    "#     horse_results_filename=\"horse_results_dirt_newbie.csv\",\n",
    "#     output_filename = \"features_dirt_newbie.csv\",\n",
    "#     peds_filename = \"peds_dirt_newbie.csv\",\n",
    "#     output_filename_info = \"race_info_dirt_newbie.csv\",\n",
    "# )\n",
    "# features_dirt_newbie = fc_dirt_newbie.create_features()"
   ]
  },
  {
   "cell_type": "code",
   "execution_count": null,
   "metadata": {},
   "outputs": [],
   "source": [
    "#_obstractの特徴量作成\n",
    "fc_obstract = FeatureCreator(\n",
    "    poplation_filename=\"population_obstract.csv\",\n",
    "    results_filename=\"results_obstract.csv\",\n",
    "    race_info_filename=\"race_info_obstract.csv\",\n",
    "    horse_results_filename=\"horse_results_obstract.csv\",\n",
    "    output_filename = \"features_obstract.csv\",\n",
    "    peds_filename = \"peds_obstract.csv\",\n",
    "    output_filename_info = \"race_info_obstract.csv\",\n",
    "\n",
    ")\n",
    "features_obstract = fc_obstract.create_features()"
   ]
  },
  {
   "cell_type": "code",
   "execution_count": null,
   "metadata": {},
   "outputs": [],
   "source": []
  },
  {
   "cell_type": "code",
   "execution_count": null,
   "metadata": {},
   "outputs": [],
   "source": []
  },
  {
   "cell_type": "code",
   "execution_count": null,
   "metadata": {},
   "outputs": [],
   "source": []
  },
  {
   "cell_type": "code",
   "execution_count": null,
   "metadata": {},
   "outputs": [],
   "source": []
  },
  {
   "cell_type": "code",
   "execution_count": null,
   "metadata": {},
   "outputs": [],
   "source": []
  },
  {
   "cell_type": "code",
   "execution_count": null,
   "metadata": {},
   "outputs": [],
   "source": []
  },
  {
   "cell_type": "code",
   "execution_count": null,
   "metadata": {},
   "outputs": [],
   "source": []
  },
  {
   "cell_type": "code",
   "execution_count": null,
   "metadata": {},
   "outputs": [],
   "source": []
  },
  {
   "cell_type": "code",
   "execution_count": null,
   "metadata": {},
   "outputs": [],
   "source": [
    "%autoreload"
   ]
  },
  {
   "cell_type": "markdown",
   "metadata": {},
   "source": [
    "# 学習\n",
    "- 特徴量にオッズを利用したもの、利用していないもの\n",
    "- rank列を二値分類で予測したもの、回帰で予測したもの、time列を予測したもの\n",
    "- ホールドアウト法、cv(クロスバリデーション)を利用したもの\n",
    "- その他、独自の特徴量のみを利用したものなど、さまざまな学習モデルを作成する段階です\n",
    "- config_filepath=\"config_lightgbm_kaiki_odds_removed.yaml\"の部分を変更することで、特徴量やハイパーパラメータを変更できます\n",
    "- 好きな特徴量を選んで、学習させてください（保存先のファイル名の変更も忘れずに）"
   ]
  },
  {
   "cell_type": "markdown",
   "metadata": {
    "jp-MarkdownHeadingCollapsed": true
   },
   "source": [
    "### time"
   ]
  },
  {
   "cell_type": "code",
   "execution_count": null,
   "metadata": {
    "jupyter": {
     "source_hidden": true
    }
   },
   "outputs": [],
   "source": [
    "# # _turfオッズありタイム回帰、クロスバリデーション\n",
    "# trainer = Trainer_lightgbm_time_cv(\n",
    "#     features_filename = \"features_turf.csv\", \n",
    "#     config_filepath=\"config_lightgbm_kaiki.yaml\",\n",
    "# )\n",
    "# evaluation_df = trainer.run(\n",
    "#     n_splits = 5,\n",
    "#     importance_filename=\"importance_lightgbm_time_cv_turf\",\n",
    "#     model_filename=\"model_lightgbm_time_cv_turf.pkl\",\n",
    "#     evaluation_filename=\"evaluation_lightgbm_time_cv_turf.csv\",\n",
    "#     final_model_filename = \"model_lightgbm_time_cv_turf.pkl\"\n",
    "# )"
   ]
  },
  {
   "cell_type": "code",
   "execution_count": null,
   "metadata": {
    "collapsed": true,
    "jupyter": {
     "outputs_hidden": true,
     "source_hidden": true
    }
   },
   "outputs": [],
   "source": [
    "# # _turfオッズと人気を特徴量から省いたタイム、回帰、クロスバリデーション/nopast\n",
    "# trainer = Trainer_lightgbm_time_cv(\n",
    "#     features_filename = \"features_turf.csv\", \n",
    "#     config_filepath=\"config_lightgbm_kaiki_nopast.yaml\",\n",
    "# )\n",
    "# evaluation_df = trainer.run(\n",
    "#     n_splits = 5,\n",
    "#     importance_filename=\"importance_lightgbm_time_cv_nopast_turf\",\n",
    "#     model_filename=\"model_lightgbm_time_cv_nopast_turf.pkl\",\n",
    "#     evaluation_filename=\"evaluation_lightgbm_time_cv_nopast_turf.csv\",\n",
    "#     final_model_filename = \"model_lightgbm_time_cv_full_nopast_turf.pkl\"\n",
    "# )"
   ]
  },
  {
   "cell_type": "code",
   "execution_count": null,
   "metadata": {
    "collapsed": true,
    "jupyter": {
     "outputs_hidden": true,
     "source_hidden": true
    }
   },
   "outputs": [],
   "source": [
    "# # _turfオッズと人気を特徴量から省いたタイム、回帰、クロスバリデーション_dev（最新型を随時更新）\n",
    "# trainer = Trainer_lightgbm_time_cv(\n",
    "#     features_filename = \"features_turf.csv\", \n",
    "#     config_filepath=\"config_lightgbm_kaiki_dev.yaml\",\n",
    "# )\n",
    "# evaluation_df = trainer.run(\n",
    "#     n_splits = 5,\n",
    "#     importance_filename=\"importance_lightgbm_time_cv_dev_turf\",\n",
    "#     model_filename=\"model_lightgbm_time_cv_dev_turf.pkl\",\n",
    "#     evaluation_filename=\"evaluation_lightgbm_time_cv_dev_turf.csv\",\n",
    "#     final_model_filename = \"model_lightgbm_time_cv_full_dev_turf.pkl\"\n",
    "# )"
   ]
  },
  {
   "cell_type": "code",
   "execution_count": null,
   "metadata": {},
   "outputs": [],
   "source": []
  },
  {
   "cell_type": "code",
   "execution_count": null,
   "metadata": {
    "collapsed": true,
    "jupyter": {
     "outputs_hidden": true,
     "source_hidden": true
    }
   },
   "outputs": [],
   "source": [
    "# # _turfオッズと人気を特徴量から省いたindex、クロスバリデーション_dev（最新型を随時更新）\n",
    "# trainer = Trainer_lightgbm_index_cv(\n",
    "#     features_filename = \"features_turf.csv\", \n",
    "#     config_filepath=\"config_lightgbm_kaiki_dev.yaml\",\n",
    "# )\n",
    "# evaluation_df = trainer.run(\n",
    "#     n_splits = 5,\n",
    "#     importance_filename=\"importance_lightgbm_index_cv_dev_turf\",\n",
    "#     model_filename=\"model_lightgbm_index_cv_dev_turf.pkl\",\n",
    "#     evaluation_filename=\"evaluation_lightgbm_index_cv_dev_turf.csv\",\n",
    "#     final_model_filename = \"model_lightgbm_index_cv_full_dev_turf.pkl\"\n",
    "# )"
   ]
  },
  {
   "cell_type": "code",
   "execution_count": null,
   "metadata": {},
   "outputs": [],
   "source": []
  },
  {
   "cell_type": "code",
   "execution_count": null,
   "metadata": {
    "jupyter": {
     "source_hidden": true
    }
   },
   "outputs": [],
   "source": [
    "# #_turf_newbie オッズありタイム回帰、クロスバリデーション\n",
    "# trainer = Trainer_lightgbm_time_cv(\n",
    "#     features_filename = \"features_turf_newbie.csv\", \n",
    "#     config_filepath=\"config_lightgbm_kaiki.yaml\",\n",
    "# )\n",
    "# evaluation_df = trainer.run(\n",
    "#     n_splits = 5,\n",
    "#     importance_filename=\"importance_lightgbm_time_cv_turf_newbie\",\n",
    "#     model_filename=\"model_lightgbm_time_cv_turf_newbie.pkl\",\n",
    "#     evaluation_filename=\"evaluation_lightgbm_time_cv_turf_newbie.csv\",\n",
    "#     final_model_filename = \"model_lightgbm_time_cv_turf_newbie.pkl\"\n",
    "# )"
   ]
  },
  {
   "cell_type": "code",
   "execution_count": null,
   "metadata": {
    "jupyter": {
     "source_hidden": true
    }
   },
   "outputs": [],
   "source": [
    "# # _turf_newbie オッズと人気を特徴量から省いたタイム、回帰、クロスバリデーション/nopast\n",
    "# trainer = Trainer_lightgbm_time_cv(\n",
    "#     features_filename = \"features_turf_newbie.csv\", \n",
    "#     config_filepath=\"config_lightgbm_kaiki_nopast.yaml\",\n",
    "# )\n",
    "# evaluation_df = trainer.run(\n",
    "#     n_splits = 5,\n",
    "#     importance_filename=\"importance_lightgbm_time_cv_nopast_turf_newbie\",\n",
    "#     model_filename=\"model_lightgbm_time_cv_nopast_turf_newbie.pkl\",\n",
    "#     evaluation_filename=\"evaluation_lightgbm_time_cv_nopast_turf_newbie.csv\",\n",
    "#     final_model_filename = \"model_lightgbm_time_cv_full_nopast_turf_newbie.pkl\"\n",
    "# )"
   ]
  },
  {
   "cell_type": "code",
   "execution_count": null,
   "metadata": {
    "jupyter": {
     "source_hidden": true
    }
   },
   "outputs": [],
   "source": [
    "# # _turf_newbie オッズと人気を特徴量から省いたタイム、回帰、クロスバリデーション_dev（最新型を随時更新）\n",
    "# trainer = Trainer_lightgbm_time_cv(\n",
    "#     features_filename = \"features_turf_newbie.csv\", \n",
    "#     config_filepath=\"config_lightgbm_kaiki_dev.yaml\",\n",
    "# )\n",
    "# evaluation_df = trainer.run(\n",
    "#     n_splits = 5,\n",
    "#     importance_filename=\"importance_lightgbm_time_cv_dev_turf_newbie\",\n",
    "#     model_filename=\"model_lightgbm_time_cv_dev_turf_newbie.pkl\",\n",
    "#     evaluation_filename=\"evaluation_lightgbm_time_cv_dev_turf_newbie.csv\",\n",
    "#     final_model_filename = \"model_lightgbm_time_cv_full_dev_turf_newbie.pkl\"\n",
    "# )"
   ]
  },
  {
   "cell_type": "code",
   "execution_count": null,
   "metadata": {},
   "outputs": [],
   "source": []
  },
  {
   "cell_type": "code",
   "execution_count": null,
   "metadata": {
    "jupyter": {
     "source_hidden": true
    }
   },
   "outputs": [],
   "source": [
    "# #_turf_nowin オッズありタイム回帰、クロスバリデーション\n",
    "# trainer = Trainer_lightgbm_time_cv(\n",
    "#     features_filename = \"features_turf_nowin.csv\", \n",
    "#     config_filepath=\"config_lightgbm_kaiki.yaml\",\n",
    "# )\n",
    "# evaluation_df = trainer.run(\n",
    "#     n_splits = 5,\n",
    "#     importance_filename=\"importance_lightgbm_time_cv_turf_nowin\",\n",
    "#     model_filename=\"model_lightgbm_time_cv_turf_nowin.pkl\",\n",
    "#     evaluation_filename=\"evaluation_lightgbm_time_cv_turf_nowin.csv\",\n",
    "#     final_model_filename = \"model_lightgbm_time_cv_turf_nowin.pkl\"\n",
    "# )\n"
   ]
  },
  {
   "cell_type": "code",
   "execution_count": null,
   "metadata": {
    "jupyter": {
     "source_hidden": true
    }
   },
   "outputs": [],
   "source": [
    "# # _turf_nowin オッズと人気を特徴量から省いたタイム、回帰、クロスバリデーション/nopast\n",
    "# trainer = Trainer_lightgbm_time_cv(\n",
    "#     features_filename = \"features_turf_nowin.csv\", \n",
    "#     config_filepath=\"config_lightgbm_kaiki_nopast.yaml\",\n",
    "# )\n",
    "# evaluation_df = trainer.run(\n",
    "#     n_splits = 5,\n",
    "#     importance_filename=\"importance_lightgbm_time_cv_nopast_turf_nowin\",\n",
    "#     model_filename=\"model_lightgbm_time_cv_nopast_turf_nowin.pkl\",\n",
    "#     evaluation_filename=\"evaluation_lightgbm_time_cv_nopast_turf_nowin.csv\",\n",
    "#     final_model_filename = \"model_lightgbm_time_cv_full_nopast_turf_nowin.pkl\"\n",
    "# )"
   ]
  },
  {
   "cell_type": "code",
   "execution_count": null,
   "metadata": {
    "collapsed": true,
    "jupyter": {
     "outputs_hidden": true,
     "source_hidden": true
    }
   },
   "outputs": [],
   "source": [
    "# # _turf_nowin オッズと人気を特徴量から省いたタイム、回帰、クロスバリデーション_dev（最新型を随時更新）\n",
    "# trainer = Trainer_lightgbm_time_cv(\n",
    "#     features_filename = \"features_turf_nowin.csv\", \n",
    "#     config_filepath=\"config_lightgbm_kaiki_dev.yaml\",\n",
    "# )\n",
    "# evaluation_df = trainer.run(\n",
    "#     n_splits = 5,\n",
    "#     importance_filename=\"importance_lightgbm_time_cv_dev_turf_nowin\",\n",
    "#     model_filename=\"model_lightgbm_time_cv_dev_turf_nowin.pkl\",\n",
    "#     evaluation_filename=\"evaluation_lightgbm_time_cv_dev_turf_nowin.csv\",\n",
    "#     final_model_filename = \"model_lightgbm_time_cv_full_dev_turf_nowin.pkl\"\n",
    "# )"
   ]
  },
  {
   "cell_type": "code",
   "execution_count": null,
   "metadata": {},
   "outputs": [],
   "source": []
  },
  {
   "cell_type": "code",
   "execution_count": null,
   "metadata": {},
   "outputs": [],
   "source": []
  },
  {
   "cell_type": "code",
   "execution_count": null,
   "metadata": {},
   "outputs": [],
   "source": []
  },
  {
   "cell_type": "code",
   "execution_count": null,
   "metadata": {},
   "outputs": [],
   "source": []
  },
  {
   "cell_type": "code",
   "execution_count": null,
   "metadata": {},
   "outputs": [],
   "source": []
  },
  {
   "cell_type": "code",
   "execution_count": null,
   "metadata": {
    "jupyter": {
     "source_hidden": true
    }
   },
   "outputs": [],
   "source": [
    "# #_dirt オッズありタイム回帰、クロスバリデーション\n",
    "# trainer = Trainer_lightgbm_time_cv(\n",
    "#     features_filename = \"features_dirt.csv\", \n",
    "#     config_filepath=\"config_lightgbm_kaiki.yaml\",\n",
    "# )\n",
    "# evaluation_df = trainer.run(\n",
    "#     n_splits = 5,\n",
    "#     importance_filename=\"importance_lightgbm_time_cv_dirt\",\n",
    "#     model_filename=\"model_lightgbm_time_cv_dirt.pkl\",\n",
    "#     evaluation_filename=\"evaluation_lightgbm_time_cv_dirt.csv\",\n",
    "#     final_model_filename = \"model_lightgbm_time_cv_dirt.pkl\"\n",
    "# )"
   ]
  },
  {
   "cell_type": "code",
   "execution_count": null,
   "metadata": {
    "jupyter": {
     "source_hidden": true
    }
   },
   "outputs": [],
   "source": [
    "# # _dirt オッズと人気を特徴量から省いたタイム、回帰、クロスバリデーション/nopast\n",
    "# trainer = Trainer_lightgbm_time_cv(\n",
    "#     features_filename = \"features_dirt.csv\", \n",
    "#     config_filepath=\"config_lightgbm_kaiki_nopast.yaml\",\n",
    "# )\n",
    "# evaluation_df = trainer.run(\n",
    "#     n_splits = 5,\n",
    "#     importance_filename=\"importance_lightgbm_time_cv_nopast_dirt\",\n",
    "#     model_filename=\"model_lightgbm_time_cv_nopast_dirt.pkl\",\n",
    "#     evaluation_filename=\"evaluation_lightgbm_time_cv_nopast_dirt.csv\",\n",
    "#     final_model_filename = \"model_lightgbm_time_cv_full_nopast_dirt.pkl\"\n",
    "# )"
   ]
  },
  {
   "cell_type": "code",
   "execution_count": null,
   "metadata": {
    "collapsed": true,
    "jupyter": {
     "outputs_hidden": true,
     "source_hidden": true
    }
   },
   "outputs": [],
   "source": [
    "# # _dirt オッズと人気を特徴量から省いたタイム、回帰、クロスバリデーション_dev（最新型を随時更新）\n",
    "# trainer = Trainer_lightgbm_time_cv(\n",
    "#     features_filename = \"features_dirt.csv\", \n",
    "#     config_filepath=\"config_lightgbm_kaiki_dev_dirt.yaml\",\n",
    "# )\n",
    "# evaluation_df = trainer.run(\n",
    "#     n_splits = 5,\n",
    "#     importance_filename=\"importance_lightgbm_time_cv_dev_dirt\",\n",
    "#     model_filename=\"model_lightgbm_time_cv_dev_dirt.pkl\",\n",
    "#     evaluation_filename=\"evaluation_lightgbm_time_cv_dev_dirt.csv\",\n",
    "#     final_model_filename = \"model_lightgbm_time_cv_full_dev_dirt.pkl\"\n",
    "# )"
   ]
  },
  {
   "cell_type": "code",
   "execution_count": null,
   "metadata": {},
   "outputs": [],
   "source": []
  },
  {
   "cell_type": "code",
   "execution_count": null,
   "metadata": {
    "jupyter": {
     "source_hidden": true
    }
   },
   "outputs": [],
   "source": [
    "# #_dirt_newbie オッズありタイム回帰、クロスバリデーション\n",
    "# trainer = Trainer_lightgbm_time_cv(\n",
    "#     features_filename = \"features_dirt_newbie.csv\", \n",
    "#     config_filepath=\"config_lightgbm_kaiki.yaml\",\n",
    "# )\n",
    "# evaluation_df = trainer.run(\n",
    "#     n_splits = 5,\n",
    "#     importance_filename=\"importance_lightgbm_time_cv_dirt_newbie\",\n",
    "#     model_filename=\"model_lightgbm_time_cv_dirt_newbie.pkl\",\n",
    "#     evaluation_filename=\"evaluation_lightgbm_time_cv_dirt_newbie.csv\",\n",
    "#     final_model_filename = \"model_lightgbm_time_cv_dirt_newbie.pkl\"\n",
    "# )"
   ]
  },
  {
   "cell_type": "code",
   "execution_count": null,
   "metadata": {
    "jupyter": {
     "source_hidden": true
    }
   },
   "outputs": [],
   "source": [
    "# # _dirt_newbie オッズと人気を特徴量から省いたタイム、回帰、クロスバリデーション/nopast\n",
    "# trainer = Trainer_lightgbm_time_cv(\n",
    "#     features_filename = \"features_dirt_newbie.csv\", \n",
    "#     config_filepath=\"config_lightgbm_kaiki_nopast.yaml\",\n",
    "# )\n",
    "# evaluation_df = trainer.run(\n",
    "#     n_splits = 5,\n",
    "#     importance_filename=\"importance_lightgbm_time_cv_nopast_dirt_newbie\",\n",
    "#     model_filename=\"model_lightgbm_time_cv_nopast_dirt_newbie.pkl\",\n",
    "#     evaluation_filename=\"evaluation_lightgbm_time_cv_nopast_dirt_newbie.csv\",\n",
    "#     final_model_filename = \"model_lightgbm_time_cv_full_nopast_dirt_newbie.pkl\"\n",
    "# )"
   ]
  },
  {
   "cell_type": "code",
   "execution_count": null,
   "metadata": {},
   "outputs": [],
   "source": [
    "# # _dirt_newbie オッズと人気を特徴量から省いたタイム、回帰、クロスバリデーション_dev（最新型を随時更新）\n",
    "# trainer = Trainer_lightgbm_time_cv(\n",
    "#     features_filename = \"features_dirt_newbie.csv\", \n",
    "#     config_filepath=\"config_lightgbm_kaiki_dev_dirt.yaml\",\n",
    "# )\n",
    "# evaluation_df = trainer.run(\n",
    "#     n_splits = 5,\n",
    "#     importance_filename=\"importance_lightgbm_time_cv_dev_dirt_newbie\",\n",
    "#     model_filename=\"model_lightgbm_time_cv_dev_dirt_newbie.pkl\",\n",
    "#     evaluation_filename=\"evaluation_lightgbm_time_cv_dev_dirt_newbie.csv\",\n",
    "#     final_model_filename = \"model_lightgbm_time_cv_full_dev_dirt_newbie.pkl\"\n",
    "# )"
   ]
  },
  {
   "cell_type": "code",
   "execution_count": null,
   "metadata": {},
   "outputs": [],
   "source": []
  },
  {
   "cell_type": "code",
   "execution_count": null,
   "metadata": {
    "jupyter": {
     "source_hidden": true
    }
   },
   "outputs": [],
   "source": [
    "# #_dirt_nowin オッズありタイム回帰、クロスバリデーション\n",
    "# trainer = Trainer_lightgbm_time_cv(\n",
    "#     features_filename = \"features_dirt_nowin.csv\", \n",
    "#     config_filepath=\"config_lightgbm_kaiki.yaml\",\n",
    "# )\n",
    "# evaluation_df = trainer.run(\n",
    "#     n_splits = 5,\n",
    "#     importance_filename=\"importance_lightgbm_time_cv_dirt_nowin\",\n",
    "#     model_filename=\"model_lightgbm_time_cv_dirt_nowin.pkl\",\n",
    "#     evaluation_filename=\"evaluation_lightgbm_time_cv_dirt_nowin.csv\",\n",
    "#     final_model_filename = \"model_lightgbm_time_cv_dirt_nowin.pkl\"\n",
    "# )"
   ]
  },
  {
   "cell_type": "code",
   "execution_count": null,
   "metadata": {
    "jupyter": {
     "source_hidden": true
    }
   },
   "outputs": [],
   "source": [
    "# # _dirt_nowin オッズと人気を特徴量から省いたタイム、回帰、クロスバリデーション/nopast\n",
    "# trainer = Trainer_lightgbm_time_cv(\n",
    "#     features_filename = \"features_dirt_nowin.csv\", \n",
    "#     config_filepath=\"config_lightgbm_kaiki_nopast.yaml\",\n",
    "# )\n",
    "# evaluation_df = trainer.run(\n",
    "#     n_splits = 5,\n",
    "#     importance_filename=\"importance_lightgbm_time_cv_nopast_dirt_nowin\",\n",
    "#     model_filename=\"model_lightgbm_time_cv_nopast_dirt_nowin.pkl\",\n",
    "#     evaluation_filename=\"evaluation_lightgbm_time_cv_nopast_dirt_nowin.csv\",\n",
    "#     final_model_filename = \"model_lightgbm_time_cv_full_nopast_dirt_nowin.pkl\"\n",
    "# )\n"
   ]
  },
  {
   "cell_type": "code",
   "execution_count": null,
   "metadata": {
    "collapsed": true,
    "jupyter": {
     "outputs_hidden": true,
     "source_hidden": true
    }
   },
   "outputs": [],
   "source": [
    "# # _dirt_nowin オッズと人気を特徴量から省いたタイム、回帰、クロスバリデーション_dev（最新型を随時更新）\n",
    "# trainer = Trainer_lightgbm_time_cv(\n",
    "#     features_filename = \"features_dirt_nowin.csv\", \n",
    "#     config_filepath=\"config_lightgbm_kaiki_dev_dirt.yaml\",\n",
    "# )\n",
    "# evaluation_df = trainer.run(\n",
    "#     n_splits = 5,\n",
    "#     importance_filename=\"importance_lightgbm_time_cv_dev_dirt_nowin\",\n",
    "#     model_filename=\"model_lightgbm_time_cv_dev_dirt_nowin.pkl\",\n",
    "#     evaluation_filename=\"evaluation_lightgbm_time_cv_dev_dirt_nowin.csv\",\n",
    "#     final_model_filename = \"model_lightgbm_time_cv_full_dev_dirt_nowin.pkl\"\n",
    "# )"
   ]
  },
  {
   "cell_type": "code",
   "execution_count": null,
   "metadata": {},
   "outputs": [],
   "source": []
  },
  {
   "cell_type": "code",
   "execution_count": null,
   "metadata": {
    "jupyter": {
     "source_hidden": true
    }
   },
   "outputs": [],
   "source": [
    "# #_obstract オッズありタイム回帰、クロスバリデーション\n",
    "# trainer = Trainer_lightgbm_time_cv(\n",
    "#     features_filename = \"features_obstract.csv\", \n",
    "#     config_filepath=\"config_lightgbm_kaiki.yaml\",\n",
    "# )\n",
    "# evaluation_df = trainer.run(\n",
    "#     n_splits = 5,\n",
    "#     importance_filename=\"importance_lightgbm_time_cv_obstract\",\n",
    "#     model_filename=\"model_lightgbm_time_cv_obstract.pkl\",\n",
    "#     evaluation_filename=\"evaluation_lightgbm_time_cv_obstract.csv\",\n",
    "#     final_model_filename = \"model_lightgbm_time_cv_obstract.pkl\"\n",
    "# )"
   ]
  },
  {
   "cell_type": "code",
   "execution_count": null,
   "metadata": {
    "jupyter": {
     "source_hidden": true
    }
   },
   "outputs": [],
   "source": [
    "# # _obstract オッズと人気を特徴量から省いたタイム、回帰、クロスバリデーション/nopast\n",
    "# trainer = Trainer_lightgbm_time_cv(\n",
    "#     features_filename = \"features_obstract.csv\", \n",
    "#     config_filepath=\"config_lightgbm_kaiki_nopast.yaml\",\n",
    "# )\n",
    "# evaluation_df = trainer.run(\n",
    "#     n_splits = 5,\n",
    "#     importance_filename=\"importance_lightgbm_time_cv_nopast_obstract\",\n",
    "#     model_filename=\"model_lightgbm_time_cv_nopast_obstract.pkl\",\n",
    "#     evaluation_filename=\"evaluation_lightgbm_time_cv_nopast_obstract.csv\",\n",
    "#     final_model_filename = \"model_lightgbm_time_cv_full_nopast_obstract.pkl\"\n",
    "# )"
   ]
  },
  {
   "cell_type": "code",
   "execution_count": null,
   "metadata": {
    "collapsed": true,
    "jupyter": {
     "outputs_hidden": true
    }
   },
   "outputs": [],
   "source": [
    "# # _obstract オッズと人気を特徴量から省いたタイム、回帰、クロスバリデーション_dev（最新型を随時更新）\n",
    "# trainer = Trainer_lightgbm_time_cv(\n",
    "#     features_filename = \"features_obstract.csv\", \n",
    "#     config_filepath=\"config_lightgbm_kaiki_dev_obstract.yaml\",\n",
    "# )\n",
    "# evaluation_df = trainer.run(\n",
    "#     n_splits = 3,\n",
    "#     importance_filename=\"importance_lightgbm_time_cv_dev_obstract\",\n",
    "#     model_filename=\"model_lightgbm_time_cv_dev_obstract.pkl\",\n",
    "#     evaluation_filename=\"evaluation_lightgbm_time_cv_dev_obstract.csv\",\n",
    "#     final_model_filename = \"model_lightgbm_time_cv_full_dev_obstract.pkl\"\n",
    "# )"
   ]
  },
  {
   "cell_type": "code",
   "execution_count": null,
   "metadata": {},
   "outputs": [],
   "source": []
  },
  {
   "cell_type": "code",
   "execution_count": null,
   "metadata": {},
   "outputs": [],
   "source": []
  },
  {
   "cell_type": "code",
   "execution_count": null,
   "metadata": {},
   "outputs": [],
   "source": []
  },
  {
   "cell_type": "markdown",
   "metadata": {
    "jp-MarkdownHeadingCollapsed": true
   },
   "source": [
    "### speed_index"
   ]
  },
  {
   "cell_type": "code",
   "execution_count": null,
   "metadata": {},
   "outputs": [],
   "source": [
    "# missing_count = features_turf[\"speed_index\"].isna().sum()\n",
    "# print(f\"speed_index の欠損数: {missing_count}\")\n",
    "# # missing_rows = features_dirt[features_dirt[\"speed_index\"].isna()]\n",
    "# # missing_rows[[\"race_id\",\"horse_id\",\"umaban\",\"speed_index\"]].tail(32)\n",
    "\n"
   ]
  },
  {
   "cell_type": "code",
   "execution_count": null,
   "metadata": {},
   "outputs": [],
   "source": [
    "# # オッズと人気を特徴量から省いたランク、芝、クロスバリデーション\n",
    "# trainer = Trainer_lightgbm_time_cv(\n",
    "#     features_filename = \"features_dirt.csv\", \n",
    "#     config_filepath=\"config_lightgbm_kaiki_dev_dirt.yaml\",\n",
    "# )\n",
    "# evaluation_df = trainer.run(\n",
    "#     n_splits = 5,\n",
    "#     importance_filename=\"importance_lightgbm_kaiki_cv_dev_turf\",\n",
    "#     model_filename=\"model_lightgbm_kaiki_cv_dev_turf.pkl\",\n",
    "#     evaluation_filename=\"evaluation_lightgbm_kaiki_cv_dev_turf.csv\",\n",
    "#     final_model_filename = \"model_lightgbm_kaiki_cv_full_dev_turf.pkl\",\n",
    "#     final_num_boost_round = 2000\n",
    "# )"
   ]
  },
  {
   "cell_type": "code",
   "execution_count": null,
   "metadata": {
    "collapsed": true,
    "jupyter": {
     "outputs_hidden": true
    }
   },
   "outputs": [],
   "source": [
    "# # オッズと人気を特徴量から省いたランク、芝、クロスバリデーション\n",
    "# trainer = Trainer_lightgbm_time_cv(\n",
    "#     features_filename = \"features_turf.csv\", \n",
    "#     config_filepath=\"config_lightgbm_kaiki_dev_turf_only_tenkai.yaml\",\n",
    "# )\n",
    "# evaluation_df = trainer.run(\n",
    "#     n_splits = 5,\n",
    "#     importance_filename=\"importance_lightgbm_kaiki_cv_dev_turf\",\n",
    "#     model_filename=\"model_lightgbm_kaiki_cv_dev_turf.pkl\",\n",
    "#     evaluation_filename=\"evaluation_lightgbm_kaiki_cv_dev_turf.csv\",\n",
    "#     final_model_filename = \"model_lightgbm_kaiki_cv_full_dev_turf.pkl\",\n",
    "#     final_num_boost_round = 2000\n",
    "# )"
   ]
  },
  {
   "cell_type": "code",
   "execution_count": null,
   "metadata": {},
   "outputs": [],
   "source": []
  },
  {
   "cell_type": "code",
   "execution_count": null,
   "metadata": {},
   "outputs": [],
   "source": []
  },
  {
   "cell_type": "code",
   "execution_count": null,
   "metadata": {},
   "outputs": [],
   "source": []
  },
  {
   "cell_type": "code",
   "execution_count": null,
   "metadata": {},
   "outputs": [],
   "source": []
  },
  {
   "cell_type": "code",
   "execution_count": null,
   "metadata": {},
   "outputs": [],
   "source": []
  },
  {
   "cell_type": "code",
   "execution_count": null,
   "metadata": {},
   "outputs": [],
   "source": []
  },
  {
   "cell_type": "code",
   "execution_count": null,
   "metadata": {},
   "outputs": [],
   "source": []
  },
  {
   "cell_type": "code",
   "execution_count": null,
   "metadata": {},
   "outputs": [],
   "source": []
  },
  {
   "cell_type": "code",
   "execution_count": null,
   "metadata": {},
   "outputs": [],
   "source": []
  },
  {
   "cell_type": "code",
   "execution_count": null,
   "metadata": {},
   "outputs": [],
   "source": [
    "# # オッズと人気を特徴量から省いた場合_ランク、二値、クロスバリデーション（最終番目）\n",
    "# evaluator = Evaluator_lightgbm_time_kaiki(\n",
    "#     evaluation_filename=\"evaluation_lightgbm_kaiki_cv_dev_turf.csv\",\n",
    "#     return_tables_filename = \"return_tables_dirt.pickle\",\n",
    "# )\n",
    "# evaluator.summarize_box_top_n(n=3,save_filename=\"box_summary_kaiki_dev_turf.csv\")\n",
    "# summary_df_noodds_gbm = evaluator.summarize_box_exp(exp_name=\"lightgbm_kaiki_dev_turf\")\n",
    "# summary_df_noodds_gbm"
   ]
  },
  {
   "cell_type": "code",
   "execution_count": null,
   "metadata": {},
   "outputs": [],
   "source": []
  },
  {
   "cell_type": "code",
   "execution_count": null,
   "metadata": {},
   "outputs": [],
   "source": []
  },
  {
   "cell_type": "code",
   "execution_count": null,
   "metadata": {},
   "outputs": [],
   "source": []
  },
  {
   "cell_type": "code",
   "execution_count": null,
   "metadata": {},
   "outputs": [],
   "source": []
  },
  {
   "cell_type": "code",
   "execution_count": null,
   "metadata": {},
   "outputs": [],
   "source": []
  },
  {
   "cell_type": "code",
   "execution_count": null,
   "metadata": {},
   "outputs": [],
   "source": []
  },
  {
   "cell_type": "code",
   "execution_count": null,
   "metadata": {},
   "outputs": [],
   "source": []
  },
  {
   "cell_type": "code",
   "execution_count": null,
   "metadata": {},
   "outputs": [],
   "source": []
  },
  {
   "cell_type": "code",
   "execution_count": null,
   "metadata": {},
   "outputs": [],
   "source": []
  },
  {
   "cell_type": "markdown",
   "metadata": {},
   "source": [
    "### 二値分類"
   ]
  },
  {
   "cell_type": "code",
   "execution_count": 5,
   "metadata": {},
   "outputs": [
    {
     "name": "stdout",
     "output_type": "stream",
     "text": [
      "Training fold 1/5...\n",
      "Training until validation scores don't improve for 100 rounds\n",
      "[100]\tvalid_0's binary_logloss: 0.245318\n",
      "[200]\tvalid_0's binary_logloss: 0.238419\n",
      "[300]\tvalid_0's binary_logloss: 0.236111\n",
      "[400]\tvalid_0's binary_logloss: 0.235201\n",
      "[500]\tvalid_0's binary_logloss: 0.23492\n",
      "[600]\tvalid_0's binary_logloss: 0.234965\n",
      "Early stopping, best iteration is:\n",
      "[536]\tvalid_0's binary_logloss: 0.234796\n",
      "-------------------- Metrics --------------------\n",
      "Accuracy: 0.6906\n",
      "Precision: 0.1615\n",
      "Recall: 0.7203\n",
      "F1 Score: 0.2639\n",
      "ROC AUC: 0.7746\n",
      "Training fold 2/5...\n",
      "Training until validation scores don't improve for 100 rounds\n",
      "[600]\tvalid_0's binary_logloss: 0.239828\n",
      "[700]\tvalid_0's binary_logloss: 0.239383\n",
      "[800]\tvalid_0's binary_logloss: 0.239245\n",
      "[900]\tvalid_0's binary_logloss: 0.239199\n",
      "Early stopping, best iteration is:\n",
      "[827]\tvalid_0's binary_logloss: 0.239161\n",
      "-------------------- Metrics --------------------\n",
      "Accuracy: 0.6665\n",
      "Precision: 0.1512\n",
      "Recall: 0.7178\n",
      "F1 Score: 0.2499\n",
      "ROC AUC: 0.7615\n",
      "Training fold 3/5...\n",
      "Training until validation scores don't improve for 100 rounds\n",
      "[900]\tvalid_0's binary_logloss: 0.234649\n",
      "[1000]\tvalid_0's binary_logloss: 0.234344\n",
      "[1100]\tvalid_0's binary_logloss: 0.234176\n",
      "[1200]\tvalid_0's binary_logloss: 0.234187\n",
      "Early stopping, best iteration is:\n",
      "[1165]\tvalid_0's binary_logloss: 0.234114\n",
      "-------------------- Metrics --------------------\n",
      "Accuracy: 0.6710\n",
      "Precision: 0.1581\n",
      "Recall: 0.7538\n",
      "F1 Score: 0.2613\n",
      "ROC AUC: 0.7785\n",
      "Training fold 4/5...\n",
      "Training until validation scores don't improve for 100 rounds\n",
      "[1200]\tvalid_0's binary_logloss: 0.233181\n",
      "[1300]\tvalid_0's binary_logloss: 0.232889\n",
      "[1400]\tvalid_0's binary_logloss: 0.232719\n",
      "[1500]\tvalid_0's binary_logloss: 0.232699\n",
      "Early stopping, best iteration is:\n",
      "[1462]\tvalid_0's binary_logloss: 0.232665\n",
      "-------------------- Metrics --------------------\n",
      "Accuracy: 0.6826\n",
      "Precision: 0.1602\n",
      "Recall: 0.7419\n",
      "F1 Score: 0.2635\n",
      "ROC AUC: 0.7796\n",
      "Training final model using all data...\n",
      "Final model training completed.\n"
     ]
    }
   ],
   "source": [
    "# オッズと人気を特徴量から省いたランク、日、クロスバリデーション\n",
    "trainer = Trainer_lightgbm_rank_niti_cv(\n",
    "    \n",
    "    features_filename = \"features_turf.csv\", \n",
    "    config_filepath=\"config_lightgbm_niti_dev_turf.yaml\",\n",
    ")\n",
    "evaluation_df = trainer.run(\n",
    "    n_splits = 5,\n",
    "    importance_filename=\"importance_lightgbm_rank_niti_cv_dev_turf\",\n",
    "    model_filename=\"model_lightgbm_rank_niti_cv_dev_turf.pkl\",\n",
    "    evaluation_filename=\"evaluation_lightgbm_rank_niti_cv_dev_turf.csv\",\n",
    "    final_model_filename = \"model_lightgbm_rank_niti_cv_full_dev_turf.pkl\",\n",
    "    final_num_boost_round = 1000\n",
    ")"
   ]
  },
  {
   "cell_type": "code",
   "execution_count": 6,
   "metadata": {},
   "outputs": [
    {
     "name": "stdout",
     "output_type": "stream",
     "text": [
      "Training fold 1/5...\n",
      "Training until validation scores don't improve for 100 rounds\n",
      "[100]\tvalid_0's binary_logloss: 0.227781\n",
      "[200]\tvalid_0's binary_logloss: 0.221741\n",
      "[300]\tvalid_0's binary_logloss: 0.219725\n",
      "[400]\tvalid_0's binary_logloss: 0.219036\n",
      "[500]\tvalid_0's binary_logloss: 0.21877\n",
      "[600]\tvalid_0's binary_logloss: 0.218984\n",
      "Early stopping, best iteration is:\n",
      "[505]\tvalid_0's binary_logloss: 0.218759\n",
      "-------------------- Metrics --------------------\n",
      "Accuracy: 0.7338\n",
      "Precision: 0.1640\n",
      "Recall: 0.6812\n",
      "F1 Score: 0.2644\n",
      "ROC AUC: 0.7835\n",
      "Training fold 2/5...\n",
      "Training until validation scores don't improve for 100 rounds\n",
      "[600]\tvalid_0's binary_logloss: 0.222017\n",
      "[700]\tvalid_0's binary_logloss: 0.221877\n",
      "[800]\tvalid_0's binary_logloss: 0.221767\n",
      "[900]\tvalid_0's binary_logloss: 0.22182\n",
      "Early stopping, best iteration is:\n",
      "[817]\tvalid_0's binary_logloss: 0.221724\n",
      "-------------------- Metrics --------------------\n",
      "Accuracy: 0.7127\n",
      "Precision: 0.1610\n",
      "Recall: 0.7120\n",
      "F1 Score: 0.2626\n",
      "ROC AUC: 0.7815\n",
      "Training fold 3/5...\n",
      "Training until validation scores don't improve for 100 rounds\n",
      "[900]\tvalid_0's binary_logloss: 0.224096\n",
      "[1000]\tvalid_0's binary_logloss: 0.223782\n",
      "[1100]\tvalid_0's binary_logloss: 0.223667\n",
      "[1200]\tvalid_0's binary_logloss: 0.223641\n",
      "Early stopping, best iteration is:\n",
      "[1177]\tvalid_0's binary_logloss: 0.22357\n",
      "-------------------- Metrics --------------------\n",
      "Accuracy: 0.6936\n",
      "Precision: 0.1528\n",
      "Recall: 0.7231\n",
      "F1 Score: 0.2523\n",
      "ROC AUC: 0.7740\n",
      "Training fold 4/5...\n",
      "Training until validation scores don't improve for 100 rounds\n",
      "[1200]\tvalid_0's binary_logloss: 0.222459\n",
      "[1300]\tvalid_0's binary_logloss: 0.221823\n",
      "[1400]\tvalid_0's binary_logloss: 0.221471\n",
      "[1500]\tvalid_0's binary_logloss: 0.221341\n",
      "[1600]\tvalid_0's binary_logloss: 0.221309\n",
      "[1700]\tvalid_0's binary_logloss: 0.22127\n",
      "Early stopping, best iteration is:\n",
      "[1626]\tvalid_0's binary_logloss: 0.221245\n",
      "-------------------- Metrics --------------------\n",
      "Accuracy: 0.7069\n",
      "Precision: 0.1591\n",
      "Recall: 0.7162\n",
      "F1 Score: 0.2603\n",
      "ROC AUC: 0.7839\n",
      "Training final model using all data...\n",
      "Final model training completed.\n"
     ]
    }
   ],
   "source": [
    "# オッズと人気を特徴量から省いたランク、芝、クロスバリデーション\n",
    "trainer = Trainer_lightgbm_rank_niti_cv(\n",
    "    \n",
    "    features_filename = \"features_dirt.csv\", \n",
    "    config_filepath=\"config_lightgbm_niti_dev_dirt.yaml\",\n",
    ")\n",
    "evaluation_df = trainer.run(\n",
    "    n_splits = 5,\n",
    "    importance_filename=\"importance_lightgbm_rank_niti_cv_dev_dirt\",\n",
    "    model_filename=\"model_lightgbm_rank_niti_cv_dev_dirt.pkl\",\n",
    "    evaluation_filename=\"evaluation_lightgbm_rank_niti_cv_dev_dirt.csv\",\n",
    "    final_model_filename = \"model_lightgbm_rank_niti_cv_full_dev_dirt.pkl\",\n",
    "    final_num_boost_round = 1000\n",
    ")"
   ]
  },
  {
   "cell_type": "code",
   "execution_count": 7,
   "metadata": {},
   "outputs": [
    {
     "name": "stdout",
     "output_type": "stream",
     "text": [
      "Training fold 1/3...\n",
      "Training until validation scores don't improve for 100 rounds\n",
      "[100]\tvalid_0's binary_logloss: 0.262064\n",
      "[200]\tvalid_0's binary_logloss: 0.257142\n",
      "[300]\tvalid_0's binary_logloss: 0.25784\n",
      "Early stopping, best iteration is:\n",
      "[229]\tvalid_0's binary_logloss: 0.256785\n",
      "-------------------- Metrics --------------------\n",
      "Accuracy: 0.7266\n",
      "Precision: 0.1887\n",
      "Recall: 0.6639\n",
      "F1 Score: 0.2939\n",
      "ROC AUC: 0.7644\n",
      "Training fold 2/3...\n",
      "Training until validation scores don't improve for 100 rounds\n",
      "[300]\tvalid_0's binary_logloss: 0.266531\n",
      "[400]\tvalid_0's binary_logloss: 0.264234\n",
      "[500]\tvalid_0's binary_logloss: 0.264393\n",
      "Early stopping, best iteration is:\n",
      "[436]\tvalid_0's binary_logloss: 0.264057\n",
      "-------------------- Metrics --------------------\n",
      "Accuracy: 0.6905\n",
      "Precision: 0.1992\n",
      "Recall: 0.7569\n",
      "F1 Score: 0.3154\n",
      "ROC AUC: 0.7899\n",
      "Training final model using all data...\n",
      "Final model training completed.\n"
     ]
    }
   ],
   "source": [
    "# オッズと人気を特徴量から省いたランク、二値、クロスバリデーション\n",
    "trainer = Trainer_lightgbm_rank_niti_cv(\n",
    "    \n",
    "    features_filename = \"features_obstract.csv\", \n",
    "    config_filepath=\"config_lightgbm_niti_dev_obstract.yaml\",\n",
    ")\n",
    "evaluation_df = trainer.run(\n",
    "    n_splits = 3,\n",
    "    importance_filename=\"importance_lightgbm_rank_niti_cv_dev_obstract\",\n",
    "    model_filename=\"model_lightgbm_rank_niti_cv_dev_obstract.pkl\",\n",
    "    evaluation_filename=\"evaluation_lightgbm_rank_niti_cv_dev_obstract.csv\",\n",
    "    final_model_filename = \"model_lightgbm_rank_niti_cv_full_dev_obstract.pkl\"\n",
    ")"
   ]
  },
  {
   "cell_type": "code",
   "execution_count": 8,
   "metadata": {},
   "outputs": [
    {
     "ename": "FileNotFoundError",
     "evalue": "[Errno 2] No such file or directory: '../data/03_train/model_lightgbm_rank_niti_cv_full_dev_turf.pkl'",
     "output_type": "error",
     "traceback": [
      "\u001b[0;31m---------------------------------------------------------------------------\u001b[0m",
      "\u001b[0;31mFileNotFoundError\u001b[0m                         Traceback (most recent call last)",
      "Cell \u001b[0;32mIn[8], line 11\u001b[0m\n\u001b[1;32m      8\u001b[0m OUTPUT_DIR \u001b[38;5;241m=\u001b[39m DATA_DIR \u001b[38;5;241m/\u001b[39m \u001b[38;5;124m\"\u001b[39m\u001b[38;5;124m03_train\u001b[39m\u001b[38;5;124m\"\u001b[39m\n\u001b[1;32m     10\u001b[0m \u001b[38;5;66;03m# モデルの読み込み\u001b[39;00m\n\u001b[0;32m---> 11\u001b[0m \u001b[38;5;28;01mwith\u001b[39;00m \u001b[38;5;28mopen\u001b[39m(OUTPUT_DIR\u001b[38;5;241m/\u001b[39m\u001b[38;5;124m\"\u001b[39m\u001b[38;5;124mmodel_lightgbm_rank_niti_cv_full_dev_turf.pkl\u001b[39m\u001b[38;5;124m\"\u001b[39m, \u001b[38;5;124m\"\u001b[39m\u001b[38;5;124mrb\u001b[39m\u001b[38;5;124m\"\u001b[39m) \u001b[38;5;28;01mas\u001b[39;00m f:\n\u001b[1;32m     12\u001b[0m     model \u001b[38;5;241m=\u001b[39m pickle\u001b[38;5;241m.\u001b[39mload(f)\n\u001b[1;32m     14\u001b[0m \u001b[38;5;66;03m# ブースト回数の取得\u001b[39;00m\n",
      "File \u001b[0;32m/opt/anaconda3/envs/horse/lib/python3.12/site-packages/IPython/core/interactiveshell.py:324\u001b[0m, in \u001b[0;36m_modified_open\u001b[0;34m(file, *args, **kwargs)\u001b[0m\n\u001b[1;32m    317\u001b[0m \u001b[38;5;28;01mif\u001b[39;00m file \u001b[38;5;129;01min\u001b[39;00m {\u001b[38;5;241m0\u001b[39m, \u001b[38;5;241m1\u001b[39m, \u001b[38;5;241m2\u001b[39m}:\n\u001b[1;32m    318\u001b[0m     \u001b[38;5;28;01mraise\u001b[39;00m \u001b[38;5;167;01mValueError\u001b[39;00m(\n\u001b[1;32m    319\u001b[0m         \u001b[38;5;124mf\u001b[39m\u001b[38;5;124m\"\u001b[39m\u001b[38;5;124mIPython won\u001b[39m\u001b[38;5;124m'\u001b[39m\u001b[38;5;124mt let you open fd=\u001b[39m\u001b[38;5;132;01m{\u001b[39;00mfile\u001b[38;5;132;01m}\u001b[39;00m\u001b[38;5;124m by default \u001b[39m\u001b[38;5;124m\"\u001b[39m\n\u001b[1;32m    320\u001b[0m         \u001b[38;5;124m\"\u001b[39m\u001b[38;5;124mas it is likely to crash IPython. If you know what you are doing, \u001b[39m\u001b[38;5;124m\"\u001b[39m\n\u001b[1;32m    321\u001b[0m         \u001b[38;5;124m\"\u001b[39m\u001b[38;5;124myou can use builtins\u001b[39m\u001b[38;5;124m'\u001b[39m\u001b[38;5;124m open.\u001b[39m\u001b[38;5;124m\"\u001b[39m\n\u001b[1;32m    322\u001b[0m     )\n\u001b[0;32m--> 324\u001b[0m \u001b[38;5;28;01mreturn\u001b[39;00m io_open(file, \u001b[38;5;241m*\u001b[39margs, \u001b[38;5;241m*\u001b[39m\u001b[38;5;241m*\u001b[39mkwargs)\n",
      "\u001b[0;31mFileNotFoundError\u001b[0m: [Errno 2] No such file or directory: '../data/03_train/model_lightgbm_rank_niti_cv_full_dev_turf.pkl'"
     ]
    }
   ],
   "source": [
    "# #全体のレースを学習した際、最後のブースト回数よりも多いか確認\n",
    "# import lightgbm as lgb\n",
    "# import pickle\n",
    "\n",
    "# from pathlib import Path\n",
    "# DATA_DIR = Path(\"..\", \"data\")\n",
    "# INPUT_DIR = DATA_DIR / \"02_features\"\n",
    "# OUTPUT_DIR = DATA_DIR / \"03_train\"\n",
    "\n",
    "# # モデルの読み込み\n",
    "# with open(OUTPUT_DIR/\"model_lightgbm_rank_niti_cv_full_dev_turf.pkl\", \"rb\") as f:\n",
    "#     model = pickle.load(f)\n",
    "\n",
    "# # ブースト回数の取得\n",
    "# num_trees = model.num_trees()\n",
    "\n",
    "# print(f\"ブースト回数（num_boost_round）: {num_trees}\")"
   ]
  },
  {
   "cell_type": "code",
   "execution_count": null,
   "metadata": {},
   "outputs": [],
   "source": []
  },
  {
   "cell_type": "code",
   "execution_count": null,
   "metadata": {},
   "outputs": [],
   "source": []
  },
  {
   "cell_type": "code",
   "execution_count": null,
   "metadata": {},
   "outputs": [],
   "source": []
  },
  {
   "cell_type": "markdown",
   "metadata": {},
   "source": [
    "### 未勝利"
   ]
  },
  {
   "cell_type": "code",
   "execution_count": null,
   "metadata": {},
   "outputs": [],
   "source": []
  },
  {
   "cell_type": "code",
   "execution_count": null,
   "metadata": {},
   "outputs": [],
   "source": [
    "\n",
    "trainer = Trainer_lightgbm_rank_niti_cv(\n",
    "    features_filename = \"features_turf_nowin.csv\", \n",
    "    config_filepath=\"config_lightgbm_niti_dev_turf_nowin.yaml\",\n",
    ")\n",
    "evaluation_df = trainer.run(\n",
    "    n_splits = 5,\n",
    "    importance_filename=\"importance_lightgbm_rank_niti_cv_dev_turf_nowin\",\n",
    "    model_filename=\"model_lightgbm_rank_niti_cv_dev_turf_nowin.pkl\",\n",
    "    evaluation_filename=\"evaluation_lightgbm_rank_niti_cv_dev_turf_nowin.csv\",\n",
    "    final_model_filename = \"model_lightgbm_rank_niti_cv_full_dev_turf_nowin.pkl\"\n",
    ")"
   ]
  },
  {
   "cell_type": "code",
   "execution_count": null,
   "metadata": {},
   "outputs": [],
   "source": [
    "# オッズと人気を特徴量から省いたランク、回帰、クロスバリデーション\n",
    "trainer = Trainer_lightgbm_rank_niti_cv(\n",
    "    features_filename = \"features_dirt_nowin.csv\", \n",
    "    config_filepath=\"config_lightgbm_niti_dev_dirt_nowin.yaml\",\n",
    ")\n",
    "evaluation_df = trainer.run(\n",
    "    n_splits = 5,\n",
    "    importance_filename=\"importance_lightgbm_rank_niti_cv_dev_dirt_nowin\",\n",
    "    model_filename=\"model_lightgbm_rank_niti_cv_dev_dirt_nowin.pkl\",\n",
    "    evaluation_filename=\"evaluation_lightgbm_rank_niti_cv_dev_dirt_nowin.csv\",\n",
    "    final_model_filename = \"model_lightgbm_rank_niti_cv_full_dev_dirt_nowin.pkl\"\n",
    ")"
   ]
  },
  {
   "cell_type": "code",
   "execution_count": null,
   "metadata": {},
   "outputs": [],
   "source": []
  },
  {
   "cell_type": "code",
   "execution_count": null,
   "metadata": {},
   "outputs": [],
   "source": []
  },
  {
   "cell_type": "markdown",
   "metadata": {},
   "source": [
    "### 体重なし"
   ]
  },
  {
   "cell_type": "code",
   "execution_count": null,
   "metadata": {},
   "outputs": [],
   "source": [
    "# オッズと人気を特徴量から省いたランク、日、クロスバリデーション\n",
    "trainer = Trainer_lightgbm_rank_niti_cv(\n",
    "    \n",
    "    features_filename = \"features_turf.csv\", \n",
    "    config_filepath=\"config_lightgbm_niti_dev_turf_noweight.yaml\",\n",
    ")\n",
    "evaluation_df = trainer.run(\n",
    "    n_splits = 5,\n",
    "    importance_filename=\"importance_lightgbm_rank_niti_cv_dev_turf_noweight\",\n",
    "    model_filename=\"model_lightgbm_rank_niti_cv_dev_turf_noweight.pkl\",\n",
    "    evaluation_filename=\"evaluation_lightgbm_rank_niti_cv_dev_turf_noweight.csv\",\n",
    "    final_model_filename = \"model_lightgbm_rank_niti_cv_full_dev_turf_noweight.pkl\",\n",
    "    final_num_boost_round = 1000\n",
    ")"
   ]
  },
  {
   "cell_type": "code",
   "execution_count": null,
   "metadata": {},
   "outputs": [],
   "source": [
    "# オッズと人気を特徴量から省いたランク、芝、クロスバリデーション\n",
    "trainer = Trainer_lightgbm_rank_niti_cv(\n",
    "    \n",
    "    features_filename = \"features_dirt.csv\", \n",
    "    config_filepath=\"config_lightgbm_niti_dev_dirt_noweight.yaml\",\n",
    ")\n",
    "evaluation_df = trainer.run(\n",
    "    n_splits = 5,\n",
    "    importance_filename=\"importance_lightgbm_rank_niti_cv_dev_dirt_noweight\",\n",
    "    model_filename=\"model_lightgbm_rank_niti_cv_dev_dirt_noweight.pkl\",\n",
    "    evaluation_filename=\"evaluation_lightgbm_rank_niti_cv_dev_dirt_noweight.csv\",\n",
    "    final_model_filename = \"model_lightgbm_rank_niti_cv_full_dev_dirt_noweight.pkl\",\n",
    "    final_num_boost_round = 1000\n",
    ")"
   ]
  },
  {
   "cell_type": "code",
   "execution_count": null,
   "metadata": {},
   "outputs": [],
   "source": [
    "# オッズと人気を特徴量から省いたランク、二値、クロスバリデーション\n",
    "trainer = Trainer_lightgbm_rank_niti_cv(\n",
    "    \n",
    "    features_filename = \"features_obstract.csv\", \n",
    "    config_filepath=\"config_lightgbm_niti_dev_obstract_noweight.yaml\",\n",
    ")\n",
    "evaluation_df = trainer.run(\n",
    "    n_splits = 3,\n",
    "    importance_filename=\"importance_lightgbm_rank_niti_cv_dev_obstract_noweight\",\n",
    "    model_filename=\"model_lightgbm_rank_niti_cv_dev_obstract_noweight.pkl\",\n",
    "    evaluation_filename=\"evaluation_lightgbm_rank_niti_cv_dev_obstract_noweight.csv\",\n",
    "    final_model_filename = \"model_lightgbm_rank_niti_cv_full_dev_obstract_noweight.pkl\"\n",
    ")"
   ]
  },
  {
   "cell_type": "code",
   "execution_count": null,
   "metadata": {},
   "outputs": [],
   "source": [
    "\n",
    "trainer = Trainer_lightgbm_rank_niti_cv(\n",
    "    features_filename = \"features_turf_nowin.csv\", \n",
    "    config_filepath=\"config_lightgbm_niti_dev_turf_nowin_noweight.yaml\",\n",
    ")\n",
    "evaluation_df = trainer.run(\n",
    "    n_splits = 5,\n",
    "    importance_filename=\"importance_lightgbm_rank_niti_cv_dev_turf_nowin_noweight\",\n",
    "    model_filename=\"model_lightgbm_rank_niti_cv_dev_turf_nowin_noweight.pkl\",\n",
    "    evaluation_filename=\"evaluation_lightgbm_rank_niti_cv_dev_turf_nowin_noweight.csv\",\n",
    "    final_model_filename = \"model_lightgbm_rank_niti_cv_full_dev_turf_nowin_noweight.pkl\"\n",
    ")"
   ]
  },
  {
   "cell_type": "code",
   "execution_count": null,
   "metadata": {},
   "outputs": [],
   "source": [
    "# オッズと人気を特徴量から省いたランク、回帰、クロスバリデーション\n",
    "trainer = Trainer_lightgbm_rank_niti_cv(\n",
    "    features_filename = \"features_dirt_nowin.csv\", \n",
    "    config_filepath=\"config_lightgbm_niti_dev_dirt_nowin_noweight.yaml\",\n",
    ")\n",
    "evaluation_df = trainer.run(\n",
    "    n_splits = 5,\n",
    "    importance_filename=\"importance_lightgbm_rank_niti_cv_dev_dirt_nowin_noweight\",\n",
    "    model_filename=\"model_lightgbm_rank_niti_cv_dev_dirt_nowin_noweight.pkl\",\n",
    "    evaluation_filename=\"evaluation_lightgbm_rank_niti_cv_dev_dirt_nowin_noweight.csv\",\n",
    "    final_model_filename = \"model_lightgbm_rank_niti_cv_full_dev_dirt_nowin_noweight.pkl\"\n",
    ")"
   ]
  },
  {
   "cell_type": "code",
   "execution_count": null,
   "metadata": {},
   "outputs": [],
   "source": []
  },
  {
   "cell_type": "code",
   "execution_count": null,
   "metadata": {},
   "outputs": [],
   "source": []
  },
  {
   "cell_type": "code",
   "execution_count": null,
   "metadata": {},
   "outputs": [],
   "source": []
  },
  {
   "cell_type": "markdown",
   "metadata": {
    "jp-MarkdownHeadingCollapsed": true
   },
   "source": [
    "### オッズあり、芝ダート障害・学習"
   ]
  },
  {
   "cell_type": "code",
   "execution_count": null,
   "metadata": {
    "collapsed": true,
    "jupyter": {
     "outputs_hidden": true,
     "source_hidden": true
    }
   },
   "outputs": [],
   "source": [
    "# _turf_dev（最新型を随時更新）\n",
    "trainer = Trainer_lightgbm_time_cv(\n",
    "    features_filename = \"features_turf.csv\", \n",
    "    config_filepath=\"config_lightgbm_kaiki_dev_odds.yaml\",\n",
    ")\n",
    "evaluation_df = trainer.run(\n",
    "    n_splits = 5,\n",
    "    importance_filename=\"importance_lightgbm_time_cv_dev_turf_odds\",\n",
    "    model_filename=\"model_lightgbm_time_cv_dev_turf_odds.pkl\",\n",
    "    evaluation_filename=\"evaluation_lightgbm_time_cv_dev_turf_odds.csv\",\n",
    "    final_model_filename = \"model_lightgbm_time_cv_full_dev_turf_odds.pkl\"\n",
    ")"
   ]
  },
  {
   "cell_type": "code",
   "execution_count": null,
   "metadata": {
    "collapsed": true,
    "jupyter": {
     "outputs_hidden": true,
     "source_hidden": true
    }
   },
   "outputs": [],
   "source": [
    "# _dirt_dev（最新型を随時更新）\n",
    "trainer = Trainer_lightgbm_time_cv(\n",
    "    features_filename = \"features_dirt.csv\", \n",
    "    config_filepath=\"config_lightgbm_kaiki_dev_dirt_odds.yaml\",\n",
    ")\n",
    "evaluation_df = trainer.run(\n",
    "    n_splits = 5,\n",
    "    importance_filename=\"importance_lightgbm_time_cv_dev_dirt_odds\",\n",
    "    model_filename=\"model_lightgbm_time_cv_dev_dirt_odds.pkl\",\n",
    "    evaluation_filename=\"evaluation_lightgbm_time_cv_dev_dirt_odds.csv\",\n",
    "    final_model_filename = \"model_lightgbm_time_cv_full_dev_dir_oddst.pkl\"\n",
    ")"
   ]
  },
  {
   "cell_type": "code",
   "execution_count": null,
   "metadata": {
    "collapsed": true,
    "jupyter": {
     "outputs_hidden": true,
     "source_hidden": true
    }
   },
   "outputs": [],
   "source": [
    "# _obstract_dev（最新型を随時更新）\n",
    "trainer = Trainer_lightgbm_time_cv(\n",
    "    features_filename = \"features_obstract.csv\", \n",
    "    config_filepath=\"config_lightgbm_kaiki_dev_obstract_odds.yaml\",\n",
    ")\n",
    "evaluation_df = trainer.run(\n",
    "    n_splits = 3,\n",
    "    importance_filename=\"importance_lightgbm_time_cv_dev_obstract_odds\",\n",
    "    model_filename=\"model_lightgbm_time_cv_dev_obstract_odds.pkl\",\n",
    "    evaluation_filename=\"evaluation_lightgbm_time_cv_dev_obstract_odds.csv\",\n",
    "    final_model_filename = \"model_lightgbm_time_cv_full_dev_obstract_odds.pkl\"\n",
    ")"
   ]
  },
  {
   "cell_type": "code",
   "execution_count": null,
   "metadata": {},
   "outputs": [],
   "source": []
  },
  {
   "cell_type": "code",
   "execution_count": null,
   "metadata": {},
   "outputs": [],
   "source": []
  },
  {
   "cell_type": "code",
   "execution_count": null,
   "metadata": {},
   "outputs": [],
   "source": []
  },
  {
   "cell_type": "code",
   "execution_count": null,
   "metadata": {},
   "outputs": [],
   "source": []
  },
  {
   "cell_type": "markdown",
   "metadata": {
    "jp-MarkdownHeadingCollapsed": true
   },
   "source": [
    "### 体重あり、onlyモデル、実験"
   ]
  },
  {
   "cell_type": "markdown",
   "metadata": {},
   "source": [
    "####  体重あり芝、1racesなし"
   ]
  },
  {
   "cell_type": "code",
   "execution_count": null,
   "metadata": {},
   "outputs": [],
   "source": [
    "# オッズと人気を特徴量から省いたランク、日、クロスバリデーション\n",
    "trainer = Trainer_lightgbm_rank_niti_cv(\n",
    "    \n",
    "    features_filename = \"features_turf.csv\", \n",
    "    config_filepath=\"config_lightgbm_niti_dev_turf_only.yaml\",\n",
    ")\n",
    "evaluation_df = trainer.run(\n",
    "    n_splits = 5,\n",
    "    importance_filename=\"importance_lightgbm_rank_niti_cv_dev_turf_only\",\n",
    "    model_filename=\"model_lightgbm_rank_niti_cv_dev_turf_only.pkl\",\n",
    "    evaluation_filename=\"evaluation_lightgbm_rank_niti_cv_dev_turf_only.csv\",\n",
    "    final_model_filename = \"model_lightgbm_rank_niti_cv_full_dev_turf_only.pkl\",\n",
    "    final_num_boost_round = 1000\n",
    ")"
   ]
  },
  {
   "cell_type": "code",
   "execution_count": null,
   "metadata": {},
   "outputs": [],
   "source": [
    "# オッズと人気を特徴量から省いた場合_ランク、二値、クロスバリデーション（最終番目）\n",
    "evaluator = Evaluator_lightgbm_rank_niti_cross(\n",
    "    evaluation_filename=\"evaluation_lightgbm_rank_niti_cv_dev_turf_only.csv\",\n",
    "    return_tables_filename = \"return_tables_turf.pickle\",\n",
    ")\n",
    "evaluator.summarize_box_top_n(n=3,save_filename=\"box_summary_rank_niti_cross_dev_turf_only.csv\")\n",
    "summary_df_noodds_gbm = evaluator.summarize_box_exp(exp_name=\"lightgbm_rank_niti_cross_dev_turf_only\")\n",
    "summary_df_noodds_gbm"
   ]
  },
  {
   "cell_type": "code",
   "execution_count": null,
   "metadata": {},
   "outputs": [],
   "source": [
    "# オッズと人気を特徴量から省いた場合_time、回帰、クロスバリデーション（最終番目）_軸\n",
    "evaluator = Evaluator_lightgbm_rank_niti_shaft(\n",
    "    evaluation_filename=\"evaluation_lightgbm_rank_niti_cv_dev_turf_only.csv\",\n",
    "    return_tables_filename = \"return_tables_turf.pickle\",\n",
    ")\n",
    "evaluator.summarize_box_top_n(n=3,save_filename=\"shaft_summary_rank_niti_dev_top3_turf_only.csv\")\n",
    "summary_df_shaft = evaluator.summarize_box_exp(exp_name=\"lightgbm_rank_niti_cross_dev_turf_only\")\n",
    "summary_df_shaft"
   ]
  },
  {
   "cell_type": "code",
   "execution_count": null,
   "metadata": {},
   "outputs": [],
   "source": []
  },
  {
   "cell_type": "code",
   "execution_count": null,
   "metadata": {
    "collapsed": true,
    "jupyter": {
     "outputs_hidden": true,
     "source_hidden": true
    }
   },
   "outputs": [],
   "source": [
    "# オッズと人気を特徴量から省いたランク、芝、クロスバリデーション\n",
    "trainer = Trainer_lightgbm_rank_niti_cv(\n",
    "    \n",
    "    features_filename = \"features_dirt.csv\", \n",
    "    config_filepath=\"config_lightgbm_niti_dev_dirt.yaml\",\n",
    ")\n",
    "evaluation_df = trainer.run(\n",
    "    n_splits = 5,\n",
    "    importance_filename=\"importance_lightgbm_rank_niti_cv_dev_dirt\",\n",
    "    model_filename=\"model_lightgbm_rank_niti_cv_dev_dirt.pkl\",\n",
    "    evaluation_filename=\"evaluation_lightgbm_rank_niti_cv_dev_dirt.csv\",\n",
    "    final_model_filename = \"model_lightgbm_rank_niti_cv_full_dev_dirt.pkl\",\n",
    "    final_num_boost_round = 1200\n",
    ")"
   ]
  },
  {
   "cell_type": "code",
   "execution_count": null,
   "metadata": {
    "collapsed": true,
    "jupyter": {
     "outputs_hidden": true,
     "source_hidden": true
    }
   },
   "outputs": [],
   "source": [
    "# オッズと人気を特徴量から省いた場合_ランク、二値、クロスバリデーション（最終番目）\n",
    "evaluator = Evaluator_lightgbm_rank_niti_cross(\n",
    "    evaluation_filename=\"evaluation_lightgbm_rank_niti_cv_dev_dirt.csv\",\n",
    "    return_tables_filename = \"return_tables_dirt.pickle\",\n",
    ")\n",
    "evaluator.summarize_box_top_n(n=3,save_filename=\"box_summary_rank_niti_cross_dev_dirt.csv\")\n",
    "summary_df_noodds_gbm = evaluator.summarize_box_exp(exp_name=\"lightgbm_rank_niti_cross_dev_dirt\")\n",
    "summary_df_noodds_gbm"
   ]
  },
  {
   "cell_type": "code",
   "execution_count": null,
   "metadata": {},
   "outputs": [],
   "source": []
  },
  {
   "cell_type": "code",
   "execution_count": null,
   "metadata": {},
   "outputs": [],
   "source": []
  },
  {
   "cell_type": "code",
   "execution_count": null,
   "metadata": {},
   "outputs": [],
   "source": []
  },
  {
   "cell_type": "markdown",
   "metadata": {},
   "source": [
    "### only_tenkai"
   ]
  },
  {
   "cell_type": "code",
   "execution_count": null,
   "metadata": {},
   "outputs": [],
   "source": [
    "%autoreload"
   ]
  },
  {
   "cell_type": "code",
   "execution_count": null,
   "metadata": {},
   "outputs": [],
   "source": [
    "# オッズと人気を特徴量から省いたランク、日、クロスバリデーション\n",
    "trainer = Trainer_lightgbm_rank_niti_cv(\n",
    "    \n",
    "    features_filename = \"features_turf.csv\", \n",
    "    config_filepath=\"config_lightgbm_niti_dev_turf_only_tenkai.yaml\",\n",
    ")\n",
    "evaluation_df = trainer.run(\n",
    "    n_splits = 5,\n",
    "    importance_filename=\"importance_lightgbm_rank_niti_cv_dev_turf_only_tenkai\",\n",
    "    model_filename=\"model_lightgbm_rank_niti_cv_dev_turf_only_tenkai.pkl\",\n",
    "    evaluation_filename=\"evaluation_lightgbm_rank_niti_cv_dev_turf_only_tenkai.csv\",\n",
    "    final_model_filename = \"model_lightgbm_rank_niti_cv_full_dev_turf_only_tenkai.pkl\",\n",
    "    final_num_boost_round = 1000\n",
    ")"
   ]
  },
  {
   "cell_type": "code",
   "execution_count": null,
   "metadata": {},
   "outputs": [],
   "source": [
    "# オッズと人気を特徴量から省いたランク、日、クロスバリデーション\n",
    "trainer = Trainer_lightgbm_rank_niti_cv(\n",
    "    \n",
    "    features_filename = \"features_turf_nowin.csv\", \n",
    "    config_filepath=\"config_lightgbm_niti_dev_turf_only_tenkai_nowin.yaml\",\n",
    ")\n",
    "evaluation_df = trainer.run(\n",
    "    n_splits = 5,\n",
    "    importance_filename=\"importance_lightgbm_rank_niti_cv_dev_turf_nowin_only_tenkai\",\n",
    "    model_filename=\"model_lightgbm_rank_niti_cv_dev_turf_nowin_only_tenkai.pkl\",\n",
    "    evaluation_filename=\"evaluation_lightgbm_rank_niti_cv_dev_turf_nowin_only_tenkai.csv\",\n",
    "    final_model_filename = \"model_lightgbm_rank_niti_cv_full_dev_turf_nowin_only_tenkai.pkl\",\n",
    "    final_num_boost_round = 1000\n",
    ")"
   ]
  },
  {
   "cell_type": "code",
   "execution_count": null,
   "metadata": {},
   "outputs": [],
   "source": [
    "# オッズと人気を特徴量から省いたランク、日、クロスバリデーション\n",
    "trainer = Trainer_lightgbm_rank_niti_cv(\n",
    "    \n",
    "    features_filename = \"features_turf.csv\", \n",
    "    config_filepath=\"config_lightgbm_niti_dev_turf_only_tenkai_noweight.yaml\",\n",
    ")\n",
    "evaluation_df = trainer.run(\n",
    "    n_splits = 5,\n",
    "    importance_filename=\"importance_lightgbm_rank_niti_cv_dev_turf_only_tenkai_noweight\",\n",
    "    model_filename=\"model_lightgbm_rank_niti_cv_dev_turf_only_tenkai_noweight.pkl\",\n",
    "    evaluation_filename=\"evaluation_lightgbm_rank_niti_cv_dev_turf_only_tenkai_noweight.csv\",\n",
    "    final_model_filename = \"model_lightgbm_rank_niti_cv_full_dev_turf_only_tenkai_noweight.pkl\",\n",
    "    final_num_boost_round = 1400\n",
    ")"
   ]
  },
  {
   "cell_type": "code",
   "execution_count": null,
   "metadata": {},
   "outputs": [],
   "source": [
    "# オッズと人気を特徴量から省いたランク、日、クロスバリデーション\n",
    "trainer = Trainer_lightgbm_rank_niti_cv(\n",
    "    \n",
    "    features_filename = \"features_turf_nowin.csv\", \n",
    "    config_filepath=\"config_lightgbm_niti_dev_turf_only_tenkai_noweight_nowin.yaml\",\n",
    ")\n",
    "evaluation_df = trainer.run(\n",
    "    n_splits = 5,\n",
    "    importance_filename=\"importance_lightgbm_rank_niti_cv_dev_turf_nowin_only_tenkai_noweight\",\n",
    "    model_filename=\"model_lightgbm_rank_niti_cv_dev_turf_nowin_only_tenkai_noweight.pkl\",\n",
    "    evaluation_filename=\"evaluation_lightgbm_rank_niti_cv_dev_turf_nowin_only_tenkai_noweight.csv\",\n",
    "    final_model_filename = \"model_lightgbm_rank_niti_cv_full_dev_turf_nowin_only_tenkai_noweight.pkl\",\n",
    "    final_num_boost_round = 1000\n",
    ")"
   ]
  },
  {
   "cell_type": "code",
   "execution_count": null,
   "metadata": {},
   "outputs": [],
   "source": []
  },
  {
   "cell_type": "code",
   "execution_count": null,
   "metadata": {},
   "outputs": [],
   "source": [
    "#以下ダート"
   ]
  },
  {
   "cell_type": "code",
   "execution_count": null,
   "metadata": {},
   "outputs": [],
   "source": [
    "# オッズと人気を特徴量から省いたランク、日、クロスバリデーション\n",
    "trainer = Trainer_lightgbm_rank_niti_cv(\n",
    "    \n",
    "    features_filename = \"features_dirt.csv\", \n",
    "    config_filepath=\"config_lightgbm_niti_dev_dirt_only_tenkai.yaml\",\n",
    ")\n",
    "evaluation_df = trainer.run(\n",
    "    n_splits = 5,\n",
    "    importance_filename=\"importance_lightgbm_rank_niti_cv_dev_dirt_only_tenkai\",\n",
    "    model_filename=\"model_lightgbm_rank_niti_cv_dev_dirt_only_tenkai.pkl\",\n",
    "    evaluation_filename=\"evaluation_lightgbm_rank_niti_cv_dev_dirt_only_tenkai.csv\",\n",
    "    final_model_filename = \"model_lightgbm_rank_niti_cv_full_dev_dirt_only_tenkai.pkl\",\n",
    "    final_num_boost_round = 1400\n",
    ")"
   ]
  },
  {
   "cell_type": "code",
   "execution_count": null,
   "metadata": {},
   "outputs": [],
   "source": [
    "# オッズと人気を特徴量から省いたランク、日、クロスバリデーション\n",
    "trainer = Trainer_lightgbm_rank_niti_cv(\n",
    "    \n",
    "    features_filename = \"features_dirt.csv\", \n",
    "    config_filepath=\"config_lightgbm_niti_dev_dirt_only_tenkai_weight.yaml\",\n",
    ")\n",
    "evaluation_df = trainer.run(\n",
    "    n_splits = 5,\n",
    "    importance_filename=\"importance_lightgbm_rank_niti_cv_dev_dirt_only_tenkai_weight\",\n",
    "    model_filename=\"model_lightgbm_rank_niti_cv_dev_dirt_only_tenkai_weight.pkl\",\n",
    "    evaluation_filename=\"evaluation_lightgbm_rank_niti_cv_dev_dirt_only_tenkai_weight.csv\",\n",
    "    final_model_filename = \"model_lightgbm_rank_niti_cv_full_dev_dirt_only_tenkai_weight.pkl\",\n",
    "    final_num_boost_round = 1500\n",
    ")"
   ]
  },
  {
   "cell_type": "code",
   "execution_count": null,
   "metadata": {},
   "outputs": [],
   "source": [
    "# オッズと人気を特徴量から省いたランク、日、クロスバリデーション\n",
    "trainer = Trainer_lightgbm_rank_niti_cv(\n",
    "    \n",
    "    features_filename = \"features_dirt_nowin.csv\", \n",
    "    config_filepath=\"config_lightgbm_niti_dev_dirt_only_tenkai_weight.yaml\",\n",
    ")\n",
    "evaluation_df = trainer.run(\n",
    "    n_splits = 5,\n",
    "    importance_filename=\"importance_lightgbm_rank_niti_cv_dev_dirt_nowin_only_tenkai_weight\",\n",
    "    model_filename=\"model_lightgbm_rank_niti_cv_dev_dirt_nowin_only_tenkai_weight.pkl\",\n",
    "    evaluation_filename=\"evaluation_lightgbm_rank_niti_cv_dev_dirt_nowin_only_tenkai_weight.csv\",\n",
    "    final_model_filename = \"model_lightgbm_rank_niti_cv_full_dev_dirt_nowin_only_tenkai_weight.pkl\",\n",
    "    final_num_boost_round = 1000\n",
    ")"
   ]
  },
  {
   "cell_type": "code",
   "execution_count": null,
   "metadata": {},
   "outputs": [],
   "source": [
    "# オッズと人気を特徴量から省いたランク、日、クロスバリデーション\n",
    "trainer = Trainer_lightgbm_rank_niti_cv(\n",
    "    \n",
    "    features_filename = \"features_dirt_nowin.csv\", \n",
    "    config_filepath=\"config_lightgbm_niti_dev_dirt_only_tenkai.yaml\",\n",
    ")\n",
    "evaluation_df = trainer.run(\n",
    "    n_splits = 5,\n",
    "    importance_filename=\"importance_lightgbm_rank_niti_cv_dev_dirt_nowin_only_tenkai\",\n",
    "    model_filename=\"model_lightgbm_rank_niti_cv_dev_dirt_nowin_only_tenkai.pkl\",\n",
    "    evaluation_filename=\"evaluation_lightgbm_rank_niti_cv_dev_dirt_nowin_only_tenkai.csv\",\n",
    "    final_model_filename = \"model_lightgbm_rank_niti_cv_full_dev_dirt_nowin_only_tenkai.pkl\",\n",
    "    final_num_boost_round = 1000\n",
    ")"
   ]
  },
  {
   "cell_type": "code",
   "execution_count": null,
   "metadata": {},
   "outputs": [],
   "source": []
  },
  {
   "cell_type": "code",
   "execution_count": null,
   "metadata": {},
   "outputs": [],
   "source": [
    "\n",
    "\n"
   ]
  },
  {
   "cell_type": "code",
   "execution_count": null,
   "metadata": {},
   "outputs": [],
   "source": []
  },
  {
   "cell_type": "code",
   "execution_count": null,
   "metadata": {},
   "outputs": [],
   "source": []
  },
  {
   "cell_type": "code",
   "execution_count": null,
   "metadata": {},
   "outputs": [],
   "source": []
  },
  {
   "cell_type": "code",
   "execution_count": null,
   "metadata": {},
   "outputs": [],
   "source": []
  },
  {
   "cell_type": "code",
   "execution_count": null,
   "metadata": {},
   "outputs": [],
   "source": [
    "%autoreload"
   ]
  },
  {
   "cell_type": "code",
   "execution_count": null,
   "metadata": {},
   "outputs": [],
   "source": [
    "#芝"
   ]
  },
  {
   "cell_type": "code",
   "execution_count": null,
   "metadata": {},
   "outputs": [],
   "source": [
    "# オッズと人気を特徴量から省いた場合_ランク、二値、クロスバリデーション（最終番目）\n",
    "evaluator = Evaluator_lightgbm_rank_niti_cross(\n",
    "    evaluation_filename=\"evaluation_lightgbm_rank_niti_cv_dev_turf_only_tenkai.csv\",\n",
    "    return_tables_filename = \"return_tables_turf.pickle\",\n",
    ")\n",
    "evaluator.summarize_box_top_n(n=3,save_filename=\"box_summary_rank_niti_cross_dev_turf_only_tenkai.csv\")\n",
    "summary_df_noodds_gbm = evaluator.summarize_box_exp(exp_name=\"lightgbm_rank_niti_cross_dev_turf_only_tenkai\")\n",
    "summary_df_noodds_gbm"
   ]
  },
  {
   "cell_type": "code",
   "execution_count": null,
   "metadata": {
    "jupyter": {
     "source_hidden": true
    }
   },
   "outputs": [],
   "source": [
    "# オッズと人気を特徴量から省いた場合_time、回帰、クロスバリデーション（最終番目）_軸\n",
    "evaluator = Evaluator_lightgbm_rank_niti_shaft(\n",
    "    evaluation_filename=\"evaluation_lightgbm_rank_niti_cv_dev_turf_only_tenkai.csv\",\n",
    "    return_tables_filename = \"return_tables_turf.pickle\",\n",
    ")\n",
    "evaluator.summarize_box_top_n(n=3,save_filename=\"shaft_summary_rank_niti_dev_top3_turf_only_tenkai.csv\")\n",
    "summary_df_shaft = evaluator.summarize_box_exp(exp_name=\"lightgbm_rank_niti_cross_dev_turf_only_tenkai\")\n",
    "summary_df_shaft"
   ]
  },
  {
   "cell_type": "code",
   "execution_count": null,
   "metadata": {},
   "outputs": [],
   "source": [
    "# オッズと人気を特徴量から省いた場合_ランク、二値、クロスバリデーション（最終番目）\n",
    "evaluator = Evaluator_lightgbm_rank_niti_cross(\n",
    "    evaluation_filename=\"evaluation_lightgbm_rank_niti_cv_dev_turf_nowin_only_tenkai.csv\",\n",
    "    return_tables_filename = \"return_tables_turf_nowin.pickle\",\n",
    ")\n",
    "evaluator.summarize_box_top_n(n=3,save_filename=\"box_summary_rank_niti_cross_dev_turf_nowin_only_tenkai.csv\")\n",
    "summary_df_noodds_gbm = evaluator.summarize_box_exp(exp_name=\"lightgbm_rank_niti_cross_dev_turf_nowin_only_tenkai\")\n",
    "summary_df_noodds_gbm"
   ]
  },
  {
   "cell_type": "code",
   "execution_count": null,
   "metadata": {
    "jupyter": {
     "source_hidden": true
    }
   },
   "outputs": [],
   "source": [
    "# オッズと人気を特徴量から省いた場合_time、回帰、クロスバリデーション（最終番目）_軸\n",
    "evaluator = Evaluator_lightgbm_rank_niti_shaft(\n",
    "    evaluation_filename=\"evaluation_lightgbm_rank_niti_cv_dev_turf_nowin_only_tenkai.csv\",\n",
    "    return_tables_filename = \"return_tables_turf_nowin.pickle\",\n",
    ")\n",
    "evaluator.summarize_box_top_n(n=3,save_filename=\"shaft_summary_rank_niti_dev_top3_turf_nowin_only_tenkai.csv\")\n",
    "summary_df_shaft = evaluator.summarize_box_exp(exp_name=\"lightgbm_rank_niti_cross_dev_turf_nowin_only_tenkai\")\n",
    "summary_df_shaft"
   ]
  },
  {
   "cell_type": "code",
   "execution_count": null,
   "metadata": {},
   "outputs": [],
   "source": [
    "# オッズと人気を特徴量から省いた場合_ランク、二値、クロスバリデーション（最終番目）\n",
    "evaluator = Evaluator_lightgbm_rank_niti_cross(\n",
    "    evaluation_filename=\"evaluation_lightgbm_rank_niti_cv_dev_turf_only_tenkai_noweight.csv\",\n",
    "    return_tables_filename = \"return_tables_turf.pickle\",\n",
    ")\n",
    "evaluator.summarize_box_top_n(n=3,save_filename=\"box_summary_rank_niti_cross_dev_turf_only_tenkai_noweight.csv\")\n",
    "summary_df_noodds_gbm = evaluator.summarize_box_exp(exp_name=\"lightgbm_rank_niti_cross_dev_turf_only_tenkai_noweight\")\n",
    "summary_df_noodds_gbm"
   ]
  },
  {
   "cell_type": "code",
   "execution_count": null,
   "metadata": {
    "jupyter": {
     "source_hidden": true
    }
   },
   "outputs": [],
   "source": [
    "# オッズと人気を特徴量から省いた場合_time、回帰、クロスバリデーション（最終番目）_軸\n",
    "evaluator = Evaluator_lightgbm_rank_niti_shaft(\n",
    "    evaluation_filename=\"evaluation_lightgbm_rank_niti_cv_dev_turf_only_tenkai_noweight.csv\",\n",
    "    return_tables_filename = \"return_tables_turf.pickle\",\n",
    ")\n",
    "evaluator.summarize_box_top_n(n=3,save_filename=\"shaft_summary_rank_niti_dev_top3_turf_only_tenkai_noweight.csv\")\n",
    "summary_df_shaft = evaluator.summarize_box_exp(exp_name=\"lightgbm_rank_niti_cross_dev_turf_only_tenkai_noweight\")\n",
    "summary_df_shaft"
   ]
  },
  {
   "cell_type": "code",
   "execution_count": null,
   "metadata": {},
   "outputs": [],
   "source": [
    "# オッズと人気を特徴量から省いた場合_ランク、二値、クロスバリデーション（最終番目）\n",
    "evaluator = Evaluator_lightgbm_rank_niti_cross(\n",
    "    evaluation_filename=\"evaluation_lightgbm_rank_niti_cv_dev_turf_nowin_only_tenkai_noweight.csv\",\n",
    "    return_tables_filename = \"return_tables_turf_nowin.pickle\",\n",
    ")\n",
    "evaluator.summarize_box_top_n(n=3,save_filename=\"box_summary_rank_niti_cross_dev_turf_nowin_only_tenkai_noweight.csv\")\n",
    "summary_df_noodds_gbm = evaluator.summarize_box_exp(exp_name=\"lightgbm_rank_niti_cross_dev_turf_nowin_only_tenkai_noweight\")\n",
    "summary_df_noodds_gbm"
   ]
  },
  {
   "cell_type": "code",
   "execution_count": null,
   "metadata": {
    "jupyter": {
     "source_hidden": true
    }
   },
   "outputs": [],
   "source": [
    "# オッズと人気を特徴量から省いた場合_time、回帰、クロスバリデーション（最終番目）_軸\n",
    "evaluator = Evaluator_lightgbm_rank_niti_shaft(\n",
    "    evaluation_filename=\"evaluation_lightgbm_rank_niti_cv_dev_turf_nowin_only_tenkai_noweight.csv\",\n",
    "    return_tables_filename = \"return_tables_turf_nowin.pickle\",\n",
    ")\n",
    "evaluator.summarize_box_top_n(n=3,save_filename=\"shaft_summary_rank_niti_dev_top3_turf_nowin_only_tenkai_noweight.csv\")\n",
    "summary_df_shaft = evaluator.summarize_box_exp(exp_name=\"lightgbm_rank_niti_cross_dev_turf_nowin_only_tenkai_noweight\")\n",
    "summary_df_shaft"
   ]
  },
  {
   "cell_type": "code",
   "execution_count": null,
   "metadata": {},
   "outputs": [],
   "source": []
  },
  {
   "cell_type": "code",
   "execution_count": null,
   "metadata": {},
   "outputs": [],
   "source": []
  },
  {
   "cell_type": "code",
   "execution_count": null,
   "metadata": {},
   "outputs": [],
   "source": []
  },
  {
   "cell_type": "code",
   "execution_count": null,
   "metadata": {},
   "outputs": [],
   "source": []
  },
  {
   "cell_type": "code",
   "execution_count": null,
   "metadata": {},
   "outputs": [],
   "source": []
  },
  {
   "cell_type": "code",
   "execution_count": null,
   "metadata": {},
   "outputs": [],
   "source": [
    "#以下ダート"
   ]
  },
  {
   "cell_type": "code",
   "execution_count": null,
   "metadata": {},
   "outputs": [],
   "source": [
    "# オッズと人気を特徴量から省いた場合_ランク、二値、クロスバリデーション（最終番目）\n",
    "evaluator = Evaluator_lightgbm_rank_niti_cross(\n",
    "    evaluation_filename=\"evaluation_lightgbm_rank_niti_cv_dev_dirt_only_tenkai_weight.csv\",\n",
    "    return_tables_filename = \"return_tables_dirt.pickle\",\n",
    ")\n",
    "evaluator.summarize_box_top_n(n=3,save_filename=\"box_summary_rank_niti_cross_dev_dirt_only_tenkai_weight.csv\")\n",
    "summary_df_noodds_gbm = evaluator.summarize_box_exp(exp_name=\"lightgbm_rank_niti_cross_dev_dirt_only_tenkai_weight\")\n",
    "summary_df_noodds_gbm"
   ]
  },
  {
   "cell_type": "code",
   "execution_count": null,
   "metadata": {},
   "outputs": [],
   "source": []
  },
  {
   "cell_type": "code",
   "execution_count": null,
   "metadata": {},
   "outputs": [],
   "source": [
    "# オッズと人気を特徴量から省いた場合_ランク、二値、クロスバリデーション（最終番目）\n",
    "evaluator = Evaluator_lightgbm_rank_niti_cross(\n",
    "    evaluation_filename=\"evaluation_lightgbm_rank_niti_cv_dev_dirt_only_tenkai.csv\",\n",
    "    return_tables_filename = \"return_tables_dirt.pickle\",\n",
    ")\n",
    "evaluator.summarize_box_top_n(n=3,save_filename=\"box_summary_rank_niti_cross_dev_dirt_only_tenkai.csv\")\n",
    "summary_df_noodds_gbm = evaluator.summarize_box_exp(exp_name=\"lightgbm_rank_niti_cross_dev_dirt_only_tenkai\")\n",
    "summary_df_noodds_gbm"
   ]
  },
  {
   "cell_type": "code",
   "execution_count": null,
   "metadata": {
    "jupyter": {
     "source_hidden": true
    }
   },
   "outputs": [],
   "source": [
    "# オッズと人気を特徴量から省いた場合_time、回帰、クロスバリデーション（最終番目）_軸\n",
    "evaluator = Evaluator_lightgbm_rank_niti_shaft(\n",
    "    evaluation_filename=\"evaluation_lightgbm_rank_niti_cv_dev_dirt_only_tenkai.csv\",\n",
    "    return_tables_filename = \"return_tables_dirt.pickle\",\n",
    ")\n",
    "evaluator.summarize_box_top_n(n=3,save_filename=\"shaft_summary_rank_niti_dev_top3_dirt_only_tenkai.csv\")\n",
    "summary_df_shaft = evaluator.summarize_box_exp(exp_name=\"lightgbm_rank_niti_cross_dev_dirt_only_tenkai\")\n",
    "summary_df_shaft"
   ]
  },
  {
   "cell_type": "code",
   "execution_count": null,
   "metadata": {},
   "outputs": [],
   "source": [
    "# オッズと人気を特徴量から省いた場合_ランク、二値、クロスバリデーション（最終番目）\n",
    "evaluator = Evaluator_lightgbm_rank_niti_cross(\n",
    "    evaluation_filename=\"evaluation_lightgbm_rank_niti_cv_dev_dirt_nowin_only_tenkai.csv\",\n",
    "    return_tables_filename = \"return_tables_dirt_nowin.pickle\",\n",
    ")\n",
    "evaluator.summarize_box_top_n(n=3,save_filename=\"box_summary_rank_niti_cross_dev_dirt_nowin_only_tenkai.csv\")\n",
    "summary_df_noodds_gbm = evaluator.summarize_box_exp(exp_name=\"lightgbm_rank_niti_cross_dev_dirt_nowin_only_tenkai\")\n",
    "summary_df_noodds_gbm"
   ]
  },
  {
   "cell_type": "code",
   "execution_count": null,
   "metadata": {
    "jupyter": {
     "source_hidden": true
    }
   },
   "outputs": [],
   "source": [
    "# オッズと人気を特徴量から省いた場合_time、回帰、クロスバリデーション（最終番目）_軸\n",
    "evaluator = Evaluator_lightgbm_rank_niti_shaft(\n",
    "    evaluation_filename=\"evaluation_lightgbm_rank_niti_cv_dev_dirt_nowin_only_tenkai.csv\",\n",
    "    return_tables_filename = \"return_tables_dirt_nowin.pickle\",\n",
    ")\n",
    "evaluator.summarize_box_top_n(n=3,save_filename=\"shaft_summary_rank_niti_dev_top3_dirt_nowin_only_tenkai.csv\")\n",
    "summary_df_shaft = evaluator.summarize_box_exp(exp_name=\"lightgbm_rank_niti_cross_dev_dirt_nowin_only_tenkai\")\n",
    "summary_df_shaft"
   ]
  },
  {
   "cell_type": "code",
   "execution_count": null,
   "metadata": {},
   "outputs": [],
   "source": []
  },
  {
   "cell_type": "code",
   "execution_count": null,
   "metadata": {},
   "outputs": [],
   "source": []
  },
  {
   "cell_type": "code",
   "execution_count": null,
   "metadata": {},
   "outputs": [],
   "source": []
  },
  {
   "cell_type": "code",
   "execution_count": null,
   "metadata": {},
   "outputs": [],
   "source": []
  },
  {
   "cell_type": "code",
   "execution_count": null,
   "metadata": {},
   "outputs": [],
   "source": []
  },
  {
   "cell_type": "code",
   "execution_count": null,
   "metadata": {},
   "outputs": [],
   "source": []
  },
  {
   "cell_type": "code",
   "execution_count": null,
   "metadata": {},
   "outputs": [],
   "source": []
  },
  {
   "cell_type": "code",
   "execution_count": null,
   "metadata": {},
   "outputs": [],
   "source": []
  },
  {
   "cell_type": "code",
   "execution_count": null,
   "metadata": {},
   "outputs": [],
   "source": []
  },
  {
   "cell_type": "code",
   "execution_count": null,
   "metadata": {},
   "outputs": [],
   "source": []
  },
  {
   "cell_type": "markdown",
   "metadata": {},
   "source": [
    "### ３位以内モデル"
   ]
  },
  {
   "cell_type": "code",
   "execution_count": null,
   "metadata": {},
   "outputs": [],
   "source": [
    "# オッズと人気を特徴量から省いたランク、日、クロスバリデーション\n",
    "trainer_in3 = Trainer_lightgbm_rank_niti_cv_in3(\n",
    "    features_filename = \"features_turf.csv\", \n",
    "    config_filepath=\"config_lightgbm_niti_dev_turf.yaml\",\n",
    ")\n",
    "evaluation_df = trainer_in3.run(\n",
    "    n_splits = 5,\n",
    "    importance_filename=\"importance_lightgbm_rank_niti_cv_dev_turf_in3\",\n",
    "    model_filename=\"model_lightgbm_rank_niti_cv_dev_turf_in3.pkl\",\n",
    "    evaluation_filename=\"evaluation_lightgbm_rank_niti_cv_dev_turf_in3.csv\",\n",
    "    final_model_filename = \"model_lightgbm_rank_niti_cv_full_dev_turf_in3.pkl\",\n",
    "    final_num_boost_round = 1500\n",
    ")"
   ]
  },
  {
   "cell_type": "code",
   "execution_count": null,
   "metadata": {},
   "outputs": [],
   "source": [
    "# オッズと人気を特徴量から省いたランク、芝、クロスバリデーション\n",
    "trainer = Trainer_lightgbm_rank_niti_cv_in3(\n",
    "    \n",
    "    features_filename = \"features_dirt.csv\", \n",
    "    config_filepath=\"config_lightgbm_niti_dev_dirt.yaml\",\n",
    ")\n",
    "evaluation_df = trainer.run(\n",
    "    n_splits = 5,\n",
    "    importance_filename=\"importance_lightgbm_rank_niti_cv_dev_dirt_in3\",\n",
    "    model_filename=\"model_lightgbm_rank_niti_cv_dev_dirt_in3.pkl\",\n",
    "    evaluation_filename=\"evaluation_lightgbm_rank_niti_cv_dev_dirt_in3.csv\",\n",
    "    final_model_filename = \"model_lightgbm_rank_niti_cv_full_dev_dirt_in3.pkl\",\n",
    "    final_num_boost_round = 1500\n",
    ")"
   ]
  },
  {
   "cell_type": "code",
   "execution_count": null,
   "metadata": {},
   "outputs": [],
   "source": [
    "# オッズと人気を特徴量から省いたランク、二値、クロスバリデーション\n",
    "trainer = Trainer_lightgbm_rank_niti_cv_in3(\n",
    "    \n",
    "    features_filename = \"features_obstract.csv\", \n",
    "    config_filepath=\"config_lightgbm_niti_dev_obstract.yaml\",\n",
    ")\n",
    "evaluation_df = trainer.run(\n",
    "    n_splits = 3,\n",
    "    importance_filename=\"importance_lightgbm_rank_niti_cv_dev_obstract_in3\",\n",
    "    model_filename=\"model_lightgbm_rank_niti_cv_dev_obstract_in3.pkl\",\n",
    "    evaluation_filename=\"evaluation_lightgbm_rank_niti_cv_dev_obstract_in3.csv\",\n",
    "    final_model_filename = \"model_lightgbm_rank_niti_cv_full_dev_obstract_in3.pkl\"\n",
    ")"
   ]
  },
  {
   "cell_type": "code",
   "execution_count": null,
   "metadata": {},
   "outputs": [],
   "source": []
  },
  {
   "cell_type": "code",
   "execution_count": null,
   "metadata": {},
   "outputs": [],
   "source": [
    "\n",
    "trainer = Trainer_lightgbm_rank_niti_cv_in3(\n",
    "    features_filename = \"features_turf_nowin.csv\", \n",
    "    config_filepath=\"config_lightgbm_niti_dev_turf_nowin.yaml\",\n",
    ")\n",
    "evaluation_df = trainer.run(\n",
    "    n_splits = 5,\n",
    "    importance_filename=\"importance_lightgbm_rank_niti_cv_dev_turf_nowin_in3\",\n",
    "    model_filename=\"model_lightgbm_rank_niti_cv_dev_turf_nowin_in3.pkl\",\n",
    "    evaluation_filename=\"evaluation_lightgbm_rank_niti_cv_dev_turf_nowin_in3.csv\",\n",
    "    final_model_filename = \"model_lightgbm_rank_niti_cv_full_dev_turf_nowin_in3.pkl\"\n",
    ")"
   ]
  },
  {
   "cell_type": "code",
   "execution_count": null,
   "metadata": {},
   "outputs": [],
   "source": [
    "# オッズと人気を特徴量から省いたランク、回帰、クロスバリデーション\n",
    "trainer = Trainer_lightgbm_rank_niti_cv_in3(\n",
    "    features_filename = \"features_dirt_nowin.csv\", \n",
    "    config_filepath=\"config_lightgbm_niti_dev_dirt_nowin.yaml\",\n",
    ")\n",
    "evaluation_df = trainer.run(\n",
    "    n_splits = 5,\n",
    "    importance_filename=\"importance_lightgbm_rank_niti_cv_dev_dirt_nowin_in3\",\n",
    "    model_filename=\"model_lightgbm_rank_niti_cv_dev_dirt_nowin_in3.pkl\",\n",
    "    evaluation_filename=\"evaluation_lightgbm_rank_niti_cv_dev_dirt_nowin_in3.csv\",\n",
    "    final_model_filename = \"model_lightgbm_rank_niti_cv_full_dev_dirt_nowin_in3.pkl\"\n",
    ")"
   ]
  },
  {
   "cell_type": "code",
   "execution_count": null,
   "metadata": {},
   "outputs": [],
   "source": []
  },
  {
   "cell_type": "code",
   "execution_count": null,
   "metadata": {},
   "outputs": [],
   "source": []
  },
  {
   "cell_type": "code",
   "execution_count": null,
   "metadata": {},
   "outputs": [],
   "source": [
    "#体重なし"
   ]
  },
  {
   "cell_type": "code",
   "execution_count": null,
   "metadata": {},
   "outputs": [],
   "source": [
    "# オッズと人気を特徴量から省いたランク、日、クロスバリデーション\n",
    "trainer = Trainer_lightgbm_rank_niti_cv_in3(\n",
    "    \n",
    "    features_filename = \"features_turf.csv\", \n",
    "    config_filepath=\"config_lightgbm_niti_dev_turf_noweight.yaml\",\n",
    ")\n",
    "evaluation_df = trainer.run(\n",
    "    n_splits = 5,\n",
    "    importance_filename=\"importance_lightgbm_rank_niti_cv_dev_turf_noweight_in3\",\n",
    "    model_filename=\"model_lightgbm_rank_niti_cv_dev_turf_noweight_in3.pkl\",\n",
    "    evaluation_filename=\"evaluation_lightgbm_rank_niti_cv_dev_turf_noweight_in3.csv\",\n",
    "    final_model_filename = \"model_lightgbm_rank_niti_cv_full_dev_turf_noweight_in3.pkl\",\n",
    "    final_num_boost_round = 1500\n",
    ")"
   ]
  },
  {
   "cell_type": "code",
   "execution_count": null,
   "metadata": {},
   "outputs": [],
   "source": [
    "# オッズと人気を特徴量から省いたランク、芝、クロスバリデーション\n",
    "trainer = Trainer_lightgbm_rank_niti_cv_in3(\n",
    "    \n",
    "    features_filename = \"features_dirt.csv\", \n",
    "    config_filepath=\"config_lightgbm_niti_dev_dirt_noweight.yaml\",\n",
    ")\n",
    "evaluation_df = trainer.run(\n",
    "    n_splits = 5,\n",
    "    importance_filename=\"importance_lightgbm_rank_niti_cv_dev_dirt_noweight_in3\",\n",
    "    model_filename=\"model_lightgbm_rank_niti_cv_dev_dirt_noweight_in3.pkl\",\n",
    "    evaluation_filename=\"evaluation_lightgbm_rank_niti_cv_dev_dirt_noweight_in3.csv\",\n",
    "    final_model_filename = \"model_lightgbm_rank_niti_cv_full_dev_dirt_noweight_in3.pkl\",\n",
    "    final_num_boost_round = 1500\n",
    ")"
   ]
  },
  {
   "cell_type": "code",
   "execution_count": null,
   "metadata": {},
   "outputs": [],
   "source": [
    "# オッズと人気を特徴量から省いたランク、二値、クロスバリデーション\n",
    "trainer = Trainer_lightgbm_rank_niti_cv_in3(\n",
    "    \n",
    "    features_filename = \"features_obstract.csv\", \n",
    "    config_filepath=\"config_lightgbm_niti_dev_obstract_noweight.yaml\",\n",
    ")\n",
    "evaluation_df = trainer.run(\n",
    "    n_splits = 3,\n",
    "    importance_filename=\"importance_lightgbm_rank_niti_cv_dev_obstract_noweight_in3\",\n",
    "    model_filename=\"model_lightgbm_rank_niti_cv_dev_obstract_noweight_in3.pkl\",\n",
    "    evaluation_filename=\"evaluation_lightgbm_rank_niti_cv_dev_obstract_noweight_in3.csv\",\n",
    "    final_model_filename = \"model_lightgbm_rank_niti_cv_full_dev_obstract_noweight_in3.pkl\"\n",
    ")"
   ]
  },
  {
   "cell_type": "code",
   "execution_count": null,
   "metadata": {},
   "outputs": [],
   "source": [
    "trainer = Trainer_lightgbm_rank_niti_cv_in3(\n",
    "    features_filename = \"features_turf_nowin.csv\", \n",
    "    config_filepath=\"config_lightgbm_niti_dev_turf_nowin_noweight.yaml\",\n",
    ")\n",
    "evaluation_df = trainer.run(\n",
    "    n_splits = 5,\n",
    "    importance_filename=\"importance_lightgbm_rank_niti_cv_dev_turf_nowin_noweight_in3\",\n",
    "    model_filename=\"model_lightgbm_rank_niti_cv_dev_turf_nowin_noweight_in3.pkl\",\n",
    "    evaluation_filename=\"evaluation_lightgbm_rank_niti_cv_dev_turf_nowin_noweight_in3.csv\",\n",
    "    final_model_filename = \"model_lightgbm_rank_niti_cv_full_dev_turf_nowin_noweight_in3.pkl\"\n",
    ")"
   ]
  },
  {
   "cell_type": "code",
   "execution_count": null,
   "metadata": {},
   "outputs": [],
   "source": [
    "# オッズと人気を特徴量から省いたランク、回帰、クロスバリデーション\n",
    "trainer = Trainer_lightgbm_rank_niti_cv_in3(\n",
    "    features_filename = \"features_dirt_nowin.csv\", \n",
    "    config_filepath=\"config_lightgbm_niti_dev_dirt_nowin_noweight.yaml\",\n",
    ")\n",
    "evaluation_df = trainer.run(\n",
    "    n_splits = 5,\n",
    "    importance_filename=\"importance_lightgbm_rank_niti_cv_dev_dirt_nowin_noweight_in3\",\n",
    "    model_filename=\"model_lightgbm_rank_niti_cv_dev_dirt_nowin_noweight_in3.pkl\",\n",
    "    evaluation_filename=\"evaluation_lightgbm_rank_niti_cv_dev_dirt_nowin_noweight_in3.csv\",\n",
    "    final_model_filename = \"model_lightgbm_rank_niti_cv_full_dev_dirt_nowin_noweight_in3.pkl\"\n",
    ")"
   ]
  },
  {
   "cell_type": "code",
   "execution_count": null,
   "metadata": {},
   "outputs": [],
   "source": []
  },
  {
   "cell_type": "code",
   "execution_count": null,
   "metadata": {},
   "outputs": [],
   "source": [
    "#展開"
   ]
  },
  {
   "cell_type": "code",
   "execution_count": null,
   "metadata": {},
   "outputs": [],
   "source": []
  },
  {
   "cell_type": "code",
   "execution_count": null,
   "metadata": {},
   "outputs": [],
   "source": [
    "# オッズと人気を特徴量から省いたランク、日、クロスバリデーション\n",
    "trainer = Trainer_lightgbm_rank_niti_cv_in3(\n",
    "    \n",
    "    features_filename = \"features_turf.csv\", \n",
    "    config_filepath=\"config_lightgbm_niti_dev_turf_only_tenkai.yaml\",\n",
    ")\n",
    "evaluation_df = trainer.run(\n",
    "    n_splits = 5,\n",
    "    importance_filename=\"importance_lightgbm_rank_niti_cv_dev_turf_only_tenkai_in3\",\n",
    "    model_filename=\"model_lightgbm_rank_niti_cv_dev_turf_only_tenkai_in3.pkl\",\n",
    "    evaluation_filename=\"evaluation_lightgbm_rank_niti_cv_dev_turf_only_tenkai_in3.csv\",\n",
    "    final_model_filename = \"model_lightgbm_rank_niti_cv_full_dev_turf_only_tenkai_in3.pkl\",\n",
    "    final_num_boost_round = 1500\n",
    ")"
   ]
  },
  {
   "cell_type": "code",
   "execution_count": null,
   "metadata": {},
   "outputs": [],
   "source": [
    "# オッズと人気を特徴量から省いたランク、日、クロスバリデーション\n",
    "trainer = Trainer_lightgbm_rank_niti_cv_in3(\n",
    "    \n",
    "    features_filename = \"features_turf_nowin.csv\", \n",
    "    config_filepath=\"config_lightgbm_niti_dev_turf_only_tenkai_nowin.yaml\",\n",
    ")\n",
    "evaluation_df = trainer.run(\n",
    "    n_splits = 5,\n",
    "    importance_filename=\"importance_lightgbm_rank_niti_cv_dev_turf_nowin_only_tenkai_in3\",\n",
    "    model_filename=\"model_lightgbm_rank_niti_cv_dev_turf_nowin_only_tenkai_in3.pkl\",\n",
    "    evaluation_filename=\"evaluation_lightgbm_rank_niti_cv_dev_turf_nowin_only_tenkai_in3.csv\",\n",
    "    final_model_filename = \"model_lightgbm_rank_niti_cv_full_dev_turf_nowin_only_tenkai_in3.pkl\",\n",
    "    final_num_boost_round = 1000\n",
    ")"
   ]
  },
  {
   "cell_type": "code",
   "execution_count": null,
   "metadata": {},
   "outputs": [],
   "source": [
    "# オッズと人気を特徴量から省いたランク、日、クロスバリデーション\n",
    "trainer = Trainer_lightgbm_rank_niti_cv_in3(\n",
    "    \n",
    "    features_filename = \"features_turf.csv\", \n",
    "    config_filepath=\"config_lightgbm_niti_dev_turf_only_tenkai_noweight.yaml\",\n",
    ")\n",
    "evaluation_df = trainer.run(\n",
    "    n_splits = 5,\n",
    "    importance_filename=\"importance_lightgbm_rank_niti_cv_dev_turf_only_tenkai_noweight_in3\",\n",
    "    model_filename=\"model_lightgbm_rank_niti_cv_dev_turf_only_tenkai_noweight_in3.pkl\",\n",
    "    evaluation_filename=\"evaluation_lightgbm_rank_niti_cv_dev_turf_only_tenkai_noweight_in3.csv\",\n",
    "    final_model_filename = \"model_lightgbm_rank_niti_cv_full_dev_turf_only_tenkai_noweight_in3.pkl\",\n",
    "    final_num_boost_round = 1500\n",
    ")"
   ]
  },
  {
   "cell_type": "code",
   "execution_count": null,
   "metadata": {},
   "outputs": [],
   "source": [
    "# オッズと人気を特徴量から省いたランク、日、クロスバリデーション\n",
    "trainer = Trainer_lightgbm_rank_niti_cv_in3(\n",
    "    \n",
    "    features_filename = \"features_turf_nowin.csv\", \n",
    "    config_filepath=\"config_lightgbm_niti_dev_turf_only_tenkai_noweight_nowin.yaml\",\n",
    ")\n",
    "evaluation_df = trainer.run(\n",
    "    n_splits = 5,\n",
    "    importance_filename=\"importance_lightgbm_rank_niti_cv_dev_turf_nowin_only_tenkai_noweight_in3\",\n",
    "    model_filename=\"model_lightgbm_rank_niti_cv_dev_turf_nowin_only_tenkai_noweight_in3.pkl\",\n",
    "    evaluation_filename=\"evaluation_lightgbm_rank_niti_cv_dev_turf_nowin_only_tenkai_noweight_in3.csv\",\n",
    "    final_model_filename = \"model_lightgbm_rank_niti_cv_full_dev_turf_nowin_only_tenkai_noweight_in3.pkl\",\n",
    "    final_num_boost_round = 1000\n",
    ")"
   ]
  },
  {
   "cell_type": "code",
   "execution_count": null,
   "metadata": {},
   "outputs": [],
   "source": []
  },
  {
   "cell_type": "code",
   "execution_count": null,
   "metadata": {},
   "outputs": [],
   "source": [
    "# オッズと人気を特徴量から省いたランク、日、クロスバリデーション\n",
    "trainer = Trainer_lightgbm_rank_niti_cv_in3(\n",
    "    \n",
    "    features_filename = \"features_dirt.csv\", \n",
    "    config_filepath=\"config_lightgbm_niti_dev_dirt_only_tenkai.yaml\",\n",
    ")\n",
    "evaluation_df = trainer.run(\n",
    "    n_splits = 5,\n",
    "    importance_filename=\"importance_lightgbm_rank_niti_cv_dev_dirt_only_tenkai_in3\",\n",
    "    model_filename=\"model_lightgbm_rank_niti_cv_dev_dirt_only_tenkai_in3.pkl\",\n",
    "    evaluation_filename=\"evaluation_lightgbm_rank_niti_cv_dev_dirt_only_tenkai_in3.csv\",\n",
    "    final_model_filename = \"model_lightgbm_rank_niti_cv_full_dev_dirt_only_tenkai_in3.pkl\",\n",
    "    final_num_boost_round = 1400\n",
    ")"
   ]
  },
  {
   "cell_type": "code",
   "execution_count": null,
   "metadata": {},
   "outputs": [],
   "source": [
    "# オッズと人気を特徴量から省いたランク、日、クロスバリデーション\n",
    "trainer = Trainer_lightgbm_rank_niti_cv_in3(\n",
    "    \n",
    "    features_filename = \"features_dirt.csv\", \n",
    "    config_filepath=\"config_lightgbm_niti_dev_dirt_only_tenkai_weight.yaml\",\n",
    ")\n",
    "evaluation_df = trainer.run(\n",
    "    n_splits = 5,\n",
    "    importance_filename=\"importance_lightgbm_rank_niti_cv_dev_dirt_only_tenkai_weight_in3\",\n",
    "    model_filename=\"model_lightgbm_rank_niti_cv_dev_dirt_only_tenkai_weight_in3.pkl\",\n",
    "    evaluation_filename=\"evaluation_lightgbm_rank_niti_cv_dev_dirt_only_tenkai_weight_in3.csv\",\n",
    "    final_model_filename = \"model_lightgbm_rank_niti_cv_full_dev_dirt_only_tenkai_weight_in3.pkl\",\n",
    "    final_num_boost_round = 1000\n",
    ")"
   ]
  },
  {
   "cell_type": "code",
   "execution_count": null,
   "metadata": {},
   "outputs": [],
   "source": [
    "# オッズと人気を特徴量から省いたランク、日、クロスバリデーション\n",
    "trainer = Trainer_lightgbm_rank_niti_cv_in3(\n",
    "    \n",
    "    features_filename = \"features_dirt_nowin.csv\", \n",
    "    config_filepath=\"config_lightgbm_niti_dev_dirt_only_tenkai_weight.yaml\",\n",
    ")\n",
    "evaluation_df = trainer.run(\n",
    "    n_splits = 5,\n",
    "    importance_filename=\"importance_lightgbm_rank_niti_cv_dev_dirt_nowin_only_tenkai_weight_in3\",\n",
    "    model_filename=\"model_lightgbm_rank_niti_cv_dev_dirt_nowin_only_tenkai_weight_in3.pkl\",\n",
    "    evaluation_filename=\"evaluation_lightgbm_rank_niti_cv_dev_dirt_nowin_only_tenkai_weight_in3.csv\",\n",
    "    final_model_filename = \"model_lightgbm_rank_niti_cv_full_dev_dirt_nowin_only_tenkai_weight_in3.pkl\",\n",
    "    final_num_boost_round = 1000\n",
    ")"
   ]
  },
  {
   "cell_type": "code",
   "execution_count": null,
   "metadata": {},
   "outputs": [],
   "source": [
    "# オッズと人気を特徴量から省いたランク、日、クロスバリデーション\n",
    "trainer = Trainer_lightgbm_rank_niti_cv_in3(\n",
    "    \n",
    "    features_filename = \"features_dirt_nowin.csv\", \n",
    "    config_filepath=\"config_lightgbm_niti_dev_dirt_only_tenkai.yaml\",\n",
    ")\n",
    "evaluation_df = trainer.run(\n",
    "    n_splits = 5,\n",
    "    importance_filename=\"importance_lightgbm_rank_niti_cv_dev_dirt_nowin_only_tenkai_in3\",\n",
    "    model_filename=\"model_lightgbm_rank_niti_cv_dev_dirt_nowin_only_tenkai_in3.pkl\",\n",
    "    evaluation_filename=\"evaluation_lightgbm_rank_niti_cv_dev_dirt_nowin_only_tenkai_in3.csv\",\n",
    "    final_model_filename = \"model_lightgbm_rank_niti_cv_full_dev_dirt_nowin_only_tenkai_in3.pkl\",\n",
    "    final_num_boost_round = 1000\n",
    ")"
   ]
  },
  {
   "cell_type": "code",
   "execution_count": null,
   "metadata": {},
   "outputs": [],
   "source": []
  },
  {
   "cell_type": "code",
   "execution_count": null,
   "metadata": {},
   "outputs": [],
   "source": [
    "# オッズと人気を特徴量から省いたランク、日、クロスバリデーション\n",
    "trainer = Trainer_lightgbm_rank_niti_cv_in3(\n",
    "    \n",
    "    features_filename = \"features_turf.csv\", \n",
    "    config_filepath=\"config_lightgbm_niti_dev_turf_only_tenkai_ex.yaml\",\n",
    ")\n",
    "evaluation_df = trainer.run(\n",
    "    n_splits = 5,\n",
    "    importance_filename=\"importance_lightgbm_rank_niti_cv_dev_turf_only_tenkai_ex_in3\",\n",
    "    model_filename=\"model_lightgbm_rank_niti_cv_dev_turf_only_tenkai_ex_in3.pkl\",\n",
    "    evaluation_filename=\"evaluation_lightgbm_rank_niti_cv_dev_turf_only_tenkai_ex_in3.csv\",\n",
    "    final_model_filename = \"model_lightgbm_rank_niti_cv_full_dev_turf_only_tenkai_ex_in3.pkl\",\n",
    "    final_num_boost_round = 1500\n",
    ")"
   ]
  },
  {
   "cell_type": "code",
   "execution_count": null,
   "metadata": {},
   "outputs": [],
   "source": []
  },
  {
   "cell_type": "code",
   "execution_count": null,
   "metadata": {},
   "outputs": [],
   "source": []
  },
  {
   "cell_type": "code",
   "execution_count": null,
   "metadata": {},
   "outputs": [],
   "source": []
  },
  {
   "cell_type": "code",
   "execution_count": null,
   "metadata": {},
   "outputs": [],
   "source": [
    "中山芝5.2\n",
    "ダート4.5\n",
    "\n",
    "阪神芝4\n",
    "ダート4.5\n",
    "\n",
    "中京芝2.7\n",
    "ダート4.5\n",
    "\n",
    "\n",
    "差しが決まってるとか関係なく、素直に馬場状態を評価する\n",
    "平均タイム差調べて、自分で入力\n",
    "自動投票なら自動で\n",
    "\n",
    "\n",
    "2\n",
    "2.7\n",
    "3.5\n",
    "4\n",
    "4.5\n",
    "5.2\n",
    "6"
   ]
  },
  {
   "cell_type": "code",
   "execution_count": null,
   "metadata": {},
   "outputs": [],
   "source": [
    "(これ以外の買いはしないこと、ルールを絶対に守る、いずれ収束するから)\n",
    "\n",
    "芝未勝利_lightgbm_rank_niti_cv_dev_turf_nowin_only_tenkai\n",
    "芝tenkai_in3()三連複だと的中率低いのでワイドboxも+\n",
    "障害_in3三連複だと的中率低いのでワイド1通りも+\n",
    "\n",
    "[ダートは基本なし]遊びなら三連複,妙味のあるワイド\n",
    "ダートは基本クソ\n",
    "rank_niti_cv_dev_dirt_in3\n",
    "_lightgbm_rank_niti_cv_dev_dirt_nowin(1900以上)\n",
    "\n",
    "本命がオッズ低い場合は買わない、穴が絡まない限り\n",
    "穴を絞って買うこと\n",
    "土曜午前は視て、馬場状態を設定する\n",
    "\n",
    "#############################################\n",
    "単勝期待値(predなし、期待値のみ)\n",
    "top3のみ三連複\n",
    "本命穴の場合、ワイドは２通りor3boxまで\n",
    "#############################################\n",
    "傑出ありはこれに三連単交互\n",
    "傑出あり二軍は三連複を増やす\n",
    "pred以上は三連単を強めに、馬単はかけない\n",
    "\n",
    "\n",
    "\n",
    "\n",
    "\n",
    "\n",
    "\n",
    "\"\"\"\n",
    "・・・・・単勝期待値・・・・・複勝なし\n",
    "【芝】　_lightgbm_rank_niti_cv_dev_turf_only_tenkai_in3\n",
    " and pred > 0.1 and tansho_odds < 100\n",
    "期待値>= 6.9\n",
    "\n",
    "\n",
    "【芝未勝利】　_lightgbm_rank_niti_cv_dev_turf_nowin_only_tenkai\n",
    "and pred > 0.1 and tansho_odds < 100\n",
    "期待値> 6\n",
    "\n",
    "【障害】　_lightgbm_rank_niti_cv_dev_obstract_in3\n",
    "and pred > 0.1 and tansho_odds < 100\n",
    "期待値> 1\n",
    "\n",
    "\n",
    "【ダート】rank_niti_cv_dev_dirt_in3\n",
    "and pred > 0.1 and tansho_odds < 100\n",
    "期待値> 5.6\n",
    "基本やらなくていい\n",
    "\n",
    "\n",
    "\n",
    "\n",
    "\"\"\"\n"
   ]
  },
  {
   "cell_type": "code",
   "execution_count": null,
   "metadata": {},
   "outputs": [],
   "source": []
  },
  {
   "cell_type": "code",
   "execution_count": null,
   "metadata": {},
   "outputs": [],
   "source": []
  },
  {
   "cell_type": "code",
   "execution_count": null,
   "metadata": {
    "collapsed": true,
    "jupyter": {
     "outputs_hidden": true,
     "source_hidden": true
    }
   },
   "outputs": [],
   "source": [
    "# オッズと人気を特徴量から省いたランク、日、クロスバリデーション\n",
    "trainer_in3 = Trainer_lightgbm_rank_niti_cv_in3(\n",
    "    features_filename = \"features_turf.csv\", \n",
    "    config_filepath=\"config_lightgbm_niti_dev_turf.yaml\",\n",
    ")\n",
    "evaluation_df = trainer_in3.run(\n",
    "    n_splits = 5,\n",
    "    importance_filename=\"importance_lightgbm_rank_niti_cv_dev_turf_in3\",\n",
    "    model_filename=\"model_lightgbm_rank_niti_cv_dev_turf_in3.pkl\",\n",
    "    evaluation_filename=\"evaluation_lightgbm_rank_niti_cv_dev_turf_in3.csv\",\n",
    "    final_model_filename = \"model_lightgbm_rank_niti_cv_full_dev_turf_in3.pkl\",\n",
    "    final_num_boost_round = 1500\n",
    ")"
   ]
  },
  {
   "cell_type": "code",
   "execution_count": null,
   "metadata": {},
   "outputs": [],
   "source": [
    "%autoreload"
   ]
  },
  {
   "cell_type": "code",
   "execution_count": null,
   "metadata": {
    "collapsed": true,
    "jupyter": {
     "outputs_hidden": true,
     "source_hidden": true
    }
   },
   "outputs": [],
   "source": [
    "# オッズと人気を特徴量から省いたランク、芝、クロスバリデーション\n",
    "trainer = Trainer_lightgbm_rank_niti_cv_in3(\n",
    "    \n",
    "    features_filename = \"features_dirt.csv\", \n",
    "    config_filepath=\"config_lightgbm_niti_dev_dirt.yaml\",\n",
    ")\n",
    "evaluation_df = trainer.run(\n",
    "    n_splits = 5,\n",
    "    importance_filename=\"importance_lightgbm_rank_niti_cv_dev_dirt_in3\",\n",
    "    model_filename=\"model_lightgbm_rank_niti_cv_dev_dirt_in3.pkl\",\n",
    "    evaluation_filename=\"evaluation_lightgbm_rank_niti_cv_dev_dirt_in3.csv\",\n",
    "    final_model_filename = \"model_lightgbm_rank_niti_cv_full_dev_dirt_in3.pkl\",\n",
    "    final_num_boost_round = 1500\n",
    ")"
   ]
  },
  {
   "cell_type": "code",
   "execution_count": null,
   "metadata": {
    "collapsed": true,
    "jupyter": {
     "outputs_hidden": true,
     "source_hidden": true
    }
   },
   "outputs": [],
   "source": [
    "\n",
    "trainer = Trainer_lightgbm_rank_niti_cv_in3(\n",
    "    features_filename = \"features_turf_nowin.csv\", \n",
    "    config_filepath=\"config_lightgbm_niti_dev_turf_nowin.yaml\",\n",
    ")\n",
    "evaluation_df = trainer.run(\n",
    "    n_splits = 5,\n",
    "    importance_filename=\"importance_lightgbm_rank_niti_cv_dev_turf_nowin_in3\",\n",
    "    model_filename=\"model_lightgbm_rank_niti_cv_dev_turf_nowin_in3.pkl\",\n",
    "    evaluation_filename=\"evaluation_lightgbm_rank_niti_cv_dev_turf_nowin_in3.csv\",\n",
    "    final_model_filename = \"model_lightgbm_rank_niti_cv_full_dev_turf_nowin_in3.pkl\"\n",
    ")"
   ]
  },
  {
   "cell_type": "code",
   "execution_count": null,
   "metadata": {
    "collapsed": true,
    "jupyter": {
     "outputs_hidden": true,
     "source_hidden": true
    }
   },
   "outputs": [],
   "source": [
    "# オッズと人気を特徴量から省いたランク、回帰、クロスバリデーション\n",
    "trainer = Trainer_lightgbm_rank_niti_cv_in3(\n",
    "    features_filename = \"features_dirt_nowin.csv\", \n",
    "    config_filepath=\"config_lightgbm_niti_dev_dirt_nowin.yaml\",\n",
    ")\n",
    "evaluation_df = trainer.run(\n",
    "    n_splits = 5,\n",
    "    importance_filename=\"importance_lightgbm_rank_niti_cv_dev_dirt_nowin_in3\",\n",
    "    model_filename=\"model_lightgbm_rank_niti_cv_dev_dirt_nowin_in3.pkl\",\n",
    "    evaluation_filename=\"evaluation_lightgbm_rank_niti_cv_dev_dirt_nowin_in3.csv\",\n",
    "    final_model_filename = \"model_lightgbm_rank_niti_cv_full_dev_dirt_nowin_in3.pkl\"\n",
    ")"
   ]
  },
  {
   "cell_type": "code",
   "execution_count": null,
   "metadata": {},
   "outputs": [],
   "source": []
  },
  {
   "cell_type": "code",
   "execution_count": null,
   "metadata": {
    "collapsed": true,
    "jupyter": {
     "outputs_hidden": true,
     "source_hidden": true
    }
   },
   "outputs": [],
   "source": [
    "# オッズと人気を特徴量から省いたランク、日、クロスバリデーション\n",
    "trainer = Trainer_lightgbm_rank_niti_cv_in3(\n",
    "    \n",
    "    features_filename = \"features_dirt.csv\", \n",
    "    config_filepath=\"config_lightgbm_niti_dev_dirt_only_tenkai.yaml\",\n",
    ")\n",
    "evaluation_df = trainer.run(\n",
    "    n_splits = 5,\n",
    "    importance_filename=\"importance_lightgbm_rank_niti_cv_dev_dirt_only_tenkai_in3\",\n",
    "    model_filename=\"model_lightgbm_rank_niti_cv_dev_dirt_only_tenkai_in3.pkl\",\n",
    "    evaluation_filename=\"evaluation_lightgbm_rank_niti_cv_dev_dirt_only_tenkai_in3.csv\",\n",
    "    final_model_filename = \"model_lightgbm_rank_niti_cv_full_dev_dirt_only_tenkai_in3.pkl\",\n",
    "    final_num_boost_round = 1400\n",
    ")"
   ]
  },
  {
   "cell_type": "code",
   "execution_count": null,
   "metadata": {
    "collapsed": true,
    "jupyter": {
     "outputs_hidden": true,
     "source_hidden": true
    }
   },
   "outputs": [],
   "source": [
    "# オッズと人気を特徴量から省いたランク、日、クロスバリデーション\n",
    "trainer = Trainer_lightgbm_rank_niti_cv_in3(\n",
    "    \n",
    "    features_filename = \"features_turf.csv\", \n",
    "    config_filepath=\"config_lightgbm_niti_dev_turf_only_tenkai.yaml\",\n",
    ")\n",
    "evaluation_df = trainer.run(\n",
    "    n_splits = 5,\n",
    "    importance_filename=\"importance_lightgbm_rank_niti_cv_dev_turf_only_tenkai_in3\",\n",
    "    model_filename=\"model_lightgbm_rank_niti_cv_dev_turf_only_tenkai_in3.pkl\",\n",
    "    evaluation_filename=\"evaluation_lightgbm_rank_niti_cv_dev_turf_only_tenkai_in3.csv\",\n",
    "    final_model_filename = \"model_lightgbm_rank_niti_cv_full_dev_turf_only_tenkai_in3.pkl\",\n",
    "    final_num_boost_round = 1500\n",
    ")"
   ]
  },
  {
   "cell_type": "code",
   "execution_count": null,
   "metadata": {},
   "outputs": [],
   "source": [
    "%autoreload"
   ]
  },
  {
   "cell_type": "code",
   "execution_count": null,
   "metadata": {},
   "outputs": [],
   "source": [
    "#評価"
   ]
  },
  {
   "cell_type": "code",
   "execution_count": null,
   "metadata": {},
   "outputs": [],
   "source": [
    "# オッズと人気を特徴量から省いた場合_ランク、二値、クロスバリデーション（最終番目）\n",
    "evaluator = Evaluator_lightgbm_rank_niti_cross(\n",
    "    evaluation_filename=\"evaluation_lightgbm_rank_niti_cv_dev_turf_in3.csv\",\n",
    "    return_tables_filename = \"return_tables_turf.pickle\",\n",
    ")\n",
    "evaluator.summarize_box_top_n(n=3,save_filename=\"box_summary_rank_niti_cross_dev_turf_in3.csv\")\n",
    "summary_df_noodds_gbm = evaluator.summarize_box_exp(exp_name=\"lightgbm_rank_niti_cross_dev_turf\")\n",
    "summary_df_noodds_gbm"
   ]
  },
  {
   "cell_type": "code",
   "execution_count": null,
   "metadata": {},
   "outputs": [],
   "source": [
    "# オッズと人気を特徴量から省いた場合_ランク、二値、クロスバリデーション（最終番目）\n",
    "evaluator = Evaluator_lightgbm_rank_niti_cross(\n",
    "    evaluation_filename=\"evaluation_lightgbm_rank_niti_cv_dev_turf_noweight_in3.csv\",\n",
    "    return_tables_filename = \"return_tables_turf.pickle\",\n",
    ")\n",
    "evaluator.summarize_box_top_n(n=3,save_filename=\"box_summary_rank_niti_cross_dev_turf_noweight_in3.csv\")\n",
    "summary_df_noodds_gbm = evaluator.summarize_box_exp(exp_name=\"lightgbm_rank_niti_cross_dev_turf_noweight\")\n",
    "summary_df_noodds_gbm"
   ]
  },
  {
   "cell_type": "code",
   "execution_count": null,
   "metadata": {},
   "outputs": [],
   "source": [
    "# オッズと人気を特徴量から省いた場合_ランク、二値、クロスバリデーション（最終番目）\n",
    "evaluator = Evaluator_lightgbm_rank_niti_cross(\n",
    "    evaluation_filename=\"evaluation_lightgbm_rank_niti_cv_dev_dirt_in3.csv\",\n",
    "    return_tables_filename = \"return_tables_dirt.pickle\",\n",
    ")\n",
    "evaluator.summarize_box_top_n(n=3,save_filename=\"box_summary_rank_niti_cross_dev_dirt_in3.csv\")\n",
    "summary_df_noodds_gbm = evaluator.summarize_box_exp(exp_name=\"lightgbm_rank_niti_cross_dev_dirt\")\n",
    "summary_df_noodds_gbm"
   ]
  },
  {
   "cell_type": "code",
   "execution_count": null,
   "metadata": {},
   "outputs": [],
   "source": [
    "# オッズと人気を特徴量から省いた場合_ランク、二値、クロスバリデーション（最終番目）\n",
    "evaluator = Evaluator_lightgbm_rank_niti_cross(\n",
    "    evaluation_filename=\"evaluation_lightgbm_rank_niti_cv_dev_dirt_noweight_in3.csv\",\n",
    "    return_tables_filename = \"return_tables_dirt.pickle\",\n",
    ")\n",
    "evaluator.summarize_box_top_n(n=3,save_filename=\"box_summary_rank_niti_cross_dev_dirt_in3.csv\")\n",
    "summary_df_noodds_gbm = evaluator.summarize_box_exp(exp_name=\"lightgbm_rank_niti_cross_dev_dirt\")\n",
    "summary_df_noodds_gbm"
   ]
  },
  {
   "cell_type": "code",
   "execution_count": null,
   "metadata": {},
   "outputs": [],
   "source": [
    "# オッズと人気を特徴量から省いた場合_ランク、二値、クロスバリデーション（最終番目）\n",
    "evaluator = Evaluator_lightgbm_rank_niti_cross(\n",
    "    evaluation_filename=\"evaluation_lightgbm_rank_niti_cv_dev_obstract_noweight_in3.csv\",\n",
    "    return_tables_filename = \"return_tables_obstract.pickle\",\n",
    ")\n",
    "evaluator.summarize_box_top_n(n=3,save_filename=\"box_summary_rank_niti_cross_dev_obstract_noweight_in3.csv\")\n",
    "summary_df_noodds_gbm = evaluator.summarize_box_exp(exp_name=\"lightgbm_rank_niti_cross_dev_obstract_noweight\")\n",
    "summary_df_noodds_gbm"
   ]
  },
  {
   "cell_type": "code",
   "execution_count": null,
   "metadata": {},
   "outputs": [],
   "source": [
    "# オッズと人気を特徴量から省いた場合_ランク、二値、クロスバリデーション（最終番目）\n",
    "evaluator = Evaluator_lightgbm_rank_niti_cross(\n",
    "    evaluation_filename=\"evaluation_lightgbm_rank_niti_cv_dev_obstract_in3.csv\",\n",
    "    return_tables_filename = \"return_tables_obstract.pickle\",\n",
    ")\n",
    "evaluator.summarize_box_top_n(n=3,save_filename=\"box_summary_rank_niti_cross_dev_obstract_in3.csv\")\n",
    "summary_df_noodds_gbm = evaluator.summarize_box_exp(exp_name=\"lightgbm_rank_niti_cross_dev_obstract\")\n",
    "summary_df_noodds_gbm"
   ]
  },
  {
   "cell_type": "code",
   "execution_count": null,
   "metadata": {},
   "outputs": [],
   "source": [
    "# オッズと人気を特徴量から省いた場合_ランク、二値、クロスバリデーション（最終番目）\n",
    "evaluator = Evaluator_lightgbm_rank_niti_cross(\n",
    "    evaluation_filename=\"evaluation_lightgbm_rank_niti_cv_dev_turf_nowin_in3.csv\",\n",
    "    return_tables_filename = \"return_tables_turf_nowin.pickle\",\n",
    ")\n",
    "evaluator.summarize_box_top_n(n=3,save_filename=\"box_summary_rank_niti_cross_dev_turf_nowin_in3.csv\")\n",
    "summary_df_noodds_gbm = evaluator.summarize_box_exp(exp_name=\"lightgbm_rank_niti_cross_dev_turf_nowin\")\n",
    "summary_df_noodds_gbm"
   ]
  },
  {
   "cell_type": "code",
   "execution_count": null,
   "metadata": {},
   "outputs": [],
   "source": [
    "# オッズと人気を特徴量から省いた場合_ランク、二値、クロスバリデーション（最終番目）\n",
    "evaluator = Evaluator_lightgbm_rank_niti_cross(\n",
    "    evaluation_filename=\"evaluation_lightgbm_rank_niti_cv_dev_turf_nowin_noweight_in3.csv\",\n",
    "    return_tables_filename = \"return_tables_turf_nowin.pickle\",\n",
    ")\n",
    "evaluator.summarize_box_top_n(n=3,save_filename=\"box_summary_rank_niti_cross_dev_turf_nowin_noweight_in3.csv\")\n",
    "summary_df_noodds_gbm = evaluator.summarize_box_exp(exp_name=\"lightgbm_rank_niti_cross_dev_turf_nowin_noweight\")\n",
    "summary_df_noodds_gbm"
   ]
  },
  {
   "cell_type": "code",
   "execution_count": null,
   "metadata": {},
   "outputs": [],
   "source": [
    "# オッズと人気を特徴量から省いた場合_ランク、二値、クロスバリデーション（最終番目）\n",
    "evaluator = Evaluator_lightgbm_rank_niti_cross(\n",
    "    evaluation_filename=\"evaluation_lightgbm_rank_niti_cv_dev_dirt_nowin_noweight_in3.csv\",\n",
    "    return_tables_filename = \"return_tables_dirt_nowin.pickle\",\n",
    ")\n",
    "evaluator.summarize_box_top_n(n=3,save_filename=\"box_summary_rank_niti_cross_dev_dirt_nowin_noweight_in3.csv\")\n",
    "summary_df_noodds_gbm = evaluator.summarize_box_exp(exp_name=\"lightgbm_rank_niti_cross_dev_dirt_nowin_noweight\")\n",
    "summary_df_noodds_gbm"
   ]
  },
  {
   "cell_type": "code",
   "execution_count": null,
   "metadata": {},
   "outputs": [],
   "source": [
    "# オッズと人気を特徴量から省いた場合_ランク、二値、クロスバリデーション（最終番目）\n",
    "evaluator = Evaluator_lightgbm_rank_niti_cross(\n",
    "    evaluation_filename=\"evaluation_lightgbm_rank_niti_cv_dev_dirt_nowin_in3.csv\",\n",
    "    return_tables_filename = \"return_tables_dirt_nowin.pickle\",\n",
    ")\n",
    "evaluator.summarize_box_top_n(n=3,save_filename=\"box_summary_rank_niti_cross_dev_dirt_nowin_in3.csv\")\n",
    "summary_df_noodds_gbm = evaluator.summarize_box_exp(exp_name=\"lightgbm_rank_niti_cross_dev_dirt_nowin\")\n",
    "summary_df_noodds_gbm"
   ]
  },
  {
   "cell_type": "code",
   "execution_count": null,
   "metadata": {},
   "outputs": [],
   "source": []
  },
  {
   "cell_type": "code",
   "execution_count": null,
   "metadata": {},
   "outputs": [],
   "source": []
  },
  {
   "cell_type": "code",
   "execution_count": null,
   "metadata": {},
   "outputs": [],
   "source": []
  },
  {
   "cell_type": "code",
   "execution_count": null,
   "metadata": {},
   "outputs": [],
   "source": []
  },
  {
   "cell_type": "code",
   "execution_count": null,
   "metadata": {},
   "outputs": [],
   "source": []
  },
  {
   "cell_type": "code",
   "execution_count": null,
   "metadata": {},
   "outputs": [],
   "source": []
  },
  {
   "cell_type": "code",
   "execution_count": null,
   "metadata": {},
   "outputs": [],
   "source": []
  },
  {
   "cell_type": "code",
   "execution_count": null,
   "metadata": {},
   "outputs": [],
   "source": []
  },
  {
   "cell_type": "code",
   "execution_count": null,
   "metadata": {},
   "outputs": [],
   "source": []
  },
  {
   "cell_type": "code",
   "execution_count": null,
   "metadata": {},
   "outputs": [],
   "source": []
  },
  {
   "cell_type": "code",
   "execution_count": null,
   "metadata": {},
   "outputs": [],
   "source": []
  },
  {
   "cell_type": "code",
   "execution_count": null,
   "metadata": {
    "collapsed": true,
    "jupyter": {
     "outputs_hidden": true,
     "source_hidden": true
    }
   },
   "outputs": [],
   "source": [
    "# オッズと人気を特徴量から省いた場合_time、回帰、クロスバリデーション（最終番目）_軸\n",
    "evaluator = Evaluator_lightgbm_rank_niti_shaft(\n",
    "    evaluation_filename=\"evaluation_lightgbm_rank_niti_cv_dev_turf_only_tenkai_in3.csv\",\n",
    "    return_tables_filename = \"return_tables_turf.pickle\",\n",
    ")\n",
    "evaluator.summarize_box_top_n(n=3,save_filename=\"shaft_summary_rank_niti_dev_top3_turf_only_tenkai_in3.csv\")\n",
    "summary_df_shaft = evaluator.summarize_box_exp(exp_name=\"lightgbm_rank_niti_cross_dev_turf_only_tenkai\")\n",
    "summary_df_shaft"
   ]
  },
  {
   "cell_type": "code",
   "execution_count": null,
   "metadata": {},
   "outputs": [],
   "source": [
    "%autoreload"
   ]
  },
  {
   "cell_type": "code",
   "execution_count": null,
   "metadata": {},
   "outputs": [],
   "source": [
    "# オッズと人気を特徴量から省いた場合_ランク、二値、クロスバリデーション（最終番目）\n",
    "evaluator_in3 = Evaluator_lightgbm_rank_niti_cross_in3(\n",
    "    evaluation_filename=\"evaluation_lightgbm_rank_niti_cv_dev_turf_only_tenkai_in3.csv\",\n",
    "    return_tables_filename = \"return_tables_turf.pickle\",\n",
    ")\n",
    "evaluator_in3.summarize_box_top_n(n=3,save_filename=\"box_summary_rank_niti_cross_dev_turf_only_tenkai_in3.csv\")\n",
    "summary_df_noodds_gbm_in3 = evaluator_in3.summarize_box_exp(exp_name=\"lightgbm_rank_niti_cross_dev_turf_only_tenkai_in3\")\n",
    "summary_df_noodds_gbm_in3"
   ]
  },
  {
   "cell_type": "code",
   "execution_count": null,
   "metadata": {},
   "outputs": [],
   "source": [
    "# オッズと人気を特徴量から省いた場合_ランク、二値、クロスバリデーション（最終番目）\n",
    "evaluator_in3 = Evaluator_lightgbm_rank_niti_cross_in3(\n",
    "    evaluation_filename=\"evaluation_lightgbm_rank_niti_cv_dev_dirt_only_tenkai_in3.csv\",\n",
    "    return_tables_filename = \"return_tables_dirt.pickle\",\n",
    ")\n",
    "evaluator_in3.summarize_box_top_n(n=3,save_filename=\"box_summary_rank_niti_cross_dev_dirt_only_tenkai_in3.csv\")\n",
    "summary_df_noodds_gbm_in3 = evaluator_in3.summarize_box_exp(exp_name=\"lightgbm_rank_niti_cross_dev_dirt_only_tenkai_in3\")\n",
    "summary_df_noodds_gbm_in3"
   ]
  },
  {
   "cell_type": "code",
   "execution_count": null,
   "metadata": {},
   "outputs": [],
   "source": []
  },
  {
   "cell_type": "code",
   "execution_count": null,
   "metadata": {},
   "outputs": [],
   "source": []
  },
  {
   "cell_type": "code",
   "execution_count": null,
   "metadata": {},
   "outputs": [],
   "source": [
    "# オッズと人気を特徴量から省いた場合_ランク、二値、クロスバリデーション（最終番目）\n",
    "evaluator_in3 = Evaluator_lightgbm_rank_niti_cross_in3(\n",
    "    evaluation_filename=\"evaluation_lightgbm_rank_niti_cv_dev_turf_nowin_only_tenkai_in3.csv\",\n",
    "    return_tables_filename = \"return_tables_turf_nowin.pickle\",\n",
    ")\n",
    "evaluator_in3.summarize_box_top_n(n=3,save_filename=\"box_summary_rank_niti_cross_dev_turf_nowin_only_tenkai_in3.csv\")\n",
    "summary_df_noodds_gbm_in3 = evaluator_in3.summarize_box_exp(exp_name=\"lightgbm_rank_niti_cross_dev_turf_nowin_only_tenkai_in3\")\n",
    "summary_df_noodds_gbm_in3"
   ]
  },
  {
   "cell_type": "code",
   "execution_count": null,
   "metadata": {},
   "outputs": [],
   "source": [
    "# オッズと人気を特徴量から省いた場合_ランク、二値、クロスバリデーション（最終番目）\n",
    "evaluator_in3 = Evaluator_lightgbm_rank_niti_cross_in3(\n",
    "    evaluation_filename=\"evaluation_lightgbm_rank_niti_cv_dev_dirt_nowin_only_tenkai_in3.csv\",\n",
    "    return_tables_filename = \"return_tables_dirt_nowin.pickle\",\n",
    ")\n",
    "evaluator_in3.summarize_box_top_n(n=3,save_filename=\"box_summary_rank_niti_cross_dev_dirt_only_tenkai_in3.csv\")\n",
    "summary_df_noodds_gbm_in3 = evaluator_in3.summarize_box_exp(exp_name=\"lightgbm_rank_niti_cross_dev_dirt_only_tenkai_in3\")\n",
    "summary_df_noodds_gbm_in3"
   ]
  },
  {
   "cell_type": "code",
   "execution_count": null,
   "metadata": {},
   "outputs": [],
   "source": [
    "%autoreload"
   ]
  },
  {
   "cell_type": "code",
   "execution_count": null,
   "metadata": {},
   "outputs": [],
   "source": [
    "# オッズと人気を特徴量から省いた場合_ランク、二値、クロスバリデーション（最終番目）\n",
    "evaluator_in3 = Evaluator_lightgbm_rank_niti_cross_in3(\n",
    "    evaluation_filename=\"evaluation_lightgbm_rank_niti_cv_dev_dirt_only_tenkai_weight_in3.csv\",\n",
    "    return_tables_filename = \"return_tables_dirt.pickle\",\n",
    ")\n",
    "evaluator_in3.summarize_box_top_n(n=3,save_filename=\"box_summary_rank_niti_cross_dev_dirt_only_tenkai_in3.csv\")\n",
    "summary_df_noodds_gbm_in3 = evaluator_in3.summarize_box_exp(exp_name=\"lightgbm_rank_niti_cross_dev_dirt_only_tenkai_in3\")\n",
    "summary_df_noodds_gbm_in3"
   ]
  },
  {
   "cell_type": "code",
   "execution_count": null,
   "metadata": {},
   "outputs": [],
   "source": [
    "# オッズと人気を特徴量から省いた場合_ランク、二値、クロスバリデーション（最終番目）\n",
    "evaluator_in3 = Evaluator_lightgbm_rank_niti_cross_in3(\n",
    "    evaluation_filename=\"evaluation_lightgbm_rank_niti_cv_dev_dirt_nowin_only_tenkai_weight_in3.csv\",\n",
    "    return_tables_filename = \"return_tables_dirt_nowin.pickle\",\n",
    ")\n",
    "evaluator_in3.summarize_box_top_n(n=3,save_filename=\"box_summary_rank_niti_cross_dev_dirt_only_tenkai_in3.csv\")\n",
    "summary_df_noodds_gbm_in3 = evaluator_in3.summarize_box_exp(exp_name=\"lightgbm_rank_niti_cross_dev_dirt_only_tenkai_in3\")\n",
    "summary_df_noodds_gbm_in3"
   ]
  },
  {
   "cell_type": "code",
   "execution_count": null,
   "metadata": {},
   "outputs": [],
   "source": []
  },
  {
   "cell_type": "code",
   "execution_count": null,
   "metadata": {},
   "outputs": [],
   "source": [
    "# オッズと人気を特徴量から省いた場合_ランク、二値、クロスバリデーション（最終番目）\n",
    "evaluator_in3 = Evaluator_lightgbm_rank_niti_cross_in3(\n",
    "    evaluation_filename=\"evaluation_lightgbm_rank_niti_cv_dev_turf_only_tenkai_ex_in3.csv\",\n",
    "    return_tables_filename = \"return_tables_turf.pickle\",\n",
    ")\n",
    "evaluator_in3.summarize_box_top_n(n=3,save_filename=\"box_summary_rank_niti_cross_dev_turf_only_tenkai_ex_in3.csv\")\n",
    "summary_df_noodds_gbm_in3 = evaluator_in3.summarize_box_exp(exp_name=\"lightgbm_rank_niti_cross_dev_turf_only_tenkai_ex_in3\")\n",
    "summary_df_noodds_gbm_in3"
   ]
  },
  {
   "cell_type": "code",
   "execution_count": null,
   "metadata": {},
   "outputs": [],
   "source": []
  },
  {
   "cell_type": "code",
   "execution_count": null,
   "metadata": {},
   "outputs": [],
   "source": []
  },
  {
   "cell_type": "code",
   "execution_count": null,
   "metadata": {},
   "outputs": [],
   "source": []
  },
  {
   "cell_type": "code",
   "execution_count": null,
   "metadata": {
    "collapsed": true,
    "jupyter": {
     "outputs_hidden": true,
     "source_hidden": true
    }
   },
   "outputs": [],
   "source": [
    "# オッズと人気を特徴量から省いたランク、日、クロスバリデーション\n",
    "trainer = Trainer_lightgbm_rank_niti_cv_in3(\n",
    "    \n",
    "    features_filename = \"features_turf.csv\", \n",
    "    config_filepath=\"config_lightgbm_niti_dev_turf_only_tenkai.yaml\",\n",
    ")\n",
    "evaluation_df = trainer.run(\n",
    "    n_splits = 5,\n",
    "    importance_filename=\"importance_lightgbm_rank_niti_cv_dev_turf_only_tenkai_in3\",\n",
    "    model_filename=\"model_lightgbm_rank_niti_cv_dev_turf_only_tenkai_in3.pkl\",\n",
    "    evaluation_filename=\"evaluation_lightgbm_rank_niti_cv_dev_turf_only_tenkai_in3.csv\",\n",
    "    final_model_filename = \"model_lightgbm_rank_niti_cv_full_dev_turf_only_tenkai_in3.pkl\",\n",
    "    final_num_boost_round = 1500\n",
    ")"
   ]
  },
  {
   "cell_type": "code",
   "execution_count": null,
   "metadata": {
    "collapsed": true,
    "jupyter": {
     "outputs_hidden": true,
     "source_hidden": true
    }
   },
   "outputs": [],
   "source": [
    "# オッズと人気を特徴量から省いた場合_ランク、二値、クロスバリデーション（最終番目）\n",
    "evaluator = Evaluator_lightgbm_rank_niti_cross(\n",
    "    evaluation_filename=\"evaluation_lightgbm_rank_niti_cv_dev_turf_only_tenkai_in3.csv\",\n",
    "    return_tables_filename = \"return_tables_turf.pickle\",\n",
    ")\n",
    "evaluator.summarize_box_top_n(n=3,save_filename=\"box_summary_rank_niti_cross_dev_turf_only_tenkai_in3.csv\")\n",
    "summary_df_noodds_gbm = evaluator.summarize_box_exp(exp_name=\"lightgbm_rank_niti_cross_dev_turf_only_tenkai\")\n",
    "summary_df_noodds_gbm"
   ]
  },
  {
   "cell_type": "code",
   "execution_count": null,
   "metadata": {},
   "outputs": [],
   "source": []
  },
  {
   "cell_type": "code",
   "execution_count": null,
   "metadata": {},
   "outputs": [],
   "source": []
  },
  {
   "cell_type": "code",
   "execution_count": null,
   "metadata": {},
   "outputs": [],
   "source": []
  },
  {
   "cell_type": "code",
   "execution_count": null,
   "metadata": {},
   "outputs": [],
   "source": [
    "%autoreload"
   ]
  },
  {
   "cell_type": "code",
   "execution_count": null,
   "metadata": {},
   "outputs": [],
   "source": []
  },
  {
   "cell_type": "markdown",
   "metadata": {},
   "source": [
    "##　状況"
   ]
  },
  {
   "cell_type": "code",
   "execution_count": null,
   "metadata": {},
   "outputs": [],
   "source": []
  },
  {
   "cell_type": "markdown",
   "metadata": {
    "jp-MarkdownHeadingCollapsed": true
   },
   "source": [
    "### 期待値"
   ]
  },
  {
   "cell_type": "code",
   "execution_count": null,
   "metadata": {},
   "outputs": [],
   "source": [
    "\n",
    "# オッズと人気を特徴量から省いた場合_ランク、二値、クロスバリデーション（最終番目）\n",
    "evaluator_ex_value = Evaluator_lightgbm_rank_niti_cross_ex_value(\n",
    "    evaluation_filename=\"evaluation_lightgbm_rank_niti_cv_dev_turf.csv\",\n",
    "    return_tables_filename = \"return_tables_turf.pickle\",\n",
    ")\n",
    "evaluator_ex_value.summarize_box_top_n(n=3,save_filename=\"box_summary_rank_niti_cross_dev_turf_ex_value.csv\")\n",
    "summary_df_noodds_gbm_ex_value = evaluator_ex_value.summarize_box_exp(exp_name=\"lightgbm_rank_niti_cross_dev_turf_ex_value\")\n",
    "summary_df_noodds_gbm_ex_value"
   ]
  },
  {
   "cell_type": "code",
   "execution_count": null,
   "metadata": {},
   "outputs": [],
   "source": [
    "\n",
    "# オッズと人気を特徴量から省いた場合_ランク、二値、クロスバリデーション（最終番目）\n",
    "evaluator_ex_value = Evaluator_lightgbm_rank_niti_cross_ex_value(\n",
    "    evaluation_filename=\"evaluation_lightgbm_rank_niti_cv_dev_dirt.csv\",\n",
    "    return_tables_filename = \"return_tables_dirt.pickle\",\n",
    ")\n",
    "evaluator_ex_value.summarize_box_top_n(n=3,save_filename=\"box_summary_rank_niti_cross_dev_dirt_ex_value.csv\")\n",
    "summary_df_noodds_gbm_ex_value = evaluator_ex_value.summarize_box_exp(exp_name=\"lightgbm_rank_niti_cross_dev_dirt_ex_value\")\n",
    "summary_df_noodds_gbm_ex_value"
   ]
  },
  {
   "cell_type": "code",
   "execution_count": null,
   "metadata": {},
   "outputs": [],
   "source": [
    "\n",
    "# オッズと人気を特徴量から省いた場合_ランク、二値、クロスバリデーション（最終番目）\n",
    "evaluator_ex_value = Evaluator_lightgbm_rank_niti_cross_ex_value(\n",
    "    evaluation_filename=\"evaluation_lightgbm_rank_niti_cv_dev_turf_only_tenkai.csv\",\n",
    "    return_tables_filename = \"return_tables_turf.pickle\",\n",
    ")\n",
    "evaluator_ex_value.summarize_box_top_n(n=3,save_filename=\"box_summary_rank_niti_cross_dev_turf_only_tenkai_ex_value.csv\")\n",
    "summary_df_noodds_gbm_ex_value = evaluator_ex_value.summarize_box_exp(exp_name=\"lightgbm_rank_niti_cross_dev_turf_only_tenkai_ex_value\")\n",
    "summary_df_noodds_gbm_ex_value"
   ]
  },
  {
   "cell_type": "code",
   "execution_count": null,
   "metadata": {},
   "outputs": [],
   "source": []
  },
  {
   "cell_type": "code",
   "execution_count": null,
   "metadata": {},
   "outputs": [],
   "source": []
  },
  {
   "cell_type": "code",
   "execution_count": null,
   "metadata": {},
   "outputs": [],
   "source": [
    "\n",
    "# オッズと人気を特徴量から省いた場合_ランク、二値、クロスバリデーション（最終番目）\n",
    "evaluator_ex_value = Evaluator_lightgbm_rank_niti_cross_ex_value(\n",
    "    evaluation_filename=\"evaluation_lightgbm_rank_niti_cv_dev_turf_in3.csv\",\n",
    "    return_tables_filename = \"return_tables_turf.pickle\",\n",
    ")\n",
    "evaluator_ex_value.summarize_box_top_n(n=3,save_filename=\"box_summary_rank_niti_cross_dev_turf_ex_value.csv\")\n",
    "summary_df_noodds_gbm_ex_value = evaluator_ex_value.summarize_box_exp(exp_name=\"lightgbm_rank_niti_cross_dev_turf_ex_value\")\n",
    "summary_df_noodds_gbm_ex_value"
   ]
  },
  {
   "cell_type": "code",
   "execution_count": null,
   "metadata": {},
   "outputs": [],
   "source": [
    "# オッズと人気を特徴量から省いた場合_ランク、二値、クロスバリデーション（最終番目）\n",
    "evaluator_ex_value = Evaluator_lightgbm_rank_niti_cross_ex_value(\n",
    "    evaluation_filename=\"evaluation_lightgbm_rank_niti_cv_dev_dirt_in3.csv\",\n",
    "    return_tables_filename = \"return_tables_dirt.pickle\",\n",
    ")\n",
    "evaluator_ex_value.summarize_box_top_n(n=3,save_filename=\"box_summary_rank_niti_cross_dev_dirt_ex_value.csv\")\n",
    "summary_df_noodds_gbm_ex_value = evaluator_ex_value.summarize_box_exp(exp_name=\"lightgbm_rank_niti_cross_dev_dirt_ex_value\")\n",
    "summary_df_noodds_gbm_ex_value"
   ]
  },
  {
   "cell_type": "code",
   "execution_count": null,
   "metadata": {},
   "outputs": [],
   "source": [
    "\n",
    "# オッズと人気を特徴量から省いた場合_ランク、二値、クロスバリデーション（最終番目）\n",
    "evaluator_ex_value = Evaluator_lightgbm_rank_niti_cross_ex_value(\n",
    "    evaluation_filename=\"evaluation_lightgbm_rank_niti_cv_dev_turf_only_tenkai_in3.csv\",\n",
    "    return_tables_filename = \"return_tables_turf.pickle\",\n",
    ")\n",
    "evaluator_ex_value.summarize_box_top_n(n=3,save_filename=\"box_summary_rank_niti_cross_dev_turf_only_tenkai_ex_value.csv\")\n",
    "summary_df_noodds_gbm_ex_value = evaluator_ex_value.summarize_box_exp(exp_name=\"lightgbm_rank_niti_cross_dev_turf_only_tenkai_ex_value\")\n",
    "summary_df_noodds_gbm_ex_value"
   ]
  },
  {
   "cell_type": "code",
   "execution_count": null,
   "metadata": {},
   "outputs": [],
   "source": [
    "# オッズと人気を特徴量から省いた場合_ランク、二値、クロスバリデーション（最終番目）\n",
    "evaluator_ex_value = Evaluator_lightgbm_rank_niti_cross_ex_value(\n",
    "    evaluation_filename=\"evaluation_lightgbm_rank_niti_cv_dev_obstract_in3.csv\",\n",
    "    return_tables_filename = \"return_tables_obstract.pickle\",\n",
    ")\n",
    "evaluator_ex_value.summarize_box_top_n(n=3,save_filename=\"box_summary_rank_niti_cross_dev_obstract_ex_value.csv\")\n",
    "summary_df_noodds_gbm_ex_value = evaluator_ex_value.summarize_box_exp(exp_name=\"lightgbm_rank_niti_cross_dev_obstract_ex_value\")\n",
    "summary_df_noodds_gbm_ex_value"
   ]
  },
  {
   "cell_type": "code",
   "execution_count": null,
   "metadata": {},
   "outputs": [],
   "source": []
  },
  {
   "cell_type": "code",
   "execution_count": null,
   "metadata": {},
   "outputs": [],
   "source": []
  },
  {
   "cell_type": "code",
   "execution_count": null,
   "metadata": {},
   "outputs": [],
   "source": []
  },
  {
   "cell_type": "code",
   "execution_count": null,
   "metadata": {},
   "outputs": [],
   "source": []
  },
  {
   "cell_type": "markdown",
   "metadata": {},
   "source": []
  },
  {
   "cell_type": "code",
   "execution_count": null,
   "metadata": {},
   "outputs": [],
   "source": []
  },
  {
   "cell_type": "code",
   "execution_count": null,
   "metadata": {},
   "outputs": [],
   "source": []
  },
  {
   "cell_type": "code",
   "execution_count": null,
   "metadata": {},
   "outputs": [],
   "source": []
  },
  {
   "cell_type": "code",
   "execution_count": null,
   "metadata": {},
   "outputs": [],
   "source": []
  },
  {
   "cell_type": "code",
   "execution_count": null,
   "metadata": {},
   "outputs": [],
   "source": []
  },
  {
   "cell_type": "code",
   "execution_count": null,
   "metadata": {},
   "outputs": [],
   "source": []
  },
  {
   "cell_type": "code",
   "execution_count": null,
   "metadata": {},
   "outputs": [],
   "source": []
  },
  {
   "cell_type": "code",
   "execution_count": null,
   "metadata": {},
   "outputs": [],
   "source": []
  },
  {
   "cell_type": "code",
   "execution_count": null,
   "metadata": {},
   "outputs": [],
   "source": []
  },
  {
   "cell_type": "code",
   "execution_count": null,
   "metadata": {},
   "outputs": [],
   "source": []
  },
  {
   "cell_type": "code",
   "execution_count": null,
   "metadata": {},
   "outputs": [],
   "source": []
  },
  {
   "cell_type": "markdown",
   "metadata": {},
   "source": [
    "# 精度評価\n",
    "- popは人気列にかけた場合の回収率、的中率です\n",
    "- topnはそのモデルが評価した上からn番目にかけた場合の的中回収です\n",
    "- 例えばtop4の馬単にかけた場合上から4つの馬をかけた、4*3=12通りの的中率、回収率を計算します\n",
    "- なので、馬単と馬連などの的中率は同じになりますが、回収率は変わります"
   ]
  },
  {
   "cell_type": "code",
   "execution_count": null,
   "metadata": {
    "collapsed": true,
    "jupyter": {
     "outputs_hidden": true,
     "source_hidden": true
    }
   },
   "outputs": [],
   "source": [
    "# オッズ_time、回帰、クロスバリデーション（最終番目）\n",
    "evaluator = Evaluator_lightgbm_time_kaiki(\n",
    "    evaluation_filename=\"evaluation_lightgbm_time_cv_turf.csv\",\n",
    "    return_tables_filenamer = \"return_tables_turf.pickle\",\n",
    ")\n",
    "evaluator.summarize_box_top_n(n=3,save_filename=\"box_summary_time_cross_top3_turf.csv\")\n",
    "summary_df_noodds_gbm = evaluator.summarize_box_exp(exp_name=\"lightgbm_time_cross_turf\")\n",
    "summary_df_noodds_gbm"
   ]
  },
  {
   "cell_type": "code",
   "execution_count": null,
   "metadata": {
    "collapsed": true,
    "jupyter": {
     "outputs_hidden": true,
     "source_hidden": true
    }
   },
   "outputs": [],
   "source": [
    "# オッズと人気を特徴量から省いた場合_time、回帰、クロスバリデーション（最終番目）\n",
    "evaluator = Evaluator_lightgbm_time_kaiki(\n",
    "    evaluation_filename=\"evaluation_lightgbm_time_cv_nopast_turf.csv\",\n",
    "    return_tables_filenamer = \"return_tables_turf.pickle\",\n",
    ")\n",
    "evaluator.summarize_box_top_n(n=3,save_filename=\"box_summary_time_cross_past_top3_turf.csv\")\n",
    "summary_df_noodds_gbm = evaluator.summarize_box_exp(exp_name=\"lightgbm_time_nopast_turf\")\n",
    "summary_df_noodds_gbm"
   ]
  },
  {
   "cell_type": "code",
   "execution_count": null,
   "metadata": {
    "collapsed": true,
    "jupyter": {
     "outputs_hidden": true,
     "source_hidden": true
    }
   },
   "outputs": [],
   "source": [
    "# オッズと人気を特徴量から省いた場合_time、回帰、クロスバリデーション（最終番目）\n",
    "evaluator = Evaluator_lightgbm_time_kaiki(\n",
    "    evaluation_filename=\"evaluation_lightgbm_time_cv_dev_turf.csv\",\n",
    "    return_tables_filename = \"return_tables_turf.pickle\",\n",
    ")\n",
    "evaluator.summarize_box_top_n(n=3,save_filename=\"box_summary_time_cross_dev_top3_turf.csv\")\n",
    "summary_df_noodds_gbm = evaluator.summarize_box_exp(exp_name=\"lightgbm_time_dev_turf\")\n",
    "summary_df_noodds_gbm"
   ]
  },
  {
   "cell_type": "code",
   "execution_count": null,
   "metadata": {
    "collapsed": true,
    "jupyter": {
     "outputs_hidden": true,
     "source_hidden": true
    }
   },
   "outputs": [],
   "source": [
    "# オッズと人気を特徴量から省いた場合_time、回帰、クロスバリデーション（最終番目）_軸\n",
    "evaluator = Evaluator_lightgbm_time_kaiki_shaft(\n",
    "    evaluation_filename=\"evaluation_lightgbm_time_cv_dev_turf.csv\",\n",
    "    return_tables_filename = \"return_tables_turf.pickle\",\n",
    ")\n",
    "evaluator.summarize_box_top_n(n=3,save_filename=\"shaft_summary_time_cross_dev_top3_turf.csv\")\n",
    "summary_df_shaft = evaluator.summarize_box_exp(exp_name=\"lightgbm_time_cross_dev_turf\")\n",
    "summary_df_shaft\n"
   ]
  },
  {
   "cell_type": "code",
   "execution_count": null,
   "metadata": {},
   "outputs": [],
   "source": []
  },
  {
   "cell_type": "code",
   "execution_count": null,
   "metadata": {
    "collapsed": true,
    "jupyter": {
     "outputs_hidden": true,
     "source_hidden": true
    }
   },
   "outputs": [],
   "source": [
    "# オッズ_time、回帰、クロスバリデーション（最終番目）\n",
    "evaluator = Evaluator_lightgbm_time_kaiki(\n",
    "    evaluation_filename=\"evaluation_lightgbm_time_cv_dev_turf_odds.csv\",\n",
    "    return_tables_filename = \"return_tables_turf.pickle\",\n",
    ")\n",
    "evaluator.summarize_box_top_n(n=3,save_filename=\"box_summary_time_cross_dev_top3_turf_odds.csv\")\n",
    "summary_df_noodds_gbm = evaluator.summarize_box_exp(exp_name=\"lightgbm_time_dev_turf_odds\")\n",
    "summary_df_noodds_gbm"
   ]
  },
  {
   "cell_type": "code",
   "execution_count": null,
   "metadata": {
    "collapsed": true,
    "jupyter": {
     "outputs_hidden": true,
     "source_hidden": true
    }
   },
   "outputs": [],
   "source": [
    "# オッズ_軸\n",
    "evaluator = Evaluator_lightgbm_time_kaiki_shaft(\n",
    "    evaluation_filename=\"evaluation_lightgbm_time_cv_dev_turf_odds.csv\",\n",
    "    return_tables_filename = \"return_tables_turf.pickle\",\n",
    ")\n",
    "evaluator.summarize_box_top_n(n=3,save_filename=\"shaft_summary_time_cross_dev_top3_turf_odds.csv\")\n",
    "summary_df_shaft = evaluator.summarize_box_exp(exp_name=\"lightgbm_time_cross_dev_turf_odds\")\n",
    "summary_df_shaft\n"
   ]
  },
  {
   "cell_type": "code",
   "execution_count": null,
   "metadata": {},
   "outputs": [],
   "source": []
  },
  {
   "cell_type": "code",
   "execution_count": null,
   "metadata": {},
   "outputs": [],
   "source": []
  },
  {
   "cell_type": "code",
   "execution_count": null,
   "metadata": {},
   "outputs": [],
   "source": []
  },
  {
   "cell_type": "code",
   "execution_count": null,
   "metadata": {},
   "outputs": [],
   "source": []
  },
  {
   "cell_type": "code",
   "execution_count": null,
   "metadata": {},
   "outputs": [],
   "source": []
  },
  {
   "cell_type": "code",
   "execution_count": null,
   "metadata": {},
   "outputs": [],
   "source": []
  },
  {
   "cell_type": "code",
   "execution_count": null,
   "metadata": {},
   "outputs": [],
   "source": []
  },
  {
   "cell_type": "code",
   "execution_count": null,
   "metadata": {
    "jupyter": {
     "source_hidden": true
    }
   },
   "outputs": [],
   "source": [
    "# オッズと人気を特徴量から省いた場合_time、回帰、クロスバリデーション（最終番目）\n",
    "evaluator = Evaluator_lightgbm_time_kaiki(\n",
    "    evaluation_filename=\"evaluation_lightgbm_time_cv_dev_turf_newbie.csv\",\n",
    "    return_tables_filename = \"return_tables_turf_newbie.pickle\",\n",
    ")\n",
    "evaluator.summarize_box_top_n(n=3,save_filename=\"box_summary_time_cross_dev_top3_turf_newbie.csv\")\n",
    "summary_df_noodds_gbm = evaluator.summarize_box_exp(exp_name=\"lightgbm_time_dev_turf_newbie\")\n",
    "summary_df_noodds_gbm"
   ]
  },
  {
   "cell_type": "code",
   "execution_count": null,
   "metadata": {
    "collapsed": true,
    "jupyter": {
     "outputs_hidden": true,
     "source_hidden": true
    }
   },
   "outputs": [],
   "source": [
    "# オッズと人気を特徴量から省いた場合_time、回帰、クロスバリデーション（最終番目）\n",
    "evaluator = Evaluator_lightgbm_time_kaiki(\n",
    "    evaluation_filename=\"evaluation_lightgbm_time_cv_dev_turf_nowin.csv\",\n",
    "    return_tables_filename = \"return_tables_turf_nowin.pickle\",\n",
    ")\n",
    "evaluator.summarize_box_top_n(n=3,save_filename=\"box_summary_time_cross_dev_top3_turf_nowin.csv\")\n",
    "summary_df_noodds_gbm = evaluator.summarize_box_exp(exp_name=\"lightgbm_time_dev_turf_nowin\")\n",
    "summary_df_noodds_gbm"
   ]
  },
  {
   "cell_type": "code",
   "execution_count": null,
   "metadata": {
    "collapsed": true,
    "jupyter": {
     "outputs_hidden": true,
     "source_hidden": true
    }
   },
   "outputs": [],
   "source": [
    "# オッズと人気を特徴量から省いた場合_time、回帰、クロスバリデーション（最終番目）\n",
    "evaluator = Evaluator_lightgbm_time_kaiki(\n",
    "    evaluation_filename=\"evaluation_lightgbm_time_cv_dev_dirt.csv\",\n",
    "    return_tables_filename = \"return_tables_dirt.pickle\",\n",
    ")\n",
    "evaluator.summarize_box_top_n(n=3,save_filename=\"box_summary_time_cross_dev_top3_dirt.csv\")\n",
    "summary_df_noodds_gbm = evaluator.summarize_box_exp(exp_name=\"lightgbm_time_dev_dirt\")\n",
    "summary_df_noodds_gbm"
   ]
  },
  {
   "cell_type": "code",
   "execution_count": null,
   "metadata": {
    "collapsed": true,
    "jupyter": {
     "outputs_hidden": true,
     "source_hidden": true
    }
   },
   "outputs": [],
   "source": [
    "# オッズと人気を特徴量から省いた場合_time、回帰、クロスバリデーション（最終番目）_軸\n",
    "evaluator = Evaluator_lightgbm_time_kaiki_shaft(\n",
    "    evaluation_filename=\"evaluation_lightgbm_time_cv_dev_dirt.csv\",\n",
    "    return_tables_filename = \"return_tables_dirt.pickle\",\n",
    ")\n",
    "evaluator.summarize_box_top_n(n=3,save_filename=\"shaft_summary_time_cross_dev_top3_dirt.csv\")\n",
    "summary_df_shaft = evaluator.summarize_box_exp(exp_name=\"lightgbm_time_cross_dev_dirt\")\n",
    "summary_df_shaft\n"
   ]
  },
  {
   "cell_type": "code",
   "execution_count": null,
   "metadata": {},
   "outputs": [],
   "source": []
  },
  {
   "cell_type": "code",
   "execution_count": null,
   "metadata": {
    "collapsed": true,
    "jupyter": {
     "outputs_hidden": true,
     "source_hidden": true
    }
   },
   "outputs": [],
   "source": [
    "# オッズ_time、回帰、クロスバリデーション（最終番目）\n",
    "evaluator = Evaluator_lightgbm_time_kaiki(\n",
    "    evaluation_filename=\"evaluation_lightgbm_time_cv_dev_dirt_odds.csv\",\n",
    "    return_tables_filename = \"return_tables_dirt.pickle\",\n",
    ")\n",
    "evaluator.summarize_box_top_n(n=3,save_filename=\"box_summary_time_cross_dev_top3_dirt_odds.csv\")\n",
    "summary_df_noodds_gbm = evaluator.summarize_box_exp(exp_name=\"lightgbm_time_dev_dirt_odds\")\n",
    "summary_df_noodds_gbm"
   ]
  },
  {
   "cell_type": "code",
   "execution_count": null,
   "metadata": {
    "collapsed": true,
    "jupyter": {
     "outputs_hidden": true,
     "source_hidden": true
    }
   },
   "outputs": [],
   "source": [
    "# オッズ_軸\n",
    "evaluator = Evaluator_lightgbm_time_kaiki_shaft(\n",
    "    evaluation_filename=\"evaluation_lightgbm_time_cv_dev_dirt_odds.csv\",\n",
    "    return_tables_filename = \"return_tables_dirt.pickle\",\n",
    ")\n",
    "evaluator.summarize_box_top_n(n=3,save_filename=\"shaft_summary_time_cross_dev_top3_dirt_odds.csv\")\n",
    "summary_df_shaft = evaluator.summarize_box_exp(exp_name=\"lightgbm_time_cross_dev_dirt_odds\")\n",
    "summary_df_shaft"
   ]
  },
  {
   "cell_type": "code",
   "execution_count": null,
   "metadata": {},
   "outputs": [],
   "source": []
  },
  {
   "cell_type": "code",
   "execution_count": null,
   "metadata": {},
   "outputs": [],
   "source": []
  },
  {
   "cell_type": "code",
   "execution_count": null,
   "metadata": {},
   "outputs": [],
   "source": []
  },
  {
   "cell_type": "code",
   "execution_count": null,
   "metadata": {},
   "outputs": [],
   "source": []
  },
  {
   "cell_type": "code",
   "execution_count": null,
   "metadata": {},
   "outputs": [],
   "source": []
  },
  {
   "cell_type": "code",
   "execution_count": null,
   "metadata": {},
   "outputs": [],
   "source": []
  },
  {
   "cell_type": "code",
   "execution_count": null,
   "metadata": {},
   "outputs": [],
   "source": []
  },
  {
   "cell_type": "code",
   "execution_count": null,
   "metadata": {},
   "outputs": [],
   "source": []
  },
  {
   "cell_type": "code",
   "execution_count": null,
   "metadata": {},
   "outputs": [],
   "source": []
  },
  {
   "cell_type": "code",
   "execution_count": null,
   "metadata": {
    "jupyter": {
     "source_hidden": true
    }
   },
   "outputs": [],
   "source": [
    "# オッズと人気を特徴量から省いた場合_time、回帰、クロスバリデーション（最終番目）\n",
    "evaluator = Evaluator_lightgbm_time_kaiki(\n",
    "    evaluation_filename=\"evaluation_lightgbm_time_cv_dev_dirt_newbie.csv\",\n",
    "    return_tables_filename = \"return_tables_dirt_newbie.pickle\",\n",
    ")\n",
    "evaluator.summarize_box_top_n(n=3,save_filename=\"box_summary_time_cross_dev_top3_dirt_newbie.csv\")\n",
    "summary_df_noodds_gbm = evaluator.summarize_box_exp(exp_name=\"lightgbm_time_dev_dirt_newbie\")\n",
    "summary_df_noodds_gbm"
   ]
  },
  {
   "cell_type": "code",
   "execution_count": null,
   "metadata": {
    "collapsed": true,
    "jupyter": {
     "outputs_hidden": true,
     "source_hidden": true
    }
   },
   "outputs": [],
   "source": [
    "# オッズと人気を特徴量から省いた場合_time、回帰、クロスバリデーション（最終番目）\n",
    "evaluator = Evaluator_lightgbm_time_kaiki(\n",
    "    evaluation_filename=\"evaluation_lightgbm_time_cv_dev_dirt_nowin.csv\",\n",
    "    return_tables_filename = \"return_tables_dirt_nowin.pickle\",\n",
    ")\n",
    "evaluator.summarize_box_top_n(n=3,save_filename=\"box_summary_time_cross_dev_top3_dirt_nowin.csv\")\n",
    "summary_df_noodds_gbm = evaluator.summarize_box_exp(exp_name=\"lightgbm_time_dev_dirt_nowin\")\n",
    "summary_df_noodds_gbm"
   ]
  },
  {
   "cell_type": "code",
   "execution_count": null,
   "metadata": {},
   "outputs": [],
   "source": []
  },
  {
   "cell_type": "code",
   "execution_count": null,
   "metadata": {
    "collapsed": true,
    "jupyter": {
     "outputs_hidden": true,
     "source_hidden": true
    }
   },
   "outputs": [],
   "source": [
    "# オッズと人気を特徴量から省いた場合_time、回帰、クロスバリデーション（最終番目）\n",
    "evaluator = Evaluator_lightgbm_time_kaiki(\n",
    "    evaluation_filename=\"evaluation_lightgbm_time_cv_dev_obstract.csv\",\n",
    "    return_tables_filename = \"return_tables_obstract.pickle\",\n",
    ")\n",
    "evaluator.summarize_box_top_n(n=3,save_filename=\"box_summary_time_cross_dev_top3_obstract.csv\")\n",
    "summary_df_noodds_gbm = evaluator.summarize_box_exp(exp_name=\"lightgbm_time_dev_obstract\")\n",
    "summary_df_noodds_gbm"
   ]
  },
  {
   "cell_type": "code",
   "execution_count": null,
   "metadata": {
    "collapsed": true,
    "jupyter": {
     "outputs_hidden": true,
     "source_hidden": true
    }
   },
   "outputs": [],
   "source": [
    "# オッズと人気を特徴量から省いた場合_time、回帰、クロスバリデーション（最終番目）_軸\n",
    "evaluator = Evaluator_lightgbm_time_kaiki_shaft(\n",
    "    evaluation_filename=\"evaluation_lightgbm_time_cv_dev_obstract.csv\",\n",
    "    return_tables_filename = \"return_tables_obstract.pickle\",\n",
    ")\n",
    "evaluator.summarize_box_top_n(n=3,save_filename=\"shaft_summary_time_cross_dev_top3_obstract.csv\")\n",
    "summary_df_shaft = evaluator.summarize_box_exp(exp_name=\"lightgbm_time_cross_dev_obstract\")\n",
    "summary_df_shaft"
   ]
  },
  {
   "cell_type": "code",
   "execution_count": null,
   "metadata": {
    "collapsed": true,
    "jupyter": {
     "outputs_hidden": true,
     "source_hidden": true
    }
   },
   "outputs": [],
   "source": [
    "# オッズ\n",
    "evaluator = Evaluator_lightgbm_time_kaiki(\n",
    "    evaluation_filename=\"evaluation_lightgbm_time_cv_dev_obstract_odds.csv\",\n",
    "    return_tables_filename = \"return_tables_obstract.pickle\",\n",
    ")\n",
    "evaluator.summarize_box_top_n(n=3,save_filename=\"box_summary_time_cross_dev_top3_obstract_odds.csv\")\n",
    "summary_df_noodds_gbm = evaluator.summarize_box_exp(exp_name=\"lightgbm_time_dev_obstract_odds\")\n",
    "summary_df_noodds_gbm"
   ]
  },
  {
   "cell_type": "code",
   "execution_count": null,
   "metadata": {
    "collapsed": true,
    "jupyter": {
     "outputs_hidden": true,
     "source_hidden": true
    }
   },
   "outputs": [],
   "source": [
    "# オッズと_軸\n",
    "evaluator = Evaluator_lightgbm_time_kaiki_shaft(\n",
    "    evaluation_filename=\"evaluation_lightgbm_time_cv_dev_obstract_odds.csv\",\n",
    "    return_tables_filename = \"return_tables_obstract.pickle\",\n",
    ")\n",
    "evaluator.summarize_box_top_n(n=3,save_filename=\"shaft_summary_time_cross_dev_top3_obstract_odds.csv\")\n",
    "summary_df_shaft = evaluator.summarize_box_exp(exp_name=\"lightgbm_time_cross_dev_obstract_odds\")\n",
    "summary_df_shaft"
   ]
  },
  {
   "cell_type": "code",
   "execution_count": null,
   "metadata": {},
   "outputs": [],
   "source": []
  },
  {
   "cell_type": "code",
   "execution_count": null,
   "metadata": {},
   "outputs": [],
   "source": []
  },
  {
   "cell_type": "code",
   "execution_count": null,
   "metadata": {},
   "outputs": [],
   "source": []
  },
  {
   "cell_type": "code",
   "execution_count": null,
   "metadata": {},
   "outputs": [],
   "source": []
  },
  {
   "cell_type": "code",
   "execution_count": null,
   "metadata": {},
   "outputs": [],
   "source": []
  },
  {
   "cell_type": "code",
   "execution_count": null,
   "metadata": {},
   "outputs": [],
   "source": []
  },
  {
   "cell_type": "code",
   "execution_count": null,
   "metadata": {},
   "outputs": [],
   "source": []
  },
  {
   "cell_type": "code",
   "execution_count": null,
   "metadata": {},
   "outputs": [],
   "source": []
  },
  {
   "cell_type": "code",
   "execution_count": null,
   "metadata": {},
   "outputs": [],
   "source": []
  },
  {
   "cell_type": "code",
   "execution_count": null,
   "metadata": {},
   "outputs": [],
   "source": [
    "%autoreload"
   ]
  },
  {
   "cell_type": "markdown",
   "metadata": {},
   "source": [
    "### 二値分類"
   ]
  },
  {
   "cell_type": "code",
   "execution_count": null,
   "metadata": {},
   "outputs": [],
   "source": [
    "# オッズと人気を特徴量から省いた場合_ランク、二値、クロスバリデーション（最終番目）\n",
    "evaluator = Evaluator_lightgbm_rank_niti_cross(\n",
    "    evaluation_filename=\"evaluation_lightgbm_rank_niti_cv_dev_turf.csv\",\n",
    "    return_tables_filename = \"return_tables_turf.pickle\",\n",
    ")\n",
    "evaluator.summarize_box_top_n(n=3,save_filename=\"box_summary_rank_niti_cross_dev_turf.csv\")\n",
    "summary_df_noodds_gbm = evaluator.summarize_box_exp(exp_name=\"lightgbm_rank_niti_cross_dev_turf\")\n",
    "summary_df_noodds_gbm"
   ]
  },
  {
   "cell_type": "code",
   "execution_count": null,
   "metadata": {
    "jupyter": {
     "source_hidden": true
    }
   },
   "outputs": [],
   "source": [
    "# オッズと人気を特徴量から省いた場合_time、回帰、クロスバリデーション（最終番目）_軸\n",
    "evaluator = Evaluator_lightgbm_rank_niti_shaft(\n",
    "    evaluation_filename=\"evaluation_lightgbm_rank_niti_cv_dev_turf.csv\",\n",
    "    return_tables_filename = \"return_tables_turf.pickle\",\n",
    ")\n",
    "evaluator.summarize_box_top_n(n=3,save_filename=\"shaft_summary_rank_niti_dev_top3_turf.csv\")\n",
    "summary_df_shaft = evaluator.summarize_box_exp(exp_name=\"lightgbm_rank_niti_cross_dev_turf\")\n",
    "summary_df_shaft\n"
   ]
  },
  {
   "cell_type": "code",
   "execution_count": null,
   "metadata": {},
   "outputs": [],
   "source": [
    "# オッズと人気を特徴量から省いた場合_ランク、二値、クロスバリデーション（最終番目）\n",
    "evaluator = Evaluator_lightgbm_rank_niti_cross(\n",
    "    evaluation_filename=\"evaluation_lightgbm_rank_niti_cv_dev_turf_noweight.csv\",\n",
    "    return_tables_filename = \"return_tables_turf.pickle\",\n",
    ")\n",
    "evaluator.summarize_box_top_n(n=3,save_filename=\"box_summary_rank_niti_cross_dev_turf_noweight.csv\")\n",
    "summary_df_noodds_gbm = evaluator.summarize_box_exp(exp_name=\"lightgbm_rank_niti_cross_dev_turf_noweight\")\n",
    "summary_df_noodds_gbm"
   ]
  },
  {
   "cell_type": "code",
   "execution_count": null,
   "metadata": {},
   "outputs": [],
   "source": []
  },
  {
   "cell_type": "code",
   "execution_count": null,
   "metadata": {},
   "outputs": [],
   "source": []
  },
  {
   "cell_type": "code",
   "execution_count": null,
   "metadata": {},
   "outputs": [],
   "source": [
    "\n"
   ]
  },
  {
   "cell_type": "code",
   "execution_count": null,
   "metadata": {},
   "outputs": [],
   "source": []
  },
  {
   "cell_type": "code",
   "execution_count": null,
   "metadata": {},
   "outputs": [],
   "source": []
  },
  {
   "cell_type": "code",
   "execution_count": null,
   "metadata": {},
   "outputs": [],
   "source": []
  },
  {
   "cell_type": "code",
   "execution_count": null,
   "metadata": {},
   "outputs": [],
   "source": []
  },
  {
   "cell_type": "code",
   "execution_count": null,
   "metadata": {},
   "outputs": [],
   "source": [
    "%autoreload"
   ]
  },
  {
   "cell_type": "markdown",
   "metadata": {},
   "source": [
    "### ダート"
   ]
  },
  {
   "cell_type": "code",
   "execution_count": null,
   "metadata": {},
   "outputs": [],
   "source": [
    "# オッズと人気を特徴量から省いた場合_ランク、二値、クロスバリデーション（最終番目）\n",
    "evaluator = Evaluator_lightgbm_rank_niti_cross(\n",
    "    evaluation_filename=\"evaluation_lightgbm_rank_niti_cv_dev_dirt.csv\",\n",
    "    return_tables_filename = \"return_tables_dirt.pickle\",\n",
    ")\n",
    "evaluator.summarize_box_top_n(n=3,save_filename=\"box_summary_rank_niti_cross_dev_dirt.csv\")\n",
    "summary_df_noodds_gbm = evaluator.summarize_box_exp(exp_name=\"lightgbm_rank_niti_cross_dev_dirt\")\n",
    "summary_df_noodds_gbm"
   ]
  },
  {
   "cell_type": "code",
   "execution_count": null,
   "metadata": {},
   "outputs": [],
   "source": [
    "# オッズと人気を特徴量から省いた場合_ランク、二値、クロスバリデーション（最終番目）\n",
    "evaluator = Evaluator_lightgbm_rank_niti_cross(\n",
    "    evaluation_filename=\"evaluation_lightgbm_rank_niti_cv_dev_dirt_noweight.csv\",\n",
    "    return_tables_filename = \"return_tables_dirt.pickle\",\n",
    ")\n",
    "evaluator.summarize_box_top_n(n=3,save_filename=\"box_summary_rank_niti_cross_dev_dirt.csv\")\n",
    "summary_df_noodds_gbm = evaluator.summarize_box_exp(exp_name=\"lightgbm_rank_niti_cross_dev_dirt\")\n",
    "summary_df_noodds_gbm"
   ]
  },
  {
   "cell_type": "code",
   "execution_count": null,
   "metadata": {},
   "outputs": [],
   "source": []
  },
  {
   "cell_type": "code",
   "execution_count": null,
   "metadata": {
    "collapsed": true,
    "jupyter": {
     "outputs_hidden": true,
     "source_hidden": true
    }
   },
   "outputs": [],
   "source": [
    "# オッズと人気を特徴量から省いた場合_time、回帰、クロスバリデーション（最終番目）_軸\n",
    "evaluator = Evaluator_lightgbm_rank_niti_shaft(\n",
    "    evaluation_filename=\"evaluation_lightgbm_rank_niti_cv_dev_dirt_noweight.csv\",\n",
    "    return_tables_filename = \"return_tables_dirt.pickle\",\n",
    ")\n",
    "evaluator.summarize_box_top_n(n=3,save_filename=\"shaft_summary_rank_niti_dev_top3_dirt.csv\")\n",
    "summary_df_shaft = evaluator.summarize_box_exp(exp_name=\"lightgbm_rank_niti_cross_dev_dirt\")\n",
    "summary_df_shaft"
   ]
  },
  {
   "cell_type": "code",
   "execution_count": null,
   "metadata": {
    "collapsed": true,
    "jupyter": {
     "outputs_hidden": true,
     "source_hidden": true
    }
   },
   "outputs": [],
   "source": [
    "# オッズと人気を特徴量から省いた場合_time、回帰、クロスバリデーション（最終番目）_軸\n",
    "evaluator = Evaluator_lightgbm_rank_niti_shaft(\n",
    "    evaluation_filename=\"evaluation_lightgbm_rank_niti_cv_dev_dirt.csv\",\n",
    "    return_tables_filename = \"return_tables_dirt.pickle\",\n",
    ")\n",
    "evaluator.summarize_box_top_n(n=3,save_filename=\"shaft_summary_rank_niti_dev_top3_dirt.csv\")\n",
    "summary_df_shaft = evaluator.summarize_box_exp(exp_name=\"lightgbm_rank_niti_cross_dev_dirt\")\n",
    "summary_df_shaft"
   ]
  },
  {
   "cell_type": "code",
   "execution_count": null,
   "metadata": {},
   "outputs": [],
   "source": []
  },
  {
   "cell_type": "code",
   "execution_count": null,
   "metadata": {},
   "outputs": [],
   "source": []
  },
  {
   "cell_type": "code",
   "execution_count": null,
   "metadata": {},
   "outputs": [],
   "source": []
  },
  {
   "cell_type": "code",
   "execution_count": null,
   "metadata": {},
   "outputs": [],
   "source": []
  },
  {
   "cell_type": "code",
   "execution_count": null,
   "metadata": {},
   "outputs": [],
   "source": []
  },
  {
   "cell_type": "markdown",
   "metadata": {},
   "source": [
    "### 障害"
   ]
  },
  {
   "cell_type": "code",
   "execution_count": null,
   "metadata": {},
   "outputs": [],
   "source": []
  },
  {
   "cell_type": "code",
   "execution_count": null,
   "metadata": {},
   "outputs": [],
   "source": []
  },
  {
   "cell_type": "code",
   "execution_count": null,
   "metadata": {},
   "outputs": [],
   "source": [
    "# オッズと人気を特徴量から省いた場合_ランク、二値、クロスバリデーション（最終番目）\n",
    "evaluator = Evaluator_lightgbm_rank_niti_cross(\n",
    "    evaluation_filename=\"evaluation_lightgbm_rank_niti_cv_dev_obstract_noweight.csv\",\n",
    "    return_tables_filename = \"return_tables_obstract.pickle\",\n",
    ")\n",
    "evaluator.summarize_box_top_n(n=3,save_filename=\"box_summary_rank_niti_cross_dev_obstract_noweight.csv\")\n",
    "summary_df_noodds_gbm = evaluator.summarize_box_exp(exp_name=\"lightgbm_rank_niti_cross_dev_obstract_noweight\")\n",
    "summary_df_noodds_gbm"
   ]
  },
  {
   "cell_type": "code",
   "execution_count": null,
   "metadata": {},
   "outputs": [],
   "source": [
    "# オッズと人気を特徴量から省いた場合_ランク、二値、クロスバリデーション（最終番目）\n",
    "evaluator = Evaluator_lightgbm_rank_niti_cross(\n",
    "    evaluation_filename=\"evaluation_lightgbm_rank_niti_cv_dev_obstract.csv\",\n",
    "    return_tables_filename = \"return_tables_obstract.pickle\",\n",
    ")\n",
    "evaluator.summarize_box_top_n(n=3,save_filename=\"box_summary_rank_niti_cross_dev_obstract.csv\")\n",
    "summary_df_noodds_gbm = evaluator.summarize_box_exp(exp_name=\"lightgbm_rank_niti_cross_dev_obstract\")\n",
    "summary_df_noodds_gbm"
   ]
  },
  {
   "cell_type": "code",
   "execution_count": null,
   "metadata": {},
   "outputs": [],
   "source": []
  },
  {
   "cell_type": "code",
   "execution_count": null,
   "metadata": {},
   "outputs": [],
   "source": []
  },
  {
   "cell_type": "code",
   "execution_count": null,
   "metadata": {
    "collapsed": true,
    "jupyter": {
     "outputs_hidden": true,
     "source_hidden": true
    }
   },
   "outputs": [],
   "source": [
    "# オッズと人気を特徴量から省いた場合_time、回帰、クロスバリデーション（最終番目）_軸\n",
    "evaluator = Evaluator_lightgbm_rank_niti_shaft(\n",
    "    evaluation_filename=\"evaluation_lightgbm_rank_niti_cv_dev_obstract_noweight.csv\",\n",
    "    return_tables_filename = \"return_tables_obstract.pickle\",\n",
    ")\n",
    "evaluator.summarize_box_top_n(n=3,save_filename=\"shaft_summary_rank_niti_dev_top3_obstract.csv\")\n",
    "summary_df_shaft = evaluator.summarize_box_exp(exp_name=\"lightgbm_rank_niti_cross_dev_obstract\")\n",
    "summary_df_shaft\n"
   ]
  },
  {
   "cell_type": "code",
   "execution_count": null,
   "metadata": {},
   "outputs": [],
   "source": []
  },
  {
   "cell_type": "code",
   "execution_count": null,
   "metadata": {},
   "outputs": [],
   "source": []
  },
  {
   "cell_type": "code",
   "execution_count": null,
   "metadata": {},
   "outputs": [],
   "source": []
  },
  {
   "cell_type": "code",
   "execution_count": null,
   "metadata": {},
   "outputs": [],
   "source": []
  },
  {
   "cell_type": "code",
   "execution_count": null,
   "metadata": {},
   "outputs": [],
   "source": [
    "%autoreload"
   ]
  },
  {
   "cell_type": "markdown",
   "metadata": {},
   "source": [
    "### 未勝利"
   ]
  },
  {
   "cell_type": "code",
   "execution_count": null,
   "metadata": {},
   "outputs": [],
   "source": [
    "# オッズと人気を特徴量から省いた場合_ランク、二値、クロスバリデーション（最終番目）\n",
    "evaluator = Evaluator_lightgbm_rank_niti_cross(\n",
    "    evaluation_filename=\"evaluation_lightgbm_rank_niti_cv_dev_turf_nowin.csv\",\n",
    "    return_tables_filename = \"return_tables_turf_nowin.pickle\",\n",
    ")\n",
    "evaluator.summarize_box_top_n(n=3,save_filename=\"box_summary_rank_niti_cross_dev_turf_nowin.csv\")\n",
    "summary_df_noodds_gbm = evaluator.summarize_box_exp(exp_name=\"lightgbm_rank_niti_cross_dev_turf_nowin\")\n",
    "summary_df_noodds_gbm"
   ]
  },
  {
   "cell_type": "code",
   "execution_count": null,
   "metadata": {
    "collapsed": true,
    "jupyter": {
     "outputs_hidden": true,
     "source_hidden": true
    }
   },
   "outputs": [],
   "source": [
    "# オッズと人気を特徴量から省いた場合_time、回帰、クロスバリデーション（最終番目）_軸\n",
    "evaluator = Evaluator_lightgbm_rank_niti_shaft(\n",
    "    evaluation_filename=\"evaluation_lightgbm_rank_niti_cv_dev_turf_nowin.csv\",\n",
    "    return_tables_filename = \"return_tables_turf_nowin.pickle\",\n",
    ")\n",
    "evaluator.summarize_box_top_n(n=3,save_filename=\"shaft_summary_rank_niti_dev_top3_turf_nowin.csv\")\n",
    "summary_df_shaft = evaluator.summarize_box_exp(exp_name=\"lightgbm_rank_niti_cross_dev_turf_nowin\")\n",
    "summary_df_shaft\n"
   ]
  },
  {
   "cell_type": "code",
   "execution_count": null,
   "metadata": {},
   "outputs": [],
   "source": [
    "# オッズと人気を特徴量から省いた場合_ランク、二値、クロスバリデーション（最終番目）\n",
    "evaluator = Evaluator_lightgbm_rank_niti_cross(\n",
    "    evaluation_filename=\"evaluation_lightgbm_rank_niti_cv_dev_turf_nowin_noweight.csv\",\n",
    "    return_tables_filename = \"return_tables_turf_nowin.pickle\",\n",
    ")\n",
    "evaluator.summarize_box_top_n(n=3,save_filename=\"box_summary_rank_niti_cross_dev_turf_nowin_noweight.csv\")\n",
    "summary_df_noodds_gbm = evaluator.summarize_box_exp(exp_name=\"lightgbm_rank_niti_cross_dev_turf_nowin_noweight\")\n",
    "summary_df_noodds_gbm"
   ]
  },
  {
   "cell_type": "code",
   "execution_count": null,
   "metadata": {},
   "outputs": [],
   "source": []
  },
  {
   "cell_type": "code",
   "execution_count": null,
   "metadata": {},
   "outputs": [],
   "source": []
  },
  {
   "cell_type": "code",
   "execution_count": null,
   "metadata": {},
   "outputs": [],
   "source": []
  },
  {
   "cell_type": "code",
   "execution_count": null,
   "metadata": {},
   "outputs": [],
   "source": []
  },
  {
   "cell_type": "code",
   "execution_count": null,
   "metadata": {},
   "outputs": [],
   "source": [
    "%autoreload"
   ]
  },
  {
   "cell_type": "code",
   "execution_count": null,
   "metadata": {},
   "outputs": [],
   "source": []
  },
  {
   "cell_type": "code",
   "execution_count": null,
   "metadata": {},
   "outputs": [],
   "source": [
    "# オッズと人気を特徴量から省いた場合_ランク、二値、クロスバリデーション（最終番目）\n",
    "evaluator = Evaluator_lightgbm_rank_niti_cross(\n",
    "    evaluation_filename=\"evaluation_lightgbm_rank_niti_cv_dev_dirt_nowin_noweight.csv\",\n",
    "    return_tables_filename = \"return_tables_dirt_nowin.pickle\",\n",
    ")\n",
    "evaluator.summarize_box_top_n(n=3,save_filename=\"box_summary_rank_niti_cross_dev_dirt_nowin_noweight.csv\")\n",
    "summary_df_noodds_gbm = evaluator.summarize_box_exp(exp_name=\"lightgbm_rank_niti_cross_dev_dirt_nowin_noweight\")\n",
    "summary_df_noodds_gbm"
   ]
  },
  {
   "cell_type": "code",
   "execution_count": null,
   "metadata": {},
   "outputs": [],
   "source": [
    "# オッズと人気を特徴量から省いた場合_ランク、二値、クロスバリデーション（最終番目）\n",
    "evaluator = Evaluator_lightgbm_rank_niti_cross(\n",
    "    evaluation_filename=\"evaluation_lightgbm_rank_niti_cv_dev_dirt_nowin.csv\",\n",
    "    return_tables_filename = \"return_tables_dirt_nowin.pickle\",\n",
    ")\n",
    "evaluator.summarize_box_top_n(n=3,save_filename=\"box_summary_rank_niti_cross_dev_dirt_nowin.csv\")\n",
    "summary_df_noodds_gbm = evaluator.summarize_box_exp(exp_name=\"lightgbm_rank_niti_cross_dev_dirt_nowin\")\n",
    "summary_df_noodds_gbm"
   ]
  },
  {
   "cell_type": "code",
   "execution_count": null,
   "metadata": {
    "collapsed": true,
    "jupyter": {
     "outputs_hidden": true,
     "source_hidden": true
    }
   },
   "outputs": [],
   "source": [
    "# オッズと人気を特徴量から省いた場合_time、回帰、クロスバリデーション（最終番目）_軸\n",
    "evaluator = Evaluator_lightgbm_rank_niti_shaft(\n",
    "    evaluation_filename=\"evaluation_lightgbm_rank_niti_cv_dev_dirt_nowin_noweight.csv\",\n",
    "    return_tables_filename = \"return_tables_dirt_nowin.pickle\",\n",
    ")\n",
    "evaluator.summarize_box_top_n(n=3,save_filename=\"shaft_summary_rank_niti_dev_top3_dirt_nowin_noweight.csv\")\n",
    "summary_df_shaft = evaluator.summarize_box_exp(exp_name=\"lightgbm_rank_niti_cross_dev_dirt_nowin_noweight\")\n",
    "summary_df_shaft"
   ]
  },
  {
   "cell_type": "code",
   "execution_count": null,
   "metadata": {},
   "outputs": [],
   "source": []
  },
  {
   "cell_type": "code",
   "execution_count": null,
   "metadata": {},
   "outputs": [],
   "source": []
  },
  {
   "cell_type": "code",
   "execution_count": null,
   "metadata": {},
   "outputs": [],
   "source": []
  },
  {
   "cell_type": "code",
   "execution_count": null,
   "metadata": {},
   "outputs": [],
   "source": []
  },
  {
   "cell_type": "markdown",
   "metadata": {},
   "source": [
    "# 予測当日の処理"
   ]
  },
  {
   "cell_type": "markdown",
   "metadata": {},
   "source": [
    "## 事前準備\n",
    "**当日出走馬が確定した時点**で実行できる"
   ]
  },
  {
   "cell_type": "code",
   "execution_count": null,
   "metadata": {},
   "outputs": [],
   "source": [
    "pd.set_option('display.max_columns', None)\n",
    "pd.set_option('display.max_rows', 100)"
   ]
  },
  {
   "cell_type": "code",
   "execution_count": null,
   "metadata": {},
   "outputs": [],
   "source": [
    "# 当日出走馬の過去成績テーブルの前処理_そのままで使えない未加工のデータを加工する\n",
    "horse_results_preprocessed = preprocessing.process_horse_results(\n",
    "    input_filename=\"horse_results_prediction.csv\",\n",
    "    output_filename=\"horse_results_prediction.csv\"\n",
    ")\n",
    "horse_results_preprocessed"
   ]
  },
  {
   "cell_type": "code",
   "execution_count": null,
   "metadata": {},
   "outputs": [],
   "source": [
    "population = create_population.create(from_=\"2016-01-01\", to_=\"2024-11-31\")"
   ]
  },
  {
   "cell_type": "code",
   "execution_count": null,
   "metadata": {},
   "outputs": [],
   "source": [
    "# 当日出走馬の血統テーブルの前処理\n",
    "peds_preprocessed = preprocessing.process_peds(\n",
    "    input_filename=\"peds_prediction.csv\",\n",
    "    output_filename=\"peds_prediction.csv\"\n",
    ")\n",
    "peds_preprocessed"
   ]
  },
  {
   "cell_type": "code",
   "execution_count": null,
   "metadata": {},
   "outputs": [],
   "source": [
    "pfc = PredictionFeatureCreator()\n",
    "# 過去成績集計は事前に行うことができる\n",
    "pfc.create_baselog()\n",
    "pfc.agg_horse_n_races()\n",
    "pfc.agg_horse_n_races_relative()\n",
    "pfc.agg_horse_n_races_df"
   ]
  },
  {
   "cell_type": "code",
   "execution_count": null,
   "metadata": {},
   "outputs": [],
   "source": [
    "# レース結果テーブルの前処理\n",
    "results_preprocessed = condition_prediction.process_results()\n",
    "# レース情報テーブルの前処理\n",
    "race_info_preprocessed = condition_prediction.process_race_info()\n",
    "create_race_grade_preprocessed = condition_prediction.create_race_grade()\n"
   ]
  },
  {
   "cell_type": "code",
   "execution_count": null,
   "metadata": {},
   "outputs": [],
   "source": []
  },
  {
   "cell_type": "markdown",
   "metadata": {},
   "source": [
    "## 当日の予測処理\n",
    "レース直前出走直前に実行する"
   ]
  },
  {
   "cell_type": "code",
   "execution_count": null,
   "metadata": {},
   "outputs": [],
   "source": [
    "#当日にやらないと、天気や馬場状態がわからないので、当日に実行してください、\n",
    "# 特徴量の更新\n",
    "features = pfc.create_features(\n",
    "    race_id=\"202408060411\",  # 予測するレースidを指定\n",
    "    date_content_a = \"2024年11月10日\", #\"%Y年%m月%d日\"形式で該当レース当日の日付を入れてください    \n",
    "    skip_agg_horse=True  # 事前に集計した場合はスキップできる\n",
    ")"
   ]
  },
  {
   "cell_type": "code",
   "execution_count": null,
   "metadata": {},
   "outputs": [],
   "source": [
    "pfc.results"
   ]
  },
  {
   "cell_type": "code",
   "execution_count": null,
   "metadata": {},
   "outputs": [],
   "source": [
    "pfc.race_info"
   ]
  },
  {
   "cell_type": "code",
   "execution_count": null,
   "metadata": {},
   "outputs": [],
   "source": []
  },
  {
   "cell_type": "markdown",
   "metadata": {},
   "source": [
    "### pred列は全て降順（大きい順）で表示されます\n",
    "### 二値予測のrankはpred列が大きい順で評価がよく、回帰のrankとtimeは小さい順で評価が良いです\n",
    "### 順番が逆になっているので気をつけてください"
   ]
  },
  {
   "cell_type": "code",
   "execution_count": null,
   "metadata": {},
   "outputs": [],
   "source": []
  },
  {
   "cell_type": "code",
   "execution_count": null,
   "metadata": {},
   "outputs": [],
   "source": [
    "# オッズ除外モデルでの予測、time、クロスバリデーション\n",
    "prediction.predict(\n",
    "    features,\n",
    "    model_filename=\"model_lightgbm_time_cv_full_odds_removed.pkl\",\n",
    "    config_filepath=\"config_lightgbm_kaiki_odds_removed.yaml\"\n",
    ")"
   ]
  },
  {
   "cell_type": "code",
   "execution_count": null,
   "metadata": {},
   "outputs": [],
   "source": []
  },
  {
   "cell_type": "code",
   "execution_count": null,
   "metadata": {},
   "outputs": [],
   "source": []
  },
  {
   "cell_type": "code",
   "execution_count": null,
   "metadata": {},
   "outputs": [],
   "source": []
  },
  {
   "cell_type": "code",
   "execution_count": null,
   "metadata": {},
   "outputs": [],
   "source": []
  },
  {
   "cell_type": "code",
   "execution_count": null,
   "metadata": {},
   "outputs": [],
   "source": []
  }
 ],
 "metadata": {
  "kernelspec": {
   "display_name": "Python 3 (ipykernel)",
   "language": "python",
   "name": "python3"
  },
  "language_info": {
   "codemirror_mode": {
    "name": "ipython",
    "version": 3
   },
   "file_extension": ".py",
   "mimetype": "text/x-python",
   "name": "python",
   "nbconvert_exporter": "python",
   "pygments_lexer": "ipython3",
   "version": "3.12.7"
  }
 },
 "nbformat": 4,
 "nbformat_minor": 4
}
