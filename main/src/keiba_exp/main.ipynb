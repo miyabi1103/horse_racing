{
 "cells": [
  {
   "cell_type": "markdown",
   "metadata": {},
   "source": [
    "# インポート"
   ]
  },
  {
   "cell_type": "code",
   "execution_count": 1,
   "metadata": {},
   "outputs": [],
   "source": [
    "import create_population_turf\n",
    "import create_population_turf_newbie\n",
    "import create_population_turf_nowin\n",
    "import create_population_obstract\n",
    "import create_population_dirt\n",
    "import create_population\n",
    "import create_population_dirt_newbie\n",
    "import create_population_dirt_nowin\n",
    "import preprocessing\n",
    "from feature_engineering import FeatureCreator\n",
    "from feature_engineering_prediction import PredictionFeatureCreator\n",
    "\n",
    "\n",
    "import prediction\n",
    "\n",
    "\n",
    "import pandas as pd\n",
    "import numpy as np\n",
    "import race_grade_maker\n",
    "\n",
    "import condition_prediction\n",
    "\n",
    "\n",
    "from train_lgbm_rank_niti_cross import Trainer_lightgbm_rank_niti_cv\n",
    "from train_lgbm_rank_niti_cross_in3 import Trainer_lightgbm_rank_niti_cv_in3\n",
    "\n",
    "from train_lightgbm_time import Trainer_lightgbm_time\n",
    "from train_lgbm_time_cross import Trainer_lightgbm_time_cv\n",
    "\n",
    "from evaluation_lightgbm_time_kaiki import Evaluator_lightgbm_time_kaiki\n",
    "\n",
    "from evaluation_shaft_time_kaiki_cross import Evaluator_lightgbm_time_kaiki_shaft\n",
    "\n",
    "from evaluation_lgbm_rank_niti_cross import Evaluator_lightgbm_rank_niti_cross\n",
    "from evaluation_shaft_rank_cross import Evaluator_lightgbm_rank_niti_shaft\n",
    "\n",
    "from evaluation_lgbm_rank_niti_cross_ex_value import Evaluator_lightgbm_rank_niti_cross_ex_value\n",
    "\n",
    "from evaluation_lgbm_rank_niti_cross_in3 import Evaluator_lightgbm_rank_niti_cross_in3\n",
    "\n",
    "%load_ext autoreload"
   ]
  },
  {
   "cell_type": "code",
   "execution_count": 2,
   "metadata": {},
   "outputs": [],
   "source": [
    "%autoreload"
   ]
  },
  {
   "cell_type": "code",
   "execution_count": 3,
   "metadata": {},
   "outputs": [],
   "source": [
    "pd.set_option('display.max_columns', None)\n",
    "pd.set_option('display.max_rows', 800)"
   ]
  },
  {
   "cell_type": "markdown",
   "metadata": {
    "jp-MarkdownHeadingCollapsed": true
   },
   "source": [
    "# 学習母集団の作成\n",
    "- ここで何年までのデータを使うか設定してください\n",
    "- 2016-01-01から、2024-11-30まではスクレイピングしてあります\n",
    "- 特徴量が多いため、あまり年月が嵩むと処理が止まる恐れがあります"
   ]
  },
  {
   "cell_type": "code",
   "execution_count": null,
   "metadata": {},
   "outputs": [],
   "source": [
    "# population_turf = create_population_turf.create(from_=\"2016-01-01\", to_=\"2023-12-31\")\n",
    "# population_turf = create_population_turf.create(from_=\"2020-01-01\", to_=\"2023-12-31\")\n",
    "# population_turf = create_population_turf.create(from_=\"2016-01-01\", to_=\"2023-12-31\")\n",
    "# population_turf = create_population_turf.create(from_=\"2023-01-01\", to_=\"2023-12-31\")\n",
    "population_turf = create_population_turf.create(from_=\"2016-01-01\", to_=\"2025-02-28\")\n",
    "population_turf"
   ]
  },
  {
   "cell_type": "code",
   "execution_count": null,
   "metadata": {},
   "outputs": [],
   "source": [
    "population_all = create_population.create(from_=\"2016-01-01\", to_=\"2025-02-28\")\n",
    "population_all"
   ]
  },
  {
   "cell_type": "code",
   "execution_count": null,
   "metadata": {
    "collapsed": true,
    "jupyter": {
     "outputs_hidden": true,
     "source_hidden": true
    }
   },
   "outputs": [],
   "source": [
    "# # population_turf_newbie = create_population_turf_newbie.create(from_=\"2016-01-01\", to_=\"2023-12-31\")\n",
    "# # population_turf_newbie = create_population_turf_newbie.create(from_=\"2020-01-01\", to_=\"2023-12-31\")\n",
    "# # population_turf_newbie = create_population_turf_newbie.create(from_=\"2016-01-01\", to_=\"2023-12-31\")\n",
    "# # population_turf_newbie = create_population_turf_newbie.create(from_=\"2023-01-01\", to_=\"2023-12-31\")\n",
    "# population_turf_newbie = create_population_turf_newbie.create(from_=\"2016-01-01\", to_=\"2024-12-31\")\n",
    "# population_turf_newbie"
   ]
  },
  {
   "cell_type": "code",
   "execution_count": null,
   "metadata": {},
   "outputs": [],
   "source": [
    "# population_turf_nowin = create_population_turf_nowin.create(from_=\"2016-01-01\", to_=\"2023-12-31\")\n",
    "# population_turf_nowin = create_population_turf_nowin.create(from_=\"2020-01-01\", to_=\"2023-12-31\")\n",
    "# population_turf_nowin = create_population_turf_nowin.create(from_=\"2016-01-01\", to_=\"2023-12-31\")\n",
    "# population_turf_nowin = create_population_turf_nowin.create(from_=\"2023-01-01\", to_=\"2023-12-31\")\n",
    "population_turf_nowin = create_population_turf_nowin.create(from_=\"2016-01-01\", to_=\"2025-02-28\")\n",
    "population_turf_nowin"
   ]
  },
  {
   "cell_type": "code",
   "execution_count": null,
   "metadata": {
    "collapsed": true,
    "jupyter": {
     "outputs_hidden": true,
     "source_hidden": true
    }
   },
   "outputs": [],
   "source": [
    "# # population_dirt_newbie = create_population_dirt_newbie.create(from_=\"2016-01-01\", to_=\"2023-12-31\")\n",
    "# # population_dirt_newbie = create_population_dirt_newbie.create(from_=\"2020-01-01\", to_=\"2023-12-31\")\n",
    "# # population_dirt_newbie = create_population_dirt_newbie.create(from_=\"2016-01-01\", to_=\"2023-12-31\")\n",
    "# # population_dirt_newbie = create_population_dirt_newbie.create(from_=\"2023-01-01\", to_=\"2023-12-31\")\n",
    "# population_dirt_newbie = create_population_dirt_newbie.create(from_=\"2016-01-01\",to_=\"2024-12-31\")\n",
    "# population_dirt_newbie"
   ]
  },
  {
   "cell_type": "code",
   "execution_count": null,
   "metadata": {},
   "outputs": [],
   "source": [
    "# population_dirt_nowin = create_population_dirt_nowin.create(from_=\"2016-01-01\", to_=\"2023-12-31\")\n",
    "# population_dirt_nowin = create_population_dirt_nowin.create(from_=\"2020-01-01\", to_=\"2023-12-31\")\n",
    "# population_dirt_nowin = create_population_dirt_nowin.create(from_=\"2016-01-01\", to_=\"2023-12-31\")\n",
    "# population_dirt_nowin = create_population_dirt_nowin.create(from_=\"2023-01-01\", to_=\"2023-12-31\")\n",
    "population_dirt_nowin = create_population_dirt_nowin.create(from_=\"2016-01-01\", to_=\"2025-02-28\")\n",
    "population_dirt_nowin"
   ]
  },
  {
   "cell_type": "code",
   "execution_count": null,
   "metadata": {},
   "outputs": [],
   "source": [
    "# population_dirt_nowin = create_population_dirt_nowin.create(from_=\"2016-01-01\", to_=\"2023-12-31\")\n",
    "# population_dirt_nowin = create_population_dirt_nowin.create(from_=\"2020-01-01\", to_=\"2023-12-31\")\n",
    "# population_dirt_nowin = create_population_dirt_nowin.create(from_=\"2016-01-01\", to_=\"2023-12-31\")\n",
    "# population_dirt_nowin = create_population_dirt_nowin.create(from_=\"2023-01-01\", to_=\"2023-12-31\")\n",
    "population_dirt = create_population_dirt.create(from_=\"2016-01-01\",  to_=\"2025-02-28\")\n",
    "population_dirt"
   ]
  },
  {
   "cell_type": "code",
   "execution_count": null,
   "metadata": {},
   "outputs": [],
   "source": [
    "# population_obstract = create_population_obstract.create(from_=\"2016-01-01\", to_=\"2023-12-31\")\n",
    "# population_obstract = create_population_obstract.create(from_=\"2020-01-01\", to_=\"2023-12-31\")\n",
    "# population_obstract = create_population_obstract.create(from_=\"2016-01-01\", to_=\"2023-12-31\")\n",
    "# population_obstract = create_population_obstract.create(from_=\"2023-01-01\", to_=\"2023-12-31\")\n",
    "population_obstract = create_population_obstract.create(from_=\"2016-01-01\",  to_=\"2025-02-28\")\n",
    "population_obstract"
   ]
  },
  {
   "cell_type": "code",
   "execution_count": null,
   "metadata": {
    "collapsed": true,
    "jupyter": {
     "outputs_hidden": true,
     "source_hidden": true
    }
   },
   "outputs": [],
   "source": [
    "# population_dirt_newbie = create_population_dirt_newbie.create(from_=\"2016-01-01\", to_=\"2023-12-31\")\n",
    "# population_dirt_newbie = create_population_dirt_newbie.create(from_=\"2020-01-01\", to_=\"2023-12-31\")\n",
    "# population_dirt_newbie = create_population_dirt_newbie.create(from_=\"2016-01-01\", to_=\"2023-12-31\")\n",
    "# population_dirt_newbie = create_population_dirt_newbie.create(from_=\"2023-01-01\", to_=\"2023-12-31\")\n",
    "population_dirt = create_population_dirt.create(from_=\"2016-01-01\",to_=\"2024-12-31\")\n",
    "population_dirt"
   ]
  },
  {
   "cell_type": "code",
   "execution_count": null,
   "metadata": {},
   "outputs": [],
   "source": []
  },
  {
   "cell_type": "code",
   "execution_count": null,
   "metadata": {},
   "outputs": [],
   "source": []
  },
  {
   "cell_type": "code",
   "execution_count": null,
   "metadata": {
    "collapsed": true,
    "jupyter": {
     "outputs_hidden": true
    }
   },
   "outputs": [],
   "source": []
  },
  {
   "cell_type": "markdown",
   "metadata": {},
   "source": [
    "# データ加工"
   ]
  },
  {
   "cell_type": "code",
   "execution_count": null,
   "metadata": {},
   "outputs": [],
   "source": [
    "#まとめて実行_turf\n",
    "# レース結果テーブルの前処理\n",
    "results_preprocessed_turf = preprocessing.process_results(\n",
    "    populaton_filename = \"population_turf.csv\",\n",
    "    output_filename = \"results_turf.csv\",\n",
    ")\n",
    "# 馬の過去成績テーブルの加工\n",
    "horse_results_preprocessed_turf = preprocessing.process_horse_results(\n",
    "    populaton_filename = \"population_turf.csv\",\n",
    "    output_filename = \"horse_results_turf.csv\",    \n",
    ")\n",
    "# レース情報テーブルの前処理\n",
    "race_info_preprocessed_turf = preprocessing.process_race_info(\n",
    "    populaton_filename = \"population_turf.csv\",\n",
    "    output_filename = \"race_info_turf_before.csv\",       \n",
    ")\n",
    "# 騎手リーディングテーブルの前処理\n",
    "jockey_leading_preprocessed = preprocessing.process_jockey_leading()\n",
    "# 調教師リーディングテーブルの前処理\n",
    "trainer_leading_preprocessed = preprocessing.process_trainer_leading()\n",
    "# 血統テーブルの前処理\n",
    "peds_preprocessed = preprocessing.process_peds(\n",
    "    populaton_filename = \"population_turf.csv\",  \n",
    "    output_filename= \"peds_turf.csv\",    \n",
    ")\n",
    "# 種牡馬リーディングテーブルの前処理\n",
    "sire_leading_preprocessed = preprocessing.process_sire_leading()\n",
    "bms_leading_preprocessed = preprocessing.process_sire_leading(\n",
    "    input_filename=\"bms_leading.csv\",\n",
    "    output_filename = \"bms_leading.csv\",\n",
    "    id_col = \"bms_id\",\n",
    ")\n",
    "# 払い戻しテーブルの前処理_２度目をするならcsvファイルを消さないとダメ\n",
    "return_tables_preprocessed_turf = preprocessing.process_return_tables(\n",
    "    populaton_filename = \"population_turf.csv\",\n",
    "    output_filename = \"return_tables_turf.pickle\",    \n",
    ")"
   ]
  },
  {
   "cell_type": "code",
   "execution_count": null,
   "metadata": {},
   "outputs": [],
   "source": [
    "# 重複チェック\n",
    "results_preprocessed_turf.duplicated(subset=[\"race_id\", \"horse_id\"]).sum()"
   ]
  },
  {
   "cell_type": "code",
   "execution_count": null,
   "metadata": {},
   "outputs": [],
   "source": [
    "# 欠損チェック\n",
    "results_preprocessed_turf.isnull().sum()"
   ]
  },
  {
   "cell_type": "code",
   "execution_count": null,
   "metadata": {},
   "outputs": [],
   "source": [
    "# 欠損チェック\n",
    "horse_results_preprocessed_turf.isnull().sum()"
   ]
  },
  {
   "cell_type": "code",
   "execution_count": null,
   "metadata": {},
   "outputs": [],
   "source": [
    "# 重複チェック\n",
    "horse_results_preprocessed_turf.duplicated(subset=[\"horse_id\", \"date\"]).sum()"
   ]
  },
  {
   "cell_type": "code",
   "execution_count": null,
   "metadata": {},
   "outputs": [],
   "source": []
  },
  {
   "cell_type": "code",
   "execution_count": null,
   "metadata": {
    "collapsed": true,
    "jupyter": {
     "outputs_hidden": true,
     "source_hidden": true
    }
   },
   "outputs": [],
   "source": [
    "from pathlib import Path\n",
    "from tqdm.notebook import tqdm\n",
    "import json\n",
    "import re\n",
    "from pathlib import Path\n",
    "\n",
    "import numpy as np\n",
    "import pandas as pd\n",
    "from bs4 import BeautifulSoup\n",
    "from selenium import webdriver\n",
    "from selenium.webdriver.chrome.options import Options\n",
    "from selenium.webdriver.chrome.service import Service\n",
    "from tqdm.notebook import tqdm\n",
    "from webdriver_manager.chrome import ChromeDriverManager\n",
    "from io import StringIO \n",
    "\n",
    "DATA_DIR = Path(\"..\", \"data\")\n",
    "POPULATION_DIR = DATA_DIR / \"00_population\"\n",
    "INPUT_DIR = DATA_DIR / \"01_preprocessed\"\n",
    "OUTPUT_DIR = DATA_DIR / \"02_features\"\n",
    "OUTPUT_INFO_DIR = Path(\"..\", \"data\", \"01_preprocessed\")\n",
    "\n",
    "OUTPUT_DIR.mkdir(exist_ok=True, parents=True)\n",
    "output_dir_info: Path = OUTPUT_INFO_DIR  # カンマを削除\n",
    "output_filename_info: str = \"race_info_turf.csv\"\n",
    "\n",
    "features_s = pd.read_csv(output_dir_info / output_filename_info, sep=\"\\t\")\n",
    "\n",
    "features_s.head(100)"
   ]
  },
  {
   "cell_type": "code",
   "execution_count": null,
   "metadata": {},
   "outputs": [],
   "source": []
  },
  {
   "cell_type": "code",
   "execution_count": null,
   "metadata": {},
   "outputs": [],
   "source": []
  },
  {
   "cell_type": "code",
   "execution_count": null,
   "metadata": {
    "jupyter": {
     "source_hidden": true
    }
   },
   "outputs": [],
   "source": [
    "# #まとめて実行_turf_newbie\n",
    "# # レース結果テーブルの前処理\n",
    "# results_preprocessed_turf_newbie = preprocessing.process_results(\n",
    "#     populaton_filename = \"population_turf_newbie.csv\",\n",
    "#     output_filename = \"results_turf_newbie.csv\",\n",
    "# )\n",
    "# # 馬の過去成績テーブルの加工\n",
    "# horse_results_preprocessed_turf_newbie = preprocessing.process_horse_results(\n",
    "#     populaton_filename = \"population_turf_newbie.csv\",\n",
    "#     output_filename = \"horse_results_turf_newbie.csv\",    \n",
    "# )\n",
    "# # レース情報テーブルの前処理\n",
    "# race_info_preprocessed_turf_newbie = preprocessing.process_race_info(\n",
    "#     populaton_filename = \"population_turf_newbie.csv\",\n",
    "#     output_filename = \"race_info_turf_newbie.csv\",       \n",
    "# )\n",
    "# # 騎手リーディングテーブルの前処理\n",
    "# jockey_leading_preprocessed = preprocessing.process_jockey_leading()\n",
    "# # 調教師リーディングテーブルの前処理\n",
    "# trainer_leading_preprocessed = preprocessing.process_trainer_leading()\n",
    "# # 血統テーブルの前処理\n",
    "# peds_preprocessed = preprocessing.process_peds(\n",
    "#     populaton_filename = \"population_turf_newbie.csv\", \n",
    "#     output_filename= \"peds_turf_newbie.csv\",    \n",
    "# )\n",
    "# # 種牡馬リーディングテーブルの前処理\n",
    "# sire_leading_preprocessed = preprocessing.process_sire_leading()\n",
    "# bms_leading_preprocessed = preprocessing.process_sire_leading(\n",
    "#     input_filename=\"bms_leading.csv\",\n",
    "#     output_filename = \"bms_leading.csv\",\n",
    "#     id_col = \"bms_id\",\n",
    "# )\n",
    "# # 払い戻しテーブルの前処理_２度目をするならcsvファイルを消さないとダメ\n",
    "# return_tables_preprocessed_turf_newbie = preprocessing.process_return_tables(\n",
    "#     populaton_filename = \"population_turf_newbie.csv\",\n",
    "#     output_filename = \"return_tables_turf_newbie.pickle\",\n",
    "# )"
   ]
  },
  {
   "cell_type": "code",
   "execution_count": null,
   "metadata": {},
   "outputs": [],
   "source": [
    "#まとめて実行_turf_nowin\n",
    "# レース結果テーブルの前処理\n",
    "results_preprocessed_turf_nowin = preprocessing.process_results(\n",
    "    populaton_filename = \"population_turf_nowin.csv\",\n",
    "    output_filename = \"results_turf_nowin.csv\",\n",
    ")\n",
    "# 馬の過去成績テーブルの加工\n",
    "horse_results_preprocessed_turf_nowin = preprocessing.process_horse_results(\n",
    "    populaton_filename = \"population_turf_nowin.csv\",\n",
    "    output_filename = \"horse_results_turf_nowin.csv\",    \n",
    ")\n",
    "# レース情報テーブルの前処理\n",
    "race_info_preprocessed_turf_nowin = preprocessing.process_race_info(\n",
    "    populaton_filename = \"population_turf_nowin.csv\",\n",
    "    output_filename = \"race_info_turf_nowin_before.csv\",       \n",
    ")\n",
    "# 騎手リーディングテーブルの前処理\n",
    "jockey_leading_preprocessed = preprocessing.process_jockey_leading()\n",
    "# 調教師リーディングテーブルの前処理\n",
    "trainer_leading_preprocessed = preprocessing.process_trainer_leading()\n",
    "# 血統テーブルの前処理\n",
    "peds_preprocessed = preprocessing.process_peds(\n",
    "    populaton_filename = \"population_turf_nowin.csv\",    \n",
    "    output_filename= \"peds_turf_nowin.csv\",    \n",
    ")\n",
    "# 種牡馬リーディングテーブルの前処理\n",
    "sire_leading_preprocessed = preprocessing.process_sire_leading()\n",
    "bms_leading_preprocessed = preprocessing.process_sire_leading(\n",
    "    input_filename=\"bms_leading.csv\",\n",
    "    output_filename = \"bms_leading.csv\",\n",
    "    id_col = \"bms_id\",\n",
    ")\n",
    "# 払い戻しテーブルの前処理_２度目をするならcsvファイルを消さないとダメ\n",
    "return_tables_preprocessed_turf_nowin = preprocessing.process_return_tables(\n",
    "    populaton_filename = \"population_turf_nowin.csv\",\n",
    "    output_filename = \"return_tables_turf_nowin.pickle\",    \n",
    ") \n",
    "\n"
   ]
  },
  {
   "cell_type": "code",
   "execution_count": null,
   "metadata": {},
   "outputs": [],
   "source": []
  },
  {
   "cell_type": "code",
   "execution_count": null,
   "metadata": {},
   "outputs": [],
   "source": [
    "#まとめて実行_dirt\n",
    "# レース結果テーブルの前処理\n",
    "results_preprocessed_dirt = preprocessing.process_results(\n",
    "    populaton_filename = \"population_dirt.csv\",\n",
    "    output_filename = \"results_dirt.csv\",\n",
    ")\n",
    "# 馬の過去成績テーブルの加工\n",
    "horse_results_preprocessed_dirt = preprocessing.process_horse_results(\n",
    "    populaton_filename = \"population_dirt.csv\",\n",
    "    output_filename = \"horse_results_dirt.csv\",    \n",
    ")\n",
    "# レース情報テーブルの前処理\n",
    "race_info_preprocessed_dirt = preprocessing.process_race_info(\n",
    "    populaton_filename = \"population_dirt.csv\",\n",
    "    output_filename = \"race_info_dirt_before.csv\",       \n",
    ")\n",
    "# 騎手リーディングテーブルの前処理\n",
    "jockey_leading_preprocessed = preprocessing.process_jockey_leading()\n",
    "# 調教師リーディングテーブルの前処理\n",
    "trainer_leading_preprocessed = preprocessing.process_trainer_leading()\n",
    "# 血統テーブルの前処理\n",
    "peds_preprocessed = preprocessing.process_peds(\n",
    "    populaton_filename = \"population_dirt.csv\",  \n",
    "    output_filename= \"peds_dirt.csv\",  \n",
    ")\n",
    "# 種牡馬リーディングテーブルの前処理\n",
    "sire_leading_preprocessed = preprocessing.process_sire_leading()\n",
    "bms_leading_preprocessed = preprocessing.process_sire_leading(\n",
    "    input_filename=\"bms_leading.csv\",\n",
    "    output_filename = \"bms_leading.csv\",\n",
    "    id_col = \"bms_id\",\n",
    ")\n",
    "# 払い戻しテーブルの前処理_２度目をするならcsvファイルを消さないとダメ\n",
    "return_tables_preprocessed_dirt = preprocessing.process_return_tables(\n",
    "    populaton_filename = \"population_dirt.csv\",\n",
    "    output_filename = \"return_tables_dirt.pickle\",    \n",
    ") \n",
    "\n"
   ]
  },
  {
   "cell_type": "code",
   "execution_count": null,
   "metadata": {
    "jupyter": {
     "source_hidden": true
    }
   },
   "outputs": [],
   "source": [
    "# #まとめて実行_dirt_newbie\n",
    "# # レース結果テーブルの前処理\n",
    "# results_preprocessed_dirt_newbie = preprocessing.process_results(\n",
    "#     populaton_filename = \"population_dirt_newbie.csv\",\n",
    "#     output_filename = \"results_dirt_newbie.csv\",\n",
    "# )\n",
    "# # 馬の過去成績テーブルの加工\n",
    "# horse_results_preprocessed_dirt_newbie = preprocessing.process_horse_results(\n",
    "#     populaton_filename = \"population_dirt_newbie.csv\",\n",
    "#     output_filename = \"horse_results_dirt_newbie.csv\",    \n",
    "# )\n",
    "# # レース情報テーブルの前処理\n",
    "# race_info_preprocessed_dirt_newbie = preprocessing.process_race_info(\n",
    "#     populaton_filename = \"population_dirt_newbie.csv\",\n",
    "#     output_filename = \"race_info_dirt_newbie.csv\",       \n",
    "# )\n",
    "# # 騎手リーディングテーブルの前処理\n",
    "# jockey_leading_preprocessed = preprocessing.process_jockey_leading()\n",
    "# # 調教師リーディングテーブルの前処理\n",
    "# trainer_leading_preprocessed = preprocessing.process_trainer_leading()\n",
    "# # 血統テーブルの前処理\n",
    "# peds_preprocessed = preprocessing.process_peds(\n",
    "#     populaton_filename = \"population_dirt_newbie.csv\",  \n",
    "#     output_filename= \"peds_dirt_newbie.csv\",  \n",
    "# )\n",
    "# # 種牡馬リーディングテーブルの前処理\n",
    "# sire_leading_preprocessed = preprocessing.process_sire_leading()\n",
    "# bms_leading_preprocessed = preprocessing.process_sire_leading(\n",
    "#     input_filename=\"bms_leading.csv\",\n",
    "#     output_filename = \"bms_leading.csv\",\n",
    "#     id_col = \"bms_id\",\n",
    "# )\n",
    "# # 払い戻しテーブルの前処理_２度目をするならcsvファイルを消さないとダメ\n",
    "# return_tables_preprocessed_dirt_newbie = preprocessing.process_return_tables(\n",
    "#     populaton_filename = \"population_dirt_newbie.csv\",\n",
    "#     output_filename = \"return_tables_dirt_newbie.pickle\",    \n",
    "# ) \n",
    "\n"
   ]
  },
  {
   "cell_type": "code",
   "execution_count": null,
   "metadata": {},
   "outputs": [],
   "source": [
    "#まとめて実行_dirt_nowin\n",
    "# レース結果テーブルの前処理\n",
    "results_preprocessed_dirt_nowin = preprocessing.process_results(\n",
    "    populaton_filename = \"population_dirt_nowin.csv\",\n",
    "    output_filename = \"results_dirt_nowin.csv\",\n",
    ")\n",
    "# 馬の過去成績テーブルの加工\n",
    "horse_results_preprocessed_dirt_nowin = preprocessing.process_horse_results(\n",
    "    populaton_filename = \"population_dirt_nowin.csv\",\n",
    "    output_filename = \"horse_results_dirt_nowin.csv\",    \n",
    ")\n",
    "# レース情報テーブルの前処理\n",
    "race_info_preprocessed_dirt_nowin = preprocessing.process_race_info(\n",
    "    populaton_filename = \"population_dirt_nowin.csv\",\n",
    "    output_filename = \"race_info_dirt_nowin_before.csv\",       \n",
    ")\n",
    "# 騎手リーディングテーブルの前処理\n",
    "jockey_leading_preprocessed = preprocessing.process_jockey_leading()\n",
    "# 調教師リーディングテーブルの前処理\n",
    "trainer_leading_preprocessed = preprocessing.process_trainer_leading()\n",
    "# 血統テーブルの前処理\n",
    "peds_preprocessed = preprocessing.process_peds(\n",
    "    populaton_filename = \"population_dirt_nowin.csv\",  \n",
    "    output_filename= \"peds_dirt_nowin.csv\",  \n",
    ")\n",
    "# 種牡馬リーディングテーブルの前処理\n",
    "sire_leading_preprocessed = preprocessing.process_sire_leading()\n",
    "bms_leading_preprocessed = preprocessing.process_sire_leading(\n",
    "    input_filename=\"bms_leading.csv\",\n",
    "    output_filename = \"bms_leading.csv\",\n",
    "    id_col = \"bms_id\",\n",
    ")\n",
    "# 払い戻しテーブルの前処理_２度目をするならcsvファイルを消さないとダメ\n",
    "return_tables_preprocessed_dirt_nowin = preprocessing.process_return_tables(\n",
    "    populaton_filename = \"population_dirt_nowin.csv\",\n",
    "    output_filename = \"return_tables_dirt_nowin.pickle\",    \n",
    ") \n",
    "\n"
   ]
  },
  {
   "cell_type": "code",
   "execution_count": null,
   "metadata": {},
   "outputs": [],
   "source": [
    "#まとめて実行_obstract\n",
    "# レース結果テーブルの前処理\n",
    "results_preprocessed_obstract = preprocessing.process_results(\n",
    "    populaton_filename = \"population_obstract.csv\",\n",
    "    output_filename = \"results_obstract.csv\",\n",
    ")\n",
    "# 馬の過去成績テーブルの加工\n",
    "horse_results_preprocessed_obstract = preprocessing.process_horse_results(\n",
    "    populaton_filename = \"population_obstract.csv\",\n",
    "    output_filename = \"horse_results_obstract.csv\",    \n",
    ")\n",
    "# レース情報テーブルの前処理\n",
    "race_info_preprocessed_obstract = preprocessing.process_race_info(\n",
    "    populaton_filename = \"population_obstract.csv\",\n",
    "    output_filename = \"race_info_obstract_before.csv\",       \n",
    ")\n",
    "# 騎手リーディングテーブルの前処理\n",
    "jockey_leading_preprocessed = preprocessing.process_jockey_leading()\n",
    "# 調教師リーディングテーブルの前処理\n",
    "trainer_leading_preprocessed = preprocessing.process_trainer_leading()\n",
    "# 血統テーブルの前処理\n",
    "peds_preprocessed = preprocessing.process_peds(\n",
    "    populaton_filename = \"population_obstract.csv\",  \n",
    "    output_filename= \"peds_obstract.csv\",  \n",
    ")\n",
    "# 種牡馬リーディングテーブルの前処理\n",
    "sire_leading_preprocessed = preprocessing.process_sire_leading()\n",
    "bms_leading_preprocessed = preprocessing.process_sire_leading(\n",
    "    input_filename=\"bms_leading.csv\",\n",
    "    output_filename = \"bms_leading.csv\",\n",
    "    id_col = \"bms_id\",\n",
    ")\n",
    "# 払い戻しテーブルの前処理_２度目をするならcsvファイルを消さないとダメ\n",
    "return_tables_preprocessed_obstract = preprocessing.process_return_tables(\n",
    "    populaton_filename = \"population_obstract.csv\",\n",
    "    output_filename = \"return_tables_obstract.pickle\",    \n",
    ") \n",
    "\n"
   ]
  },
  {
   "cell_type": "code",
   "execution_count": null,
   "metadata": {},
   "outputs": [],
   "source": []
  },
  {
   "cell_type": "code",
   "execution_count": null,
   "metadata": {},
   "outputs": [],
   "source": [
    "#まとめて実行_all\n",
    "# レース結果テーブルの前処理\n",
    "results_preprocessed_all = preprocessing.process_results(\n",
    "    populaton_filename = \"population_all.csv\",\n",
    "    output_filename = \"results_all.csv\",\n",
    ")\n",
    "# 馬の過去成績テーブルの加工\n",
    "horse_results_preprocessed_all = preprocessing.process_horse_results(\n",
    "    populaton_filename = \"population_all.csv\",\n",
    "    output_filename = \"horse_results_all.csv\",    \n",
    ")\n",
    "# レース情報テーブルの前処理\n",
    "race_info_preprocessed_all = preprocessing.process_race_info(\n",
    "    populaton_filename = \"population_all.csv\",\n",
    "    output_filename = \"race_info_all_before.csv\",       \n",
    ")\n",
    "# 騎手リーディングテーブルの前処理\n",
    "jockey_leading_preprocessed = preprocessing.process_jockey_leading()\n",
    "# 調教師リーディングテーブルの前処理\n",
    "trainer_leading_preprocessed = preprocessing.process_trainer_leading()\n",
    "# 血統テーブルの前処理\n",
    "peds_preprocessed = preprocessing.process_peds(\n",
    "    populaton_filename = \"population_all.csv\",  \n",
    "    output_filename= \"peds_all.csv\",    \n",
    ")\n",
    "# 払い戻しテーブルの前処理_２度目をするならcsvファイルを消さないとダメ\n",
    "return_tables_preprocessed_all = preprocessing.process_return_tables(\n",
    "    populaton_filename = \"population_all.csv\",\n",
    "    output_filename = \"return_tables_all.pickle\",    \n",
    ")\n",
    "\n"
   ]
  },
  {
   "cell_type": "code",
   "execution_count": null,
   "metadata": {},
   "outputs": [],
   "source": [
    "fc_grade = race_grade_maker.create_race_grade(\n",
    "    poplation_filename=\"population_all.csv\",\n",
    "    results_filename=\"results_all.csv\",\n",
    "    race_info_filename=\"race_info_all_before.csv\",\n",
    "    # peds_filename = \"peds_all.csv\",\n",
    "    output_filename_info = \"race_info_all.csv\",\n",
    ")\n",
    "fc_grade = race_grade_maker.create_race_grade(\n",
    "    poplation_filename=\"population_turf.csv\",\n",
    "    results_filename=\"results_turf.csv\",\n",
    "    race_info_filename=\"race_info_turf_before.csv\",\n",
    "    # peds_filename = \"peds_all.csv\",\n",
    "    output_filename_info = \"race_info_turf.csv\",\n",
    ")\n",
    "fc_grade = race_grade_maker.create_race_grade(\n",
    "    poplation_filename=\"population_dirt.csv\",\n",
    "    results_filename=\"results_dirt.csv\",\n",
    "    race_info_filename=\"race_info_dirt_before.csv\",\n",
    "    # peds_filename = \"peds_all.csv\",\n",
    "    output_filename_info = \"race_info_dirt.csv\",\n",
    ")\n",
    "fc_grade = race_grade_maker.create_race_grade(\n",
    "    poplation_filename=\"population_turf_nowin.csv\",\n",
    "    results_filename=\"results_turf_nowin.csv\",\n",
    "    race_info_filename=\"race_info_turf_nowin_before.csv\",\n",
    "    # peds_filename = \"peds_all.csv\",\n",
    "    output_filename_info = \"race_info_turf_nowin.csv\",\n",
    ")\n",
    "fc_grade = race_grade_maker.create_race_grade(\n",
    "    poplation_filename=\"population_dirt_nowin.csv\",\n",
    "    results_filename=\"results_dirt_nowin.csv\",\n",
    "    race_info_filename=\"race_info_dirt_nowin_before.csv\",\n",
    "    # peds_filename = \"peds_all.csv\",\n",
    "    output_filename_info = \"race_info_dirt_nowin.csv\",\n",
    ")\n",
    "fc_grade = race_grade_maker.create_race_grade(\n",
    "    poplation_filename=\"population_obstract.csv\",\n",
    "    results_filename=\"results_obstract.csv\",\n",
    "    race_info_filename=\"race_info_obstract_before.csv\",\n",
    "    # peds_filename = \"peds_all.csv\",\n",
    "    output_filename_info = \"race_info_obstract.csv\",\n",
    ")"
   ]
  },
  {
   "cell_type": "code",
   "execution_count": null,
   "metadata": {},
   "outputs": [],
   "source": []
  },
  {
   "cell_type": "code",
   "execution_count": null,
   "metadata": {
    "collapsed": true,
    "jupyter": {
     "outputs_hidden": true,
     "source_hidden": true
    }
   },
   "outputs": [],
   "source": [
    "# horse_results_preprocessed_turf"
   ]
  },
  {
   "cell_type": "code",
   "execution_count": null,
   "metadata": {
    "collapsed": true,
    "jupyter": {
     "outputs_hidden": true
    }
   },
   "outputs": [],
   "source": [
    "print(race_info_preprocessed_all.dtypes)"
   ]
  },
  {
   "cell_type": "code",
   "execution_count": null,
   "metadata": {},
   "outputs": [],
   "source": []
  },
  {
   "cell_type": "code",
   "execution_count": null,
   "metadata": {},
   "outputs": [],
   "source": []
  },
  {
   "cell_type": "markdown",
   "metadata": {},
   "source": [
    "#  特徴量作成"
   ]
  },
  {
   "cell_type": "code",
   "execution_count": null,
   "metadata": {},
   "outputs": [],
   "source": [
    "#_turfの特徴量作成\n",
    "fc_turf = FeatureCreator(\n",
    "    poplation_filename=\"population_turf.csv\",\n",
    "    results_filename=\"results_turf.csv\",\n",
    "    race_info_filename=\"race_info_turf.csv\",\n",
    "    horse_results_filename=\"horse_results_turf.csv\",\n",
    "    output_filename = \"features_turf.csv\",\n",
    "    peds_filename = \"peds_turf.csv\",\n",
    "    output_filename_info = \"race_info_turf.csv\",\n",
    "    \n",
    "    poplation_all_filename = \"population_turf.csv\",    \n",
    "    results_all_filename = \"results_turf.csv\",\n",
    "    race_info_all_filename = \"race_info_turf.csv\",\n",
    "    horse_results_all_filename = \"horse_results_turf.csv\",  \n",
    "    peds_all_filename = \"peds_turf.csv\",  \n",
    ")\n",
    "features_turf = fc_turf.create_features()"
   ]
  },
  {
   "cell_type": "code",
   "execution_count": null,
   "metadata": {},
   "outputs": [],
   "source": [
    "# 重複チェック\n",
    "features_turf.duplicated(subset=[\"race_id\", \"horse_id\"]).sum()"
   ]
  },
  {
   "cell_type": "code",
   "execution_count": null,
   "metadata": {},
   "outputs": [],
   "source": [
    "#特徴量を変更した場合に実行、\"config_lightgbm_niti_new.yaml\"に特徴量リストが入る\n",
    "list(features_turf.columns)\n",
    "import yaml\n",
    "feature_cols = {\n",
    "    \"features\": features_turf.columns.drop(\n",
    "        [\"date\",\"rank\",\"rank_per_horse\",\"time\",\"nobori\",\"corner_1\",\"corner_2\",\"corner_3\",\"corner_4\",\n",
    "                        \"corner_1_per_horse\",\"corner_2_per_horse\",\n",
    "                        \"corner_3_per_horse\",\n",
    "                        \"corner_4_per_horse\", \"owner_id\"]\n",
    "    ).to_list()\n",
    "}\n",
    "print(feature_cols)\n",
    "with open(\"config_lightgbm_niti_new.yaml\",\"w\") as file:\n",
    "    yaml.dump(feature_cols,file\n",
    "              )\n",
    "                        #     'time_diff_sp',\n",
    "                        # 'nobori_diff_sp',\n",
    "                        # 'time_points_course_index',\n",
    "                        # 'nobori_points_course_index',\n",
    "                        # 'time_points_impost',\n",
    "                        # 'nobori_points_impost',\n",
    "                        # 'time_diff_grade',\n",
    "                        # 'nobori_diff_grade',\n",
    "                        # 'time_points_grade_index',\n",
    "                        # 'nobori_points_grade_index',\n",
    "                        # 'time_condition_index',\n",
    "                        # 'nobori_condition_index',\n",
    "                        # 'speed_index',\n",
    "                        # 'nobori_index',"
   ]
  },
  {
   "cell_type": "code",
   "execution_count": null,
   "metadata": {
    "collapsed": true,
    "jupyter": {
     "outputs_hidden": true
    }
   },
   "outputs": [],
   "source": [
    "features_turf.head(100)"
   ]
  },
  {
   "cell_type": "code",
   "execution_count": null,
   "metadata": {
    "collapsed": true,
    "jupyter": {
     "outputs_hidden": true
    }
   },
   "outputs": [],
   "source": [
    "features_dirt.head(100)"
   ]
  },
  {
   "cell_type": "code",
   "execution_count": null,
   "metadata": {},
   "outputs": [],
   "source": [
    "#もしもカーネルがリセットした場合、ここからfeatureをとる\n",
    "features_turf = pd.read_csv(\"../data/02_features/features_turf.csv\", sep=\"\\t\")"
   ]
  },
  {
   "cell_type": "code",
   "execution_count": null,
   "metadata": {},
   "outputs": [],
   "source": [
    "#もしもカーネルがリセットした場合、ここからfeatureをとる\n",
    "features_dirt = pd.read_csv(\"../data/02_features/features_dirt.csv\", sep=\"\\t\")"
   ]
  },
  {
   "cell_type": "code",
   "execution_count": null,
   "metadata": {},
   "outputs": [],
   "source": [
    "#もしもカーネルがリセットした場合、ここからfeatureをとる\n",
    "features_obstract = pd.read_csv(\"../data/02_features/features_obstract.csv\", sep=\"\\t\")"
   ]
  },
  {
   "cell_type": "code",
   "execution_count": null,
   "metadata": {},
   "outputs": [],
   "source": []
  },
  {
   "cell_type": "code",
   "execution_count": null,
   "metadata": {},
   "outputs": [],
   "source": []
  },
  {
   "cell_type": "code",
   "execution_count": null,
   "metadata": {},
   "outputs": [],
   "source": []
  },
  {
   "cell_type": "code",
   "execution_count": null,
   "metadata": {
    "collapsed": true,
    "jupyter": {
     "outputs_hidden": true,
     "source_hidden": true
    }
   },
   "outputs": [],
   "source": [
    "# rank_1races 列が None の行を抽出\n",
    "none_rows = features_turf[features_turf[\"rank_1races\"].isna()]\n",
    "# none_rows の行数を確認\n",
    "num_rows = none_rows.shape[0]\n",
    "print(f\"rank_1races が None の行数: {num_rows}\")\n",
    "# 表示したい列を指定\n",
    "columns_to_display = [\"horse_id\", \"date\",\"rank_1races\", \"race_id\"]  # 必要な列名をリストで指定\n",
    "filtered_none_rows = none_rows[columns_to_display]\n",
    "\n",
    "filtered_none_rows \n",
    "# horse_id 列をリストに変換\n",
    "horse_id_list = filtered_none_rows[\"horse_id\"].tolist()\n",
    "\n",
    "# 結果を表示\n",
    "print(horse_id_list)"
   ]
  },
  {
   "cell_type": "code",
   "execution_count": null,
   "metadata": {},
   "outputs": [],
   "source": []
  },
  {
   "cell_type": "code",
   "execution_count": null,
   "metadata": {
    "collapsed": true,
    "jupyter": {
     "outputs_hidden": true,
     "source_hidden": true
    }
   },
   "outputs": [],
   "source": [
    "# rank_1races 列が None の行を抽出\n",
    "none_rows = features_dirt[features_dirt[\"rank_1races\"].isna()]\n",
    "# none_rows の行数を確認\n",
    "num_rows = none_rows.shape[0]\n",
    "print(f\"rank_1races が None の行数: {num_rows}\")\n",
    "# 表示したい列を指定\n",
    "columns_to_display = [\"horse_id\", \"date\",\"rank_1races\", \"race_id\"]  # 必要な列名をリストで指定\n",
    "filtered_none_rows = none_rows[columns_to_display]\n",
    "\n",
    "filtered_none_rows \n",
    "# horse_id 列をリストに変換\n",
    "horse_id_list = filtered_none_rows[\"horse_id\"].tolist()\n",
    "\n",
    "# 結果を表示\n",
    "print(horse_id_list)"
   ]
  },
  {
   "cell_type": "code",
   "execution_count": null,
   "metadata": {},
   "outputs": [],
   "source": []
  },
  {
   "cell_type": "code",
   "execution_count": null,
   "metadata": {
    "collapsed": true,
    "jupyter": {
     "outputs_hidden": true,
     "source_hidden": true
    }
   },
   "outputs": [],
   "source": [
    "# rank_1races 列が None の行を抽出\n",
    "none_rows = features_obstract[features_obstract[\"rank_1races\"].isna()]\n",
    "# none_rows の行数を確認\n",
    "num_rows = none_rows.shape[0]\n",
    "print(f\"rank_1races が None の行数: {num_rows}\")\n",
    "# 表示したい列を指定\n",
    "columns_to_display = [\"horse_id\", \"date\",\"rank_1races\", \"race_id\"]  # 必要な列名をリストで指定\n",
    "filtered_none_rows = none_rows[columns_to_display]\n",
    "\n",
    "filtered_none_rows \n",
    "# horse_id 列をリストに変換\n",
    "horse_id_list = filtered_none_rows[\"horse_id\"].tolist()\n",
    "\n",
    "# 結果を表示\n",
    "print(horse_id_list)\n"
   ]
  },
  {
   "cell_type": "code",
   "execution_count": null,
   "metadata": {},
   "outputs": [],
   "source": []
  },
  {
   "cell_type": "code",
   "execution_count": null,
   "metadata": {},
   "outputs": [],
   "source": []
  },
  {
   "cell_type": "code",
   "execution_count": null,
   "metadata": {},
   "outputs": [],
   "source": []
  },
  {
   "cell_type": "code",
   "execution_count": null,
   "metadata": {},
   "outputs": [],
   "source": []
  },
  {
   "cell_type": "code",
   "execution_count": null,
   "metadata": {},
   "outputs": [],
   "source": []
  },
  {
   "cell_type": "code",
   "execution_count": null,
   "metadata": {
    "collapsed": true,
    "jupyter": {
     "outputs_hidden": true,
     "source_hidden": true
    }
   },
   "outputs": [],
   "source": [
    "# #_turf_newbieの特徴量作成\n",
    "# fc_turf_newbie = FeatureCreator(\n",
    "#     poplation_filename=\"population_turf_newbie.csv\",\n",
    "#     results_filename=\"results_turf_newbie.csv\",\n",
    "#     race_info_filename=\"race_info_turf_newbie.csv\",\n",
    "#     horse_results_filename=\"horse_results_turf_newbie.csv\",\n",
    "#     output_filename = \"features_turf_newbie.csv\",\n",
    "#     peds_filename = \"peds_turf_newbie.csv\",\n",
    "#     output_filename_info = \"race_info_turf_newbie.csv\",\n",
    "# )\n",
    "# features_turf_newbie = fc_turf_newbie.create_features()"
   ]
  },
  {
   "cell_type": "code",
   "execution_count": null,
   "metadata": {},
   "outputs": [],
   "source": [
    "#_turf_nowinの特徴量作成\n",
    "fc_turf_nowin = FeatureCreator(\n",
    "    poplation_filename=\"population_turf_nowin.csv\",\n",
    "    results_filename=\"results_turf_nowin.csv\",\n",
    "    race_info_filename=\"race_info_turf_nowin.csv\",\n",
    "    horse_results_filename=\"horse_results_turf_nowin.csv\",\n",
    "    output_filename = \"features_turf_nowin.csv\",\n",
    "    peds_filename = \"peds_turf_nowin.csv\",\n",
    "    output_filename_info = \"race_info_turf_nowin.csv\",\n",
    ")\n",
    "features_turf_nowin = fc_turf_nowin.create_features()"
   ]
  },
  {
   "cell_type": "code",
   "execution_count": null,
   "metadata": {
    "jupyter": {
     "source_hidden": true
    }
   },
   "outputs": [],
   "source": [
    "# #_dirtの特徴量作成\n",
    "# fc_dirt = FeatureCreator(\n",
    "#     poplation_filename=\"population_dirt.csv\",\n",
    "#     results_filename=\"results_dirt.csv\",\n",
    "#     race_info_filename=\"race_info_dirt.csv\",\n",
    "#     horse_results_filename=\"horse_results_dirt.csv\",\n",
    "#     output_filename = \"features_dirt.csv\",\n",
    "#     peds_filename = \"peds_dirt.csv\",\n",
    "#     output_filename_info = \"race_info_dirt.csv\",\n",
    "# )\n",
    "# features_d = fc_dirt.create_race_grade()"
   ]
  },
  {
   "cell_type": "code",
   "execution_count": 4,
   "metadata": {},
   "outputs": [
    {
     "data": {
      "application/vnd.jupyter.widget-view+json": {
       "model_id": "cf2586045e9841d19f4035fd55155086",
       "version_major": 2,
       "version_minor": 0
      },
      "text/plain": [
       "course_len_relative:   0%|          | 0/4 [00:00<?, ?it/s]"
      ]
     },
     "metadata": {},
     "output_type": "display_data"
    },
    {
     "data": {
      "application/vnd.jupyter.widget-view+json": {
       "model_id": "923fed2d638a4bc8ba64647fdbeb43ab",
       "version_major": 2,
       "version_minor": 0
      },
      "text/plain": [
       "rank_diff:   0%|          | 0/4 [00:00<?, ?it/s]"
      ]
     },
     "metadata": {},
     "output_type": "display_data"
    },
    {
     "name": "stdout",
     "output_type": "stream",
     "text": [
      "agg_rank_diff ...comp\n"
     ]
    },
    {
     "data": {
      "application/vnd.jupyter.widget-view+json": {
       "model_id": "efe30824b3d347f2b7cb7091dedf4f7e",
       "version_major": 2,
       "version_minor": 0
      },
      "text/plain": [
       "rank_diff:   0%|          | 0/4 [00:00<?, ?it/s]"
      ]
     },
     "metadata": {},
     "output_type": "display_data"
    },
    {
     "name": "stdout",
     "output_type": "stream",
     "text": [
      "agg_cross_time ...comp\n"
     ]
    },
    {
     "data": {
      "application/vnd.jupyter.widget-view+json": {
       "model_id": "ce66af43a56b46a69b8debd5a25bf531",
       "version_major": 2,
       "version_minor": 0
      },
      "text/plain": [
       "計算中:   0%|          | 0/4 [00:00<?, ?it/s]"
      ]
     },
     "metadata": {},
     "output_type": "display_data"
    },
    {
     "data": {
      "application/vnd.jupyter.widget-view+json": {
       "model_id": "e7504b9bfe5f4e5082310d163cb59161",
       "version_major": 2,
       "version_minor": 0
      },
      "text/plain": [
       "agg_race_type_True:   0%|          | 0/4 [00:00<?, ?it/s]"
      ]
     },
     "metadata": {},
     "output_type": "display_data"
    },
    {
     "data": {
      "application/vnd.jupyter.widget-view+json": {
       "model_id": "76b3b4543d5a47a99b80a2496e515d33",
       "version_major": 2,
       "version_minor": 0
      },
      "text/plain": [
       "agg_horse_per_course_len:   0%|          | 0/4 [00:00<?, ?it/s]"
      ]
     },
     "metadata": {},
     "output_type": "display_data"
    },
    {
     "name": "stdout",
     "output_type": "stream",
     "text": [
      "running cross_features()...comp\n",
      "running agg_interval()...comp\n",
      "running cross_features_2()...comp\n"
     ]
    },
    {
     "data": {
      "application/vnd.jupyter.widget-view+json": {
       "model_id": "d9c165547ae64b7ba7582e9b7443fdc5",
       "version_major": 2,
       "version_minor": 0
      },
      "text/plain": [
       "agg_cross_encoded:   0%|          | 0/4 [00:00<?, ?it/s]"
      ]
     },
     "metadata": {},
     "output_type": "display_data"
    },
    {
     "name": "stdout",
     "output_type": "stream",
     "text": [
      "running cross_features_3()...comp\n"
     ]
    },
    {
     "data": {
      "application/vnd.jupyter.widget-view+json": {
       "model_id": "b7d2032efc5541cb86938f3aec47ffd6",
       "version_major": 2,
       "version_minor": 0
      },
      "text/plain": [
       "agg_cross_zizoku_syunpatu:   0%|          | 0/4 [00:00<?, ?it/s]"
      ]
     },
     "metadata": {},
     "output_type": "display_data"
    },
    {
     "name": "stdout",
     "output_type": "stream",
     "text": [
      "running cross_features_4()...comp\n",
      "running cross_features_5()...comp\n",
      "running cross_features_6()...comp\n"
     ]
    },
    {
     "data": {
      "application/vnd.jupyter.widget-view+json": {
       "model_id": "66797f89005c42148da5ee04ca1b32fa",
       "version_major": 2,
       "version_minor": 0
      },
      "text/plain": [
       "pace_category_win_1:   0%|          | 0/4 [00:00<?, ?it/s]"
      ]
     },
     "metadata": {},
     "output_type": "display_data"
    },
    {
     "data": {
      "application/vnd.jupyter.widget-view+json": {
       "model_id": "c044a672f2264c30a7617e82fcc699cb",
       "version_major": 2,
       "version_minor": 0
      },
      "text/plain": [
       "pace_category_win_2:   0%|          | 0/4 [00:00<?, ?it/s]"
      ]
     },
     "metadata": {},
     "output_type": "display_data"
    },
    {
     "data": {
      "application/vnd.jupyter.widget-view+json": {
       "model_id": "bd555ef6f5f9499dbda2aeb9dce364f2",
       "version_major": 2,
       "version_minor": 0
      },
      "text/plain": [
       "pace_category_win_3:   0%|          | 0/4 [00:00<?, ?it/s]"
      ]
     },
     "metadata": {},
     "output_type": "display_data"
    },
    {
     "data": {
      "application/vnd.jupyter.widget-view+json": {
       "model_id": "3f8f136f2e0b47e2b5b4a329fce9cc9a",
       "version_major": 2,
       "version_minor": 0
      },
      "text/plain": [
       "pace_category_win_4:   0%|          | 0/4 [00:00<?, ?it/s]"
      ]
     },
     "metadata": {},
     "output_type": "display_data"
    },
    {
     "name": "stdout",
     "output_type": "stream",
     "text": [
      "running cross_features_7()...comp\n"
     ]
    },
    {
     "data": {
      "application/vnd.jupyter.widget-view+json": {
       "model_id": "266bf95aa5634a989d00310bba61d318",
       "version_major": 2,
       "version_minor": 0
      },
      "text/plain": [
       "agg_pace_per_score:   0%|          | 0/4 [00:00<?, ?it/s]"
      ]
     },
     "metadata": {},
     "output_type": "display_data"
    },
    {
     "name": "stdout",
     "output_type": "stream",
     "text": [
      "running cross_features_8()...comp\n"
     ]
    },
    {
     "data": {
      "application/vnd.jupyter.widget-view+json": {
       "model_id": "4e994bd597454219a8d8884fa33a43e2",
       "version_major": 2,
       "version_minor": 0
      },
      "text/plain": [
       "agg_goal_per_score:   0%|          | 0/4 [00:00<?, ?it/s]"
      ]
     },
     "metadata": {},
     "output_type": "display_data"
    },
    {
     "name": "stdout",
     "output_type": "stream",
     "text": [
      "running cross_features_9()...comp\n"
     ]
    },
    {
     "data": {
      "application/vnd.jupyter.widget-view+json": {
       "model_id": "5e1d81f37a974d81923e15bcc11d2f79",
       "version_major": 2,
       "version_minor": 0
      },
      "text/plain": [
       "agg_curve_per_score:   0%|          | 0/4 [00:00<?, ?it/s]"
      ]
     },
     "metadata": {},
     "output_type": "display_data"
    },
    {
     "name": "stdout",
     "output_type": "stream",
     "text": [
      "running cross_features_10()...comp\n"
     ]
    },
    {
     "data": {
      "application/vnd.jupyter.widget-view+json": {
       "model_id": "41da4702548c4c328a78c27f48d2bd2e",
       "version_major": 2,
       "version_minor": 0
      },
      "text/plain": [
       "agg_goal_slope_per_score:   0%|          | 0/4 [00:00<?, ?it/s]"
      ]
     },
     "metadata": {},
     "output_type": "display_data"
    },
    {
     "name": "stdout",
     "output_type": "stream",
     "text": [
      "running cross_features_11()...comp\n"
     ]
    },
    {
     "data": {
      "application/vnd.jupyter.widget-view+json": {
       "model_id": "b20777b8d7634ef681263e6fab5a9d0e",
       "version_major": 2,
       "version_minor": 0
      },
      "text/plain": [
       "agg_stamina_per_score:   0%|          | 0/4 [00:00<?, ?it/s]"
      ]
     },
     "metadata": {},
     "output_type": "display_data"
    },
    {
     "name": "stdout",
     "output_type": "stream",
     "text": [
      "running cross_features_12()...comp\n"
     ]
    },
    {
     "data": {
      "application/vnd.jupyter.widget-view+json": {
       "model_id": "e2c2645b4a6846159b1caa586ad70136",
       "version_major": 2,
       "version_minor": 0
      },
      "text/plain": [
       "agg_pace_per_score:   0%|          | 0/4 [00:00<?, ?it/s]"
      ]
     },
     "metadata": {},
     "output_type": "display_data"
    },
    {
     "data": {
      "application/vnd.jupyter.widget-view+json": {
       "model_id": "579dea4fdf0a45e8addfc073f2c1655a",
       "version_major": 2,
       "version_minor": 0
      },
      "text/plain": [
       "agg_goal_per_score:   0%|          | 0/4 [00:00<?, ?it/s]"
      ]
     },
     "metadata": {},
     "output_type": "display_data"
    },
    {
     "data": {
      "application/vnd.jupyter.widget-view+json": {
       "model_id": "de7db8bd8b1046adb4919d9bf05135b6",
       "version_major": 2,
       "version_minor": 0
      },
      "text/plain": [
       "agg_curve_per_score:   0%|          | 0/4 [00:00<?, ?it/s]"
      ]
     },
     "metadata": {},
     "output_type": "display_data"
    },
    {
     "data": {
      "application/vnd.jupyter.widget-view+json": {
       "model_id": "b84e67be79a14f45a9d731aa20ce8335",
       "version_major": 2,
       "version_minor": 0
      },
      "text/plain": [
       "agg_goal_slope_per_score:   0%|          | 0/4 [00:00<?, ?it/s]"
      ]
     },
     "metadata": {},
     "output_type": "display_data"
    },
    {
     "data": {
      "application/vnd.jupyter.widget-view+json": {
       "model_id": "cf6cae88a4004c7db2afd2d65a53e4bd",
       "version_major": 2,
       "version_minor": 0
      },
      "text/plain": [
       "agg_stamina_per_score:   0%|          | 0/4 [00:00<?, ?it/s]"
      ]
     },
     "metadata": {},
     "output_type": "display_data"
    },
    {
     "name": "stdout",
     "output_type": "stream",
     "text": [
      "running cross_features_13()...comp\n"
     ]
    },
    {
     "data": {
      "application/vnd.jupyter.widget-view+json": {
       "model_id": "e37691f2cf2641dd95079ce7137462dc",
       "version_major": 2,
       "version_minor": 0
      },
      "text/plain": [
       "agg_raceclass_rankdiff_per_score:   0%|          | 0/4 [00:00<?, ?it/s]"
      ]
     },
     "metadata": {},
     "output_type": "display_data"
    },
    {
     "name": "stdout",
     "output_type": "stream",
     "text": [
      "running cross_features_14()...comp\n"
     ]
    },
    {
     "data": {
      "application/vnd.jupyter.widget-view+json": {
       "model_id": "b030da18b6124bd4b0536138c89cd010",
       "version_major": 2,
       "version_minor": 0
      },
      "text/plain": [
       "speed_index:   0%|          | 0/4 [00:00<?, ?it/s]"
      ]
     },
     "metadata": {},
     "output_type": "display_data"
    },
    {
     "name": "stdout",
     "output_type": "stream",
     "text": [
      "running cross_features_15()...comp\n",
      "running cross_features_17()...comp\n",
      "running agg_position_results()...comp\n",
      "running agg_weight_weather()...comp\n",
      "running agg_umaban_good()...comp\n"
     ]
    },
    {
     "data": {
      "application/vnd.jupyter.widget-view+json": {
       "model_id": "462cc31a92b0428dbd81bb913dbfd0e9",
       "version_major": 2,
       "version_minor": 0
      },
      "text/plain": [
       "agg_horse_per_ground_state_race_type:   0%|          | 0/4 [00:00<?, ?it/s]"
      ]
     },
     "metadata": {},
     "output_type": "display_data"
    },
    {
     "data": {
      "application/vnd.jupyter.widget-view+json": {
       "model_id": "17dee420a1d64b68af127962b3e15d2a",
       "version_major": 2,
       "version_minor": 0
      },
      "text/plain": [
       "agg_horse_per_race_type:   0%|          | 0/4 [00:00<?, ?it/s]"
      ]
     },
     "metadata": {},
     "output_type": "display_data"
    },
    {
     "data": {
      "application/vnd.jupyter.widget-view+json": {
       "model_id": "587c4c2c41e844a68630ba9c846b5046",
       "version_major": 2,
       "version_minor": 0
      },
      "text/plain": [
       "agg_horse_per_race_place_len:   0%|          | 0/4 [00:00<?, ?it/s]"
      ]
     },
     "metadata": {},
     "output_type": "display_data"
    },
    {
     "name": "stdout",
     "output_type": "stream",
     "text": [
      "merging all features...\n",
      "merging all features...comp\n"
     ]
    }
   ],
   "source": [
    "#_dirtの特徴量作成\n",
    "fc_dirt = FeatureCreator(\n",
    "    poplation_filename=\"population_dirt.csv\",\n",
    "    results_filename=\"results_dirt.csv\",\n",
    "    race_info_filename=\"race_info_dirt.csv\",\n",
    "    horse_results_filename=\"horse_results_dirt.csv\",\n",
    "    output_filename = \"features_dirt.csv\",\n",
    "    peds_filename = \"peds_dirt.csv\",\n",
    "    output_filename_info = \"race_info_dirt.csv\",\n",
    ")\n",
    "features_dirt = fc_dirt.create_features()"
   ]
  },
  {
   "cell_type": "code",
   "execution_count": 5,
   "metadata": {},
   "outputs": [
    {
     "data": {
      "application/vnd.jupyter.widget-view+json": {
       "model_id": "8e259cb9b76a4cfd9c2d8181d0d856b2",
       "version_major": 2,
       "version_minor": 0
      },
      "text/plain": [
       "course_len_relative:   0%|          | 0/4 [00:00<?, ?it/s]"
      ]
     },
     "metadata": {},
     "output_type": "display_data"
    },
    {
     "data": {
      "application/vnd.jupyter.widget-view+json": {
       "model_id": "f527d930ff944d03b9f254777efb208f",
       "version_major": 2,
       "version_minor": 0
      },
      "text/plain": [
       "rank_diff:   0%|          | 0/4 [00:00<?, ?it/s]"
      ]
     },
     "metadata": {},
     "output_type": "display_data"
    },
    {
     "name": "stdout",
     "output_type": "stream",
     "text": [
      "agg_rank_diff ...comp\n"
     ]
    },
    {
     "data": {
      "application/vnd.jupyter.widget-view+json": {
       "model_id": "1030d779ea06432abc817d9b3f19ecbb",
       "version_major": 2,
       "version_minor": 0
      },
      "text/plain": [
       "rank_diff:   0%|          | 0/4 [00:00<?, ?it/s]"
      ]
     },
     "metadata": {},
     "output_type": "display_data"
    },
    {
     "name": "stdout",
     "output_type": "stream",
     "text": [
      "agg_cross_time ...comp\n"
     ]
    },
    {
     "data": {
      "application/vnd.jupyter.widget-view+json": {
       "model_id": "87d80a75be694092b7e79db728817be6",
       "version_major": 2,
       "version_minor": 0
      },
      "text/plain": [
       "計算中:   0%|          | 0/4 [00:00<?, ?it/s]"
      ]
     },
     "metadata": {},
     "output_type": "display_data"
    },
    {
     "data": {
      "application/vnd.jupyter.widget-view+json": {
       "model_id": "efbaaa9d14684cd8a7cdab8c4ff60997",
       "version_major": 2,
       "version_minor": 0
      },
      "text/plain": [
       "agg_race_type_True:   0%|          | 0/4 [00:00<?, ?it/s]"
      ]
     },
     "metadata": {},
     "output_type": "display_data"
    },
    {
     "data": {
      "application/vnd.jupyter.widget-view+json": {
       "model_id": "8a317301a50e49aab96b2ff76f75f970",
       "version_major": 2,
       "version_minor": 0
      },
      "text/plain": [
       "agg_horse_per_course_len:   0%|          | 0/4 [00:00<?, ?it/s]"
      ]
     },
     "metadata": {},
     "output_type": "display_data"
    },
    {
     "name": "stdout",
     "output_type": "stream",
     "text": [
      "running cross_features()...comp\n",
      "running agg_interval()...comp\n",
      "running cross_features_2()...comp\n"
     ]
    },
    {
     "data": {
      "application/vnd.jupyter.widget-view+json": {
       "model_id": "3463814f0c1d421baea066809b873627",
       "version_major": 2,
       "version_minor": 0
      },
      "text/plain": [
       "agg_cross_encoded:   0%|          | 0/4 [00:00<?, ?it/s]"
      ]
     },
     "metadata": {},
     "output_type": "display_data"
    },
    {
     "name": "stdout",
     "output_type": "stream",
     "text": [
      "running cross_features_3()...comp\n"
     ]
    },
    {
     "data": {
      "application/vnd.jupyter.widget-view+json": {
       "model_id": "72c54601c7844f98a32d64e1623476b8",
       "version_major": 2,
       "version_minor": 0
      },
      "text/plain": [
       "agg_cross_zizoku_syunpatu:   0%|          | 0/4 [00:00<?, ?it/s]"
      ]
     },
     "metadata": {},
     "output_type": "display_data"
    },
    {
     "name": "stdout",
     "output_type": "stream",
     "text": [
      "running cross_features_4()...comp\n",
      "running cross_features_5()...comp\n",
      "running cross_features_6()...comp\n"
     ]
    },
    {
     "data": {
      "application/vnd.jupyter.widget-view+json": {
       "model_id": "92c78ea8089243ba85ea691f80b0df50",
       "version_major": 2,
       "version_minor": 0
      },
      "text/plain": [
       "pace_category_win_1:   0%|          | 0/4 [00:00<?, ?it/s]"
      ]
     },
     "metadata": {},
     "output_type": "display_data"
    },
    {
     "data": {
      "application/vnd.jupyter.widget-view+json": {
       "model_id": "2576e414563946cfb903f5618363935f",
       "version_major": 2,
       "version_minor": 0
      },
      "text/plain": [
       "pace_category_win_2:   0%|          | 0/4 [00:00<?, ?it/s]"
      ]
     },
     "metadata": {},
     "output_type": "display_data"
    },
    {
     "data": {
      "application/vnd.jupyter.widget-view+json": {
       "model_id": "3ae30fbd27b942fbb4e48f99398919dd",
       "version_major": 2,
       "version_minor": 0
      },
      "text/plain": [
       "pace_category_win_3:   0%|          | 0/4 [00:00<?, ?it/s]"
      ]
     },
     "metadata": {},
     "output_type": "display_data"
    },
    {
     "data": {
      "application/vnd.jupyter.widget-view+json": {
       "model_id": "7a53db8cc10845a3a632ff3b6e46b941",
       "version_major": 2,
       "version_minor": 0
      },
      "text/plain": [
       "pace_category_win_4:   0%|          | 0/4 [00:00<?, ?it/s]"
      ]
     },
     "metadata": {},
     "output_type": "display_data"
    },
    {
     "name": "stdout",
     "output_type": "stream",
     "text": [
      "running cross_features_7()...comp\n"
     ]
    },
    {
     "data": {
      "application/vnd.jupyter.widget-view+json": {
       "model_id": "f0e82a5f99504a58b74328022b53e86f",
       "version_major": 2,
       "version_minor": 0
      },
      "text/plain": [
       "agg_pace_per_score:   0%|          | 0/4 [00:00<?, ?it/s]"
      ]
     },
     "metadata": {},
     "output_type": "display_data"
    },
    {
     "name": "stdout",
     "output_type": "stream",
     "text": [
      "running cross_features_8()...comp\n"
     ]
    },
    {
     "data": {
      "application/vnd.jupyter.widget-view+json": {
       "model_id": "abb241264ba54cb8b7f73fbef6dece6b",
       "version_major": 2,
       "version_minor": 0
      },
      "text/plain": [
       "agg_goal_per_score:   0%|          | 0/4 [00:00<?, ?it/s]"
      ]
     },
     "metadata": {},
     "output_type": "display_data"
    },
    {
     "name": "stdout",
     "output_type": "stream",
     "text": [
      "running cross_features_9()...comp\n"
     ]
    },
    {
     "data": {
      "application/vnd.jupyter.widget-view+json": {
       "model_id": "0f5a338c9c334e4eb4ccc1ca4ea5d74e",
       "version_major": 2,
       "version_minor": 0
      },
      "text/plain": [
       "agg_curve_per_score:   0%|          | 0/4 [00:00<?, ?it/s]"
      ]
     },
     "metadata": {},
     "output_type": "display_data"
    },
    {
     "name": "stdout",
     "output_type": "stream",
     "text": [
      "running cross_features_10()...comp\n"
     ]
    },
    {
     "data": {
      "application/vnd.jupyter.widget-view+json": {
       "model_id": "32bb9810fac24575a68bc22d1e1f5a27",
       "version_major": 2,
       "version_minor": 0
      },
      "text/plain": [
       "agg_goal_slope_per_score:   0%|          | 0/4 [00:00<?, ?it/s]"
      ]
     },
     "metadata": {},
     "output_type": "display_data"
    },
    {
     "name": "stdout",
     "output_type": "stream",
     "text": [
      "running cross_features_11()...comp\n"
     ]
    },
    {
     "data": {
      "application/vnd.jupyter.widget-view+json": {
       "model_id": "74608736427e444bb1b9cfd417b16a20",
       "version_major": 2,
       "version_minor": 0
      },
      "text/plain": [
       "agg_stamina_per_score:   0%|          | 0/4 [00:00<?, ?it/s]"
      ]
     },
     "metadata": {},
     "output_type": "display_data"
    },
    {
     "name": "stdout",
     "output_type": "stream",
     "text": [
      "running cross_features_12()...comp\n"
     ]
    },
    {
     "data": {
      "application/vnd.jupyter.widget-view+json": {
       "model_id": "8f040fb2bc4045d2bb8984db6d8381b6",
       "version_major": 2,
       "version_minor": 0
      },
      "text/plain": [
       "agg_pace_per_score:   0%|          | 0/4 [00:00<?, ?it/s]"
      ]
     },
     "metadata": {},
     "output_type": "display_data"
    },
    {
     "data": {
      "application/vnd.jupyter.widget-view+json": {
       "model_id": "2cb9926e83da4ad2b4079f0182be0f9a",
       "version_major": 2,
       "version_minor": 0
      },
      "text/plain": [
       "agg_goal_per_score:   0%|          | 0/4 [00:00<?, ?it/s]"
      ]
     },
     "metadata": {},
     "output_type": "display_data"
    },
    {
     "data": {
      "application/vnd.jupyter.widget-view+json": {
       "model_id": "b5e0fa7c7d2d4bdd945e856db9bc481f",
       "version_major": 2,
       "version_minor": 0
      },
      "text/plain": [
       "agg_curve_per_score:   0%|          | 0/4 [00:00<?, ?it/s]"
      ]
     },
     "metadata": {},
     "output_type": "display_data"
    },
    {
     "data": {
      "application/vnd.jupyter.widget-view+json": {
       "model_id": "7568dcdc26254750a2ec7c274b0d74b6",
       "version_major": 2,
       "version_minor": 0
      },
      "text/plain": [
       "agg_goal_slope_per_score:   0%|          | 0/4 [00:00<?, ?it/s]"
      ]
     },
     "metadata": {},
     "output_type": "display_data"
    },
    {
     "data": {
      "application/vnd.jupyter.widget-view+json": {
       "model_id": "858eb8025d104e4ba76fed88d99ebc5f",
       "version_major": 2,
       "version_minor": 0
      },
      "text/plain": [
       "agg_stamina_per_score:   0%|          | 0/4 [00:00<?, ?it/s]"
      ]
     },
     "metadata": {},
     "output_type": "display_data"
    },
    {
     "name": "stdout",
     "output_type": "stream",
     "text": [
      "running cross_features_13()...comp\n"
     ]
    },
    {
     "data": {
      "application/vnd.jupyter.widget-view+json": {
       "model_id": "c0b837304d1f477490c69d07e29b2293",
       "version_major": 2,
       "version_minor": 0
      },
      "text/plain": [
       "agg_raceclass_rankdiff_per_score:   0%|          | 0/4 [00:00<?, ?it/s]"
      ]
     },
     "metadata": {},
     "output_type": "display_data"
    },
    {
     "name": "stdout",
     "output_type": "stream",
     "text": [
      "running cross_features_14()...comp\n"
     ]
    },
    {
     "data": {
      "application/vnd.jupyter.widget-view+json": {
       "model_id": "57f01083c1c04333b1f67109483c6ba5",
       "version_major": 2,
       "version_minor": 0
      },
      "text/plain": [
       "speed_index:   0%|          | 0/4 [00:00<?, ?it/s]"
      ]
     },
     "metadata": {},
     "output_type": "display_data"
    },
    {
     "name": "stdout",
     "output_type": "stream",
     "text": [
      "running cross_features_15()...comp\n",
      "running cross_features_17()...comp\n",
      "running agg_position_results()...comp\n",
      "running agg_weight_weather()...comp\n",
      "running agg_umaban_good()...comp\n"
     ]
    },
    {
     "data": {
      "application/vnd.jupyter.widget-view+json": {
       "model_id": "2870518f44524d459a6031f6068e4f2f",
       "version_major": 2,
       "version_minor": 0
      },
      "text/plain": [
       "agg_horse_per_ground_state_race_type:   0%|          | 0/4 [00:00<?, ?it/s]"
      ]
     },
     "metadata": {},
     "output_type": "display_data"
    },
    {
     "data": {
      "application/vnd.jupyter.widget-view+json": {
       "model_id": "89e353e269be4ad5821affe9b8a4449e",
       "version_major": 2,
       "version_minor": 0
      },
      "text/plain": [
       "agg_horse_per_race_type:   0%|          | 0/4 [00:00<?, ?it/s]"
      ]
     },
     "metadata": {},
     "output_type": "display_data"
    },
    {
     "data": {
      "application/vnd.jupyter.widget-view+json": {
       "model_id": "4c2275a6e5e946d39598e2c34a808996",
       "version_major": 2,
       "version_minor": 0
      },
      "text/plain": [
       "agg_horse_per_race_place_len:   0%|          | 0/4 [00:00<?, ?it/s]"
      ]
     },
     "metadata": {},
     "output_type": "display_data"
    },
    {
     "name": "stdout",
     "output_type": "stream",
     "text": [
      "merging all features...\n",
      "merging all features...comp\n"
     ]
    }
   ],
   "source": [
    "#_dirt_nowinの特徴量作成\n",
    "fc_dirt_nowin = FeatureCreator(\n",
    "    poplation_filename=\"population_dirt_nowin.csv\",\n",
    "    results_filename=\"results_dirt_nowin.csv\",\n",
    "    race_info_filename=\"race_info_dirt_nowin.csv\",\n",
    "    horse_results_filename=\"horse_results_dirt_nowin.csv\",\n",
    "    output_filename = \"features_dirt_nowin.csv\",\n",
    "    peds_filename = \"peds_dirt_nowin.csv\",\n",
    "    output_filename_info = \"race_info_dirt_nowin.csv\",\n",
    ")\n",
    "features_dirt_nowin = fc_dirt_nowin.create_features()"
   ]
  },
  {
   "cell_type": "code",
   "execution_count": null,
   "metadata": {
    "jupyter": {
     "source_hidden": true
    }
   },
   "outputs": [],
   "source": [
    "# #_dirt_newbieの特徴量作成\n",
    "# fc_dirt_newbie = FeatureCreator(\n",
    "#     poplation_filename=\"population_dirt_newbie.csv\",\n",
    "#     results_filename=\"results_dirt_newbie.csv\",\n",
    "#     race_info_filename=\"race_info_dirt_newbie.csv\",\n",
    "#     horse_results_filename=\"horse_results_dirt_newbie.csv\",\n",
    "#     output_filename = \"features_dirt_newbie.csv\",\n",
    "#     peds_filename = \"peds_dirt_newbie.csv\",\n",
    "#     output_filename_info = \"race_info_dirt_newbie.csv\",\n",
    "# )\n",
    "# features_dirt_newbie = fc_dirt_newbie.create_features()"
   ]
  },
  {
   "cell_type": "code",
   "execution_count": null,
   "metadata": {},
   "outputs": [],
   "source": [
    "#_obstractの特徴量作成\n",
    "fc_obstract = FeatureCreator(\n",
    "    poplation_filename=\"population_obstract.csv\",\n",
    "    results_filename=\"results_obstract.csv\",\n",
    "    race_info_filename=\"race_info_obstract.csv\",\n",
    "    horse_results_filename=\"horse_results_obstract.csv\",\n",
    "    output_filename = \"features_obstract.csv\",\n",
    "    peds_filename = \"peds_obstract.csv\",\n",
    "    output_filename_info = \"race_info_obstract.csv\",\n",
    "\n",
    ")\n",
    "features_obstract = fc_obstract.create_features()"
   ]
  },
  {
   "cell_type": "code",
   "execution_count": null,
   "metadata": {},
   "outputs": [],
   "source": []
  },
  {
   "cell_type": "code",
   "execution_count": null,
   "metadata": {},
   "outputs": [],
   "source": []
  },
  {
   "cell_type": "code",
   "execution_count": null,
   "metadata": {},
   "outputs": [],
   "source": []
  },
  {
   "cell_type": "code",
   "execution_count": null,
   "metadata": {},
   "outputs": [],
   "source": []
  },
  {
   "cell_type": "code",
   "execution_count": null,
   "metadata": {},
   "outputs": [],
   "source": []
  },
  {
   "cell_type": "code",
   "execution_count": null,
   "metadata": {},
   "outputs": [],
   "source": []
  },
  {
   "cell_type": "code",
   "execution_count": null,
   "metadata": {},
   "outputs": [],
   "source": []
  },
  {
   "cell_type": "code",
   "execution_count": null,
   "metadata": {},
   "outputs": [],
   "source": []
  },
  {
   "cell_type": "code",
   "execution_count": null,
   "metadata": {},
   "outputs": [],
   "source": [
    "%autoreload"
   ]
  },
  {
   "cell_type": "markdown",
   "metadata": {},
   "source": [
    "# 学習\n",
    "- 特徴量にオッズを利用したもの、利用していないもの\n",
    "- rank列を二値分類で予測したもの、回帰で予測したもの、time列を予測したもの\n",
    "- ホールドアウト法、cv(クロスバリデーション)を利用したもの\n",
    "- その他、独自の特徴量のみを利用したものなど、さまざまな学習モデルを作成する段階です\n",
    "- config_filepath=\"config_lightgbm_kaiki_odds_removed.yaml\"の部分を変更することで、特徴量やハイパーパラメータを変更できます\n",
    "- 好きな特徴量を選んで、学習させてください（保存先のファイル名の変更も忘れずに）"
   ]
  },
  {
   "cell_type": "markdown",
   "metadata": {
    "jp-MarkdownHeadingCollapsed": true
   },
   "source": [
    "### time"
   ]
  },
  {
   "cell_type": "code",
   "execution_count": null,
   "metadata": {
    "jupyter": {
     "source_hidden": true
    }
   },
   "outputs": [],
   "source": [
    "# # _turfオッズありタイム回帰、クロスバリデーション\n",
    "# trainer = Trainer_lightgbm_time_cv(\n",
    "#     features_filename = \"features_turf.csv\", \n",
    "#     config_filepath=\"config_lightgbm_kaiki.yaml\",\n",
    "# )\n",
    "# evaluation_df = trainer.run(\n",
    "#     n_splits = 5,\n",
    "#     importance_filename=\"importance_lightgbm_time_cv_turf\",\n",
    "#     model_filename=\"model_lightgbm_time_cv_turf.pkl\",\n",
    "#     evaluation_filename=\"evaluation_lightgbm_time_cv_turf.csv\",\n",
    "#     final_model_filename = \"model_lightgbm_time_cv_turf.pkl\"\n",
    "# )"
   ]
  },
  {
   "cell_type": "code",
   "execution_count": null,
   "metadata": {
    "collapsed": true,
    "jupyter": {
     "outputs_hidden": true,
     "source_hidden": true
    }
   },
   "outputs": [],
   "source": [
    "# # _turfオッズと人気を特徴量から省いたタイム、回帰、クロスバリデーション/nopast\n",
    "# trainer = Trainer_lightgbm_time_cv(\n",
    "#     features_filename = \"features_turf.csv\", \n",
    "#     config_filepath=\"config_lightgbm_kaiki_nopast.yaml\",\n",
    "# )\n",
    "# evaluation_df = trainer.run(\n",
    "#     n_splits = 5,\n",
    "#     importance_filename=\"importance_lightgbm_time_cv_nopast_turf\",\n",
    "#     model_filename=\"model_lightgbm_time_cv_nopast_turf.pkl\",\n",
    "#     evaluation_filename=\"evaluation_lightgbm_time_cv_nopast_turf.csv\",\n",
    "#     final_model_filename = \"model_lightgbm_time_cv_full_nopast_turf.pkl\"\n",
    "# )"
   ]
  },
  {
   "cell_type": "code",
   "execution_count": null,
   "metadata": {
    "collapsed": true,
    "jupyter": {
     "outputs_hidden": true,
     "source_hidden": true
    }
   },
   "outputs": [],
   "source": [
    "# # _turfオッズと人気を特徴量から省いたタイム、回帰、クロスバリデーション_dev（最新型を随時更新）\n",
    "# trainer = Trainer_lightgbm_time_cv(\n",
    "#     features_filename = \"features_turf.csv\", \n",
    "#     config_filepath=\"config_lightgbm_kaiki_dev.yaml\",\n",
    "# )\n",
    "# evaluation_df = trainer.run(\n",
    "#     n_splits = 5,\n",
    "#     importance_filename=\"importance_lightgbm_time_cv_dev_turf\",\n",
    "#     model_filename=\"model_lightgbm_time_cv_dev_turf.pkl\",\n",
    "#     evaluation_filename=\"evaluation_lightgbm_time_cv_dev_turf.csv\",\n",
    "#     final_model_filename = \"model_lightgbm_time_cv_full_dev_turf.pkl\"\n",
    "# )"
   ]
  },
  {
   "cell_type": "code",
   "execution_count": null,
   "metadata": {},
   "outputs": [],
   "source": []
  },
  {
   "cell_type": "code",
   "execution_count": null,
   "metadata": {
    "collapsed": true,
    "jupyter": {
     "outputs_hidden": true,
     "source_hidden": true
    }
   },
   "outputs": [],
   "source": [
    "# # _turfオッズと人気を特徴量から省いたindex、クロスバリデーション_dev（最新型を随時更新）\n",
    "# trainer = Trainer_lightgbm_index_cv(\n",
    "#     features_filename = \"features_turf.csv\", \n",
    "#     config_filepath=\"config_lightgbm_kaiki_dev.yaml\",\n",
    "# )\n",
    "# evaluation_df = trainer.run(\n",
    "#     n_splits = 5,\n",
    "#     importance_filename=\"importance_lightgbm_index_cv_dev_turf\",\n",
    "#     model_filename=\"model_lightgbm_index_cv_dev_turf.pkl\",\n",
    "#     evaluation_filename=\"evaluation_lightgbm_index_cv_dev_turf.csv\",\n",
    "#     final_model_filename = \"model_lightgbm_index_cv_full_dev_turf.pkl\"\n",
    "# )"
   ]
  },
  {
   "cell_type": "code",
   "execution_count": null,
   "metadata": {},
   "outputs": [],
   "source": []
  },
  {
   "cell_type": "code",
   "execution_count": null,
   "metadata": {
    "jupyter": {
     "source_hidden": true
    }
   },
   "outputs": [],
   "source": [
    "# #_turf_newbie オッズありタイム回帰、クロスバリデーション\n",
    "# trainer = Trainer_lightgbm_time_cv(\n",
    "#     features_filename = \"features_turf_newbie.csv\", \n",
    "#     config_filepath=\"config_lightgbm_kaiki.yaml\",\n",
    "# )\n",
    "# evaluation_df = trainer.run(\n",
    "#     n_splits = 5,\n",
    "#     importance_filename=\"importance_lightgbm_time_cv_turf_newbie\",\n",
    "#     model_filename=\"model_lightgbm_time_cv_turf_newbie.pkl\",\n",
    "#     evaluation_filename=\"evaluation_lightgbm_time_cv_turf_newbie.csv\",\n",
    "#     final_model_filename = \"model_lightgbm_time_cv_turf_newbie.pkl\"\n",
    "# )"
   ]
  },
  {
   "cell_type": "code",
   "execution_count": null,
   "metadata": {
    "jupyter": {
     "source_hidden": true
    }
   },
   "outputs": [],
   "source": [
    "# # _turf_newbie オッズと人気を特徴量から省いたタイム、回帰、クロスバリデーション/nopast\n",
    "# trainer = Trainer_lightgbm_time_cv(\n",
    "#     features_filename = \"features_turf_newbie.csv\", \n",
    "#     config_filepath=\"config_lightgbm_kaiki_nopast.yaml\",\n",
    "# )\n",
    "# evaluation_df = trainer.run(\n",
    "#     n_splits = 5,\n",
    "#     importance_filename=\"importance_lightgbm_time_cv_nopast_turf_newbie\",\n",
    "#     model_filename=\"model_lightgbm_time_cv_nopast_turf_newbie.pkl\",\n",
    "#     evaluation_filename=\"evaluation_lightgbm_time_cv_nopast_turf_newbie.csv\",\n",
    "#     final_model_filename = \"model_lightgbm_time_cv_full_nopast_turf_newbie.pkl\"\n",
    "# )"
   ]
  },
  {
   "cell_type": "code",
   "execution_count": null,
   "metadata": {
    "jupyter": {
     "source_hidden": true
    }
   },
   "outputs": [],
   "source": [
    "# # _turf_newbie オッズと人気を特徴量から省いたタイム、回帰、クロスバリデーション_dev（最新型を随時更新）\n",
    "# trainer = Trainer_lightgbm_time_cv(\n",
    "#     features_filename = \"features_turf_newbie.csv\", \n",
    "#     config_filepath=\"config_lightgbm_kaiki_dev.yaml\",\n",
    "# )\n",
    "# evaluation_df = trainer.run(\n",
    "#     n_splits = 5,\n",
    "#     importance_filename=\"importance_lightgbm_time_cv_dev_turf_newbie\",\n",
    "#     model_filename=\"model_lightgbm_time_cv_dev_turf_newbie.pkl\",\n",
    "#     evaluation_filename=\"evaluation_lightgbm_time_cv_dev_turf_newbie.csv\",\n",
    "#     final_model_filename = \"model_lightgbm_time_cv_full_dev_turf_newbie.pkl\"\n",
    "# )"
   ]
  },
  {
   "cell_type": "code",
   "execution_count": null,
   "metadata": {},
   "outputs": [],
   "source": []
  },
  {
   "cell_type": "code",
   "execution_count": null,
   "metadata": {
    "jupyter": {
     "source_hidden": true
    }
   },
   "outputs": [],
   "source": [
    "# #_turf_nowin オッズありタイム回帰、クロスバリデーション\n",
    "# trainer = Trainer_lightgbm_time_cv(\n",
    "#     features_filename = \"features_turf_nowin.csv\", \n",
    "#     config_filepath=\"config_lightgbm_kaiki.yaml\",\n",
    "# )\n",
    "# evaluation_df = trainer.run(\n",
    "#     n_splits = 5,\n",
    "#     importance_filename=\"importance_lightgbm_time_cv_turf_nowin\",\n",
    "#     model_filename=\"model_lightgbm_time_cv_turf_nowin.pkl\",\n",
    "#     evaluation_filename=\"evaluation_lightgbm_time_cv_turf_nowin.csv\",\n",
    "#     final_model_filename = \"model_lightgbm_time_cv_turf_nowin.pkl\"\n",
    "# )\n"
   ]
  },
  {
   "cell_type": "code",
   "execution_count": null,
   "metadata": {
    "jupyter": {
     "source_hidden": true
    }
   },
   "outputs": [],
   "source": [
    "# # _turf_nowin オッズと人気を特徴量から省いたタイム、回帰、クロスバリデーション/nopast\n",
    "# trainer = Trainer_lightgbm_time_cv(\n",
    "#     features_filename = \"features_turf_nowin.csv\", \n",
    "#     config_filepath=\"config_lightgbm_kaiki_nopast.yaml\",\n",
    "# )\n",
    "# evaluation_df = trainer.run(\n",
    "#     n_splits = 5,\n",
    "#     importance_filename=\"importance_lightgbm_time_cv_nopast_turf_nowin\",\n",
    "#     model_filename=\"model_lightgbm_time_cv_nopast_turf_nowin.pkl\",\n",
    "#     evaluation_filename=\"evaluation_lightgbm_time_cv_nopast_turf_nowin.csv\",\n",
    "#     final_model_filename = \"model_lightgbm_time_cv_full_nopast_turf_nowin.pkl\"\n",
    "# )"
   ]
  },
  {
   "cell_type": "code",
   "execution_count": null,
   "metadata": {
    "collapsed": true,
    "jupyter": {
     "outputs_hidden": true,
     "source_hidden": true
    }
   },
   "outputs": [],
   "source": [
    "# # _turf_nowin オッズと人気を特徴量から省いたタイム、回帰、クロスバリデーション_dev（最新型を随時更新）\n",
    "# trainer = Trainer_lightgbm_time_cv(\n",
    "#     features_filename = \"features_turf_nowin.csv\", \n",
    "#     config_filepath=\"config_lightgbm_kaiki_dev.yaml\",\n",
    "# )\n",
    "# evaluation_df = trainer.run(\n",
    "#     n_splits = 5,\n",
    "#     importance_filename=\"importance_lightgbm_time_cv_dev_turf_nowin\",\n",
    "#     model_filename=\"model_lightgbm_time_cv_dev_turf_nowin.pkl\",\n",
    "#     evaluation_filename=\"evaluation_lightgbm_time_cv_dev_turf_nowin.csv\",\n",
    "#     final_model_filename = \"model_lightgbm_time_cv_full_dev_turf_nowin.pkl\"\n",
    "# )"
   ]
  },
  {
   "cell_type": "code",
   "execution_count": null,
   "metadata": {},
   "outputs": [],
   "source": []
  },
  {
   "cell_type": "code",
   "execution_count": null,
   "metadata": {},
   "outputs": [],
   "source": []
  },
  {
   "cell_type": "code",
   "execution_count": null,
   "metadata": {},
   "outputs": [],
   "source": []
  },
  {
   "cell_type": "code",
   "execution_count": null,
   "metadata": {},
   "outputs": [],
   "source": []
  },
  {
   "cell_type": "code",
   "execution_count": null,
   "metadata": {},
   "outputs": [],
   "source": []
  },
  {
   "cell_type": "code",
   "execution_count": null,
   "metadata": {
    "jupyter": {
     "source_hidden": true
    }
   },
   "outputs": [],
   "source": [
    "# #_dirt オッズありタイム回帰、クロスバリデーション\n",
    "# trainer = Trainer_lightgbm_time_cv(\n",
    "#     features_filename = \"features_dirt.csv\", \n",
    "#     config_filepath=\"config_lightgbm_kaiki.yaml\",\n",
    "# )\n",
    "# evaluation_df = trainer.run(\n",
    "#     n_splits = 5,\n",
    "#     importance_filename=\"importance_lightgbm_time_cv_dirt\",\n",
    "#     model_filename=\"model_lightgbm_time_cv_dirt.pkl\",\n",
    "#     evaluation_filename=\"evaluation_lightgbm_time_cv_dirt.csv\",\n",
    "#     final_model_filename = \"model_lightgbm_time_cv_dirt.pkl\"\n",
    "# )"
   ]
  },
  {
   "cell_type": "code",
   "execution_count": null,
   "metadata": {
    "jupyter": {
     "source_hidden": true
    }
   },
   "outputs": [],
   "source": [
    "# # _dirt オッズと人気を特徴量から省いたタイム、回帰、クロスバリデーション/nopast\n",
    "# trainer = Trainer_lightgbm_time_cv(\n",
    "#     features_filename = \"features_dirt.csv\", \n",
    "#     config_filepath=\"config_lightgbm_kaiki_nopast.yaml\",\n",
    "# )\n",
    "# evaluation_df = trainer.run(\n",
    "#     n_splits = 5,\n",
    "#     importance_filename=\"importance_lightgbm_time_cv_nopast_dirt\",\n",
    "#     model_filename=\"model_lightgbm_time_cv_nopast_dirt.pkl\",\n",
    "#     evaluation_filename=\"evaluation_lightgbm_time_cv_nopast_dirt.csv\",\n",
    "#     final_model_filename = \"model_lightgbm_time_cv_full_nopast_dirt.pkl\"\n",
    "# )"
   ]
  },
  {
   "cell_type": "code",
   "execution_count": null,
   "metadata": {
    "collapsed": true,
    "jupyter": {
     "outputs_hidden": true,
     "source_hidden": true
    }
   },
   "outputs": [],
   "source": [
    "# # _dirt オッズと人気を特徴量から省いたタイム、回帰、クロスバリデーション_dev（最新型を随時更新）\n",
    "# trainer = Trainer_lightgbm_time_cv(\n",
    "#     features_filename = \"features_dirt.csv\", \n",
    "#     config_filepath=\"config_lightgbm_kaiki_dev_dirt.yaml\",\n",
    "# )\n",
    "# evaluation_df = trainer.run(\n",
    "#     n_splits = 5,\n",
    "#     importance_filename=\"importance_lightgbm_time_cv_dev_dirt\",\n",
    "#     model_filename=\"model_lightgbm_time_cv_dev_dirt.pkl\",\n",
    "#     evaluation_filename=\"evaluation_lightgbm_time_cv_dev_dirt.csv\",\n",
    "#     final_model_filename = \"model_lightgbm_time_cv_full_dev_dirt.pkl\"\n",
    "# )"
   ]
  },
  {
   "cell_type": "code",
   "execution_count": null,
   "metadata": {},
   "outputs": [],
   "source": []
  },
  {
   "cell_type": "code",
   "execution_count": null,
   "metadata": {
    "jupyter": {
     "source_hidden": true
    }
   },
   "outputs": [],
   "source": [
    "# #_dirt_newbie オッズありタイム回帰、クロスバリデーション\n",
    "# trainer = Trainer_lightgbm_time_cv(\n",
    "#     features_filename = \"features_dirt_newbie.csv\", \n",
    "#     config_filepath=\"config_lightgbm_kaiki.yaml\",\n",
    "# )\n",
    "# evaluation_df = trainer.run(\n",
    "#     n_splits = 5,\n",
    "#     importance_filename=\"importance_lightgbm_time_cv_dirt_newbie\",\n",
    "#     model_filename=\"model_lightgbm_time_cv_dirt_newbie.pkl\",\n",
    "#     evaluation_filename=\"evaluation_lightgbm_time_cv_dirt_newbie.csv\",\n",
    "#     final_model_filename = \"model_lightgbm_time_cv_dirt_newbie.pkl\"\n",
    "# )"
   ]
  },
  {
   "cell_type": "code",
   "execution_count": null,
   "metadata": {
    "jupyter": {
     "source_hidden": true
    }
   },
   "outputs": [],
   "source": [
    "# # _dirt_newbie オッズと人気を特徴量から省いたタイム、回帰、クロスバリデーション/nopast\n",
    "# trainer = Trainer_lightgbm_time_cv(\n",
    "#     features_filename = \"features_dirt_newbie.csv\", \n",
    "#     config_filepath=\"config_lightgbm_kaiki_nopast.yaml\",\n",
    "# )\n",
    "# evaluation_df = trainer.run(\n",
    "#     n_splits = 5,\n",
    "#     importance_filename=\"importance_lightgbm_time_cv_nopast_dirt_newbie\",\n",
    "#     model_filename=\"model_lightgbm_time_cv_nopast_dirt_newbie.pkl\",\n",
    "#     evaluation_filename=\"evaluation_lightgbm_time_cv_nopast_dirt_newbie.csv\",\n",
    "#     final_model_filename = \"model_lightgbm_time_cv_full_nopast_dirt_newbie.pkl\"\n",
    "# )"
   ]
  },
  {
   "cell_type": "code",
   "execution_count": null,
   "metadata": {},
   "outputs": [],
   "source": [
    "# # _dirt_newbie オッズと人気を特徴量から省いたタイム、回帰、クロスバリデーション_dev（最新型を随時更新）\n",
    "# trainer = Trainer_lightgbm_time_cv(\n",
    "#     features_filename = \"features_dirt_newbie.csv\", \n",
    "#     config_filepath=\"config_lightgbm_kaiki_dev_dirt.yaml\",\n",
    "# )\n",
    "# evaluation_df = trainer.run(\n",
    "#     n_splits = 5,\n",
    "#     importance_filename=\"importance_lightgbm_time_cv_dev_dirt_newbie\",\n",
    "#     model_filename=\"model_lightgbm_time_cv_dev_dirt_newbie.pkl\",\n",
    "#     evaluation_filename=\"evaluation_lightgbm_time_cv_dev_dirt_newbie.csv\",\n",
    "#     final_model_filename = \"model_lightgbm_time_cv_full_dev_dirt_newbie.pkl\"\n",
    "# )"
   ]
  },
  {
   "cell_type": "code",
   "execution_count": null,
   "metadata": {},
   "outputs": [],
   "source": []
  },
  {
   "cell_type": "code",
   "execution_count": null,
   "metadata": {
    "jupyter": {
     "source_hidden": true
    }
   },
   "outputs": [],
   "source": [
    "# #_dirt_nowin オッズありタイム回帰、クロスバリデーション\n",
    "# trainer = Trainer_lightgbm_time_cv(\n",
    "#     features_filename = \"features_dirt_nowin.csv\", \n",
    "#     config_filepath=\"config_lightgbm_kaiki.yaml\",\n",
    "# )\n",
    "# evaluation_df = trainer.run(\n",
    "#     n_splits = 5,\n",
    "#     importance_filename=\"importance_lightgbm_time_cv_dirt_nowin\",\n",
    "#     model_filename=\"model_lightgbm_time_cv_dirt_nowin.pkl\",\n",
    "#     evaluation_filename=\"evaluation_lightgbm_time_cv_dirt_nowin.csv\",\n",
    "#     final_model_filename = \"model_lightgbm_time_cv_dirt_nowin.pkl\"\n",
    "# )"
   ]
  },
  {
   "cell_type": "code",
   "execution_count": null,
   "metadata": {
    "jupyter": {
     "source_hidden": true
    }
   },
   "outputs": [],
   "source": [
    "# # _dirt_nowin オッズと人気を特徴量から省いたタイム、回帰、クロスバリデーション/nopast\n",
    "# trainer = Trainer_lightgbm_time_cv(\n",
    "#     features_filename = \"features_dirt_nowin.csv\", \n",
    "#     config_filepath=\"config_lightgbm_kaiki_nopast.yaml\",\n",
    "# )\n",
    "# evaluation_df = trainer.run(\n",
    "#     n_splits = 5,\n",
    "#     importance_filename=\"importance_lightgbm_time_cv_nopast_dirt_nowin\",\n",
    "#     model_filename=\"model_lightgbm_time_cv_nopast_dirt_nowin.pkl\",\n",
    "#     evaluation_filename=\"evaluation_lightgbm_time_cv_nopast_dirt_nowin.csv\",\n",
    "#     final_model_filename = \"model_lightgbm_time_cv_full_nopast_dirt_nowin.pkl\"\n",
    "# )\n"
   ]
  },
  {
   "cell_type": "code",
   "execution_count": null,
   "metadata": {
    "collapsed": true,
    "jupyter": {
     "outputs_hidden": true,
     "source_hidden": true
    }
   },
   "outputs": [],
   "source": [
    "# # _dirt_nowin オッズと人気を特徴量から省いたタイム、回帰、クロスバリデーション_dev（最新型を随時更新）\n",
    "# trainer = Trainer_lightgbm_time_cv(\n",
    "#     features_filename = \"features_dirt_nowin.csv\", \n",
    "#     config_filepath=\"config_lightgbm_kaiki_dev_dirt.yaml\",\n",
    "# )\n",
    "# evaluation_df = trainer.run(\n",
    "#     n_splits = 5,\n",
    "#     importance_filename=\"importance_lightgbm_time_cv_dev_dirt_nowin\",\n",
    "#     model_filename=\"model_lightgbm_time_cv_dev_dirt_nowin.pkl\",\n",
    "#     evaluation_filename=\"evaluation_lightgbm_time_cv_dev_dirt_nowin.csv\",\n",
    "#     final_model_filename = \"model_lightgbm_time_cv_full_dev_dirt_nowin.pkl\"\n",
    "# )"
   ]
  },
  {
   "cell_type": "code",
   "execution_count": null,
   "metadata": {},
   "outputs": [],
   "source": []
  },
  {
   "cell_type": "code",
   "execution_count": null,
   "metadata": {
    "jupyter": {
     "source_hidden": true
    }
   },
   "outputs": [],
   "source": [
    "# #_obstract オッズありタイム回帰、クロスバリデーション\n",
    "# trainer = Trainer_lightgbm_time_cv(\n",
    "#     features_filename = \"features_obstract.csv\", \n",
    "#     config_filepath=\"config_lightgbm_kaiki.yaml\",\n",
    "# )\n",
    "# evaluation_df = trainer.run(\n",
    "#     n_splits = 5,\n",
    "#     importance_filename=\"importance_lightgbm_time_cv_obstract\",\n",
    "#     model_filename=\"model_lightgbm_time_cv_obstract.pkl\",\n",
    "#     evaluation_filename=\"evaluation_lightgbm_time_cv_obstract.csv\",\n",
    "#     final_model_filename = \"model_lightgbm_time_cv_obstract.pkl\"\n",
    "# )"
   ]
  },
  {
   "cell_type": "code",
   "execution_count": null,
   "metadata": {
    "jupyter": {
     "source_hidden": true
    }
   },
   "outputs": [],
   "source": [
    "# # _obstract オッズと人気を特徴量から省いたタイム、回帰、クロスバリデーション/nopast\n",
    "# trainer = Trainer_lightgbm_time_cv(\n",
    "#     features_filename = \"features_obstract.csv\", \n",
    "#     config_filepath=\"config_lightgbm_kaiki_nopast.yaml\",\n",
    "# )\n",
    "# evaluation_df = trainer.run(\n",
    "#     n_splits = 5,\n",
    "#     importance_filename=\"importance_lightgbm_time_cv_nopast_obstract\",\n",
    "#     model_filename=\"model_lightgbm_time_cv_nopast_obstract.pkl\",\n",
    "#     evaluation_filename=\"evaluation_lightgbm_time_cv_nopast_obstract.csv\",\n",
    "#     final_model_filename = \"model_lightgbm_time_cv_full_nopast_obstract.pkl\"\n",
    "# )"
   ]
  },
  {
   "cell_type": "code",
   "execution_count": null,
   "metadata": {
    "collapsed": true,
    "jupyter": {
     "outputs_hidden": true
    }
   },
   "outputs": [],
   "source": [
    "# # _obstract オッズと人気を特徴量から省いたタイム、回帰、クロスバリデーション_dev（最新型を随時更新）\n",
    "# trainer = Trainer_lightgbm_time_cv(\n",
    "#     features_filename = \"features_obstract.csv\", \n",
    "#     config_filepath=\"config_lightgbm_kaiki_dev_obstract.yaml\",\n",
    "# )\n",
    "# evaluation_df = trainer.run(\n",
    "#     n_splits = 3,\n",
    "#     importance_filename=\"importance_lightgbm_time_cv_dev_obstract\",\n",
    "#     model_filename=\"model_lightgbm_time_cv_dev_obstract.pkl\",\n",
    "#     evaluation_filename=\"evaluation_lightgbm_time_cv_dev_obstract.csv\",\n",
    "#     final_model_filename = \"model_lightgbm_time_cv_full_dev_obstract.pkl\"\n",
    "# )"
   ]
  },
  {
   "cell_type": "code",
   "execution_count": null,
   "metadata": {},
   "outputs": [],
   "source": []
  },
  {
   "cell_type": "code",
   "execution_count": null,
   "metadata": {},
   "outputs": [],
   "source": []
  },
  {
   "cell_type": "code",
   "execution_count": null,
   "metadata": {},
   "outputs": [],
   "source": []
  },
  {
   "cell_type": "markdown",
   "metadata": {
    "jp-MarkdownHeadingCollapsed": true
   },
   "source": [
    "### speed_index"
   ]
  },
  {
   "cell_type": "code",
   "execution_count": null,
   "metadata": {},
   "outputs": [],
   "source": [
    "# missing_count = features_turf[\"speed_index\"].isna().sum()\n",
    "# print(f\"speed_index の欠損数: {missing_count}\")\n",
    "# # missing_rows = features_dirt[features_dirt[\"speed_index\"].isna()]\n",
    "# # missing_rows[[\"race_id\",\"horse_id\",\"umaban\",\"speed_index\"]].tail(32)\n",
    "\n"
   ]
  },
  {
   "cell_type": "code",
   "execution_count": null,
   "metadata": {},
   "outputs": [],
   "source": [
    "# # オッズと人気を特徴量から省いたランク、芝、クロスバリデーション\n",
    "# trainer = Trainer_lightgbm_time_cv(\n",
    "#     features_filename = \"features_dirt.csv\", \n",
    "#     config_filepath=\"config_lightgbm_kaiki_dev_dirt.yaml\",\n",
    "# )\n",
    "# evaluation_df = trainer.run(\n",
    "#     n_splits = 5,\n",
    "#     importance_filename=\"importance_lightgbm_kaiki_cv_dev_turf\",\n",
    "#     model_filename=\"model_lightgbm_kaiki_cv_dev_turf.pkl\",\n",
    "#     evaluation_filename=\"evaluation_lightgbm_kaiki_cv_dev_turf.csv\",\n",
    "#     final_model_filename = \"model_lightgbm_kaiki_cv_full_dev_turf.pkl\",\n",
    "#     final_num_boost_round = 2000\n",
    "# )"
   ]
  },
  {
   "cell_type": "code",
   "execution_count": null,
   "metadata": {
    "collapsed": true,
    "jupyter": {
     "outputs_hidden": true
    }
   },
   "outputs": [],
   "source": [
    "# # オッズと人気を特徴量から省いたランク、芝、クロスバリデーション\n",
    "# trainer = Trainer_lightgbm_time_cv(\n",
    "#     features_filename = \"features_turf.csv\", \n",
    "#     config_filepath=\"config_lightgbm_kaiki_dev_turf_only_tenkai.yaml\",\n",
    "# )\n",
    "# evaluation_df = trainer.run(\n",
    "#     n_splits = 5,\n",
    "#     importance_filename=\"importance_lightgbm_kaiki_cv_dev_turf\",\n",
    "#     model_filename=\"model_lightgbm_kaiki_cv_dev_turf.pkl\",\n",
    "#     evaluation_filename=\"evaluation_lightgbm_kaiki_cv_dev_turf.csv\",\n",
    "#     final_model_filename = \"model_lightgbm_kaiki_cv_full_dev_turf.pkl\",\n",
    "#     final_num_boost_round = 2000\n",
    "# )"
   ]
  },
  {
   "cell_type": "code",
   "execution_count": null,
   "metadata": {},
   "outputs": [],
   "source": []
  },
  {
   "cell_type": "code",
   "execution_count": null,
   "metadata": {},
   "outputs": [],
   "source": []
  },
  {
   "cell_type": "code",
   "execution_count": null,
   "metadata": {},
   "outputs": [],
   "source": []
  },
  {
   "cell_type": "code",
   "execution_count": null,
   "metadata": {},
   "outputs": [],
   "source": []
  },
  {
   "cell_type": "code",
   "execution_count": null,
   "metadata": {},
   "outputs": [],
   "source": []
  },
  {
   "cell_type": "code",
   "execution_count": null,
   "metadata": {},
   "outputs": [],
   "source": []
  },
  {
   "cell_type": "code",
   "execution_count": null,
   "metadata": {},
   "outputs": [],
   "source": []
  },
  {
   "cell_type": "code",
   "execution_count": null,
   "metadata": {},
   "outputs": [],
   "source": []
  },
  {
   "cell_type": "code",
   "execution_count": null,
   "metadata": {},
   "outputs": [],
   "source": []
  },
  {
   "cell_type": "code",
   "execution_count": null,
   "metadata": {},
   "outputs": [],
   "source": [
    "# # オッズと人気を特徴量から省いた場合_ランク、二値、クロスバリデーション（最終番目）\n",
    "# evaluator = Evaluator_lightgbm_time_kaiki(\n",
    "#     evaluation_filename=\"evaluation_lightgbm_kaiki_cv_dev_turf.csv\",\n",
    "#     return_tables_filename = \"return_tables_dirt.pickle\",\n",
    "# )\n",
    "# evaluator.summarize_box_top_n(n=3,save_filename=\"box_summary_kaiki_dev_turf.csv\")\n",
    "# summary_df_noodds_gbm = evaluator.summarize_box_exp(exp_name=\"lightgbm_kaiki_dev_turf\")\n",
    "# summary_df_noodds_gbm"
   ]
  },
  {
   "cell_type": "code",
   "execution_count": null,
   "metadata": {},
   "outputs": [],
   "source": []
  },
  {
   "cell_type": "code",
   "execution_count": null,
   "metadata": {},
   "outputs": [],
   "source": []
  },
  {
   "cell_type": "code",
   "execution_count": null,
   "metadata": {},
   "outputs": [],
   "source": []
  },
  {
   "cell_type": "code",
   "execution_count": null,
   "metadata": {},
   "outputs": [],
   "source": []
  },
  {
   "cell_type": "code",
   "execution_count": null,
   "metadata": {},
   "outputs": [],
   "source": []
  },
  {
   "cell_type": "code",
   "execution_count": null,
   "metadata": {},
   "outputs": [],
   "source": []
  },
  {
   "cell_type": "code",
   "execution_count": null,
   "metadata": {},
   "outputs": [],
   "source": []
  },
  {
   "cell_type": "code",
   "execution_count": null,
   "metadata": {},
   "outputs": [],
   "source": []
  },
  {
   "cell_type": "code",
   "execution_count": null,
   "metadata": {},
   "outputs": [],
   "source": []
  },
  {
   "cell_type": "markdown",
   "metadata": {},
   "source": [
    "### 二値分類"
   ]
  },
  {
   "cell_type": "code",
   "execution_count": null,
   "metadata": {},
   "outputs": [],
   "source": [
    "# オッズと人気を特徴量から省いたランク、日、クロスバリデーション\n",
    "trainer = Trainer_lightgbm_rank_niti_cv(\n",
    "    \n",
    "    features_filename = \"features_turf.csv\", \n",
    "    config_filepath=\"config_lightgbm_niti_dev_turf.yaml\",\n",
    ")\n",
    "evaluation_df = trainer.run(\n",
    "    n_splits = 5,\n",
    "    importance_filename=\"importance_lightgbm_rank_niti_cv_dev_turf\",\n",
    "    model_filename=\"model_lightgbm_rank_niti_cv_dev_turf.pkl\",\n",
    "    evaluation_filename=\"evaluation_lightgbm_rank_niti_cv_dev_turf.csv\",\n",
    "    final_model_filename = \"model_lightgbm_rank_niti_cv_full_dev_turf.pkl\",\n",
    "    final_num_boost_round = 1000\n",
    ")"
   ]
  },
  {
   "cell_type": "code",
   "execution_count": 6,
   "metadata": {},
   "outputs": [
    {
     "name": "stdout",
     "output_type": "stream",
     "text": [
      "Training fold 1/5...\n",
      "Training until validation scores don't improve for 100 rounds\n",
      "[100]\tvalid_0's binary_logloss: 0.227781\n",
      "[200]\tvalid_0's binary_logloss: 0.221741\n",
      "[300]\tvalid_0's binary_logloss: 0.219725\n",
      "[400]\tvalid_0's binary_logloss: 0.219036\n",
      "[500]\tvalid_0's binary_logloss: 0.21877\n",
      "[600]\tvalid_0's binary_logloss: 0.218984\n",
      "Early stopping, best iteration is:\n",
      "[505]\tvalid_0's binary_logloss: 0.218759\n",
      "-------------------- Metrics --------------------\n",
      "Accuracy: 0.7338\n",
      "Precision: 0.1640\n",
      "Recall: 0.6812\n",
      "F1 Score: 0.2644\n",
      "ROC AUC: 0.7835\n",
      "Training fold 2/5...\n",
      "Training until validation scores don't improve for 100 rounds\n",
      "[600]\tvalid_0's binary_logloss: 0.222017\n",
      "[700]\tvalid_0's binary_logloss: 0.221877\n",
      "[800]\tvalid_0's binary_logloss: 0.221767\n",
      "[900]\tvalid_0's binary_logloss: 0.22182\n",
      "Early stopping, best iteration is:\n",
      "[817]\tvalid_0's binary_logloss: 0.221724\n",
      "-------------------- Metrics --------------------\n",
      "Accuracy: 0.7127\n",
      "Precision: 0.1610\n",
      "Recall: 0.7120\n",
      "F1 Score: 0.2626\n",
      "ROC AUC: 0.7815\n",
      "Training fold 3/5...\n",
      "Training until validation scores don't improve for 100 rounds\n",
      "[900]\tvalid_0's binary_logloss: 0.224096\n",
      "[1000]\tvalid_0's binary_logloss: 0.223782\n",
      "[1100]\tvalid_0's binary_logloss: 0.223667\n",
      "[1200]\tvalid_0's binary_logloss: 0.223641\n",
      "Early stopping, best iteration is:\n",
      "[1177]\tvalid_0's binary_logloss: 0.22357\n",
      "-------------------- Metrics --------------------\n",
      "Accuracy: 0.6936\n",
      "Precision: 0.1528\n",
      "Recall: 0.7231\n",
      "F1 Score: 0.2523\n",
      "ROC AUC: 0.7740\n",
      "Training fold 4/5...\n",
      "Training until validation scores don't improve for 100 rounds\n",
      "[1200]\tvalid_0's binary_logloss: 0.222459\n",
      "[1300]\tvalid_0's binary_logloss: 0.221823\n",
      "[1400]\tvalid_0's binary_logloss: 0.221471\n",
      "[1500]\tvalid_0's binary_logloss: 0.221341\n",
      "[1600]\tvalid_0's binary_logloss: 0.221309\n",
      "[1700]\tvalid_0's binary_logloss: 0.22127\n",
      "Early stopping, best iteration is:\n",
      "[1626]\tvalid_0's binary_logloss: 0.221245\n",
      "-------------------- Metrics --------------------\n",
      "Accuracy: 0.7069\n",
      "Precision: 0.1591\n",
      "Recall: 0.7162\n",
      "F1 Score: 0.2603\n",
      "ROC AUC: 0.7839\n",
      "Training final model using all data...\n",
      "Final model training completed.\n"
     ]
    }
   ],
   "source": [
    "# オッズと人気を特徴量から省いたランク、芝、クロスバリデーション\n",
    "trainer = Trainer_lightgbm_rank_niti_cv(\n",
    "    \n",
    "    features_filename = \"features_dirt.csv\", \n",
    "    config_filepath=\"config_lightgbm_niti_dev_dirt.yaml\",\n",
    ")\n",
    "evaluation_df = trainer.run(\n",
    "    n_splits = 5,\n",
    "    importance_filename=\"importance_lightgbm_rank_niti_cv_dev_dirt\",\n",
    "    model_filename=\"model_lightgbm_rank_niti_cv_dev_dirt.pkl\",\n",
    "    evaluation_filename=\"evaluation_lightgbm_rank_niti_cv_dev_dirt.csv\",\n",
    "    final_model_filename = \"model_lightgbm_rank_niti_cv_full_dev_dirt.pkl\",\n",
    "    final_num_boost_round = 1000\n",
    ")"
   ]
  },
  {
   "cell_type": "code",
   "execution_count": null,
   "metadata": {},
   "outputs": [],
   "source": [
    "# オッズと人気を特徴量から省いたランク、二値、クロスバリデーション\n",
    "trainer = Trainer_lightgbm_rank_niti_cv(\n",
    "    \n",
    "    features_filename = \"features_obstract.csv\", \n",
    "    config_filepath=\"config_lightgbm_niti_dev_obstract.yaml\",\n",
    ")\n",
    "evaluation_df = trainer.run(\n",
    "    n_splits = 3,\n",
    "    importance_filename=\"importance_lightgbm_rank_niti_cv_dev_obstract\",\n",
    "    model_filename=\"model_lightgbm_rank_niti_cv_dev_obstract.pkl\",\n",
    "    evaluation_filename=\"evaluation_lightgbm_rank_niti_cv_dev_obstract.csv\",\n",
    "    final_model_filename = \"model_lightgbm_rank_niti_cv_full_dev_obstract.pkl\"\n",
    ")"
   ]
  },
  {
   "cell_type": "code",
   "execution_count": null,
   "metadata": {},
   "outputs": [],
   "source": [
    "#全体のレースを学習した際、最後のブースト回数よりも多いか確認\n",
    "import lightgbm as lgb\n",
    "import pickle\n",
    "\n",
    "from pathlib import Path\n",
    "DATA_DIR = Path(\"..\", \"data\")\n",
    "INPUT_DIR = DATA_DIR / \"02_features\"\n",
    "OUTPUT_DIR = DATA_DIR / \"03_train\"\n",
    "\n",
    "# モデルの読み込み\n",
    "with open(OUTPUT_DIR/\"model_lightgbm_rank_niti_cv_full_dev_turf.pkl\", \"rb\") as f:\n",
    "    model = pickle.load(f)\n",
    "\n",
    "# ブースト回数の取得\n",
    "num_trees = model.num_trees()\n",
    "\n",
    "print(f\"ブースト回数（num_boost_round）: {num_trees}\")"
   ]
  },
  {
   "cell_type": "code",
   "execution_count": null,
   "metadata": {},
   "outputs": [],
   "source": []
  },
  {
   "cell_type": "code",
   "execution_count": null,
   "metadata": {},
   "outputs": [],
   "source": []
  },
  {
   "cell_type": "code",
   "execution_count": null,
   "metadata": {},
   "outputs": [],
   "source": []
  },
  {
   "cell_type": "markdown",
   "metadata": {},
   "source": [
    "### 未勝利"
   ]
  },
  {
   "cell_type": "code",
   "execution_count": null,
   "metadata": {},
   "outputs": [],
   "source": []
  },
  {
   "cell_type": "code",
   "execution_count": null,
   "metadata": {},
   "outputs": [],
   "source": [
    "\n",
    "trainer = Trainer_lightgbm_rank_niti_cv(\n",
    "    features_filename = \"features_turf_nowin.csv\", \n",
    "    config_filepath=\"config_lightgbm_niti_dev_turf_nowin.yaml\",\n",
    ")\n",
    "evaluation_df = trainer.run(\n",
    "    n_splits = 5,\n",
    "    importance_filename=\"importance_lightgbm_rank_niti_cv_dev_turf_nowin\",\n",
    "    model_filename=\"model_lightgbm_rank_niti_cv_dev_turf_nowin.pkl\",\n",
    "    evaluation_filename=\"evaluation_lightgbm_rank_niti_cv_dev_turf_nowin.csv\",\n",
    "    final_model_filename = \"model_lightgbm_rank_niti_cv_full_dev_turf_nowin.pkl\"\n",
    ")"
   ]
  },
  {
   "cell_type": "code",
   "execution_count": 7,
   "metadata": {},
   "outputs": [
    {
     "name": "stdout",
     "output_type": "stream",
     "text": [
      "Training fold 1/5...\n",
      "Training until validation scores don't improve for 100 rounds\n",
      "[100]\tvalid_0's binary_logloss: 0.217333\n",
      "[200]\tvalid_0's binary_logloss: 0.212146\n",
      "[300]\tvalid_0's binary_logloss: 0.210973\n",
      "[400]\tvalid_0's binary_logloss: 0.21073\n",
      "[500]\tvalid_0's binary_logloss: 0.210913\n",
      "Early stopping, best iteration is:\n",
      "[422]\tvalid_0's binary_logloss: 0.210659\n",
      "-------------------- Metrics --------------------\n",
      "Accuracy: 0.7702\n",
      "Precision: 0.1833\n",
      "Recall: 0.6796\n",
      "F1 Score: 0.2887\n",
      "ROC AUC: 0.8002\n",
      "Training fold 2/5...\n",
      "Training until validation scores don't improve for 100 rounds\n",
      "[500]\tvalid_0's binary_logloss: 0.21185\n",
      "[600]\tvalid_0's binary_logloss: 0.211756\n",
      "Early stopping, best iteration is:\n",
      "[555]\tvalid_0's binary_logloss: 0.211684\n",
      "-------------------- Metrics --------------------\n",
      "Accuracy: 0.7440\n",
      "Precision: 0.1761\n",
      "Recall: 0.7263\n",
      "F1 Score: 0.2834\n",
      "ROC AUC: 0.8054\n",
      "Training fold 3/5...\n",
      "Training until validation scores don't improve for 100 rounds\n",
      "[600]\tvalid_0's binary_logloss: 0.21245\n",
      "[700]\tvalid_0's binary_logloss: 0.212135\n",
      "[800]\tvalid_0's binary_logloss: 0.212071\n",
      "[900]\tvalid_0's binary_logloss: 0.211924\n",
      "[1000]\tvalid_0's binary_logloss: 0.211989\n",
      "Early stopping, best iteration is:\n",
      "[964]\tvalid_0's binary_logloss: 0.211896\n",
      "-------------------- Metrics --------------------\n",
      "Accuracy: 0.7398\n",
      "Precision: 0.1746\n",
      "Recall: 0.7212\n",
      "F1 Score: 0.2811\n",
      "ROC AUC: 0.8085\n",
      "Training fold 4/5...\n",
      "Training until validation scores don't improve for 100 rounds\n",
      "[1000]\tvalid_0's binary_logloss: 0.209709\n",
      "[1100]\tvalid_0's binary_logloss: 0.209435\n",
      "[1200]\tvalid_0's binary_logloss: 0.209232\n",
      "[1300]\tvalid_0's binary_logloss: 0.209272\n",
      "[1400]\tvalid_0's binary_logloss: 0.209242\n",
      "Early stopping, best iteration is:\n",
      "[1342]\tvalid_0's binary_logloss: 0.209171\n",
      "-------------------- Metrics --------------------\n",
      "Accuracy: 0.7561\n",
      "Precision: 0.1840\n",
      "Recall: 0.7265\n",
      "F1 Score: 0.2937\n",
      "ROC AUC: 0.8128\n",
      "Training final model using all data...\n",
      "Final model training completed.\n"
     ]
    }
   ],
   "source": [
    "# オッズと人気を特徴量から省いたランク、回帰、クロスバリデーション\n",
    "trainer = Trainer_lightgbm_rank_niti_cv(\n",
    "    features_filename = \"features_dirt_nowin.csv\", \n",
    "    config_filepath=\"config_lightgbm_niti_dev_dirt_nowin.yaml\",\n",
    ")\n",
    "evaluation_df = trainer.run(\n",
    "    n_splits = 5,\n",
    "    importance_filename=\"importance_lightgbm_rank_niti_cv_dev_dirt_nowin\",\n",
    "    model_filename=\"model_lightgbm_rank_niti_cv_dev_dirt_nowin.pkl\",\n",
    "    evaluation_filename=\"evaluation_lightgbm_rank_niti_cv_dev_dirt_nowin.csv\",\n",
    "    final_model_filename = \"model_lightgbm_rank_niti_cv_full_dev_dirt_nowin.pkl\"\n",
    ")"
   ]
  },
  {
   "cell_type": "code",
   "execution_count": null,
   "metadata": {},
   "outputs": [],
   "source": []
  },
  {
   "cell_type": "code",
   "execution_count": null,
   "metadata": {},
   "outputs": [],
   "source": []
  },
  {
   "cell_type": "markdown",
   "metadata": {},
   "source": [
    "### 体重なし"
   ]
  },
  {
   "cell_type": "code",
   "execution_count": null,
   "metadata": {},
   "outputs": [],
   "source": [
    "# オッズと人気を特徴量から省いたランク、日、クロスバリデーション\n",
    "trainer = Trainer_lightgbm_rank_niti_cv(\n",
    "    \n",
    "    features_filename = \"features_turf.csv\", \n",
    "    config_filepath=\"config_lightgbm_niti_dev_turf_noweight.yaml\",\n",
    ")\n",
    "evaluation_df = trainer.run(\n",
    "    n_splits = 5,\n",
    "    importance_filename=\"importance_lightgbm_rank_niti_cv_dev_turf_noweight\",\n",
    "    model_filename=\"model_lightgbm_rank_niti_cv_dev_turf_noweight.pkl\",\n",
    "    evaluation_filename=\"evaluation_lightgbm_rank_niti_cv_dev_turf_noweight.csv\",\n",
    "    final_model_filename = \"model_lightgbm_rank_niti_cv_full_dev_turf_noweight.pkl\",\n",
    "    final_num_boost_round = 1000\n",
    ")"
   ]
  },
  {
   "cell_type": "code",
   "execution_count": 8,
   "metadata": {},
   "outputs": [
    {
     "name": "stdout",
     "output_type": "stream",
     "text": [
      "Training fold 1/5...\n",
      "Training until validation scores don't improve for 100 rounds\n",
      "[100]\tvalid_0's binary_logloss: 0.227509\n",
      "[200]\tvalid_0's binary_logloss: 0.22172\n",
      "[300]\tvalid_0's binary_logloss: 0.219613\n",
      "[400]\tvalid_0's binary_logloss: 0.219034\n",
      "[500]\tvalid_0's binary_logloss: 0.218815\n",
      "[600]\tvalid_0's binary_logloss: 0.218858\n",
      "Early stopping, best iteration is:\n",
      "[525]\tvalid_0's binary_logloss: 0.218742\n",
      "-------------------- Metrics --------------------\n",
      "Accuracy: 0.7309\n",
      "Precision: 0.1630\n",
      "Recall: 0.6848\n",
      "F1 Score: 0.2633\n",
      "ROC AUC: 0.7838\n",
      "Training fold 2/5...\n",
      "Training until validation scores don't improve for 100 rounds\n",
      "[600]\tvalid_0's binary_logloss: 0.222542\n",
      "[700]\tvalid_0's binary_logloss: 0.222371\n",
      "Early stopping, best iteration is:\n",
      "[666]\tvalid_0's binary_logloss: 0.222282\n",
      "-------------------- Metrics --------------------\n",
      "Accuracy: 0.7164\n",
      "Precision: 0.1619\n",
      "Recall: 0.7061\n",
      "F1 Score: 0.2635\n",
      "ROC AUC: 0.7798\n",
      "Training fold 3/5...\n",
      "Training until validation scores don't improve for 100 rounds\n",
      "[700]\tvalid_0's binary_logloss: 0.224683\n",
      "[800]\tvalid_0's binary_logloss: 0.224155\n",
      "[900]\tvalid_0's binary_logloss: 0.224081\n",
      "[1000]\tvalid_0's binary_logloss: 0.223983\n",
      "[1100]\tvalid_0's binary_logloss: 0.224012\n",
      "Early stopping, best iteration is:\n",
      "[1003]\tvalid_0's binary_logloss: 0.223981\n",
      "-------------------- Metrics --------------------\n",
      "Accuracy: 0.6943\n",
      "Precision: 0.1512\n",
      "Recall: 0.7100\n",
      "F1 Score: 0.2493\n",
      "ROC AUC: 0.7723\n",
      "Training fold 4/5...\n",
      "Training until validation scores don't improve for 100 rounds\n",
      "[1100]\tvalid_0's binary_logloss: 0.222324\n",
      "[1200]\tvalid_0's binary_logloss: 0.221966\n",
      "[1300]\tvalid_0's binary_logloss: 0.221734\n",
      "[1400]\tvalid_0's binary_logloss: 0.221658\n",
      "[1500]\tvalid_0's binary_logloss: 0.221547\n",
      "[1600]\tvalid_0's binary_logloss: 0.221482\n",
      "Early stopping, best iteration is:\n",
      "[1560]\tvalid_0's binary_logloss: 0.221455\n",
      "-------------------- Metrics --------------------\n",
      "Accuracy: 0.6974\n",
      "Precision: 0.1537\n",
      "Recall: 0.7103\n",
      "F1 Score: 0.2527\n",
      "ROC AUC: 0.7823\n",
      "Training final model using all data...\n",
      "Final model training completed.\n"
     ]
    }
   ],
   "source": [
    "# オッズと人気を特徴量から省いたランク、芝、クロスバリデーション\n",
    "trainer = Trainer_lightgbm_rank_niti_cv(\n",
    "    \n",
    "    features_filename = \"features_dirt.csv\", \n",
    "    config_filepath=\"config_lightgbm_niti_dev_dirt_noweight.yaml\",\n",
    ")\n",
    "evaluation_df = trainer.run(\n",
    "    n_splits = 5,\n",
    "    importance_filename=\"importance_lightgbm_rank_niti_cv_dev_dirt_noweight\",\n",
    "    model_filename=\"model_lightgbm_rank_niti_cv_dev_dirt_noweight.pkl\",\n",
    "    evaluation_filename=\"evaluation_lightgbm_rank_niti_cv_dev_dirt_noweight.csv\",\n",
    "    final_model_filename = \"model_lightgbm_rank_niti_cv_full_dev_dirt_noweight.pkl\",\n",
    "    final_num_boost_round = 1000\n",
    ")"
   ]
  },
  {
   "cell_type": "code",
   "execution_count": null,
   "metadata": {},
   "outputs": [],
   "source": [
    "# オッズと人気を特徴量から省いたランク、二値、クロスバリデーション\n",
    "trainer = Trainer_lightgbm_rank_niti_cv(\n",
    "    \n",
    "    features_filename = \"features_obstract.csv\", \n",
    "    config_filepath=\"config_lightgbm_niti_dev_obstract_noweight.yaml\",\n",
    ")\n",
    "evaluation_df = trainer.run(\n",
    "    n_splits = 3,\n",
    "    importance_filename=\"importance_lightgbm_rank_niti_cv_dev_obstract_noweight\",\n",
    "    model_filename=\"model_lightgbm_rank_niti_cv_dev_obstract_noweight.pkl\",\n",
    "    evaluation_filename=\"evaluation_lightgbm_rank_niti_cv_dev_obstract_noweight.csv\",\n",
    "    final_model_filename = \"model_lightgbm_rank_niti_cv_full_dev_obstract_noweight.pkl\"\n",
    ")"
   ]
  },
  {
   "cell_type": "code",
   "execution_count": null,
   "metadata": {},
   "outputs": [],
   "source": [
    "\n",
    "trainer = Trainer_lightgbm_rank_niti_cv(\n",
    "    features_filename = \"features_turf_nowin.csv\", \n",
    "    config_filepath=\"config_lightgbm_niti_dev_turf_nowin_noweight.yaml\",\n",
    ")\n",
    "evaluation_df = trainer.run(\n",
    "    n_splits = 5,\n",
    "    importance_filename=\"importance_lightgbm_rank_niti_cv_dev_turf_nowin_noweight\",\n",
    "    model_filename=\"model_lightgbm_rank_niti_cv_dev_turf_nowin_noweight.pkl\",\n",
    "    evaluation_filename=\"evaluation_lightgbm_rank_niti_cv_dev_turf_nowin_noweight.csv\",\n",
    "    final_model_filename = \"model_lightgbm_rank_niti_cv_full_dev_turf_nowin_noweight.pkl\"\n",
    ")"
   ]
  },
  {
   "cell_type": "code",
   "execution_count": 9,
   "metadata": {},
   "outputs": [
    {
     "name": "stdout",
     "output_type": "stream",
     "text": [
      "Training fold 1/5...\n",
      "Training until validation scores don't improve for 100 rounds\n",
      "[100]\tvalid_0's binary_logloss: 0.217168\n",
      "[200]\tvalid_0's binary_logloss: 0.211969\n",
      "[300]\tvalid_0's binary_logloss: 0.211303\n",
      "[400]\tvalid_0's binary_logloss: 0.211189\n",
      "[500]\tvalid_0's binary_logloss: 0.211297\n",
      "Early stopping, best iteration is:\n",
      "[428]\tvalid_0's binary_logloss: 0.211025\n",
      "-------------------- Metrics --------------------\n",
      "Accuracy: 0.7687\n",
      "Precision: 0.1805\n",
      "Recall: 0.6695\n",
      "F1 Score: 0.2843\n",
      "ROC AUC: 0.7979\n",
      "Training fold 2/5...\n",
      "Training until validation scores don't improve for 100 rounds\n",
      "[500]\tvalid_0's binary_logloss: 0.213474\n",
      "[600]\tvalid_0's binary_logloss: 0.213386\n",
      "Early stopping, best iteration is:\n",
      "[552]\tvalid_0's binary_logloss: 0.21331\n",
      "-------------------- Metrics --------------------\n",
      "Accuracy: 0.7420\n",
      "Precision: 0.1732\n",
      "Recall: 0.7155\n",
      "F1 Score: 0.2789\n",
      "ROC AUC: 0.8001\n",
      "Training fold 3/5...\n",
      "Training until validation scores don't improve for 100 rounds\n",
      "[600]\tvalid_0's binary_logloss: 0.213307\n",
      "[700]\tvalid_0's binary_logloss: 0.212999\n",
      "[800]\tvalid_0's binary_logloss: 0.212823\n",
      "[900]\tvalid_0's binary_logloss: 0.212755\n",
      "[1000]\tvalid_0's binary_logloss: 0.212809\n",
      "[1100]\tvalid_0's binary_logloss: 0.212697\n",
      "[1200]\tvalid_0's binary_logloss: 0.212751\n",
      "Early stopping, best iteration is:\n",
      "[1153]\tvalid_0's binary_logloss: 0.21266\n",
      "-------------------- Metrics --------------------\n",
      "Accuracy: 0.7458\n",
      "Precision: 0.1786\n",
      "Recall: 0.7237\n",
      "F1 Score: 0.2865\n",
      "ROC AUC: 0.8060\n",
      "Training fold 4/5...\n",
      "Training until validation scores don't improve for 100 rounds\n",
      "[1200]\tvalid_0's binary_logloss: 0.211188\n",
      "[1300]\tvalid_0's binary_logloss: 0.210809\n",
      "[1400]\tvalid_0's binary_logloss: 0.210678\n",
      "Early stopping, best iteration is:\n",
      "[1361]\tvalid_0's binary_logloss: 0.210615\n",
      "-------------------- Metrics --------------------\n",
      "Accuracy: 0.7512\n",
      "Precision: 0.1822\n",
      "Recall: 0.7357\n",
      "F1 Score: 0.2921\n",
      "ROC AUC: 0.8092\n",
      "Training final model using all data...\n",
      "Final model training completed.\n"
     ]
    }
   ],
   "source": [
    "# オッズと人気を特徴量から省いたランク、回帰、クロスバリデーション\n",
    "trainer = Trainer_lightgbm_rank_niti_cv(\n",
    "    features_filename = \"features_dirt_nowin.csv\", \n",
    "    config_filepath=\"config_lightgbm_niti_dev_dirt_nowin_noweight.yaml\",\n",
    ")\n",
    "evaluation_df = trainer.run(\n",
    "    n_splits = 5,\n",
    "    importance_filename=\"importance_lightgbm_rank_niti_cv_dev_dirt_nowin_noweight\",\n",
    "    model_filename=\"model_lightgbm_rank_niti_cv_dev_dirt_nowin_noweight.pkl\",\n",
    "    evaluation_filename=\"evaluation_lightgbm_rank_niti_cv_dev_dirt_nowin_noweight.csv\",\n",
    "    final_model_filename = \"model_lightgbm_rank_niti_cv_full_dev_dirt_nowin_noweight.pkl\"\n",
    ")"
   ]
  },
  {
   "cell_type": "code",
   "execution_count": null,
   "metadata": {},
   "outputs": [],
   "source": []
  },
  {
   "cell_type": "code",
   "execution_count": null,
   "metadata": {},
   "outputs": [],
   "source": []
  },
  {
   "cell_type": "code",
   "execution_count": null,
   "metadata": {},
   "outputs": [],
   "source": []
  },
  {
   "cell_type": "markdown",
   "metadata": {
    "jp-MarkdownHeadingCollapsed": true
   },
   "source": [
    "### オッズあり、芝ダート障害・学習"
   ]
  },
  {
   "cell_type": "code",
   "execution_count": null,
   "metadata": {
    "collapsed": true,
    "jupyter": {
     "outputs_hidden": true,
     "source_hidden": true
    }
   },
   "outputs": [],
   "source": [
    "# _turf_dev（最新型を随時更新）\n",
    "trainer = Trainer_lightgbm_time_cv(\n",
    "    features_filename = \"features_turf.csv\", \n",
    "    config_filepath=\"config_lightgbm_kaiki_dev_odds.yaml\",\n",
    ")\n",
    "evaluation_df = trainer.run(\n",
    "    n_splits = 5,\n",
    "    importance_filename=\"importance_lightgbm_time_cv_dev_turf_odds\",\n",
    "    model_filename=\"model_lightgbm_time_cv_dev_turf_odds.pkl\",\n",
    "    evaluation_filename=\"evaluation_lightgbm_time_cv_dev_turf_odds.csv\",\n",
    "    final_model_filename = \"model_lightgbm_time_cv_full_dev_turf_odds.pkl\"\n",
    ")"
   ]
  },
  {
   "cell_type": "code",
   "execution_count": null,
   "metadata": {
    "collapsed": true,
    "jupyter": {
     "outputs_hidden": true,
     "source_hidden": true
    }
   },
   "outputs": [],
   "source": [
    "# _dirt_dev（最新型を随時更新）\n",
    "trainer = Trainer_lightgbm_time_cv(\n",
    "    features_filename = \"features_dirt.csv\", \n",
    "    config_filepath=\"config_lightgbm_kaiki_dev_dirt_odds.yaml\",\n",
    ")\n",
    "evaluation_df = trainer.run(\n",
    "    n_splits = 5,\n",
    "    importance_filename=\"importance_lightgbm_time_cv_dev_dirt_odds\",\n",
    "    model_filename=\"model_lightgbm_time_cv_dev_dirt_odds.pkl\",\n",
    "    evaluation_filename=\"evaluation_lightgbm_time_cv_dev_dirt_odds.csv\",\n",
    "    final_model_filename = \"model_lightgbm_time_cv_full_dev_dir_oddst.pkl\"\n",
    ")"
   ]
  },
  {
   "cell_type": "code",
   "execution_count": null,
   "metadata": {
    "collapsed": true,
    "jupyter": {
     "outputs_hidden": true,
     "source_hidden": true
    }
   },
   "outputs": [],
   "source": [
    "# _obstract_dev（最新型を随時更新）\n",
    "trainer = Trainer_lightgbm_time_cv(\n",
    "    features_filename = \"features_obstract.csv\", \n",
    "    config_filepath=\"config_lightgbm_kaiki_dev_obstract_odds.yaml\",\n",
    ")\n",
    "evaluation_df = trainer.run(\n",
    "    n_splits = 3,\n",
    "    importance_filename=\"importance_lightgbm_time_cv_dev_obstract_odds\",\n",
    "    model_filename=\"model_lightgbm_time_cv_dev_obstract_odds.pkl\",\n",
    "    evaluation_filename=\"evaluation_lightgbm_time_cv_dev_obstract_odds.csv\",\n",
    "    final_model_filename = \"model_lightgbm_time_cv_full_dev_obstract_odds.pkl\"\n",
    ")"
   ]
  },
  {
   "cell_type": "code",
   "execution_count": null,
   "metadata": {},
   "outputs": [],
   "source": []
  },
  {
   "cell_type": "code",
   "execution_count": null,
   "metadata": {},
   "outputs": [],
   "source": []
  },
  {
   "cell_type": "code",
   "execution_count": null,
   "metadata": {},
   "outputs": [],
   "source": []
  },
  {
   "cell_type": "code",
   "execution_count": null,
   "metadata": {},
   "outputs": [],
   "source": []
  },
  {
   "cell_type": "markdown",
   "metadata": {
    "jp-MarkdownHeadingCollapsed": true
   },
   "source": [
    "### 体重あり、onlyモデル、実験"
   ]
  },
  {
   "cell_type": "markdown",
   "metadata": {},
   "source": [
    "####  体重あり芝、1racesなし"
   ]
  },
  {
   "cell_type": "code",
   "execution_count": null,
   "metadata": {},
   "outputs": [],
   "source": [
    "# オッズと人気を特徴量から省いたランク、日、クロスバリデーション\n",
    "trainer = Trainer_lightgbm_rank_niti_cv(\n",
    "    \n",
    "    features_filename = \"features_turf.csv\", \n",
    "    config_filepath=\"config_lightgbm_niti_dev_turf_only.yaml\",\n",
    ")\n",
    "evaluation_df = trainer.run(\n",
    "    n_splits = 5,\n",
    "    importance_filename=\"importance_lightgbm_rank_niti_cv_dev_turf_only\",\n",
    "    model_filename=\"model_lightgbm_rank_niti_cv_dev_turf_only.pkl\",\n",
    "    evaluation_filename=\"evaluation_lightgbm_rank_niti_cv_dev_turf_only.csv\",\n",
    "    final_model_filename = \"model_lightgbm_rank_niti_cv_full_dev_turf_only.pkl\",\n",
    "    final_num_boost_round = 1000\n",
    ")"
   ]
  },
  {
   "cell_type": "code",
   "execution_count": null,
   "metadata": {},
   "outputs": [],
   "source": [
    "# オッズと人気を特徴量から省いた場合_ランク、二値、クロスバリデーション（最終番目）\n",
    "evaluator = Evaluator_lightgbm_rank_niti_cross(\n",
    "    evaluation_filename=\"evaluation_lightgbm_rank_niti_cv_dev_turf_only.csv\",\n",
    "    return_tables_filename = \"return_tables_turf.pickle\",\n",
    ")\n",
    "evaluator.summarize_box_top_n(n=3,save_filename=\"box_summary_rank_niti_cross_dev_turf_only.csv\")\n",
    "summary_df_noodds_gbm = evaluator.summarize_box_exp(exp_name=\"lightgbm_rank_niti_cross_dev_turf_only\")\n",
    "summary_df_noodds_gbm"
   ]
  },
  {
   "cell_type": "code",
   "execution_count": null,
   "metadata": {},
   "outputs": [],
   "source": [
    "# オッズと人気を特徴量から省いた場合_time、回帰、クロスバリデーション（最終番目）_軸\n",
    "evaluator = Evaluator_lightgbm_rank_niti_shaft(\n",
    "    evaluation_filename=\"evaluation_lightgbm_rank_niti_cv_dev_turf_only.csv\",\n",
    "    return_tables_filename = \"return_tables_turf.pickle\",\n",
    ")\n",
    "evaluator.summarize_box_top_n(n=3,save_filename=\"shaft_summary_rank_niti_dev_top3_turf_only.csv\")\n",
    "summary_df_shaft = evaluator.summarize_box_exp(exp_name=\"lightgbm_rank_niti_cross_dev_turf_only\")\n",
    "summary_df_shaft"
   ]
  },
  {
   "cell_type": "code",
   "execution_count": null,
   "metadata": {},
   "outputs": [],
   "source": []
  },
  {
   "cell_type": "code",
   "execution_count": null,
   "metadata": {
    "collapsed": true,
    "jupyter": {
     "outputs_hidden": true,
     "source_hidden": true
    }
   },
   "outputs": [],
   "source": [
    "# オッズと人気を特徴量から省いたランク、芝、クロスバリデーション\n",
    "trainer = Trainer_lightgbm_rank_niti_cv(\n",
    "    \n",
    "    features_filename = \"features_dirt.csv\", \n",
    "    config_filepath=\"config_lightgbm_niti_dev_dirt.yaml\",\n",
    ")\n",
    "evaluation_df = trainer.run(\n",
    "    n_splits = 5,\n",
    "    importance_filename=\"importance_lightgbm_rank_niti_cv_dev_dirt\",\n",
    "    model_filename=\"model_lightgbm_rank_niti_cv_dev_dirt.pkl\",\n",
    "    evaluation_filename=\"evaluation_lightgbm_rank_niti_cv_dev_dirt.csv\",\n",
    "    final_model_filename = \"model_lightgbm_rank_niti_cv_full_dev_dirt.pkl\",\n",
    "    final_num_boost_round = 1200\n",
    ")"
   ]
  },
  {
   "cell_type": "code",
   "execution_count": null,
   "metadata": {
    "collapsed": true,
    "jupyter": {
     "outputs_hidden": true,
     "source_hidden": true
    }
   },
   "outputs": [],
   "source": [
    "# オッズと人気を特徴量から省いた場合_ランク、二値、クロスバリデーション（最終番目）\n",
    "evaluator = Evaluator_lightgbm_rank_niti_cross(\n",
    "    evaluation_filename=\"evaluation_lightgbm_rank_niti_cv_dev_dirt.csv\",\n",
    "    return_tables_filename = \"return_tables_dirt.pickle\",\n",
    ")\n",
    "evaluator.summarize_box_top_n(n=3,save_filename=\"box_summary_rank_niti_cross_dev_dirt.csv\")\n",
    "summary_df_noodds_gbm = evaluator.summarize_box_exp(exp_name=\"lightgbm_rank_niti_cross_dev_dirt\")\n",
    "summary_df_noodds_gbm"
   ]
  },
  {
   "cell_type": "code",
   "execution_count": null,
   "metadata": {},
   "outputs": [],
   "source": []
  },
  {
   "cell_type": "code",
   "execution_count": null,
   "metadata": {},
   "outputs": [],
   "source": []
  },
  {
   "cell_type": "code",
   "execution_count": null,
   "metadata": {},
   "outputs": [],
   "source": []
  },
  {
   "cell_type": "markdown",
   "metadata": {},
   "source": [
    "### only_tenkai"
   ]
  },
  {
   "cell_type": "code",
   "execution_count": null,
   "metadata": {},
   "outputs": [],
   "source": [
    "%autoreload"
   ]
  },
  {
   "cell_type": "code",
   "execution_count": null,
   "metadata": {},
   "outputs": [],
   "source": [
    "# オッズと人気を特徴量から省いたランク、日、クロスバリデーション\n",
    "trainer = Trainer_lightgbm_rank_niti_cv(\n",
    "    \n",
    "    features_filename = \"features_turf.csv\", \n",
    "    config_filepath=\"config_lightgbm_niti_dev_turf_only_tenkai.yaml\",\n",
    ")\n",
    "evaluation_df = trainer.run(\n",
    "    n_splits = 5,\n",
    "    importance_filename=\"importance_lightgbm_rank_niti_cv_dev_turf_only_tenkai\",\n",
    "    model_filename=\"model_lightgbm_rank_niti_cv_dev_turf_only_tenkai.pkl\",\n",
    "    evaluation_filename=\"evaluation_lightgbm_rank_niti_cv_dev_turf_only_tenkai.csv\",\n",
    "    final_model_filename = \"model_lightgbm_rank_niti_cv_full_dev_turf_only_tenkai.pkl\",\n",
    "    final_num_boost_round = 1000\n",
    ")"
   ]
  },
  {
   "cell_type": "code",
   "execution_count": null,
   "metadata": {},
   "outputs": [],
   "source": [
    "# オッズと人気を特徴量から省いたランク、日、クロスバリデーション\n",
    "trainer = Trainer_lightgbm_rank_niti_cv(\n",
    "    \n",
    "    features_filename = \"features_turf_nowin.csv\", \n",
    "    config_filepath=\"config_lightgbm_niti_dev_turf_only_tenkai_nowin.yaml\",\n",
    ")\n",
    "evaluation_df = trainer.run(\n",
    "    n_splits = 5,\n",
    "    importance_filename=\"importance_lightgbm_rank_niti_cv_dev_turf_nowin_only_tenkai\",\n",
    "    model_filename=\"model_lightgbm_rank_niti_cv_dev_turf_nowin_only_tenkai.pkl\",\n",
    "    evaluation_filename=\"evaluation_lightgbm_rank_niti_cv_dev_turf_nowin_only_tenkai.csv\",\n",
    "    final_model_filename = \"model_lightgbm_rank_niti_cv_full_dev_turf_nowin_only_tenkai.pkl\",\n",
    "    final_num_boost_round = 1000\n",
    ")"
   ]
  },
  {
   "cell_type": "code",
   "execution_count": null,
   "metadata": {},
   "outputs": [],
   "source": [
    "# オッズと人気を特徴量から省いたランク、日、クロスバリデーション\n",
    "trainer = Trainer_lightgbm_rank_niti_cv(\n",
    "    \n",
    "    features_filename = \"features_turf.csv\", \n",
    "    config_filepath=\"config_lightgbm_niti_dev_turf_only_tenkai_noweight.yaml\",\n",
    ")\n",
    "evaluation_df = trainer.run(\n",
    "    n_splits = 5,\n",
    "    importance_filename=\"importance_lightgbm_rank_niti_cv_dev_turf_only_tenkai_noweight\",\n",
    "    model_filename=\"model_lightgbm_rank_niti_cv_dev_turf_only_tenkai_noweight.pkl\",\n",
    "    evaluation_filename=\"evaluation_lightgbm_rank_niti_cv_dev_turf_only_tenkai_noweight.csv\",\n",
    "    final_model_filename = \"model_lightgbm_rank_niti_cv_full_dev_turf_only_tenkai_noweight.pkl\",\n",
    "    final_num_boost_round = 1400\n",
    ")"
   ]
  },
  {
   "cell_type": "code",
   "execution_count": null,
   "metadata": {},
   "outputs": [],
   "source": [
    "# オッズと人気を特徴量から省いたランク、日、クロスバリデーション\n",
    "trainer = Trainer_lightgbm_rank_niti_cv(\n",
    "    \n",
    "    features_filename = \"features_turf_nowin.csv\", \n",
    "    config_filepath=\"config_lightgbm_niti_dev_turf_only_tenkai_noweight_nowin.yaml\",\n",
    ")\n",
    "evaluation_df = trainer.run(\n",
    "    n_splits = 5,\n",
    "    importance_filename=\"importance_lightgbm_rank_niti_cv_dev_turf_nowin_only_tenkai_noweight\",\n",
    "    model_filename=\"model_lightgbm_rank_niti_cv_dev_turf_nowin_only_tenkai_noweight.pkl\",\n",
    "    evaluation_filename=\"evaluation_lightgbm_rank_niti_cv_dev_turf_nowin_only_tenkai_noweight.csv\",\n",
    "    final_model_filename = \"model_lightgbm_rank_niti_cv_full_dev_turf_nowin_only_tenkai_noweight.pkl\",\n",
    "    final_num_boost_round = 1000\n",
    ")"
   ]
  },
  {
   "cell_type": "code",
   "execution_count": null,
   "metadata": {},
   "outputs": [],
   "source": []
  },
  {
   "cell_type": "code",
   "execution_count": null,
   "metadata": {},
   "outputs": [],
   "source": [
    "#以下ダート"
   ]
  },
  {
   "cell_type": "code",
   "execution_count": 10,
   "metadata": {},
   "outputs": [
    {
     "name": "stdout",
     "output_type": "stream",
     "text": [
      "Training fold 1/5...\n",
      "Training until validation scores don't improve for 100 rounds\n",
      "[100]\tvalid_0's binary_logloss: 0.232954\n",
      "[200]\tvalid_0's binary_logloss: 0.227174\n",
      "[300]\tvalid_0's binary_logloss: 0.224911\n",
      "[400]\tvalid_0's binary_logloss: 0.224054\n",
      "[500]\tvalid_0's binary_logloss: 0.223805\n",
      "[600]\tvalid_0's binary_logloss: 0.223814\n",
      "Early stopping, best iteration is:\n",
      "[557]\tvalid_0's binary_logloss: 0.223756\n",
      "-------------------- Metrics --------------------\n",
      "Accuracy: 0.6958\n",
      "Precision: 0.1468\n",
      "Recall: 0.6921\n",
      "F1 Score: 0.2422\n",
      "ROC AUC: 0.7637\n",
      "Training fold 2/5...\n",
      "Training until validation scores don't improve for 100 rounds\n",
      "[600]\tvalid_0's binary_logloss: 0.228903\n",
      "[700]\tvalid_0's binary_logloss: 0.228351\n",
      "[800]\tvalid_0's binary_logloss: 0.228098\n",
      "[900]\tvalid_0's binary_logloss: 0.22807\n",
      "Early stopping, best iteration is:\n",
      "[833]\tvalid_0's binary_logloss: 0.228048\n",
      "-------------------- Metrics --------------------\n",
      "Accuracy: 0.6787\n",
      "Precision: 0.1475\n",
      "Recall: 0.7262\n",
      "F1 Score: 0.2452\n",
      "ROC AUC: 0.7610\n",
      "Training fold 3/5...\n",
      "Training until validation scores don't improve for 100 rounds\n",
      "[900]\tvalid_0's binary_logloss: 0.231432\n",
      "[1000]\tvalid_0's binary_logloss: 0.231087\n",
      "[1100]\tvalid_0's binary_logloss: 0.230887\n",
      "[1200]\tvalid_0's binary_logloss: 0.230748\n",
      "[1300]\tvalid_0's binary_logloss: 0.230641\n",
      "Early stopping, best iteration is:\n",
      "[1269]\tvalid_0's binary_logloss: 0.230612\n",
      "-------------------- Metrics --------------------\n",
      "Accuracy: 0.6725\n",
      "Precision: 0.1407\n",
      "Recall: 0.7011\n",
      "F1 Score: 0.2344\n",
      "ROC AUC: 0.7488\n",
      "Training fold 4/5...\n",
      "Training until validation scores don't improve for 100 rounds\n",
      "[1300]\tvalid_0's binary_logloss: 0.229202\n",
      "[1400]\tvalid_0's binary_logloss: 0.2285\n",
      "[1500]\tvalid_0's binary_logloss: 0.228171\n",
      "[1600]\tvalid_0's binary_logloss: 0.228038\n",
      "[1700]\tvalid_0's binary_logloss: 0.227987\n",
      "Early stopping, best iteration is:\n",
      "[1699]\tvalid_0's binary_logloss: 0.227981\n",
      "-------------------- Metrics --------------------\n",
      "Accuracy: 0.6797\n",
      "Precision: 0.1433\n",
      "Recall: 0.6926\n",
      "F1 Score: 0.2375\n",
      "ROC AUC: 0.7586\n",
      "Training final model using all data...\n",
      "Final model training completed.\n"
     ]
    }
   ],
   "source": [
    "# オッズと人気を特徴量から省いたランク、日、クロスバリデーション\n",
    "trainer = Trainer_lightgbm_rank_niti_cv(\n",
    "    \n",
    "    features_filename = \"features_dirt.csv\", \n",
    "    config_filepath=\"config_lightgbm_niti_dev_dirt_only_tenkai.yaml\",\n",
    ")\n",
    "evaluation_df = trainer.run(\n",
    "    n_splits = 5,\n",
    "    importance_filename=\"importance_lightgbm_rank_niti_cv_dev_dirt_only_tenkai\",\n",
    "    model_filename=\"model_lightgbm_rank_niti_cv_dev_dirt_only_tenkai.pkl\",\n",
    "    evaluation_filename=\"evaluation_lightgbm_rank_niti_cv_dev_dirt_only_tenkai.csv\",\n",
    "    final_model_filename = \"model_lightgbm_rank_niti_cv_full_dev_dirt_only_tenkai.pkl\",\n",
    "    final_num_boost_round = 1400\n",
    ")"
   ]
  },
  {
   "cell_type": "code",
   "execution_count": 11,
   "metadata": {},
   "outputs": [
    {
     "name": "stdout",
     "output_type": "stream",
     "text": [
      "Training fold 1/5...\n",
      "Training until validation scores don't improve for 100 rounds\n",
      "[100]\tvalid_0's binary_logloss: 0.233143\n",
      "[200]\tvalid_0's binary_logloss: 0.227358\n",
      "[300]\tvalid_0's binary_logloss: 0.225155\n",
      "[400]\tvalid_0's binary_logloss: 0.224331\n",
      "[500]\tvalid_0's binary_logloss: 0.224137\n",
      "[600]\tvalid_0's binary_logloss: 0.224145\n",
      "[700]\tvalid_0's binary_logloss: 0.224373\n",
      "Early stopping, best iteration is:\n",
      "[626]\tvalid_0's binary_logloss: 0.224119\n",
      "-------------------- Metrics --------------------\n",
      "Accuracy: 0.6991\n",
      "Precision: 0.1478\n",
      "Recall: 0.6897\n",
      "F1 Score: 0.2435\n",
      "ROC AUC: 0.7617\n",
      "Training fold 2/5...\n",
      "Training until validation scores don't improve for 100 rounds\n",
      "[700]\tvalid_0's binary_logloss: 0.229052\n",
      "[800]\tvalid_0's binary_logloss: 0.228696\n",
      "[900]\tvalid_0's binary_logloss: 0.228494\n",
      "[1000]\tvalid_0's binary_logloss: 0.228633\n",
      "Early stopping, best iteration is:\n",
      "[906]\tvalid_0's binary_logloss: 0.228488\n",
      "-------------------- Metrics --------------------\n",
      "Accuracy: 0.6822\n",
      "Precision: 0.1471\n",
      "Recall: 0.7132\n",
      "F1 Score: 0.2438\n",
      "ROC AUC: 0.7594\n",
      "Training fold 3/5...\n",
      "Training until validation scores don't improve for 100 rounds\n",
      "[1000]\tvalid_0's binary_logloss: 0.231763\n",
      "[1100]\tvalid_0's binary_logloss: 0.231536\n",
      "[1200]\tvalid_0's binary_logloss: 0.231337\n",
      "[1300]\tvalid_0's binary_logloss: 0.231373\n",
      "Early stopping, best iteration is:\n",
      "[1202]\tvalid_0's binary_logloss: 0.23132\n",
      "-------------------- Metrics --------------------\n",
      "Accuracy: 0.6666\n",
      "Precision: 0.1387\n",
      "Recall: 0.7029\n",
      "F1 Score: 0.2316\n",
      "ROC AUC: 0.7477\n",
      "Training fold 4/5...\n",
      "Training until validation scores don't improve for 100 rounds\n",
      "[1300]\tvalid_0's binary_logloss: 0.228666\n",
      "[1400]\tvalid_0's binary_logloss: 0.228317\n",
      "[1500]\tvalid_0's binary_logloss: 0.228077\n",
      "[1600]\tvalid_0's binary_logloss: 0.227945\n",
      "[1700]\tvalid_0's binary_logloss: 0.227915\n",
      "Early stopping, best iteration is:\n",
      "[1639]\tvalid_0's binary_logloss: 0.227879\n",
      "-------------------- Metrics --------------------\n",
      "Accuracy: 0.6754\n",
      "Precision: 0.1416\n",
      "Recall: 0.6926\n",
      "F1 Score: 0.2351\n",
      "ROC AUC: 0.7587\n",
      "Training final model using all data...\n",
      "Final model training completed.\n"
     ]
    }
   ],
   "source": [
    "# オッズと人気を特徴量から省いたランク、日、クロスバリデーション\n",
    "trainer = Trainer_lightgbm_rank_niti_cv(\n",
    "    \n",
    "    features_filename = \"features_dirt.csv\", \n",
    "    config_filepath=\"config_lightgbm_niti_dev_dirt_only_tenkai_weight.yaml\",\n",
    ")\n",
    "evaluation_df = trainer.run(\n",
    "    n_splits = 5,\n",
    "    importance_filename=\"importance_lightgbm_rank_niti_cv_dev_dirt_only_tenkai_weight\",\n",
    "    model_filename=\"model_lightgbm_rank_niti_cv_dev_dirt_only_tenkai_weight.pkl\",\n",
    "    evaluation_filename=\"evaluation_lightgbm_rank_niti_cv_dev_dirt_only_tenkai_weight.csv\",\n",
    "    final_model_filename = \"model_lightgbm_rank_niti_cv_full_dev_dirt_only_tenkai_weight.pkl\",\n",
    "    final_num_boost_round = 1500\n",
    ")"
   ]
  },
  {
   "cell_type": "code",
   "execution_count": 12,
   "metadata": {},
   "outputs": [
    {
     "name": "stdout",
     "output_type": "stream",
     "text": [
      "Training fold 1/5...\n",
      "Training until validation scores don't improve for 100 rounds\n",
      "[100]\tvalid_0's binary_logloss: 0.222843\n",
      "[200]\tvalid_0's binary_logloss: 0.218556\n",
      "[300]\tvalid_0's binary_logloss: 0.217832\n",
      "[400]\tvalid_0's binary_logloss: 0.21742\n",
      "Early stopping, best iteration is:\n",
      "[394]\tvalid_0's binary_logloss: 0.217406\n",
      "-------------------- Metrics --------------------\n",
      "Accuracy: 0.7372\n",
      "Precision: 0.1603\n",
      "Recall: 0.6678\n",
      "F1 Score: 0.2586\n",
      "ROC AUC: 0.7766\n",
      "Training fold 2/5...\n",
      "Training until validation scores don't improve for 100 rounds\n",
      "[400]\tvalid_0's binary_logloss: 0.220514\n",
      "[500]\tvalid_0's binary_logloss: 0.219384\n",
      "[600]\tvalid_0's binary_logloss: 0.219177\n",
      "Early stopping, best iteration is:\n",
      "[561]\tvalid_0's binary_logloss: 0.219104\n",
      "-------------------- Metrics --------------------\n",
      "Accuracy: 0.7174\n",
      "Precision: 0.1561\n",
      "Recall: 0.6930\n",
      "F1 Score: 0.2548\n",
      "ROC AUC: 0.7797\n",
      "Training fold 3/5...\n",
      "Training until validation scores don't improve for 100 rounds\n",
      "[600]\tvalid_0's binary_logloss: 0.220352\n",
      "[700]\tvalid_0's binary_logloss: 0.219827\n",
      "[800]\tvalid_0's binary_logloss: 0.219497\n",
      "[900]\tvalid_0's binary_logloss: 0.219365\n",
      "Early stopping, best iteration is:\n",
      "[888]\tvalid_0's binary_logloss: 0.219316\n",
      "-------------------- Metrics --------------------\n",
      "Accuracy: 0.7220\n",
      "Precision: 0.1607\n",
      "Recall: 0.6965\n",
      "F1 Score: 0.2612\n",
      "ROC AUC: 0.7838\n",
      "Training fold 4/5...\n",
      "Training until validation scores don't improve for 100 rounds\n",
      "[900]\tvalid_0's binary_logloss: 0.214252\n",
      "[1000]\tvalid_0's binary_logloss: 0.213871\n",
      "[1100]\tvalid_0's binary_logloss: 0.213701\n",
      "[1200]\tvalid_0's binary_logloss: 0.213657\n",
      "[1300]\tvalid_0's binary_logloss: 0.21371\n",
      "Early stopping, best iteration is:\n",
      "[1210]\tvalid_0's binary_logloss: 0.213644\n",
      "-------------------- Metrics --------------------\n",
      "Accuracy: 0.7361\n",
      "Precision: 0.1730\n",
      "Recall: 0.7357\n",
      "F1 Score: 0.2801\n",
      "ROC AUC: 0.8001\n",
      "Training final model using all data...\n",
      "Final model training completed.\n"
     ]
    }
   ],
   "source": [
    "# オッズと人気を特徴量から省いたランク、日、クロスバリデーション\n",
    "trainer = Trainer_lightgbm_rank_niti_cv(\n",
    "    \n",
    "    features_filename = \"features_dirt_nowin.csv\", \n",
    "    config_filepath=\"config_lightgbm_niti_dev_dirt_only_tenkai_weight.yaml\",\n",
    ")\n",
    "evaluation_df = trainer.run(\n",
    "    n_splits = 5,\n",
    "    importance_filename=\"importance_lightgbm_rank_niti_cv_dev_dirt_nowin_only_tenkai_weight\",\n",
    "    model_filename=\"model_lightgbm_rank_niti_cv_dev_dirt_nowin_only_tenkai_weight.pkl\",\n",
    "    evaluation_filename=\"evaluation_lightgbm_rank_niti_cv_dev_dirt_nowin_only_tenkai_weight.csv\",\n",
    "    final_model_filename = \"model_lightgbm_rank_niti_cv_full_dev_dirt_nowin_only_tenkai_weight.pkl\",\n",
    "    final_num_boost_round = 1000\n",
    ")"
   ]
  },
  {
   "cell_type": "code",
   "execution_count": 13,
   "metadata": {},
   "outputs": [
    {
     "name": "stdout",
     "output_type": "stream",
     "text": [
      "Training fold 1/5...\n",
      "Training until validation scores don't improve for 100 rounds\n",
      "[100]\tvalid_0's binary_logloss: 0.222862\n",
      "[200]\tvalid_0's binary_logloss: 0.218777\n",
      "[300]\tvalid_0's binary_logloss: 0.218041\n",
      "[400]\tvalid_0's binary_logloss: 0.21739\n",
      "[500]\tvalid_0's binary_logloss: 0.217359\n",
      "[600]\tvalid_0's binary_logloss: 0.217463\n",
      "Early stopping, best iteration is:\n",
      "[515]\tvalid_0's binary_logloss: 0.217257\n",
      "-------------------- Metrics --------------------\n",
      "Accuracy: 0.7494\n",
      "Precision: 0.1653\n",
      "Recall: 0.6551\n",
      "F1 Score: 0.2640\n",
      "ROC AUC: 0.7779\n",
      "Training fold 2/5...\n",
      "Training until validation scores don't improve for 100 rounds\n",
      "[600]\tvalid_0's binary_logloss: 0.220326\n",
      "[700]\tvalid_0's binary_logloss: 0.220017\n",
      "Early stopping, best iteration is:\n",
      "[650]\tvalid_0's binary_logloss: 0.219951\n",
      "-------------------- Metrics --------------------\n",
      "Accuracy: 0.7231\n",
      "Precision: 0.1592\n",
      "Recall: 0.6938\n",
      "F1 Score: 0.2590\n",
      "ROC AUC: 0.7779\n",
      "Training fold 3/5...\n",
      "Training until validation scores don't improve for 100 rounds\n",
      "[700]\tvalid_0's binary_logloss: 0.220785\n",
      "[800]\tvalid_0's binary_logloss: 0.220045\n",
      "[900]\tvalid_0's binary_logloss: 0.219836\n",
      "[1000]\tvalid_0's binary_logloss: 0.219604\n",
      "[1100]\tvalid_0's binary_logloss: 0.219666\n",
      "Early stopping, best iteration is:\n",
      "[1016]\tvalid_0's binary_logloss: 0.219563\n",
      "-------------------- Metrics --------------------\n",
      "Accuracy: 0.7188\n",
      "Precision: 0.1589\n",
      "Recall: 0.6957\n",
      "F1 Score: 0.2587\n",
      "ROC AUC: 0.7830\n",
      "Training fold 4/5...\n",
      "Training until validation scores don't improve for 100 rounds\n",
      "[1100]\tvalid_0's binary_logloss: 0.214634\n",
      "[1200]\tvalid_0's binary_logloss: 0.214444\n",
      "[1300]\tvalid_0's binary_logloss: 0.21439\n",
      "Early stopping, best iteration is:\n",
      "[1273]\tvalid_0's binary_logloss: 0.214336\n",
      "-------------------- Metrics --------------------\n",
      "Accuracy: 0.7311\n",
      "Precision: 0.1694\n",
      "Recall: 0.7307\n",
      "F1 Score: 0.2750\n",
      "ROC AUC: 0.7973\n",
      "Training final model using all data...\n",
      "Final model training completed.\n"
     ]
    }
   ],
   "source": [
    "# オッズと人気を特徴量から省いたランク、日、クロスバリデーション\n",
    "trainer = Trainer_lightgbm_rank_niti_cv(\n",
    "    \n",
    "    features_filename = \"features_dirt_nowin.csv\", \n",
    "    config_filepath=\"config_lightgbm_niti_dev_dirt_only_tenkai.yaml\",\n",
    ")\n",
    "evaluation_df = trainer.run(\n",
    "    n_splits = 5,\n",
    "    importance_filename=\"importance_lightgbm_rank_niti_cv_dev_dirt_nowin_only_tenkai\",\n",
    "    model_filename=\"model_lightgbm_rank_niti_cv_dev_dirt_nowin_only_tenkai.pkl\",\n",
    "    evaluation_filename=\"evaluation_lightgbm_rank_niti_cv_dev_dirt_nowin_only_tenkai.csv\",\n",
    "    final_model_filename = \"model_lightgbm_rank_niti_cv_full_dev_dirt_nowin_only_tenkai.pkl\",\n",
    "    final_num_boost_round = 1000\n",
    ")"
   ]
  },
  {
   "cell_type": "code",
   "execution_count": null,
   "metadata": {},
   "outputs": [],
   "source": []
  },
  {
   "cell_type": "code",
   "execution_count": null,
   "metadata": {},
   "outputs": [],
   "source": [
    "\n",
    "\n"
   ]
  },
  {
   "cell_type": "code",
   "execution_count": null,
   "metadata": {},
   "outputs": [],
   "source": []
  },
  {
   "cell_type": "code",
   "execution_count": null,
   "metadata": {},
   "outputs": [],
   "source": []
  },
  {
   "cell_type": "code",
   "execution_count": null,
   "metadata": {},
   "outputs": [],
   "source": []
  },
  {
   "cell_type": "code",
   "execution_count": null,
   "metadata": {},
   "outputs": [],
   "source": []
  },
  {
   "cell_type": "code",
   "execution_count": null,
   "metadata": {},
   "outputs": [],
   "source": [
    "%autoreload"
   ]
  },
  {
   "cell_type": "code",
   "execution_count": null,
   "metadata": {},
   "outputs": [],
   "source": [
    "#芝"
   ]
  },
  {
   "cell_type": "code",
   "execution_count": null,
   "metadata": {},
   "outputs": [],
   "source": [
    "# オッズと人気を特徴量から省いた場合_ランク、二値、クロスバリデーション（最終番目）\n",
    "evaluator = Evaluator_lightgbm_rank_niti_cross(\n",
    "    evaluation_filename=\"evaluation_lightgbm_rank_niti_cv_dev_turf_only_tenkai.csv\",\n",
    "    return_tables_filename = \"return_tables_turf.pickle\",\n",
    ")\n",
    "evaluator.summarize_box_top_n(n=3,save_filename=\"box_summary_rank_niti_cross_dev_turf_only_tenkai.csv\")\n",
    "summary_df_noodds_gbm = evaluator.summarize_box_exp(exp_name=\"lightgbm_rank_niti_cross_dev_turf_only_tenkai\")\n",
    "summary_df_noodds_gbm"
   ]
  },
  {
   "cell_type": "code",
   "execution_count": null,
   "metadata": {
    "jupyter": {
     "source_hidden": true
    }
   },
   "outputs": [],
   "source": [
    "# オッズと人気を特徴量から省いた場合_time、回帰、クロスバリデーション（最終番目）_軸\n",
    "evaluator = Evaluator_lightgbm_rank_niti_shaft(\n",
    "    evaluation_filename=\"evaluation_lightgbm_rank_niti_cv_dev_turf_only_tenkai.csv\",\n",
    "    return_tables_filename = \"return_tables_turf.pickle\",\n",
    ")\n",
    "evaluator.summarize_box_top_n(n=3,save_filename=\"shaft_summary_rank_niti_dev_top3_turf_only_tenkai.csv\")\n",
    "summary_df_shaft = evaluator.summarize_box_exp(exp_name=\"lightgbm_rank_niti_cross_dev_turf_only_tenkai\")\n",
    "summary_df_shaft"
   ]
  },
  {
   "cell_type": "code",
   "execution_count": null,
   "metadata": {},
   "outputs": [],
   "source": [
    "# オッズと人気を特徴量から省いた場合_ランク、二値、クロスバリデーション（最終番目）\n",
    "evaluator = Evaluator_lightgbm_rank_niti_cross(\n",
    "    evaluation_filename=\"evaluation_lightgbm_rank_niti_cv_dev_turf_nowin_only_tenkai.csv\",\n",
    "    return_tables_filename = \"return_tables_turf_nowin.pickle\",\n",
    ")\n",
    "evaluator.summarize_box_top_n(n=3,save_filename=\"box_summary_rank_niti_cross_dev_turf_nowin_only_tenkai.csv\")\n",
    "summary_df_noodds_gbm = evaluator.summarize_box_exp(exp_name=\"lightgbm_rank_niti_cross_dev_turf_nowin_only_tenkai\")\n",
    "summary_df_noodds_gbm"
   ]
  },
  {
   "cell_type": "code",
   "execution_count": null,
   "metadata": {
    "jupyter": {
     "source_hidden": true
    }
   },
   "outputs": [],
   "source": [
    "# オッズと人気を特徴量から省いた場合_time、回帰、クロスバリデーション（最終番目）_軸\n",
    "evaluator = Evaluator_lightgbm_rank_niti_shaft(\n",
    "    evaluation_filename=\"evaluation_lightgbm_rank_niti_cv_dev_turf_nowin_only_tenkai.csv\",\n",
    "    return_tables_filename = \"return_tables_turf_nowin.pickle\",\n",
    ")\n",
    "evaluator.summarize_box_top_n(n=3,save_filename=\"shaft_summary_rank_niti_dev_top3_turf_nowin_only_tenkai.csv\")\n",
    "summary_df_shaft = evaluator.summarize_box_exp(exp_name=\"lightgbm_rank_niti_cross_dev_turf_nowin_only_tenkai\")\n",
    "summary_df_shaft"
   ]
  },
  {
   "cell_type": "code",
   "execution_count": null,
   "metadata": {},
   "outputs": [],
   "source": [
    "# オッズと人気を特徴量から省いた場合_ランク、二値、クロスバリデーション（最終番目）\n",
    "evaluator = Evaluator_lightgbm_rank_niti_cross(\n",
    "    evaluation_filename=\"evaluation_lightgbm_rank_niti_cv_dev_turf_only_tenkai_noweight.csv\",\n",
    "    return_tables_filename = \"return_tables_turf.pickle\",\n",
    ")\n",
    "evaluator.summarize_box_top_n(n=3,save_filename=\"box_summary_rank_niti_cross_dev_turf_only_tenkai_noweight.csv\")\n",
    "summary_df_noodds_gbm = evaluator.summarize_box_exp(exp_name=\"lightgbm_rank_niti_cross_dev_turf_only_tenkai_noweight\")\n",
    "summary_df_noodds_gbm"
   ]
  },
  {
   "cell_type": "code",
   "execution_count": null,
   "metadata": {
    "jupyter": {
     "source_hidden": true
    }
   },
   "outputs": [],
   "source": [
    "# オッズと人気を特徴量から省いた場合_time、回帰、クロスバリデーション（最終番目）_軸\n",
    "evaluator = Evaluator_lightgbm_rank_niti_shaft(\n",
    "    evaluation_filename=\"evaluation_lightgbm_rank_niti_cv_dev_turf_only_tenkai_noweight.csv\",\n",
    "    return_tables_filename = \"return_tables_turf.pickle\",\n",
    ")\n",
    "evaluator.summarize_box_top_n(n=3,save_filename=\"shaft_summary_rank_niti_dev_top3_turf_only_tenkai_noweight.csv\")\n",
    "summary_df_shaft = evaluator.summarize_box_exp(exp_name=\"lightgbm_rank_niti_cross_dev_turf_only_tenkai_noweight\")\n",
    "summary_df_shaft"
   ]
  },
  {
   "cell_type": "code",
   "execution_count": null,
   "metadata": {},
   "outputs": [],
   "source": [
    "# オッズと人気を特徴量から省いた場合_ランク、二値、クロスバリデーション（最終番目）\n",
    "evaluator = Evaluator_lightgbm_rank_niti_cross(\n",
    "    evaluation_filename=\"evaluation_lightgbm_rank_niti_cv_dev_turf_nowin_only_tenkai_noweight.csv\",\n",
    "    return_tables_filename = \"return_tables_turf_nowin.pickle\",\n",
    ")\n",
    "evaluator.summarize_box_top_n(n=3,save_filename=\"box_summary_rank_niti_cross_dev_turf_nowin_only_tenkai_noweight.csv\")\n",
    "summary_df_noodds_gbm = evaluator.summarize_box_exp(exp_name=\"lightgbm_rank_niti_cross_dev_turf_nowin_only_tenkai_noweight\")\n",
    "summary_df_noodds_gbm"
   ]
  },
  {
   "cell_type": "code",
   "execution_count": null,
   "metadata": {
    "jupyter": {
     "source_hidden": true
    }
   },
   "outputs": [],
   "source": [
    "# オッズと人気を特徴量から省いた場合_time、回帰、クロスバリデーション（最終番目）_軸\n",
    "evaluator = Evaluator_lightgbm_rank_niti_shaft(\n",
    "    evaluation_filename=\"evaluation_lightgbm_rank_niti_cv_dev_turf_nowin_only_tenkai_noweight.csv\",\n",
    "    return_tables_filename = \"return_tables_turf_nowin.pickle\",\n",
    ")\n",
    "evaluator.summarize_box_top_n(n=3,save_filename=\"shaft_summary_rank_niti_dev_top3_turf_nowin_only_tenkai_noweight.csv\")\n",
    "summary_df_shaft = evaluator.summarize_box_exp(exp_name=\"lightgbm_rank_niti_cross_dev_turf_nowin_only_tenkai_noweight\")\n",
    "summary_df_shaft"
   ]
  },
  {
   "cell_type": "code",
   "execution_count": null,
   "metadata": {},
   "outputs": [],
   "source": []
  },
  {
   "cell_type": "code",
   "execution_count": null,
   "metadata": {},
   "outputs": [],
   "source": []
  },
  {
   "cell_type": "code",
   "execution_count": null,
   "metadata": {},
   "outputs": [],
   "source": []
  },
  {
   "cell_type": "code",
   "execution_count": null,
   "metadata": {},
   "outputs": [],
   "source": []
  },
  {
   "cell_type": "code",
   "execution_count": null,
   "metadata": {},
   "outputs": [],
   "source": []
  },
  {
   "cell_type": "code",
   "execution_count": null,
   "metadata": {},
   "outputs": [],
   "source": [
    "#以下ダート"
   ]
  },
  {
   "cell_type": "code",
   "execution_count": null,
   "metadata": {},
   "outputs": [],
   "source": [
    "# オッズと人気を特徴量から省いた場合_ランク、二値、クロスバリデーション（最終番目）\n",
    "evaluator = Evaluator_lightgbm_rank_niti_cross(\n",
    "    evaluation_filename=\"evaluation_lightgbm_rank_niti_cv_dev_dirt_only_tenkai_weight.csv\",\n",
    "    return_tables_filename = \"return_tables_dirt.pickle\",\n",
    ")\n",
    "evaluator.summarize_box_top_n(n=3,save_filename=\"box_summary_rank_niti_cross_dev_dirt_only_tenkai_weight.csv\")\n",
    "summary_df_noodds_gbm = evaluator.summarize_box_exp(exp_name=\"lightgbm_rank_niti_cross_dev_dirt_only_tenkai_weight\")\n",
    "summary_df_noodds_gbm"
   ]
  },
  {
   "cell_type": "code",
   "execution_count": null,
   "metadata": {},
   "outputs": [],
   "source": []
  },
  {
   "cell_type": "code",
   "execution_count": null,
   "metadata": {},
   "outputs": [],
   "source": [
    "# オッズと人気を特徴量から省いた場合_ランク、二値、クロスバリデーション（最終番目）\n",
    "evaluator = Evaluator_lightgbm_rank_niti_cross(\n",
    "    evaluation_filename=\"evaluation_lightgbm_rank_niti_cv_dev_dirt_only_tenkai.csv\",\n",
    "    return_tables_filename = \"return_tables_dirt.pickle\",\n",
    ")\n",
    "evaluator.summarize_box_top_n(n=3,save_filename=\"box_summary_rank_niti_cross_dev_dirt_only_tenkai.csv\")\n",
    "summary_df_noodds_gbm = evaluator.summarize_box_exp(exp_name=\"lightgbm_rank_niti_cross_dev_dirt_only_tenkai\")\n",
    "summary_df_noodds_gbm"
   ]
  },
  {
   "cell_type": "code",
   "execution_count": null,
   "metadata": {
    "jupyter": {
     "source_hidden": true
    }
   },
   "outputs": [],
   "source": [
    "# オッズと人気を特徴量から省いた場合_time、回帰、クロスバリデーション（最終番目）_軸\n",
    "evaluator = Evaluator_lightgbm_rank_niti_shaft(\n",
    "    evaluation_filename=\"evaluation_lightgbm_rank_niti_cv_dev_dirt_only_tenkai.csv\",\n",
    "    return_tables_filename = \"return_tables_dirt.pickle\",\n",
    ")\n",
    "evaluator.summarize_box_top_n(n=3,save_filename=\"shaft_summary_rank_niti_dev_top3_dirt_only_tenkai.csv\")\n",
    "summary_df_shaft = evaluator.summarize_box_exp(exp_name=\"lightgbm_rank_niti_cross_dev_dirt_only_tenkai\")\n",
    "summary_df_shaft"
   ]
  },
  {
   "cell_type": "code",
   "execution_count": null,
   "metadata": {},
   "outputs": [],
   "source": [
    "# オッズと人気を特徴量から省いた場合_ランク、二値、クロスバリデーション（最終番目）\n",
    "evaluator = Evaluator_lightgbm_rank_niti_cross(\n",
    "    evaluation_filename=\"evaluation_lightgbm_rank_niti_cv_dev_dirt_nowin_only_tenkai.csv\",\n",
    "    return_tables_filename = \"return_tables_dirt_nowin.pickle\",\n",
    ")\n",
    "evaluator.summarize_box_top_n(n=3,save_filename=\"box_summary_rank_niti_cross_dev_dirt_nowin_only_tenkai.csv\")\n",
    "summary_df_noodds_gbm = evaluator.summarize_box_exp(exp_name=\"lightgbm_rank_niti_cross_dev_dirt_nowin_only_tenkai\")\n",
    "summary_df_noodds_gbm"
   ]
  },
  {
   "cell_type": "code",
   "execution_count": null,
   "metadata": {
    "jupyter": {
     "source_hidden": true
    }
   },
   "outputs": [],
   "source": [
    "# オッズと人気を特徴量から省いた場合_time、回帰、クロスバリデーション（最終番目）_軸\n",
    "evaluator = Evaluator_lightgbm_rank_niti_shaft(\n",
    "    evaluation_filename=\"evaluation_lightgbm_rank_niti_cv_dev_dirt_nowin_only_tenkai.csv\",\n",
    "    return_tables_filename = \"return_tables_dirt_nowin.pickle\",\n",
    ")\n",
    "evaluator.summarize_box_top_n(n=3,save_filename=\"shaft_summary_rank_niti_dev_top3_dirt_nowin_only_tenkai.csv\")\n",
    "summary_df_shaft = evaluator.summarize_box_exp(exp_name=\"lightgbm_rank_niti_cross_dev_dirt_nowin_only_tenkai\")\n",
    "summary_df_shaft"
   ]
  },
  {
   "cell_type": "code",
   "execution_count": null,
   "metadata": {},
   "outputs": [],
   "source": []
  },
  {
   "cell_type": "code",
   "execution_count": null,
   "metadata": {},
   "outputs": [],
   "source": []
  },
  {
   "cell_type": "code",
   "execution_count": null,
   "metadata": {},
   "outputs": [],
   "source": []
  },
  {
   "cell_type": "code",
   "execution_count": null,
   "metadata": {},
   "outputs": [],
   "source": []
  },
  {
   "cell_type": "code",
   "execution_count": null,
   "metadata": {},
   "outputs": [],
   "source": []
  },
  {
   "cell_type": "code",
   "execution_count": null,
   "metadata": {},
   "outputs": [],
   "source": []
  },
  {
   "cell_type": "code",
   "execution_count": null,
   "metadata": {},
   "outputs": [],
   "source": []
  },
  {
   "cell_type": "code",
   "execution_count": null,
   "metadata": {},
   "outputs": [],
   "source": []
  },
  {
   "cell_type": "code",
   "execution_count": null,
   "metadata": {},
   "outputs": [],
   "source": []
  },
  {
   "cell_type": "code",
   "execution_count": null,
   "metadata": {},
   "outputs": [],
   "source": []
  },
  {
   "cell_type": "markdown",
   "metadata": {},
   "source": [
    "### ３位以内モデル"
   ]
  },
  {
   "cell_type": "code",
   "execution_count": null,
   "metadata": {},
   "outputs": [],
   "source": [
    "# オッズと人気を特徴量から省いたランク、日、クロスバリデーション\n",
    "trainer_in3 = Trainer_lightgbm_rank_niti_cv_in3(\n",
    "    features_filename = \"features_turf.csv\", \n",
    "    config_filepath=\"config_lightgbm_niti_dev_turf.yaml\",\n",
    ")\n",
    "evaluation_df = trainer_in3.run(\n",
    "    n_splits = 5,\n",
    "    importance_filename=\"importance_lightgbm_rank_niti_cv_dev_turf_in3\",\n",
    "    model_filename=\"model_lightgbm_rank_niti_cv_dev_turf_in3.pkl\",\n",
    "    evaluation_filename=\"evaluation_lightgbm_rank_niti_cv_dev_turf_in3.csv\",\n",
    "    final_model_filename = \"model_lightgbm_rank_niti_cv_full_dev_turf_in3.pkl\",\n",
    "    final_num_boost_round = 1500\n",
    ")"
   ]
  },
  {
   "cell_type": "code",
   "execution_count": 14,
   "metadata": {},
   "outputs": [
    {
     "name": "stdout",
     "output_type": "stream",
     "text": [
      "Training fold 1/5...\n",
      "Training until validation scores don't improve for 100 rounds\n",
      "[100]\tvalid_0's binary_logloss: 0.455676\n",
      "[200]\tvalid_0's binary_logloss: 0.440355\n",
      "[300]\tvalid_0's binary_logloss: 0.434295\n",
      "[400]\tvalid_0's binary_logloss: 0.43142\n",
      "[500]\tvalid_0's binary_logloss: 0.43003\n",
      "[600]\tvalid_0's binary_logloss: 0.429189\n",
      "[700]\tvalid_0's binary_logloss: 0.428986\n",
      "[800]\tvalid_0's binary_logloss: 0.429041\n",
      "Early stopping, best iteration is:\n",
      "[729]\tvalid_0's binary_logloss: 0.428943\n",
      "-------------------- Metrics --------------------\n",
      "Accuracy: 0.4110\n",
      "Precision: 0.2585\n",
      "Recall: 0.9644\n",
      "F1 Score: 0.4077\n",
      "ROC AUC: 0.7762\n",
      "Training fold 2/5...\n",
      "Training until validation scores don't improve for 100 rounds\n",
      "[800]\tvalid_0's binary_logloss: 0.446076\n",
      "[900]\tvalid_0's binary_logloss: 0.445591\n",
      "[1000]\tvalid_0's binary_logloss: 0.44541\n",
      "[1100]\tvalid_0's binary_logloss: 0.445395\n",
      "Early stopping, best iteration is:\n",
      "[1030]\tvalid_0's binary_logloss: 0.445342\n",
      "-------------------- Metrics --------------------\n",
      "Accuracy: 0.4042\n",
      "Precision: 0.2598\n",
      "Recall: 0.9556\n",
      "F1 Score: 0.4085\n",
      "ROC AUC: 0.7581\n",
      "Training fold 3/5...\n",
      "Training until validation scores don't improve for 100 rounds\n",
      "[1100]\tvalid_0's binary_logloss: 0.439786\n",
      "[1200]\tvalid_0's binary_logloss: 0.439345\n",
      "[1300]\tvalid_0's binary_logloss: 0.43915\n",
      "[1400]\tvalid_0's binary_logloss: 0.439122\n",
      "[1500]\tvalid_0's binary_logloss: 0.43901\n",
      "[1600]\tvalid_0's binary_logloss: 0.438944\n",
      "Early stopping, best iteration is:\n",
      "[1591]\tvalid_0's binary_logloss: 0.438924\n",
      "-------------------- Metrics --------------------\n",
      "Accuracy: 0.4093\n",
      "Precision: 0.2606\n",
      "Recall: 0.9560\n",
      "F1 Score: 0.4095\n",
      "ROC AUC: 0.7671\n",
      "Training fold 4/5...\n",
      "Training until validation scores don't improve for 100 rounds\n",
      "[1600]\tvalid_0's binary_logloss: 0.439928\n",
      "[1700]\tvalid_0's binary_logloss: 0.438854\n",
      "[1800]\tvalid_0's binary_logloss: 0.438509\n",
      "[1900]\tvalid_0's binary_logloss: 0.438308\n",
      "[2000]\tvalid_0's binary_logloss: 0.438133\n",
      "[2100]\tvalid_0's binary_logloss: 0.438046\n",
      "[2200]\tvalid_0's binary_logloss: 0.438059\n",
      "[2300]\tvalid_0's binary_logloss: 0.438014\n",
      "[2400]\tvalid_0's binary_logloss: 0.437867\n",
      "[2500]\tvalid_0's binary_logloss: 0.437784\n",
      "[2600]\tvalid_0's binary_logloss: 0.437717\n",
      "[2700]\tvalid_0's binary_logloss: 0.437722\n",
      "Early stopping, best iteration is:\n",
      "[2626]\tvalid_0's binary_logloss: 0.437692\n",
      "-------------------- Metrics --------------------\n",
      "Accuracy: 0.4186\n",
      "Precision: 0.2650\n",
      "Recall: 0.9563\n",
      "F1 Score: 0.4150\n",
      "ROC AUC: 0.7718\n",
      "Training final model using all data...\n",
      "Final model training completed.\n"
     ]
    }
   ],
   "source": [
    "# オッズと人気を特徴量から省いたランク、芝、クロスバリデーション\n",
    "trainer = Trainer_lightgbm_rank_niti_cv_in3(\n",
    "    \n",
    "    features_filename = \"features_dirt.csv\", \n",
    "    config_filepath=\"config_lightgbm_niti_dev_dirt.yaml\",\n",
    ")\n",
    "evaluation_df = trainer.run(\n",
    "    n_splits = 5,\n",
    "    importance_filename=\"importance_lightgbm_rank_niti_cv_dev_dirt_in3\",\n",
    "    model_filename=\"model_lightgbm_rank_niti_cv_dev_dirt_in3.pkl\",\n",
    "    evaluation_filename=\"evaluation_lightgbm_rank_niti_cv_dev_dirt_in3.csv\",\n",
    "    final_model_filename = \"model_lightgbm_rank_niti_cv_full_dev_dirt_in3.pkl\",\n",
    "    final_num_boost_round = 1500\n",
    ")"
   ]
  },
  {
   "cell_type": "code",
   "execution_count": null,
   "metadata": {},
   "outputs": [],
   "source": [
    "# オッズと人気を特徴量から省いたランク、二値、クロスバリデーション\n",
    "trainer = Trainer_lightgbm_rank_niti_cv_in3(\n",
    "    \n",
    "    features_filename = \"features_obstract.csv\", \n",
    "    config_filepath=\"config_lightgbm_niti_dev_obstract.yaml\",\n",
    ")\n",
    "evaluation_df = trainer.run(\n",
    "    n_splits = 3,\n",
    "    importance_filename=\"importance_lightgbm_rank_niti_cv_dev_obstract_in3\",\n",
    "    model_filename=\"model_lightgbm_rank_niti_cv_dev_obstract_in3.pkl\",\n",
    "    evaluation_filename=\"evaluation_lightgbm_rank_niti_cv_dev_obstract_in3.csv\",\n",
    "    final_model_filename = \"model_lightgbm_rank_niti_cv_full_dev_obstract_in3.pkl\"\n",
    ")"
   ]
  },
  {
   "cell_type": "code",
   "execution_count": null,
   "metadata": {},
   "outputs": [],
   "source": []
  },
  {
   "cell_type": "code",
   "execution_count": null,
   "metadata": {},
   "outputs": [],
   "source": [
    "\n",
    "trainer = Trainer_lightgbm_rank_niti_cv_in3(\n",
    "    features_filename = \"features_turf_nowin.csv\", \n",
    "    config_filepath=\"config_lightgbm_niti_dev_turf_nowin.yaml\",\n",
    ")\n",
    "evaluation_df = trainer.run(\n",
    "    n_splits = 5,\n",
    "    importance_filename=\"importance_lightgbm_rank_niti_cv_dev_turf_nowin_in3\",\n",
    "    model_filename=\"model_lightgbm_rank_niti_cv_dev_turf_nowin_in3.pkl\",\n",
    "    evaluation_filename=\"evaluation_lightgbm_rank_niti_cv_dev_turf_nowin_in3.csv\",\n",
    "    final_model_filename = \"model_lightgbm_rank_niti_cv_full_dev_turf_nowin_in3.pkl\"\n",
    ")"
   ]
  },
  {
   "cell_type": "code",
   "execution_count": 15,
   "metadata": {},
   "outputs": [
    {
     "name": "stdout",
     "output_type": "stream",
     "text": [
      "Training fold 1/5...\n",
      "Training until validation scores don't improve for 100 rounds\n",
      "[100]\tvalid_0's binary_logloss: 0.423778\n",
      "[200]\tvalid_0's binary_logloss: 0.406849\n",
      "[300]\tvalid_0's binary_logloss: 0.402099\n",
      "[400]\tvalid_0's binary_logloss: 0.400378\n",
      "[500]\tvalid_0's binary_logloss: 0.400019\n",
      "[600]\tvalid_0's binary_logloss: 0.39999\n",
      "[700]\tvalid_0's binary_logloss: 0.400344\n",
      "Early stopping, best iteration is:\n",
      "[611]\tvalid_0's binary_logloss: 0.399967\n",
      "-------------------- Metrics --------------------\n",
      "Accuracy: 0.5325\n",
      "Precision: 0.2966\n",
      "Recall: 0.9297\n",
      "F1 Score: 0.4497\n",
      "ROC AUC: 0.8106\n",
      "Training fold 2/5...\n",
      "Training until validation scores don't improve for 100 rounds\n",
      "[700]\tvalid_0's binary_logloss: 0.400342\n",
      "[800]\tvalid_0's binary_logloss: 0.400082\n",
      "Early stopping, best iteration is:\n",
      "[776]\tvalid_0's binary_logloss: 0.400011\n",
      "-------------------- Metrics --------------------\n",
      "Accuracy: 0.5020\n",
      "Precision: 0.2885\n",
      "Recall: 0.9452\n",
      "F1 Score: 0.4421\n",
      "ROC AUC: 0.8136\n",
      "Training fold 3/5...\n",
      "Training until validation scores don't improve for 100 rounds\n",
      "[800]\tvalid_0's binary_logloss: 0.405036\n",
      "[900]\tvalid_0's binary_logloss: 0.404159\n",
      "[1000]\tvalid_0's binary_logloss: 0.403734\n",
      "[1100]\tvalid_0's binary_logloss: 0.403553\n",
      "[1200]\tvalid_0's binary_logloss: 0.403285\n",
      "[1300]\tvalid_0's binary_logloss: 0.403253\n",
      "Early stopping, best iteration is:\n",
      "[1209]\tvalid_0's binary_logloss: 0.403224\n",
      "-------------------- Metrics --------------------\n",
      "Accuracy: 0.5139\n",
      "Precision: 0.2954\n",
      "Recall: 0.9359\n",
      "F1 Score: 0.4491\n",
      "ROC AUC: 0.8139\n",
      "Training fold 4/5...\n",
      "Training until validation scores don't improve for 100 rounds\n",
      "[1300]\tvalid_0's binary_logloss: 0.406491\n",
      "[1400]\tvalid_0's binary_logloss: 0.406124\n",
      "[1500]\tvalid_0's binary_logloss: 0.406006\n",
      "[1600]\tvalid_0's binary_logloss: 0.405927\n",
      "[1700]\tvalid_0's binary_logloss: 0.405877\n",
      "[1800]\tvalid_0's binary_logloss: 0.405854\n",
      "Early stopping, best iteration is:\n",
      "[1738]\tvalid_0's binary_logloss: 0.405804\n",
      "-------------------- Metrics --------------------\n",
      "Accuracy: 0.5250\n",
      "Precision: 0.2978\n",
      "Recall: 0.9333\n",
      "F1 Score: 0.4515\n",
      "ROC AUC: 0.8084\n",
      "Training final model using all data...\n",
      "Final model training completed.\n"
     ]
    }
   ],
   "source": [
    "# オッズと人気を特徴量から省いたランク、回帰、クロスバリデーション\n",
    "trainer = Trainer_lightgbm_rank_niti_cv_in3(\n",
    "    features_filename = \"features_dirt_nowin.csv\", \n",
    "    config_filepath=\"config_lightgbm_niti_dev_dirt_nowin.yaml\",\n",
    ")\n",
    "evaluation_df = trainer.run(\n",
    "    n_splits = 5,\n",
    "    importance_filename=\"importance_lightgbm_rank_niti_cv_dev_dirt_nowin_in3\",\n",
    "    model_filename=\"model_lightgbm_rank_niti_cv_dev_dirt_nowin_in3.pkl\",\n",
    "    evaluation_filename=\"evaluation_lightgbm_rank_niti_cv_dev_dirt_nowin_in3.csv\",\n",
    "    final_model_filename = \"model_lightgbm_rank_niti_cv_full_dev_dirt_nowin_in3.pkl\"\n",
    ")"
   ]
  },
  {
   "cell_type": "code",
   "execution_count": null,
   "metadata": {},
   "outputs": [],
   "source": []
  },
  {
   "cell_type": "code",
   "execution_count": null,
   "metadata": {},
   "outputs": [],
   "source": []
  },
  {
   "cell_type": "code",
   "execution_count": null,
   "metadata": {},
   "outputs": [],
   "source": [
    "#体重なし"
   ]
  },
  {
   "cell_type": "code",
   "execution_count": null,
   "metadata": {},
   "outputs": [],
   "source": [
    "# オッズと人気を特徴量から省いたランク、日、クロスバリデーション\n",
    "trainer = Trainer_lightgbm_rank_niti_cv_in3(\n",
    "    \n",
    "    features_filename = \"features_turf.csv\", \n",
    "    config_filepath=\"config_lightgbm_niti_dev_turf_noweight.yaml\",\n",
    ")\n",
    "evaluation_df = trainer.run(\n",
    "    n_splits = 5,\n",
    "    importance_filename=\"importance_lightgbm_rank_niti_cv_dev_turf_noweight_in3\",\n",
    "    model_filename=\"model_lightgbm_rank_niti_cv_dev_turf_noweight_in3.pkl\",\n",
    "    evaluation_filename=\"evaluation_lightgbm_rank_niti_cv_dev_turf_noweight_in3.csv\",\n",
    "    final_model_filename = \"model_lightgbm_rank_niti_cv_full_dev_turf_noweight_in3.pkl\",\n",
    "    final_num_boost_round = 1500\n",
    ")"
   ]
  },
  {
   "cell_type": "code",
   "execution_count": 16,
   "metadata": {},
   "outputs": [
    {
     "name": "stdout",
     "output_type": "stream",
     "text": [
      "Training fold 1/5...\n",
      "Training until validation scores don't improve for 100 rounds\n",
      "[100]\tvalid_0's binary_logloss: 0.455684\n",
      "[200]\tvalid_0's binary_logloss: 0.440466\n",
      "[300]\tvalid_0's binary_logloss: 0.434431\n",
      "[400]\tvalid_0's binary_logloss: 0.431677\n",
      "[500]\tvalid_0's binary_logloss: 0.430151\n",
      "[600]\tvalid_0's binary_logloss: 0.429511\n",
      "[700]\tvalid_0's binary_logloss: 0.429339\n",
      "[800]\tvalid_0's binary_logloss: 0.429327\n",
      "Early stopping, best iteration is:\n",
      "[703]\tvalid_0's binary_logloss: 0.429308\n",
      "-------------------- Metrics --------------------\n",
      "Accuracy: 0.4094\n",
      "Precision: 0.2577\n",
      "Recall: 0.9628\n",
      "F1 Score: 0.4066\n",
      "ROC AUC: 0.7758\n",
      "Training fold 2/5...\n",
      "Training until validation scores don't improve for 100 rounds\n",
      "[800]\tvalid_0's binary_logloss: 0.446362\n",
      "[900]\tvalid_0's binary_logloss: 0.445949\n",
      "[1000]\tvalid_0's binary_logloss: 0.445752\n",
      "[1100]\tvalid_0's binary_logloss: 0.445685\n",
      "[1200]\tvalid_0's binary_logloss: 0.445858\n",
      "Early stopping, best iteration is:\n",
      "[1106]\tvalid_0's binary_logloss: 0.44567\n",
      "-------------------- Metrics --------------------\n",
      "Accuracy: 0.4031\n",
      "Precision: 0.2594\n",
      "Recall: 0.9556\n",
      "F1 Score: 0.4080\n",
      "ROC AUC: 0.7573\n",
      "Training fold 3/5...\n",
      "Training until validation scores don't improve for 100 rounds\n",
      "[1200]\tvalid_0's binary_logloss: 0.439813\n",
      "[1300]\tvalid_0's binary_logloss: 0.439338\n",
      "[1400]\tvalid_0's binary_logloss: 0.439117\n",
      "[1500]\tvalid_0's binary_logloss: 0.438961\n",
      "[1600]\tvalid_0's binary_logloss: 0.438945\n",
      "[1700]\tvalid_0's binary_logloss: 0.438784\n",
      "[1800]\tvalid_0's binary_logloss: 0.438734\n",
      "Early stopping, best iteration is:\n",
      "[1783]\tvalid_0's binary_logloss: 0.438715\n",
      "-------------------- Metrics --------------------\n",
      "Accuracy: 0.4111\n",
      "Precision: 0.2612\n",
      "Recall: 0.9562\n",
      "F1 Score: 0.4103\n",
      "ROC AUC: 0.7672\n",
      "Training fold 4/5...\n",
      "Training until validation scores don't improve for 100 rounds\n",
      "[1800]\tvalid_0's binary_logloss: 0.440061\n",
      "[1900]\tvalid_0's binary_logloss: 0.439007\n",
      "[2000]\tvalid_0's binary_logloss: 0.438552\n",
      "[2100]\tvalid_0's binary_logloss: 0.438356\n",
      "[2200]\tvalid_0's binary_logloss: 0.43833\n",
      "[2300]\tvalid_0's binary_logloss: 0.438176\n",
      "[2400]\tvalid_0's binary_logloss: 0.438114\n",
      "[2500]\tvalid_0's binary_logloss: 0.438074\n",
      "[2600]\tvalid_0's binary_logloss: 0.438049\n",
      "Early stopping, best iteration is:\n",
      "[2569]\tvalid_0's binary_logloss: 0.438022\n",
      "-------------------- Metrics --------------------\n",
      "Accuracy: 0.4180\n",
      "Precision: 0.2647\n",
      "Recall: 0.9555\n",
      "F1 Score: 0.4145\n",
      "ROC AUC: 0.7711\n",
      "Training final model using all data...\n",
      "Final model training completed.\n"
     ]
    }
   ],
   "source": [
    "# オッズと人気を特徴量から省いたランク、芝、クロスバリデーション\n",
    "trainer = Trainer_lightgbm_rank_niti_cv_in3(\n",
    "    \n",
    "    features_filename = \"features_dirt.csv\", \n",
    "    config_filepath=\"config_lightgbm_niti_dev_dirt_noweight.yaml\",\n",
    ")\n",
    "evaluation_df = trainer.run(\n",
    "    n_splits = 5,\n",
    "    importance_filename=\"importance_lightgbm_rank_niti_cv_dev_dirt_noweight_in3\",\n",
    "    model_filename=\"model_lightgbm_rank_niti_cv_dev_dirt_noweight_in3.pkl\",\n",
    "    evaluation_filename=\"evaluation_lightgbm_rank_niti_cv_dev_dirt_noweight_in3.csv\",\n",
    "    final_model_filename = \"model_lightgbm_rank_niti_cv_full_dev_dirt_noweight_in3.pkl\",\n",
    "    final_num_boost_round = 1500\n",
    ")"
   ]
  },
  {
   "cell_type": "code",
   "execution_count": null,
   "metadata": {},
   "outputs": [],
   "source": [
    "# オッズと人気を特徴量から省いたランク、二値、クロスバリデーション\n",
    "trainer = Trainer_lightgbm_rank_niti_cv_in3(\n",
    "    \n",
    "    features_filename = \"features_obstract.csv\", \n",
    "    config_filepath=\"config_lightgbm_niti_dev_obstract_noweight.yaml\",\n",
    ")\n",
    "evaluation_df = trainer.run(\n",
    "    n_splits = 3,\n",
    "    importance_filename=\"importance_lightgbm_rank_niti_cv_dev_obstract_noweight_in3\",\n",
    "    model_filename=\"model_lightgbm_rank_niti_cv_dev_obstract_noweight_in3.pkl\",\n",
    "    evaluation_filename=\"evaluation_lightgbm_rank_niti_cv_dev_obstract_noweight_in3.csv\",\n",
    "    final_model_filename = \"model_lightgbm_rank_niti_cv_full_dev_obstract_noweight_in3.pkl\"\n",
    ")"
   ]
  },
  {
   "cell_type": "code",
   "execution_count": null,
   "metadata": {},
   "outputs": [],
   "source": [
    "trainer = Trainer_lightgbm_rank_niti_cv_in3(\n",
    "    features_filename = \"features_turf_nowin.csv\", \n",
    "    config_filepath=\"config_lightgbm_niti_dev_turf_nowin_noweight.yaml\",\n",
    ")\n",
    "evaluation_df = trainer.run(\n",
    "    n_splits = 5,\n",
    "    importance_filename=\"importance_lightgbm_rank_niti_cv_dev_turf_nowin_noweight_in3\",\n",
    "    model_filename=\"model_lightgbm_rank_niti_cv_dev_turf_nowin_noweight_in3.pkl\",\n",
    "    evaluation_filename=\"evaluation_lightgbm_rank_niti_cv_dev_turf_nowin_noweight_in3.csv\",\n",
    "    final_model_filename = \"model_lightgbm_rank_niti_cv_full_dev_turf_nowin_noweight_in3.pkl\"\n",
    ")"
   ]
  },
  {
   "cell_type": "code",
   "execution_count": 17,
   "metadata": {},
   "outputs": [
    {
     "name": "stdout",
     "output_type": "stream",
     "text": [
      "Training fold 1/5...\n",
      "Training until validation scores don't improve for 100 rounds\n",
      "[100]\tvalid_0's binary_logloss: 0.423901\n",
      "[200]\tvalid_0's binary_logloss: 0.40775\n",
      "[300]\tvalid_0's binary_logloss: 0.403315\n",
      "[400]\tvalid_0's binary_logloss: 0.401579\n",
      "[500]\tvalid_0's binary_logloss: 0.400925\n",
      "[600]\tvalid_0's binary_logloss: 0.400925\n",
      "[700]\tvalid_0's binary_logloss: 0.401136\n",
      "Early stopping, best iteration is:\n",
      "[627]\tvalid_0's binary_logloss: 0.400828\n",
      "-------------------- Metrics --------------------\n",
      "Accuracy: 0.5308\n",
      "Precision: 0.2955\n",
      "Recall: 0.9272\n",
      "F1 Score: 0.4481\n",
      "ROC AUC: 0.8094\n",
      "Training fold 2/5...\n",
      "Training until validation scores don't improve for 100 rounds\n",
      "[700]\tvalid_0's binary_logloss: 0.403351\n",
      "[800]\tvalid_0's binary_logloss: 0.403257\n",
      "[900]\tvalid_0's binary_logloss: 0.403214\n",
      "Early stopping, best iteration is:\n",
      "[847]\tvalid_0's binary_logloss: 0.403067\n",
      "-------------------- Metrics --------------------\n",
      "Accuracy: 0.4897\n",
      "Precision: 0.2834\n",
      "Recall: 0.9455\n",
      "F1 Score: 0.4361\n",
      "ROC AUC: 0.8099\n",
      "Training fold 3/5...\n",
      "Training until validation scores don't improve for 100 rounds\n",
      "[900]\tvalid_0's binary_logloss: 0.407111\n",
      "[1000]\tvalid_0's binary_logloss: 0.406366\n",
      "[1100]\tvalid_0's binary_logloss: 0.406017\n",
      "[1200]\tvalid_0's binary_logloss: 0.405922\n",
      "[1300]\tvalid_0's binary_logloss: 0.405871\n",
      "[1400]\tvalid_0's binary_logloss: 0.40572\n",
      "[1500]\tvalid_0's binary_logloss: 0.405789\n",
      "Early stopping, best iteration is:\n",
      "[1444]\tvalid_0's binary_logloss: 0.40565\n",
      "-------------------- Metrics --------------------\n",
      "Accuracy: 0.5194\n",
      "Precision: 0.2976\n",
      "Recall: 0.9337\n",
      "F1 Score: 0.4513\n",
      "ROC AUC: 0.8107\n",
      "Training fold 4/5...\n",
      "Training until validation scores don't improve for 100 rounds\n",
      "[1500]\tvalid_0's binary_logloss: 0.407452\n",
      "[1600]\tvalid_0's binary_logloss: 0.407067\n",
      "[1700]\tvalid_0's binary_logloss: 0.406964\n",
      "[1800]\tvalid_0's binary_logloss: 0.406772\n",
      "[1900]\tvalid_0's binary_logloss: 0.406676\n",
      "Early stopping, best iteration is:\n",
      "[1888]\tvalid_0's binary_logloss: 0.406627\n",
      "-------------------- Metrics --------------------\n",
      "Accuracy: 0.5159\n",
      "Precision: 0.2931\n",
      "Recall: 0.9288\n",
      "F1 Score: 0.4456\n",
      "ROC AUC: 0.8074\n",
      "Training final model using all data...\n",
      "Final model training completed.\n"
     ]
    }
   ],
   "source": [
    "# オッズと人気を特徴量から省いたランク、回帰、クロスバリデーション\n",
    "trainer = Trainer_lightgbm_rank_niti_cv_in3(\n",
    "    features_filename = \"features_dirt_nowin.csv\", \n",
    "    config_filepath=\"config_lightgbm_niti_dev_dirt_nowin_noweight.yaml\",\n",
    ")\n",
    "evaluation_df = trainer.run(\n",
    "    n_splits = 5,\n",
    "    importance_filename=\"importance_lightgbm_rank_niti_cv_dev_dirt_nowin_noweight_in3\",\n",
    "    model_filename=\"model_lightgbm_rank_niti_cv_dev_dirt_nowin_noweight_in3.pkl\",\n",
    "    evaluation_filename=\"evaluation_lightgbm_rank_niti_cv_dev_dirt_nowin_noweight_in3.csv\",\n",
    "    final_model_filename = \"model_lightgbm_rank_niti_cv_full_dev_dirt_nowin_noweight_in3.pkl\"\n",
    ")"
   ]
  },
  {
   "cell_type": "code",
   "execution_count": null,
   "metadata": {},
   "outputs": [],
   "source": []
  },
  {
   "cell_type": "code",
   "execution_count": null,
   "metadata": {},
   "outputs": [],
   "source": [
    "#展開"
   ]
  },
  {
   "cell_type": "code",
   "execution_count": null,
   "metadata": {},
   "outputs": [],
   "source": []
  },
  {
   "cell_type": "code",
   "execution_count": null,
   "metadata": {},
   "outputs": [],
   "source": [
    "# オッズと人気を特徴量から省いたランク、日、クロスバリデーション\n",
    "trainer = Trainer_lightgbm_rank_niti_cv_in3(\n",
    "    \n",
    "    features_filename = \"features_turf.csv\", \n",
    "    config_filepath=\"config_lightgbm_niti_dev_turf_only_tenkai.yaml\",\n",
    ")\n",
    "evaluation_df = trainer.run(\n",
    "    n_splits = 5,\n",
    "    importance_filename=\"importance_lightgbm_rank_niti_cv_dev_turf_only_tenkai_in3\",\n",
    "    model_filename=\"model_lightgbm_rank_niti_cv_dev_turf_only_tenkai_in3.pkl\",\n",
    "    evaluation_filename=\"evaluation_lightgbm_rank_niti_cv_dev_turf_only_tenkai_in3.csv\",\n",
    "    final_model_filename = \"model_lightgbm_rank_niti_cv_full_dev_turf_only_tenkai_in3.pkl\",\n",
    "    final_num_boost_round = 1500\n",
    ")"
   ]
  },
  {
   "cell_type": "code",
   "execution_count": null,
   "metadata": {},
   "outputs": [],
   "source": [
    "# オッズと人気を特徴量から省いたランク、日、クロスバリデーション\n",
    "trainer = Trainer_lightgbm_rank_niti_cv_in3(\n",
    "    \n",
    "    features_filename = \"features_turf_nowin.csv\", \n",
    "    config_filepath=\"config_lightgbm_niti_dev_turf_only_tenkai_nowin.yaml\",\n",
    ")\n",
    "evaluation_df = trainer.run(\n",
    "    n_splits = 5,\n",
    "    importance_filename=\"importance_lightgbm_rank_niti_cv_dev_turf_nowin_only_tenkai_in3\",\n",
    "    model_filename=\"model_lightgbm_rank_niti_cv_dev_turf_nowin_only_tenkai_in3.pkl\",\n",
    "    evaluation_filename=\"evaluation_lightgbm_rank_niti_cv_dev_turf_nowin_only_tenkai_in3.csv\",\n",
    "    final_model_filename = \"model_lightgbm_rank_niti_cv_full_dev_turf_nowin_only_tenkai_in3.pkl\",\n",
    "    final_num_boost_round = 1000\n",
    ")"
   ]
  },
  {
   "cell_type": "code",
   "execution_count": null,
   "metadata": {},
   "outputs": [],
   "source": [
    "# オッズと人気を特徴量から省いたランク、日、クロスバリデーション\n",
    "trainer = Trainer_lightgbm_rank_niti_cv_in3(\n",
    "    \n",
    "    features_filename = \"features_turf.csv\", \n",
    "    config_filepath=\"config_lightgbm_niti_dev_turf_only_tenkai_noweight.yaml\",\n",
    ")\n",
    "evaluation_df = trainer.run(\n",
    "    n_splits = 5,\n",
    "    importance_filename=\"importance_lightgbm_rank_niti_cv_dev_turf_only_tenkai_noweight_in3\",\n",
    "    model_filename=\"model_lightgbm_rank_niti_cv_dev_turf_only_tenkai_noweight_in3.pkl\",\n",
    "    evaluation_filename=\"evaluation_lightgbm_rank_niti_cv_dev_turf_only_tenkai_noweight_in3.csv\",\n",
    "    final_model_filename = \"model_lightgbm_rank_niti_cv_full_dev_turf_only_tenkai_noweight_in3.pkl\",\n",
    "    final_num_boost_round = 1500\n",
    ")"
   ]
  },
  {
   "cell_type": "code",
   "execution_count": null,
   "metadata": {},
   "outputs": [],
   "source": [
    "# オッズと人気を特徴量から省いたランク、日、クロスバリデーション\n",
    "trainer = Trainer_lightgbm_rank_niti_cv_in3(\n",
    "    \n",
    "    features_filename = \"features_turf_nowin.csv\", \n",
    "    config_filepath=\"config_lightgbm_niti_dev_turf_only_tenkai_noweight_nowin.yaml\",\n",
    ")\n",
    "evaluation_df = trainer.run(\n",
    "    n_splits = 5,\n",
    "    importance_filename=\"importance_lightgbm_rank_niti_cv_dev_turf_nowin_only_tenkai_noweight_in3\",\n",
    "    model_filename=\"model_lightgbm_rank_niti_cv_dev_turf_nowin_only_tenkai_noweight_in3.pkl\",\n",
    "    evaluation_filename=\"evaluation_lightgbm_rank_niti_cv_dev_turf_nowin_only_tenkai_noweight_in3.csv\",\n",
    "    final_model_filename = \"model_lightgbm_rank_niti_cv_full_dev_turf_nowin_only_tenkai_noweight_in3.pkl\",\n",
    "    final_num_boost_round = 1000\n",
    ")"
   ]
  },
  {
   "cell_type": "code",
   "execution_count": null,
   "metadata": {},
   "outputs": [],
   "source": []
  },
  {
   "cell_type": "code",
   "execution_count": 18,
   "metadata": {},
   "outputs": [
    {
     "name": "stdout",
     "output_type": "stream",
     "text": [
      "Training fold 1/5...\n",
      "Training until validation scores don't improve for 100 rounds\n",
      "[100]\tvalid_0's binary_logloss: 0.469046\n",
      "[200]\tvalid_0's binary_logloss: 0.455535\n",
      "[300]\tvalid_0's binary_logloss: 0.449706\n",
      "[400]\tvalid_0's binary_logloss: 0.447211\n",
      "[500]\tvalid_0's binary_logloss: 0.445992\n",
      "[600]\tvalid_0's binary_logloss: 0.44523\n",
      "[700]\tvalid_0's binary_logloss: 0.445153\n",
      "[800]\tvalid_0's binary_logloss: 0.445235\n",
      "Early stopping, best iteration is:\n",
      "[718]\tvalid_0's binary_logloss: 0.44508\n",
      "-------------------- Metrics --------------------\n",
      "Accuracy: 0.3486\n",
      "Precision: 0.2407\n",
      "Recall: 0.9747\n",
      "F1 Score: 0.3861\n",
      "ROC AUC: 0.7522\n",
      "Training fold 2/5...\n",
      "Training until validation scores don't improve for 100 rounds\n",
      "[800]\tvalid_0's binary_logloss: 0.460524\n",
      "[900]\tvalid_0's binary_logloss: 0.459866\n",
      "[1000]\tvalid_0's binary_logloss: 0.459486\n",
      "[1100]\tvalid_0's binary_logloss: 0.459316\n",
      "[1200]\tvalid_0's binary_logloss: 0.459175\n",
      "[1300]\tvalid_0's binary_logloss: 0.459131\n",
      "Early stopping, best iteration is:\n",
      "[1244]\tvalid_0's binary_logloss: 0.459108\n",
      "-------------------- Metrics --------------------\n",
      "Accuracy: 0.3544\n",
      "Precision: 0.2457\n",
      "Recall: 0.9661\n",
      "F1 Score: 0.3918\n",
      "ROC AUC: 0.7370\n",
      "Training fold 3/5...\n",
      "Training until validation scores don't improve for 100 rounds\n",
      "[1300]\tvalid_0's binary_logloss: 0.455213\n",
      "[1400]\tvalid_0's binary_logloss: 0.455206\n",
      "[1500]\tvalid_0's binary_logloss: 0.455111\n",
      "[1600]\tvalid_0's binary_logloss: 0.455128\n",
      "Early stopping, best iteration is:\n",
      "[1581]\tvalid_0's binary_logloss: 0.455068\n",
      "-------------------- Metrics --------------------\n",
      "Accuracy: 0.3524\n",
      "Precision: 0.2442\n",
      "Recall: 0.9653\n",
      "F1 Score: 0.3898\n",
      "ROC AUC: 0.7428\n",
      "Training fold 4/5...\n",
      "Training until validation scores don't improve for 100 rounds\n",
      "[1600]\tvalid_0's binary_logloss: 0.45768\n",
      "[1700]\tvalid_0's binary_logloss: 0.454722\n",
      "[1800]\tvalid_0's binary_logloss: 0.454119\n",
      "[1900]\tvalid_0's binary_logloss: 0.453946\n",
      "[2000]\tvalid_0's binary_logloss: 0.453744\n",
      "[2100]\tvalid_0's binary_logloss: 0.453689\n",
      "[2200]\tvalid_0's binary_logloss: 0.453552\n",
      "[2300]\tvalid_0's binary_logloss: 0.453609\n",
      "Early stopping, best iteration is:\n",
      "[2208]\tvalid_0's binary_logloss: 0.453526\n",
      "-------------------- Metrics --------------------\n",
      "Accuracy: 0.3780\n",
      "Precision: 0.2531\n",
      "Recall: 0.9659\n",
      "F1 Score: 0.4011\n",
      "ROC AUC: 0.7471\n",
      "Training final model using all data...\n",
      "Final model training completed.\n"
     ]
    }
   ],
   "source": [
    "# オッズと人気を特徴量から省いたランク、日、クロスバリデーション\n",
    "trainer = Trainer_lightgbm_rank_niti_cv_in3(\n",
    "    \n",
    "    features_filename = \"features_dirt.csv\", \n",
    "    config_filepath=\"config_lightgbm_niti_dev_dirt_only_tenkai.yaml\",\n",
    ")\n",
    "evaluation_df = trainer.run(\n",
    "    n_splits = 5,\n",
    "    importance_filename=\"importance_lightgbm_rank_niti_cv_dev_dirt_only_tenkai_in3\",\n",
    "    model_filename=\"model_lightgbm_rank_niti_cv_dev_dirt_only_tenkai_in3.pkl\",\n",
    "    evaluation_filename=\"evaluation_lightgbm_rank_niti_cv_dev_dirt_only_tenkai_in3.csv\",\n",
    "    final_model_filename = \"model_lightgbm_rank_niti_cv_full_dev_dirt_only_tenkai_in3.pkl\",\n",
    "    final_num_boost_round = 1400\n",
    ")"
   ]
  },
  {
   "cell_type": "code",
   "execution_count": 19,
   "metadata": {},
   "outputs": [
    {
     "name": "stdout",
     "output_type": "stream",
     "text": [
      "Training fold 1/5...\n",
      "Training until validation scores don't improve for 100 rounds\n",
      "[100]\tvalid_0's binary_logloss: 0.468981\n",
      "[200]\tvalid_0's binary_logloss: 0.455346\n",
      "[300]\tvalid_0's binary_logloss: 0.449618\n",
      "[400]\tvalid_0's binary_logloss: 0.447084\n",
      "[500]\tvalid_0's binary_logloss: 0.445673\n",
      "[600]\tvalid_0's binary_logloss: 0.445117\n",
      "[700]\tvalid_0's binary_logloss: 0.444993\n",
      "[800]\tvalid_0's binary_logloss: 0.445142\n",
      "Early stopping, best iteration is:\n",
      "[710]\tvalid_0's binary_logloss: 0.444981\n",
      "-------------------- Metrics --------------------\n",
      "Accuracy: 0.3450\n",
      "Precision: 0.2398\n",
      "Recall: 0.9753\n",
      "F1 Score: 0.3849\n",
      "ROC AUC: 0.7524\n",
      "Training fold 2/5...\n",
      "Training until validation scores don't improve for 100 rounds\n",
      "[800]\tvalid_0's binary_logloss: 0.46014\n",
      "[900]\tvalid_0's binary_logloss: 0.459507\n",
      "[1000]\tvalid_0's binary_logloss: 0.459032\n",
      "[1100]\tvalid_0's binary_logloss: 0.458949\n",
      "Early stopping, best iteration is:\n",
      "[1059]\tvalid_0's binary_logloss: 0.458906\n",
      "-------------------- Metrics --------------------\n",
      "Accuracy: 0.3501\n",
      "Precision: 0.2447\n",
      "Recall: 0.9676\n",
      "F1 Score: 0.3906\n",
      "ROC AUC: 0.7370\n",
      "Training fold 3/5...\n",
      "Training until validation scores don't improve for 100 rounds\n",
      "[1100]\tvalid_0's binary_logloss: 0.455141\n",
      "[1200]\tvalid_0's binary_logloss: 0.454746\n",
      "[1300]\tvalid_0's binary_logloss: 0.454572\n",
      "[1400]\tvalid_0's binary_logloss: 0.454569\n",
      "Early stopping, best iteration is:\n",
      "[1361]\tvalid_0's binary_logloss: 0.454481\n",
      "-------------------- Metrics --------------------\n",
      "Accuracy: 0.3512\n",
      "Precision: 0.2442\n",
      "Recall: 0.9679\n",
      "F1 Score: 0.3900\n",
      "ROC AUC: 0.7440\n",
      "Training fold 4/5...\n",
      "Training until validation scores don't improve for 100 rounds\n",
      "[1400]\tvalid_0's binary_logloss: 0.455834\n",
      "[1500]\tvalid_0's binary_logloss: 0.453953\n",
      "[1600]\tvalid_0's binary_logloss: 0.45343\n",
      "[1700]\tvalid_0's binary_logloss: 0.453218\n",
      "[1800]\tvalid_0's binary_logloss: 0.453086\n",
      "[1900]\tvalid_0's binary_logloss: 0.452996\n",
      "[2000]\tvalid_0's binary_logloss: 0.453083\n",
      "Early stopping, best iteration is:\n",
      "[1933]\tvalid_0's binary_logloss: 0.452973\n",
      "-------------------- Metrics --------------------\n",
      "Accuracy: 0.3767\n",
      "Precision: 0.2524\n",
      "Recall: 0.9636\n",
      "F1 Score: 0.4000\n",
      "ROC AUC: 0.7478\n",
      "Training final model using all data...\n",
      "Final model training completed.\n"
     ]
    }
   ],
   "source": [
    "# オッズと人気を特徴量から省いたランク、日、クロスバリデーション\n",
    "trainer = Trainer_lightgbm_rank_niti_cv_in3(\n",
    "    \n",
    "    features_filename = \"features_dirt.csv\", \n",
    "    config_filepath=\"config_lightgbm_niti_dev_dirt_only_tenkai_weight.yaml\",\n",
    ")\n",
    "evaluation_df = trainer.run(\n",
    "    n_splits = 5,\n",
    "    importance_filename=\"importance_lightgbm_rank_niti_cv_dev_dirt_only_tenkai_weight_in3\",\n",
    "    model_filename=\"model_lightgbm_rank_niti_cv_dev_dirt_only_tenkai_weight_in3.pkl\",\n",
    "    evaluation_filename=\"evaluation_lightgbm_rank_niti_cv_dev_dirt_only_tenkai_weight_in3.csv\",\n",
    "    final_model_filename = \"model_lightgbm_rank_niti_cv_full_dev_dirt_only_tenkai_weight_in3.pkl\",\n",
    "    final_num_boost_round = 1000\n",
    ")"
   ]
  },
  {
   "cell_type": "code",
   "execution_count": 20,
   "metadata": {},
   "outputs": [
    {
     "name": "stdout",
     "output_type": "stream",
     "text": [
      "Training fold 1/5...\n",
      "Training until validation scores don't improve for 100 rounds\n",
      "[100]\tvalid_0's binary_logloss: 0.43665\n",
      "[200]\tvalid_0's binary_logloss: 0.422339\n",
      "[300]\tvalid_0's binary_logloss: 0.417717\n",
      "[400]\tvalid_0's binary_logloss: 0.415669\n",
      "[500]\tvalid_0's binary_logloss: 0.414887\n",
      "[600]\tvalid_0's binary_logloss: 0.414718\n",
      "[700]\tvalid_0's binary_logloss: 0.414806\n",
      "Early stopping, best iteration is:\n",
      "[682]\tvalid_0's binary_logloss: 0.414689\n",
      "-------------------- Metrics --------------------\n",
      "Accuracy: 0.4712\n",
      "Precision: 0.2729\n",
      "Recall: 0.9455\n",
      "F1 Score: 0.4235\n",
      "ROC AUC: 0.7919\n",
      "Training fold 2/5...\n",
      "Training until validation scores don't improve for 100 rounds\n",
      "[700]\tvalid_0's binary_logloss: 0.421078\n",
      "[800]\tvalid_0's binary_logloss: 0.419821\n",
      "[900]\tvalid_0's binary_logloss: 0.419695\n",
      "[1000]\tvalid_0's binary_logloss: 0.419662\n",
      "Early stopping, best iteration is:\n",
      "[980]\tvalid_0's binary_logloss: 0.419467\n",
      "-------------------- Metrics --------------------\n",
      "Accuracy: 0.4564\n",
      "Precision: 0.2711\n",
      "Recall: 0.9503\n",
      "F1 Score: 0.4219\n",
      "ROC AUC: 0.7895\n",
      "Training fold 3/5...\n",
      "Training until validation scores don't improve for 100 rounds\n",
      "[1000]\tvalid_0's binary_logloss: 0.420651\n",
      "[1100]\tvalid_0's binary_logloss: 0.41898\n",
      "[1200]\tvalid_0's binary_logloss: 0.418506\n",
      "[1300]\tvalid_0's binary_logloss: 0.41825\n",
      "[1400]\tvalid_0's binary_logloss: 0.41812\n",
      "[1500]\tvalid_0's binary_logloss: 0.418013\n",
      "[1600]\tvalid_0's binary_logloss: 0.418034\n",
      "Early stopping, best iteration is:\n",
      "[1551]\tvalid_0's binary_logloss: 0.417943\n",
      "-------------------- Metrics --------------------\n",
      "Accuracy: 0.4917\n",
      "Precision: 0.2864\n",
      "Recall: 0.9395\n",
      "F1 Score: 0.4390\n",
      "ROC AUC: 0.7962\n",
      "Training fold 4/5...\n",
      "Training until validation scores don't improve for 100 rounds\n",
      "[1600]\tvalid_0's binary_logloss: 0.418643\n",
      "Early stopping, best iteration is:\n",
      "[1581]\tvalid_0's binary_logloss: 0.418457\n",
      "-------------------- Metrics --------------------\n",
      "Accuracy: 0.5095\n",
      "Precision: 0.2889\n",
      "Recall: 0.9180\n",
      "F1 Score: 0.4395\n",
      "ROC AUC: 0.7923\n",
      "Training final model using all data...\n",
      "Final model training completed.\n"
     ]
    }
   ],
   "source": [
    "# オッズと人気を特徴量から省いたランク、日、クロスバリデーション\n",
    "trainer = Trainer_lightgbm_rank_niti_cv_in3(\n",
    "    \n",
    "    features_filename = \"features_dirt_nowin.csv\", \n",
    "    config_filepath=\"config_lightgbm_niti_dev_dirt_only_tenkai_weight.yaml\",\n",
    ")\n",
    "evaluation_df = trainer.run(\n",
    "    n_splits = 5,\n",
    "    importance_filename=\"importance_lightgbm_rank_niti_cv_dev_dirt_nowin_only_tenkai_weight_in3\",\n",
    "    model_filename=\"model_lightgbm_rank_niti_cv_dev_dirt_nowin_only_tenkai_weight_in3.pkl\",\n",
    "    evaluation_filename=\"evaluation_lightgbm_rank_niti_cv_dev_dirt_nowin_only_tenkai_weight_in3.csv\",\n",
    "    final_model_filename = \"model_lightgbm_rank_niti_cv_full_dev_dirt_nowin_only_tenkai_weight_in3.pkl\",\n",
    "    final_num_boost_round = 1000\n",
    ")"
   ]
  },
  {
   "cell_type": "code",
   "execution_count": 21,
   "metadata": {},
   "outputs": [
    {
     "name": "stdout",
     "output_type": "stream",
     "text": [
      "Training fold 1/5...\n",
      "Training until validation scores don't improve for 100 rounds\n",
      "[100]\tvalid_0's binary_logloss: 0.436856\n",
      "[200]\tvalid_0's binary_logloss: 0.422573\n",
      "[300]\tvalid_0's binary_logloss: 0.417763\n",
      "[400]\tvalid_0's binary_logloss: 0.415465\n",
      "[500]\tvalid_0's binary_logloss: 0.414779\n",
      "[600]\tvalid_0's binary_logloss: 0.414641\n",
      "Early stopping, best iteration is:\n",
      "[562]\tvalid_0's binary_logloss: 0.414529\n",
      "-------------------- Metrics --------------------\n",
      "Accuracy: 0.4686\n",
      "Precision: 0.2723\n",
      "Recall: 0.9489\n",
      "F1 Score: 0.4232\n",
      "ROC AUC: 0.7922\n",
      "Training fold 2/5...\n",
      "Training until validation scores don't improve for 100 rounds\n",
      "[600]\tvalid_0's binary_logloss: 0.420233\n",
      "[700]\tvalid_0's binary_logloss: 0.419134\n",
      "[800]\tvalid_0's binary_logloss: 0.418868\n",
      "[900]\tvalid_0's binary_logloss: 0.418765\n",
      "[1000]\tvalid_0's binary_logloss: 0.418988\n",
      "Early stopping, best iteration is:\n",
      "[913]\tvalid_0's binary_logloss: 0.418717\n",
      "-------------------- Metrics --------------------\n",
      "Accuracy: 0.4575\n",
      "Precision: 0.2720\n",
      "Recall: 0.9541\n",
      "F1 Score: 0.4234\n",
      "ROC AUC: 0.7908\n",
      "Training fold 3/5...\n",
      "Training until validation scores don't improve for 100 rounds\n",
      "[1000]\tvalid_0's binary_logloss: 0.418784\n",
      "[1100]\tvalid_0's binary_logloss: 0.417901\n",
      "[1200]\tvalid_0's binary_logloss: 0.417744\n",
      "[1300]\tvalid_0's binary_logloss: 0.417645\n",
      "[1400]\tvalid_0's binary_logloss: 0.417563\n",
      "Early stopping, best iteration is:\n",
      "[1374]\tvalid_0's binary_logloss: 0.417505\n",
      "-------------------- Metrics --------------------\n",
      "Accuracy: 0.4903\n",
      "Precision: 0.2857\n",
      "Recall: 0.9386\n",
      "F1 Score: 0.4381\n",
      "ROC AUC: 0.7964\n",
      "Training fold 4/5...\n",
      "Training until validation scores don't improve for 100 rounds\n",
      "[1400]\tvalid_0's binary_logloss: 0.418183\n",
      "[1500]\tvalid_0's binary_logloss: 0.41835\n",
      "Early stopping, best iteration is:\n",
      "[1417]\tvalid_0's binary_logloss: 0.418099\n",
      "-------------------- Metrics --------------------\n",
      "Accuracy: 0.5010\n",
      "Precision: 0.2857\n",
      "Recall: 0.9216\n",
      "F1 Score: 0.4362\n",
      "ROC AUC: 0.7923\n",
      "Training final model using all data...\n",
      "Final model training completed.\n"
     ]
    }
   ],
   "source": [
    "# オッズと人気を特徴量から省いたランク、日、クロスバリデーション\n",
    "trainer = Trainer_lightgbm_rank_niti_cv_in3(\n",
    "    \n",
    "    features_filename = \"features_dirt_nowin.csv\", \n",
    "    config_filepath=\"config_lightgbm_niti_dev_dirt_only_tenkai.yaml\",\n",
    ")\n",
    "evaluation_df = trainer.run(\n",
    "    n_splits = 5,\n",
    "    importance_filename=\"importance_lightgbm_rank_niti_cv_dev_dirt_nowin_only_tenkai_in3\",\n",
    "    model_filename=\"model_lightgbm_rank_niti_cv_dev_dirt_nowin_only_tenkai_in3.pkl\",\n",
    "    evaluation_filename=\"evaluation_lightgbm_rank_niti_cv_dev_dirt_nowin_only_tenkai_in3.csv\",\n",
    "    final_model_filename = \"model_lightgbm_rank_niti_cv_full_dev_dirt_nowin_only_tenkai_in3.pkl\",\n",
    "    final_num_boost_round = 1000\n",
    ")"
   ]
  },
  {
   "cell_type": "code",
   "execution_count": null,
   "metadata": {},
   "outputs": [],
   "source": []
  },
  {
   "cell_type": "code",
   "execution_count": null,
   "metadata": {},
   "outputs": [],
   "source": [
    "# オッズと人気を特徴量から省いたランク、日、クロスバリデーション\n",
    "trainer = Trainer_lightgbm_rank_niti_cv_in3(\n",
    "    \n",
    "    features_filename = \"features_turf.csv\", \n",
    "    config_filepath=\"config_lightgbm_niti_dev_turf_only_tenkai_ex.yaml\",\n",
    ")\n",
    "evaluation_df = trainer.run(\n",
    "    n_splits = 5,\n",
    "    importance_filename=\"importance_lightgbm_rank_niti_cv_dev_turf_only_tenkai_ex_in3\",\n",
    "    model_filename=\"model_lightgbm_rank_niti_cv_dev_turf_only_tenkai_ex_in3.pkl\",\n",
    "    evaluation_filename=\"evaluation_lightgbm_rank_niti_cv_dev_turf_only_tenkai_ex_in3.csv\",\n",
    "    final_model_filename = \"model_lightgbm_rank_niti_cv_full_dev_turf_only_tenkai_ex_in3.pkl\",\n",
    "    final_num_boost_round = 1500\n",
    ")"
   ]
  },
  {
   "cell_type": "code",
   "execution_count": null,
   "metadata": {},
   "outputs": [],
   "source": []
  },
  {
   "cell_type": "code",
   "execution_count": null,
   "metadata": {},
   "outputs": [],
   "source": []
  },
  {
   "cell_type": "code",
   "execution_count": null,
   "metadata": {},
   "outputs": [],
   "source": []
  },
  {
   "cell_type": "code",
   "execution_count": null,
   "metadata": {},
   "outputs": [],
   "source": [
    "中山芝5.2\n",
    "ダート4.5\n",
    "\n",
    "阪神芝4\n",
    "ダート4.5\n",
    "\n",
    "中京芝2.7\n",
    "ダート4.5\n",
    "\n",
    "\n",
    "差しが決まってるとか関係なく、素直に馬場状態を評価する\n",
    "平均タイム差調べて、自分で入力\n",
    "自動投票なら自動で\n",
    "\n",
    "\n",
    "2\n",
    "2.7\n",
    "3.5\n",
    "4\n",
    "4.5\n",
    "5.2\n",
    "6"
   ]
  },
  {
   "cell_type": "code",
   "execution_count": null,
   "metadata": {},
   "outputs": [],
   "source": [
    "(これ以外の買いはしないこと、ルールを絶対に守る、いずれ収束するから)\n",
    "\n",
    "芝未勝利_lightgbm_rank_niti_cv_dev_turf_nowin_only_tenkai\n",
    "芝tenkai_in3()三連複だと的中率低いのでワイドboxも+\n",
    "障害_in3三連複だと的中率低いのでワイド1通りも+\n",
    "\n",
    "[ダートは基本なし]遊びなら三連複,妙味のあるワイド\n",
    "ダートは基本クソ\n",
    "rank_niti_cv_dev_dirt_in3\n",
    "_lightgbm_rank_niti_cv_dev_dirt_nowin(1900以上)\n",
    "\n",
    "本命がオッズ低い場合は買わない、穴が絡まない限り\n",
    "穴を絞って買うこと\n",
    "土曜午前は視て、馬場状態を設定する\n",
    "\n",
    "#############################################\n",
    "単勝期待値(predなし、期待値のみ)\n",
    "top3のみ三連複\n",
    "本命穴の場合、ワイドは２通りor3boxまで\n",
    "#############################################\n",
    "傑出ありはこれに三連単交互\n",
    "傑出あり二軍は三連複を増やす\n",
    "pred以上は三連単を強めに、馬単はかけない\n",
    "\n",
    "\n",
    "\n",
    "\n",
    "\n",
    "\n",
    "\n",
    "\"\"\"\n",
    "・・・・・単勝期待値・・・・・複勝なし\n",
    "【芝】　_lightgbm_rank_niti_cv_dev_turf_only_tenkai_in3\n",
    " and pred > 0.1 and tansho_odds < 100\n",
    "期待値>= 6.9\n",
    "\n",
    "\n",
    "【芝未勝利】　_lightgbm_rank_niti_cv_dev_turf_nowin_only_tenkai\n",
    "and pred > 0.1 and tansho_odds < 100\n",
    "期待値> 6\n",
    "\n",
    "【障害】　_lightgbm_rank_niti_cv_dev_obstract_in3\n",
    "and pred > 0.1 and tansho_odds < 100\n",
    "期待値> 1\n",
    "\n",
    "\n",
    "【ダート】rank_niti_cv_dev_dirt_in3\n",
    "and pred > 0.1 and tansho_odds < 100\n",
    "期待値> 5.6\n",
    "基本やらなくていい\n",
    "\n",
    "\n",
    "\n",
    "\n",
    "\"\"\"\n"
   ]
  },
  {
   "cell_type": "code",
   "execution_count": null,
   "metadata": {},
   "outputs": [],
   "source": []
  },
  {
   "cell_type": "code",
   "execution_count": null,
   "metadata": {},
   "outputs": [],
   "source": []
  },
  {
   "cell_type": "code",
   "execution_count": null,
   "metadata": {
    "collapsed": true,
    "jupyter": {
     "outputs_hidden": true,
     "source_hidden": true
    }
   },
   "outputs": [],
   "source": [
    "# オッズと人気を特徴量から省いたランク、日、クロスバリデーション\n",
    "trainer_in3 = Trainer_lightgbm_rank_niti_cv_in3(\n",
    "    features_filename = \"features_turf.csv\", \n",
    "    config_filepath=\"config_lightgbm_niti_dev_turf.yaml\",\n",
    ")\n",
    "evaluation_df = trainer_in3.run(\n",
    "    n_splits = 5,\n",
    "    importance_filename=\"importance_lightgbm_rank_niti_cv_dev_turf_in3\",\n",
    "    model_filename=\"model_lightgbm_rank_niti_cv_dev_turf_in3.pkl\",\n",
    "    evaluation_filename=\"evaluation_lightgbm_rank_niti_cv_dev_turf_in3.csv\",\n",
    "    final_model_filename = \"model_lightgbm_rank_niti_cv_full_dev_turf_in3.pkl\",\n",
    "    final_num_boost_round = 1500\n",
    ")"
   ]
  },
  {
   "cell_type": "code",
   "execution_count": null,
   "metadata": {},
   "outputs": [],
   "source": [
    "%autoreload"
   ]
  },
  {
   "cell_type": "code",
   "execution_count": null,
   "metadata": {
    "collapsed": true,
    "jupyter": {
     "outputs_hidden": true,
     "source_hidden": true
    }
   },
   "outputs": [],
   "source": [
    "# オッズと人気を特徴量から省いたランク、芝、クロスバリデーション\n",
    "trainer = Trainer_lightgbm_rank_niti_cv_in3(\n",
    "    \n",
    "    features_filename = \"features_dirt.csv\", \n",
    "    config_filepath=\"config_lightgbm_niti_dev_dirt.yaml\",\n",
    ")\n",
    "evaluation_df = trainer.run(\n",
    "    n_splits = 5,\n",
    "    importance_filename=\"importance_lightgbm_rank_niti_cv_dev_dirt_in3\",\n",
    "    model_filename=\"model_lightgbm_rank_niti_cv_dev_dirt_in3.pkl\",\n",
    "    evaluation_filename=\"evaluation_lightgbm_rank_niti_cv_dev_dirt_in3.csv\",\n",
    "    final_model_filename = \"model_lightgbm_rank_niti_cv_full_dev_dirt_in3.pkl\",\n",
    "    final_num_boost_round = 1500\n",
    ")"
   ]
  },
  {
   "cell_type": "code",
   "execution_count": null,
   "metadata": {
    "collapsed": true,
    "jupyter": {
     "outputs_hidden": true,
     "source_hidden": true
    }
   },
   "outputs": [],
   "source": [
    "\n",
    "trainer = Trainer_lightgbm_rank_niti_cv_in3(\n",
    "    features_filename = \"features_turf_nowin.csv\", \n",
    "    config_filepath=\"config_lightgbm_niti_dev_turf_nowin.yaml\",\n",
    ")\n",
    "evaluation_df = trainer.run(\n",
    "    n_splits = 5,\n",
    "    importance_filename=\"importance_lightgbm_rank_niti_cv_dev_turf_nowin_in3\",\n",
    "    model_filename=\"model_lightgbm_rank_niti_cv_dev_turf_nowin_in3.pkl\",\n",
    "    evaluation_filename=\"evaluation_lightgbm_rank_niti_cv_dev_turf_nowin_in3.csv\",\n",
    "    final_model_filename = \"model_lightgbm_rank_niti_cv_full_dev_turf_nowin_in3.pkl\"\n",
    ")"
   ]
  },
  {
   "cell_type": "code",
   "execution_count": null,
   "metadata": {
    "collapsed": true,
    "jupyter": {
     "outputs_hidden": true,
     "source_hidden": true
    }
   },
   "outputs": [],
   "source": [
    "# オッズと人気を特徴量から省いたランク、回帰、クロスバリデーション\n",
    "trainer = Trainer_lightgbm_rank_niti_cv_in3(\n",
    "    features_filename = \"features_dirt_nowin.csv\", \n",
    "    config_filepath=\"config_lightgbm_niti_dev_dirt_nowin.yaml\",\n",
    ")\n",
    "evaluation_df = trainer.run(\n",
    "    n_splits = 5,\n",
    "    importance_filename=\"importance_lightgbm_rank_niti_cv_dev_dirt_nowin_in3\",\n",
    "    model_filename=\"model_lightgbm_rank_niti_cv_dev_dirt_nowin_in3.pkl\",\n",
    "    evaluation_filename=\"evaluation_lightgbm_rank_niti_cv_dev_dirt_nowin_in3.csv\",\n",
    "    final_model_filename = \"model_lightgbm_rank_niti_cv_full_dev_dirt_nowin_in3.pkl\"\n",
    ")"
   ]
  },
  {
   "cell_type": "code",
   "execution_count": null,
   "metadata": {},
   "outputs": [],
   "source": []
  },
  {
   "cell_type": "code",
   "execution_count": null,
   "metadata": {
    "collapsed": true,
    "jupyter": {
     "outputs_hidden": true,
     "source_hidden": true
    }
   },
   "outputs": [],
   "source": [
    "# オッズと人気を特徴量から省いたランク、日、クロスバリデーション\n",
    "trainer = Trainer_lightgbm_rank_niti_cv_in3(\n",
    "    \n",
    "    features_filename = \"features_dirt.csv\", \n",
    "    config_filepath=\"config_lightgbm_niti_dev_dirt_only_tenkai.yaml\",\n",
    ")\n",
    "evaluation_df = trainer.run(\n",
    "    n_splits = 5,\n",
    "    importance_filename=\"importance_lightgbm_rank_niti_cv_dev_dirt_only_tenkai_in3\",\n",
    "    model_filename=\"model_lightgbm_rank_niti_cv_dev_dirt_only_tenkai_in3.pkl\",\n",
    "    evaluation_filename=\"evaluation_lightgbm_rank_niti_cv_dev_dirt_only_tenkai_in3.csv\",\n",
    "    final_model_filename = \"model_lightgbm_rank_niti_cv_full_dev_dirt_only_tenkai_in3.pkl\",\n",
    "    final_num_boost_round = 1400\n",
    ")"
   ]
  },
  {
   "cell_type": "code",
   "execution_count": null,
   "metadata": {
    "collapsed": true,
    "jupyter": {
     "outputs_hidden": true,
     "source_hidden": true
    }
   },
   "outputs": [],
   "source": [
    "# オッズと人気を特徴量から省いたランク、日、クロスバリデーション\n",
    "trainer = Trainer_lightgbm_rank_niti_cv_in3(\n",
    "    \n",
    "    features_filename = \"features_turf.csv\", \n",
    "    config_filepath=\"config_lightgbm_niti_dev_turf_only_tenkai.yaml\",\n",
    ")\n",
    "evaluation_df = trainer.run(\n",
    "    n_splits = 5,\n",
    "    importance_filename=\"importance_lightgbm_rank_niti_cv_dev_turf_only_tenkai_in3\",\n",
    "    model_filename=\"model_lightgbm_rank_niti_cv_dev_turf_only_tenkai_in3.pkl\",\n",
    "    evaluation_filename=\"evaluation_lightgbm_rank_niti_cv_dev_turf_only_tenkai_in3.csv\",\n",
    "    final_model_filename = \"model_lightgbm_rank_niti_cv_full_dev_turf_only_tenkai_in3.pkl\",\n",
    "    final_num_boost_round = 1500\n",
    ")"
   ]
  },
  {
   "cell_type": "code",
   "execution_count": null,
   "metadata": {},
   "outputs": [],
   "source": [
    "%autoreload"
   ]
  },
  {
   "cell_type": "code",
   "execution_count": null,
   "metadata": {},
   "outputs": [],
   "source": [
    "#評価"
   ]
  },
  {
   "cell_type": "code",
   "execution_count": null,
   "metadata": {},
   "outputs": [],
   "source": [
    "# オッズと人気を特徴量から省いた場合_ランク、二値、クロスバリデーション（最終番目）\n",
    "evaluator = Evaluator_lightgbm_rank_niti_cross(\n",
    "    evaluation_filename=\"evaluation_lightgbm_rank_niti_cv_dev_turf_in3.csv\",\n",
    "    return_tables_filename = \"return_tables_turf.pickle\",\n",
    ")\n",
    "evaluator.summarize_box_top_n(n=3,save_filename=\"box_summary_rank_niti_cross_dev_turf_in3.csv\")\n",
    "summary_df_noodds_gbm = evaluator.summarize_box_exp(exp_name=\"lightgbm_rank_niti_cross_dev_turf\")\n",
    "summary_df_noodds_gbm"
   ]
  },
  {
   "cell_type": "code",
   "execution_count": null,
   "metadata": {},
   "outputs": [],
   "source": [
    "# オッズと人気を特徴量から省いた場合_ランク、二値、クロスバリデーション（最終番目）\n",
    "evaluator = Evaluator_lightgbm_rank_niti_cross(\n",
    "    evaluation_filename=\"evaluation_lightgbm_rank_niti_cv_dev_turf_noweight_in3.csv\",\n",
    "    return_tables_filename = \"return_tables_turf.pickle\",\n",
    ")\n",
    "evaluator.summarize_box_top_n(n=3,save_filename=\"box_summary_rank_niti_cross_dev_turf_noweight_in3.csv\")\n",
    "summary_df_noodds_gbm = evaluator.summarize_box_exp(exp_name=\"lightgbm_rank_niti_cross_dev_turf_noweight\")\n",
    "summary_df_noodds_gbm"
   ]
  },
  {
   "cell_type": "code",
   "execution_count": null,
   "metadata": {},
   "outputs": [],
   "source": [
    "# オッズと人気を特徴量から省いた場合_ランク、二値、クロスバリデーション（最終番目）\n",
    "evaluator = Evaluator_lightgbm_rank_niti_cross(\n",
    "    evaluation_filename=\"evaluation_lightgbm_rank_niti_cv_dev_dirt_in3.csv\",\n",
    "    return_tables_filename = \"return_tables_dirt.pickle\",\n",
    ")\n",
    "evaluator.summarize_box_top_n(n=3,save_filename=\"box_summary_rank_niti_cross_dev_dirt_in3.csv\")\n",
    "summary_df_noodds_gbm = evaluator.summarize_box_exp(exp_name=\"lightgbm_rank_niti_cross_dev_dirt\")\n",
    "summary_df_noodds_gbm"
   ]
  },
  {
   "cell_type": "code",
   "execution_count": null,
   "metadata": {},
   "outputs": [],
   "source": [
    "# オッズと人気を特徴量から省いた場合_ランク、二値、クロスバリデーション（最終番目）\n",
    "evaluator = Evaluator_lightgbm_rank_niti_cross(\n",
    "    evaluation_filename=\"evaluation_lightgbm_rank_niti_cv_dev_dirt_noweight_in3.csv\",\n",
    "    return_tables_filename = \"return_tables_dirt.pickle\",\n",
    ")\n",
    "evaluator.summarize_box_top_n(n=3,save_filename=\"box_summary_rank_niti_cross_dev_dirt_in3.csv\")\n",
    "summary_df_noodds_gbm = evaluator.summarize_box_exp(exp_name=\"lightgbm_rank_niti_cross_dev_dirt\")\n",
    "summary_df_noodds_gbm"
   ]
  },
  {
   "cell_type": "code",
   "execution_count": null,
   "metadata": {},
   "outputs": [],
   "source": [
    "# オッズと人気を特徴量から省いた場合_ランク、二値、クロスバリデーション（最終番目）\n",
    "evaluator = Evaluator_lightgbm_rank_niti_cross(\n",
    "    evaluation_filename=\"evaluation_lightgbm_rank_niti_cv_dev_obstract_noweight_in3.csv\",\n",
    "    return_tables_filename = \"return_tables_obstract.pickle\",\n",
    ")\n",
    "evaluator.summarize_box_top_n(n=3,save_filename=\"box_summary_rank_niti_cross_dev_obstract_noweight_in3.csv\")\n",
    "summary_df_noodds_gbm = evaluator.summarize_box_exp(exp_name=\"lightgbm_rank_niti_cross_dev_obstract_noweight\")\n",
    "summary_df_noodds_gbm"
   ]
  },
  {
   "cell_type": "code",
   "execution_count": null,
   "metadata": {},
   "outputs": [],
   "source": [
    "# オッズと人気を特徴量から省いた場合_ランク、二値、クロスバリデーション（最終番目）\n",
    "evaluator = Evaluator_lightgbm_rank_niti_cross(\n",
    "    evaluation_filename=\"evaluation_lightgbm_rank_niti_cv_dev_obstract_in3.csv\",\n",
    "    return_tables_filename = \"return_tables_obstract.pickle\",\n",
    ")\n",
    "evaluator.summarize_box_top_n(n=3,save_filename=\"box_summary_rank_niti_cross_dev_obstract_in3.csv\")\n",
    "summary_df_noodds_gbm = evaluator.summarize_box_exp(exp_name=\"lightgbm_rank_niti_cross_dev_obstract\")\n",
    "summary_df_noodds_gbm"
   ]
  },
  {
   "cell_type": "code",
   "execution_count": null,
   "metadata": {},
   "outputs": [],
   "source": [
    "# オッズと人気を特徴量から省いた場合_ランク、二値、クロスバリデーション（最終番目）\n",
    "evaluator = Evaluator_lightgbm_rank_niti_cross(\n",
    "    evaluation_filename=\"evaluation_lightgbm_rank_niti_cv_dev_turf_nowin_in3.csv\",\n",
    "    return_tables_filename = \"return_tables_turf_nowin.pickle\",\n",
    ")\n",
    "evaluator.summarize_box_top_n(n=3,save_filename=\"box_summary_rank_niti_cross_dev_turf_nowin_in3.csv\")\n",
    "summary_df_noodds_gbm = evaluator.summarize_box_exp(exp_name=\"lightgbm_rank_niti_cross_dev_turf_nowin\")\n",
    "summary_df_noodds_gbm"
   ]
  },
  {
   "cell_type": "code",
   "execution_count": null,
   "metadata": {},
   "outputs": [],
   "source": [
    "# オッズと人気を特徴量から省いた場合_ランク、二値、クロスバリデーション（最終番目）\n",
    "evaluator = Evaluator_lightgbm_rank_niti_cross(\n",
    "    evaluation_filename=\"evaluation_lightgbm_rank_niti_cv_dev_turf_nowin_noweight_in3.csv\",\n",
    "    return_tables_filename = \"return_tables_turf_nowin.pickle\",\n",
    ")\n",
    "evaluator.summarize_box_top_n(n=3,save_filename=\"box_summary_rank_niti_cross_dev_turf_nowin_noweight_in3.csv\")\n",
    "summary_df_noodds_gbm = evaluator.summarize_box_exp(exp_name=\"lightgbm_rank_niti_cross_dev_turf_nowin_noweight\")\n",
    "summary_df_noodds_gbm"
   ]
  },
  {
   "cell_type": "code",
   "execution_count": null,
   "metadata": {},
   "outputs": [],
   "source": [
    "# オッズと人気を特徴量から省いた場合_ランク、二値、クロスバリデーション（最終番目）\n",
    "evaluator = Evaluator_lightgbm_rank_niti_cross(\n",
    "    evaluation_filename=\"evaluation_lightgbm_rank_niti_cv_dev_dirt_nowin_noweight_in3.csv\",\n",
    "    return_tables_filename = \"return_tables_dirt_nowin.pickle\",\n",
    ")\n",
    "evaluator.summarize_box_top_n(n=3,save_filename=\"box_summary_rank_niti_cross_dev_dirt_nowin_noweight_in3.csv\")\n",
    "summary_df_noodds_gbm = evaluator.summarize_box_exp(exp_name=\"lightgbm_rank_niti_cross_dev_dirt_nowin_noweight\")\n",
    "summary_df_noodds_gbm"
   ]
  },
  {
   "cell_type": "code",
   "execution_count": null,
   "metadata": {},
   "outputs": [],
   "source": [
    "# オッズと人気を特徴量から省いた場合_ランク、二値、クロスバリデーション（最終番目）\n",
    "evaluator = Evaluator_lightgbm_rank_niti_cross(\n",
    "    evaluation_filename=\"evaluation_lightgbm_rank_niti_cv_dev_dirt_nowin_in3.csv\",\n",
    "    return_tables_filename = \"return_tables_dirt_nowin.pickle\",\n",
    ")\n",
    "evaluator.summarize_box_top_n(n=3,save_filename=\"box_summary_rank_niti_cross_dev_dirt_nowin_in3.csv\")\n",
    "summary_df_noodds_gbm = evaluator.summarize_box_exp(exp_name=\"lightgbm_rank_niti_cross_dev_dirt_nowin\")\n",
    "summary_df_noodds_gbm"
   ]
  },
  {
   "cell_type": "code",
   "execution_count": null,
   "metadata": {},
   "outputs": [],
   "source": []
  },
  {
   "cell_type": "code",
   "execution_count": null,
   "metadata": {},
   "outputs": [],
   "source": []
  },
  {
   "cell_type": "code",
   "execution_count": null,
   "metadata": {},
   "outputs": [],
   "source": []
  },
  {
   "cell_type": "code",
   "execution_count": null,
   "metadata": {},
   "outputs": [],
   "source": []
  },
  {
   "cell_type": "code",
   "execution_count": null,
   "metadata": {},
   "outputs": [],
   "source": []
  },
  {
   "cell_type": "code",
   "execution_count": null,
   "metadata": {},
   "outputs": [],
   "source": []
  },
  {
   "cell_type": "code",
   "execution_count": null,
   "metadata": {},
   "outputs": [],
   "source": []
  },
  {
   "cell_type": "code",
   "execution_count": null,
   "metadata": {},
   "outputs": [],
   "source": []
  },
  {
   "cell_type": "code",
   "execution_count": null,
   "metadata": {},
   "outputs": [],
   "source": []
  },
  {
   "cell_type": "code",
   "execution_count": null,
   "metadata": {},
   "outputs": [],
   "source": []
  },
  {
   "cell_type": "code",
   "execution_count": null,
   "metadata": {},
   "outputs": [],
   "source": []
  },
  {
   "cell_type": "code",
   "execution_count": null,
   "metadata": {
    "collapsed": true,
    "jupyter": {
     "outputs_hidden": true,
     "source_hidden": true
    }
   },
   "outputs": [],
   "source": [
    "# オッズと人気を特徴量から省いた場合_time、回帰、クロスバリデーション（最終番目）_軸\n",
    "evaluator = Evaluator_lightgbm_rank_niti_shaft(\n",
    "    evaluation_filename=\"evaluation_lightgbm_rank_niti_cv_dev_turf_only_tenkai_in3.csv\",\n",
    "    return_tables_filename = \"return_tables_turf.pickle\",\n",
    ")\n",
    "evaluator.summarize_box_top_n(n=3,save_filename=\"shaft_summary_rank_niti_dev_top3_turf_only_tenkai_in3.csv\")\n",
    "summary_df_shaft = evaluator.summarize_box_exp(exp_name=\"lightgbm_rank_niti_cross_dev_turf_only_tenkai\")\n",
    "summary_df_shaft"
   ]
  },
  {
   "cell_type": "code",
   "execution_count": null,
   "metadata": {},
   "outputs": [],
   "source": [
    "%autoreload"
   ]
  },
  {
   "cell_type": "code",
   "execution_count": null,
   "metadata": {},
   "outputs": [],
   "source": [
    "# オッズと人気を特徴量から省いた場合_ランク、二値、クロスバリデーション（最終番目）\n",
    "evaluator_in3 = Evaluator_lightgbm_rank_niti_cross_in3(\n",
    "    evaluation_filename=\"evaluation_lightgbm_rank_niti_cv_dev_turf_only_tenkai_in3.csv\",\n",
    "    return_tables_filename = \"return_tables_turf.pickle\",\n",
    ")\n",
    "evaluator_in3.summarize_box_top_n(n=3,save_filename=\"box_summary_rank_niti_cross_dev_turf_only_tenkai_in3.csv\")\n",
    "summary_df_noodds_gbm_in3 = evaluator_in3.summarize_box_exp(exp_name=\"lightgbm_rank_niti_cross_dev_turf_only_tenkai_in3\")\n",
    "summary_df_noodds_gbm_in3"
   ]
  },
  {
   "cell_type": "code",
   "execution_count": null,
   "metadata": {},
   "outputs": [],
   "source": [
    "# オッズと人気を特徴量から省いた場合_ランク、二値、クロスバリデーション（最終番目）\n",
    "evaluator_in3 = Evaluator_lightgbm_rank_niti_cross_in3(\n",
    "    evaluation_filename=\"evaluation_lightgbm_rank_niti_cv_dev_dirt_only_tenkai_in3.csv\",\n",
    "    return_tables_filename = \"return_tables_dirt.pickle\",\n",
    ")\n",
    "evaluator_in3.summarize_box_top_n(n=3,save_filename=\"box_summary_rank_niti_cross_dev_dirt_only_tenkai_in3.csv\")\n",
    "summary_df_noodds_gbm_in3 = evaluator_in3.summarize_box_exp(exp_name=\"lightgbm_rank_niti_cross_dev_dirt_only_tenkai_in3\")\n",
    "summary_df_noodds_gbm_in3"
   ]
  },
  {
   "cell_type": "code",
   "execution_count": null,
   "metadata": {},
   "outputs": [],
   "source": []
  },
  {
   "cell_type": "code",
   "execution_count": null,
   "metadata": {},
   "outputs": [],
   "source": []
  },
  {
   "cell_type": "code",
   "execution_count": null,
   "metadata": {},
   "outputs": [],
   "source": [
    "# オッズと人気を特徴量から省いた場合_ランク、二値、クロスバリデーション（最終番目）\n",
    "evaluator_in3 = Evaluator_lightgbm_rank_niti_cross_in3(\n",
    "    evaluation_filename=\"evaluation_lightgbm_rank_niti_cv_dev_turf_nowin_only_tenkai_in3.csv\",\n",
    "    return_tables_filename = \"return_tables_turf_nowin.pickle\",\n",
    ")\n",
    "evaluator_in3.summarize_box_top_n(n=3,save_filename=\"box_summary_rank_niti_cross_dev_turf_nowin_only_tenkai_in3.csv\")\n",
    "summary_df_noodds_gbm_in3 = evaluator_in3.summarize_box_exp(exp_name=\"lightgbm_rank_niti_cross_dev_turf_nowin_only_tenkai_in3\")\n",
    "summary_df_noodds_gbm_in3"
   ]
  },
  {
   "cell_type": "code",
   "execution_count": null,
   "metadata": {},
   "outputs": [],
   "source": [
    "# オッズと人気を特徴量から省いた場合_ランク、二値、クロスバリデーション（最終番目）\n",
    "evaluator_in3 = Evaluator_lightgbm_rank_niti_cross_in3(\n",
    "    evaluation_filename=\"evaluation_lightgbm_rank_niti_cv_dev_dirt_nowin_only_tenkai_in3.csv\",\n",
    "    return_tables_filename = \"return_tables_dirt_nowin.pickle\",\n",
    ")\n",
    "evaluator_in3.summarize_box_top_n(n=3,save_filename=\"box_summary_rank_niti_cross_dev_dirt_only_tenkai_in3.csv\")\n",
    "summary_df_noodds_gbm_in3 = evaluator_in3.summarize_box_exp(exp_name=\"lightgbm_rank_niti_cross_dev_dirt_only_tenkai_in3\")\n",
    "summary_df_noodds_gbm_in3"
   ]
  },
  {
   "cell_type": "code",
   "execution_count": null,
   "metadata": {},
   "outputs": [],
   "source": [
    "%autoreload"
   ]
  },
  {
   "cell_type": "code",
   "execution_count": null,
   "metadata": {},
   "outputs": [],
   "source": [
    "# オッズと人気を特徴量から省いた場合_ランク、二値、クロスバリデーション（最終番目）\n",
    "evaluator_in3 = Evaluator_lightgbm_rank_niti_cross_in3(\n",
    "    evaluation_filename=\"evaluation_lightgbm_rank_niti_cv_dev_dirt_only_tenkai_weight_in3.csv\",\n",
    "    return_tables_filename = \"return_tables_dirt.pickle\",\n",
    ")\n",
    "evaluator_in3.summarize_box_top_n(n=3,save_filename=\"box_summary_rank_niti_cross_dev_dirt_only_tenkai_in3.csv\")\n",
    "summary_df_noodds_gbm_in3 = evaluator_in3.summarize_box_exp(exp_name=\"lightgbm_rank_niti_cross_dev_dirt_only_tenkai_in3\")\n",
    "summary_df_noodds_gbm_in3"
   ]
  },
  {
   "cell_type": "code",
   "execution_count": null,
   "metadata": {},
   "outputs": [],
   "source": [
    "# オッズと人気を特徴量から省いた場合_ランク、二値、クロスバリデーション（最終番目）\n",
    "evaluator_in3 = Evaluator_lightgbm_rank_niti_cross_in3(\n",
    "    evaluation_filename=\"evaluation_lightgbm_rank_niti_cv_dev_dirt_nowin_only_tenkai_weight_in3.csv\",\n",
    "    return_tables_filename = \"return_tables_dirt_nowin.pickle\",\n",
    ")\n",
    "evaluator_in3.summarize_box_top_n(n=3,save_filename=\"box_summary_rank_niti_cross_dev_dirt_only_tenkai_in3.csv\")\n",
    "summary_df_noodds_gbm_in3 = evaluator_in3.summarize_box_exp(exp_name=\"lightgbm_rank_niti_cross_dev_dirt_only_tenkai_in3\")\n",
    "summary_df_noodds_gbm_in3"
   ]
  },
  {
   "cell_type": "code",
   "execution_count": null,
   "metadata": {},
   "outputs": [],
   "source": []
  },
  {
   "cell_type": "code",
   "execution_count": null,
   "metadata": {},
   "outputs": [],
   "source": [
    "# オッズと人気を特徴量から省いた場合_ランク、二値、クロスバリデーション（最終番目）\n",
    "evaluator_in3 = Evaluator_lightgbm_rank_niti_cross_in3(\n",
    "    evaluation_filename=\"evaluation_lightgbm_rank_niti_cv_dev_turf_only_tenkai_ex_in3.csv\",\n",
    "    return_tables_filename = \"return_tables_turf.pickle\",\n",
    ")\n",
    "evaluator_in3.summarize_box_top_n(n=3,save_filename=\"box_summary_rank_niti_cross_dev_turf_only_tenkai_ex_in3.csv\")\n",
    "summary_df_noodds_gbm_in3 = evaluator_in3.summarize_box_exp(exp_name=\"lightgbm_rank_niti_cross_dev_turf_only_tenkai_ex_in3\")\n",
    "summary_df_noodds_gbm_in3"
   ]
  },
  {
   "cell_type": "code",
   "execution_count": null,
   "metadata": {},
   "outputs": [],
   "source": []
  },
  {
   "cell_type": "code",
   "execution_count": null,
   "metadata": {},
   "outputs": [],
   "source": []
  },
  {
   "cell_type": "code",
   "execution_count": null,
   "metadata": {},
   "outputs": [],
   "source": []
  },
  {
   "cell_type": "code",
   "execution_count": null,
   "metadata": {
    "collapsed": true,
    "jupyter": {
     "outputs_hidden": true,
     "source_hidden": true
    }
   },
   "outputs": [],
   "source": [
    "# オッズと人気を特徴量から省いたランク、日、クロスバリデーション\n",
    "trainer = Trainer_lightgbm_rank_niti_cv_in3(\n",
    "    \n",
    "    features_filename = \"features_turf.csv\", \n",
    "    config_filepath=\"config_lightgbm_niti_dev_turf_only_tenkai.yaml\",\n",
    ")\n",
    "evaluation_df = trainer.run(\n",
    "    n_splits = 5,\n",
    "    importance_filename=\"importance_lightgbm_rank_niti_cv_dev_turf_only_tenkai_in3\",\n",
    "    model_filename=\"model_lightgbm_rank_niti_cv_dev_turf_only_tenkai_in3.pkl\",\n",
    "    evaluation_filename=\"evaluation_lightgbm_rank_niti_cv_dev_turf_only_tenkai_in3.csv\",\n",
    "    final_model_filename = \"model_lightgbm_rank_niti_cv_full_dev_turf_only_tenkai_in3.pkl\",\n",
    "    final_num_boost_round = 1500\n",
    ")"
   ]
  },
  {
   "cell_type": "code",
   "execution_count": null,
   "metadata": {
    "collapsed": true,
    "jupyter": {
     "outputs_hidden": true,
     "source_hidden": true
    }
   },
   "outputs": [],
   "source": [
    "# オッズと人気を特徴量から省いた場合_ランク、二値、クロスバリデーション（最終番目）\n",
    "evaluator = Evaluator_lightgbm_rank_niti_cross(\n",
    "    evaluation_filename=\"evaluation_lightgbm_rank_niti_cv_dev_turf_only_tenkai_in3.csv\",\n",
    "    return_tables_filename = \"return_tables_turf.pickle\",\n",
    ")\n",
    "evaluator.summarize_box_top_n(n=3,save_filename=\"box_summary_rank_niti_cross_dev_turf_only_tenkai_in3.csv\")\n",
    "summary_df_noodds_gbm = evaluator.summarize_box_exp(exp_name=\"lightgbm_rank_niti_cross_dev_turf_only_tenkai\")\n",
    "summary_df_noodds_gbm"
   ]
  },
  {
   "cell_type": "code",
   "execution_count": null,
   "metadata": {},
   "outputs": [],
   "source": []
  },
  {
   "cell_type": "code",
   "execution_count": null,
   "metadata": {},
   "outputs": [],
   "source": []
  },
  {
   "cell_type": "code",
   "execution_count": null,
   "metadata": {},
   "outputs": [],
   "source": []
  },
  {
   "cell_type": "code",
   "execution_count": null,
   "metadata": {},
   "outputs": [],
   "source": [
    "%autoreload"
   ]
  },
  {
   "cell_type": "code",
   "execution_count": null,
   "metadata": {},
   "outputs": [],
   "source": []
  },
  {
   "cell_type": "markdown",
   "metadata": {},
   "source": [
    "##　状況"
   ]
  },
  {
   "cell_type": "code",
   "execution_count": null,
   "metadata": {},
   "outputs": [],
   "source": []
  },
  {
   "cell_type": "markdown",
   "metadata": {
    "jp-MarkdownHeadingCollapsed": true
   },
   "source": [
    "### 期待値"
   ]
  },
  {
   "cell_type": "code",
   "execution_count": null,
   "metadata": {},
   "outputs": [],
   "source": [
    "\n",
    "# オッズと人気を特徴量から省いた場合_ランク、二値、クロスバリデーション（最終番目）\n",
    "evaluator_ex_value = Evaluator_lightgbm_rank_niti_cross_ex_value(\n",
    "    evaluation_filename=\"evaluation_lightgbm_rank_niti_cv_dev_turf.csv\",\n",
    "    return_tables_filename = \"return_tables_turf.pickle\",\n",
    ")\n",
    "evaluator_ex_value.summarize_box_top_n(n=3,save_filename=\"box_summary_rank_niti_cross_dev_turf_ex_value.csv\")\n",
    "summary_df_noodds_gbm_ex_value = evaluator_ex_value.summarize_box_exp(exp_name=\"lightgbm_rank_niti_cross_dev_turf_ex_value\")\n",
    "summary_df_noodds_gbm_ex_value"
   ]
  },
  {
   "cell_type": "code",
   "execution_count": null,
   "metadata": {},
   "outputs": [],
   "source": [
    "\n",
    "# オッズと人気を特徴量から省いた場合_ランク、二値、クロスバリデーション（最終番目）\n",
    "evaluator_ex_value = Evaluator_lightgbm_rank_niti_cross_ex_value(\n",
    "    evaluation_filename=\"evaluation_lightgbm_rank_niti_cv_dev_dirt.csv\",\n",
    "    return_tables_filename = \"return_tables_dirt.pickle\",\n",
    ")\n",
    "evaluator_ex_value.summarize_box_top_n(n=3,save_filename=\"box_summary_rank_niti_cross_dev_dirt_ex_value.csv\")\n",
    "summary_df_noodds_gbm_ex_value = evaluator_ex_value.summarize_box_exp(exp_name=\"lightgbm_rank_niti_cross_dev_dirt_ex_value\")\n",
    "summary_df_noodds_gbm_ex_value"
   ]
  },
  {
   "cell_type": "code",
   "execution_count": null,
   "metadata": {},
   "outputs": [],
   "source": [
    "\n",
    "# オッズと人気を特徴量から省いた場合_ランク、二値、クロスバリデーション（最終番目）\n",
    "evaluator_ex_value = Evaluator_lightgbm_rank_niti_cross_ex_value(\n",
    "    evaluation_filename=\"evaluation_lightgbm_rank_niti_cv_dev_turf_only_tenkai.csv\",\n",
    "    return_tables_filename = \"return_tables_turf.pickle\",\n",
    ")\n",
    "evaluator_ex_value.summarize_box_top_n(n=3,save_filename=\"box_summary_rank_niti_cross_dev_turf_only_tenkai_ex_value.csv\")\n",
    "summary_df_noodds_gbm_ex_value = evaluator_ex_value.summarize_box_exp(exp_name=\"lightgbm_rank_niti_cross_dev_turf_only_tenkai_ex_value\")\n",
    "summary_df_noodds_gbm_ex_value"
   ]
  },
  {
   "cell_type": "code",
   "execution_count": null,
   "metadata": {},
   "outputs": [],
   "source": []
  },
  {
   "cell_type": "code",
   "execution_count": null,
   "metadata": {},
   "outputs": [],
   "source": []
  },
  {
   "cell_type": "code",
   "execution_count": null,
   "metadata": {},
   "outputs": [],
   "source": [
    "\n",
    "# オッズと人気を特徴量から省いた場合_ランク、二値、クロスバリデーション（最終番目）\n",
    "evaluator_ex_value = Evaluator_lightgbm_rank_niti_cross_ex_value(\n",
    "    evaluation_filename=\"evaluation_lightgbm_rank_niti_cv_dev_turf_in3.csv\",\n",
    "    return_tables_filename = \"return_tables_turf.pickle\",\n",
    ")\n",
    "evaluator_ex_value.summarize_box_top_n(n=3,save_filename=\"box_summary_rank_niti_cross_dev_turf_ex_value.csv\")\n",
    "summary_df_noodds_gbm_ex_value = evaluator_ex_value.summarize_box_exp(exp_name=\"lightgbm_rank_niti_cross_dev_turf_ex_value\")\n",
    "summary_df_noodds_gbm_ex_value"
   ]
  },
  {
   "cell_type": "code",
   "execution_count": null,
   "metadata": {},
   "outputs": [],
   "source": [
    "# オッズと人気を特徴量から省いた場合_ランク、二値、クロスバリデーション（最終番目）\n",
    "evaluator_ex_value = Evaluator_lightgbm_rank_niti_cross_ex_value(\n",
    "    evaluation_filename=\"evaluation_lightgbm_rank_niti_cv_dev_dirt_in3.csv\",\n",
    "    return_tables_filename = \"return_tables_dirt.pickle\",\n",
    ")\n",
    "evaluator_ex_value.summarize_box_top_n(n=3,save_filename=\"box_summary_rank_niti_cross_dev_dirt_ex_value.csv\")\n",
    "summary_df_noodds_gbm_ex_value = evaluator_ex_value.summarize_box_exp(exp_name=\"lightgbm_rank_niti_cross_dev_dirt_ex_value\")\n",
    "summary_df_noodds_gbm_ex_value"
   ]
  },
  {
   "cell_type": "code",
   "execution_count": null,
   "metadata": {},
   "outputs": [],
   "source": [
    "\n",
    "# オッズと人気を特徴量から省いた場合_ランク、二値、クロスバリデーション（最終番目）\n",
    "evaluator_ex_value = Evaluator_lightgbm_rank_niti_cross_ex_value(\n",
    "    evaluation_filename=\"evaluation_lightgbm_rank_niti_cv_dev_turf_only_tenkai_in3.csv\",\n",
    "    return_tables_filename = \"return_tables_turf.pickle\",\n",
    ")\n",
    "evaluator_ex_value.summarize_box_top_n(n=3,save_filename=\"box_summary_rank_niti_cross_dev_turf_only_tenkai_ex_value.csv\")\n",
    "summary_df_noodds_gbm_ex_value = evaluator_ex_value.summarize_box_exp(exp_name=\"lightgbm_rank_niti_cross_dev_turf_only_tenkai_ex_value\")\n",
    "summary_df_noodds_gbm_ex_value"
   ]
  },
  {
   "cell_type": "code",
   "execution_count": null,
   "metadata": {},
   "outputs": [],
   "source": [
    "# オッズと人気を特徴量から省いた場合_ランク、二値、クロスバリデーション（最終番目）\n",
    "evaluator_ex_value = Evaluator_lightgbm_rank_niti_cross_ex_value(\n",
    "    evaluation_filename=\"evaluation_lightgbm_rank_niti_cv_dev_obstract_in3.csv\",\n",
    "    return_tables_filename = \"return_tables_obstract.pickle\",\n",
    ")\n",
    "evaluator_ex_value.summarize_box_top_n(n=3,save_filename=\"box_summary_rank_niti_cross_dev_obstract_ex_value.csv\")\n",
    "summary_df_noodds_gbm_ex_value = evaluator_ex_value.summarize_box_exp(exp_name=\"lightgbm_rank_niti_cross_dev_obstract_ex_value\")\n",
    "summary_df_noodds_gbm_ex_value"
   ]
  },
  {
   "cell_type": "code",
   "execution_count": null,
   "metadata": {},
   "outputs": [],
   "source": []
  },
  {
   "cell_type": "code",
   "execution_count": null,
   "metadata": {},
   "outputs": [],
   "source": []
  },
  {
   "cell_type": "code",
   "execution_count": null,
   "metadata": {},
   "outputs": [],
   "source": []
  },
  {
   "cell_type": "code",
   "execution_count": null,
   "metadata": {},
   "outputs": [],
   "source": []
  },
  {
   "cell_type": "markdown",
   "metadata": {},
   "source": []
  },
  {
   "cell_type": "code",
   "execution_count": null,
   "metadata": {},
   "outputs": [],
   "source": []
  },
  {
   "cell_type": "code",
   "execution_count": null,
   "metadata": {},
   "outputs": [],
   "source": []
  },
  {
   "cell_type": "code",
   "execution_count": null,
   "metadata": {},
   "outputs": [],
   "source": []
  },
  {
   "cell_type": "code",
   "execution_count": null,
   "metadata": {},
   "outputs": [],
   "source": []
  },
  {
   "cell_type": "code",
   "execution_count": null,
   "metadata": {},
   "outputs": [],
   "source": []
  },
  {
   "cell_type": "code",
   "execution_count": null,
   "metadata": {},
   "outputs": [],
   "source": []
  },
  {
   "cell_type": "code",
   "execution_count": null,
   "metadata": {},
   "outputs": [],
   "source": []
  },
  {
   "cell_type": "code",
   "execution_count": null,
   "metadata": {},
   "outputs": [],
   "source": []
  },
  {
   "cell_type": "code",
   "execution_count": null,
   "metadata": {},
   "outputs": [],
   "source": []
  },
  {
   "cell_type": "code",
   "execution_count": null,
   "metadata": {},
   "outputs": [],
   "source": []
  },
  {
   "cell_type": "code",
   "execution_count": null,
   "metadata": {},
   "outputs": [],
   "source": []
  },
  {
   "cell_type": "markdown",
   "metadata": {},
   "source": [
    "# 精度評価\n",
    "- popは人気列にかけた場合の回収率、的中率です\n",
    "- topnはそのモデルが評価した上からn番目にかけた場合の的中回収です\n",
    "- 例えばtop4の馬単にかけた場合上から4つの馬をかけた、4*3=12通りの的中率、回収率を計算します\n",
    "- なので、馬単と馬連などの的中率は同じになりますが、回収率は変わります"
   ]
  },
  {
   "cell_type": "code",
   "execution_count": null,
   "metadata": {
    "collapsed": true,
    "jupyter": {
     "outputs_hidden": true,
     "source_hidden": true
    }
   },
   "outputs": [],
   "source": [
    "# オッズ_time、回帰、クロスバリデーション（最終番目）\n",
    "evaluator = Evaluator_lightgbm_time_kaiki(\n",
    "    evaluation_filename=\"evaluation_lightgbm_time_cv_turf.csv\",\n",
    "    return_tables_filenamer = \"return_tables_turf.pickle\",\n",
    ")\n",
    "evaluator.summarize_box_top_n(n=3,save_filename=\"box_summary_time_cross_top3_turf.csv\")\n",
    "summary_df_noodds_gbm = evaluator.summarize_box_exp(exp_name=\"lightgbm_time_cross_turf\")\n",
    "summary_df_noodds_gbm"
   ]
  },
  {
   "cell_type": "code",
   "execution_count": null,
   "metadata": {
    "collapsed": true,
    "jupyter": {
     "outputs_hidden": true,
     "source_hidden": true
    }
   },
   "outputs": [],
   "source": [
    "# オッズと人気を特徴量から省いた場合_time、回帰、クロスバリデーション（最終番目）\n",
    "evaluator = Evaluator_lightgbm_time_kaiki(\n",
    "    evaluation_filename=\"evaluation_lightgbm_time_cv_nopast_turf.csv\",\n",
    "    return_tables_filenamer = \"return_tables_turf.pickle\",\n",
    ")\n",
    "evaluator.summarize_box_top_n(n=3,save_filename=\"box_summary_time_cross_past_top3_turf.csv\")\n",
    "summary_df_noodds_gbm = evaluator.summarize_box_exp(exp_name=\"lightgbm_time_nopast_turf\")\n",
    "summary_df_noodds_gbm"
   ]
  },
  {
   "cell_type": "code",
   "execution_count": null,
   "metadata": {
    "collapsed": true,
    "jupyter": {
     "outputs_hidden": true,
     "source_hidden": true
    }
   },
   "outputs": [],
   "source": [
    "# オッズと人気を特徴量から省いた場合_time、回帰、クロスバリデーション（最終番目）\n",
    "evaluator = Evaluator_lightgbm_time_kaiki(\n",
    "    evaluation_filename=\"evaluation_lightgbm_time_cv_dev_turf.csv\",\n",
    "    return_tables_filename = \"return_tables_turf.pickle\",\n",
    ")\n",
    "evaluator.summarize_box_top_n(n=3,save_filename=\"box_summary_time_cross_dev_top3_turf.csv\")\n",
    "summary_df_noodds_gbm = evaluator.summarize_box_exp(exp_name=\"lightgbm_time_dev_turf\")\n",
    "summary_df_noodds_gbm"
   ]
  },
  {
   "cell_type": "code",
   "execution_count": null,
   "metadata": {
    "collapsed": true,
    "jupyter": {
     "outputs_hidden": true,
     "source_hidden": true
    }
   },
   "outputs": [],
   "source": [
    "# オッズと人気を特徴量から省いた場合_time、回帰、クロスバリデーション（最終番目）_軸\n",
    "evaluator = Evaluator_lightgbm_time_kaiki_shaft(\n",
    "    evaluation_filename=\"evaluation_lightgbm_time_cv_dev_turf.csv\",\n",
    "    return_tables_filename = \"return_tables_turf.pickle\",\n",
    ")\n",
    "evaluator.summarize_box_top_n(n=3,save_filename=\"shaft_summary_time_cross_dev_top3_turf.csv\")\n",
    "summary_df_shaft = evaluator.summarize_box_exp(exp_name=\"lightgbm_time_cross_dev_turf\")\n",
    "summary_df_shaft\n"
   ]
  },
  {
   "cell_type": "code",
   "execution_count": null,
   "metadata": {},
   "outputs": [],
   "source": []
  },
  {
   "cell_type": "code",
   "execution_count": null,
   "metadata": {
    "collapsed": true,
    "jupyter": {
     "outputs_hidden": true,
     "source_hidden": true
    }
   },
   "outputs": [],
   "source": [
    "# オッズ_time、回帰、クロスバリデーション（最終番目）\n",
    "evaluator = Evaluator_lightgbm_time_kaiki(\n",
    "    evaluation_filename=\"evaluation_lightgbm_time_cv_dev_turf_odds.csv\",\n",
    "    return_tables_filename = \"return_tables_turf.pickle\",\n",
    ")\n",
    "evaluator.summarize_box_top_n(n=3,save_filename=\"box_summary_time_cross_dev_top3_turf_odds.csv\")\n",
    "summary_df_noodds_gbm = evaluator.summarize_box_exp(exp_name=\"lightgbm_time_dev_turf_odds\")\n",
    "summary_df_noodds_gbm"
   ]
  },
  {
   "cell_type": "code",
   "execution_count": null,
   "metadata": {
    "collapsed": true,
    "jupyter": {
     "outputs_hidden": true,
     "source_hidden": true
    }
   },
   "outputs": [],
   "source": [
    "# オッズ_軸\n",
    "evaluator = Evaluator_lightgbm_time_kaiki_shaft(\n",
    "    evaluation_filename=\"evaluation_lightgbm_time_cv_dev_turf_odds.csv\",\n",
    "    return_tables_filename = \"return_tables_turf.pickle\",\n",
    ")\n",
    "evaluator.summarize_box_top_n(n=3,save_filename=\"shaft_summary_time_cross_dev_top3_turf_odds.csv\")\n",
    "summary_df_shaft = evaluator.summarize_box_exp(exp_name=\"lightgbm_time_cross_dev_turf_odds\")\n",
    "summary_df_shaft\n"
   ]
  },
  {
   "cell_type": "code",
   "execution_count": null,
   "metadata": {},
   "outputs": [],
   "source": []
  },
  {
   "cell_type": "code",
   "execution_count": null,
   "metadata": {},
   "outputs": [],
   "source": []
  },
  {
   "cell_type": "code",
   "execution_count": null,
   "metadata": {},
   "outputs": [],
   "source": []
  },
  {
   "cell_type": "code",
   "execution_count": null,
   "metadata": {},
   "outputs": [],
   "source": []
  },
  {
   "cell_type": "code",
   "execution_count": null,
   "metadata": {},
   "outputs": [],
   "source": []
  },
  {
   "cell_type": "code",
   "execution_count": null,
   "metadata": {},
   "outputs": [],
   "source": []
  },
  {
   "cell_type": "code",
   "execution_count": null,
   "metadata": {},
   "outputs": [],
   "source": []
  },
  {
   "cell_type": "code",
   "execution_count": null,
   "metadata": {
    "jupyter": {
     "source_hidden": true
    }
   },
   "outputs": [],
   "source": [
    "# オッズと人気を特徴量から省いた場合_time、回帰、クロスバリデーション（最終番目）\n",
    "evaluator = Evaluator_lightgbm_time_kaiki(\n",
    "    evaluation_filename=\"evaluation_lightgbm_time_cv_dev_turf_newbie.csv\",\n",
    "    return_tables_filename = \"return_tables_turf_newbie.pickle\",\n",
    ")\n",
    "evaluator.summarize_box_top_n(n=3,save_filename=\"box_summary_time_cross_dev_top3_turf_newbie.csv\")\n",
    "summary_df_noodds_gbm = evaluator.summarize_box_exp(exp_name=\"lightgbm_time_dev_turf_newbie\")\n",
    "summary_df_noodds_gbm"
   ]
  },
  {
   "cell_type": "code",
   "execution_count": null,
   "metadata": {
    "collapsed": true,
    "jupyter": {
     "outputs_hidden": true,
     "source_hidden": true
    }
   },
   "outputs": [],
   "source": [
    "# オッズと人気を特徴量から省いた場合_time、回帰、クロスバリデーション（最終番目）\n",
    "evaluator = Evaluator_lightgbm_time_kaiki(\n",
    "    evaluation_filename=\"evaluation_lightgbm_time_cv_dev_turf_nowin.csv\",\n",
    "    return_tables_filename = \"return_tables_turf_nowin.pickle\",\n",
    ")\n",
    "evaluator.summarize_box_top_n(n=3,save_filename=\"box_summary_time_cross_dev_top3_turf_nowin.csv\")\n",
    "summary_df_noodds_gbm = evaluator.summarize_box_exp(exp_name=\"lightgbm_time_dev_turf_nowin\")\n",
    "summary_df_noodds_gbm"
   ]
  },
  {
   "cell_type": "code",
   "execution_count": null,
   "metadata": {
    "collapsed": true,
    "jupyter": {
     "outputs_hidden": true,
     "source_hidden": true
    }
   },
   "outputs": [],
   "source": [
    "# オッズと人気を特徴量から省いた場合_time、回帰、クロスバリデーション（最終番目）\n",
    "evaluator = Evaluator_lightgbm_time_kaiki(\n",
    "    evaluation_filename=\"evaluation_lightgbm_time_cv_dev_dirt.csv\",\n",
    "    return_tables_filename = \"return_tables_dirt.pickle\",\n",
    ")\n",
    "evaluator.summarize_box_top_n(n=3,save_filename=\"box_summary_time_cross_dev_top3_dirt.csv\")\n",
    "summary_df_noodds_gbm = evaluator.summarize_box_exp(exp_name=\"lightgbm_time_dev_dirt\")\n",
    "summary_df_noodds_gbm"
   ]
  },
  {
   "cell_type": "code",
   "execution_count": null,
   "metadata": {
    "collapsed": true,
    "jupyter": {
     "outputs_hidden": true,
     "source_hidden": true
    }
   },
   "outputs": [],
   "source": [
    "# オッズと人気を特徴量から省いた場合_time、回帰、クロスバリデーション（最終番目）_軸\n",
    "evaluator = Evaluator_lightgbm_time_kaiki_shaft(\n",
    "    evaluation_filename=\"evaluation_lightgbm_time_cv_dev_dirt.csv\",\n",
    "    return_tables_filename = \"return_tables_dirt.pickle\",\n",
    ")\n",
    "evaluator.summarize_box_top_n(n=3,save_filename=\"shaft_summary_time_cross_dev_top3_dirt.csv\")\n",
    "summary_df_shaft = evaluator.summarize_box_exp(exp_name=\"lightgbm_time_cross_dev_dirt\")\n",
    "summary_df_shaft\n"
   ]
  },
  {
   "cell_type": "code",
   "execution_count": null,
   "metadata": {},
   "outputs": [],
   "source": []
  },
  {
   "cell_type": "code",
   "execution_count": null,
   "metadata": {
    "collapsed": true,
    "jupyter": {
     "outputs_hidden": true,
     "source_hidden": true
    }
   },
   "outputs": [],
   "source": [
    "# オッズ_time、回帰、クロスバリデーション（最終番目）\n",
    "evaluator = Evaluator_lightgbm_time_kaiki(\n",
    "    evaluation_filename=\"evaluation_lightgbm_time_cv_dev_dirt_odds.csv\",\n",
    "    return_tables_filename = \"return_tables_dirt.pickle\",\n",
    ")\n",
    "evaluator.summarize_box_top_n(n=3,save_filename=\"box_summary_time_cross_dev_top3_dirt_odds.csv\")\n",
    "summary_df_noodds_gbm = evaluator.summarize_box_exp(exp_name=\"lightgbm_time_dev_dirt_odds\")\n",
    "summary_df_noodds_gbm"
   ]
  },
  {
   "cell_type": "code",
   "execution_count": null,
   "metadata": {
    "collapsed": true,
    "jupyter": {
     "outputs_hidden": true,
     "source_hidden": true
    }
   },
   "outputs": [],
   "source": [
    "# オッズ_軸\n",
    "evaluator = Evaluator_lightgbm_time_kaiki_shaft(\n",
    "    evaluation_filename=\"evaluation_lightgbm_time_cv_dev_dirt_odds.csv\",\n",
    "    return_tables_filename = \"return_tables_dirt.pickle\",\n",
    ")\n",
    "evaluator.summarize_box_top_n(n=3,save_filename=\"shaft_summary_time_cross_dev_top3_dirt_odds.csv\")\n",
    "summary_df_shaft = evaluator.summarize_box_exp(exp_name=\"lightgbm_time_cross_dev_dirt_odds\")\n",
    "summary_df_shaft"
   ]
  },
  {
   "cell_type": "code",
   "execution_count": null,
   "metadata": {},
   "outputs": [],
   "source": []
  },
  {
   "cell_type": "code",
   "execution_count": null,
   "metadata": {},
   "outputs": [],
   "source": []
  },
  {
   "cell_type": "code",
   "execution_count": null,
   "metadata": {},
   "outputs": [],
   "source": []
  },
  {
   "cell_type": "code",
   "execution_count": null,
   "metadata": {},
   "outputs": [],
   "source": []
  },
  {
   "cell_type": "code",
   "execution_count": null,
   "metadata": {},
   "outputs": [],
   "source": []
  },
  {
   "cell_type": "code",
   "execution_count": null,
   "metadata": {},
   "outputs": [],
   "source": []
  },
  {
   "cell_type": "code",
   "execution_count": null,
   "metadata": {},
   "outputs": [],
   "source": []
  },
  {
   "cell_type": "code",
   "execution_count": null,
   "metadata": {},
   "outputs": [],
   "source": []
  },
  {
   "cell_type": "code",
   "execution_count": null,
   "metadata": {},
   "outputs": [],
   "source": []
  },
  {
   "cell_type": "code",
   "execution_count": null,
   "metadata": {
    "jupyter": {
     "source_hidden": true
    }
   },
   "outputs": [],
   "source": [
    "# オッズと人気を特徴量から省いた場合_time、回帰、クロスバリデーション（最終番目）\n",
    "evaluator = Evaluator_lightgbm_time_kaiki(\n",
    "    evaluation_filename=\"evaluation_lightgbm_time_cv_dev_dirt_newbie.csv\",\n",
    "    return_tables_filename = \"return_tables_dirt_newbie.pickle\",\n",
    ")\n",
    "evaluator.summarize_box_top_n(n=3,save_filename=\"box_summary_time_cross_dev_top3_dirt_newbie.csv\")\n",
    "summary_df_noodds_gbm = evaluator.summarize_box_exp(exp_name=\"lightgbm_time_dev_dirt_newbie\")\n",
    "summary_df_noodds_gbm"
   ]
  },
  {
   "cell_type": "code",
   "execution_count": null,
   "metadata": {
    "collapsed": true,
    "jupyter": {
     "outputs_hidden": true,
     "source_hidden": true
    }
   },
   "outputs": [],
   "source": [
    "# オッズと人気を特徴量から省いた場合_time、回帰、クロスバリデーション（最終番目）\n",
    "evaluator = Evaluator_lightgbm_time_kaiki(\n",
    "    evaluation_filename=\"evaluation_lightgbm_time_cv_dev_dirt_nowin.csv\",\n",
    "    return_tables_filename = \"return_tables_dirt_nowin.pickle\",\n",
    ")\n",
    "evaluator.summarize_box_top_n(n=3,save_filename=\"box_summary_time_cross_dev_top3_dirt_nowin.csv\")\n",
    "summary_df_noodds_gbm = evaluator.summarize_box_exp(exp_name=\"lightgbm_time_dev_dirt_nowin\")\n",
    "summary_df_noodds_gbm"
   ]
  },
  {
   "cell_type": "code",
   "execution_count": null,
   "metadata": {},
   "outputs": [],
   "source": []
  },
  {
   "cell_type": "code",
   "execution_count": null,
   "metadata": {
    "collapsed": true,
    "jupyter": {
     "outputs_hidden": true,
     "source_hidden": true
    }
   },
   "outputs": [],
   "source": [
    "# オッズと人気を特徴量から省いた場合_time、回帰、クロスバリデーション（最終番目）\n",
    "evaluator = Evaluator_lightgbm_time_kaiki(\n",
    "    evaluation_filename=\"evaluation_lightgbm_time_cv_dev_obstract.csv\",\n",
    "    return_tables_filename = \"return_tables_obstract.pickle\",\n",
    ")\n",
    "evaluator.summarize_box_top_n(n=3,save_filename=\"box_summary_time_cross_dev_top3_obstract.csv\")\n",
    "summary_df_noodds_gbm = evaluator.summarize_box_exp(exp_name=\"lightgbm_time_dev_obstract\")\n",
    "summary_df_noodds_gbm"
   ]
  },
  {
   "cell_type": "code",
   "execution_count": null,
   "metadata": {
    "collapsed": true,
    "jupyter": {
     "outputs_hidden": true,
     "source_hidden": true
    }
   },
   "outputs": [],
   "source": [
    "# オッズと人気を特徴量から省いた場合_time、回帰、クロスバリデーション（最終番目）_軸\n",
    "evaluator = Evaluator_lightgbm_time_kaiki_shaft(\n",
    "    evaluation_filename=\"evaluation_lightgbm_time_cv_dev_obstract.csv\",\n",
    "    return_tables_filename = \"return_tables_obstract.pickle\",\n",
    ")\n",
    "evaluator.summarize_box_top_n(n=3,save_filename=\"shaft_summary_time_cross_dev_top3_obstract.csv\")\n",
    "summary_df_shaft = evaluator.summarize_box_exp(exp_name=\"lightgbm_time_cross_dev_obstract\")\n",
    "summary_df_shaft"
   ]
  },
  {
   "cell_type": "code",
   "execution_count": null,
   "metadata": {
    "collapsed": true,
    "jupyter": {
     "outputs_hidden": true,
     "source_hidden": true
    }
   },
   "outputs": [],
   "source": [
    "# オッズ\n",
    "evaluator = Evaluator_lightgbm_time_kaiki(\n",
    "    evaluation_filename=\"evaluation_lightgbm_time_cv_dev_obstract_odds.csv\",\n",
    "    return_tables_filename = \"return_tables_obstract.pickle\",\n",
    ")\n",
    "evaluator.summarize_box_top_n(n=3,save_filename=\"box_summary_time_cross_dev_top3_obstract_odds.csv\")\n",
    "summary_df_noodds_gbm = evaluator.summarize_box_exp(exp_name=\"lightgbm_time_dev_obstract_odds\")\n",
    "summary_df_noodds_gbm"
   ]
  },
  {
   "cell_type": "code",
   "execution_count": null,
   "metadata": {
    "collapsed": true,
    "jupyter": {
     "outputs_hidden": true,
     "source_hidden": true
    }
   },
   "outputs": [],
   "source": [
    "# オッズと_軸\n",
    "evaluator = Evaluator_lightgbm_time_kaiki_shaft(\n",
    "    evaluation_filename=\"evaluation_lightgbm_time_cv_dev_obstract_odds.csv\",\n",
    "    return_tables_filename = \"return_tables_obstract.pickle\",\n",
    ")\n",
    "evaluator.summarize_box_top_n(n=3,save_filename=\"shaft_summary_time_cross_dev_top3_obstract_odds.csv\")\n",
    "summary_df_shaft = evaluator.summarize_box_exp(exp_name=\"lightgbm_time_cross_dev_obstract_odds\")\n",
    "summary_df_shaft"
   ]
  },
  {
   "cell_type": "code",
   "execution_count": null,
   "metadata": {},
   "outputs": [],
   "source": []
  },
  {
   "cell_type": "code",
   "execution_count": null,
   "metadata": {},
   "outputs": [],
   "source": []
  },
  {
   "cell_type": "code",
   "execution_count": null,
   "metadata": {},
   "outputs": [],
   "source": []
  },
  {
   "cell_type": "code",
   "execution_count": null,
   "metadata": {},
   "outputs": [],
   "source": []
  },
  {
   "cell_type": "code",
   "execution_count": null,
   "metadata": {},
   "outputs": [],
   "source": []
  },
  {
   "cell_type": "code",
   "execution_count": null,
   "metadata": {},
   "outputs": [],
   "source": []
  },
  {
   "cell_type": "code",
   "execution_count": null,
   "metadata": {},
   "outputs": [],
   "source": []
  },
  {
   "cell_type": "code",
   "execution_count": null,
   "metadata": {},
   "outputs": [],
   "source": []
  },
  {
   "cell_type": "code",
   "execution_count": null,
   "metadata": {},
   "outputs": [],
   "source": []
  },
  {
   "cell_type": "code",
   "execution_count": null,
   "metadata": {},
   "outputs": [],
   "source": [
    "%autoreload"
   ]
  },
  {
   "cell_type": "markdown",
   "metadata": {},
   "source": [
    "### 二値分類"
   ]
  },
  {
   "cell_type": "code",
   "execution_count": null,
   "metadata": {},
   "outputs": [],
   "source": [
    "# オッズと人気を特徴量から省いた場合_ランク、二値、クロスバリデーション（最終番目）\n",
    "evaluator = Evaluator_lightgbm_rank_niti_cross(\n",
    "    evaluation_filename=\"evaluation_lightgbm_rank_niti_cv_dev_turf.csv\",\n",
    "    return_tables_filename = \"return_tables_turf.pickle\",\n",
    ")\n",
    "evaluator.summarize_box_top_n(n=3,save_filename=\"box_summary_rank_niti_cross_dev_turf.csv\")\n",
    "summary_df_noodds_gbm = evaluator.summarize_box_exp(exp_name=\"lightgbm_rank_niti_cross_dev_turf\")\n",
    "summary_df_noodds_gbm"
   ]
  },
  {
   "cell_type": "code",
   "execution_count": null,
   "metadata": {
    "jupyter": {
     "source_hidden": true
    }
   },
   "outputs": [],
   "source": [
    "# オッズと人気を特徴量から省いた場合_time、回帰、クロスバリデーション（最終番目）_軸\n",
    "evaluator = Evaluator_lightgbm_rank_niti_shaft(\n",
    "    evaluation_filename=\"evaluation_lightgbm_rank_niti_cv_dev_turf.csv\",\n",
    "    return_tables_filename = \"return_tables_turf.pickle\",\n",
    ")\n",
    "evaluator.summarize_box_top_n(n=3,save_filename=\"shaft_summary_rank_niti_dev_top3_turf.csv\")\n",
    "summary_df_shaft = evaluator.summarize_box_exp(exp_name=\"lightgbm_rank_niti_cross_dev_turf\")\n",
    "summary_df_shaft\n"
   ]
  },
  {
   "cell_type": "code",
   "execution_count": null,
   "metadata": {},
   "outputs": [],
   "source": [
    "# オッズと人気を特徴量から省いた場合_ランク、二値、クロスバリデーション（最終番目）\n",
    "evaluator = Evaluator_lightgbm_rank_niti_cross(\n",
    "    evaluation_filename=\"evaluation_lightgbm_rank_niti_cv_dev_turf_noweight.csv\",\n",
    "    return_tables_filename = \"return_tables_turf.pickle\",\n",
    ")\n",
    "evaluator.summarize_box_top_n(n=3,save_filename=\"box_summary_rank_niti_cross_dev_turf_noweight.csv\")\n",
    "summary_df_noodds_gbm = evaluator.summarize_box_exp(exp_name=\"lightgbm_rank_niti_cross_dev_turf_noweight\")\n",
    "summary_df_noodds_gbm"
   ]
  },
  {
   "cell_type": "code",
   "execution_count": null,
   "metadata": {},
   "outputs": [],
   "source": []
  },
  {
   "cell_type": "code",
   "execution_count": null,
   "metadata": {},
   "outputs": [],
   "source": []
  },
  {
   "cell_type": "code",
   "execution_count": null,
   "metadata": {},
   "outputs": [],
   "source": [
    "\n"
   ]
  },
  {
   "cell_type": "code",
   "execution_count": null,
   "metadata": {},
   "outputs": [],
   "source": []
  },
  {
   "cell_type": "code",
   "execution_count": null,
   "metadata": {},
   "outputs": [],
   "source": []
  },
  {
   "cell_type": "code",
   "execution_count": null,
   "metadata": {},
   "outputs": [],
   "source": []
  },
  {
   "cell_type": "code",
   "execution_count": null,
   "metadata": {},
   "outputs": [],
   "source": []
  },
  {
   "cell_type": "code",
   "execution_count": null,
   "metadata": {},
   "outputs": [],
   "source": [
    "%autoreload"
   ]
  },
  {
   "cell_type": "markdown",
   "metadata": {},
   "source": [
    "### ダート"
   ]
  },
  {
   "cell_type": "code",
   "execution_count": null,
   "metadata": {},
   "outputs": [],
   "source": [
    "# オッズと人気を特徴量から省いた場合_ランク、二値、クロスバリデーション（最終番目）\n",
    "evaluator = Evaluator_lightgbm_rank_niti_cross(\n",
    "    evaluation_filename=\"evaluation_lightgbm_rank_niti_cv_dev_dirt.csv\",\n",
    "    return_tables_filename = \"return_tables_dirt.pickle\",\n",
    ")\n",
    "evaluator.summarize_box_top_n(n=3,save_filename=\"box_summary_rank_niti_cross_dev_dirt.csv\")\n",
    "summary_df_noodds_gbm = evaluator.summarize_box_exp(exp_name=\"lightgbm_rank_niti_cross_dev_dirt\")\n",
    "summary_df_noodds_gbm"
   ]
  },
  {
   "cell_type": "code",
   "execution_count": null,
   "metadata": {},
   "outputs": [],
   "source": [
    "# オッズと人気を特徴量から省いた場合_ランク、二値、クロスバリデーション（最終番目）\n",
    "evaluator = Evaluator_lightgbm_rank_niti_cross(\n",
    "    evaluation_filename=\"evaluation_lightgbm_rank_niti_cv_dev_dirt_noweight.csv\",\n",
    "    return_tables_filename = \"return_tables_dirt.pickle\",\n",
    ")\n",
    "evaluator.summarize_box_top_n(n=3,save_filename=\"box_summary_rank_niti_cross_dev_dirt.csv\")\n",
    "summary_df_noodds_gbm = evaluator.summarize_box_exp(exp_name=\"lightgbm_rank_niti_cross_dev_dirt\")\n",
    "summary_df_noodds_gbm"
   ]
  },
  {
   "cell_type": "code",
   "execution_count": null,
   "metadata": {},
   "outputs": [],
   "source": []
  },
  {
   "cell_type": "code",
   "execution_count": null,
   "metadata": {
    "collapsed": true,
    "jupyter": {
     "outputs_hidden": true,
     "source_hidden": true
    }
   },
   "outputs": [],
   "source": [
    "# オッズと人気を特徴量から省いた場合_time、回帰、クロスバリデーション（最終番目）_軸\n",
    "evaluator = Evaluator_lightgbm_rank_niti_shaft(\n",
    "    evaluation_filename=\"evaluation_lightgbm_rank_niti_cv_dev_dirt_noweight.csv\",\n",
    "    return_tables_filename = \"return_tables_dirt.pickle\",\n",
    ")\n",
    "evaluator.summarize_box_top_n(n=3,save_filename=\"shaft_summary_rank_niti_dev_top3_dirt.csv\")\n",
    "summary_df_shaft = evaluator.summarize_box_exp(exp_name=\"lightgbm_rank_niti_cross_dev_dirt\")\n",
    "summary_df_shaft"
   ]
  },
  {
   "cell_type": "code",
   "execution_count": null,
   "metadata": {
    "collapsed": true,
    "jupyter": {
     "outputs_hidden": true,
     "source_hidden": true
    }
   },
   "outputs": [],
   "source": [
    "# オッズと人気を特徴量から省いた場合_time、回帰、クロスバリデーション（最終番目）_軸\n",
    "evaluator = Evaluator_lightgbm_rank_niti_shaft(\n",
    "    evaluation_filename=\"evaluation_lightgbm_rank_niti_cv_dev_dirt.csv\",\n",
    "    return_tables_filename = \"return_tables_dirt.pickle\",\n",
    ")\n",
    "evaluator.summarize_box_top_n(n=3,save_filename=\"shaft_summary_rank_niti_dev_top3_dirt.csv\")\n",
    "summary_df_shaft = evaluator.summarize_box_exp(exp_name=\"lightgbm_rank_niti_cross_dev_dirt\")\n",
    "summary_df_shaft"
   ]
  },
  {
   "cell_type": "code",
   "execution_count": null,
   "metadata": {},
   "outputs": [],
   "source": []
  },
  {
   "cell_type": "code",
   "execution_count": null,
   "metadata": {},
   "outputs": [],
   "source": []
  },
  {
   "cell_type": "code",
   "execution_count": null,
   "metadata": {},
   "outputs": [],
   "source": []
  },
  {
   "cell_type": "code",
   "execution_count": null,
   "metadata": {},
   "outputs": [],
   "source": []
  },
  {
   "cell_type": "code",
   "execution_count": null,
   "metadata": {},
   "outputs": [],
   "source": []
  },
  {
   "cell_type": "markdown",
   "metadata": {},
   "source": [
    "### 障害"
   ]
  },
  {
   "cell_type": "code",
   "execution_count": null,
   "metadata": {},
   "outputs": [],
   "source": []
  },
  {
   "cell_type": "code",
   "execution_count": null,
   "metadata": {},
   "outputs": [],
   "source": []
  },
  {
   "cell_type": "code",
   "execution_count": null,
   "metadata": {},
   "outputs": [],
   "source": [
    "# オッズと人気を特徴量から省いた場合_ランク、二値、クロスバリデーション（最終番目）\n",
    "evaluator = Evaluator_lightgbm_rank_niti_cross(\n",
    "    evaluation_filename=\"evaluation_lightgbm_rank_niti_cv_dev_obstract_noweight.csv\",\n",
    "    return_tables_filename = \"return_tables_obstract.pickle\",\n",
    ")\n",
    "evaluator.summarize_box_top_n(n=3,save_filename=\"box_summary_rank_niti_cross_dev_obstract_noweight.csv\")\n",
    "summary_df_noodds_gbm = evaluator.summarize_box_exp(exp_name=\"lightgbm_rank_niti_cross_dev_obstract_noweight\")\n",
    "summary_df_noodds_gbm"
   ]
  },
  {
   "cell_type": "code",
   "execution_count": null,
   "metadata": {},
   "outputs": [],
   "source": [
    "# オッズと人気を特徴量から省いた場合_ランク、二値、クロスバリデーション（最終番目）\n",
    "evaluator = Evaluator_lightgbm_rank_niti_cross(\n",
    "    evaluation_filename=\"evaluation_lightgbm_rank_niti_cv_dev_obstract.csv\",\n",
    "    return_tables_filename = \"return_tables_obstract.pickle\",\n",
    ")\n",
    "evaluator.summarize_box_top_n(n=3,save_filename=\"box_summary_rank_niti_cross_dev_obstract.csv\")\n",
    "summary_df_noodds_gbm = evaluator.summarize_box_exp(exp_name=\"lightgbm_rank_niti_cross_dev_obstract\")\n",
    "summary_df_noodds_gbm"
   ]
  },
  {
   "cell_type": "code",
   "execution_count": null,
   "metadata": {},
   "outputs": [],
   "source": []
  },
  {
   "cell_type": "code",
   "execution_count": null,
   "metadata": {},
   "outputs": [],
   "source": []
  },
  {
   "cell_type": "code",
   "execution_count": null,
   "metadata": {
    "collapsed": true,
    "jupyter": {
     "outputs_hidden": true,
     "source_hidden": true
    }
   },
   "outputs": [],
   "source": [
    "# オッズと人気を特徴量から省いた場合_time、回帰、クロスバリデーション（最終番目）_軸\n",
    "evaluator = Evaluator_lightgbm_rank_niti_shaft(\n",
    "    evaluation_filename=\"evaluation_lightgbm_rank_niti_cv_dev_obstract_noweight.csv\",\n",
    "    return_tables_filename = \"return_tables_obstract.pickle\",\n",
    ")\n",
    "evaluator.summarize_box_top_n(n=3,save_filename=\"shaft_summary_rank_niti_dev_top3_obstract.csv\")\n",
    "summary_df_shaft = evaluator.summarize_box_exp(exp_name=\"lightgbm_rank_niti_cross_dev_obstract\")\n",
    "summary_df_shaft\n"
   ]
  },
  {
   "cell_type": "code",
   "execution_count": null,
   "metadata": {},
   "outputs": [],
   "source": []
  },
  {
   "cell_type": "code",
   "execution_count": null,
   "metadata": {},
   "outputs": [],
   "source": []
  },
  {
   "cell_type": "code",
   "execution_count": null,
   "metadata": {},
   "outputs": [],
   "source": []
  },
  {
   "cell_type": "code",
   "execution_count": null,
   "metadata": {},
   "outputs": [],
   "source": []
  },
  {
   "cell_type": "code",
   "execution_count": null,
   "metadata": {},
   "outputs": [],
   "source": [
    "%autoreload"
   ]
  },
  {
   "cell_type": "markdown",
   "metadata": {},
   "source": [
    "### 未勝利"
   ]
  },
  {
   "cell_type": "code",
   "execution_count": null,
   "metadata": {},
   "outputs": [],
   "source": [
    "# オッズと人気を特徴量から省いた場合_ランク、二値、クロスバリデーション（最終番目）\n",
    "evaluator = Evaluator_lightgbm_rank_niti_cross(\n",
    "    evaluation_filename=\"evaluation_lightgbm_rank_niti_cv_dev_turf_nowin.csv\",\n",
    "    return_tables_filename = \"return_tables_turf_nowin.pickle\",\n",
    ")\n",
    "evaluator.summarize_box_top_n(n=3,save_filename=\"box_summary_rank_niti_cross_dev_turf_nowin.csv\")\n",
    "summary_df_noodds_gbm = evaluator.summarize_box_exp(exp_name=\"lightgbm_rank_niti_cross_dev_turf_nowin\")\n",
    "summary_df_noodds_gbm"
   ]
  },
  {
   "cell_type": "code",
   "execution_count": null,
   "metadata": {
    "collapsed": true,
    "jupyter": {
     "outputs_hidden": true,
     "source_hidden": true
    }
   },
   "outputs": [],
   "source": [
    "# オッズと人気を特徴量から省いた場合_time、回帰、クロスバリデーション（最終番目）_軸\n",
    "evaluator = Evaluator_lightgbm_rank_niti_shaft(\n",
    "    evaluation_filename=\"evaluation_lightgbm_rank_niti_cv_dev_turf_nowin.csv\",\n",
    "    return_tables_filename = \"return_tables_turf_nowin.pickle\",\n",
    ")\n",
    "evaluator.summarize_box_top_n(n=3,save_filename=\"shaft_summary_rank_niti_dev_top3_turf_nowin.csv\")\n",
    "summary_df_shaft = evaluator.summarize_box_exp(exp_name=\"lightgbm_rank_niti_cross_dev_turf_nowin\")\n",
    "summary_df_shaft\n"
   ]
  },
  {
   "cell_type": "code",
   "execution_count": null,
   "metadata": {},
   "outputs": [],
   "source": [
    "# オッズと人気を特徴量から省いた場合_ランク、二値、クロスバリデーション（最終番目）\n",
    "evaluator = Evaluator_lightgbm_rank_niti_cross(\n",
    "    evaluation_filename=\"evaluation_lightgbm_rank_niti_cv_dev_turf_nowin_noweight.csv\",\n",
    "    return_tables_filename = \"return_tables_turf_nowin.pickle\",\n",
    ")\n",
    "evaluator.summarize_box_top_n(n=3,save_filename=\"box_summary_rank_niti_cross_dev_turf_nowin_noweight.csv\")\n",
    "summary_df_noodds_gbm = evaluator.summarize_box_exp(exp_name=\"lightgbm_rank_niti_cross_dev_turf_nowin_noweight\")\n",
    "summary_df_noodds_gbm"
   ]
  },
  {
   "cell_type": "code",
   "execution_count": null,
   "metadata": {},
   "outputs": [],
   "source": []
  },
  {
   "cell_type": "code",
   "execution_count": null,
   "metadata": {},
   "outputs": [],
   "source": []
  },
  {
   "cell_type": "code",
   "execution_count": null,
   "metadata": {},
   "outputs": [],
   "source": []
  },
  {
   "cell_type": "code",
   "execution_count": null,
   "metadata": {},
   "outputs": [],
   "source": []
  },
  {
   "cell_type": "code",
   "execution_count": null,
   "metadata": {},
   "outputs": [],
   "source": [
    "%autoreload"
   ]
  },
  {
   "cell_type": "code",
   "execution_count": null,
   "metadata": {},
   "outputs": [],
   "source": []
  },
  {
   "cell_type": "code",
   "execution_count": null,
   "metadata": {},
   "outputs": [],
   "source": [
    "# オッズと人気を特徴量から省いた場合_ランク、二値、クロスバリデーション（最終番目）\n",
    "evaluator = Evaluator_lightgbm_rank_niti_cross(\n",
    "    evaluation_filename=\"evaluation_lightgbm_rank_niti_cv_dev_dirt_nowin_noweight.csv\",\n",
    "    return_tables_filename = \"return_tables_dirt_nowin.pickle\",\n",
    ")\n",
    "evaluator.summarize_box_top_n(n=3,save_filename=\"box_summary_rank_niti_cross_dev_dirt_nowin_noweight.csv\")\n",
    "summary_df_noodds_gbm = evaluator.summarize_box_exp(exp_name=\"lightgbm_rank_niti_cross_dev_dirt_nowin_noweight\")\n",
    "summary_df_noodds_gbm"
   ]
  },
  {
   "cell_type": "code",
   "execution_count": null,
   "metadata": {},
   "outputs": [],
   "source": [
    "# オッズと人気を特徴量から省いた場合_ランク、二値、クロスバリデーション（最終番目）\n",
    "evaluator = Evaluator_lightgbm_rank_niti_cross(\n",
    "    evaluation_filename=\"evaluation_lightgbm_rank_niti_cv_dev_dirt_nowin.csv\",\n",
    "    return_tables_filename = \"return_tables_dirt_nowin.pickle\",\n",
    ")\n",
    "evaluator.summarize_box_top_n(n=3,save_filename=\"box_summary_rank_niti_cross_dev_dirt_nowin.csv\")\n",
    "summary_df_noodds_gbm = evaluator.summarize_box_exp(exp_name=\"lightgbm_rank_niti_cross_dev_dirt_nowin\")\n",
    "summary_df_noodds_gbm"
   ]
  },
  {
   "cell_type": "code",
   "execution_count": null,
   "metadata": {
    "collapsed": true,
    "jupyter": {
     "outputs_hidden": true,
     "source_hidden": true
    }
   },
   "outputs": [],
   "source": [
    "# オッズと人気を特徴量から省いた場合_time、回帰、クロスバリデーション（最終番目）_軸\n",
    "evaluator = Evaluator_lightgbm_rank_niti_shaft(\n",
    "    evaluation_filename=\"evaluation_lightgbm_rank_niti_cv_dev_dirt_nowin_noweight.csv\",\n",
    "    return_tables_filename = \"return_tables_dirt_nowin.pickle\",\n",
    ")\n",
    "evaluator.summarize_box_top_n(n=3,save_filename=\"shaft_summary_rank_niti_dev_top3_dirt_nowin_noweight.csv\")\n",
    "summary_df_shaft = evaluator.summarize_box_exp(exp_name=\"lightgbm_rank_niti_cross_dev_dirt_nowin_noweight\")\n",
    "summary_df_shaft"
   ]
  },
  {
   "cell_type": "code",
   "execution_count": null,
   "metadata": {},
   "outputs": [],
   "source": []
  },
  {
   "cell_type": "code",
   "execution_count": null,
   "metadata": {},
   "outputs": [],
   "source": []
  },
  {
   "cell_type": "code",
   "execution_count": null,
   "metadata": {},
   "outputs": [],
   "source": []
  },
  {
   "cell_type": "code",
   "execution_count": null,
   "metadata": {},
   "outputs": [],
   "source": []
  },
  {
   "cell_type": "markdown",
   "metadata": {},
   "source": [
    "# 予測当日の処理"
   ]
  },
  {
   "cell_type": "markdown",
   "metadata": {},
   "source": [
    "## 事前準備\n",
    "**当日出走馬が確定した時点**で実行できる"
   ]
  },
  {
   "cell_type": "code",
   "execution_count": null,
   "metadata": {},
   "outputs": [],
   "source": [
    "pd.set_option('display.max_columns', None)\n",
    "pd.set_option('display.max_rows', 100)"
   ]
  },
  {
   "cell_type": "code",
   "execution_count": null,
   "metadata": {},
   "outputs": [],
   "source": [
    "# 当日出走馬の過去成績テーブルの前処理_そのままで使えない未加工のデータを加工する\n",
    "horse_results_preprocessed = preprocessing.process_horse_results(\n",
    "    input_filename=\"horse_results_prediction.csv\",\n",
    "    output_filename=\"horse_results_prediction.csv\"\n",
    ")\n",
    "horse_results_preprocessed"
   ]
  },
  {
   "cell_type": "code",
   "execution_count": null,
   "metadata": {},
   "outputs": [],
   "source": [
    "population = create_population.create(from_=\"2016-01-01\", to_=\"2024-11-31\")"
   ]
  },
  {
   "cell_type": "code",
   "execution_count": null,
   "metadata": {},
   "outputs": [],
   "source": [
    "# 当日出走馬の血統テーブルの前処理\n",
    "peds_preprocessed = preprocessing.process_peds(\n",
    "    input_filename=\"peds_prediction.csv\",\n",
    "    output_filename=\"peds_prediction.csv\"\n",
    ")\n",
    "peds_preprocessed"
   ]
  },
  {
   "cell_type": "code",
   "execution_count": null,
   "metadata": {},
   "outputs": [],
   "source": [
    "pfc = PredictionFeatureCreator()\n",
    "# 過去成績集計は事前に行うことができる\n",
    "pfc.create_baselog()\n",
    "pfc.agg_horse_n_races()\n",
    "pfc.agg_horse_n_races_relative()\n",
    "pfc.agg_horse_n_races_df"
   ]
  },
  {
   "cell_type": "code",
   "execution_count": null,
   "metadata": {},
   "outputs": [],
   "source": [
    "# レース結果テーブルの前処理\n",
    "results_preprocessed = condition_prediction.process_results()\n",
    "# レース情報テーブルの前処理\n",
    "race_info_preprocessed = condition_prediction.process_race_info()\n",
    "create_race_grade_preprocessed = condition_prediction.create_race_grade()\n"
   ]
  },
  {
   "cell_type": "code",
   "execution_count": null,
   "metadata": {},
   "outputs": [],
   "source": []
  },
  {
   "cell_type": "markdown",
   "metadata": {},
   "source": [
    "## 当日の予測処理\n",
    "レース直前出走直前に実行する"
   ]
  },
  {
   "cell_type": "code",
   "execution_count": null,
   "metadata": {},
   "outputs": [],
   "source": [
    "#当日にやらないと、天気や馬場状態がわからないので、当日に実行してください、\n",
    "# 特徴量の更新\n",
    "features = pfc.create_features(\n",
    "    race_id=\"202408060411\",  # 予測するレースidを指定\n",
    "    date_content_a = \"2024年11月10日\", #\"%Y年%m月%d日\"形式で該当レース当日の日付を入れてください    \n",
    "    skip_agg_horse=True  # 事前に集計した場合はスキップできる\n",
    ")"
   ]
  },
  {
   "cell_type": "code",
   "execution_count": null,
   "metadata": {},
   "outputs": [],
   "source": [
    "pfc.results"
   ]
  },
  {
   "cell_type": "code",
   "execution_count": null,
   "metadata": {},
   "outputs": [],
   "source": [
    "pfc.race_info"
   ]
  },
  {
   "cell_type": "code",
   "execution_count": null,
   "metadata": {},
   "outputs": [],
   "source": []
  },
  {
   "cell_type": "markdown",
   "metadata": {},
   "source": [
    "### pred列は全て降順（大きい順）で表示されます\n",
    "### 二値予測のrankはpred列が大きい順で評価がよく、回帰のrankとtimeは小さい順で評価が良いです\n",
    "### 順番が逆になっているので気をつけてください"
   ]
  },
  {
   "cell_type": "code",
   "execution_count": null,
   "metadata": {},
   "outputs": [],
   "source": []
  },
  {
   "cell_type": "code",
   "execution_count": null,
   "metadata": {},
   "outputs": [],
   "source": [
    "# オッズ除外モデルでの予測、time、クロスバリデーション\n",
    "prediction.predict(\n",
    "    features,\n",
    "    model_filename=\"model_lightgbm_time_cv_full_odds_removed.pkl\",\n",
    "    config_filepath=\"config_lightgbm_kaiki_odds_removed.yaml\"\n",
    ")"
   ]
  },
  {
   "cell_type": "code",
   "execution_count": null,
   "metadata": {},
   "outputs": [],
   "source": []
  },
  {
   "cell_type": "code",
   "execution_count": null,
   "metadata": {},
   "outputs": [],
   "source": []
  },
  {
   "cell_type": "code",
   "execution_count": null,
   "metadata": {},
   "outputs": [],
   "source": []
  },
  {
   "cell_type": "code",
   "execution_count": null,
   "metadata": {},
   "outputs": [],
   "source": []
  },
  {
   "cell_type": "code",
   "execution_count": null,
   "metadata": {},
   "outputs": [],
   "source": []
  }
 ],
 "metadata": {
  "kernelspec": {
   "display_name": "Python 3 (ipykernel)",
   "language": "python",
   "name": "python3"
  },
  "language_info": {
   "codemirror_mode": {
    "name": "ipython",
    "version": 3
   },
   "file_extension": ".py",
   "mimetype": "text/x-python",
   "name": "python",
   "nbconvert_exporter": "python",
   "pygments_lexer": "ipython3",
   "version": "3.12.7"
  }
 },
 "nbformat": 4,
 "nbformat_minor": 4
}
