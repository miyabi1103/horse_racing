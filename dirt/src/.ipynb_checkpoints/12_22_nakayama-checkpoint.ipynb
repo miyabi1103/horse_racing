{
 "cells": [
  {
   "cell_type": "code",
   "execution_count": null,
   "id": "c87a29e0-c7d7-42ef-a369-f166ffa43edb",
   "metadata": {},
   "outputs": [],
   "source": [
    "import create_population\n",
    "import create_population3\n",
    "import preprocessing\n",
    "from feature_engineering import FeatureCreator\n",
    "from feature_engineering_prediction import PredictionFeatureCreator\n",
    "\n",
    "import prediction\n",
    "from train_lgbm_rank_niti_cross import Trainer_lightgbm_rank_niti_cv\n",
    "from train_lgbm_rank_kaiki_cross import Trainer_lightgbm_rank_kaiki_cv\n",
    "from train_lgbm_time_cross import Trainer_lightgbm_time_cv\n",
    "\n",
    "from evaluation_lgbm_rank_niti_cross import Evaluator_lightgbm_rank_niti_cross\n",
    "\n",
    "import pandas as pd\n",
    "\n",
    "\n",
    "import condition_prediction\n",
    "\n",
    "\n",
    "from train_lightgbm_rank_niti import Trainer_lightgbm_rank_niti\n",
    "from train_lightgbm_time import Trainer_lightgbm_time\n",
    "from train_lightgbm_rank_kaiki import Trainer_lightgbm_rank_kaiki\n",
    "\n",
    "from evaluation_lightgbm_rank_niti import Evaluator_lightgbm_rank_niti\n",
    "from evaluation_lightgbm_time_kaiki import Evaluator_lightgbm_time_kaiki\n",
    "from evaluation_lightgbm_rank_kaiki import Evaluator_lightgbm_rank_kaiki\n",
    "from evaluation_pop import Evaluator_pop\n",
    "\n",
    "%load_ext autoreload"
   ]
  },
  {
   "cell_type": "code",
   "execution_count": null,
   "id": "04abaacc-ef13-498c-beae-acc5c35555fa",
   "metadata": {},
   "outputs": [],
   "source": [
    "%autoreload"
   ]
  },
  {
   "cell_type": "code",
   "execution_count": null,
   "id": "14f6778c-5ec8-4514-a080-dffd3e5077eb",
   "metadata": {},
   "outputs": [],
   "source": [
    "pd.set_option('display.max_columns', None)\n",
    "pd.set_option('display.max_rows', 100)"
   ]
  },
  {
   "cell_type": "code",
   "execution_count": null,
   "id": "14926bdf-0196-45d9-90ed-1b696f1ca2a3",
   "metadata": {},
   "outputs": [],
   "source": [
    "population = create_population.create(from_=\"2016-01-01\", to_=\"2024-11-30\")"
   ]
  },
  {
   "cell_type": "code",
   "execution_count": null,
   "id": "79c26106-8a17-4f64-b8a8-3a81dfd8bf1c",
   "metadata": {},
   "outputs": [],
   "source": [
    "# 当日出走馬の過去成績テーブルの前処理_そのままで使えない未加工のデータを加工する\n",
    "horse_results_preprocessed = preprocessing.process_horse_results(\n",
    "    input_filename=\"horse_results_prediction.csv\",\n",
    "    output_filename=\"horse_results_prediction.csv\"\n",
    ")\n",
    "horse_results_preprocessed\n",
    "\n",
    "# 当日出走馬の血統テーブルの前処理\n",
    "peds_preprocessed = preprocessing.process_peds(\n",
    "    input_filename=\"peds_prediction.csv\",\n",
    "    output_filename=\"peds_prediction.csv\"\n",
    ")\n",
    "peds_preprocessed\n",
    "\n",
    "pfc = PredictionFeatureCreator()\n",
    "# 過去成績集計は事前に行うことができる\n",
    "pfc.create_baselog()\n",
    "pfc.agg_horse_n_races()\n",
    "pfc.agg_horse_n_races_relative()\n",
    "pfc.agg_horse_n_races_df\n",
    "\n",
    "# レース結果テーブルの前処理\n",
    "results_preprocessed = condition_prediction.process_results()\n",
    "# レース情報テーブルの前処理\n",
    "race_info_preprocessed = condition_prediction.process_race_info()\n",
    "create_race_grade_preprocessed = condition_prediction.create_race_grade()\n"
   ]
  },
  {
   "cell_type": "markdown",
   "id": "c4a85c56-eada-4eef-a65e-8e29891e5f38",
   "metadata": {},
   "source": [
    "###　12/22 第1回目レース"
   ]
  },
  {
   "cell_type": "code",
   "execution_count": null,
   "id": "059825b0-535c-49bd-840d-f1b5ab69254f",
   "metadata": {},
   "outputs": [],
   "source": [
    "# 特徴量の更新\n",
    "features = pfc.create_features(\n",
    "    race_id=\"202406050801\",  # 予測するレースidを指定\n",
    "    date_content_a = \"2024年12月22日\", #\"%Y年%m月%d日\"形式で該当レース当日の日付を入れてください    \n",
    "    skip_agg_horse=True  # 事前に集計した場合はスキップできる\n",
    ")"
   ]
  },
  {
   "cell_type": "code",
   "execution_count": null,
   "id": "8e861e83-9c61-471b-ad57-260428916769",
   "metadata": {},
   "outputs": [],
   "source": [
    "pfc.results"
   ]
  },
  {
   "cell_type": "code",
   "execution_count": null,
   "id": "f19f7ea7-056d-49c8-9ce8-188ac535be34",
   "metadata": {},
   "outputs": [],
   "source": [
    "pfc.race_info"
   ]
  },
  {
   "cell_type": "code",
   "execution_count": null,
   "id": "bc1aee51-9e3b-4949-81ba-867958a73a87",
   "metadata": {},
   "outputs": [],
   "source": [
    "# オッズ除外モデルでの予測、time、ホールドアウト\n",
    "prediction.predict(\n",
    "    features,\n",
    "    model_filename=\"model_lightgbm_time_odds_removed.pkl\",\n",
    "    config_filepath=\"config_lightgbm_kaiki_odds_removed.yaml\"\n",
    ")"
   ]
  },
  {
   "cell_type": "code",
   "execution_count": null,
   "id": "38e647c1-5a50-4e01-9a8e-ab24a7862696",
   "metadata": {},
   "outputs": [],
   "source": [
    "# オッズ除外モデルでの予測、time、クロスバリデーション\n",
    "prediction.predict(\n",
    "    features,\n",
    "    model_filename=\"model_lightgbm_time_cv_full_odds_removed.pkl\",\n",
    "    config_filepath=\"config_lightgbm_kaiki_odds_removed.yaml\"\n",
    ")"
   ]
  },
  {
   "cell_type": "code",
   "execution_count": null,
   "id": "f1f3d9da-c6ac-4726-adb3-c972794f6ebe",
   "metadata": {},
   "outputs": [],
   "source": []
  },
  {
   "cell_type": "code",
   "execution_count": null,
   "id": "f14c65c5-31e1-4865-9e60-02daa8f5f78d",
   "metadata": {},
   "outputs": [],
   "source": []
  },
  {
   "cell_type": "markdown",
   "id": "5d399698-7154-4353-8d27-6a34f2c53341",
   "metadata": {},
   "source": [
    "###　12/22 第2回目レース"
   ]
  },
  {
   "cell_type": "code",
   "execution_count": null,
   "id": "ba36207d-e43f-4b5b-82c8-fdd2dda6f0bf",
   "metadata": {},
   "outputs": [],
   "source": [
    "# 特徴量の更新\n",
    "features = pfc.create_features(\n",
    "    race_id=\"202406050802\",  # 予測するレースidを指定\n",
    "    date_content_a = \"2024年12月22日\", #\"%Y年%m月%d日\"形式で該当レース当日の日付を入れてください    \n",
    "    skip_agg_horse=True  # 事前に集計した場合はスキップできる\n",
    ")"
   ]
  },
  {
   "cell_type": "code",
   "execution_count": null,
   "id": "779ad66f-f36e-4c0f-9201-f0c694f08e29",
   "metadata": {},
   "outputs": [],
   "source": [
    "pfc.results"
   ]
  },
  {
   "cell_type": "code",
   "execution_count": null,
   "id": "cb5a4510-d5f0-4af0-bf9a-38d70fb3f2ae",
   "metadata": {},
   "outputs": [],
   "source": [
    "pfc.race_info"
   ]
  },
  {
   "cell_type": "code",
   "execution_count": null,
   "id": "ef0f266f-3cdf-4728-9592-2b9dee7a2895",
   "metadata": {},
   "outputs": [],
   "source": [
    "# オッズ除外モデルでの予測、time、ホールドアウト\n",
    "prediction.predict(\n",
    "    features,\n",
    "    model_filename=\"model_lightgbm_time_odds_removed.pkl\",\n",
    "    config_filepath=\"config_lightgbm_kaiki_odds_removed.yaml\"\n",
    ")"
   ]
  },
  {
   "cell_type": "code",
   "execution_count": null,
   "id": "f8605b44-2851-4bad-8355-164f46d85d5a",
   "metadata": {},
   "outputs": [],
   "source": [
    "# オッズ除外モデルでの予測、time、クロスバリデーション\n",
    "prediction.predict(\n",
    "    features,\n",
    "    model_filename=\"model_lightgbm_time_cv_full_odds_removed.pkl\",\n",
    "    config_filepath=\"config_lightgbm_kaiki_odds_removed.yaml\"\n",
    ")"
   ]
  },
  {
   "cell_type": "code",
   "execution_count": null,
   "id": "fb473c87-a471-428e-a489-03598faf5f45",
   "metadata": {},
   "outputs": [],
   "source": []
  },
  {
   "cell_type": "code",
   "execution_count": null,
   "id": "e9ac381d-af83-45b4-ae92-0b76cb6f07c6",
   "metadata": {},
   "outputs": [],
   "source": []
  },
  {
   "cell_type": "markdown",
   "id": "e0bb2bd6-71aa-4389-a06e-d9edb11c3c27",
   "metadata": {},
   "source": [
    "### 12/22 第7回目レース"
   ]
  },
  {
   "cell_type": "code",
   "execution_count": null,
   "id": "5846d2b3-b5d7-484e-94e8-c563fe95f5f3",
   "metadata": {},
   "outputs": [],
   "source": [
    "# 特徴量の更新\n",
    "features = pfc.create_features(\n",
    "    race_id=\"202406050807\",  # 予測するレースidを指定\n",
    "    date_content_a = \"2024年12月22日\", #\"%Y年%m月%d日\"形式で該当レース当日の日付を入れてください    \n",
    "    skip_agg_horse=True  # 事前に集計した場合はスキップできる\n",
    ")"
   ]
  },
  {
   "cell_type": "code",
   "execution_count": null,
   "id": "c57427a3-15c6-45cf-a0e3-ce5dfab20a2c",
   "metadata": {},
   "outputs": [],
   "source": [
    "pfc.results"
   ]
  },
  {
   "cell_type": "code",
   "execution_count": null,
   "id": "1d813074-3af5-4de6-9778-cb6f43a6e979",
   "metadata": {},
   "outputs": [],
   "source": [
    "pfc.race_info"
   ]
  },
  {
   "cell_type": "code",
   "execution_count": null,
   "id": "19586e04-c3e1-4818-b742-ac9e8844b362",
   "metadata": {},
   "outputs": [],
   "source": [
    "# オッズ除外モデルでの予測、time、ホールドアウト\n",
    "prediction.predict(\n",
    "    features,\n",
    "    model_filename=\"model_lightgbm_time_odds_removed.pkl\",\n",
    "    config_filepath=\"config_lightgbm_kaiki_odds_removed.yaml\"\n",
    ")"
   ]
  },
  {
   "cell_type": "code",
   "execution_count": null,
   "id": "43002470-ee0c-41ef-a09b-b1bcaed53ad7",
   "metadata": {},
   "outputs": [],
   "source": [
    "# オッズ除外モデルでの予測、time、クロスバリデーション\n",
    "prediction.predict(\n",
    "    features,\n",
    "    model_filename=\"model_lightgbm_time_cv_full_odds_removed.pkl\",\n",
    "    config_filepath=\"config_lightgbm_kaiki_odds_removed.yaml\"\n",
    ")"
   ]
  },
  {
   "cell_type": "code",
   "execution_count": null,
   "id": "5a8c0622-51d4-4c4d-bf89-d137e808ee59",
   "metadata": {},
   "outputs": [],
   "source": []
  },
  {
   "cell_type": "code",
   "execution_count": null,
   "id": "4dd55a70-58f8-4980-921e-679cec409b2f",
   "metadata": {},
   "outputs": [],
   "source": []
  },
  {
   "cell_type": "markdown",
   "id": "5d11abf6-fe1b-44d2-b4e3-0e252ce6049b",
   "metadata": {},
   "source": [
    "### 12/22 第8回目レース"
   ]
  },
  {
   "cell_type": "code",
   "execution_count": null,
   "id": "a16a0488-5ad7-4e1d-aab6-788e51e3da41",
   "metadata": {},
   "outputs": [],
   "source": [
    "# 特徴量の更新\n",
    "features = pfc.create_features(\n",
    "    race_id=\"202406050808\",  # 予測するレースidを指定\n",
    "    date_content_a = \"2024年12月22日\", #\"%Y年%m月%d日\"形式で該当レース当日の日付を入れてください    \n",
    "    skip_agg_horse=True  # 事前に集計した場合はスキップできる\n",
    ")"
   ]
  },
  {
   "cell_type": "code",
   "execution_count": null,
   "id": "81883aa3-beb5-47a2-b00e-2310f7c73323",
   "metadata": {},
   "outputs": [],
   "source": [
    "pfc.results"
   ]
  },
  {
   "cell_type": "code",
   "execution_count": null,
   "id": "f74d5843-1433-4837-8d85-0c017b89d673",
   "metadata": {},
   "outputs": [],
   "source": [
    "pfc.race_info"
   ]
  },
  {
   "cell_type": "code",
   "execution_count": null,
   "id": "e1186913-3c24-4eb7-a632-893a1f6f0b01",
   "metadata": {},
   "outputs": [],
   "source": [
    "# オッズ除外モデルでの予測、time、ホールドアウト\n",
    "prediction.predict(\n",
    "    features,\n",
    "    model_filename=\"model_lightgbm_time_odds_removed.pkl\",\n",
    "    config_filepath=\"config_lightgbm_kaiki_odds_removed.yaml\"\n",
    ")"
   ]
  },
  {
   "cell_type": "code",
   "execution_count": null,
   "id": "0f157f7a-a94c-4aac-b8cf-6f651060e1f1",
   "metadata": {},
   "outputs": [],
   "source": [
    "# オッズ除外モデルでの予測、time、クロスバリデーション\n",
    "prediction.predict(\n",
    "    features,\n",
    "    model_filename=\"model_lightgbm_time_cv_full_odds_removed.pkl\",\n",
    "    config_filepath=\"config_lightgbm_kaiki_odds_removed.yaml\"\n",
    ")"
   ]
  },
  {
   "cell_type": "code",
   "execution_count": null,
   "id": "e7cdf4db-b57b-4c26-a50e-4ec3e6ba8885",
   "metadata": {},
   "outputs": [],
   "source": []
  },
  {
   "cell_type": "code",
   "execution_count": null,
   "id": "bc57fd7a-cd72-4e44-a9f6-9ab9559202f7",
   "metadata": {},
   "outputs": [],
   "source": []
  },
  {
   "cell_type": "code",
   "execution_count": null,
   "id": "cb4c20bc-249e-47f6-86e4-696c47f3a029",
   "metadata": {},
   "outputs": [],
   "source": []
  },
  {
   "cell_type": "code",
   "execution_count": null,
   "id": "03582678-e472-490a-8b45-881a9d69821b",
   "metadata": {},
   "outputs": [],
   "source": []
  },
  {
   "cell_type": "markdown",
   "id": "a0f4e0a8-603b-4742-b9d1-39e30224be2c",
   "metadata": {},
   "source": [
    "### 12/22 第12回目レース"
   ]
  },
  {
   "cell_type": "code",
   "execution_count": null,
   "id": "8bb91037-ff47-407a-acbe-728085aee5bf",
   "metadata": {},
   "outputs": [],
   "source": [
    "# 特徴量の更新\n",
    "features = pfc.create_features(\n",
    "    race_id=\"202406050812\",  # 予測するレースidを指定\n",
    "    date_content_a = \"2024年12月22日\", #\"%Y年%m月%d日\"形式で該当レース当日の日付を入れてください    \n",
    "    skip_agg_horse=True  # 事前に集計した場合はスキップできる\n",
    ")"
   ]
  },
  {
   "cell_type": "code",
   "execution_count": null,
   "id": "30114eb4-91ce-4a70-ba67-824efb7ab11a",
   "metadata": {},
   "outputs": [],
   "source": [
    "pfc.results"
   ]
  },
  {
   "cell_type": "code",
   "execution_count": null,
   "id": "50f84fe8-3b65-4397-a9e1-216a4460b9c2",
   "metadata": {},
   "outputs": [],
   "source": [
    "pfc.race_info"
   ]
  },
  {
   "cell_type": "code",
   "execution_count": null,
   "id": "103ed1c9-b763-4661-9361-04fa4c92b3cc",
   "metadata": {},
   "outputs": [],
   "source": [
    "# オッズ除外モデルでの予測、time、ホールドアウト\n",
    "prediction.predict(\n",
    "    features,\n",
    "    model_filename=\"model_lightgbm_time_odds_removed.pkl\",\n",
    "    config_filepath=\"config_lightgbm_kaiki_odds_removed.yaml\"\n",
    ")"
   ]
  },
  {
   "cell_type": "code",
   "execution_count": null,
   "id": "5f03e30f-ae4a-4627-814b-b4fe67edcfcb",
   "metadata": {},
   "outputs": [],
   "source": [
    "# オッズ除外モデルでの予測、time、クロスバリデーション\n",
    "prediction.predict(\n",
    "    features,\n",
    "    model_filename=\"model_lightgbm_time_cv_full_odds_removed.pkl\",\n",
    "    config_filepath=\"config_lightgbm_kaiki_odds_removed.yaml\"\n",
    ")"
   ]
  },
  {
   "cell_type": "code",
   "execution_count": null,
   "id": "4c3677e0-3480-4f29-82d5-baa0684e12fa",
   "metadata": {},
   "outputs": [],
   "source": []
  },
  {
   "cell_type": "code",
   "execution_count": null,
   "id": "9adc953c-92c2-4646-b9bd-46e08bfc4ac2",
   "metadata": {},
   "outputs": [],
   "source": []
  }
 ],
 "metadata": {
  "kernelspec": {
   "display_name": "Python 3 (ipykernel)",
   "language": "python",
   "name": "python3"
  },
  "language_info": {
   "codemirror_mode": {
    "name": "ipython",
    "version": 3
   },
   "file_extension": ".py",
   "mimetype": "text/x-python",
   "name": "python",
   "nbconvert_exporter": "python",
   "pygments_lexer": "ipython3",
   "version": "3.11.8"
  }
 },
 "nbformat": 4,
 "nbformat_minor": 5
}
