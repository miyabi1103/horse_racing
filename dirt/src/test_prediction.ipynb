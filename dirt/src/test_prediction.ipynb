{
 "cells": [
  {
   "cell_type": "code",
   "execution_count": 22,
   "id": "ceec9d29-e2c3-4a72-8514-e91fafdbe8ec",
   "metadata": {},
   "outputs": [
    {
     "name": "stdout",
     "output_type": "stream",
     "text": [
      "The autoreload extension is already loaded. To reload it, use:\n",
      "  %reload_ext autoreload\n"
     ]
    }
   ],
   "source": [
    "import create_population\n",
    "import create_population3\n",
    "import preprocessing\n",
    "from feature_engineering import FeatureCreator\n",
    "from feature_engineering_prediction import PredictionFeatureCreator\n",
    "\n",
    "import prediction\n",
    "\n",
    "import pandas as pd\n",
    "\n",
    "\n",
    "import condition_prediction\n",
    "\n",
    "from train_lightgbm_rank_diff import Trainer_lightgbm_rank_diff \n",
    "from train_lightgbm_rank_niti import Trainer_lightgbm_rank_niti\n",
    "from train_lightgbm_time import Trainer_lightgbm_time\n",
    "from train_lightgbm_rank_kaiki import Trainer_lightgbm_rank_kaiki\n",
    "\n",
    "from evaluation_lightgbm_rank_diff import Evaluator_lightgbm_rank_diff\n",
    "from evaluation_lightgbm_rank_niti import Evaluator_lightgbm_rank_niti\n",
    "from evaluation_lightgbm_time_kaiki import Evaluator_lightgbm_time_kaiki\n",
    "from evaluation_lightgbm_rank_kaiki import Evaluator_lightgbm_rank_kaiki\n",
    "from evaluation_pop import Evaluator_pop\n",
    "\n",
    "%load_ext autoreload"
   ]
  },
  {
   "cell_type": "code",
   "execution_count": 30,
   "id": "748ee250-9aab-477e-8723-433a4d8ff00f",
   "metadata": {},
   "outputs": [],
   "source": [
    "%autoreload\n"
   ]
  },
  {
   "cell_type": "code",
   "execution_count": null,
   "id": "ede55a77-5813-4484-bcf1-33ff423bfc7d",
   "metadata": {},
   "outputs": [],
   "source": []
  },
  {
   "cell_type": "code",
   "execution_count": 24,
   "id": "70a1785f-69d6-4fff-a1cf-f206a7f4bce9",
   "metadata": {},
   "outputs": [],
   "source": [
    "# レース結果テーブルの前処理\n",
    "results_preprocessed = condition_prediction.process_results()\n",
    "# レース情報テーブルの前処理\n",
    "race_info_preprocessed = condition_prediction.process_race_info()"
   ]
  },
  {
   "cell_type": "code",
   "execution_count": null,
   "id": "560e6f41-95fb-4bd1-89bc-79b6c70e6dd5",
   "metadata": {},
   "outputs": [],
   "source": []
  },
  {
   "cell_type": "code",
   "execution_count": 13,
   "id": "9a55d351-3ab6-437e-8715-a5abc8e2fc11",
   "metadata": {
    "jupyter": {
     "source_hidden": true
    }
   },
   "outputs": [],
   "source": [
    "import json\n",
    "import re\n",
    "from pathlib import Path\n",
    "\n",
    "import numpy as np\n",
    "import pandas as pd\n",
    "from bs4 import BeautifulSoup\n",
    "from selenium import webdriver\n",
    "from selenium.webdriver.chrome.options import Options\n",
    "from selenium.webdriver.chrome.service import Service\n",
    "from tqdm.notebook import tqdm\n",
    "from webdriver_manager.chrome import ChromeDriverManager\n",
    "from io import StringIO \n",
    "\n",
    "\n",
    "# commonディレクトリのパス\n",
    "COMMON_DATA_DIR = Path(\"..\", \"..\", \"common\", \"data\")\n",
    "POPULATION_DIR = COMMON_DATA_DIR / \"prediction_population\"\n",
    "MAPPING_DIR = COMMON_DATA_DIR / \"mapping\"\n",
    "\n",
    "\n",
    "DATA_DIR = Path(\"..\", \"data\")\n",
    "OLD_POPULATION_DIR = DATA_DIR / \"00_population\"\n",
    "INPUT_DIR = DATA_DIR / \"01_preprocessed\"\n",
    "OUTPUT_DIR = DATA_DIR / \"02_features\"\n",
    "OUTPUT_DIR.mkdir(exist_ok=True, parents=True)\n",
    "\n",
    "# カテゴリ変数を数値に変換するためのマッピング\n",
    "with open(MAPPING_DIR / \"sex.json\", \"r\") as f:\n",
    "    sex_mapping = json.load(f)\n",
    "with open(MAPPING_DIR / \"race_type.json\", \"r\") as f:\n",
    "    race_type_mapping = json.load(f)\n",
    "with open(MAPPING_DIR / \"around.json\", \"r\") as f:\n",
    "    around_mapping = json.load(f)\n",
    "with open(MAPPING_DIR / \"weather.json\", \"r\") as f:\n",
    "    weather_mapping = json.load(f)\n",
    "with open(MAPPING_DIR / \"ground_state.json\", \"r\") as f:\n",
    "    ground_state_mapping = json.load(f)\n",
    "with open(MAPPING_DIR / \"race_class.json\", \"r\") as f:\n",
    "    race_class_mapping = json.load(f)"
   ]
  },
  {
   "cell_type": "code",
   "execution_count": 17,
   "id": "a6185c77-b786-46c3-b965-deb4155cdc04",
   "metadata": {
    "jupyter": {
     "source_hidden": true
    }
   },
   "outputs": [],
   "source": [
    "population_dir= POPULATION_DIR\n",
    "population_filename = \"population.csv\"\n",
    "\n",
    "old_population_dir= OLD_POPULATION_DIR\n",
    "old_population_filename = \"population.csv\"\n",
    "old_results_filename = \"results.csv\"\n",
    "old_race_info_filename = \"race_info.csv\"\n",
    "old_horse_results_filename = \"horse_results.csv\"\n",
    "\n",
    "input_dir = INPUT_DIR\n",
    "\n",
    "horse_results_filename = \"horse_results_prediction.csv\"\n",
    "jockey_leading_filename = \"jockey_leading.csv\"\n",
    "trainer_leading_filename = \"trainer_leading.csv\"\n",
    "peds_filename = \"peds_prediction.csv\"\n",
    "sire_leading_filename = \"sire_leading.csv\"\n",
    "output_dir= OUTPUT_DIR\n",
    "output_filename = \"features_prediction.csv\"\n",
    "\n",
    "\n",
    "old_results_condition_filename = \"results_prediction.csv\"\n",
    "old_race_info_condition_filename = \"race_info_prediction.csv\"     \n",
    "\n",
    "population = pd.read_csv(population_dir / population_filename, sep=\"\\t\")\n",
    "old_results = pd.read_csv(input_dir / old_results_filename, sep=\"\\t\")\n",
    "old_race_info = pd.read_csv(input_dir / old_race_info_filename, sep=\"\\t\")\n",
    "old_population = pd.read_csv(old_population_dir / old_population_filename, sep=\"\\t\")\n",
    "old_horse_results = pd.read_csv(input_dir / old_horse_results_filename, sep=\"\\t\")\n",
    "\n",
    "old_results_condition = pd.read_csv(input_dir / old_results_condition_filename, sep=\"\\t\")\n",
    "old_race_info_condition = pd.read_csv(input_dir / old_race_info_condition_filename, sep=\"\\t\")\n",
    "\n",
    "\n",
    "horse_results = pd.read_csv(input_dir / horse_results_filename, sep=\"\\t\")\n",
    "jockey_leading = pd.read_csv(input_dir / jockey_leading_filename, sep=\"\\t\")\n",
    "trainer_leading = pd.read_csv(\n",
    "    input_dir / trainer_leading_filename, sep=\"\\t\"\n",
    ")\n",
    "peds = pd.read_csv(input_dir / peds_filename, sep=\"\\t\")\n",
    "sire_leading = pd.read_csv(input_dir / sire_leading_filename, sep=\"\\t\")\n",
    "output_dir = output_dir\n",
    "output_filename = output_filename\n",
    "htmls = {}\n",
    "agg_horse_per_group_cols_dfs = {}"
   ]
  },
  {
   "cell_type": "code",
   "execution_count": 38,
   "id": "79702604-887f-4502-8f9a-ad3514354afe",
   "metadata": {
    "jupyter": {
     "source_hidden": true
    }
   },
   "outputs": [
    {
     "name": "stdout",
     "output_type": "stream",
     "text": [
      "fetching shutuba page html...\n",
      "fetching shutuba page html...comp\n"
     ]
    }
   ],
   "source": [
    "race_id=\"202408060411\",  # 予測するレースidを指定\n",
    "skip_agg_horse=True  # 事前に集計した場合はスキップできる\n",
    "print(\"fetching shutuba page html...\")\n",
    "options = Options()\n",
    "options.add_argument(\"--headless\")\n",
    "options.add_argument(\"--no-sandbox\")\n",
    "options.add_argument(\"--disable-dev-shm-usage\")\n",
    "# chrome driverをインストール\n",
    "driver_path = ChromeDriverManager().install()\n",
    "url = f\"https://race.netkeiba.com/race/shutuba.html?race_id={race_id}\"\n",
    "with webdriver.Chrome(service=Service(driver_path), options=options) as driver:\n",
    "    driver.implicitly_wait(10000)\n",
    "    driver.get(url)\n",
    "    htmls[race_id] = driver.page_source\n",
    "print(\"fetching shutuba page html...comp\")"
   ]
  },
  {
   "cell_type": "code",
   "execution_count": 25,
   "id": "d8dd8008-e540-4123-ba7b-eb691757a740",
   "metadata": {
    "collapsed": true,
    "jupyter": {
     "outputs_hidden": true,
     "source_hidden": true
    }
   },
   "outputs": [
    {
     "ename": "NameError",
     "evalue": "name 'html' is not defined",
     "output_type": "error",
     "traceback": [
      "\u001b[0;31m---------------------------------------------------------------------------\u001b[0m",
      "\u001b[0;31mNameError\u001b[0m                                 Traceback (most recent call last)",
      "Cell \u001b[0;32mIn[25], line 6\u001b[0m\n\u001b[1;32m      1\u001b[0m \u001b[38;5;124;03m\"\"\"\u001b[39;00m\n\u001b[1;32m      2\u001b[0m \u001b[38;5;124;03m出馬表ページのhtmlを受け取ると、\u001b[39;00m\n\u001b[1;32m      3\u001b[0m \u001b[38;5;124;03m「レース結果テーブル」を取得して、学習時と同じ形式に前処理する関数。\u001b[39;00m\n\u001b[1;32m      4\u001b[0m \u001b[38;5;124;03m\"\"\"\u001b[39;00m\n\u001b[1;32m      5\u001b[0m html: \u001b[38;5;28mstr\u001b[39m\n\u001b[0;32m----> 6\u001b[0m df \u001b[38;5;241m=\u001b[39m pd\u001b[38;5;241m.\u001b[39mread_html(StringIO(html))[\u001b[38;5;241m0\u001b[39m]\n\u001b[1;32m      7\u001b[0m df\u001b[38;5;241m.\u001b[39mcolumns \u001b[38;5;241m=\u001b[39m df\u001b[38;5;241m.\u001b[39mcolumns\u001b[38;5;241m.\u001b[39mget_level_values(\u001b[38;5;241m1\u001b[39m)\n\u001b[1;32m      8\u001b[0m soup \u001b[38;5;241m=\u001b[39m BeautifulSoup(html, \u001b[38;5;124m\"\u001b[39m\u001b[38;5;124mlxml\u001b[39m\u001b[38;5;124m\"\u001b[39m)\u001b[38;5;241m.\u001b[39mfind(\u001b[38;5;124m\"\u001b[39m\u001b[38;5;124mtable\u001b[39m\u001b[38;5;124m\"\u001b[39m, class_\u001b[38;5;241m=\u001b[39m\u001b[38;5;124m\"\u001b[39m\u001b[38;5;124mShutuba_Table\u001b[39m\u001b[38;5;124m\"\u001b[39m)\n",
      "\u001b[0;31mNameError\u001b[0m: name 'html' is not defined"
     ]
    }
   ],
   "source": [
    "\"\"\"\n",
    "出馬表ページのhtmlを受け取ると、\n",
    "「レース結果テーブル」を取得して、学習時と同じ形式に前処理する関数。\n",
    "\"\"\"\n",
    "html: str\n",
    "df = pd.read_html(StringIO(html))[0]\n",
    "df.columns = df.columns.get_level_values(1)\n",
    "soup = BeautifulSoup(html, \"lxml\").find(\"table\", class_=\"Shutuba_Table\")\n",
    "horse_id_list = []\n",
    "a_list = soup.find_all(\"a\", href=re.compile(r\"/horse/\"))\n",
    "for a in a_list:\n",
    "    horse_id = re.findall(r\"\\d{10}\", a[\"href\"])[0]\n",
    "    horse_id_list.append(int(horse_id))\n",
    "df[\"horse_id\"] = horse_id_list\n",
    "jockey_id_list = []\n",
    "a_list = soup.find_all(\"a\", href=re.compile(r\"/jockey/\"))\n",
    "for a in a_list:\n",
    "    jockey_id = re.findall(r\"\\d{5}\", a[\"href\"])[0]\n",
    "    jockey_id_list.append(int(jockey_id))\n",
    "df[\"jockey_id\"] = jockey_id_list\n",
    "trainer_id_list = []\n",
    "a_list = soup.find_all(\"a\", href=re.compile(r\"/trainer/\"))\n",
    "for a in a_list:\n",
    "    trainer_id = re.findall(r\"\\d{5}\", a[\"href\"])[0]\n",
    "    trainer_id_list.append(int(trainer_id))\n",
    "df[\"trainer_id\"] = trainer_id_list\n",
    "# 前処理\n",
    "df[\"wakuban\"] = df.iloc[:, 0].astype(int)\n",
    "df[\"umaban\"] = df.iloc[:, 1].astype(int)\n",
    "df[\"sex\"] = df.iloc[:, 4].str[0].map(sex_mapping)\n",
    "df[\"age\"] = df.iloc[:, 4].str[1:].astype(int)\n",
    "df[\"impost\"] = df.iloc[:, 5].astype(float)\n",
    "# df[\"weight\"] = df.iloc[:, 8].str.extract(r\"(\\d+)\").astype(int)\n",
    "# df[\"weight_diff\"] = df.iloc[:, 8].str.extract(r\"\\((.+)\\)\").astype(int)\n",
    "df[\"weight\"] = df.iloc[:, 8].astype(str).str.extract(r\"(\\d+)\").astype(float)\n",
    "df[\"weight_diff\"] = df.iloc[:, 8].astype(str).str.extract(r\"\\((.+)\\)\").astype(float)\n",
    "\n",
    "\n",
    "df[\"tansho_odds\"] = df.iloc[:, 9].astype(float)\n",
    "df[\"popularity\"] = df.iloc[:, 10].astype(int)\n",
    "df[\"race_id\"] = int(race_id)\n",
    "df[\"n_horses\"] = df.groupby(\"race_id\")[\"race_id\"].transform(\"count\")\n",
    "\n",
    "\n",
    "\n",
    "# 使用する列を選択\n",
    "df = df[\n",
    "    [\n",
    "        \"race_id\",\n",
    "        \"horse_id\",\n",
    "        \"jockey_id\",\n",
    "        \"trainer_id\",\n",
    "        # \"rank\", \n",
    "        # \"rank_per_horse\",                \n",
    "        # \"time\",\n",
    "        # \"nobori\",\n",
    "        \"umaban\",\n",
    "        \"wakuban\",\n",
    "        \"tansho_odds\",\n",
    "        \"popularity\",\n",
    "        \"impost\",\n",
    "        \"sex\",\n",
    "        \"age\",\n",
    "        \"weight\",\n",
    "        \"weight_diff\",\n",
    "        \"n_horses\",\n",
    "    ] \n",
    "]\n"
   ]
  },
  {
   "cell_type": "code",
   "execution_count": 41,
   "id": "7ab27343-9445-45e4-998d-345d652e000d",
   "metadata": {
    "collapsed": true,
    "jupyter": {
     "outputs_hidden": true,
     "source_hidden": true
    }
   },
   "outputs": [
    {
     "ename": "AttributeError",
     "evalue": "'NoneType' object has no attribute 'find'",
     "output_type": "error",
     "traceback": [
      "\u001b[0;31m---------------------------------------------------------------------------\u001b[0m",
      "\u001b[0;31mAttributeError\u001b[0m                            Traceback (most recent call last)",
      "Cell \u001b[0;32mIn[41], line 15\u001b[0m\n\u001b[1;32m     12\u001b[0m info_dict \u001b[38;5;241m=\u001b[39m {}\n\u001b[1;32m     14\u001b[0m soup \u001b[38;5;241m=\u001b[39m BeautifulSoup(html, \u001b[38;5;124m\"\u001b[39m\u001b[38;5;124mlxml\u001b[39m\u001b[38;5;124m\"\u001b[39m)\u001b[38;5;241m.\u001b[39mfind(\u001b[38;5;124m\"\u001b[39m\u001b[38;5;124mdiv\u001b[39m\u001b[38;5;124m\"\u001b[39m, class_\u001b[38;5;241m=\u001b[39m\u001b[38;5;124m\"\u001b[39m\u001b[38;5;124mRaceList_Item02\u001b[39m\u001b[38;5;124m\"\u001b[39m)\n\u001b[0;32m---> 15\u001b[0m title \u001b[38;5;241m=\u001b[39m soup\u001b[38;5;241m.\u001b[39mfind(\u001b[38;5;124m\"\u001b[39m\u001b[38;5;124mh1\u001b[39m\u001b[38;5;124m\"\u001b[39m)\u001b[38;5;241m.\u001b[39mtext\u001b[38;5;241m.\u001b[39mstrip()\n\u001b[1;32m     16\u001b[0m divs \u001b[38;5;241m=\u001b[39m soup\u001b[38;5;241m.\u001b[39mfind_all(\u001b[38;5;124m\"\u001b[39m\u001b[38;5;124mdiv\u001b[39m\u001b[38;5;124m\"\u001b[39m)\n\u001b[1;32m     17\u001b[0m div1 \u001b[38;5;241m=\u001b[39m divs[\u001b[38;5;241m0\u001b[39m]\u001b[38;5;241m.\u001b[39mtext\u001b[38;5;241m.\u001b[39mreplace(\u001b[38;5;124m\"\u001b[39m\u001b[38;5;124m \u001b[39m\u001b[38;5;124m\"\u001b[39m, \u001b[38;5;124m\"\u001b[39m\u001b[38;5;124m\"\u001b[39m)\n",
      "\u001b[0;31mAttributeError\u001b[0m: 'NoneType' object has no attribute 'find'"
     ]
    }
   ],
   "source": [
    "htmls[race_id]\n",
    "race_type_mapping = race_type_mapping\n",
    "around_mapping= around_mapping\n",
    "weather_mapping = weather_mapping\n",
    "ground_state_mapping = ground_state_mapping\n",
    "race_class_mapping = race_class_mapping\n",
    "\n",
    "\"\"\"\n",
    "出馬表ページのhtmlを受け取ると、\n",
    "「レース情報テーブル」を取得して、学習時と同じ形式に前処理する関数。\n",
    "\"\"\"\n",
    "info_dict = {}\n",
    "soup = BeautifulSoup(html, \"lxml\").find(\"div\", class_=\"RaceList_Item02\")\n",
    "title = soup.find(\"h1\").text.strip()\n",
    "divs = soup.find_all(\"div\")\n",
    "div1 = divs[0].text.replace(\" \", \"\")\n",
    "info1 = re.findall(r\"[\\w:]+\", div1)\n",
    "info_dict[\"race_type\"] = race_type_mapping[info1[1][0]]\n",
    "info_dict[\"around\"] = (\n",
    "    around_mapping[info1[2][0]] if info_dict[\"race_type\"] != 2 else np.nan\n",
    ")\n",
    "info_dict[\"course_len\"] = int(re.findall(r\"\\d+\", info1[1])[0])\n",
    "info_dict[\"weather\"] = weather_mapping[re.findall(r\"天候:(\\w+)\", div1)[0]]\n",
    "info_dict[\"ground_state\"] = ground_state_mapping[\n",
    "    re.findall(r\"馬場:(\\w+)\", div1)[0]\n",
    "]\n",
    "# レース階級情報の取得\n",
    "regex_race_class = \"|\".join(race_class_mapping)\n",
    "race_class_title = re.findall(regex_race_class, title)\n",
    "# タイトルからレース階級情報が取れない場合\n",
    "race_class = re.findall(regex_race_class, divs[1].text)\n",
    "if len(race_class_title) != 0:\n",
    "    info_dict[\"race_class\"] = race_class_mapping[race_class_title[0]]\n",
    "elif len(race_class) != 0:\n",
    "    info_dict[\"race_class\"] = race_class_mapping[race_class[0]]\n",
    "else:\n",
    "    info_dict[\"race_class\"] = None\n",
    "info_dict[\"place\"] = int(race_id[4:6])"
   ]
  },
  {
   "cell_type": "code",
   "execution_count": null,
   "id": "8c82ddf8-e8d5-4495-85db-c7cb7d0a6341",
   "metadata": {},
   "outputs": [],
   "source": []
  },
  {
   "cell_type": "markdown",
   "id": "081996a3-277a-44bf-867f-5eb9a858b98e",
   "metadata": {},
   "source": [
    "### 予測当日の処理"
   ]
  },
  {
   "cell_type": "code",
   "execution_count": 25,
   "id": "6c5f82b5-a87c-4358-8687-4ce2150167ad",
   "metadata": {},
   "outputs": [],
   "source": [
    "# 当日出走馬の過去成績テーブルの前処理_そのままで使えない未加工のデータを加工する\n",
    "horse_results_preprocessed = preprocessing.process_horse_results(\n",
    "    input_filename=\"horse_results_prediction.csv\",\n",
    "    output_filename=\"horse_results_prediction.csv\"\n",
    ")"
   ]
  },
  {
   "cell_type": "code",
   "execution_count": 26,
   "id": "06553795-855f-4d3f-9691-9ac3c4d1b039",
   "metadata": {},
   "outputs": [],
   "source": [
    "# 当日出走馬の血統テーブルの前処理\n",
    "peds_preprocessed = preprocessing.process_peds(\n",
    "    input_filename=\"peds_prediction.csv\",\n",
    "    output_filename=\"peds_prediction.csv\"\n",
    ")"
   ]
  },
  {
   "cell_type": "code",
   "execution_count": 31,
   "id": "358f8deb-ec11-40f2-ba4d-6c0a6852ced7",
   "metadata": {
    "scrolled": true
   },
   "outputs": [
    {
     "data": {
      "application/vnd.jupyter.widget-view+json": {
       "model_id": "d68d51fbd17a4bb398d208bbdb0c592c",
       "version_major": 2,
       "version_minor": 0
      },
      "text/plain": [
       "agg_horse_n_races_relative:   0%|          | 0/4 [00:00<?, ?it/s]"
      ]
     },
     "metadata": {},
     "output_type": "display_data"
    },
    {
     "data": {
      "text/html": [
       "<div>\n",
       "<style scoped>\n",
       "    .dataframe tbody tr th:only-of-type {\n",
       "        vertical-align: middle;\n",
       "    }\n",
       "\n",
       "    .dataframe tbody tr th {\n",
       "        vertical-align: top;\n",
       "    }\n",
       "\n",
       "    .dataframe thead th {\n",
       "        text-align: right;\n",
       "    }\n",
       "</style>\n",
       "<table border=\"1\" class=\"dataframe\">\n",
       "  <thead>\n",
       "    <tr style=\"text-align: right;\">\n",
       "      <th></th>\n",
       "      <th>date</th>\n",
       "      <th>race_id</th>\n",
       "      <th>horse_id</th>\n",
       "      <th>rank_1races</th>\n",
       "      <th>rank_per_horse_1races</th>\n",
       "      <th>prize_1races</th>\n",
       "      <th>rank_3races</th>\n",
       "      <th>rank_per_horse_3races</th>\n",
       "      <th>prize_3races</th>\n",
       "      <th>rank_5races</th>\n",
       "      <th>rank_per_horse_5races</th>\n",
       "      <th>prize_5races</th>\n",
       "      <th>rank_10races</th>\n",
       "      <th>rank_per_horse_10races</th>\n",
       "      <th>prize_10races</th>\n",
       "      <th>rank_1000races</th>\n",
       "      <th>rank_per_horse_1000races</th>\n",
       "      <th>prize_1000races</th>\n",
       "    </tr>\n",
       "  </thead>\n",
       "  <tbody>\n",
       "    <tr>\n",
       "      <th>0</th>\n",
       "      <td>2024-11-10</td>\n",
       "      <td>202405050406</td>\n",
       "      <td>2019105148</td>\n",
       "      <td>6.0</td>\n",
       "      <td>0.545455</td>\n",
       "      <td>0.0</td>\n",
       "      <td>8.333333</td>\n",
       "      <td>0.645188</td>\n",
       "      <td>0.000000</td>\n",
       "      <td>7.2</td>\n",
       "      <td>0.584256</td>\n",
       "      <td>24.00</td>\n",
       "      <td>9.100</td>\n",
       "      <td>0.672810</td>\n",
       "      <td>20.000</td>\n",
       "      <td>7.416667</td>\n",
       "      <td>0.529568</td>\n",
       "      <td>68.041667</td>\n",
       "    </tr>\n",
       "    <tr>\n",
       "      <th>1</th>\n",
       "      <td>2024-11-10</td>\n",
       "      <td>202405050406</td>\n",
       "      <td>2020110020</td>\n",
       "      <td>7.0</td>\n",
       "      <td>0.583333</td>\n",
       "      <td>0.0</td>\n",
       "      <td>4.333333</td>\n",
       "      <td>0.323611</td>\n",
       "      <td>133.333333</td>\n",
       "      <td>5.4</td>\n",
       "      <td>0.400833</td>\n",
       "      <td>80.00</td>\n",
       "      <td>5.500</td>\n",
       "      <td>0.394306</td>\n",
       "      <td>127.000</td>\n",
       "      <td>5.187500</td>\n",
       "      <td>0.361225</td>\n",
       "      <td>114.875000</td>\n",
       "    </tr>\n",
       "    <tr>\n",
       "      <th>2</th>\n",
       "      <td>2024-11-10</td>\n",
       "      <td>202405050406</td>\n",
       "      <td>2021103332</td>\n",
       "      <td>8.0</td>\n",
       "      <td>0.533333</td>\n",
       "      <td>0.0</td>\n",
       "      <td>7.333333</td>\n",
       "      <td>0.469444</td>\n",
       "      <td>18.333333</td>\n",
       "      <td>6.8</td>\n",
       "      <td>0.431667</td>\n",
       "      <td>22.00</td>\n",
       "      <td>6.600</td>\n",
       "      <td>0.415833</td>\n",
       "      <td>41.300</td>\n",
       "      <td>6.818182</td>\n",
       "      <td>0.429167</td>\n",
       "      <td>37.545455</td>\n",
       "    </tr>\n",
       "    <tr>\n",
       "      <th>3</th>\n",
       "      <td>2024-11-10</td>\n",
       "      <td>202405050406</td>\n",
       "      <td>2020100406</td>\n",
       "      <td>6.0</td>\n",
       "      <td>0.333333</td>\n",
       "      <td>0.0</td>\n",
       "      <td>6.333333</td>\n",
       "      <td>0.425926</td>\n",
       "      <td>56.666667</td>\n",
       "      <td>6.2</td>\n",
       "      <td>0.446032</td>\n",
       "      <td>58.00</td>\n",
       "      <td>5.700</td>\n",
       "      <td>0.420238</td>\n",
       "      <td>119.000</td>\n",
       "      <td>4.923077</td>\n",
       "      <td>0.359133</td>\n",
       "      <td>139.230769</td>\n",
       "    </tr>\n",
       "    <tr>\n",
       "      <th>4</th>\n",
       "      <td>2024-11-10</td>\n",
       "      <td>202405050406</td>\n",
       "      <td>2021105897</td>\n",
       "      <td>12.0</td>\n",
       "      <td>0.923077</td>\n",
       "      <td>0.0</td>\n",
       "      <td>5.000000</td>\n",
       "      <td>0.370192</td>\n",
       "      <td>256.666667</td>\n",
       "      <td>4.6</td>\n",
       "      <td>0.333654</td>\n",
       "      <td>192.60</td>\n",
       "      <td>4.600</td>\n",
       "      <td>0.333654</td>\n",
       "      <td>192.600</td>\n",
       "      <td>4.600000</td>\n",
       "      <td>0.333654</td>\n",
       "      <td>192.600000</td>\n",
       "    </tr>\n",
       "    <tr>\n",
       "      <th>...</th>\n",
       "      <td>...</td>\n",
       "      <td>...</td>\n",
       "      <td>...</td>\n",
       "      <td>...</td>\n",
       "      <td>...</td>\n",
       "      <td>...</td>\n",
       "      <td>...</td>\n",
       "      <td>...</td>\n",
       "      <td>...</td>\n",
       "      <td>...</td>\n",
       "      <td>...</td>\n",
       "      <td>...</td>\n",
       "      <td>...</td>\n",
       "      <td>...</td>\n",
       "      <td>...</td>\n",
       "      <td>...</td>\n",
       "      <td>...</td>\n",
       "      <td>...</td>\n",
       "    </tr>\n",
       "    <tr>\n",
       "      <th>133</th>\n",
       "      <td>2024-11-10</td>\n",
       "      <td>202403030411</td>\n",
       "      <td>2016104319</td>\n",
       "      <td>3.0</td>\n",
       "      <td>0.187500</td>\n",
       "      <td>705.0</td>\n",
       "      <td>4.666667</td>\n",
       "      <td>0.340278</td>\n",
       "      <td>375.000000</td>\n",
       "      <td>6.4</td>\n",
       "      <td>0.435000</td>\n",
       "      <td>225.00</td>\n",
       "      <td>7.800</td>\n",
       "      <td>0.507626</td>\n",
       "      <td>112.500</td>\n",
       "      <td>6.256410</td>\n",
       "      <td>0.422665</td>\n",
       "      <td>313.492308</td>\n",
       "    </tr>\n",
       "    <tr>\n",
       "      <th>134</th>\n",
       "      <td>2024-11-10</td>\n",
       "      <td>202403030411</td>\n",
       "      <td>2021104094</td>\n",
       "      <td>9.0</td>\n",
       "      <td>0.750000</td>\n",
       "      <td>0.0</td>\n",
       "      <td>8.333333</td>\n",
       "      <td>0.580065</td>\n",
       "      <td>537.400000</td>\n",
       "      <td>6.8</td>\n",
       "      <td>0.477585</td>\n",
       "      <td>604.68</td>\n",
       "      <td>5.125</td>\n",
       "      <td>0.375814</td>\n",
       "      <td>709.125</td>\n",
       "      <td>5.125000</td>\n",
       "      <td>0.375814</td>\n",
       "      <td>709.125000</td>\n",
       "    </tr>\n",
       "    <tr>\n",
       "      <th>135</th>\n",
       "      <td>2024-11-10</td>\n",
       "      <td>202403030412</td>\n",
       "      <td>2019106520</td>\n",
       "      <td>2.0</td>\n",
       "      <td>0.181818</td>\n",
       "      <td>320.0</td>\n",
       "      <td>2.333333</td>\n",
       "      <td>0.218013</td>\n",
       "      <td>280.000000</td>\n",
       "      <td>5.4</td>\n",
       "      <td>0.404022</td>\n",
       "      <td>168.00</td>\n",
       "      <td>5.400</td>\n",
       "      <td>0.370761</td>\n",
       "      <td>148.000</td>\n",
       "      <td>6.933333</td>\n",
       "      <td>0.456341</td>\n",
       "      <td>112.000000</td>\n",
       "    </tr>\n",
       "    <tr>\n",
       "      <th>136</th>\n",
       "      <td>2024-11-10</td>\n",
       "      <td>202403030412</td>\n",
       "      <td>2020103670</td>\n",
       "      <td>8.0</td>\n",
       "      <td>0.500000</td>\n",
       "      <td>0.0</td>\n",
       "      <td>9.333333</td>\n",
       "      <td>0.583333</td>\n",
       "      <td>26.666667</td>\n",
       "      <td>10.2</td>\n",
       "      <td>0.646667</td>\n",
       "      <td>16.00</td>\n",
       "      <td>8.200</td>\n",
       "      <td>0.526178</td>\n",
       "      <td>40.000</td>\n",
       "      <td>7.647059</td>\n",
       "      <td>0.513348</td>\n",
       "      <td>64.588235</td>\n",
       "    </tr>\n",
       "    <tr>\n",
       "      <th>137</th>\n",
       "      <td>2024-11-10</td>\n",
       "      <td>202403030412</td>\n",
       "      <td>2020103710</td>\n",
       "      <td>4.0</td>\n",
       "      <td>0.250000</td>\n",
       "      <td>120.0</td>\n",
       "      <td>4.333333</td>\n",
       "      <td>0.254630</td>\n",
       "      <td>146.666667</td>\n",
       "      <td>5.2</td>\n",
       "      <td>0.315278</td>\n",
       "      <td>88.00</td>\n",
       "      <td>4.500</td>\n",
       "      <td>0.280556</td>\n",
       "      <td>110.300</td>\n",
       "      <td>4.866667</td>\n",
       "      <td>0.348704</td>\n",
       "      <td>86.333333</td>\n",
       "    </tr>\n",
       "  </tbody>\n",
       "</table>\n",
       "<p>138 rows × 18 columns</p>\n",
       "</div>"
      ],
      "text/plain": [
       "           date       race_id    horse_id  rank_1races  rank_per_horse_1races  \\\n",
       "0    2024-11-10  202405050406  2019105148          6.0               0.545455   \n",
       "1    2024-11-10  202405050406  2020110020          7.0               0.583333   \n",
       "2    2024-11-10  202405050406  2021103332          8.0               0.533333   \n",
       "3    2024-11-10  202405050406  2020100406          6.0               0.333333   \n",
       "4    2024-11-10  202405050406  2021105897         12.0               0.923077   \n",
       "..          ...           ...         ...          ...                    ...   \n",
       "133  2024-11-10  202403030411  2016104319          3.0               0.187500   \n",
       "134  2024-11-10  202403030411  2021104094          9.0               0.750000   \n",
       "135  2024-11-10  202403030412  2019106520          2.0               0.181818   \n",
       "136  2024-11-10  202403030412  2020103670          8.0               0.500000   \n",
       "137  2024-11-10  202403030412  2020103710          4.0               0.250000   \n",
       "\n",
       "     prize_1races  rank_3races  rank_per_horse_3races  prize_3races  \\\n",
       "0             0.0     8.333333               0.645188      0.000000   \n",
       "1             0.0     4.333333               0.323611    133.333333   \n",
       "2             0.0     7.333333               0.469444     18.333333   \n",
       "3             0.0     6.333333               0.425926     56.666667   \n",
       "4             0.0     5.000000               0.370192    256.666667   \n",
       "..            ...          ...                    ...           ...   \n",
       "133         705.0     4.666667               0.340278    375.000000   \n",
       "134           0.0     8.333333               0.580065    537.400000   \n",
       "135         320.0     2.333333               0.218013    280.000000   \n",
       "136           0.0     9.333333               0.583333     26.666667   \n",
       "137         120.0     4.333333               0.254630    146.666667   \n",
       "\n",
       "     rank_5races  rank_per_horse_5races  prize_5races  rank_10races  \\\n",
       "0            7.2               0.584256         24.00         9.100   \n",
       "1            5.4               0.400833         80.00         5.500   \n",
       "2            6.8               0.431667         22.00         6.600   \n",
       "3            6.2               0.446032         58.00         5.700   \n",
       "4            4.6               0.333654        192.60         4.600   \n",
       "..           ...                    ...           ...           ...   \n",
       "133          6.4               0.435000        225.00         7.800   \n",
       "134          6.8               0.477585        604.68         5.125   \n",
       "135          5.4               0.404022        168.00         5.400   \n",
       "136         10.2               0.646667         16.00         8.200   \n",
       "137          5.2               0.315278         88.00         4.500   \n",
       "\n",
       "     rank_per_horse_10races  prize_10races  rank_1000races  \\\n",
       "0                  0.672810         20.000        7.416667   \n",
       "1                  0.394306        127.000        5.187500   \n",
       "2                  0.415833         41.300        6.818182   \n",
       "3                  0.420238        119.000        4.923077   \n",
       "4                  0.333654        192.600        4.600000   \n",
       "..                      ...            ...             ...   \n",
       "133                0.507626        112.500        6.256410   \n",
       "134                0.375814        709.125        5.125000   \n",
       "135                0.370761        148.000        6.933333   \n",
       "136                0.526178         40.000        7.647059   \n",
       "137                0.280556        110.300        4.866667   \n",
       "\n",
       "     rank_per_horse_1000races  prize_1000races  \n",
       "0                    0.529568        68.041667  \n",
       "1                    0.361225       114.875000  \n",
       "2                    0.429167        37.545455  \n",
       "3                    0.359133       139.230769  \n",
       "4                    0.333654       192.600000  \n",
       "..                        ...              ...  \n",
       "133                  0.422665       313.492308  \n",
       "134                  0.375814       709.125000  \n",
       "135                  0.456341       112.000000  \n",
       "136                  0.513348        64.588235  \n",
       "137                  0.348704        86.333333  \n",
       "\n",
       "[138 rows x 18 columns]"
      ]
     },
     "execution_count": 31,
     "metadata": {},
     "output_type": "execute_result"
    }
   ],
   "source": [
    "pfc = PredictionFeatureCreator()\n",
    "# 過去成績集計は事前に行うことができる\n",
    "pfc.create_baselog()\n",
    "pfc.agg_horse_n_races()\n",
    "pfc.agg_horse_n_races_relative()\n",
    "pfc.agg_horse_n_races_df"
   ]
  },
  {
   "cell_type": "code",
   "execution_count": 32,
   "id": "23f9620a-ea8b-4ff8-acf4-1391b7754dd8",
   "metadata": {},
   "outputs": [
    {
     "name": "stdout",
     "output_type": "stream",
     "text": [
      "fetching shutuba page html...\n",
      "fetching shutuba page html...comp\n",
      "0    2023\n",
      "Name: date_year, dtype: int32\n",
      "running cross_features()...comp\n",
      "running agg_interval()...comp\n",
      "running cross_features_2()...comp\n"
     ]
    },
    {
     "data": {
      "application/vnd.jupyter.widget-view+json": {
       "model_id": "1361cd04dd664b06be5c4d6b55190ae3",
       "version_major": 2,
       "version_minor": 0
      },
      "text/plain": [
       "agg_cross_encoded:   0%|          | 0/4 [00:00<?, ?it/s]"
      ]
     },
     "metadata": {},
     "output_type": "display_data"
    },
    {
     "name": "stdout",
     "output_type": "stream",
     "text": [
      "running cross_features_3()...comp\n"
     ]
    },
    {
     "data": {
      "application/vnd.jupyter.widget-view+json": {
       "model_id": "222d5f499c274cf0811abbbda5b260af",
       "version_major": 2,
       "version_minor": 0
      },
      "text/plain": [
       "agg_cross_zizoku_syunpatu:   0%|          | 0/4 [00:00<?, ?it/s]"
      ]
     },
     "metadata": {},
     "output_type": "display_data"
    },
    {
     "name": "stdout",
     "output_type": "stream",
     "text": [
      "running cross_features_4()...comp\n",
      "running cross_features_5()...comp\n",
      "running cross_features_6()...comp\n"
     ]
    },
    {
     "data": {
      "application/vnd.jupyter.widget-view+json": {
       "model_id": "d4a04cced8c04afc9fa48b537c7c6d67",
       "version_major": 2,
       "version_minor": 0
      },
      "text/plain": [
       "pace_category_win_1:   0%|          | 0/4 [00:00<?, ?it/s]"
      ]
     },
     "metadata": {},
     "output_type": "display_data"
    },
    {
     "data": {
      "application/vnd.jupyter.widget-view+json": {
       "model_id": "00cc9377cbf14258be925fefb7864667",
       "version_major": 2,
       "version_minor": 0
      },
      "text/plain": [
       "pace_category_win_2:   0%|          | 0/4 [00:00<?, ?it/s]"
      ]
     },
     "metadata": {},
     "output_type": "display_data"
    },
    {
     "data": {
      "application/vnd.jupyter.widget-view+json": {
       "model_id": "ff0b3f4d3f624f7aa07d337c0499b691",
       "version_major": 2,
       "version_minor": 0
      },
      "text/plain": [
       "pace_category_win_3:   0%|          | 0/4 [00:00<?, ?it/s]"
      ]
     },
     "metadata": {},
     "output_type": "display_data"
    },
    {
     "data": {
      "application/vnd.jupyter.widget-view+json": {
       "model_id": "3f077f018ace4d08bc50c3f11f6b2e22",
       "version_major": 2,
       "version_minor": 0
      },
      "text/plain": [
       "pace_category_win_4:   0%|          | 0/4 [00:00<?, ?it/s]"
      ]
     },
     "metadata": {},
     "output_type": "display_data"
    },
    {
     "name": "stdout",
     "output_type": "stream",
     "text": [
      "running cross_features_7()...comp\n"
     ]
    },
    {
     "data": {
      "application/vnd.jupyter.widget-view+json": {
       "model_id": "c48b794ba19141a3a5e9a2c6ca7c16c4",
       "version_major": 2,
       "version_minor": 0
      },
      "text/plain": [
       "agg_pace_per_score:   0%|          | 0/4 [00:00<?, ?it/s]"
      ]
     },
     "metadata": {},
     "output_type": "display_data"
    },
    {
     "name": "stdout",
     "output_type": "stream",
     "text": [
      "running cross_features_8()...comp\n"
     ]
    },
    {
     "data": {
      "application/vnd.jupyter.widget-view+json": {
       "model_id": "30c3d4a0a85e43fdb04612d8739a32e8",
       "version_major": 2,
       "version_minor": 0
      },
      "text/plain": [
       "agg_goal_per_score:   0%|          | 0/4 [00:00<?, ?it/s]"
      ]
     },
     "metadata": {},
     "output_type": "display_data"
    },
    {
     "name": "stdout",
     "output_type": "stream",
     "text": [
      "running cross_features_9()...comp\n"
     ]
    },
    {
     "data": {
      "application/vnd.jupyter.widget-view+json": {
       "model_id": "19fc52e56b0346969a9da5bbdb0d7721",
       "version_major": 2,
       "version_minor": 0
      },
      "text/plain": [
       "agg_curve_per_score:   0%|          | 0/4 [00:00<?, ?it/s]"
      ]
     },
     "metadata": {},
     "output_type": "display_data"
    },
    {
     "name": "stdout",
     "output_type": "stream",
     "text": [
      "running cross_features_10()...comp\n"
     ]
    },
    {
     "data": {
      "application/vnd.jupyter.widget-view+json": {
       "model_id": "7a682576f03e49e3855c0d4b54ba2aa7",
       "version_major": 2,
       "version_minor": 0
      },
      "text/plain": [
       "agg_goal_slope_per_score:   0%|          | 0/4 [00:00<?, ?it/s]"
      ]
     },
     "metadata": {},
     "output_type": "display_data"
    },
    {
     "name": "stdout",
     "output_type": "stream",
     "text": [
      "running cross_features_11()...comp\n"
     ]
    },
    {
     "data": {
      "application/vnd.jupyter.widget-view+json": {
       "model_id": "bde42ad6cef14b24b226e07f5fdcc9c1",
       "version_major": 2,
       "version_minor": 0
      },
      "text/plain": [
       "agg_stamina_per_score:   0%|          | 0/4 [00:00<?, ?it/s]"
      ]
     },
     "metadata": {},
     "output_type": "display_data"
    },
    {
     "name": "stdout",
     "output_type": "stream",
     "text": [
      "running cross_features_12()...comp\n"
     ]
    },
    {
     "data": {
      "application/vnd.jupyter.widget-view+json": {
       "model_id": "b112957d66d8418fa74b47b49c31f14e",
       "version_major": 2,
       "version_minor": 0
      },
      "text/plain": [
       "agg_pace_per_score:   0%|          | 0/4 [00:00<?, ?it/s]"
      ]
     },
     "metadata": {},
     "output_type": "display_data"
    },
    {
     "data": {
      "application/vnd.jupyter.widget-view+json": {
       "model_id": "cd961b7e03d84d9ab5d59000c856d0b5",
       "version_major": 2,
       "version_minor": 0
      },
      "text/plain": [
       "agg_goal_per_score:   0%|          | 0/4 [00:00<?, ?it/s]"
      ]
     },
     "metadata": {},
     "output_type": "display_data"
    },
    {
     "data": {
      "application/vnd.jupyter.widget-view+json": {
       "model_id": "d7900367a95f4017b071a0806aaa2122",
       "version_major": 2,
       "version_minor": 0
      },
      "text/plain": [
       "agg_curve_per_score:   0%|          | 0/4 [00:00<?, ?it/s]"
      ]
     },
     "metadata": {},
     "output_type": "display_data"
    },
    {
     "data": {
      "application/vnd.jupyter.widget-view+json": {
       "model_id": "c62d34d495224e1fa6bc7da160c5c046",
       "version_major": 2,
       "version_minor": 0
      },
      "text/plain": [
       "agg_goal_slope_per_score:   0%|          | 0/4 [00:00<?, ?it/s]"
      ]
     },
     "metadata": {},
     "output_type": "display_data"
    },
    {
     "data": {
      "application/vnd.jupyter.widget-view+json": {
       "model_id": "a7138f96a5554727a98377d5ddbf47b6",
       "version_major": 2,
       "version_minor": 0
      },
      "text/plain": [
       "agg_stamina_per_score:   0%|          | 0/4 [00:00<?, ?it/s]"
      ]
     },
     "metadata": {},
     "output_type": "display_data"
    },
    {
     "name": "stdout",
     "output_type": "stream",
     "text": [
      "running cross_features_13()...comp\n"
     ]
    },
    {
     "data": {
      "application/vnd.jupyter.widget-view+json": {
       "model_id": "5244e04e13d749eb9ca591f970a79267",
       "version_major": 2,
       "version_minor": 0
      },
      "text/plain": [
       "agg_raceclass_rankdiff_per_score:   0%|          | 0/4 [00:00<?, ?it/s]"
      ]
     },
     "metadata": {},
     "output_type": "display_data"
    },
    {
     "name": "stdout",
     "output_type": "stream",
     "text": [
      "running cross_features_14()...comp\n"
     ]
    },
    {
     "data": {
      "application/vnd.jupyter.widget-view+json": {
       "model_id": "20c619ec743c457b8826527f8d18b776",
       "version_major": 2,
       "version_minor": 0
      },
      "text/plain": [
       "agg_horse_per_course_len:   0%|          | 0/4 [00:00<?, ?it/s]"
      ]
     },
     "metadata": {},
     "output_type": "display_data"
    },
    {
     "data": {
      "application/vnd.jupyter.widget-view+json": {
       "model_id": "7cc0117908fa43a2b30f43c3b880721e",
       "version_major": 2,
       "version_minor": 0
      },
      "text/plain": [
       "agg_horse_per_ground_state_race_type:   0%|          | 0/4 [00:00<?, ?it/s]"
      ]
     },
     "metadata": {},
     "output_type": "display_data"
    },
    {
     "data": {
      "application/vnd.jupyter.widget-view+json": {
       "model_id": "6cdb5d1d442a479daf5e59e128d9691d",
       "version_major": 2,
       "version_minor": 0
      },
      "text/plain": [
       "agg_horse_per_race_class:   0%|          | 0/4 [00:00<?, ?it/s]"
      ]
     },
     "metadata": {},
     "output_type": "display_data"
    },
    {
     "data": {
      "application/vnd.jupyter.widget-view+json": {
       "model_id": "5ecd96e4176d48d2a6361c86df70ffc4",
       "version_major": 2,
       "version_minor": 0
      },
      "text/plain": [
       "agg_horse_per_race_type:   0%|          | 0/4 [00:00<?, ?it/s]"
      ]
     },
     "metadata": {},
     "output_type": "display_data"
    },
    {
     "data": {
      "application/vnd.jupyter.widget-view+json": {
       "model_id": "d1f6765facda43039cb3ad3ca856a5bb",
       "version_major": 2,
       "version_minor": 0
      },
      "text/plain": [
       "agg_horse_per_race_place_len:   0%|          | 0/4 [00:00<?, ?it/s]"
      ]
     },
     "metadata": {},
     "output_type": "display_data"
    },
    {
     "data": {
      "application/vnd.jupyter.widget-view+json": {
       "model_id": "ad49a2a308d64bc69d9a2be97d452456",
       "version_major": 2,
       "version_minor": 0
      },
      "text/plain": [
       "agg_horse_per_weather:   0%|          | 0/4 [00:00<?, ?it/s]"
      ]
     },
     "metadata": {},
     "output_type": "display_data"
    },
    {
     "name": "stdout",
     "output_type": "stream",
     "text": [
      "running agg_jockey()...\n",
      "running agg_trainer()...\n",
      "running agg_sire()...\n",
      "merging all features...\n",
      "merging all features...comp\n"
     ]
    }
   ],
   "source": [
    "# 特徴量の更新\n",
    "features = pfc.create_features(\n",
    "    race_id=\"202408060411\",  # 予測するレースidを指定\n",
    "    date_content_a = \"2024年11月10日\", #\"%Y年%m月%d日\"形式で該当レース当日の日付を入れてください\n",
    "    skip_agg_horse=True  # 事前に集計した場合はスキップできる\n",
    ")"
   ]
  },
  {
   "cell_type": "code",
   "execution_count": 119,
   "id": "2aa465ea-0aba-43e2-ad49-911f4c7997bb",
   "metadata": {},
   "outputs": [],
   "source": [
    "\n"
   ]
  },
  {
   "cell_type": "code",
   "execution_count": 8,
   "id": "5119ecce-9b7c-4660-a841-a8085bd19553",
   "metadata": {},
   "outputs": [
    {
     "data": {
      "text/html": [
       "<div>\n",
       "<style scoped>\n",
       "    .dataframe tbody tr th:only-of-type {\n",
       "        vertical-align: middle;\n",
       "    }\n",
       "\n",
       "    .dataframe tbody tr th {\n",
       "        vertical-align: top;\n",
       "    }\n",
       "\n",
       "    .dataframe thead th {\n",
       "        text-align: right;\n",
       "    }\n",
       "</style>\n",
       "<table border=\"1\" class=\"dataframe\">\n",
       "  <thead>\n",
       "    <tr style=\"text-align: right;\">\n",
       "      <th></th>\n",
       "      <th>race_id</th>\n",
       "      <th>horse_id</th>\n",
       "      <th>jockey_id</th>\n",
       "      <th>trainer_id</th>\n",
       "      <th>umaban</th>\n",
       "      <th>wakuban</th>\n",
       "      <th>tansho_odds</th>\n",
       "      <th>popularity</th>\n",
       "      <th>impost</th>\n",
       "      <th>sex</th>\n",
       "      <th>age</th>\n",
       "      <th>weight</th>\n",
       "      <th>weight_diff</th>\n",
       "      <th>n_horses</th>\n",
       "    </tr>\n",
       "  </thead>\n",
       "  <tbody>\n",
       "    <tr>\n",
       "      <th>0</th>\n",
       "      <td>202408060411</td>\n",
       "      <td>2020110060</td>\n",
       "      <td>1163</td>\n",
       "      <td>1055</td>\n",
       "      <td>1</td>\n",
       "      <td>1</td>\n",
       "      <td>8.7</td>\n",
       "      <td>2</td>\n",
       "      <td>56.0</td>\n",
       "      <td>1</td>\n",
       "      <td>4</td>\n",
       "      <td>536.0</td>\n",
       "      <td>0.0</td>\n",
       "      <td>17</td>\n",
       "    </tr>\n",
       "    <tr>\n",
       "      <th>1</th>\n",
       "      <td>202408060411</td>\n",
       "      <td>2019103588</td>\n",
       "      <td>1150</td>\n",
       "      <td>1020</td>\n",
       "      <td>2</td>\n",
       "      <td>1</td>\n",
       "      <td>35.7</td>\n",
       "      <td>10</td>\n",
       "      <td>56.0</td>\n",
       "      <td>1</td>\n",
       "      <td>5</td>\n",
       "      <td>448.0</td>\n",
       "      <td>-10.0</td>\n",
       "      <td>17</td>\n",
       "    </tr>\n",
       "    <tr>\n",
       "      <th>2</th>\n",
       "      <td>202408060411</td>\n",
       "      <td>2019103973</td>\n",
       "      <td>1032</td>\n",
       "      <td>420</td>\n",
       "      <td>3</td>\n",
       "      <td>2</td>\n",
       "      <td>53.0</td>\n",
       "      <td>13</td>\n",
       "      <td>56.0</td>\n",
       "      <td>1</td>\n",
       "      <td>5</td>\n",
       "      <td>444.0</td>\n",
       "      <td>-4.0</td>\n",
       "      <td>17</td>\n",
       "    </tr>\n",
       "    <tr>\n",
       "      <th>3</th>\n",
       "      <td>202408060411</td>\n",
       "      <td>2020105626</td>\n",
       "      <td>1174</td>\n",
       "      <td>1110</td>\n",
       "      <td>4</td>\n",
       "      <td>2</td>\n",
       "      <td>25.8</td>\n",
       "      <td>8</td>\n",
       "      <td>56.0</td>\n",
       "      <td>1</td>\n",
       "      <td>4</td>\n",
       "      <td>480.0</td>\n",
       "      <td>-2.0</td>\n",
       "      <td>17</td>\n",
       "    </tr>\n",
       "    <tr>\n",
       "      <th>4</th>\n",
       "      <td>202408060411</td>\n",
       "      <td>2020103322</td>\n",
       "      <td>5203</td>\n",
       "      <td>1064</td>\n",
       "      <td>5</td>\n",
       "      <td>3</td>\n",
       "      <td>30.1</td>\n",
       "      <td>9</td>\n",
       "      <td>56.0</td>\n",
       "      <td>1</td>\n",
       "      <td>4</td>\n",
       "      <td>482.0</td>\n",
       "      <td>0.0</td>\n",
       "      <td>17</td>\n",
       "    </tr>\n",
       "    <tr>\n",
       "      <th>5</th>\n",
       "      <td>202408060411</td>\n",
       "      <td>2020101024</td>\n",
       "      <td>1180</td>\n",
       "      <td>1098</td>\n",
       "      <td>6</td>\n",
       "      <td>3</td>\n",
       "      <td>126.8</td>\n",
       "      <td>15</td>\n",
       "      <td>56.0</td>\n",
       "      <td>1</td>\n",
       "      <td>4</td>\n",
       "      <td>488.0</td>\n",
       "      <td>6.0</td>\n",
       "      <td>17</td>\n",
       "    </tr>\n",
       "    <tr>\n",
       "      <th>6</th>\n",
       "      <td>202408060411</td>\n",
       "      <td>2021105898</td>\n",
       "      <td>5339</td>\n",
       "      <td>1126</td>\n",
       "      <td>7</td>\n",
       "      <td>4</td>\n",
       "      <td>1.9</td>\n",
       "      <td>1</td>\n",
       "      <td>54.0</td>\n",
       "      <td>1</td>\n",
       "      <td>3</td>\n",
       "      <td>472.0</td>\n",
       "      <td>4.0</td>\n",
       "      <td>17</td>\n",
       "    </tr>\n",
       "    <tr>\n",
       "      <th>7</th>\n",
       "      <td>202408060411</td>\n",
       "      <td>2020101608</td>\n",
       "      <td>1153</td>\n",
       "      <td>1152</td>\n",
       "      <td>8</td>\n",
       "      <td>4</td>\n",
       "      <td>12.9</td>\n",
       "      <td>6</td>\n",
       "      <td>56.0</td>\n",
       "      <td>1</td>\n",
       "      <td>4</td>\n",
       "      <td>462.0</td>\n",
       "      <td>4.0</td>\n",
       "      <td>17</td>\n",
       "    </tr>\n",
       "    <tr>\n",
       "      <th>8</th>\n",
       "      <td>202408060411</td>\n",
       "      <td>2020102873</td>\n",
       "      <td>1157</td>\n",
       "      <td>1120</td>\n",
       "      <td>9</td>\n",
       "      <td>5</td>\n",
       "      <td>39.3</td>\n",
       "      <td>11</td>\n",
       "      <td>56.0</td>\n",
       "      <td>1</td>\n",
       "      <td>4</td>\n",
       "      <td>506.0</td>\n",
       "      <td>-2.0</td>\n",
       "      <td>17</td>\n",
       "    </tr>\n",
       "    <tr>\n",
       "      <th>9</th>\n",
       "      <td>202408060411</td>\n",
       "      <td>2019105448</td>\n",
       "      <td>1093</td>\n",
       "      <td>399</td>\n",
       "      <td>10</td>\n",
       "      <td>5</td>\n",
       "      <td>207.5</td>\n",
       "      <td>17</td>\n",
       "      <td>56.0</td>\n",
       "      <td>1</td>\n",
       "      <td>5</td>\n",
       "      <td>464.0</td>\n",
       "      <td>-8.0</td>\n",
       "      <td>17</td>\n",
       "    </tr>\n",
       "    <tr>\n",
       "      <th>10</th>\n",
       "      <td>202408060411</td>\n",
       "      <td>2019105565</td>\n",
       "      <td>5473</td>\n",
       "      <td>1117</td>\n",
       "      <td>11</td>\n",
       "      <td>6</td>\n",
       "      <td>9.5</td>\n",
       "      <td>3</td>\n",
       "      <td>56.0</td>\n",
       "      <td>1</td>\n",
       "      <td>5</td>\n",
       "      <td>498.0</td>\n",
       "      <td>6.0</td>\n",
       "      <td>17</td>\n",
       "    </tr>\n",
       "    <tr>\n",
       "      <th>11</th>\n",
       "      <td>202408060411</td>\n",
       "      <td>2019105377</td>\n",
       "      <td>5626</td>\n",
       "      <td>1150</td>\n",
       "      <td>12</td>\n",
       "      <td>6</td>\n",
       "      <td>10.4</td>\n",
       "      <td>4</td>\n",
       "      <td>56.0</td>\n",
       "      <td>1</td>\n",
       "      <td>5</td>\n",
       "      <td>476.0</td>\n",
       "      <td>-4.0</td>\n",
       "      <td>17</td>\n",
       "    </tr>\n",
       "    <tr>\n",
       "      <th>12</th>\n",
       "      <td>202408060411</td>\n",
       "      <td>2019105207</td>\n",
       "      <td>5366</td>\n",
       "      <td>399</td>\n",
       "      <td>13</td>\n",
       "      <td>7</td>\n",
       "      <td>12.9</td>\n",
       "      <td>5</td>\n",
       "      <td>56.0</td>\n",
       "      <td>1</td>\n",
       "      <td>5</td>\n",
       "      <td>418.0</td>\n",
       "      <td>-6.0</td>\n",
       "      <td>17</td>\n",
       "    </tr>\n",
       "    <tr>\n",
       "      <th>13</th>\n",
       "      <td>202408060411</td>\n",
       "      <td>2020103458</td>\n",
       "      <td>666</td>\n",
       "      <td>1061</td>\n",
       "      <td>14</td>\n",
       "      <td>7</td>\n",
       "      <td>19.1</td>\n",
       "      <td>7</td>\n",
       "      <td>56.0</td>\n",
       "      <td>1</td>\n",
       "      <td>4</td>\n",
       "      <td>486.0</td>\n",
       "      <td>-2.0</td>\n",
       "      <td>17</td>\n",
       "    </tr>\n",
       "    <tr>\n",
       "      <th>14</th>\n",
       "      <td>202408060411</td>\n",
       "      <td>2019100824</td>\n",
       "      <td>1208</td>\n",
       "      <td>1058</td>\n",
       "      <td>15</td>\n",
       "      <td>8</td>\n",
       "      <td>195.4</td>\n",
       "      <td>16</td>\n",
       "      <td>56.0</td>\n",
       "      <td>1</td>\n",
       "      <td>5</td>\n",
       "      <td>498.0</td>\n",
       "      <td>2.0</td>\n",
       "      <td>17</td>\n",
       "    </tr>\n",
       "    <tr>\n",
       "      <th>15</th>\n",
       "      <td>202408060411</td>\n",
       "      <td>2020103390</td>\n",
       "      <td>1088</td>\n",
       "      <td>1075</td>\n",
       "      <td>16</td>\n",
       "      <td>8</td>\n",
       "      <td>41.2</td>\n",
       "      <td>12</td>\n",
       "      <td>56.0</td>\n",
       "      <td>1</td>\n",
       "      <td>4</td>\n",
       "      <td>468.0</td>\n",
       "      <td>-6.0</td>\n",
       "      <td>17</td>\n",
       "    </tr>\n",
       "    <tr>\n",
       "      <th>16</th>\n",
       "      <td>202408060411</td>\n",
       "      <td>2019104968</td>\n",
       "      <td>1126</td>\n",
       "      <td>1178</td>\n",
       "      <td>17</td>\n",
       "      <td>8</td>\n",
       "      <td>54.4</td>\n",
       "      <td>14</td>\n",
       "      <td>56.0</td>\n",
       "      <td>1</td>\n",
       "      <td>5</td>\n",
       "      <td>482.0</td>\n",
       "      <td>4.0</td>\n",
       "      <td>17</td>\n",
       "    </tr>\n",
       "  </tbody>\n",
       "</table>\n",
       "</div>"
      ],
      "text/plain": [
       "         race_id    horse_id  jockey_id  trainer_id  umaban  wakuban  \\\n",
       "0   202408060411  2020110060       1163        1055       1        1   \n",
       "1   202408060411  2019103588       1150        1020       2        1   \n",
       "2   202408060411  2019103973       1032         420       3        2   \n",
       "3   202408060411  2020105626       1174        1110       4        2   \n",
       "4   202408060411  2020103322       5203        1064       5        3   \n",
       "5   202408060411  2020101024       1180        1098       6        3   \n",
       "6   202408060411  2021105898       5339        1126       7        4   \n",
       "7   202408060411  2020101608       1153        1152       8        4   \n",
       "8   202408060411  2020102873       1157        1120       9        5   \n",
       "9   202408060411  2019105448       1093         399      10        5   \n",
       "10  202408060411  2019105565       5473        1117      11        6   \n",
       "11  202408060411  2019105377       5626        1150      12        6   \n",
       "12  202408060411  2019105207       5366         399      13        7   \n",
       "13  202408060411  2020103458        666        1061      14        7   \n",
       "14  202408060411  2019100824       1208        1058      15        8   \n",
       "15  202408060411  2020103390       1088        1075      16        8   \n",
       "16  202408060411  2019104968       1126        1178      17        8   \n",
       "\n",
       "    tansho_odds  popularity  impost  sex  age  weight  weight_diff  n_horses  \n",
       "0           8.7           2    56.0    1    4   536.0          0.0        17  \n",
       "1          35.7          10    56.0    1    5   448.0        -10.0        17  \n",
       "2          53.0          13    56.0    1    5   444.0         -4.0        17  \n",
       "3          25.8           8    56.0    1    4   480.0         -2.0        17  \n",
       "4          30.1           9    56.0    1    4   482.0          0.0        17  \n",
       "5         126.8          15    56.0    1    4   488.0          6.0        17  \n",
       "6           1.9           1    54.0    1    3   472.0          4.0        17  \n",
       "7          12.9           6    56.0    1    4   462.0          4.0        17  \n",
       "8          39.3          11    56.0    1    4   506.0         -2.0        17  \n",
       "9         207.5          17    56.0    1    5   464.0         -8.0        17  \n",
       "10          9.5           3    56.0    1    5   498.0          6.0        17  \n",
       "11         10.4           4    56.0    1    5   476.0         -4.0        17  \n",
       "12         12.9           5    56.0    1    5   418.0         -6.0        17  \n",
       "13         19.1           7    56.0    1    4   486.0         -2.0        17  \n",
       "14        195.4          16    56.0    1    5   498.0          2.0        17  \n",
       "15         41.2          12    56.0    1    4   468.0         -6.0        17  \n",
       "16         54.4          14    56.0    1    5   482.0          4.0        17  "
      ]
     },
     "execution_count": 8,
     "metadata": {},
     "output_type": "execute_result"
    }
   ],
   "source": [
    "pfc.results"
   ]
  },
  {
   "cell_type": "code",
   "execution_count": 9,
   "id": "34afcc6a-a464-453f-a49e-b8f88074873b",
   "metadata": {},
   "outputs": [
    {
     "data": {
      "text/html": [
       "<div>\n",
       "<style scoped>\n",
       "    .dataframe tbody tr th:only-of-type {\n",
       "        vertical-align: middle;\n",
       "    }\n",
       "\n",
       "    .dataframe tbody tr th {\n",
       "        vertical-align: top;\n",
       "    }\n",
       "\n",
       "    .dataframe thead th {\n",
       "        text-align: right;\n",
       "    }\n",
       "</style>\n",
       "<table border=\"1\" class=\"dataframe\">\n",
       "  <thead>\n",
       "    <tr style=\"text-align: right;\">\n",
       "      <th></th>\n",
       "      <th>race_id</th>\n",
       "      <th>race_type</th>\n",
       "      <th>around</th>\n",
       "      <th>course_len</th>\n",
       "      <th>weather</th>\n",
       "      <th>ground_state</th>\n",
       "      <th>race_class</th>\n",
       "      <th>place</th>\n",
       "      <th>race_day_count</th>\n",
       "      <th>race_date_day_count</th>\n",
       "      <th>...</th>\n",
       "      <th>place_season_condition_type</th>\n",
       "      <th>place_season_condition_type_categori</th>\n",
       "      <th>place_course_category</th>\n",
       "      <th>place_course_tough</th>\n",
       "      <th>goal_range</th>\n",
       "      <th>curve</th>\n",
       "      <th>goal_slope</th>\n",
       "      <th>goal_range_100</th>\n",
       "      <th>place_season_type_course_len</th>\n",
       "      <th>lap_type</th>\n",
       "    </tr>\n",
       "  </thead>\n",
       "  <tbody>\n",
       "    <tr>\n",
       "      <th>0</th>\n",
       "      <td>202408060411</td>\n",
       "      <td>1</td>\n",
       "      <td>0</td>\n",
       "      <td>2200</td>\n",
       "      <td>2</td>\n",
       "      <td>0</td>\n",
       "      <td>5</td>\n",
       "      <td>8</td>\n",
       "      <td>11</td>\n",
       "      <td>73870911</td>\n",
       "      <td>...</td>\n",
       "      <td>8321</td>\n",
       "      <td>3</td>\n",
       "      <td>802</td>\n",
       "      <td>3</td>\n",
       "      <td>403</td>\n",
       "      <td>5</td>\n",
       "      <td>1</td>\n",
       "      <td>4.037</td>\n",
       "      <td>8312200</td>\n",
       "      <td>2</td>\n",
       "    </tr>\n",
       "  </tbody>\n",
       "</table>\n",
       "<p>1 rows × 31 columns</p>\n",
       "</div>"
      ],
      "text/plain": [
       "        race_id  race_type  around  course_len  weather  ground_state  \\\n",
       "0  202408060411          1       0        2200        2             0   \n",
       "\n",
       "   race_class  place  race_day_count  race_date_day_count  ...  \\\n",
       "0           5      8              11             73870911  ...   \n",
       "\n",
       "   place_season_condition_type  place_season_condition_type_categori  \\\n",
       "0                         8321                                     3   \n",
       "\n",
       "   place_course_category  place_course_tough  goal_range  curve  goal_slope  \\\n",
       "0                    802                   3         403      5           1   \n",
       "\n",
       "   goal_range_100  place_season_type_course_len  lap_type  \n",
       "0           4.037                       8312200         2  \n",
       "\n",
       "[1 rows x 31 columns]"
      ]
     },
     "execution_count": 9,
     "metadata": {},
     "output_type": "execute_result"
    }
   ],
   "source": [
    "pfc.race_info"
   ]
  },
  {
   "cell_type": "code",
   "execution_count": 111,
   "id": "2717251d-de50-4289-ae58-099e794d80cb",
   "metadata": {},
   "outputs": [],
   "source": [
    "import yaml\n",
    "\n",
    "# YAMLファイルを読み込む\n",
    "with open(\"config_lightgbm_niti_odds_removed.yaml\", \"r\") as f:\n",
    "    config = yaml.safe_load(f)\n",
    "\n",
    "# YAMLファイルに保存されている特徴量リストを取得\n",
    "training_features = config.get(\"features\", [])\n",
    "\n",
    "# トレーニングデータの特徴量リスト\n",
    "train_columns = training_features\n",
    "# トレーニングデータと予測データの列順を一致させる\n",
    "features = features[train_columns]\n"
   ]
  },
  {
   "cell_type": "code",
   "execution_count": 112,
   "id": "b47170d3-f0a5-4b46-a1dc-c68c3672a29d",
   "metadata": {},
   "outputs": [],
   "source": [
    "# トレーニングデータと予測データの列を一致させる\n",
    "features = features[train_columns]\n"
   ]
  },
  {
   "cell_type": "code",
   "execution_count": 33,
   "id": "d3259aa8-e04e-475b-9879-300457c1c43e",
   "metadata": {},
   "outputs": [
    {
     "data": {
      "text/html": [
       "<div>\n",
       "<style scoped>\n",
       "    .dataframe tbody tr th:only-of-type {\n",
       "        vertical-align: middle;\n",
       "    }\n",
       "\n",
       "    .dataframe tbody tr th {\n",
       "        vertical-align: top;\n",
       "    }\n",
       "\n",
       "    .dataframe thead th {\n",
       "        text-align: right;\n",
       "    }\n",
       "</style>\n",
       "<table border=\"1\" class=\"dataframe\">\n",
       "  <thead>\n",
       "    <tr style=\"text-align: right;\">\n",
       "      <th></th>\n",
       "      <th>race_id</th>\n",
       "      <th>umaban</th>\n",
       "      <th>tansho_odds</th>\n",
       "      <th>popularity</th>\n",
       "      <th>mean_fukusho_rate_wakuban</th>\n",
       "      <th>mean_fukusho_rate_umaban</th>\n",
       "      <th>pred</th>\n",
       "    </tr>\n",
       "  </thead>\n",
       "  <tbody>\n",
       "    <tr>\n",
       "      <th>0</th>\n",
       "      <td>202408060411</td>\n",
       "      <td>1</td>\n",
       "      <td>8.7</td>\n",
       "      <td>2</td>\n",
       "      <td>NaN</td>\n",
       "      <td>NaN</td>\n",
       "      <td>0.240350</td>\n",
       "    </tr>\n",
       "    <tr>\n",
       "      <th>15</th>\n",
       "      <td>202408060411</td>\n",
       "      <td>16</td>\n",
       "      <td>41.2</td>\n",
       "      <td>12</td>\n",
       "      <td>NaN</td>\n",
       "      <td>NaN</td>\n",
       "      <td>0.126704</td>\n",
       "    </tr>\n",
       "    <tr>\n",
       "      <th>12</th>\n",
       "      <td>202408060411</td>\n",
       "      <td>13</td>\n",
       "      <td>12.9</td>\n",
       "      <td>5</td>\n",
       "      <td>NaN</td>\n",
       "      <td>NaN</td>\n",
       "      <td>0.100871</td>\n",
       "    </tr>\n",
       "    <tr>\n",
       "      <th>11</th>\n",
       "      <td>202408060411</td>\n",
       "      <td>12</td>\n",
       "      <td>10.4</td>\n",
       "      <td>4</td>\n",
       "      <td>NaN</td>\n",
       "      <td>NaN</td>\n",
       "      <td>0.090324</td>\n",
       "    </tr>\n",
       "    <tr>\n",
       "      <th>6</th>\n",
       "      <td>202408060411</td>\n",
       "      <td>7</td>\n",
       "      <td>1.9</td>\n",
       "      <td>1</td>\n",
       "      <td>NaN</td>\n",
       "      <td>NaN</td>\n",
       "      <td>0.076785</td>\n",
       "    </tr>\n",
       "    <tr>\n",
       "      <th>14</th>\n",
       "      <td>202408060411</td>\n",
       "      <td>15</td>\n",
       "      <td>195.4</td>\n",
       "      <td>16</td>\n",
       "      <td>NaN</td>\n",
       "      <td>NaN</td>\n",
       "      <td>0.073079</td>\n",
       "    </tr>\n",
       "    <tr>\n",
       "      <th>13</th>\n",
       "      <td>202408060411</td>\n",
       "      <td>14</td>\n",
       "      <td>19.1</td>\n",
       "      <td>7</td>\n",
       "      <td>NaN</td>\n",
       "      <td>NaN</td>\n",
       "      <td>0.059858</td>\n",
       "    </tr>\n",
       "    <tr>\n",
       "      <th>7</th>\n",
       "      <td>202408060411</td>\n",
       "      <td>8</td>\n",
       "      <td>12.9</td>\n",
       "      <td>6</td>\n",
       "      <td>NaN</td>\n",
       "      <td>NaN</td>\n",
       "      <td>0.058744</td>\n",
       "    </tr>\n",
       "    <tr>\n",
       "      <th>3</th>\n",
       "      <td>202408060411</td>\n",
       "      <td>4</td>\n",
       "      <td>25.8</td>\n",
       "      <td>8</td>\n",
       "      <td>NaN</td>\n",
       "      <td>NaN</td>\n",
       "      <td>0.054368</td>\n",
       "    </tr>\n",
       "    <tr>\n",
       "      <th>5</th>\n",
       "      <td>202408060411</td>\n",
       "      <td>6</td>\n",
       "      <td>126.8</td>\n",
       "      <td>15</td>\n",
       "      <td>NaN</td>\n",
       "      <td>NaN</td>\n",
       "      <td>0.050776</td>\n",
       "    </tr>\n",
       "    <tr>\n",
       "      <th>4</th>\n",
       "      <td>202408060411</td>\n",
       "      <td>5</td>\n",
       "      <td>30.1</td>\n",
       "      <td>9</td>\n",
       "      <td>NaN</td>\n",
       "      <td>NaN</td>\n",
       "      <td>0.049230</td>\n",
       "    </tr>\n",
       "    <tr>\n",
       "      <th>10</th>\n",
       "      <td>202408060411</td>\n",
       "      <td>11</td>\n",
       "      <td>9.5</td>\n",
       "      <td>3</td>\n",
       "      <td>NaN</td>\n",
       "      <td>NaN</td>\n",
       "      <td>0.045222</td>\n",
       "    </tr>\n",
       "    <tr>\n",
       "      <th>8</th>\n",
       "      <td>202408060411</td>\n",
       "      <td>9</td>\n",
       "      <td>39.3</td>\n",
       "      <td>11</td>\n",
       "      <td>NaN</td>\n",
       "      <td>NaN</td>\n",
       "      <td>0.044769</td>\n",
       "    </tr>\n",
       "    <tr>\n",
       "      <th>1</th>\n",
       "      <td>202408060411</td>\n",
       "      <td>2</td>\n",
       "      <td>35.7</td>\n",
       "      <td>10</td>\n",
       "      <td>NaN</td>\n",
       "      <td>NaN</td>\n",
       "      <td>0.044268</td>\n",
       "    </tr>\n",
       "    <tr>\n",
       "      <th>16</th>\n",
       "      <td>202408060411</td>\n",
       "      <td>17</td>\n",
       "      <td>54.4</td>\n",
       "      <td>14</td>\n",
       "      <td>NaN</td>\n",
       "      <td>NaN</td>\n",
       "      <td>0.040147</td>\n",
       "    </tr>\n",
       "    <tr>\n",
       "      <th>2</th>\n",
       "      <td>202408060411</td>\n",
       "      <td>3</td>\n",
       "      <td>53.0</td>\n",
       "      <td>13</td>\n",
       "      <td>NaN</td>\n",
       "      <td>NaN</td>\n",
       "      <td>0.037454</td>\n",
       "    </tr>\n",
       "    <tr>\n",
       "      <th>9</th>\n",
       "      <td>202408060411</td>\n",
       "      <td>10</td>\n",
       "      <td>207.5</td>\n",
       "      <td>17</td>\n",
       "      <td>NaN</td>\n",
       "      <td>NaN</td>\n",
       "      <td>0.037372</td>\n",
       "    </tr>\n",
       "  </tbody>\n",
       "</table>\n",
       "</div>"
      ],
      "text/plain": [
       "         race_id  umaban  tansho_odds  popularity  mean_fukusho_rate_wakuban  \\\n",
       "0   202408060411       1          8.7           2                        NaN   \n",
       "15  202408060411      16         41.2          12                        NaN   \n",
       "12  202408060411      13         12.9           5                        NaN   \n",
       "11  202408060411      12         10.4           4                        NaN   \n",
       "6   202408060411       7          1.9           1                        NaN   \n",
       "14  202408060411      15        195.4          16                        NaN   \n",
       "13  202408060411      14         19.1           7                        NaN   \n",
       "7   202408060411       8         12.9           6                        NaN   \n",
       "3   202408060411       4         25.8           8                        NaN   \n",
       "5   202408060411       6        126.8          15                        NaN   \n",
       "4   202408060411       5         30.1           9                        NaN   \n",
       "10  202408060411      11          9.5           3                        NaN   \n",
       "8   202408060411       9         39.3          11                        NaN   \n",
       "1   202408060411       2         35.7          10                        NaN   \n",
       "16  202408060411      17         54.4          14                        NaN   \n",
       "2   202408060411       3         53.0          13                        NaN   \n",
       "9   202408060411      10        207.5          17                        NaN   \n",
       "\n",
       "    mean_fukusho_rate_umaban      pred  \n",
       "0                        NaN  0.240350  \n",
       "15                       NaN  0.126704  \n",
       "12                       NaN  0.100871  \n",
       "11                       NaN  0.090324  \n",
       "6                        NaN  0.076785  \n",
       "14                       NaN  0.073079  \n",
       "13                       NaN  0.059858  \n",
       "7                        NaN  0.058744  \n",
       "3                        NaN  0.054368  \n",
       "5                        NaN  0.050776  \n",
       "4                        NaN  0.049230  \n",
       "10                       NaN  0.045222  \n",
       "8                        NaN  0.044769  \n",
       "1                        NaN  0.044268  \n",
       "16                       NaN  0.040147  \n",
       "2                        NaN  0.037454  \n",
       "9                        NaN  0.037372  "
      ]
     },
     "execution_count": 33,
     "metadata": {},
     "output_type": "execute_result"
    }
   ],
   "source": [
    "# オッズ除外モデルでの予測\n",
    "prediction.predict(\n",
    "    features,\n",
    "    model_filename=\"model_lightgbm_rank_niti_odds_removed.pkl\",\n",
    "    config_filepath=\"config_lightgbm_niti_odds_removed.yaml\"\n",
    ")"
   ]
  },
  {
   "cell_type": "code",
   "execution_count": 29,
   "id": "a63cb73f-3173-4bfb-a6a8-81baf184e78e",
   "metadata": {},
   "outputs": [
    {
     "name": "stdout",
     "output_type": "stream",
     "text": [
      "トレーニングデータに存在し、予測データに欠けている特徴量: set()\n",
      "予測データに存在し、トレーニングデータにない特徴量: {'popularity', 'tansho_odds'}\n"
     ]
    }
   ],
   "source": [
    "import yaml\n",
    "\n",
    "# YAMLファイルを読み込む\n",
    "with open(\"config_lightgbm_niti_odds_removed.yaml\", \"r\") as f:\n",
    "    config = yaml.safe_load(f)\n",
    "\n",
    "# YAMLファイルに保存されている特徴量リストを取得\n",
    "training_features = config.get(\"features\", [])\n",
    "\n",
    "# トレーニングデータの特徴量リスト\n",
    "train_columns = training_features\n",
    "\n",
    "# 予測用データの特徴量リスト\n",
    "prediction_features = features.columns.tolist()\n",
    "\n",
    "# 差分を確認\n",
    "missing_features = set(train_columns) - set(prediction_features)\n",
    "extra_features = set(prediction_features) - set(train_columns)\n",
    "\n",
    "# 結果を表示\n",
    "print(\"トレーニングデータに存在し、予測データに欠けている特徴量:\", missing_features)\n",
    "print(\"予測データに存在し、トレーニングデータにない特徴量:\", extra_features)\n"
   ]
  },
  {
   "cell_type": "code",
   "execution_count": 12,
   "id": "ef827772-302a-4384-bf06-c63c3a472cfb",
   "metadata": {},
   "outputs": [
    {
     "ename": "NameError",
     "evalue": "name 'listでやる必要がある' is not defined",
     "output_type": "error",
     "traceback": [
      "\u001b[0;31m---------------------------------------------------------------------------\u001b[0m",
      "\u001b[0;31mNameError\u001b[0m                                 Traceback (most recent call last)",
      "Cell \u001b[0;32mIn[12], line 1\u001b[0m\n\u001b[0;32m----> 1\u001b[0m listでやる必要がある\n",
      "\u001b[0;31mNameError\u001b[0m: name 'listでやる必要がある' is not defined"
     ]
    }
   ],
   "source": [
    "listでやる必要がある\n",
    "concatしている場合、同じ列がある\n",
    "colums"
   ]
  },
  {
   "cell_type": "code",
   "execution_count": null,
   "id": "fa654683-8059-4563-a798-14eb2e03a197",
   "metadata": {},
   "outputs": [],
   "source": []
  },
  {
   "cell_type": "code",
   "execution_count": null,
   "id": "ec758c9e-3e41-4244-a7a5-e2b192959c9b",
   "metadata": {},
   "outputs": [],
   "source": []
  },
  {
   "cell_type": "code",
   "execution_count": null,
   "id": "a8ac9c2b-224b-4ece-b6f7-5fc357b7a362",
   "metadata": {},
   "outputs": [],
   "source": []
  }
 ],
 "metadata": {
  "kernelspec": {
   "display_name": "Python 3 (ipykernel)",
   "language": "python",
   "name": "python3"
  },
  "language_info": {
   "codemirror_mode": {
    "name": "ipython",
    "version": 3
   },
   "file_extension": ".py",
   "mimetype": "text/x-python",
   "name": "python",
   "nbconvert_exporter": "python",
   "pygments_lexer": "ipython3",
   "version": "3.11.8"
  }
 },
 "nbformat": 4,
 "nbformat_minor": 5
}
