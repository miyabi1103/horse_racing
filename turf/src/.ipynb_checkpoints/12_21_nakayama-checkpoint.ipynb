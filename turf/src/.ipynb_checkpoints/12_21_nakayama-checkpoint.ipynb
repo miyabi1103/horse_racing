{
 "cells": [
  {
   "cell_type": "code",
   "execution_count": 67,
   "id": "c87a29e0-c7d7-42ef-a369-f166ffa43edb",
   "metadata": {},
   "outputs": [
    {
     "name": "stdout",
     "output_type": "stream",
     "text": [
      "The autoreload extension is already loaded. To reload it, use:\n",
      "  %reload_ext autoreload\n"
     ]
    }
   ],
   "source": [
    "import create_population\n",
    "import create_population3\n",
    "import preprocessing\n",
    "from feature_engineering import FeatureCreator\n",
    "from feature_engineering_prediction import PredictionFeatureCreator\n",
    "\n",
    "import prediction\n",
    "from train_lgbm_rank_niti_cross import Trainer_lightgbm_rank_niti_cv\n",
    "from train_lgbm_rank_kaiki_cross import Trainer_lightgbm_rank_kaiki_cv\n",
    "from train_lgbm_time_cross import Trainer_lightgbm_time_cv\n",
    "\n",
    "from evaluation_lgbm_rank_niti_cross import Evaluator_lightgbm_rank_niti_cross\n",
    "\n",
    "import pandas as pd\n",
    "\n",
    "\n",
    "import condition_prediction\n",
    "\n",
    "\n",
    "from train_lightgbm_rank_niti import Trainer_lightgbm_rank_niti\n",
    "from train_lightgbm_time import Trainer_lightgbm_time\n",
    "from train_lightgbm_rank_kaiki import Trainer_lightgbm_rank_kaiki\n",
    "\n",
    "from evaluation_lightgbm_rank_niti import Evaluator_lightgbm_rank_niti\n",
    "from evaluation_lightgbm_time_kaiki import Evaluator_lightgbm_time_kaiki\n",
    "from evaluation_lightgbm_rank_kaiki import Evaluator_lightgbm_rank_kaiki\n",
    "from evaluation_pop import Evaluator_pop\n",
    "\n",
    "%load_ext autoreload"
   ]
  },
  {
   "cell_type": "code",
   "execution_count": 73,
   "id": "04abaacc-ef13-498c-beae-acc5c35555fa",
   "metadata": {},
   "outputs": [],
   "source": [
    "%autoreload"
   ]
  },
  {
   "cell_type": "code",
   "execution_count": 74,
   "id": "14f6778c-5ec8-4514-a080-dffd3e5077eb",
   "metadata": {},
   "outputs": [],
   "source": [
    "pd.set_option('display.max_columns', None)\n",
    "pd.set_option('display.max_rows', 100)"
   ]
  },
  {
   "cell_type": "code",
   "execution_count": 75,
   "id": "14926bdf-0196-45d9-90ed-1b696f1ca2a3",
   "metadata": {},
   "outputs": [],
   "source": [
    "population = create_population.create(from_=\"2016-01-01\", to_=\"2024-11-30\")"
   ]
  },
  {
   "cell_type": "code",
   "execution_count": null,
   "id": "6e809ca0-8f8c-48c2-86fd-75f39f1bd37d",
   "metadata": {},
   "outputs": [],
   "source": []
  },
  {
   "cell_type": "code",
   "execution_count": 76,
   "id": "8c2b5062-5fa2-49a7-9958-ce08d43dd311",
   "metadata": {},
   "outputs": [
    {
     "data": {
      "application/vnd.jupyter.widget-view+json": {
       "model_id": "f6a3d9e3b38342dba220d35f6f30a029",
       "version_major": 2,
       "version_minor": 0
      },
      "text/plain": [
       "agg_horse_n_races_relative:   0%|          | 0/4 [00:00<?, ?it/s]"
      ]
     },
     "metadata": {},
     "output_type": "display_data"
    }
   ],
   "source": [
    "# 当日出走馬の過去成績テーブルの前処理_そのままで使えない未加工のデータを加工する\n",
    "horse_results_preprocessed = preprocessing.process_horse_results(\n",
    "    input_filename=\"horse_results_prediction.csv\",\n",
    "    output_filename=\"horse_results_prediction.csv\"\n",
    ")\n",
    "horse_results_preprocessed\n",
    "\n",
    "# 当日出走馬の血統テーブルの前処理\n",
    "peds_preprocessed = preprocessing.process_peds(\n",
    "    input_filename=\"peds_prediction.csv\",\n",
    "    output_filename=\"peds_prediction.csv\"\n",
    ")\n",
    "peds_preprocessed\n",
    "\n",
    "pfc = PredictionFeatureCreator()\n",
    "# 過去成績集計は事前に行うことができる\n",
    "pfc.create_baselog()\n",
    "pfc.agg_horse_n_races()\n",
    "pfc.agg_horse_n_races_relative()\n",
    "pfc.agg_horse_n_races_df\n",
    "\n",
    "# レース結果テーブルの前処理\n",
    "results_preprocessed = condition_prediction.process_results()\n",
    "# レース情報テーブルの前処理\n",
    "race_info_preprocessed = condition_prediction.process_race_info()\n",
    "create_race_grade_preprocessed = condition_prediction.create_race_grade()\n"
   ]
  },
  {
   "cell_type": "markdown",
   "id": "c4a85c56-eada-4eef-a65e-8e29891e5f38",
   "metadata": {},
   "source": [
    "###　12/21 第3回目レース"
   ]
  },
  {
   "cell_type": "code",
   "execution_count": null,
   "id": "059825b0-535c-49bd-840d-f1b5ab69254f",
   "metadata": {
    "scrolled": true
   },
   "outputs": [
    {
     "name": "stdout",
     "output_type": "stream",
     "text": [
      "fetching shutuba page html...\n"
     ]
    }
   ],
   "source": [
    "# 特徴量の更新\n",
    "features = pfc.create_features(\n",
    "    race_id=\"202406050703\",  # 予測するレースidを指定\n",
    "    date_content_a = \"2024年12月21日\", #\"%Y年%m月%d日\"形式で該当レース当日の日付を入れてください    \n",
    "    skip_agg_horse=True  # 事前に集計した場合はスキップできる\n",
    ")"
   ]
  },
  {
   "cell_type": "code",
   "execution_count": null,
   "id": "8e861e83-9c61-471b-ad57-260428916769",
   "metadata": {
    "scrolled": true
   },
   "outputs": [],
   "source": [
    "pfc.results"
   ]
  },
  {
   "cell_type": "code",
   "execution_count": null,
   "id": "f19f7ea7-056d-49c8-9ce8-188ac535be34",
   "metadata": {},
   "outputs": [],
   "source": [
    "pfc.race_info"
   ]
  },
  {
   "cell_type": "code",
   "execution_count": null,
   "id": "bc1aee51-9e3b-4949-81ba-867958a73a87",
   "metadata": {},
   "outputs": [],
   "source": [
    "# オッズ除外モデルでの予測、time、ホールドアウト\n",
    "prediction.predict(\n",
    "    features,\n",
    "    model_filename=\"model_lightgbm_time_odds_removed.pkl\",\n",
    "    config_filepath=\"config_lightgbm_kaiki_odds_removed.yaml\"\n",
    ")"
   ]
  },
  {
   "cell_type": "code",
   "execution_count": null,
   "id": "38e647c1-5a50-4e01-9a8e-ab24a7862696",
   "metadata": {},
   "outputs": [],
   "source": [
    "# オッズ除外モデルでの予測、time、クロスバリデーション\n",
    "prediction.predict(\n",
    "    features,\n",
    "    model_filename=\"model_lightgbm_time_cv_full_odds_removed.pkl\",\n",
    "    config_filepath=\"config_lightgbm_kaiki_odds_removed.yaml\"\n",
    ")"
   ]
  },
  {
   "cell_type": "code",
   "execution_count": null,
   "id": "f1f3d9da-c6ac-4726-adb3-c972794f6ebe",
   "metadata": {},
   "outputs": [],
   "source": []
  },
  {
   "cell_type": "code",
   "execution_count": null,
   "id": "f14c65c5-31e1-4865-9e60-02daa8f5f78d",
   "metadata": {},
   "outputs": [],
   "source": []
  },
  {
   "cell_type": "markdown",
   "id": "5d399698-7154-4353-8d27-6a34f2c53341",
   "metadata": {},
   "source": [
    "###　12/21 第9回目レース"
   ]
  },
  {
   "cell_type": "code",
   "execution_count": null,
   "id": "ba36207d-e43f-4b5b-82c8-fdd2dda6f0bf",
   "metadata": {
    "scrolled": true
   },
   "outputs": [],
   "source": [
    "# 特徴量の更新\n",
    "features = pfc.create_features(\n",
    "    race_id=\"202406050709\",  # 予測するレースidを指定\n",
    "    date_content_a = \"2024年12月21日\", #\"%Y年%m月%d日\"形式で該当レース当日の日付を入れてください    \n",
    "    skip_agg_horse=True  # 事前に集計した場合はスキップできる\n",
    ")"
   ]
  },
  {
   "cell_type": "code",
   "execution_count": null,
   "id": "779ad66f-f36e-4c0f-9201-f0c694f08e29",
   "metadata": {},
   "outputs": [],
   "source": [
    "pfc.results"
   ]
  },
  {
   "cell_type": "code",
   "execution_count": null,
   "id": "cb5a4510-d5f0-4af0-bf9a-38d70fb3f2ae",
   "metadata": {},
   "outputs": [],
   "source": [
    "pfc.race_info"
   ]
  },
  {
   "cell_type": "code",
   "execution_count": null,
   "id": "ef0f266f-3cdf-4728-9592-2b9dee7a2895",
   "metadata": {},
   "outputs": [],
   "source": [
    "# オッズ除外モデルでの予測、time、ホールドアウト\n",
    "prediction.predict(\n",
    "    features,\n",
    "    model_filename=\"model_lightgbm_time_odds_removed.pkl\",\n",
    "    config_filepath=\"config_lightgbm_kaiki_odds_removed.yaml\"\n",
    ")"
   ]
  },
  {
   "cell_type": "code",
   "execution_count": null,
   "id": "f8605b44-2851-4bad-8355-164f46d85d5a",
   "metadata": {},
   "outputs": [],
   "source": [
    "# オッズ除外モデルでの予測、time、クロスバリデーション\n",
    "prediction.predict(\n",
    "    features,\n",
    "    model_filename=\"model_lightgbm_time_cv_full_odds_removed.pkl\",\n",
    "    config_filepath=\"config_lightgbm_kaiki_odds_removed.yaml\"\n",
    ")"
   ]
  },
  {
   "cell_type": "code",
   "execution_count": null,
   "id": "7c9b2c1d-2fa1-4057-8d7a-a4bf2d6887e8",
   "metadata": {},
   "outputs": [],
   "source": []
  },
  {
   "cell_type": "code",
   "execution_count": 26,
   "id": "51e810d0-cf83-404a-ba75-9c8b36cc2e88",
   "metadata": {},
   "outputs": [],
   "source": [
    "\n"
   ]
  },
  {
   "cell_type": "code",
   "execution_count": 48,
   "id": "d3257ca0-e383-43e2-b302-fe1e24bc649c",
   "metadata": {
    "scrolled": true
   },
   "outputs": [],
   "source": [
    "#ここで、直近レースのtimeを知りたい\n",
    "df_old2 = (\n",
    "    results_preprocessed[[\"race_id\", \"horse_id\",\"time\",\"rank_per_horse\"]]\n",
    "    .merge(create_race_grade_preprocessed[[\"race_id\", \"place\",\"weather\",\"ground_state\",\"race_grade\",\"course_len\",\"race_type\",\"race_date_day_count\"]], on=\"race_id\")\n",
    ")\n",
    "from pathlib import Path\n",
    "DATA_DIR = Path(\"..\", \"data\")\n",
    "INPUT_DIR = DATA_DIR / \"01_preprocessed\"\n",
    "input_dir= INPUT_DIR\n",
    "\n",
    "df_old2[\"place\"] = df_old2[\"place\"].astype(int)\n",
    "df_old2[\"race_grade\"] = df_old2[\"race_grade\"].astype(int)\n",
    "# 距離/競馬場/タイプ/レースランク\n",
    "df_old2[\"distance_place_type_race_grade\"] = (df_old2[\"course_len\"].astype(str) + df_old2[\"place\"].astype(str) + df_old2[\"race_type\"].astype(str) + df_old2[\"race_grade\"].astype(str)).astype(int)\n",
    "\n",
    "old_results_filename = \"results.csv\"\n",
    "old_race_info_filename = \"race_info.csv\"\n",
    "old_results = pd.read_csv(input_dir / old_results_filename, sep=\"\\t\")\n",
    "old_race_info = pd.read_csv(input_dir / old_race_info_filename, sep=\"\\t\")\n",
    "df_old = (\n",
    "    old_race_info[[\"race_id\", \"course_len\", \"race_type\",\"race_grade\",\"ground_state\", \"weather\",\"place\",\"around\"]]\n",
    "    .merge(old_results[[\"race_id\", \"horse_id\", \"wakuban\", \"umaban\",\"nobori\",\"time\",\"sex\"]], on=\"race_id\")\n",
    ")\n",
    "\n",
    "df_old[\"place\"] = df_old[\"place\"].astype(int)\n",
    "df_old[\"race_grade\"] = df_old[\"race_grade\"].astype(int)\n",
    "df_old[\"ground_state\"] = df_old[\"ground_state\"].astype(int)\n",
    "df_old[\"around\"] = df_old[\"around\"].fillna(3).astype(int)\n",
    "df_old[\"weather\"] = df_old[\"weather\"].astype(int)  \n",
    "      \n",
    "df_old[\"distance_place_type_race_grade\"] = (df_old[\"course_len\"].astype(str) + df_old[\"place\"].astype(str) + df_old[\"race_type\"].astype(str) + df_old[\"race_grade\"].astype(str)).astype(int)\n",
    "target_mean_1 = df_old.groupby(\"distance_place_type_race_grade\")[\"time\"].mean()\n",
    "# 平均値をカテゴリ変数にマッピング\n",
    "df_old[\"distance_place_type_race_grade_encoded\"] = df_old[\"distance_place_type_race_grade\"].map(target_mean_1)\n",
    "\n",
    "df_old = df_old[[\"distance_place_type_race_grade\",'distance_place_type_race_grade_encoded']]\n",
    "\n",
    "columns_to_merge = [\n",
    "    (\"distance_place_type_race_grade\",'distance_place_type_race_grade_encoded'),\n",
    "]\n",
    "# 各ペアを順番に処理\n",
    "for original_col, encoded_col in columns_to_merge:\n",
    "    df2_subset = df_old[[original_col, encoded_col]].drop_duplicates()  # 重複を削除\n",
    "    df2_subset = df2_subset.reset_index(drop=True)  # インデックスをリセット\n",
    "    df_old2 = df_old2.merge(df2_subset, on=original_col, how='left')  # dfにマージ\n",
    "df_old2[\"distance_place_type_race_grade_encoded_time_diff\"] = df_old2['distance_place_type_race_grade_encoded'] - df_old2[\"time\"]\n"
   ]
  },
  {
   "cell_type": "code",
   "execution_count": 59,
   "id": "fab6f17f-9fe3-43a4-a07c-0db472231e8f",
   "metadata": {
    "scrolled": true
   },
   "outputs": [],
   "source": [
    "df_old2= df_old2[df_old2[\"race_type\"] != 2]\n",
    "df_old2_1 = df_old2[df_old2[\"race_type\"] != 0]"
   ]
  },
  {
   "cell_type": "code",
   "execution_count": 54,
   "id": "6f783b3c-e596-4005-b998-a33e60c09730",
   "metadata": {},
   "outputs": [],
   "source": [
    "\n",
    "COMMON_DATA_DIR = Path(\"..\", \"..\", \"common\", \"data\")\n",
    "POPULATION_DIR = COMMON_DATA_DIR / \"prediction_population\"\n",
    "population_dir = POPULATION_DIR\n",
    "population_filename = \"population.csv\"\n",
    "population = pd.read_csv(population_dir / population_filename, sep=\"\\t\")"
   ]
  },
  {
   "cell_type": "code",
   "execution_count": 56,
   "id": "801525c0-8b83-4b82-9f09-4bccfdfa10f3",
   "metadata": {},
   "outputs": [],
   "source": [
    "merged_df = population.copy()        \n",
    "df = (\n",
    "    merged_df\n",
    "    .merge(pfc.race_info[[\"race_id\", \"place\",\"weather\",\"ground_state\",\"course_len\",\"race_type\",\"race_date_day_count\"]], on=\"race_id\")\n",
    ")\n",
    "df[\"place\"] = df[\"place\"].astype(int)\n"
   ]
  },
  {
   "cell_type": "code",
   "execution_count": 62,
   "id": "21b6c841-7bfc-483e-8a53-0509e77b0fe6",
   "metadata": {},
   "outputs": [],
   "source": [
    "import numpy as np\n",
    "def compute_mean_for_row(row, df_old2_1):\n",
    "    # race_type == 0 の場合は NaN を返す\n",
    "    if row[\"race_type\"] == 0:\n",
    "        return np.nan\n",
    "    df_old2_1[\"race_date_day_count\"] = df_old2_1[\"race_date_day_count\"].astype(int)\n",
    "    target_day_count = int(row[\"race_date_day_count\"])  # df の各行の race_date_day_count\n",
    "\n",
    "    # target_day_count = row[\"race_date_day_count\"]  # df の各行の race_date_day_count\n",
    "\n",
    "        \n",
    "    # 3. df_old2_1 から条件に一致する行をフィルタリング\n",
    "    filtered_df_old2_1 = df_old2_1[\n",
    "        (df_old2_1[\"race_date_day_count\"] >= (target_day_count - 1200)) &  # race_date_day_count が target_day_count-1200 以上\n",
    "        (df_old2_1[\"race_date_day_count\"] <= (target_day_count - 1)) &  # race_date_day_count が target_day_count-1 以下\n",
    "        (df_old2_1[\"place\"] == row[\"place\"]) &  # place が一致\n",
    "        (df_old2_1[\"weather\"].isin([0, 1, 2])) &  # weather が 0, 1, 2 のいずれか\n",
    "        (df_old2_1[\"ground_state\"] == 0)   # ground_state が 0\n",
    "        # &\n",
    "        # (df_old2_1[\"rank_per_horse\"] < 0.87)  # rank_per_horse が 0.87 未満\n",
    "    ]\n",
    "\n",
    "    # 4. フィルタリングした行の \"distance_place_type_race_grade_encoded_time_diff\" の平均を計算\n",
    "    mean_time_diff = filtered_df_old2_1[\"distance_place_type_race_grade_encoded_time_diff\"].mean()\n",
    "\n",
    "    # 5. 計算結果を返す（NaNの場合も考慮）\n",
    "    return mean_time_diff if not np.isnan(mean_time_diff) else np.nan\n"
   ]
  },
  {
   "cell_type": "code",
   "execution_count": 63,
   "id": "1f6ec40c-d121-4bc3-a2cd-5316643bc22a",
   "metadata": {},
   "outputs": [],
   "source": [
    "\n",
    "# 6. df の各行に対して、計算した平均値を新しい列に追加\n",
    "df[\"mean_ground_state_time_diff\"] = df.apply(compute_mean_for_row, axis=1, df_old2_1=df_old2_1)\n"
   ]
  },
  {
   "cell_type": "code",
   "execution_count": 64,
   "id": "b58103d6-6c24-4b3f-8071-bfc5bdec1914",
   "metadata": {
    "collapsed": true,
    "jupyter": {
     "outputs_hidden": true
    },
    "scrolled": true
   },
   "outputs": [
    {
     "data": {
      "text/html": [
       "<div>\n",
       "<style scoped>\n",
       "    .dataframe tbody tr th:only-of-type {\n",
       "        vertical-align: middle;\n",
       "    }\n",
       "\n",
       "    .dataframe tbody tr th {\n",
       "        vertical-align: top;\n",
       "    }\n",
       "\n",
       "    .dataframe thead th {\n",
       "        text-align: right;\n",
       "    }\n",
       "</style>\n",
       "<table border=\"1\" class=\"dataframe\">\n",
       "  <thead>\n",
       "    <tr style=\"text-align: right;\">\n",
       "      <th></th>\n",
       "      <th>date</th>\n",
       "      <th>race_id</th>\n",
       "      <th>horse_id</th>\n",
       "      <th>place</th>\n",
       "      <th>weather</th>\n",
       "      <th>ground_state</th>\n",
       "      <th>course_len</th>\n",
       "      <th>race_type</th>\n",
       "      <th>race_date_day_count</th>\n",
       "      <th>mean_ground_state_time_diff</th>\n",
       "    </tr>\n",
       "  </thead>\n",
       "  <tbody>\n",
       "    <tr>\n",
       "      <th>0</th>\n",
       "      <td>2024-12-21</td>\n",
       "      <td>202406050709</td>\n",
       "      <td>2019100907</td>\n",
       "      <td>6</td>\n",
       "      <td>2</td>\n",
       "      <td>0</td>\n",
       "      <td>2200</td>\n",
       "      <td>1</td>\n",
       "      <td>73875009</td>\n",
       "      <td>1.678444</td>\n",
       "    </tr>\n",
       "    <tr>\n",
       "      <th>1</th>\n",
       "      <td>2024-12-21</td>\n",
       "      <td>202406050709</td>\n",
       "      <td>2020102785</td>\n",
       "      <td>6</td>\n",
       "      <td>2</td>\n",
       "      <td>0</td>\n",
       "      <td>2200</td>\n",
       "      <td>1</td>\n",
       "      <td>73875009</td>\n",
       "      <td>1.678444</td>\n",
       "    </tr>\n",
       "    <tr>\n",
       "      <th>2</th>\n",
       "      <td>2024-12-21</td>\n",
       "      <td>202406050709</td>\n",
       "      <td>2021106821</td>\n",
       "      <td>6</td>\n",
       "      <td>2</td>\n",
       "      <td>0</td>\n",
       "      <td>2200</td>\n",
       "      <td>1</td>\n",
       "      <td>73875009</td>\n",
       "      <td>1.678444</td>\n",
       "    </tr>\n",
       "    <tr>\n",
       "      <th>3</th>\n",
       "      <td>2024-12-21</td>\n",
       "      <td>202406050709</td>\n",
       "      <td>2020105796</td>\n",
       "      <td>6</td>\n",
       "      <td>2</td>\n",
       "      <td>0</td>\n",
       "      <td>2200</td>\n",
       "      <td>1</td>\n",
       "      <td>73875009</td>\n",
       "      <td>1.678444</td>\n",
       "    </tr>\n",
       "    <tr>\n",
       "      <th>4</th>\n",
       "      <td>2024-12-21</td>\n",
       "      <td>202406050709</td>\n",
       "      <td>2020106694</td>\n",
       "      <td>6</td>\n",
       "      <td>2</td>\n",
       "      <td>0</td>\n",
       "      <td>2200</td>\n",
       "      <td>1</td>\n",
       "      <td>73875009</td>\n",
       "      <td>1.678444</td>\n",
       "    </tr>\n",
       "    <tr>\n",
       "      <th>5</th>\n",
       "      <td>2024-12-21</td>\n",
       "      <td>202406050709</td>\n",
       "      <td>2021105083</td>\n",
       "      <td>6</td>\n",
       "      <td>2</td>\n",
       "      <td>0</td>\n",
       "      <td>2200</td>\n",
       "      <td>1</td>\n",
       "      <td>73875009</td>\n",
       "      <td>1.678444</td>\n",
       "    </tr>\n",
       "    <tr>\n",
       "      <th>6</th>\n",
       "      <td>2024-12-21</td>\n",
       "      <td>202406050709</td>\n",
       "      <td>2021105738</td>\n",
       "      <td>6</td>\n",
       "      <td>2</td>\n",
       "      <td>0</td>\n",
       "      <td>2200</td>\n",
       "      <td>1</td>\n",
       "      <td>73875009</td>\n",
       "      <td>1.678444</td>\n",
       "    </tr>\n",
       "    <tr>\n",
       "      <th>7</th>\n",
       "      <td>2024-12-21</td>\n",
       "      <td>202406050709</td>\n",
       "      <td>2021105066</td>\n",
       "      <td>6</td>\n",
       "      <td>2</td>\n",
       "      <td>0</td>\n",
       "      <td>2200</td>\n",
       "      <td>1</td>\n",
       "      <td>73875009</td>\n",
       "      <td>1.678444</td>\n",
       "    </tr>\n",
       "    <tr>\n",
       "      <th>8</th>\n",
       "      <td>2024-12-21</td>\n",
       "      <td>202406050709</td>\n",
       "      <td>2021100136</td>\n",
       "      <td>6</td>\n",
       "      <td>2</td>\n",
       "      <td>0</td>\n",
       "      <td>2200</td>\n",
       "      <td>1</td>\n",
       "      <td>73875009</td>\n",
       "      <td>1.678444</td>\n",
       "    </tr>\n",
       "    <tr>\n",
       "      <th>9</th>\n",
       "      <td>2024-12-21</td>\n",
       "      <td>202406050709</td>\n",
       "      <td>2021105536</td>\n",
       "      <td>6</td>\n",
       "      <td>2</td>\n",
       "      <td>0</td>\n",
       "      <td>2200</td>\n",
       "      <td>1</td>\n",
       "      <td>73875009</td>\n",
       "      <td>1.678444</td>\n",
       "    </tr>\n",
       "    <tr>\n",
       "      <th>10</th>\n",
       "      <td>2024-12-21</td>\n",
       "      <td>202406050709</td>\n",
       "      <td>2021102800</td>\n",
       "      <td>6</td>\n",
       "      <td>2</td>\n",
       "      <td>0</td>\n",
       "      <td>2200</td>\n",
       "      <td>1</td>\n",
       "      <td>73875009</td>\n",
       "      <td>1.678444</td>\n",
       "    </tr>\n",
       "    <tr>\n",
       "      <th>11</th>\n",
       "      <td>2024-12-21</td>\n",
       "      <td>202406050709</td>\n",
       "      <td>2019105643</td>\n",
       "      <td>6</td>\n",
       "      <td>2</td>\n",
       "      <td>0</td>\n",
       "      <td>2200</td>\n",
       "      <td>1</td>\n",
       "      <td>73875009</td>\n",
       "      <td>1.678444</td>\n",
       "    </tr>\n",
       "    <tr>\n",
       "      <th>12</th>\n",
       "      <td>2024-12-21</td>\n",
       "      <td>202406050709</td>\n",
       "      <td>2021106972</td>\n",
       "      <td>6</td>\n",
       "      <td>2</td>\n",
       "      <td>0</td>\n",
       "      <td>2200</td>\n",
       "      <td>1</td>\n",
       "      <td>73875009</td>\n",
       "      <td>1.678444</td>\n",
       "    </tr>\n",
       "    <tr>\n",
       "      <th>13</th>\n",
       "      <td>2024-12-21</td>\n",
       "      <td>202406050709</td>\n",
       "      <td>2020103503</td>\n",
       "      <td>6</td>\n",
       "      <td>2</td>\n",
       "      <td>0</td>\n",
       "      <td>2200</td>\n",
       "      <td>1</td>\n",
       "      <td>73875009</td>\n",
       "      <td>1.678444</td>\n",
       "    </tr>\n",
       "    <tr>\n",
       "      <th>14</th>\n",
       "      <td>2024-12-21</td>\n",
       "      <td>202406050709</td>\n",
       "      <td>2020105914</td>\n",
       "      <td>6</td>\n",
       "      <td>2</td>\n",
       "      <td>0</td>\n",
       "      <td>2200</td>\n",
       "      <td>1</td>\n",
       "      <td>73875009</td>\n",
       "      <td>1.678444</td>\n",
       "    </tr>\n",
       "    <tr>\n",
       "      <th>15</th>\n",
       "      <td>2024-12-21</td>\n",
       "      <td>202406050709</td>\n",
       "      <td>2019100774</td>\n",
       "      <td>6</td>\n",
       "      <td>2</td>\n",
       "      <td>0</td>\n",
       "      <td>2200</td>\n",
       "      <td>1</td>\n",
       "      <td>73875009</td>\n",
       "      <td>1.678444</td>\n",
       "    </tr>\n",
       "    <tr>\n",
       "      <th>16</th>\n",
       "      <td>2024-12-21</td>\n",
       "      <td>202406050709</td>\n",
       "      <td>2020110012</td>\n",
       "      <td>6</td>\n",
       "      <td>2</td>\n",
       "      <td>0</td>\n",
       "      <td>2200</td>\n",
       "      <td>1</td>\n",
       "      <td>73875009</td>\n",
       "      <td>1.678444</td>\n",
       "    </tr>\n",
       "    <tr>\n",
       "      <th>17</th>\n",
       "      <td>2024-12-21</td>\n",
       "      <td>202406050709</td>\n",
       "      <td>2021100189</td>\n",
       "      <td>6</td>\n",
       "      <td>2</td>\n",
       "      <td>0</td>\n",
       "      <td>2200</td>\n",
       "      <td>1</td>\n",
       "      <td>73875009</td>\n",
       "      <td>1.678444</td>\n",
       "    </tr>\n",
       "  </tbody>\n",
       "</table>\n",
       "</div>"
      ],
      "text/plain": [
       "          date       race_id    horse_id  place  weather  ground_state  \\\n",
       "0   2024-12-21  202406050709  2019100907      6        2             0   \n",
       "1   2024-12-21  202406050709  2020102785      6        2             0   \n",
       "2   2024-12-21  202406050709  2021106821      6        2             0   \n",
       "3   2024-12-21  202406050709  2020105796      6        2             0   \n",
       "4   2024-12-21  202406050709  2020106694      6        2             0   \n",
       "5   2024-12-21  202406050709  2021105083      6        2             0   \n",
       "6   2024-12-21  202406050709  2021105738      6        2             0   \n",
       "7   2024-12-21  202406050709  2021105066      6        2             0   \n",
       "8   2024-12-21  202406050709  2021100136      6        2             0   \n",
       "9   2024-12-21  202406050709  2021105536      6        2             0   \n",
       "10  2024-12-21  202406050709  2021102800      6        2             0   \n",
       "11  2024-12-21  202406050709  2019105643      6        2             0   \n",
       "12  2024-12-21  202406050709  2021106972      6        2             0   \n",
       "13  2024-12-21  202406050709  2020103503      6        2             0   \n",
       "14  2024-12-21  202406050709  2020105914      6        2             0   \n",
       "15  2024-12-21  202406050709  2019100774      6        2             0   \n",
       "16  2024-12-21  202406050709  2020110012      6        2             0   \n",
       "17  2024-12-21  202406050709  2021100189      6        2             0   \n",
       "\n",
       "    course_len  race_type  race_date_day_count  mean_ground_state_time_diff  \n",
       "0         2200          1             73875009                     1.678444  \n",
       "1         2200          1             73875009                     1.678444  \n",
       "2         2200          1             73875009                     1.678444  \n",
       "3         2200          1             73875009                     1.678444  \n",
       "4         2200          1             73875009                     1.678444  \n",
       "5         2200          1             73875009                     1.678444  \n",
       "6         2200          1             73875009                     1.678444  \n",
       "7         2200          1             73875009                     1.678444  \n",
       "8         2200          1             73875009                     1.678444  \n",
       "9         2200          1             73875009                     1.678444  \n",
       "10        2200          1             73875009                     1.678444  \n",
       "11        2200          1             73875009                     1.678444  \n",
       "12        2200          1             73875009                     1.678444  \n",
       "13        2200          1             73875009                     1.678444  \n",
       "14        2200          1             73875009                     1.678444  \n",
       "15        2200          1             73875009                     1.678444  \n",
       "16        2200          1             73875009                     1.678444  \n",
       "17        2200          1             73875009                     1.678444  "
      ]
     },
     "execution_count": 64,
     "metadata": {},
     "output_type": "execute_result"
    }
   ],
   "source": [
    "df\n"
   ]
  },
  {
   "cell_type": "code",
   "execution_count": 65,
   "id": "2c354939-ed33-434b-b150-e4163e27e46d",
   "metadata": {
    "jupyter": {
     "source_hidden": true
    }
   },
   "outputs": [],
   "source": [
    "\n",
    "def assign_value(row):\n",
    "    # weather が 3, 4, 5 または ground_state が 0 以外の場合は 5 を設定\n",
    "    if row[\"weather\"] in [3, 4, 5] or row[\"ground_state\"] in [1, 2, 3]:\n",
    "        return 7\n",
    "    # mean_ground_state_time_diff に基づいて分類\n",
    "    if 2.0 <= row[\"mean_ground_state_time_diff\"]:\n",
    "        return 1  #　超高速馬場1\n",
    "    elif 1 <= row[\"mean_ground_state_time_diff\"] < 2.0:\n",
    "        return 2  # 高速馬場2\n",
    "    \n",
    "    elif 0.4 <= row[\"mean_ground_state_time_diff\"] < 1:\n",
    "        return 3  # 軽い馬場3\n",
    "        \n",
    "    elif -0.4 <= row[\"mean_ground_state_time_diff\"] < 0.4:\n",
    "        return 4  # 標準的な馬場4\n",
    "\n",
    "    \n",
    "    elif -1 <= row[\"mean_ground_state_time_diff\"] < -0.4:\n",
    "        return 5  # やや重い馬場5\n",
    "    \n",
    "    elif -2 <= row[\"mean_ground_state_time_diff\"] < -1:\n",
    "        return 6  # 重い馬場5\n",
    "    \n",
    "    elif row[\"mean_ground_state_time_diff\"] < -2:\n",
    "        return 7  # 道悪7\n",
    "    # 該当しない場合は NaN を設定\n",
    "    return float(\"nan\")\n",
    "\n",
    "# 新しい列を追加\n",
    "df[\"ground_state_level\"] = df.apply(assign_value, axis=1)"
   ]
  },
  {
   "cell_type": "code",
   "execution_count": 66,
   "id": "91d68c3a-ab1e-4369-bfff-25f21bf581ab",
   "metadata": {
    "collapsed": true,
    "jupyter": {
     "outputs_hidden": true
    }
   },
   "outputs": [
    {
     "data": {
      "text/plain": [
       "0     2\n",
       "1     2\n",
       "2     2\n",
       "3     2\n",
       "4     2\n",
       "5     2\n",
       "6     2\n",
       "7     2\n",
       "8     2\n",
       "9     2\n",
       "10    2\n",
       "11    2\n",
       "12    2\n",
       "13    2\n",
       "14    2\n",
       "15    2\n",
       "16    2\n",
       "17    2\n",
       "Name: ground_state_level, dtype: int64"
      ]
     },
     "execution_count": 66,
     "metadata": {},
     "output_type": "execute_result"
    }
   ],
   "source": [
    "df[\"ground_state_level\"]"
   ]
  },
  {
   "cell_type": "code",
   "execution_count": null,
   "id": "c0efc5ca-ebaf-4fb4-b91b-290e2f1cfea3",
   "metadata": {},
   "outputs": [],
   "source": []
  },
  {
   "cell_type": "code",
   "execution_count": null,
   "id": "e9ac381d-af83-45b4-ae92-0b76cb6f07c6",
   "metadata": {},
   "outputs": [],
   "source": []
  },
  {
   "cell_type": "markdown",
   "id": "e0bb2bd6-71aa-4389-a06e-d9edb11c3c27",
   "metadata": {},
   "source": [
    "### 12/21 第11回目レース"
   ]
  },
  {
   "cell_type": "code",
   "execution_count": null,
   "id": "5846d2b3-b5d7-484e-94e8-c563fe95f5f3",
   "metadata": {},
   "outputs": [],
   "source": [
    "# 特徴量の更新\n",
    "features = pfc.create_features(\n",
    "    race_id=\"202406050711\",  # 予測するレースidを指定\n",
    "    date_content_a = \"2024年12月21日\", #\"%Y年%m月%d日\"形式で該当レース当日の日付を入れてください    \n",
    "    skip_agg_horse=True  # 事前に集計した場合はスキップできる\n",
    ")"
   ]
  },
  {
   "cell_type": "code",
   "execution_count": null,
   "id": "c57427a3-15c6-45cf-a0e3-ce5dfab20a2c",
   "metadata": {},
   "outputs": [],
   "source": [
    "pfc.results"
   ]
  },
  {
   "cell_type": "code",
   "execution_count": null,
   "id": "1d813074-3af5-4de6-9778-cb6f43a6e979",
   "metadata": {},
   "outputs": [],
   "source": [
    "pfc.race_info"
   ]
  },
  {
   "cell_type": "code",
   "execution_count": null,
   "id": "19586e04-c3e1-4818-b742-ac9e8844b362",
   "metadata": {},
   "outputs": [],
   "source": [
    "# オッズ除外モデルでの予測、time、ホールドアウト\n",
    "prediction.predict(\n",
    "    features,\n",
    "    model_filename=\"model_lightgbm_time_odds_removed.pkl\",\n",
    "    config_filepath=\"config_lightgbm_kaiki_odds_removed.yaml\"\n",
    ")"
   ]
  },
  {
   "cell_type": "code",
   "execution_count": null,
   "id": "43002470-ee0c-41ef-a09b-b1bcaed53ad7",
   "metadata": {},
   "outputs": [],
   "source": [
    "# オッズ除外モデルでの予測、time、クロスバリデーション\n",
    "prediction.predict(\n",
    "    features,\n",
    "    model_filename=\"model_lightgbm_time_cv_full_odds_removed.pkl\",\n",
    "    config_filepath=\"config_lightgbm_kaiki_odds_removed.yaml\"\n",
    ")"
   ]
  },
  {
   "cell_type": "code",
   "execution_count": null,
   "id": "27d893a7-1b5f-4609-9931-c27c8c2cf438",
   "metadata": {},
   "outputs": [],
   "source": []
  },
  {
   "cell_type": "markdown",
   "id": "2b5256f3-31cd-4c76-b7fd-7908ce0a6c6b",
   "metadata": {},
   "source": [
    "### 12/21 第12回目レース"
   ]
  },
  {
   "cell_type": "code",
   "execution_count": null,
   "id": "d931b7fd-bc75-404d-9a48-17f3dcbbe169",
   "metadata": {},
   "outputs": [],
   "source": [
    "# 特徴量の更新\n",
    "features = pfc.create_features(\n",
    "    race_id=\"202406050712\",  # 予測するレースidを指定\n",
    "    date_content_a = \"2024年12月21日\", #\"%Y年%m月%d日\"形式で該当レース当日の日付を入れてください    \n",
    "    skip_agg_horse=True  # 事前に集計した場合はスキップできる\n",
    ")"
   ]
  },
  {
   "cell_type": "code",
   "execution_count": null,
   "id": "f1e0d81f-f4e3-4345-940f-7c2200632102",
   "metadata": {},
   "outputs": [],
   "source": [
    "pfc.results"
   ]
  },
  {
   "cell_type": "code",
   "execution_count": null,
   "id": "97557259-9289-4009-975d-21430c6baf46",
   "metadata": {},
   "outputs": [],
   "source": [
    "pfc.race_info"
   ]
  },
  {
   "cell_type": "code",
   "execution_count": null,
   "id": "bc472c5b-0c41-4a5e-9f26-ca5288e807bf",
   "metadata": {},
   "outputs": [],
   "source": [
    "# オッズ除外モデルでの予測、time、ホールドアウト\n",
    "prediction.predict(\n",
    "    features,\n",
    "    model_filename=\"model_lightgbm_time_odds_removed.pkl\",\n",
    "    config_filepath=\"config_lightgbm_kaiki_odds_removed.yaml\"\n",
    ")"
   ]
  },
  {
   "cell_type": "code",
   "execution_count": null,
   "id": "e24fc3d4-74fd-4f9d-a9d6-23d519271876",
   "metadata": {},
   "outputs": [],
   "source": [
    "# オッズ除外モデルでの予測、time、クロスバリデーション\n",
    "prediction.predict(\n",
    "    features,\n",
    "    model_filename=\"model_lightgbm_time_cv_full_odds_removed.pkl\",\n",
    "    config_filepath=\"config_lightgbm_kaiki_odds_removed.yaml\"\n",
    ")"
   ]
  },
  {
   "cell_type": "code",
   "execution_count": null,
   "id": "a3346507-8085-491f-8a91-a67f2770a528",
   "metadata": {},
   "outputs": [],
   "source": []
  }
 ],
 "metadata": {
  "kernelspec": {
   "display_name": "Python 3 (ipykernel)",
   "language": "python",
   "name": "python3"
  },
  "language_info": {
   "codemirror_mode": {
    "name": "ipython",
    "version": 3
   },
   "file_extension": ".py",
   "mimetype": "text/x-python",
   "name": "python",
   "nbconvert_exporter": "python",
   "pygments_lexer": "ipython3",
   "version": "3.11.8"
  }
 },
 "nbformat": 4,
 "nbformat_minor": 5
}
