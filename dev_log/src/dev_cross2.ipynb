{
 "cells": [
  {
   "cell_type": "code",
   "execution_count": 39,
   "id": "c6ee9f7b-1b34-4afa-8057-162804bc9e54",
   "metadata": {},
   "outputs": [
    {
     "name": "stdout",
     "output_type": "stream",
     "text": [
      "The autoreload extension is already loaded. To reload it, use:\n",
      "  %reload_ext autoreload\n"
     ]
    }
   ],
   "source": [
    "import create_population\n",
    "import create_population3\n",
    "import preprocessing\n",
    "from feature_engineering import FeatureCreator\n",
    "from feature_engineering_prediction import PredictionFeatureCreator\n",
    "\n",
    "import prediction\n",
    "from train_lgbm_rank_niti_cross import Trainer_lightgbm_rank_niti_cv\n",
    "from train_lgbm_rank_kaiki_cross import Trainer_lightgbm_rank_kaiki_cv\n",
    "from train_lgbm_time_cross import Trainer_lightgbm_time_cv\n",
    "\n",
    "from evaluation_lgbm_rank_niti_cross import Evaluator_lightgbm_rank_niti_cross\n",
    "\n",
    "import pandas as pd\n",
    "\n",
    "\n",
    "import condition_prediction\n",
    "\n",
    "\n",
    "from train_lightgbm_rank_niti import Trainer_lightgbm_rank_niti\n",
    "from train_lightgbm_time import Trainer_lightgbm_time\n",
    "from train_lightgbm_rank_kaiki import Trainer_lightgbm_rank_kaiki\n",
    "\n",
    "from evaluation_lightgbm_rank_niti import Evaluator_lightgbm_rank_niti\n",
    "from evaluation_lightgbm_time_kaiki import Evaluator_lightgbm_time_kaiki\n",
    "from evaluation_lightgbm_rank_kaiki import Evaluator_lightgbm_rank_kaiki\n",
    "from evaluation_pop import Evaluator_pop\n",
    "\n",
    "%load_ext autoreload"
   ]
  },
  {
   "cell_type": "code",
   "execution_count": 51,
   "id": "eee98a31-b17e-4612-af34-62d38a5c2d64",
   "metadata": {},
   "outputs": [],
   "source": [
    "%autoreload"
   ]
  },
  {
   "cell_type": "code",
   "execution_count": 15,
   "id": "afeca4c2-74ff-4e37-91c2-d5c669735aca",
   "metadata": {},
   "outputs": [],
   "source": [
    "#テスト用\n",
    "population = create_population.create(from_=\"2022-01-01\", to_=\"2023-12-31\")\n",
    "# population = create_population.create(from_=\"2023-12-01\", to_=\"2023-12-31\")\n",
    "# population = create_population.create(from_=\"2023-12-01\", to_=\"2023-12-31\")"
   ]
  },
  {
   "cell_type": "code",
   "execution_count": 6,
   "id": "47b47c9b-2174-4194-954d-8099aeac2281",
   "metadata": {
    "collapsed": true,
    "jupyter": {
     "outputs_hidden": true
    },
    "scrolled": true
   },
   "outputs": [
    {
     "data": {
      "text/html": [
       "<div>\n",
       "<style scoped>\n",
       "    .dataframe tbody tr th:only-of-type {\n",
       "        vertical-align: middle;\n",
       "    }\n",
       "\n",
       "    .dataframe tbody tr th {\n",
       "        vertical-align: top;\n",
       "    }\n",
       "\n",
       "    .dataframe thead th {\n",
       "        text-align: right;\n",
       "    }\n",
       "</style>\n",
       "<table border=\"1\" class=\"dataframe\">\n",
       "  <thead>\n",
       "    <tr style=\"text-align: right;\">\n",
       "      <th></th>\n",
       "      <th>race_id</th>\n",
       "      <th>date</th>\n",
       "      <th>horse_id</th>\n",
       "    </tr>\n",
       "  </thead>\n",
       "  <tbody>\n",
       "    <tr>\n",
       "      <th>0</th>\n",
       "      <td>202306010101</td>\n",
       "      <td>2023-01-05</td>\n",
       "      <td>2020103575</td>\n",
       "    </tr>\n",
       "    <tr>\n",
       "      <th>1</th>\n",
       "      <td>202306010101</td>\n",
       "      <td>2023-01-05</td>\n",
       "      <td>2020107073</td>\n",
       "    </tr>\n",
       "    <tr>\n",
       "      <th>2</th>\n",
       "      <td>202306010101</td>\n",
       "      <td>2023-01-05</td>\n",
       "      <td>2020102562</td>\n",
       "    </tr>\n",
       "    <tr>\n",
       "      <th>3</th>\n",
       "      <td>202306010101</td>\n",
       "      <td>2023-01-05</td>\n",
       "      <td>2020106345</td>\n",
       "    </tr>\n",
       "    <tr>\n",
       "      <th>4</th>\n",
       "      <td>202306010101</td>\n",
       "      <td>2023-01-05</td>\n",
       "      <td>2020100039</td>\n",
       "    </tr>\n",
       "    <tr>\n",
       "      <th>...</th>\n",
       "      <td>...</td>\n",
       "      <td>...</td>\n",
       "      <td>...</td>\n",
       "    </tr>\n",
       "    <tr>\n",
       "      <th>46207</th>\n",
       "      <td>202309050912</td>\n",
       "      <td>2023-12-28</td>\n",
       "      <td>2017104873</td>\n",
       "    </tr>\n",
       "    <tr>\n",
       "      <th>46208</th>\n",
       "      <td>202309050912</td>\n",
       "      <td>2023-12-28</td>\n",
       "      <td>2019100653</td>\n",
       "    </tr>\n",
       "    <tr>\n",
       "      <th>46209</th>\n",
       "      <td>202309050912</td>\n",
       "      <td>2023-12-28</td>\n",
       "      <td>2017106240</td>\n",
       "    </tr>\n",
       "    <tr>\n",
       "      <th>46210</th>\n",
       "      <td>202309050912</td>\n",
       "      <td>2023-12-28</td>\n",
       "      <td>2018103205</td>\n",
       "    </tr>\n",
       "    <tr>\n",
       "      <th>46211</th>\n",
       "      <td>202309050912</td>\n",
       "      <td>2023-12-28</td>\n",
       "      <td>2017102603</td>\n",
       "    </tr>\n",
       "  </tbody>\n",
       "</table>\n",
       "<p>46212 rows × 3 columns</p>\n",
       "</div>"
      ],
      "text/plain": [
       "            race_id       date    horse_id\n",
       "0      202306010101 2023-01-05  2020103575\n",
       "1      202306010101 2023-01-05  2020107073\n",
       "2      202306010101 2023-01-05  2020102562\n",
       "3      202306010101 2023-01-05  2020106345\n",
       "4      202306010101 2023-01-05  2020100039\n",
       "...             ...        ...         ...\n",
       "46207  202309050912 2023-12-28  2017104873\n",
       "46208  202309050912 2023-12-28  2019100653\n",
       "46209  202309050912 2023-12-28  2017106240\n",
       "46210  202309050912 2023-12-28  2018103205\n",
       "46211  202309050912 2023-12-28  2017102603\n",
       "\n",
       "[46212 rows x 3 columns]"
      ]
     },
     "execution_count": 6,
     "metadata": {},
     "output_type": "execute_result"
    }
   ],
   "source": [
    "population"
   ]
  },
  {
   "cell_type": "code",
   "execution_count": 16,
   "id": "f53f080d-d80c-45b6-b846-4663eb0708eb",
   "metadata": {},
   "outputs": [],
   "source": [
    "#まとめて実行\n",
    "# レース結果テーブルの前処理\n",
    "results_preprocessed = preprocessing.process_results()\n",
    "# 馬の過去成績テーブルの加工\n",
    "horse_results_preprocessed = preprocessing.process_horse_results()\n",
    "# レース情報テーブルの前処理\n",
    "race_info_preprocessed = preprocessing.process_race_info()\n",
    "# 騎手リーディングテーブルの前処理\n",
    "jockey_leading_preprocessed = preprocessing.process_jockey_leading()\n",
    "# 調教師リーディングテーブルの前処理\n",
    "trainer_leading_preprocessed = preprocessing.process_trainer_leading()\n",
    "# 血統テーブルの前処理\n",
    "peds_preprocessed = preprocessing.process_peds()\n",
    "# 種牡馬リーディングテーブルの前処理\n",
    "sire_leading_preprocessed = preprocessing.process_sire_leading()\n",
    "# 払い戻しテーブルの前処理_２度目をするならcsvファイルを消さないとダメ\n",
    "return_tables_preprocessed = preprocessing.process_return_tables()"
   ]
  },
  {
   "cell_type": "code",
   "execution_count": 8,
   "id": "847dbf3d-1618-406a-85b7-1e927eb337f0",
   "metadata": {},
   "outputs": [
    {
     "data": {
      "application/vnd.jupyter.widget-view+json": {
       "model_id": "70f65cc55ec74b639acf0ba6387dea2e",
       "version_major": 2,
       "version_minor": 0
      },
      "text/plain": [
       "agg_horse_n_races_relative:   0%|          | 0/4 [00:00<?, ?it/s]"
      ]
     },
     "metadata": {},
     "output_type": "display_data"
    },
    {
     "name": "stdout",
     "output_type": "stream",
     "text": [
      "running agg_jockey()...\n",
      "running agg_jockey()...comp\n",
      "running agg_trainer()...\n",
      "running agg_trainer()...comp\n"
     ]
    },
    {
     "data": {
      "application/vnd.jupyter.widget-view+json": {
       "model_id": "eb6820d990fd47a999ba82d67ad28a2c",
       "version_major": 2,
       "version_minor": 0
      },
      "text/plain": [
       "agg_horse_per_course_len:   0%|          | 0/4 [00:00<?, ?it/s]"
      ]
     },
     "metadata": {},
     "output_type": "display_data"
    },
    {
     "name": "stdout",
     "output_type": "stream",
     "text": [
      "running cross_features()...comp\n",
      "running agg_interval()...comp\n",
      "running cross_features_2()...comp\n"
     ]
    },
    {
     "data": {
      "application/vnd.jupyter.widget-view+json": {
       "model_id": "1fbe48db6bdf473fa41de389c607f1b0",
       "version_major": 2,
       "version_minor": 0
      },
      "text/plain": [
       "agg_cross_encoded:   0%|          | 0/4 [00:00<?, ?it/s]"
      ]
     },
     "metadata": {},
     "output_type": "display_data"
    },
    {
     "name": "stdout",
     "output_type": "stream",
     "text": [
      "running cross_features_3()...comp\n"
     ]
    },
    {
     "data": {
      "application/vnd.jupyter.widget-view+json": {
       "model_id": "cf030de6d48847a7a32d10dde3168374",
       "version_major": 2,
       "version_minor": 0
      },
      "text/plain": [
       "agg_cross_zizoku_syunpatu:   0%|          | 0/4 [00:00<?, ?it/s]"
      ]
     },
     "metadata": {},
     "output_type": "display_data"
    },
    {
     "name": "stdout",
     "output_type": "stream",
     "text": [
      "running cross_features_4()...comp\n",
      "running cross_features_5()...comp\n",
      "running cross_features_6()...comp\n"
     ]
    },
    {
     "data": {
      "application/vnd.jupyter.widget-view+json": {
       "model_id": "3d680850dcfd4cfea24b7e947155e0f1",
       "version_major": 2,
       "version_minor": 0
      },
      "text/plain": [
       "pace_category_win_1:   0%|          | 0/4 [00:00<?, ?it/s]"
      ]
     },
     "metadata": {},
     "output_type": "display_data"
    },
    {
     "data": {
      "application/vnd.jupyter.widget-view+json": {
       "model_id": "cf1f596474fb45c2a952201cee777b54",
       "version_major": 2,
       "version_minor": 0
      },
      "text/plain": [
       "pace_category_win_2:   0%|          | 0/4 [00:00<?, ?it/s]"
      ]
     },
     "metadata": {},
     "output_type": "display_data"
    },
    {
     "data": {
      "application/vnd.jupyter.widget-view+json": {
       "model_id": "c3ba1488a81c4effb4acf0a10960ed57",
       "version_major": 2,
       "version_minor": 0
      },
      "text/plain": [
       "pace_category_win_3:   0%|          | 0/4 [00:00<?, ?it/s]"
      ]
     },
     "metadata": {},
     "output_type": "display_data"
    },
    {
     "data": {
      "application/vnd.jupyter.widget-view+json": {
       "model_id": "4126790b93f94c5f882857b942f3b72f",
       "version_major": 2,
       "version_minor": 0
      },
      "text/plain": [
       "pace_category_win_4:   0%|          | 0/4 [00:00<?, ?it/s]"
      ]
     },
     "metadata": {},
     "output_type": "display_data"
    },
    {
     "name": "stdout",
     "output_type": "stream",
     "text": [
      "running cross_features_7()...comp\n"
     ]
    },
    {
     "data": {
      "application/vnd.jupyter.widget-view+json": {
       "model_id": "a4a56461e2d04d27ad0a5422732386af",
       "version_major": 2,
       "version_minor": 0
      },
      "text/plain": [
       "agg_pace_per_score:   0%|          | 0/4 [00:00<?, ?it/s]"
      ]
     },
     "metadata": {},
     "output_type": "display_data"
    },
    {
     "name": "stdout",
     "output_type": "stream",
     "text": [
      "running cross_features_8()...comp\n"
     ]
    },
    {
     "data": {
      "application/vnd.jupyter.widget-view+json": {
       "model_id": "ec983c5c9b2846c49090fdc9b4d9531c",
       "version_major": 2,
       "version_minor": 0
      },
      "text/plain": [
       "agg_goal_per_score:   0%|          | 0/4 [00:00<?, ?it/s]"
      ]
     },
     "metadata": {},
     "output_type": "display_data"
    },
    {
     "name": "stdout",
     "output_type": "stream",
     "text": [
      "running cross_features_9()...comp\n"
     ]
    },
    {
     "data": {
      "application/vnd.jupyter.widget-view+json": {
       "model_id": "0d75399bc9334537bfbaa70e31b990dd",
       "version_major": 2,
       "version_minor": 0
      },
      "text/plain": [
       "agg_curve_per_score:   0%|          | 0/4 [00:00<?, ?it/s]"
      ]
     },
     "metadata": {},
     "output_type": "display_data"
    },
    {
     "name": "stdout",
     "output_type": "stream",
     "text": [
      "running cross_features_10()...comp\n"
     ]
    },
    {
     "data": {
      "application/vnd.jupyter.widget-view+json": {
       "model_id": "362ac059007a4bdf875411a5d6a47919",
       "version_major": 2,
       "version_minor": 0
      },
      "text/plain": [
       "agg_goal_slope_per_score:   0%|          | 0/4 [00:00<?, ?it/s]"
      ]
     },
     "metadata": {},
     "output_type": "display_data"
    },
    {
     "name": "stdout",
     "output_type": "stream",
     "text": [
      "running cross_features_11()...comp\n"
     ]
    },
    {
     "data": {
      "application/vnd.jupyter.widget-view+json": {
       "model_id": "5b640dcfc46143509555d6d8119e720e",
       "version_major": 2,
       "version_minor": 0
      },
      "text/plain": [
       "agg_stamina_per_score:   0%|          | 0/4 [00:00<?, ?it/s]"
      ]
     },
     "metadata": {},
     "output_type": "display_data"
    },
    {
     "name": "stdout",
     "output_type": "stream",
     "text": [
      "running cross_features_12()...comp\n"
     ]
    },
    {
     "data": {
      "application/vnd.jupyter.widget-view+json": {
       "model_id": "9de55e40cee343e5b33c33473814b796",
       "version_major": 2,
       "version_minor": 0
      },
      "text/plain": [
       "agg_pace_per_score:   0%|          | 0/4 [00:00<?, ?it/s]"
      ]
     },
     "metadata": {},
     "output_type": "display_data"
    },
    {
     "data": {
      "application/vnd.jupyter.widget-view+json": {
       "model_id": "df1c5c7020694031a5a178f5f9093c14",
       "version_major": 2,
       "version_minor": 0
      },
      "text/plain": [
       "agg_goal_per_score:   0%|          | 0/4 [00:00<?, ?it/s]"
      ]
     },
     "metadata": {},
     "output_type": "display_data"
    },
    {
     "data": {
      "application/vnd.jupyter.widget-view+json": {
       "model_id": "c0cc31f585954603b01975ac638a692a",
       "version_major": 2,
       "version_minor": 0
      },
      "text/plain": [
       "agg_curve_per_score:   0%|          | 0/4 [00:00<?, ?it/s]"
      ]
     },
     "metadata": {},
     "output_type": "display_data"
    },
    {
     "data": {
      "application/vnd.jupyter.widget-view+json": {
       "model_id": "3449260ffd8b45ba902f12f067b3278a",
       "version_major": 2,
       "version_minor": 0
      },
      "text/plain": [
       "agg_goal_slope_per_score:   0%|          | 0/4 [00:00<?, ?it/s]"
      ]
     },
     "metadata": {},
     "output_type": "display_data"
    },
    {
     "data": {
      "application/vnd.jupyter.widget-view+json": {
       "model_id": "7d78bc9767944fb59345d99eed0c43f9",
       "version_major": 2,
       "version_minor": 0
      },
      "text/plain": [
       "agg_stamina_per_score:   0%|          | 0/4 [00:00<?, ?it/s]"
      ]
     },
     "metadata": {},
     "output_type": "display_data"
    },
    {
     "name": "stdout",
     "output_type": "stream",
     "text": [
      "running cross_features_13()...comp\n"
     ]
    },
    {
     "data": {
      "application/vnd.jupyter.widget-view+json": {
       "model_id": "24a5106439fc4d809fe2f5f47e17add8",
       "version_major": 2,
       "version_minor": 0
      },
      "text/plain": [
       "agg_raceclass_rankdiff_per_score:   0%|          | 0/4 [00:00<?, ?it/s]"
      ]
     },
     "metadata": {},
     "output_type": "display_data"
    },
    {
     "name": "stdout",
     "output_type": "stream",
     "text": [
      "running cross_features_14()...comp\n"
     ]
    },
    {
     "data": {
      "application/vnd.jupyter.widget-view+json": {
       "model_id": "0b27941087a24ba895d28abcfd0e3ca0",
       "version_major": 2,
       "version_minor": 0
      },
      "text/plain": [
       "agg_horse_per_ground_state_race_type:   0%|          | 0/4 [00:00<?, ?it/s]"
      ]
     },
     "metadata": {},
     "output_type": "display_data"
    },
    {
     "data": {
      "application/vnd.jupyter.widget-view+json": {
       "model_id": "6848d4cca880437095d65ba0ffefe9a7",
       "version_major": 2,
       "version_minor": 0
      },
      "text/plain": [
       "agg_horse_per_race_class:   0%|          | 0/4 [00:00<?, ?it/s]"
      ]
     },
     "metadata": {},
     "output_type": "display_data"
    },
    {
     "data": {
      "application/vnd.jupyter.widget-view+json": {
       "model_id": "7ce06836e34048f6a26d3cd7675d6eb6",
       "version_major": 2,
       "version_minor": 0
      },
      "text/plain": [
       "agg_horse_per_race_type:   0%|          | 0/4 [00:00<?, ?it/s]"
      ]
     },
     "metadata": {},
     "output_type": "display_data"
    },
    {
     "data": {
      "application/vnd.jupyter.widget-view+json": {
       "model_id": "6c3ad0ec8eb443b4adb9559b50cb468f",
       "version_major": 2,
       "version_minor": 0
      },
      "text/plain": [
       "agg_horse_per_race_place_len:   0%|          | 0/4 [00:00<?, ?it/s]"
      ]
     },
     "metadata": {},
     "output_type": "display_data"
    },
    {
     "data": {
      "application/vnd.jupyter.widget-view+json": {
       "model_id": "6dc1b97238e34cc497cc633a5ec4dd36",
       "version_major": 2,
       "version_minor": 0
      },
      "text/plain": [
       "agg_horse_per_weather:   0%|          | 0/4 [00:00<?, ?it/s]"
      ]
     },
     "metadata": {},
     "output_type": "display_data"
    },
    {
     "name": "stdout",
     "output_type": "stream",
     "text": [
      "running agg_sire()...\n",
      "running agg_sire()...comp\n",
      "merging all features...\n",
      "merging all features...comp\n"
     ]
    }
   ],
   "source": [
    "fc = FeatureCreator()\n",
    "features = fc.create_features()"
   ]
  },
  {
   "cell_type": "code",
   "execution_count": 11,
   "id": "e0c9d229-6ab6-434c-a6f2-ba45b3c71208",
   "metadata": {},
   "outputs": [
    {
     "data": {
      "text/plain": [
       "np.int64(0)"
      ]
     },
     "execution_count": 11,
     "metadata": {},
     "output_type": "execute_result"
    }
   ],
   "source": [
    "# 重複チェック\n",
    "features.duplicated(subset=[\"race_id\", \"horse_id\"]).sum()"
   ]
  },
  {
   "cell_type": "code",
   "execution_count": null,
   "id": "83b45592-eab5-4d20-8f8a-e3af8ed9f4fa",
   "metadata": {},
   "outputs": [],
   "source": []
  },
  {
   "cell_type": "code",
   "execution_count": 52,
   "id": "f20791cb-b684-4410-9b19-352694307aef",
   "metadata": {},
   "outputs": [
    {
     "name": "stdout",
     "output_type": "stream",
     "text": [
      "Training fold 1/5...\n",
      "Training until validation scores don't improve for 100 rounds\n",
      "[100]\tvalid_0's binary_logloss: 0.229569\n",
      "[200]\tvalid_0's binary_logloss: 0.223416\n",
      "[300]\tvalid_0's binary_logloss: 0.222528\n",
      "Early stopping, best iteration is:\n",
      "[287]\tvalid_0's binary_logloss: 0.222379\n",
      "-------------------- Metrics --------------------\n",
      "Accuracy: 0.7755\n",
      "Precision: 0.1907\n",
      "Recall: 0.6425\n",
      "F1 Score: 0.2942\n",
      "ROC AUC: 0.8004\n",
      "Training fold 2/5...\n",
      "Training until validation scores don't improve for 100 rounds\n",
      "[300]\tvalid_0's binary_logloss: 0.228418\n",
      "[400]\tvalid_0's binary_logloss: 0.22709\n",
      "[500]\tvalid_0's binary_logloss: 0.22689\n",
      "[600]\tvalid_0's binary_logloss: 0.227079\n",
      "Early stopping, best iteration is:\n",
      "[536]\tvalid_0's binary_logloss: 0.226848\n",
      "-------------------- Metrics --------------------\n",
      "Accuracy: 0.7529\n",
      "Precision: 0.1788\n",
      "Recall: 0.6650\n",
      "F1 Score: 0.2818\n",
      "ROC AUC: 0.7846\n",
      "Training fold 3/5...\n",
      "Training until validation scores don't improve for 100 rounds\n",
      "[600]\tvalid_0's binary_logloss: 0.225635\n",
      "[700]\tvalid_0's binary_logloss: 0.224814\n",
      "[800]\tvalid_0's binary_logloss: 0.224691\n",
      "Early stopping, best iteration is:\n",
      "[785]\tvalid_0's binary_logloss: 0.224629\n",
      "-------------------- Metrics --------------------\n",
      "Accuracy: 0.7449\n",
      "Precision: 0.1841\n",
      "Recall: 0.7000\n",
      "F1 Score: 0.2916\n",
      "ROC AUC: 0.7990\n",
      "Training fold 4/5...\n",
      "Training until validation scores don't improve for 100 rounds\n",
      "[800]\tvalid_0's binary_logloss: 0.224684\n",
      "[900]\tvalid_0's binary_logloss: 0.224383\n",
      "[1000]\tvalid_0's binary_logloss: 0.224086\n",
      "[1100]\tvalid_0's binary_logloss: 0.22394\n",
      "Early stopping, best iteration is:\n",
      "[1026]\tvalid_0's binary_logloss: 0.223912\n",
      "-------------------- Metrics --------------------\n",
      "Accuracy: 0.7292\n",
      "Precision: 0.1676\n",
      "Recall: 0.6900\n",
      "F1 Score: 0.2697\n",
      "ROC AUC: 0.7910\n",
      "Training final model using all data...\n",
      "Final model training completed.\n"
     ]
    }
   ],
   "source": [
    "# オッズと人気を特徴量から省いたランク＿二値\n",
    "trainer = Trainer_lightgbm_rank_niti_cv(config_filepath=\"config_lightgbm_niti_odds_removed.yaml\")\n",
    "evaluation_df = trainer.run(\n",
    "    n_splits = 5,\n",
    "    importance_filename=\"importance_lightgbm_rank_niti_cv_odds_removed\",\n",
    "    model_filename=\"model_lightgbm_rank_niti_cv_odds_removed.pkl\",\n",
    "    evaluation_filename=\"evaluation_lightgbm_rank_niti_cv_odds_removed.csv\",\n",
    "    final_model_filename = \"model_lightgbm_rank_niti_cv_full_odds_removed.pkl\"\n",
    ")\n"
   ]
  },
  {
   "cell_type": "code",
   "execution_count": null,
   "id": "70115ff4-22ed-4286-a4e8-c73c74b3f011",
   "metadata": {},
   "outputs": [],
   "source": []
  },
  {
   "cell_type": "code",
   "execution_count": 23,
   "id": "4d04ff25-2a6a-44c8-afc8-bce57e64420a",
   "metadata": {},
   "outputs": [
    {
     "data": {
      "text/html": [
       "<div>\n",
       "<style scoped>\n",
       "    .dataframe tbody tr th:only-of-type {\n",
       "        vertical-align: middle;\n",
       "    }\n",
       "\n",
       "    .dataframe tbody tr th {\n",
       "        vertical-align: top;\n",
       "    }\n",
       "\n",
       "    .dataframe thead th {\n",
       "        text-align: right;\n",
       "    }\n",
       "</style>\n",
       "<table border=\"1\" class=\"dataframe\">\n",
       "  <thead>\n",
       "    <tr style=\"text-align: right;\">\n",
       "      <th></th>\n",
       "      <th>topn</th>\n",
       "      <th>bet_type</th>\n",
       "      <th>hitrate_lightgbm_rank_niti_cross_noodds</th>\n",
       "      <th>returnrate_lightgbm_rank_niti_cross_noodds</th>\n",
       "      <th>hitrate_pop</th>\n",
       "      <th>returnrate_pop</th>\n",
       "    </tr>\n",
       "  </thead>\n",
       "  <tbody>\n",
       "    <tr>\n",
       "      <th>0</th>\n",
       "      <td>1</td>\n",
       "      <td>単勝</td>\n",
       "      <td>0.282772</td>\n",
       "      <td>0.792416</td>\n",
       "      <td>0.331994</td>\n",
       "      <td>0.800151</td>\n",
       "    </tr>\n",
       "    <tr>\n",
       "      <th>1</th>\n",
       "      <td>1</td>\n",
       "      <td>複勝</td>\n",
       "      <td>0.592667</td>\n",
       "      <td>0.841537</td>\n",
       "      <td>0.641386</td>\n",
       "      <td>0.846710</td>\n",
       "    </tr>\n",
       "    <tr>\n",
       "      <th>2</th>\n",
       "      <td>2</td>\n",
       "      <td>ワイド</td>\n",
       "      <td>0.256655</td>\n",
       "      <td>0.795932</td>\n",
       "      <td>0.305876</td>\n",
       "      <td>0.785786</td>\n",
       "    </tr>\n",
       "    <tr>\n",
       "      <th>3</th>\n",
       "      <td>2</td>\n",
       "      <td>単勝</td>\n",
       "      <td>0.458564</td>\n",
       "      <td>0.780110</td>\n",
       "      <td>0.530889</td>\n",
       "      <td>0.806404</td>\n",
       "    </tr>\n",
       "    <tr>\n",
       "      <th>4</th>\n",
       "      <td>2</td>\n",
       "      <td>複勝</td>\n",
       "      <td>0.804119</td>\n",
       "      <td>0.828604</td>\n",
       "      <td>0.840784</td>\n",
       "      <td>0.831492</td>\n",
       "    </tr>\n",
       "    <tr>\n",
       "      <th>5</th>\n",
       "      <td>2</td>\n",
       "      <td>馬単</td>\n",
       "      <td>0.111502</td>\n",
       "      <td>0.648217</td>\n",
       "      <td>0.150678</td>\n",
       "      <td>0.740583</td>\n",
       "    </tr>\n",
       "    <tr>\n",
       "      <th>6</th>\n",
       "      <td>2</td>\n",
       "      <td>馬連</td>\n",
       "      <td>0.111502</td>\n",
       "      <td>0.682622</td>\n",
       "      <td>0.150678</td>\n",
       "      <td>0.756806</td>\n",
       "    </tr>\n",
       "    <tr>\n",
       "      <th>7</th>\n",
       "      <td>3</td>\n",
       "      <td>ワイド</td>\n",
       "      <td>0.485183</td>\n",
       "      <td>0.779893</td>\n",
       "      <td>0.545957</td>\n",
       "      <td>0.769647</td>\n",
       "    </tr>\n",
       "    <tr>\n",
       "      <th>8</th>\n",
       "      <td>3</td>\n",
       "      <td>三連単</td>\n",
       "      <td>0.062280</td>\n",
       "      <td>0.688682</td>\n",
       "      <td>0.078855</td>\n",
       "      <td>0.599682</td>\n",
       "    </tr>\n",
       "    <tr>\n",
       "      <th>9</th>\n",
       "      <td>3</td>\n",
       "      <td>三連複</td>\n",
       "      <td>0.062280</td>\n",
       "      <td>0.726369</td>\n",
       "      <td>0.078855</td>\n",
       "      <td>0.705726</td>\n",
       "    </tr>\n",
       "    <tr>\n",
       "      <th>10</th>\n",
       "      <td>3</td>\n",
       "      <td>単勝</td>\n",
       "      <td>0.592165</td>\n",
       "      <td>0.778503</td>\n",
       "      <td>0.651934</td>\n",
       "      <td>0.781316</td>\n",
       "    </tr>\n",
       "    <tr>\n",
       "      <th>11</th>\n",
       "      <td>3</td>\n",
       "      <td>複勝</td>\n",
       "      <td>0.903064</td>\n",
       "      <td>0.810899</td>\n",
       "      <td>0.926670</td>\n",
       "      <td>0.818115</td>\n",
       "    </tr>\n",
       "    <tr>\n",
       "      <th>12</th>\n",
       "      <td>3</td>\n",
       "      <td>馬単</td>\n",
       "      <td>0.251632</td>\n",
       "      <td>0.712490</td>\n",
       "      <td>0.303365</td>\n",
       "      <td>0.700419</td>\n",
       "    </tr>\n",
       "    <tr>\n",
       "      <th>13</th>\n",
       "      <td>3</td>\n",
       "      <td>馬連</td>\n",
       "      <td>0.251632</td>\n",
       "      <td>0.738423</td>\n",
       "      <td>0.303365</td>\n",
       "      <td>0.722920</td>\n",
       "    </tr>\n",
       "    <tr>\n",
       "      <th>14</th>\n",
       "      <td>4</td>\n",
       "      <td>ワイド</td>\n",
       "      <td>0.651934</td>\n",
       "      <td>0.795153</td>\n",
       "      <td>0.720241</td>\n",
       "      <td>0.802361</td>\n",
       "    </tr>\n",
       "    <tr>\n",
       "      <th>15</th>\n",
       "      <td>4</td>\n",
       "      <td>三連単</td>\n",
       "      <td>0.180814</td>\n",
       "      <td>0.758245</td>\n",
       "      <td>0.216976</td>\n",
       "      <td>0.735730</td>\n",
       "    </tr>\n",
       "    <tr>\n",
       "      <th>16</th>\n",
       "      <td>4</td>\n",
       "      <td>三連複</td>\n",
       "      <td>0.180814</td>\n",
       "      <td>0.820065</td>\n",
       "      <td>0.216976</td>\n",
       "      <td>0.783350</td>\n",
       "    </tr>\n",
       "    <tr>\n",
       "      <th>17</th>\n",
       "      <td>4</td>\n",
       "      <td>単勝</td>\n",
       "      <td>0.689603</td>\n",
       "      <td>0.769588</td>\n",
       "      <td>0.751381</td>\n",
       "      <td>0.789691</td>\n",
       "    </tr>\n",
       "    <tr>\n",
       "      <th>18</th>\n",
       "      <td>4</td>\n",
       "      <td>複勝</td>\n",
       "      <td>0.950276</td>\n",
       "      <td>0.810799</td>\n",
       "      <td>0.965344</td>\n",
       "      <td>0.818960</td>\n",
       "    </tr>\n",
       "    <tr>\n",
       "      <th>19</th>\n",
       "      <td>4</td>\n",
       "      <td>馬単</td>\n",
       "      <td>0.390758</td>\n",
       "      <td>0.715043</td>\n",
       "      <td>0.459066</td>\n",
       "      <td>0.766407</td>\n",
       "    </tr>\n",
       "    <tr>\n",
       "      <th>20</th>\n",
       "      <td>4</td>\n",
       "      <td>馬連</td>\n",
       "      <td>0.390758</td>\n",
       "      <td>0.745907</td>\n",
       "      <td>0.459066</td>\n",
       "      <td>0.779525</td>\n",
       "    </tr>\n",
       "    <tr>\n",
       "      <th>21</th>\n",
       "      <td>5</td>\n",
       "      <td>ワイド</td>\n",
       "      <td>0.772978</td>\n",
       "      <td>0.783451</td>\n",
       "      <td>0.831743</td>\n",
       "      <td>0.796901</td>\n",
       "    </tr>\n",
       "    <tr>\n",
       "      <th>22</th>\n",
       "      <td>5</td>\n",
       "      <td>三連単</td>\n",
       "      <td>0.293320</td>\n",
       "      <td>0.701396</td>\n",
       "      <td>0.354596</td>\n",
       "      <td>0.745127</td>\n",
       "    </tr>\n",
       "    <tr>\n",
       "      <th>23</th>\n",
       "      <td>5</td>\n",
       "      <td>三連複</td>\n",
       "      <td>0.293320</td>\n",
       "      <td>0.744500</td>\n",
       "      <td>0.354596</td>\n",
       "      <td>0.783837</td>\n",
       "    </tr>\n",
       "    <tr>\n",
       "      <th>24</th>\n",
       "      <td>5</td>\n",
       "      <td>単勝</td>\n",
       "      <td>0.769463</td>\n",
       "      <td>0.779186</td>\n",
       "      <td>0.828729</td>\n",
       "      <td>0.796434</td>\n",
       "    </tr>\n",
       "    <tr>\n",
       "      <th>25</th>\n",
       "      <td>5</td>\n",
       "      <td>複勝</td>\n",
       "      <td>0.978403</td>\n",
       "      <td>0.803184</td>\n",
       "      <td>0.986439</td>\n",
       "      <td>0.810999</td>\n",
       "    </tr>\n",
       "    <tr>\n",
       "      <th>26</th>\n",
       "      <td>5</td>\n",
       "      <td>馬単</td>\n",
       "      <td>0.513812</td>\n",
       "      <td>0.726740</td>\n",
       "      <td>0.583124</td>\n",
       "      <td>0.751519</td>\n",
       "    </tr>\n",
       "    <tr>\n",
       "      <th>27</th>\n",
       "      <td>5</td>\n",
       "      <td>馬連</td>\n",
       "      <td>0.513812</td>\n",
       "      <td>0.758207</td>\n",
       "      <td>0.583124</td>\n",
       "      <td>0.762391</td>\n",
       "    </tr>\n",
       "  </tbody>\n",
       "</table>\n",
       "</div>"
      ],
      "text/plain": [
       "    topn bet_type  hitrate_lightgbm_rank_niti_cross_noodds  \\\n",
       "0      1       単勝                                 0.282772   \n",
       "1      1       複勝                                 0.592667   \n",
       "2      2      ワイド                                 0.256655   \n",
       "3      2       単勝                                 0.458564   \n",
       "4      2       複勝                                 0.804119   \n",
       "5      2       馬単                                 0.111502   \n",
       "6      2       馬連                                 0.111502   \n",
       "7      3      ワイド                                 0.485183   \n",
       "8      3      三連単                                 0.062280   \n",
       "9      3      三連複                                 0.062280   \n",
       "10     3       単勝                                 0.592165   \n",
       "11     3       複勝                                 0.903064   \n",
       "12     3       馬単                                 0.251632   \n",
       "13     3       馬連                                 0.251632   \n",
       "14     4      ワイド                                 0.651934   \n",
       "15     4      三連単                                 0.180814   \n",
       "16     4      三連複                                 0.180814   \n",
       "17     4       単勝                                 0.689603   \n",
       "18     4       複勝                                 0.950276   \n",
       "19     4       馬単                                 0.390758   \n",
       "20     4       馬連                                 0.390758   \n",
       "21     5      ワイド                                 0.772978   \n",
       "22     5      三連単                                 0.293320   \n",
       "23     5      三連複                                 0.293320   \n",
       "24     5       単勝                                 0.769463   \n",
       "25     5       複勝                                 0.978403   \n",
       "26     5       馬単                                 0.513812   \n",
       "27     5       馬連                                 0.513812   \n",
       "\n",
       "    returnrate_lightgbm_rank_niti_cross_noodds  hitrate_pop  returnrate_pop  \n",
       "0                                     0.792416     0.331994        0.800151  \n",
       "1                                     0.841537     0.641386        0.846710  \n",
       "2                                     0.795932     0.305876        0.785786  \n",
       "3                                     0.780110     0.530889        0.806404  \n",
       "4                                     0.828604     0.840784        0.831492  \n",
       "5                                     0.648217     0.150678        0.740583  \n",
       "6                                     0.682622     0.150678        0.756806  \n",
       "7                                     0.779893     0.545957        0.769647  \n",
       "8                                     0.688682     0.078855        0.599682  \n",
       "9                                     0.726369     0.078855        0.705726  \n",
       "10                                    0.778503     0.651934        0.781316  \n",
       "11                                    0.810899     0.926670        0.818115  \n",
       "12                                    0.712490     0.303365        0.700419  \n",
       "13                                    0.738423     0.303365        0.722920  \n",
       "14                                    0.795153     0.720241        0.802361  \n",
       "15                                    0.758245     0.216976        0.735730  \n",
       "16                                    0.820065     0.216976        0.783350  \n",
       "17                                    0.769588     0.751381        0.789691  \n",
       "18                                    0.810799     0.965344        0.818960  \n",
       "19                                    0.715043     0.459066        0.766407  \n",
       "20                                    0.745907     0.459066        0.779525  \n",
       "21                                    0.783451     0.831743        0.796901  \n",
       "22                                    0.701396     0.354596        0.745127  \n",
       "23                                    0.744500     0.354596        0.783837  \n",
       "24                                    0.779186     0.828729        0.796434  \n",
       "25                                    0.803184     0.986439        0.810999  \n",
       "26                                    0.726740     0.583124        0.751519  \n",
       "27                                    0.758207     0.583124        0.762391  "
      ]
     },
     "execution_count": 23,
     "metadata": {},
     "output_type": "execute_result"
    }
   ],
   "source": [
    "# オッズと人気を特徴量から省いた場合_niti(10番目)\n",
    "evaluator = Evaluator_lightgbm_rank_niti_cross(evaluation_filename=\"evaluation_lightgbm_rank_niti_cv_odds_removed.csv\")\n",
    "evaluator.summarize_box_top_n(n=3,save_filename=\"box_summary_rank_niti_cross_noodds_top3.csv\")\n",
    "summary_df_noodds_gbm = evaluator.summarize_box_exp(exp_name=\"lightgbm_rank_niti_cross_noodds\")\n",
    "summary_df_noodds_gbm"
   ]
  },
  {
   "cell_type": "code",
   "execution_count": null,
   "id": "7eaad1a6-e7a9-4a80-b8cd-df89d7fa1194",
   "metadata": {},
   "outputs": [],
   "source": []
  },
  {
   "cell_type": "code",
   "execution_count": 53,
   "id": "add44e99-7b27-42fb-ba66-18c65bd91aa3",
   "metadata": {},
   "outputs": [
    {
     "name": "stdout",
     "output_type": "stream",
     "text": [
      "ブースト回数（num_boost_round）: 2811\n"
     ]
    }
   ],
   "source": [
    "import lightgbm as lgb\n",
    "import pickle\n",
    "\n",
    "from pathlib import Path\n",
    "DATA_DIR = Path(\"..\", \"data\")\n",
    "INPUT_DIR = DATA_DIR / \"02_features\"\n",
    "OUTPUT_DIR = DATA_DIR / \"03_train\"\n",
    "\n",
    "# モデルの読み込み\n",
    "with open(OUTPUT_DIR/\"model_lightgbm_rank_niti_cv_full_odds_removed.pkl\", \"rb\") as f:\n",
    "    model = pickle.load(f)\n",
    "\n",
    "# ブースト回数の取得\n",
    "num_trees = model.num_trees()\n",
    "\n",
    "print(f\"ブースト回数（num_boost_round）: {num_trees}\")\n"
   ]
  },
  {
   "cell_type": "code",
   "execution_count": null,
   "id": "68e115df-e2d9-4492-887d-37071ec74c23",
   "metadata": {},
   "outputs": [],
   "source": []
  }
 ],
 "metadata": {
  "kernelspec": {
   "display_name": "Python 3 (ipykernel)",
   "language": "python",
   "name": "python3"
  },
  "language_info": {
   "codemirror_mode": {
    "name": "ipython",
    "version": 3
   },
   "file_extension": ".py",
   "mimetype": "text/x-python",
   "name": "python",
   "nbconvert_exporter": "python",
   "pygments_lexer": "ipython3",
   "version": "3.11.8"
  }
 },
 "nbformat": 4,
 "nbformat_minor": 5
}
