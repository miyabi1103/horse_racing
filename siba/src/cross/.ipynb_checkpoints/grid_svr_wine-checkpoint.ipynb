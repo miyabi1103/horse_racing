{
 "cells": [
  {
   "cell_type": "markdown",
   "metadata": {},
   "source": [
    "### Sample program for grid search of hyperparameters  "
   ]
  },
  {
   "cell_type": "markdown",
   "metadata": {},
   "source": [
    "#### Import libraries  "
   ]
  },
  {
   "cell_type": "code",
   "execution_count": null,
   "metadata": {},
   "outputs": [],
   "source": [
    "import numpy as np\n",
    "import pandas as pd\n",
    "import matplotlib.pyplot as plt\n",
    "from sklearn.svm import SVR\n",
    "from sklearn.preprocessing import MinMaxScaler\n",
    "from sklearn.model_selection import GridSearchCV, KFold\n",
    "from sklearn.model_selection import cross_val_score, cross_val_predict\n",
    "from sklearn.pipeline import Pipeline\n",
    "from joblib import dump"
   ]
  },
  {
   "cell_type": "markdown",
   "metadata": {},
   "source": [
    "#### Parameters  "
   ]
  },
  {
   "cell_type": "code",
   "execution_count": null,
   "metadata": {},
   "outputs": [],
   "source": [
    "csv_in = '../ai-04/winequality-red_modified-utf8.txt'"
   ]
  },
  {
   "cell_type": "markdown",
   "metadata": {},
   "source": [
    "#### Read CSV file  "
   ]
  },
  {
   "cell_type": "code",
   "execution_count": null,
   "metadata": {},
   "outputs": [],
   "source": [
    "df_all = pd.read_csv(csv_in, sep='\\s+', skiprows=13, header=0)\n",
    "print(df_all.shape)\n",
    "print(df_all.info())\n",
    "display(df_all.head())"
   ]
  },
  {
   "cell_type": "markdown",
   "metadata": {},
   "source": [
    "#### Check rows with missing values  "
   ]
  },
  {
   "cell_type": "code",
   "execution_count": null,
   "metadata": {},
   "outputs": [],
   "source": [
    "display(df_all[df_all.isnull().any(axis=1)])"
   ]
  },
  {
   "cell_type": "markdown",
   "metadata": {},
   "source": [
    "#### Drop rows with missing values  "
   ]
  },
  {
   "cell_type": "code",
   "execution_count": null,
   "metadata": {},
   "outputs": [],
   "source": [
    "df = df_all.dropna().reset_index(drop=True)\n",
    "print(df.shape)\n",
    "display(df.head())"
   ]
  },
  {
   "cell_type": "markdown",
   "metadata": {},
   "source": [
    "#### Get X and y  "
   ]
  },
  {
   "cell_type": "code",
   "execution_count": null,
   "metadata": {},
   "outputs": [],
   "source": [
    "X = df.iloc[:, :-1]  # explanatory variables\n",
    "y = df['quality']  # objective variable\n",
    "print('X:', X.shape)\n",
    "display(X.head())\n",
    "print('y:', y.shape)\n",
    "print(y.head())"
   ]
  },
  {
   "cell_type": "markdown",
   "metadata": {},
   "source": [
    "#### Make pipeline and set parameters for grid search   "
   ]
  },
  {
   "cell_type": "code",
   "execution_count": null,
   "metadata": {},
   "outputs": [],
   "source": [
    "pipe = Pipeline([('scaler', MinMaxScaler(feature_range=(0, 1), copy=True)),\n",
    "                 ('svr', SVR(kernel='rbf'))])\n",
    "\n",
    "C_grid = [1e0, 1e1, 1e2, 1e3]  # np.logspace(0, 3, num=4)\n",
    "g_grid = [1e-4, 1e-3, 1e-2, 1e-1]  # np.logspace(-4, -1, num=4)\n",
    "e_grid = [1e-2, 1e-1, 1e0, 1e1, 1e2]  # np.logspace(-2, 2, num=5)\n",
    "\n",
    "# Hyperparameter settings for grid search\n",
    "param_grid = {\n",
    "    'svr__C': C_grid,\n",
    "    'svr__gamma' : g_grid,\n",
    "    'svr__epsilon' : e_grid,\n",
    "}"
   ]
  },
  {
   "cell_type": "markdown",
   "metadata": {},
   "source": [
    "#### Preparation of objects for cross validation  "
   ]
  },
  {
   "cell_type": "code",
   "execution_count": null,
   "metadata": {},
   "outputs": [],
   "source": [
    "grid_cv = KFold(n_splits=4, shuffle=True, random_state=7)  # for grid search\n",
    "gen_cv = KFold(n_splits=4, shuffle=True, random_state=11)  # for estimation of generalization performance"
   ]
  },
  {
   "cell_type": "markdown",
   "metadata": {},
   "source": [
    "#### Define the grid search for hyperparameters  "
   ]
  },
  {
   "cell_type": "code",
   "execution_count": null,
   "metadata": {},
   "outputs": [],
   "source": [
    "gs = GridSearchCV(pipe, param_grid , cv=grid_cv, scoring='neg_mean_squared_error')"
   ]
  },
  {
   "cell_type": "markdown",
   "metadata": {},
   "source": [
    "#### Estimation of generalization performance  "
   ]
  },
  {
   "cell_type": "code",
   "execution_count": null,
   "metadata": {},
   "outputs": [],
   "source": [
    "%%time\n",
    "nested_score = cross_val_score(gs, X=X, y=y, cv=gen_cv,\n",
    "                               scoring='neg_mean_squared_error')\n",
    "print(nested_score)\n",
    "print(np.sqrt(-nested_score.mean()))"
   ]
  },
  {
   "cell_type": "markdown",
   "metadata": {},
   "source": [
    "#### Cross-validation to obtain the model with the best hyperparameter set (best estimator)  \n",
    "- Note: gs_best is already fit to the whole data (X) in gs.fit(X,y)  "
   ]
  },
  {
   "cell_type": "code",
   "execution_count": null,
   "metadata": {},
   "outputs": [],
   "source": [
    "%%time\n",
    "gs.fit(X, y)\n",
    "gs_best = gs.best_estimator_"
   ]
  },
  {
   "cell_type": "code",
   "execution_count": null,
   "metadata": {},
   "outputs": [],
   "source": [
    "print(gs.best_params_)\n",
    "print(gs_best)"
   ]
  },
  {
   "cell_type": "markdown",
   "metadata": {},
   "source": [
    "#### Check the predictions during cross-validation   "
   ]
  },
  {
   "cell_type": "code",
   "execution_count": null,
   "metadata": {},
   "outputs": [],
   "source": [
    "pipe = Pipeline([('scaler', MinMaxScaler(feature_range=(0, 1), copy=True)),\n",
    "                 ('svr', SVR(C=100.0, epsilon=0.1, gamma=0.1, kernel='rbf'))])\n",
    "y_pred = cross_val_predict(pipe, X=X, y=y, cv=grid_cv)"
   ]
  },
  {
   "cell_type": "code",
   "execution_count": null,
   "metadata": {},
   "outputs": [],
   "source": [
    "y_min = np.append(y_pred, y).min()\n",
    "y_max = np.append(y_pred, y).max()\n",
    "y_margin = (y_max - y_min) * 0.1\n",
    "y_min -= y_margin\n",
    "y_max += y_margin\n",
    "\n",
    "plt.scatter(y_pred, y, alpha=0.1)\n",
    "plt.plot([y_min,y_max], [y_min,y_max])\n",
    "plt.gca().set_aspect('equal', adjustable='box')\n",
    "plt.xlim(y_min, y_max)\n",
    "plt.ylim(y_min, y_max)\n",
    "plt.xlabel('Pred')\n",
    "plt.ylabel('True')\n",
    "plt.show()"
   ]
  },
  {
   "cell_type": "markdown",
   "metadata": {},
   "source": [
    "#### Save the best predictor  "
   ]
  },
  {
   "cell_type": "code",
   "execution_count": null,
   "metadata": {},
   "outputs": [],
   "source": [
    "tag = 'wine'\n",
    "model_file = 'svr_best_{}.joblib'.format(tag)\n",
    "dump(gs_best, model_file)"
   ]
  },
  {
   "cell_type": "markdown",
   "metadata": {},
   "source": [
    "#### Demo for loading best SVR model from file and using it for predicton   "
   ]
  },
  {
   "cell_type": "code",
   "execution_count": null,
   "metadata": {},
   "outputs": [],
   "source": [
    "from joblib import load\n",
    "\n",
    "svr_from_file = load(model_file)\n",
    "y_pred_from_file = svr_from_file.predict(X)  # from file"
   ]
  },
  {
   "cell_type": "markdown",
   "metadata": {},
   "source": [
    "#### Compare the results with original prediction results  "
   ]
  },
  {
   "cell_type": "code",
   "execution_count": null,
   "metadata": {},
   "outputs": [],
   "source": [
    "from sklearn.metrics import mean_squared_error\n",
    "\n",
    "y_pred = gs_best.predict(X)  # original one\n",
    "print(mean_squared_error(y_pred, y_pred_from_file))"
   ]
  },
  {
   "cell_type": "markdown",
   "metadata": {},
   "source": [
    "#### Do prediction  "
   ]
  },
  {
   "cell_type": "code",
   "execution_count": null,
   "metadata": {},
   "outputs": [],
   "source": [
    "X_test = pd.DataFrame([\n",
    "  [8.0, 0.8, 0.3, 4.0, 0.08, 21, 64, 0.99, 3.2, 0.5, 9.0],\n",
    "  [6.5, 0.6, 0.1, 2.4, 0.06, 13, 29, 0.98, 3.4, 0.6, 11.7],\n",
    "], columns=X.columns)\n",
    "y_pred = svr_from_file.predict(X_test)\n",
    "print(y_pred)"
   ]
  },
  {
   "cell_type": "code",
   "execution_count": null,
   "metadata": {},
   "outputs": [],
   "source": []
  }
 ],
 "metadata": {
  "kernelspec": {
   "display_name": "Python 3 (ipykernel)",
   "language": "python",
   "name": "python3"
  },
  "language_info": {
   "codemirror_mode": {
    "name": "ipython",
    "version": 3
   },
   "file_extension": ".py",
   "mimetype": "text/x-python",
   "name": "python",
   "nbconvert_exporter": "python",
   "pygments_lexer": "ipython3",
   "version": "3.9.15"
  }
 },
 "nbformat": 4,
 "nbformat_minor": 4
}
