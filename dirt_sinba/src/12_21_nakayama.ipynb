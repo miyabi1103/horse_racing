{
 "cells": [
  {
   "cell_type": "code",
   "execution_count": 7,
   "id": "c87a29e0-c7d7-42ef-a369-f166ffa43edb",
   "metadata": {},
   "outputs": [
    {
     "name": "stdout",
     "output_type": "stream",
     "text": [
      "The autoreload extension is already loaded. To reload it, use:\n",
      "  %reload_ext autoreload\n"
     ]
    }
   ],
   "source": [
    "import create_population\n",
    "import create_population3\n",
    "import preprocessing\n",
    "from feature_engineering import FeatureCreator\n",
    "from feature_engineering_prediction import PredictionFeatureCreator\n",
    "\n",
    "import prediction\n",
    "from train_lgbm_rank_niti_cross import Trainer_lightgbm_rank_niti_cv\n",
    "from train_lgbm_rank_kaiki_cross import Trainer_lightgbm_rank_kaiki_cv\n",
    "from train_lgbm_time_cross import Trainer_lightgbm_time_cv\n",
    "\n",
    "from evaluation_lgbm_rank_niti_cross import Evaluator_lightgbm_rank_niti_cross\n",
    "\n",
    "import pandas as pd\n",
    "\n",
    "\n",
    "import condition_prediction\n",
    "\n",
    "\n",
    "from train_lightgbm_rank_niti import Trainer_lightgbm_rank_niti\n",
    "from train_lightgbm_time import Trainer_lightgbm_time\n",
    "from train_lightgbm_rank_kaiki import Trainer_lightgbm_rank_kaiki\n",
    "\n",
    "from evaluation_lightgbm_rank_niti import Evaluator_lightgbm_rank_niti\n",
    "from evaluation_lightgbm_time_kaiki import Evaluator_lightgbm_time_kaiki\n",
    "from evaluation_lightgbm_rank_kaiki import Evaluator_lightgbm_rank_kaiki\n",
    "from evaluation_pop import Evaluator_pop\n",
    "\n",
    "%load_ext autoreload"
   ]
  },
  {
   "cell_type": "code",
   "execution_count": 8,
   "id": "04abaacc-ef13-498c-beae-acc5c35555fa",
   "metadata": {},
   "outputs": [],
   "source": [
    "%autoreload"
   ]
  },
  {
   "cell_type": "code",
   "execution_count": 9,
   "id": "14f6778c-5ec8-4514-a080-dffd3e5077eb",
   "metadata": {},
   "outputs": [],
   "source": [
    "pd.set_option('display.max_columns', None)\n",
    "pd.set_option('display.max_rows', 100)"
   ]
  },
  {
   "cell_type": "code",
   "execution_count": 4,
   "id": "14926bdf-0196-45d9-90ed-1b696f1ca2a3",
   "metadata": {},
   "outputs": [],
   "source": [
    "population = create_population.create(from_=\"2016-01-01\", to_=\"2024-11-30\")"
   ]
  },
  {
   "cell_type": "code",
   "execution_count": null,
   "id": "d8dea595-9891-40bd-8cd8-91bcdefc6181",
   "metadata": {},
   "outputs": [],
   "source": []
  },
  {
   "cell_type": "code",
   "execution_count": 10,
   "id": "f0060581-45ab-4756-bee8-dc386144cb74",
   "metadata": {},
   "outputs": [
    {
     "name": "stderr",
     "output_type": "stream",
     "text": [
      "/Users/iniad/Documents/kenkyu_4/dirt_sinba/src/preprocessing.py:1309: FutureWarning: Downcasting object dtype arrays on .fillna, .ffill, .bfill is deprecated and will change in a future version. Call result.infer_objects(copy=False) instead. To opt-in to the future behavior, set `pd.set_option('future.no_silent_downcasting', True)`\n",
      "  df[\"place_course_category\"] = df[\"place_course_category\"].fillna(-1).astype(int)\n"
     ]
    },
    {
     "data": {
      "application/vnd.jupyter.widget-view+json": {
       "model_id": "5c6840b9ec8046f1b2e22a5f168ef12f",
       "version_major": 2,
       "version_minor": 0
      },
      "text/plain": [
       "agg_horse_n_races_relative:   0%|          | 0/4 [00:00<?, ?it/s]"
      ]
     },
     "metadata": {},
     "output_type": "display_data"
    }
   ],
   "source": [
    "# 当日出走馬の過去成績テーブルの前処理_そのままで使えない未加工のデータを加工する\n",
    "horse_results_preprocessed = preprocessing.process_horse_results(\n",
    "    input_filename=\"horse_results_prediction.csv\",\n",
    "    output_filename=\"horse_results_prediction.csv\"\n",
    ")\n",
    "horse_results_preprocessed\n",
    "\n",
    "# 当日出走馬の血統テーブルの前処理\n",
    "peds_preprocessed = preprocessing.process_peds(\n",
    "    input_filename=\"peds_prediction.csv\",\n",
    "    output_filename=\"peds_prediction.csv\"\n",
    ")\n",
    "peds_preprocessed\n",
    "\n",
    "pfc = PredictionFeatureCreator()\n",
    "# 過去成績集計は事前に行うことができる\n",
    "pfc.create_baselog()\n",
    "pfc.agg_horse_n_races()\n",
    "pfc.agg_horse_n_races_relative()\n",
    "pfc.agg_horse_n_races_df\n",
    "\n",
    "# レース結果テーブルの前処理\n",
    "results_preprocessed = condition_prediction.process_results()\n",
    "# レース情報テーブルの前処理\n",
    "race_info_preprocessed = condition_prediction.process_race_info()\n",
    "create_race_grade_preprocessed = condition_prediction.create_race_grade()\n"
   ]
  },
  {
   "cell_type": "markdown",
   "id": "c4a85c56-eada-4eef-a65e-8e29891e5f38",
   "metadata": {},
   "source": [
    "###　12/21 第6回目レース"
   ]
  },
  {
   "cell_type": "code",
   "execution_count": 11,
   "id": "059825b0-535c-49bd-840d-f1b5ab69254f",
   "metadata": {},
   "outputs": [
    {
     "name": "stdout",
     "output_type": "stream",
     "text": [
      "fetching shutuba page html...\n",
      "fetching shutuba page html...comp\n",
      "0    2023\n",
      "Name: date_year, dtype: int32\n",
      "running cross_features()...comp\n",
      "running agg_interval()...comp\n"
     ]
    },
    {
     "name": "stderr",
     "output_type": "stream",
     "text": [
      "/Users/iniad/Documents/kenkyu_4/dirt_sinba/src/feature_engineering_prediction.py:643: FutureWarning: Downcasting object dtype arrays on .fillna, .ffill, .bfill is deprecated and will change in a future version. Call result.infer_objects(copy=False) instead. To opt-in to the future behavior, set `pd.set_option('future.no_silent_downcasting', True)`\n",
      "  df[\"place_course_category\"] = df[\"place_course_category\"].fillna(-1).astype(int)\n",
      "/Users/iniad/Documents/kenkyu_4/dirt_sinba/src/feature_engineering_prediction.py:826: FutureWarning: Downcasting object dtype arrays on .fillna, .ffill, .bfill is deprecated and will change in a future version. Call result.infer_objects(copy=False) instead. To opt-in to the future behavior, set `pd.set_option('future.no_silent_downcasting', True)`\n",
      "  df[['goal_range', 'curve', 'goal_slope']] = df[['goal_range', 'curve', 'goal_slope']].fillna(-1).astype(int)\n"
     ]
    },
    {
     "name": "stdout",
     "output_type": "stream",
     "text": [
      "running cross_features_2()...comp\n"
     ]
    },
    {
     "data": {
      "application/vnd.jupyter.widget-view+json": {
       "model_id": "53829b1e9d0544b48c5930dbc8c4e897",
       "version_major": 2,
       "version_minor": 0
      },
      "text/plain": [
       "agg_cross_encoded:   0%|          | 0/4 [00:00<?, ?it/s]"
      ]
     },
     "metadata": {},
     "output_type": "display_data"
    },
    {
     "name": "stdout",
     "output_type": "stream",
     "text": [
      "running cross_features_3()...comp\n"
     ]
    },
    {
     "data": {
      "application/vnd.jupyter.widget-view+json": {
       "model_id": "961922b1fcca48fd8e65fae5609945a1",
       "version_major": 2,
       "version_minor": 0
      },
      "text/plain": [
       "agg_cross_zizoku_syunpatu:   0%|          | 0/4 [00:00<?, ?it/s]"
      ]
     },
     "metadata": {},
     "output_type": "display_data"
    },
    {
     "name": "stdout",
     "output_type": "stream",
     "text": [
      "running cross_features_4()...comp\n",
      "running cross_features_5()...comp\n",
      "running cross_features_6()...comp\n"
     ]
    },
    {
     "data": {
      "application/vnd.jupyter.widget-view+json": {
       "model_id": "ae9b3fdc9b5c4d099435bea7bb1c004a",
       "version_major": 2,
       "version_minor": 0
      },
      "text/plain": [
       "pace_category_win_1:   0%|          | 0/4 [00:00<?, ?it/s]"
      ]
     },
     "metadata": {},
     "output_type": "display_data"
    },
    {
     "data": {
      "application/vnd.jupyter.widget-view+json": {
       "model_id": "d6d64de5e06f46cf90420bc31ba8986d",
       "version_major": 2,
       "version_minor": 0
      },
      "text/plain": [
       "pace_category_win_2:   0%|          | 0/4 [00:00<?, ?it/s]"
      ]
     },
     "metadata": {},
     "output_type": "display_data"
    },
    {
     "data": {
      "application/vnd.jupyter.widget-view+json": {
       "model_id": "796f86a9c83d45418f67f0d67c458d24",
       "version_major": 2,
       "version_minor": 0
      },
      "text/plain": [
       "pace_category_win_3:   0%|          | 0/4 [00:00<?, ?it/s]"
      ]
     },
     "metadata": {},
     "output_type": "display_data"
    },
    {
     "data": {
      "application/vnd.jupyter.widget-view+json": {
       "model_id": "0f96d0e08d244864978fb0ade09be6b8",
       "version_major": 2,
       "version_minor": 0
      },
      "text/plain": [
       "pace_category_win_4:   0%|          | 0/4 [00:00<?, ?it/s]"
      ]
     },
     "metadata": {},
     "output_type": "display_data"
    },
    {
     "name": "stdout",
     "output_type": "stream",
     "text": [
      "running cross_features_7()...comp\n"
     ]
    },
    {
     "data": {
      "application/vnd.jupyter.widget-view+json": {
       "model_id": "efe915eb82d846a5b5e9102879b80232",
       "version_major": 2,
       "version_minor": 0
      },
      "text/plain": [
       "agg_pace_per_score:   0%|          | 0/4 [00:00<?, ?it/s]"
      ]
     },
     "metadata": {},
     "output_type": "display_data"
    },
    {
     "name": "stdout",
     "output_type": "stream",
     "text": [
      "running cross_features_8()...comp\n"
     ]
    },
    {
     "data": {
      "application/vnd.jupyter.widget-view+json": {
       "model_id": "7897fe2f05c347399b8f7618ed5aa0f0",
       "version_major": 2,
       "version_minor": 0
      },
      "text/plain": [
       "agg_goal_per_score:   0%|          | 0/4 [00:00<?, ?it/s]"
      ]
     },
     "metadata": {},
     "output_type": "display_data"
    },
    {
     "name": "stdout",
     "output_type": "stream",
     "text": [
      "running cross_features_9()...comp\n"
     ]
    },
    {
     "data": {
      "application/vnd.jupyter.widget-view+json": {
       "model_id": "939e192db35745579341628b5a250ce3",
       "version_major": 2,
       "version_minor": 0
      },
      "text/plain": [
       "agg_curve_per_score:   0%|          | 0/4 [00:00<?, ?it/s]"
      ]
     },
     "metadata": {},
     "output_type": "display_data"
    },
    {
     "name": "stdout",
     "output_type": "stream",
     "text": [
      "running cross_features_10()...comp\n"
     ]
    },
    {
     "data": {
      "application/vnd.jupyter.widget-view+json": {
       "model_id": "5f2673cea2db4688a865d68e25774e13",
       "version_major": 2,
       "version_minor": 0
      },
      "text/plain": [
       "agg_goal_slope_per_score:   0%|          | 0/4 [00:00<?, ?it/s]"
      ]
     },
     "metadata": {},
     "output_type": "display_data"
    },
    {
     "name": "stdout",
     "output_type": "stream",
     "text": [
      "running cross_features_11()...comp\n"
     ]
    },
    {
     "data": {
      "application/vnd.jupyter.widget-view+json": {
       "model_id": "338ffe3e1dfb423f9c9dbdd611a92d27",
       "version_major": 2,
       "version_minor": 0
      },
      "text/plain": [
       "agg_stamina_per_score:   0%|          | 0/4 [00:00<?, ?it/s]"
      ]
     },
     "metadata": {},
     "output_type": "display_data"
    },
    {
     "name": "stdout",
     "output_type": "stream",
     "text": [
      "running cross_features_12()...comp\n"
     ]
    },
    {
     "data": {
      "application/vnd.jupyter.widget-view+json": {
       "model_id": "dcb539dbb38e4b9e9bb9582bf1b8aaba",
       "version_major": 2,
       "version_minor": 0
      },
      "text/plain": [
       "agg_pace_per_score:   0%|          | 0/4 [00:00<?, ?it/s]"
      ]
     },
     "metadata": {},
     "output_type": "display_data"
    },
    {
     "data": {
      "application/vnd.jupyter.widget-view+json": {
       "model_id": "4d7e81e13fd749888b2bd21e2b0ece47",
       "version_major": 2,
       "version_minor": 0
      },
      "text/plain": [
       "agg_goal_per_score:   0%|          | 0/4 [00:00<?, ?it/s]"
      ]
     },
     "metadata": {},
     "output_type": "display_data"
    },
    {
     "data": {
      "application/vnd.jupyter.widget-view+json": {
       "model_id": "c9caca36dc4c467380c1d8f5ec7a731e",
       "version_major": 2,
       "version_minor": 0
      },
      "text/plain": [
       "agg_curve_per_score:   0%|          | 0/4 [00:00<?, ?it/s]"
      ]
     },
     "metadata": {},
     "output_type": "display_data"
    },
    {
     "data": {
      "application/vnd.jupyter.widget-view+json": {
       "model_id": "d97c55c208cc4bf2b9e82a6c659a1517",
       "version_major": 2,
       "version_minor": 0
      },
      "text/plain": [
       "agg_goal_slope_per_score:   0%|          | 0/4 [00:00<?, ?it/s]"
      ]
     },
     "metadata": {},
     "output_type": "display_data"
    },
    {
     "data": {
      "application/vnd.jupyter.widget-view+json": {
       "model_id": "b9e0abfe6bba4f4b9dc9d8610a4deaed",
       "version_major": 2,
       "version_minor": 0
      },
      "text/plain": [
       "agg_stamina_per_score:   0%|          | 0/4 [00:00<?, ?it/s]"
      ]
     },
     "metadata": {},
     "output_type": "display_data"
    },
    {
     "name": "stdout",
     "output_type": "stream",
     "text": [
      "running cross_features_13()...comp\n"
     ]
    },
    {
     "data": {
      "application/vnd.jupyter.widget-view+json": {
       "model_id": "3bb940ae45b64a5680458bdaba09ad17",
       "version_major": 2,
       "version_minor": 0
      },
      "text/plain": [
       "agg_raceclass_rankdiff_per_score:   0%|          | 0/4 [00:00<?, ?it/s]"
      ]
     },
     "metadata": {},
     "output_type": "display_data"
    },
    {
     "name": "stdout",
     "output_type": "stream",
     "text": [
      "running cross_features_14()...comp\n"
     ]
    },
    {
     "data": {
      "application/vnd.jupyter.widget-view+json": {
       "model_id": "739a8651ef01451b8ba7b62096313709",
       "version_major": 2,
       "version_minor": 0
      },
      "text/plain": [
       "speed_index:   0%|          | 0/4 [00:00<?, ?it/s]"
      ]
     },
     "metadata": {},
     "output_type": "display_data"
    },
    {
     "name": "stdout",
     "output_type": "stream",
     "text": [
      "running cross_features_15()...comp\n"
     ]
    },
    {
     "data": {
      "application/vnd.jupyter.widget-view+json": {
       "model_id": "f2cb5d70a9fe4f5487006c952e076a81",
       "version_major": 2,
       "version_minor": 0
      },
      "text/plain": [
       "agg_horse_per_course_len:   0%|          | 0/4 [00:00<?, ?it/s]"
      ]
     },
     "metadata": {},
     "output_type": "display_data"
    },
    {
     "data": {
      "application/vnd.jupyter.widget-view+json": {
       "model_id": "f23fa88854cc4e89b6b1b39d16cbca52",
       "version_major": 2,
       "version_minor": 0
      },
      "text/plain": [
       "agg_horse_per_ground_state_race_type:   0%|          | 0/4 [00:00<?, ?it/s]"
      ]
     },
     "metadata": {},
     "output_type": "display_data"
    },
    {
     "data": {
      "application/vnd.jupyter.widget-view+json": {
       "model_id": "24447a2b1a944b0bbd25d10949fda8f2",
       "version_major": 2,
       "version_minor": 0
      },
      "text/plain": [
       "agg_horse_per_race_grade:   0%|          | 0/4 [00:00<?, ?it/s]"
      ]
     },
     "metadata": {},
     "output_type": "display_data"
    },
    {
     "data": {
      "application/vnd.jupyter.widget-view+json": {
       "model_id": "0bf9ccaddd85452e811deb5e211c028d",
       "version_major": 2,
       "version_minor": 0
      },
      "text/plain": [
       "agg_horse_per_race_type:   0%|          | 0/4 [00:00<?, ?it/s]"
      ]
     },
     "metadata": {},
     "output_type": "display_data"
    },
    {
     "data": {
      "application/vnd.jupyter.widget-view+json": {
       "model_id": "928ac27d949840b58c971c6656dce4b8",
       "version_major": 2,
       "version_minor": 0
      },
      "text/plain": [
       "agg_horse_per_race_place_len:   0%|          | 0/4 [00:00<?, ?it/s]"
      ]
     },
     "metadata": {},
     "output_type": "display_data"
    },
    {
     "data": {
      "application/vnd.jupyter.widget-view+json": {
       "model_id": "386358667fd042f19c89a638e605f30e",
       "version_major": 2,
       "version_minor": 0
      },
      "text/plain": [
       "agg_horse_per_race_place:   0%|          | 0/4 [00:00<?, ?it/s]"
      ]
     },
     "metadata": {},
     "output_type": "display_data"
    },
    {
     "data": {
      "application/vnd.jupyter.widget-view+json": {
       "model_id": "997c74eb16144680b9146f95010e1a14",
       "version_major": 2,
       "version_minor": 0
      },
      "text/plain": [
       "agg_horse_per_weather:   0%|          | 0/4 [00:00<?, ?it/s]"
      ]
     },
     "metadata": {},
     "output_type": "display_data"
    },
    {
     "name": "stdout",
     "output_type": "stream",
     "text": [
      "running agg_jockey()...\n",
      "running agg_trainer()...\n",
      "running agg_sire()...\n",
      "running agg_bms()...\n",
      "running agg_bms()...comp\n",
      "merging all features...\n",
      "merging all features...comp\n"
     ]
    }
   ],
   "source": [
    "# 特徴量の更新\n",
    "features = pfc.create_features(\n",
    "    race_id=\"202406050706\",  # 予測するレースidを指定\n",
    "    date_content_a = \"2024年12月21日\", #\"%Y年%m月%d日\"形式で該当レース当日の日付を入れてください    \n",
    "    skip_agg_horse=True  # 事前に集計した場合はスキップできる\n",
    ")"
   ]
  },
  {
   "cell_type": "code",
   "execution_count": null,
   "id": "8e861e83-9c61-471b-ad57-260428916769",
   "metadata": {},
   "outputs": [],
   "source": [
    "pfc.results"
   ]
  },
  {
   "cell_type": "code",
   "execution_count": null,
   "id": "f19f7ea7-056d-49c8-9ce8-188ac535be34",
   "metadata": {},
   "outputs": [],
   "source": [
    "pfc.race_info"
   ]
  },
  {
   "cell_type": "code",
   "execution_count": 13,
   "id": "bc1aee51-9e3b-4949-81ba-867958a73a87",
   "metadata": {
    "collapsed": true,
    "jupyter": {
     "outputs_hidden": true
    },
    "scrolled": true
   },
   "outputs": [
    {
     "name": "stderr",
     "output_type": "stream",
     "text": [
      "[LightGBM] [Fatal] The number of features in data (195) is not the same as it was in training data (3066).\n",
      "You can set ``predict_disable_shape_check=true`` to discard this error, but please be aware what you are doing.\n"
     ]
    },
    {
     "ename": "LightGBMError",
     "evalue": "The number of features in data (195) is not the same as it was in training data (3066).\nYou can set ``predict_disable_shape_check=true`` to discard this error, but please be aware what you are doing.",
     "output_type": "error",
     "traceback": [
      "\u001b[0;31m---------------------------------------------------------------------------\u001b[0m",
      "\u001b[0;31mLightGBMError\u001b[0m                             Traceback (most recent call last)",
      "Cell \u001b[0;32mIn[13], line 2\u001b[0m\n\u001b[1;32m      1\u001b[0m \u001b[38;5;66;03m# オッズ除外モデルでの予測、time、ホールドアウト\u001b[39;00m\n\u001b[0;32m----> 2\u001b[0m prediction\u001b[38;5;241m.\u001b[39mpredict(\n\u001b[1;32m      3\u001b[0m     features,\n\u001b[1;32m      4\u001b[0m     model_filename\u001b[38;5;241m=\u001b[39m\u001b[38;5;124m\"\u001b[39m\u001b[38;5;124mmodel_lightgbm_time_odds_removed.pkl\u001b[39m\u001b[38;5;124m\"\u001b[39m,\n\u001b[1;32m      5\u001b[0m     config_filepath\u001b[38;5;241m=\u001b[39m\u001b[38;5;124m\"\u001b[39m\u001b[38;5;124mconfig_lightgbm_kaiki_odds_removed.yaml\u001b[39m\u001b[38;5;124m\"\u001b[39m\n\u001b[1;32m      6\u001b[0m )\n",
      "File \u001b[0;32m~/Documents/kenkyu_4/dirt_sinba/src/prediction.py:61\u001b[0m, in \u001b[0;36mpredict\u001b[0;34m(features, model_dir, model_filename, config_filepath)\u001b[0m\n\u001b[1;32m     20\u001b[0m     model \u001b[38;5;241m=\u001b[39m pickle\u001b[38;5;241m.\u001b[39mload(f)\n\u001b[1;32m     21\u001b[0m prediction_df \u001b[38;5;241m=\u001b[39m features[[\n\u001b[1;32m     22\u001b[0m     \u001b[38;5;124m\"\u001b[39m\u001b[38;5;124mrace_id\u001b[39m\u001b[38;5;124m\"\u001b[39m, \n\u001b[1;32m     23\u001b[0m     \u001b[38;5;124m\"\u001b[39m\u001b[38;5;124mumaban\u001b[39m\u001b[38;5;124m\"\u001b[39m,               \n\u001b[0;32m   (...)\u001b[0m\n\u001b[1;32m     59\u001b[0m \n\u001b[1;32m     60\u001b[0m                          ]]\u001b[38;5;241m.\u001b[39mcopy()\n\u001b[0;32m---> 61\u001b[0m prediction_df[\u001b[38;5;124m\"\u001b[39m\u001b[38;5;124mpred\u001b[39m\u001b[38;5;124m\"\u001b[39m] \u001b[38;5;241m=\u001b[39m model\u001b[38;5;241m.\u001b[39mpredict(features[feature_cols])\n\u001b[1;32m     62\u001b[0m \u001b[38;5;28;01mreturn\u001b[39;00m prediction_df\u001b[38;5;241m.\u001b[39msort_values(\u001b[38;5;124m\"\u001b[39m\u001b[38;5;124mpred\u001b[39m\u001b[38;5;124m\"\u001b[39m, ascending\u001b[38;5;241m=\u001b[39m\u001b[38;5;28;01mFalse\u001b[39;00m)\n",
      "File \u001b[0;32m~/miniconda3/envs/kenkyu4/lib/python3.11/site-packages/lightgbm/basic.py:4748\u001b[0m, in \u001b[0;36mBooster.predict\u001b[0;34m(self, data, start_iteration, num_iteration, raw_score, pred_leaf, pred_contrib, data_has_header, validate_features, **kwargs)\u001b[0m\n\u001b[1;32m   4746\u001b[0m     \u001b[38;5;28;01melse\u001b[39;00m:\n\u001b[1;32m   4747\u001b[0m         num_iteration \u001b[38;5;241m=\u001b[39m \u001b[38;5;241m-\u001b[39m\u001b[38;5;241m1\u001b[39m\n\u001b[0;32m-> 4748\u001b[0m \u001b[38;5;28;01mreturn\u001b[39;00m predictor\u001b[38;5;241m.\u001b[39mpredict(\n\u001b[1;32m   4749\u001b[0m     data\u001b[38;5;241m=\u001b[39mdata,\n\u001b[1;32m   4750\u001b[0m     start_iteration\u001b[38;5;241m=\u001b[39mstart_iteration,\n\u001b[1;32m   4751\u001b[0m     num_iteration\u001b[38;5;241m=\u001b[39mnum_iteration,\n\u001b[1;32m   4752\u001b[0m     raw_score\u001b[38;5;241m=\u001b[39mraw_score,\n\u001b[1;32m   4753\u001b[0m     pred_leaf\u001b[38;5;241m=\u001b[39mpred_leaf,\n\u001b[1;32m   4754\u001b[0m     pred_contrib\u001b[38;5;241m=\u001b[39mpred_contrib,\n\u001b[1;32m   4755\u001b[0m     data_has_header\u001b[38;5;241m=\u001b[39mdata_has_header,\n\u001b[1;32m   4756\u001b[0m     validate_features\u001b[38;5;241m=\u001b[39mvalidate_features,\n\u001b[1;32m   4757\u001b[0m )\n",
      "File \u001b[0;32m~/miniconda3/envs/kenkyu4/lib/python3.11/site-packages/lightgbm/basic.py:1185\u001b[0m, in \u001b[0;36m_InnerPredictor.predict\u001b[0;34m(self, data, start_iteration, num_iteration, raw_score, pred_leaf, pred_contrib, data_has_header, validate_features)\u001b[0m\n\u001b[1;32m   1178\u001b[0m     preds, nrow \u001b[38;5;241m=\u001b[39m \u001b[38;5;28mself\u001b[39m\u001b[38;5;241m.\u001b[39m__pred_for_csc(\n\u001b[1;32m   1179\u001b[0m         csc\u001b[38;5;241m=\u001b[39mdata,\n\u001b[1;32m   1180\u001b[0m         start_iteration\u001b[38;5;241m=\u001b[39mstart_iteration,\n\u001b[1;32m   1181\u001b[0m         num_iteration\u001b[38;5;241m=\u001b[39mnum_iteration,\n\u001b[1;32m   1182\u001b[0m         predict_type\u001b[38;5;241m=\u001b[39mpredict_type,\n\u001b[1;32m   1183\u001b[0m     )\n\u001b[1;32m   1184\u001b[0m \u001b[38;5;28;01melif\u001b[39;00m \u001b[38;5;28misinstance\u001b[39m(data, np\u001b[38;5;241m.\u001b[39mndarray):\n\u001b[0;32m-> 1185\u001b[0m     preds, nrow \u001b[38;5;241m=\u001b[39m \u001b[38;5;28mself\u001b[39m\u001b[38;5;241m.\u001b[39m__pred_for_np2d(\n\u001b[1;32m   1186\u001b[0m         mat\u001b[38;5;241m=\u001b[39mdata,\n\u001b[1;32m   1187\u001b[0m         start_iteration\u001b[38;5;241m=\u001b[39mstart_iteration,\n\u001b[1;32m   1188\u001b[0m         num_iteration\u001b[38;5;241m=\u001b[39mnum_iteration,\n\u001b[1;32m   1189\u001b[0m         predict_type\u001b[38;5;241m=\u001b[39mpredict_type,\n\u001b[1;32m   1190\u001b[0m     )\n\u001b[1;32m   1191\u001b[0m \u001b[38;5;28;01melif\u001b[39;00m _is_pyarrow_table(data):\n\u001b[1;32m   1192\u001b[0m     preds, nrow \u001b[38;5;241m=\u001b[39m \u001b[38;5;28mself\u001b[39m\u001b[38;5;241m.\u001b[39m__pred_for_pyarrow_table(\n\u001b[1;32m   1193\u001b[0m         table\u001b[38;5;241m=\u001b[39mdata,\n\u001b[1;32m   1194\u001b[0m         start_iteration\u001b[38;5;241m=\u001b[39mstart_iteration,\n\u001b[1;32m   1195\u001b[0m         num_iteration\u001b[38;5;241m=\u001b[39mnum_iteration,\n\u001b[1;32m   1196\u001b[0m         predict_type\u001b[38;5;241m=\u001b[39mpredict_type,\n\u001b[1;32m   1197\u001b[0m     )\n",
      "File \u001b[0;32m~/miniconda3/envs/kenkyu4/lib/python3.11/site-packages/lightgbm/basic.py:1344\u001b[0m, in \u001b[0;36m_InnerPredictor.__pred_for_np2d\u001b[0;34m(self, mat, start_iteration, num_iteration, predict_type)\u001b[0m\n\u001b[1;32m   1342\u001b[0m     \u001b[38;5;28;01mreturn\u001b[39;00m preds, nrow\n\u001b[1;32m   1343\u001b[0m \u001b[38;5;28;01melse\u001b[39;00m:\n\u001b[0;32m-> 1344\u001b[0m     \u001b[38;5;28;01mreturn\u001b[39;00m \u001b[38;5;28mself\u001b[39m\u001b[38;5;241m.\u001b[39m__inner_predict_np2d(\n\u001b[1;32m   1345\u001b[0m         mat\u001b[38;5;241m=\u001b[39mmat,\n\u001b[1;32m   1346\u001b[0m         start_iteration\u001b[38;5;241m=\u001b[39mstart_iteration,\n\u001b[1;32m   1347\u001b[0m         num_iteration\u001b[38;5;241m=\u001b[39mnum_iteration,\n\u001b[1;32m   1348\u001b[0m         predict_type\u001b[38;5;241m=\u001b[39mpredict_type,\n\u001b[1;32m   1349\u001b[0m         preds\u001b[38;5;241m=\u001b[39m\u001b[38;5;28;01mNone\u001b[39;00m,\n\u001b[1;32m   1350\u001b[0m     )\n",
      "File \u001b[0;32m~/miniconda3/envs/kenkyu4/lib/python3.11/site-packages/lightgbm/basic.py:1290\u001b[0m, in \u001b[0;36m_InnerPredictor.__inner_predict_np2d\u001b[0;34m(self, mat, start_iteration, num_iteration, predict_type, preds)\u001b[0m\n\u001b[1;32m   1288\u001b[0m     \u001b[38;5;28;01mraise\u001b[39;00m \u001b[38;5;167;01mValueError\u001b[39;00m(\u001b[38;5;124m\"\u001b[39m\u001b[38;5;124mWrong length of pre-allocated predict array\u001b[39m\u001b[38;5;124m\"\u001b[39m)\n\u001b[1;32m   1289\u001b[0m out_num_preds \u001b[38;5;241m=\u001b[39m ctypes\u001b[38;5;241m.\u001b[39mc_int64(\u001b[38;5;241m0\u001b[39m)\n\u001b[0;32m-> 1290\u001b[0m _safe_call(\n\u001b[1;32m   1291\u001b[0m     _LIB\u001b[38;5;241m.\u001b[39mLGBM_BoosterPredictForMat(\n\u001b[1;32m   1292\u001b[0m         \u001b[38;5;28mself\u001b[39m\u001b[38;5;241m.\u001b[39m_handle,\n\u001b[1;32m   1293\u001b[0m         ptr_data,\n\u001b[1;32m   1294\u001b[0m         ctypes\u001b[38;5;241m.\u001b[39mc_int(type_ptr_data),\n\u001b[1;32m   1295\u001b[0m         ctypes\u001b[38;5;241m.\u001b[39mc_int32(mat\u001b[38;5;241m.\u001b[39mshape[\u001b[38;5;241m0\u001b[39m]),\n\u001b[1;32m   1296\u001b[0m         ctypes\u001b[38;5;241m.\u001b[39mc_int32(mat\u001b[38;5;241m.\u001b[39mshape[\u001b[38;5;241m1\u001b[39m]),\n\u001b[1;32m   1297\u001b[0m         ctypes\u001b[38;5;241m.\u001b[39mc_int(_C_API_IS_ROW_MAJOR),\n\u001b[1;32m   1298\u001b[0m         ctypes\u001b[38;5;241m.\u001b[39mc_int(predict_type),\n\u001b[1;32m   1299\u001b[0m         ctypes\u001b[38;5;241m.\u001b[39mc_int(start_iteration),\n\u001b[1;32m   1300\u001b[0m         ctypes\u001b[38;5;241m.\u001b[39mc_int(num_iteration),\n\u001b[1;32m   1301\u001b[0m         _c_str(\u001b[38;5;28mself\u001b[39m\u001b[38;5;241m.\u001b[39mpred_parameter),\n\u001b[1;32m   1302\u001b[0m         ctypes\u001b[38;5;241m.\u001b[39mbyref(out_num_preds),\n\u001b[1;32m   1303\u001b[0m         preds\u001b[38;5;241m.\u001b[39mctypes\u001b[38;5;241m.\u001b[39mdata_as(ctypes\u001b[38;5;241m.\u001b[39mPOINTER(ctypes\u001b[38;5;241m.\u001b[39mc_double)),\n\u001b[1;32m   1304\u001b[0m     )\n\u001b[1;32m   1305\u001b[0m )\n\u001b[1;32m   1306\u001b[0m \u001b[38;5;28;01mif\u001b[39;00m n_preds \u001b[38;5;241m!=\u001b[39m out_num_preds\u001b[38;5;241m.\u001b[39mvalue:\n\u001b[1;32m   1307\u001b[0m     \u001b[38;5;28;01mraise\u001b[39;00m \u001b[38;5;167;01mValueError\u001b[39;00m(\u001b[38;5;124m\"\u001b[39m\u001b[38;5;124mWrong length for predict results\u001b[39m\u001b[38;5;124m\"\u001b[39m)\n",
      "File \u001b[0;32m~/miniconda3/envs/kenkyu4/lib/python3.11/site-packages/lightgbm/basic.py:296\u001b[0m, in \u001b[0;36m_safe_call\u001b[0;34m(ret)\u001b[0m\n\u001b[1;32m    288\u001b[0m \u001b[38;5;250m\u001b[39m\u001b[38;5;124;03m\"\"\"Check the return value from C API call.\u001b[39;00m\n\u001b[1;32m    289\u001b[0m \n\u001b[1;32m    290\u001b[0m \u001b[38;5;124;03mParameters\u001b[39;00m\n\u001b[0;32m   (...)\u001b[0m\n\u001b[1;32m    293\u001b[0m \u001b[38;5;124;03m    The return value from C API calls.\u001b[39;00m\n\u001b[1;32m    294\u001b[0m \u001b[38;5;124;03m\"\"\"\u001b[39;00m\n\u001b[1;32m    295\u001b[0m \u001b[38;5;28;01mif\u001b[39;00m ret \u001b[38;5;241m!=\u001b[39m \u001b[38;5;241m0\u001b[39m:\n\u001b[0;32m--> 296\u001b[0m     \u001b[38;5;28;01mraise\u001b[39;00m LightGBMError(_LIB\u001b[38;5;241m.\u001b[39mLGBM_GetLastError()\u001b[38;5;241m.\u001b[39mdecode(\u001b[38;5;124m\"\u001b[39m\u001b[38;5;124mutf-8\u001b[39m\u001b[38;5;124m\"\u001b[39m))\n",
      "\u001b[0;31mLightGBMError\u001b[0m: The number of features in data (195) is not the same as it was in training data (3066).\nYou can set ``predict_disable_shape_check=true`` to discard this error, but please be aware what you are doing."
     ]
    }
   ],
   "source": [
    "# オッズ除外モデルでの予測、time、ホールドアウト\n",
    "prediction.predict(\n",
    "    features,\n",
    "    model_filename=\"model_lightgbm_time_odds_removed.pkl\",\n",
    "    config_filepath=\"config_lightgbm_kaiki_odds_removed.yaml\"\n",
    ")"
   ]
  },
  {
   "cell_type": "code",
   "execution_count": 12,
   "id": "38e647c1-5a50-4e01-9a8e-ab24a7862696",
   "metadata": {},
   "outputs": [
    {
     "data": {
      "text/html": [
       "<div>\n",
       "<style scoped>\n",
       "    .dataframe tbody tr th:only-of-type {\n",
       "        vertical-align: middle;\n",
       "    }\n",
       "\n",
       "    .dataframe tbody tr th {\n",
       "        vertical-align: top;\n",
       "    }\n",
       "\n",
       "    .dataframe thead th {\n",
       "        text-align: right;\n",
       "    }\n",
       "</style>\n",
       "<table border=\"1\" class=\"dataframe\">\n",
       "  <thead>\n",
       "    <tr style=\"text-align: right;\">\n",
       "      <th></th>\n",
       "      <th>race_id</th>\n",
       "      <th>umaban</th>\n",
       "      <th>tansho_odds</th>\n",
       "      <th>popularity</th>\n",
       "      <th>mean_fukusho_rate_wakuban</th>\n",
       "      <th>mean_fukusho_rate_umaban</th>\n",
       "      <th>distance_place_type_ground_state_encoded_time_diff_mean_3races_cross_encoded_relative</th>\n",
       "      <th>distance_place_type_ground_state_encoded_time_diff_min_3races_cross_encoded_relative</th>\n",
       "      <th>syunpatu_mean_3races_encoded</th>\n",
       "      <th>zizoku_mean_3races_encoded</th>\n",
       "      <th>dominant_position_category</th>\n",
       "      <th>pace_category</th>\n",
       "      <th>ground_state_level</th>\n",
       "      <th>rentai_for_pace_category_n5_relative</th>\n",
       "      <th>score_pace_potision_mean_3races_per_score_raw_relative</th>\n",
       "      <th>mean_5races_sum_relative</th>\n",
       "      <th>tenkai_combined_standardized</th>\n",
       "      <th>tenkai_all_combined_standardized</th>\n",
       "      <th>race_grade_rank_diff_sum_mean_3races_grade_rankdiff_score_plus_tenkai_combined_standardized</th>\n",
       "      <th>race_grade_rank_diff_multi_mean_3races_grade_rankdiff_score_plus_tenkai_combined_standardized</th>\n",
       "      <th>race_grade_rank_diff_sum_mean_3races_grade_rankdiff_score_plus_tenkai_all_combined_standardized</th>\n",
       "      <th>race_grade_rank_diff_multi_mean_3races_grade_rankdiff_score_plus_tenkai_all_combined_standardized</th>\n",
       "      <th>race_grade_rank_diff_sum_mean_3races_grade_rankdiff_score_px_tenkai_combined_standardized</th>\n",
       "      <th>race_grade_rank_diff_multi_mean_3races_grade_rankdiff_score_px_tenkai_combined_standardized</th>\n",
       "      <th>race_grade_rank_diff_sum_mean_3races_grade_rankdiff_score_px_tenkai_all_combined_standardized</th>\n",
       "      <th>race_grade_rank_diff_multi_mean_3races_grade_rankdiff_score_px_tenkai_all_combined_standardized</th>\n",
       "      <th>speed_index_mean_3races</th>\n",
       "      <th>nobori_index_mean_3races</th>\n",
       "      <th>speed_index_min_5races</th>\n",
       "      <th>nobori_index_min_5races</th>\n",
       "      <th>speed_index_mean_3races_relative</th>\n",
       "      <th>nobori_index_mean_3races_relative</th>\n",
       "      <th>pred</th>\n",
       "    </tr>\n",
       "  </thead>\n",
       "  <tbody>\n",
       "    <tr>\n",
       "      <th>12</th>\n",
       "      <td>202406050706</td>\n",
       "      <td>14</td>\n",
       "      <td>52.2</td>\n",
       "      <td>14</td>\n",
       "      <td>0.211853</td>\n",
       "      <td>0.216123</td>\n",
       "      <td>NaN</td>\n",
       "      <td>NaN</td>\n",
       "      <td>NaN</td>\n",
       "      <td>NaN</td>\n",
       "      <td>2</td>\n",
       "      <td>4</td>\n",
       "      <td>NaN</td>\n",
       "      <td>NaN</td>\n",
       "      <td>NaN</td>\n",
       "      <td>NaN</td>\n",
       "      <td>NaN</td>\n",
       "      <td>NaN</td>\n",
       "      <td>NaN</td>\n",
       "      <td>NaN</td>\n",
       "      <td>NaN</td>\n",
       "      <td>NaN</td>\n",
       "      <td>NaN</td>\n",
       "      <td>NaN</td>\n",
       "      <td>NaN</td>\n",
       "      <td>NaN</td>\n",
       "      <td>NaN</td>\n",
       "      <td>NaN</td>\n",
       "      <td>NaN</td>\n",
       "      <td>NaN</td>\n",
       "      <td>NaN</td>\n",
       "      <td>NaN</td>\n",
       "      <td>121.864894</td>\n",
       "    </tr>\n",
       "    <tr>\n",
       "      <th>8</th>\n",
       "      <td>202406050706</td>\n",
       "      <td>10</td>\n",
       "      <td>52.2</td>\n",
       "      <td>13</td>\n",
       "      <td>0.207064</td>\n",
       "      <td>0.229282</td>\n",
       "      <td>NaN</td>\n",
       "      <td>NaN</td>\n",
       "      <td>NaN</td>\n",
       "      <td>NaN</td>\n",
       "      <td>2</td>\n",
       "      <td>4</td>\n",
       "      <td>NaN</td>\n",
       "      <td>NaN</td>\n",
       "      <td>NaN</td>\n",
       "      <td>NaN</td>\n",
       "      <td>NaN</td>\n",
       "      <td>NaN</td>\n",
       "      <td>NaN</td>\n",
       "      <td>NaN</td>\n",
       "      <td>NaN</td>\n",
       "      <td>NaN</td>\n",
       "      <td>NaN</td>\n",
       "      <td>NaN</td>\n",
       "      <td>NaN</td>\n",
       "      <td>NaN</td>\n",
       "      <td>NaN</td>\n",
       "      <td>NaN</td>\n",
       "      <td>NaN</td>\n",
       "      <td>NaN</td>\n",
       "      <td>NaN</td>\n",
       "      <td>NaN</td>\n",
       "      <td>121.769259</td>\n",
       "    </tr>\n",
       "    <tr>\n",
       "      <th>4</th>\n",
       "      <td>202406050706</td>\n",
       "      <td>6</td>\n",
       "      <td>28.9</td>\n",
       "      <td>12</td>\n",
       "      <td>0.184862</td>\n",
       "      <td>0.171662</td>\n",
       "      <td>NaN</td>\n",
       "      <td>NaN</td>\n",
       "      <td>NaN</td>\n",
       "      <td>NaN</td>\n",
       "      <td>2</td>\n",
       "      <td>4</td>\n",
       "      <td>NaN</td>\n",
       "      <td>NaN</td>\n",
       "      <td>NaN</td>\n",
       "      <td>NaN</td>\n",
       "      <td>NaN</td>\n",
       "      <td>NaN</td>\n",
       "      <td>NaN</td>\n",
       "      <td>NaN</td>\n",
       "      <td>NaN</td>\n",
       "      <td>NaN</td>\n",
       "      <td>NaN</td>\n",
       "      <td>NaN</td>\n",
       "      <td>NaN</td>\n",
       "      <td>NaN</td>\n",
       "      <td>NaN</td>\n",
       "      <td>NaN</td>\n",
       "      <td>NaN</td>\n",
       "      <td>NaN</td>\n",
       "      <td>NaN</td>\n",
       "      <td>NaN</td>\n",
       "      <td>121.313611</td>\n",
       "    </tr>\n",
       "    <tr>\n",
       "      <th>2</th>\n",
       "      <td>202406050706</td>\n",
       "      <td>3</td>\n",
       "      <td>22.3</td>\n",
       "      <td>11</td>\n",
       "      <td>0.196187</td>\n",
       "      <td>0.203274</td>\n",
       "      <td>NaN</td>\n",
       "      <td>NaN</td>\n",
       "      <td>NaN</td>\n",
       "      <td>NaN</td>\n",
       "      <td>2</td>\n",
       "      <td>4</td>\n",
       "      <td>NaN</td>\n",
       "      <td>NaN</td>\n",
       "      <td>NaN</td>\n",
       "      <td>NaN</td>\n",
       "      <td>NaN</td>\n",
       "      <td>NaN</td>\n",
       "      <td>NaN</td>\n",
       "      <td>NaN</td>\n",
       "      <td>NaN</td>\n",
       "      <td>NaN</td>\n",
       "      <td>NaN</td>\n",
       "      <td>NaN</td>\n",
       "      <td>NaN</td>\n",
       "      <td>NaN</td>\n",
       "      <td>NaN</td>\n",
       "      <td>NaN</td>\n",
       "      <td>NaN</td>\n",
       "      <td>NaN</td>\n",
       "      <td>NaN</td>\n",
       "      <td>NaN</td>\n",
       "      <td>120.937687</td>\n",
       "    </tr>\n",
       "    <tr>\n",
       "      <th>3</th>\n",
       "      <td>202406050706</td>\n",
       "      <td>4</td>\n",
       "      <td>17.4</td>\n",
       "      <td>7</td>\n",
       "      <td>0.178354</td>\n",
       "      <td>0.211460</td>\n",
       "      <td>NaN</td>\n",
       "      <td>NaN</td>\n",
       "      <td>NaN</td>\n",
       "      <td>NaN</td>\n",
       "      <td>2</td>\n",
       "      <td>4</td>\n",
       "      <td>NaN</td>\n",
       "      <td>NaN</td>\n",
       "      <td>NaN</td>\n",
       "      <td>NaN</td>\n",
       "      <td>NaN</td>\n",
       "      <td>NaN</td>\n",
       "      <td>NaN</td>\n",
       "      <td>NaN</td>\n",
       "      <td>NaN</td>\n",
       "      <td>NaN</td>\n",
       "      <td>NaN</td>\n",
       "      <td>NaN</td>\n",
       "      <td>NaN</td>\n",
       "      <td>NaN</td>\n",
       "      <td>NaN</td>\n",
       "      <td>NaN</td>\n",
       "      <td>NaN</td>\n",
       "      <td>NaN</td>\n",
       "      <td>NaN</td>\n",
       "      <td>NaN</td>\n",
       "      <td>120.878442</td>\n",
       "    </tr>\n",
       "    <tr>\n",
       "      <th>6</th>\n",
       "      <td>202406050706</td>\n",
       "      <td>8</td>\n",
       "      <td>12.7</td>\n",
       "      <td>5</td>\n",
       "      <td>0.219168</td>\n",
       "      <td>0.223881</td>\n",
       "      <td>NaN</td>\n",
       "      <td>NaN</td>\n",
       "      <td>NaN</td>\n",
       "      <td>NaN</td>\n",
       "      <td>2</td>\n",
       "      <td>4</td>\n",
       "      <td>NaN</td>\n",
       "      <td>NaN</td>\n",
       "      <td>NaN</td>\n",
       "      <td>NaN</td>\n",
       "      <td>NaN</td>\n",
       "      <td>NaN</td>\n",
       "      <td>NaN</td>\n",
       "      <td>NaN</td>\n",
       "      <td>NaN</td>\n",
       "      <td>NaN</td>\n",
       "      <td>NaN</td>\n",
       "      <td>NaN</td>\n",
       "      <td>NaN</td>\n",
       "      <td>NaN</td>\n",
       "      <td>NaN</td>\n",
       "      <td>NaN</td>\n",
       "      <td>NaN</td>\n",
       "      <td>NaN</td>\n",
       "      <td>NaN</td>\n",
       "      <td>NaN</td>\n",
       "      <td>120.817820</td>\n",
       "    </tr>\n",
       "    <tr>\n",
       "      <th>9</th>\n",
       "      <td>202406050706</td>\n",
       "      <td>11</td>\n",
       "      <td>19.2</td>\n",
       "      <td>9</td>\n",
       "      <td>0.207064</td>\n",
       "      <td>0.221751</td>\n",
       "      <td>NaN</td>\n",
       "      <td>NaN</td>\n",
       "      <td>NaN</td>\n",
       "      <td>NaN</td>\n",
       "      <td>2</td>\n",
       "      <td>4</td>\n",
       "      <td>NaN</td>\n",
       "      <td>NaN</td>\n",
       "      <td>NaN</td>\n",
       "      <td>NaN</td>\n",
       "      <td>NaN</td>\n",
       "      <td>NaN</td>\n",
       "      <td>NaN</td>\n",
       "      <td>NaN</td>\n",
       "      <td>NaN</td>\n",
       "      <td>NaN</td>\n",
       "      <td>NaN</td>\n",
       "      <td>NaN</td>\n",
       "      <td>NaN</td>\n",
       "      <td>NaN</td>\n",
       "      <td>NaN</td>\n",
       "      <td>NaN</td>\n",
       "      <td>NaN</td>\n",
       "      <td>NaN</td>\n",
       "      <td>NaN</td>\n",
       "      <td>NaN</td>\n",
       "      <td>120.726143</td>\n",
       "    </tr>\n",
       "    <tr>\n",
       "      <th>10</th>\n",
       "      <td>202406050706</td>\n",
       "      <td>12</td>\n",
       "      <td>17.7</td>\n",
       "      <td>8</td>\n",
       "      <td>0.242279</td>\n",
       "      <td>0.222059</td>\n",
       "      <td>NaN</td>\n",
       "      <td>NaN</td>\n",
       "      <td>NaN</td>\n",
       "      <td>NaN</td>\n",
       "      <td>2</td>\n",
       "      <td>4</td>\n",
       "      <td>NaN</td>\n",
       "      <td>NaN</td>\n",
       "      <td>NaN</td>\n",
       "      <td>NaN</td>\n",
       "      <td>NaN</td>\n",
       "      <td>NaN</td>\n",
       "      <td>NaN</td>\n",
       "      <td>NaN</td>\n",
       "      <td>NaN</td>\n",
       "      <td>NaN</td>\n",
       "      <td>NaN</td>\n",
       "      <td>NaN</td>\n",
       "      <td>NaN</td>\n",
       "      <td>NaN</td>\n",
       "      <td>NaN</td>\n",
       "      <td>NaN</td>\n",
       "      <td>NaN</td>\n",
       "      <td>NaN</td>\n",
       "      <td>NaN</td>\n",
       "      <td>NaN</td>\n",
       "      <td>120.552405</td>\n",
       "    </tr>\n",
       "    <tr>\n",
       "      <th>11</th>\n",
       "      <td>202406050706</td>\n",
       "      <td>13</td>\n",
       "      <td>19.6</td>\n",
       "      <td>10</td>\n",
       "      <td>0.242279</td>\n",
       "      <td>0.228707</td>\n",
       "      <td>NaN</td>\n",
       "      <td>NaN</td>\n",
       "      <td>NaN</td>\n",
       "      <td>NaN</td>\n",
       "      <td>2</td>\n",
       "      <td>4</td>\n",
       "      <td>NaN</td>\n",
       "      <td>NaN</td>\n",
       "      <td>NaN</td>\n",
       "      <td>NaN</td>\n",
       "      <td>NaN</td>\n",
       "      <td>NaN</td>\n",
       "      <td>NaN</td>\n",
       "      <td>NaN</td>\n",
       "      <td>NaN</td>\n",
       "      <td>NaN</td>\n",
       "      <td>NaN</td>\n",
       "      <td>NaN</td>\n",
       "      <td>NaN</td>\n",
       "      <td>NaN</td>\n",
       "      <td>NaN</td>\n",
       "      <td>NaN</td>\n",
       "      <td>NaN</td>\n",
       "      <td>NaN</td>\n",
       "      <td>NaN</td>\n",
       "      <td>NaN</td>\n",
       "      <td>120.388037</td>\n",
       "    </tr>\n",
       "    <tr>\n",
       "      <th>1</th>\n",
       "      <td>202406050706</td>\n",
       "      <td>2</td>\n",
       "      <td>15.7</td>\n",
       "      <td>6</td>\n",
       "      <td>0.196187</td>\n",
       "      <td>0.200272</td>\n",
       "      <td>NaN</td>\n",
       "      <td>NaN</td>\n",
       "      <td>NaN</td>\n",
       "      <td>NaN</td>\n",
       "      <td>2</td>\n",
       "      <td>4</td>\n",
       "      <td>NaN</td>\n",
       "      <td>NaN</td>\n",
       "      <td>NaN</td>\n",
       "      <td>NaN</td>\n",
       "      <td>NaN</td>\n",
       "      <td>NaN</td>\n",
       "      <td>NaN</td>\n",
       "      <td>NaN</td>\n",
       "      <td>NaN</td>\n",
       "      <td>NaN</td>\n",
       "      <td>NaN</td>\n",
       "      <td>NaN</td>\n",
       "      <td>NaN</td>\n",
       "      <td>NaN</td>\n",
       "      <td>NaN</td>\n",
       "      <td>NaN</td>\n",
       "      <td>NaN</td>\n",
       "      <td>NaN</td>\n",
       "      <td>NaN</td>\n",
       "      <td>NaN</td>\n",
       "      <td>120.325400</td>\n",
       "    </tr>\n",
       "    <tr>\n",
       "      <th>7</th>\n",
       "      <td>202406050706</td>\n",
       "      <td>9</td>\n",
       "      <td>11.1</td>\n",
       "      <td>3</td>\n",
       "      <td>0.219168</td>\n",
       "      <td>0.193460</td>\n",
       "      <td>NaN</td>\n",
       "      <td>NaN</td>\n",
       "      <td>NaN</td>\n",
       "      <td>NaN</td>\n",
       "      <td>2</td>\n",
       "      <td>4</td>\n",
       "      <td>NaN</td>\n",
       "      <td>NaN</td>\n",
       "      <td>NaN</td>\n",
       "      <td>NaN</td>\n",
       "      <td>NaN</td>\n",
       "      <td>NaN</td>\n",
       "      <td>NaN</td>\n",
       "      <td>NaN</td>\n",
       "      <td>NaN</td>\n",
       "      <td>NaN</td>\n",
       "      <td>NaN</td>\n",
       "      <td>NaN</td>\n",
       "      <td>NaN</td>\n",
       "      <td>NaN</td>\n",
       "      <td>NaN</td>\n",
       "      <td>NaN</td>\n",
       "      <td>NaN</td>\n",
       "      <td>NaN</td>\n",
       "      <td>NaN</td>\n",
       "      <td>NaN</td>\n",
       "      <td>120.254616</td>\n",
       "    </tr>\n",
       "    <tr>\n",
       "      <th>5</th>\n",
       "      <td>202406050706</td>\n",
       "      <td>7</td>\n",
       "      <td>11.6</td>\n",
       "      <td>4</td>\n",
       "      <td>0.184862</td>\n",
       "      <td>0.174863</td>\n",
       "      <td>NaN</td>\n",
       "      <td>NaN</td>\n",
       "      <td>NaN</td>\n",
       "      <td>NaN</td>\n",
       "      <td>2</td>\n",
       "      <td>4</td>\n",
       "      <td>NaN</td>\n",
       "      <td>NaN</td>\n",
       "      <td>NaN</td>\n",
       "      <td>NaN</td>\n",
       "      <td>NaN</td>\n",
       "      <td>NaN</td>\n",
       "      <td>NaN</td>\n",
       "      <td>NaN</td>\n",
       "      <td>NaN</td>\n",
       "      <td>NaN</td>\n",
       "      <td>NaN</td>\n",
       "      <td>NaN</td>\n",
       "      <td>NaN</td>\n",
       "      <td>NaN</td>\n",
       "      <td>NaN</td>\n",
       "      <td>NaN</td>\n",
       "      <td>NaN</td>\n",
       "      <td>NaN</td>\n",
       "      <td>NaN</td>\n",
       "      <td>NaN</td>\n",
       "      <td>120.126904</td>\n",
       "    </tr>\n",
       "    <tr>\n",
       "      <th>13</th>\n",
       "      <td>202406050706</td>\n",
       "      <td>15</td>\n",
       "      <td>7.0</td>\n",
       "      <td>2</td>\n",
       "      <td>0.211853</td>\n",
       "      <td>0.197343</td>\n",
       "      <td>NaN</td>\n",
       "      <td>NaN</td>\n",
       "      <td>NaN</td>\n",
       "      <td>NaN</td>\n",
       "      <td>2</td>\n",
       "      <td>4</td>\n",
       "      <td>NaN</td>\n",
       "      <td>NaN</td>\n",
       "      <td>NaN</td>\n",
       "      <td>NaN</td>\n",
       "      <td>NaN</td>\n",
       "      <td>NaN</td>\n",
       "      <td>NaN</td>\n",
       "      <td>NaN</td>\n",
       "      <td>NaN</td>\n",
       "      <td>NaN</td>\n",
       "      <td>NaN</td>\n",
       "      <td>NaN</td>\n",
       "      <td>NaN</td>\n",
       "      <td>NaN</td>\n",
       "      <td>NaN</td>\n",
       "      <td>NaN</td>\n",
       "      <td>NaN</td>\n",
       "      <td>NaN</td>\n",
       "      <td>NaN</td>\n",
       "      <td>NaN</td>\n",
       "      <td>120.051163</td>\n",
       "    </tr>\n",
       "    <tr>\n",
       "      <th>0</th>\n",
       "      <td>202406050706</td>\n",
       "      <td>1</td>\n",
       "      <td>2.1</td>\n",
       "      <td>1</td>\n",
       "      <td>0.182594</td>\n",
       "      <td>0.180707</td>\n",
       "      <td>NaN</td>\n",
       "      <td>NaN</td>\n",
       "      <td>NaN</td>\n",
       "      <td>NaN</td>\n",
       "      <td>2</td>\n",
       "      <td>4</td>\n",
       "      <td>NaN</td>\n",
       "      <td>NaN</td>\n",
       "      <td>NaN</td>\n",
       "      <td>NaN</td>\n",
       "      <td>NaN</td>\n",
       "      <td>NaN</td>\n",
       "      <td>NaN</td>\n",
       "      <td>NaN</td>\n",
       "      <td>NaN</td>\n",
       "      <td>NaN</td>\n",
       "      <td>NaN</td>\n",
       "      <td>NaN</td>\n",
       "      <td>NaN</td>\n",
       "      <td>NaN</td>\n",
       "      <td>NaN</td>\n",
       "      <td>NaN</td>\n",
       "      <td>NaN</td>\n",
       "      <td>NaN</td>\n",
       "      <td>NaN</td>\n",
       "      <td>NaN</td>\n",
       "      <td>118.508223</td>\n",
       "    </tr>\n",
       "  </tbody>\n",
       "</table>\n",
       "</div>"
      ],
      "text/plain": [
       "         race_id  umaban  tansho_odds  popularity  mean_fukusho_rate_wakuban  \\\n",
       "12  202406050706      14         52.2          14                   0.211853   \n",
       "8   202406050706      10         52.2          13                   0.207064   \n",
       "4   202406050706       6         28.9          12                   0.184862   \n",
       "2   202406050706       3         22.3          11                   0.196187   \n",
       "3   202406050706       4         17.4           7                   0.178354   \n",
       "6   202406050706       8         12.7           5                   0.219168   \n",
       "9   202406050706      11         19.2           9                   0.207064   \n",
       "10  202406050706      12         17.7           8                   0.242279   \n",
       "11  202406050706      13         19.6          10                   0.242279   \n",
       "1   202406050706       2         15.7           6                   0.196187   \n",
       "7   202406050706       9         11.1           3                   0.219168   \n",
       "5   202406050706       7         11.6           4                   0.184862   \n",
       "13  202406050706      15          7.0           2                   0.211853   \n",
       "0   202406050706       1          2.1           1                   0.182594   \n",
       "\n",
       "    mean_fukusho_rate_umaban  \\\n",
       "12                  0.216123   \n",
       "8                   0.229282   \n",
       "4                   0.171662   \n",
       "2                   0.203274   \n",
       "3                   0.211460   \n",
       "6                   0.223881   \n",
       "9                   0.221751   \n",
       "10                  0.222059   \n",
       "11                  0.228707   \n",
       "1                   0.200272   \n",
       "7                   0.193460   \n",
       "5                   0.174863   \n",
       "13                  0.197343   \n",
       "0                   0.180707   \n",
       "\n",
       "    distance_place_type_ground_state_encoded_time_diff_mean_3races_cross_encoded_relative  \\\n",
       "12                                                NaN                                       \n",
       "8                                                 NaN                                       \n",
       "4                                                 NaN                                       \n",
       "2                                                 NaN                                       \n",
       "3                                                 NaN                                       \n",
       "6                                                 NaN                                       \n",
       "9                                                 NaN                                       \n",
       "10                                                NaN                                       \n",
       "11                                                NaN                                       \n",
       "1                                                 NaN                                       \n",
       "7                                                 NaN                                       \n",
       "5                                                 NaN                                       \n",
       "13                                                NaN                                       \n",
       "0                                                 NaN                                       \n",
       "\n",
       "    distance_place_type_ground_state_encoded_time_diff_min_3races_cross_encoded_relative  \\\n",
       "12                                                NaN                                      \n",
       "8                                                 NaN                                      \n",
       "4                                                 NaN                                      \n",
       "2                                                 NaN                                      \n",
       "3                                                 NaN                                      \n",
       "6                                                 NaN                                      \n",
       "9                                                 NaN                                      \n",
       "10                                                NaN                                      \n",
       "11                                                NaN                                      \n",
       "1                                                 NaN                                      \n",
       "7                                                 NaN                                      \n",
       "5                                                 NaN                                      \n",
       "13                                                NaN                                      \n",
       "0                                                 NaN                                      \n",
       "\n",
       "    syunpatu_mean_3races_encoded  zizoku_mean_3races_encoded  \\\n",
       "12                           NaN                         NaN   \n",
       "8                            NaN                         NaN   \n",
       "4                            NaN                         NaN   \n",
       "2                            NaN                         NaN   \n",
       "3                            NaN                         NaN   \n",
       "6                            NaN                         NaN   \n",
       "9                            NaN                         NaN   \n",
       "10                           NaN                         NaN   \n",
       "11                           NaN                         NaN   \n",
       "1                            NaN                         NaN   \n",
       "7                            NaN                         NaN   \n",
       "5                            NaN                         NaN   \n",
       "13                           NaN                         NaN   \n",
       "0                            NaN                         NaN   \n",
       "\n",
       "    dominant_position_category  pace_category  ground_state_level  \\\n",
       "12                           2              4                 NaN   \n",
       "8                            2              4                 NaN   \n",
       "4                            2              4                 NaN   \n",
       "2                            2              4                 NaN   \n",
       "3                            2              4                 NaN   \n",
       "6                            2              4                 NaN   \n",
       "9                            2              4                 NaN   \n",
       "10                           2              4                 NaN   \n",
       "11                           2              4                 NaN   \n",
       "1                            2              4                 NaN   \n",
       "7                            2              4                 NaN   \n",
       "5                            2              4                 NaN   \n",
       "13                           2              4                 NaN   \n",
       "0                            2              4                 NaN   \n",
       "\n",
       "    rentai_for_pace_category_n5_relative  \\\n",
       "12                                   NaN   \n",
       "8                                    NaN   \n",
       "4                                    NaN   \n",
       "2                                    NaN   \n",
       "3                                    NaN   \n",
       "6                                    NaN   \n",
       "9                                    NaN   \n",
       "10                                   NaN   \n",
       "11                                   NaN   \n",
       "1                                    NaN   \n",
       "7                                    NaN   \n",
       "5                                    NaN   \n",
       "13                                   NaN   \n",
       "0                                    NaN   \n",
       "\n",
       "    score_pace_potision_mean_3races_per_score_raw_relative  \\\n",
       "12                                                NaN        \n",
       "8                                                 NaN        \n",
       "4                                                 NaN        \n",
       "2                                                 NaN        \n",
       "3                                                 NaN        \n",
       "6                                                 NaN        \n",
       "9                                                 NaN        \n",
       "10                                                NaN        \n",
       "11                                                NaN        \n",
       "1                                                 NaN        \n",
       "7                                                 NaN        \n",
       "5                                                 NaN        \n",
       "13                                                NaN        \n",
       "0                                                 NaN        \n",
       "\n",
       "    mean_5races_sum_relative  tenkai_combined_standardized  \\\n",
       "12                       NaN                           NaN   \n",
       "8                        NaN                           NaN   \n",
       "4                        NaN                           NaN   \n",
       "2                        NaN                           NaN   \n",
       "3                        NaN                           NaN   \n",
       "6                        NaN                           NaN   \n",
       "9                        NaN                           NaN   \n",
       "10                       NaN                           NaN   \n",
       "11                       NaN                           NaN   \n",
       "1                        NaN                           NaN   \n",
       "7                        NaN                           NaN   \n",
       "5                        NaN                           NaN   \n",
       "13                       NaN                           NaN   \n",
       "0                        NaN                           NaN   \n",
       "\n",
       "    tenkai_all_combined_standardized  \\\n",
       "12                               NaN   \n",
       "8                                NaN   \n",
       "4                                NaN   \n",
       "2                                NaN   \n",
       "3                                NaN   \n",
       "6                                NaN   \n",
       "9                                NaN   \n",
       "10                               NaN   \n",
       "11                               NaN   \n",
       "1                                NaN   \n",
       "7                                NaN   \n",
       "5                                NaN   \n",
       "13                               NaN   \n",
       "0                                NaN   \n",
       "\n",
       "    race_grade_rank_diff_sum_mean_3races_grade_rankdiff_score_plus_tenkai_combined_standardized  \\\n",
       "12                                                NaN                                             \n",
       "8                                                 NaN                                             \n",
       "4                                                 NaN                                             \n",
       "2                                                 NaN                                             \n",
       "3                                                 NaN                                             \n",
       "6                                                 NaN                                             \n",
       "9                                                 NaN                                             \n",
       "10                                                NaN                                             \n",
       "11                                                NaN                                             \n",
       "1                                                 NaN                                             \n",
       "7                                                 NaN                                             \n",
       "5                                                 NaN                                             \n",
       "13                                                NaN                                             \n",
       "0                                                 NaN                                             \n",
       "\n",
       "    race_grade_rank_diff_multi_mean_3races_grade_rankdiff_score_plus_tenkai_combined_standardized  \\\n",
       "12                                                NaN                                               \n",
       "8                                                 NaN                                               \n",
       "4                                                 NaN                                               \n",
       "2                                                 NaN                                               \n",
       "3                                                 NaN                                               \n",
       "6                                                 NaN                                               \n",
       "9                                                 NaN                                               \n",
       "10                                                NaN                                               \n",
       "11                                                NaN                                               \n",
       "1                                                 NaN                                               \n",
       "7                                                 NaN                                               \n",
       "5                                                 NaN                                               \n",
       "13                                                NaN                                               \n",
       "0                                                 NaN                                               \n",
       "\n",
       "    race_grade_rank_diff_sum_mean_3races_grade_rankdiff_score_plus_tenkai_all_combined_standardized  \\\n",
       "12                                                NaN                                                 \n",
       "8                                                 NaN                                                 \n",
       "4                                                 NaN                                                 \n",
       "2                                                 NaN                                                 \n",
       "3                                                 NaN                                                 \n",
       "6                                                 NaN                                                 \n",
       "9                                                 NaN                                                 \n",
       "10                                                NaN                                                 \n",
       "11                                                NaN                                                 \n",
       "1                                                 NaN                                                 \n",
       "7                                                 NaN                                                 \n",
       "5                                                 NaN                                                 \n",
       "13                                                NaN                                                 \n",
       "0                                                 NaN                                                 \n",
       "\n",
       "    race_grade_rank_diff_multi_mean_3races_grade_rankdiff_score_plus_tenkai_all_combined_standardized  \\\n",
       "12                                                NaN                                                   \n",
       "8                                                 NaN                                                   \n",
       "4                                                 NaN                                                   \n",
       "2                                                 NaN                                                   \n",
       "3                                                 NaN                                                   \n",
       "6                                                 NaN                                                   \n",
       "9                                                 NaN                                                   \n",
       "10                                                NaN                                                   \n",
       "11                                                NaN                                                   \n",
       "1                                                 NaN                                                   \n",
       "7                                                 NaN                                                   \n",
       "5                                                 NaN                                                   \n",
       "13                                                NaN                                                   \n",
       "0                                                 NaN                                                   \n",
       "\n",
       "    race_grade_rank_diff_sum_mean_3races_grade_rankdiff_score_px_tenkai_combined_standardized  \\\n",
       "12                                                NaN                                           \n",
       "8                                                 NaN                                           \n",
       "4                                                 NaN                                           \n",
       "2                                                 NaN                                           \n",
       "3                                                 NaN                                           \n",
       "6                                                 NaN                                           \n",
       "9                                                 NaN                                           \n",
       "10                                                NaN                                           \n",
       "11                                                NaN                                           \n",
       "1                                                 NaN                                           \n",
       "7                                                 NaN                                           \n",
       "5                                                 NaN                                           \n",
       "13                                                NaN                                           \n",
       "0                                                 NaN                                           \n",
       "\n",
       "    race_grade_rank_diff_multi_mean_3races_grade_rankdiff_score_px_tenkai_combined_standardized  \\\n",
       "12                                                NaN                                             \n",
       "8                                                 NaN                                             \n",
       "4                                                 NaN                                             \n",
       "2                                                 NaN                                             \n",
       "3                                                 NaN                                             \n",
       "6                                                 NaN                                             \n",
       "9                                                 NaN                                             \n",
       "10                                                NaN                                             \n",
       "11                                                NaN                                             \n",
       "1                                                 NaN                                             \n",
       "7                                                 NaN                                             \n",
       "5                                                 NaN                                             \n",
       "13                                                NaN                                             \n",
       "0                                                 NaN                                             \n",
       "\n",
       "    race_grade_rank_diff_sum_mean_3races_grade_rankdiff_score_px_tenkai_all_combined_standardized  \\\n",
       "12                                                NaN                                               \n",
       "8                                                 NaN                                               \n",
       "4                                                 NaN                                               \n",
       "2                                                 NaN                                               \n",
       "3                                                 NaN                                               \n",
       "6                                                 NaN                                               \n",
       "9                                                 NaN                                               \n",
       "10                                                NaN                                               \n",
       "11                                                NaN                                               \n",
       "1                                                 NaN                                               \n",
       "7                                                 NaN                                               \n",
       "5                                                 NaN                                               \n",
       "13                                                NaN                                               \n",
       "0                                                 NaN                                               \n",
       "\n",
       "    race_grade_rank_diff_multi_mean_3races_grade_rankdiff_score_px_tenkai_all_combined_standardized  \\\n",
       "12                                                NaN                                                 \n",
       "8                                                 NaN                                                 \n",
       "4                                                 NaN                                                 \n",
       "2                                                 NaN                                                 \n",
       "3                                                 NaN                                                 \n",
       "6                                                 NaN                                                 \n",
       "9                                                 NaN                                                 \n",
       "10                                                NaN                                                 \n",
       "11                                                NaN                                                 \n",
       "1                                                 NaN                                                 \n",
       "7                                                 NaN                                                 \n",
       "5                                                 NaN                                                 \n",
       "13                                                NaN                                                 \n",
       "0                                                 NaN                                                 \n",
       "\n",
       "    speed_index_mean_3races  nobori_index_mean_3races  speed_index_min_5races  \\\n",
       "12                      NaN                       NaN                     NaN   \n",
       "8                       NaN                       NaN                     NaN   \n",
       "4                       NaN                       NaN                     NaN   \n",
       "2                       NaN                       NaN                     NaN   \n",
       "3                       NaN                       NaN                     NaN   \n",
       "6                       NaN                       NaN                     NaN   \n",
       "9                       NaN                       NaN                     NaN   \n",
       "10                      NaN                       NaN                     NaN   \n",
       "11                      NaN                       NaN                     NaN   \n",
       "1                       NaN                       NaN                     NaN   \n",
       "7                       NaN                       NaN                     NaN   \n",
       "5                       NaN                       NaN                     NaN   \n",
       "13                      NaN                       NaN                     NaN   \n",
       "0                       NaN                       NaN                     NaN   \n",
       "\n",
       "    nobori_index_min_5races  speed_index_mean_3races_relative  \\\n",
       "12                      NaN                               NaN   \n",
       "8                       NaN                               NaN   \n",
       "4                       NaN                               NaN   \n",
       "2                       NaN                               NaN   \n",
       "3                       NaN                               NaN   \n",
       "6                       NaN                               NaN   \n",
       "9                       NaN                               NaN   \n",
       "10                      NaN                               NaN   \n",
       "11                      NaN                               NaN   \n",
       "1                       NaN                               NaN   \n",
       "7                       NaN                               NaN   \n",
       "5                       NaN                               NaN   \n",
       "13                      NaN                               NaN   \n",
       "0                       NaN                               NaN   \n",
       "\n",
       "    nobori_index_mean_3races_relative        pred  \n",
       "12                                NaN  121.864894  \n",
       "8                                 NaN  121.769259  \n",
       "4                                 NaN  121.313611  \n",
       "2                                 NaN  120.937687  \n",
       "3                                 NaN  120.878442  \n",
       "6                                 NaN  120.817820  \n",
       "9                                 NaN  120.726143  \n",
       "10                                NaN  120.552405  \n",
       "11                                NaN  120.388037  \n",
       "1                                 NaN  120.325400  \n",
       "7                                 NaN  120.254616  \n",
       "5                                 NaN  120.126904  \n",
       "13                                NaN  120.051163  \n",
       "0                                 NaN  118.508223  "
      ]
     },
     "execution_count": 12,
     "metadata": {},
     "output_type": "execute_result"
    }
   ],
   "source": [
    "# オッズ除外モデルでの予測、time、クロスバリデーション\n",
    "prediction.predict(\n",
    "    features,\n",
    "    model_filename=\"model_lightgbm_time_cv_full_odds_removed.pkl\",\n",
    "    config_filepath=\"config_lightgbm_kaiki_odds_removed.yaml\"\n",
    ")"
   ]
  },
  {
   "cell_type": "code",
   "execution_count": null,
   "id": "f1f3d9da-c6ac-4726-adb3-c972794f6ebe",
   "metadata": {},
   "outputs": [],
   "source": []
  },
  {
   "cell_type": "code",
   "execution_count": null,
   "id": "f14c65c5-31e1-4865-9e60-02daa8f5f78d",
   "metadata": {},
   "outputs": [],
   "source": []
  },
  {
   "cell_type": "markdown",
   "id": "5d399698-7154-4353-8d27-6a34f2c53341",
   "metadata": {},
   "source": [
    "###　12/21 第n回目レース"
   ]
  },
  {
   "cell_type": "code",
   "execution_count": null,
   "id": "ba36207d-e43f-4b5b-82c8-fdd2dda6f0bf",
   "metadata": {},
   "outputs": [],
   "source": [
    "# 特徴量の更新\n",
    "features = pfc.create_features(\n",
    "    race_id=\"202408060411\",  # 予測するレースidを指定\n",
    "    date_content_a = \"2024年12月21日\", #\"%Y年%m月%d日\"形式で該当レース当日の日付を入れてください    \n",
    "    skip_agg_horse=True  # 事前に集計した場合はスキップできる\n",
    ")"
   ]
  },
  {
   "cell_type": "code",
   "execution_count": null,
   "id": "779ad66f-f36e-4c0f-9201-f0c694f08e29",
   "metadata": {},
   "outputs": [],
   "source": [
    "pfc.results"
   ]
  },
  {
   "cell_type": "code",
   "execution_count": null,
   "id": "cb5a4510-d5f0-4af0-bf9a-38d70fb3f2ae",
   "metadata": {},
   "outputs": [],
   "source": [
    "pfc.race_info"
   ]
  },
  {
   "cell_type": "code",
   "execution_count": null,
   "id": "ef0f266f-3cdf-4728-9592-2b9dee7a2895",
   "metadata": {},
   "outputs": [],
   "source": [
    "# オッズ除外モデルでの予測、time、ホールドアウト\n",
    "prediction.predict(\n",
    "    features,\n",
    "    model_filename=\"model_lightgbm_time_odds_removed.pkl\",\n",
    "    config_filepath=\"config_lightgbm_kaiki_odds_removed.yaml\"\n",
    ")"
   ]
  },
  {
   "cell_type": "code",
   "execution_count": null,
   "id": "f8605b44-2851-4bad-8355-164f46d85d5a",
   "metadata": {},
   "outputs": [],
   "source": [
    "# オッズ除外モデルでの予測、time、クロスバリデーション\n",
    "prediction.predict(\n",
    "    features,\n",
    "    model_filename=\"model_lightgbm_time_cv_full_odds_removed.pkl\",\n",
    "    config_filepath=\"config_lightgbm_kaiki_odds_removed.yaml\"\n",
    ")"
   ]
  },
  {
   "cell_type": "code",
   "execution_count": null,
   "id": "fb473c87-a471-428e-a489-03598faf5f45",
   "metadata": {},
   "outputs": [],
   "source": []
  },
  {
   "cell_type": "code",
   "execution_count": null,
   "id": "e9ac381d-af83-45b4-ae92-0b76cb6f07c6",
   "metadata": {},
   "outputs": [],
   "source": []
  },
  {
   "cell_type": "markdown",
   "id": "e0bb2bd6-71aa-4389-a06e-d9edb11c3c27",
   "metadata": {},
   "source": [
    "### 12/21 第n回目レース"
   ]
  },
  {
   "cell_type": "code",
   "execution_count": null,
   "id": "5846d2b3-b5d7-484e-94e8-c563fe95f5f3",
   "metadata": {},
   "outputs": [],
   "source": [
    "# 特徴量の更新\n",
    "features = pfc.create_features(\n",
    "    race_id=\"202408060411\",  # 予測するレースidを指定\n",
    "    date_content_a = \"2024年12月21日\", #\"%Y年%m月%d日\"形式で該当レース当日の日付を入れてください    \n",
    "    skip_agg_horse=True  # 事前に集計した場合はスキップできる\n",
    ")"
   ]
  },
  {
   "cell_type": "code",
   "execution_count": null,
   "id": "c57427a3-15c6-45cf-a0e3-ce5dfab20a2c",
   "metadata": {},
   "outputs": [],
   "source": [
    "pfc.results"
   ]
  },
  {
   "cell_type": "code",
   "execution_count": null,
   "id": "1d813074-3af5-4de6-9778-cb6f43a6e979",
   "metadata": {},
   "outputs": [],
   "source": [
    "pfc.race_info"
   ]
  },
  {
   "cell_type": "code",
   "execution_count": null,
   "id": "19586e04-c3e1-4818-b742-ac9e8844b362",
   "metadata": {},
   "outputs": [],
   "source": [
    "# オッズ除外モデルでの予測、time、ホールドアウト\n",
    "prediction.predict(\n",
    "    features,\n",
    "    model_filename=\"model_lightgbm_time_odds_removed.pkl\",\n",
    "    config_filepath=\"config_lightgbm_kaiki_odds_removed.yaml\"\n",
    ")"
   ]
  },
  {
   "cell_type": "code",
   "execution_count": null,
   "id": "43002470-ee0c-41ef-a09b-b1bcaed53ad7",
   "metadata": {},
   "outputs": [],
   "source": [
    "# オッズ除外モデルでの予測、time、クロスバリデーション\n",
    "prediction.predict(\n",
    "    features,\n",
    "    model_filename=\"model_lightgbm_time_cv_full_odds_removed.pkl\",\n",
    "    config_filepath=\"config_lightgbm_kaiki_odds_removed.yaml\"\n",
    ")"
   ]
  }
 ],
 "metadata": {
  "kernelspec": {
   "display_name": "Python 3 (ipykernel)",
   "language": "python",
   "name": "python3"
  },
  "language_info": {
   "codemirror_mode": {
    "name": "ipython",
    "version": 3
   },
   "file_extension": ".py",
   "mimetype": "text/x-python",
   "name": "python",
   "nbconvert_exporter": "python",
   "pygments_lexer": "ipython3",
   "version": "3.11.8"
  }
 },
 "nbformat": 4,
 "nbformat_minor": 5
}
